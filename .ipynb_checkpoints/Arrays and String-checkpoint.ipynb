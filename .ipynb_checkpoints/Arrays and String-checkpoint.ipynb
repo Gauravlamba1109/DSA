{
 "cells": [
  {
   "cell_type": "markdown",
   "metadata": {},
   "source": [
    "## 1. Implement an algorithm to determine if a string has all unique characters. What if you cannot use additional data structures?"
   ]
  },
  {
   "cell_type": "code",
   "execution_count": 14,
   "metadata": {},
   "outputs": [],
   "source": [
    "# Brute Force\n",
    "def find_unique_chars_bf(string):\n",
    "    for char_i in string:\n",
    "        for char_j in string:\n",
    "            if char_i == char_j:\n",
    "                return False\n",
    "    return True\n",
    "\n",
    "# Same as Brute Force\n",
    "def find_unique_chars_wo(string):\n",
    "    def find_char(string, char):\n",
    "        if char in string:\n",
    "            return True\n",
    "        return False\n",
    "    \n",
    "    for i, char in enumerate(string):\n",
    "        if find_char(string[i+1:], char):\n",
    "            return False\n",
    "    return True\n",
    "\n",
    "# Using Hash Tables\n",
    "def find_unique_chars(string):\n",
    "    char_dict = dict()\n",
    "    for char in string:\n",
    "        if char in char_dict:\n",
    "            return False\n",
    "        char_dict[char] = 1\n",
    "    return True\n",
    "        \n",
    "# By Sorting \n",
    "def find_unique_chars(string):\n",
    "    new_string = sorted(string)\n",
    "    prev = new_string[0]\n",
    "    for char in new_string[1:]:\n",
    "        if char == prev:\n",
    "            return False\n",
    "        prev = char\n",
    "    return True\n",
    "\n",
    "# Using Bit Manipulation"
   ]
  },
  {
   "cell_type": "markdown",
   "metadata": {},
   "source": [
    "## 2. Write a function rotate(ar[], d, n) that rotates arr[] of size n by d elements."
   ]
  },
  {
   "cell_type": "code",
   "execution_count": 36,
   "metadata": {},
   "outputs": [],
   "source": [
    "# Using Slices ----- Complexity = O(d)\n",
    "def rotate(arr, d):\n",
    "    return arr[d:] + arr[:d]\n",
    "\n",
    "# Single item rotation\n",
    "def rotate(arr, d):\n",
    "    for rotation_count in range(d):\n",
    "        temp = arr[0]\n",
    "        for index in range(len(arr) - 1):\n",
    "            arr[index] = arr[index+1]\n",
    "        arr[-1] = temp\n",
    "    return arr\n",
    "\n",
    "# Using GCD TODO\n",
    "def GCD(value_1, value_2):\n",
    "    for value in range(min(value_1, value_2), 1, -1):\n",
    "        if value_1 % value == 0 and value_2 % value == 0:\n",
    "            return value\n",
    "    return 1\n",
    "\n",
    "def rotate(arr, d):\n",
    "    n = len(arr)\n",
    "    gcd = GCD(n, d)\n",
    "    for g in range(gcd):\n",
    "        temp = arr[g]\n",
    "        for index in range(g, n - gcd, gcd):\n",
    "            arr[index] = arr[index + gcd]\n",
    "        arr[g - gcd] = temp\n",
    "    return arr\n",
    "\n",
    "# Using Reversal Algorithm\n",
    "def reverse(arr, start, end):\n",
    "    while start < end:\n",
    "        temp = arr[start]\n",
    "        arr[start] = arr[end]\n",
    "        arr[end] = temp\n",
    "        start += 1\n",
    "        end -= 1\n",
    "    return arr\n",
    "\n",
    "def rotate(arr, d):\n",
    "    if d == 0:\n",
    "        return arr\n",
    "    arr = reverse(arr, 0, d-1)\n",
    "    arr = reverse(arr, d, len(arr) - 1)\n",
    "    return reverse(arr, 0, len(arr) - 1)\n",
    "\n",
    "# Rotate Reverse\n",
    "def rotate(arr, d):\n",
    "    for rotation_count in range(d):\n",
    "        temp = arr[-1]\n",
    "        for index in range(len(arr) - 1, 0, -1):\n",
    "            arr[index] = arr[index - 1]\n",
    "        arr[0] = temp\n",
    "    return arr\n",
    "        "
   ]
  },
  {
   "cell_type": "code",
   "execution_count": 35,
   "metadata": {},
   "outputs": [
    {
     "data": {
      "text/plain": [
       "[3, 4, 5, 6, 1, 2]"
      ]
     },
     "execution_count": 35,
     "metadata": {},
     "output_type": "execute_result"
    }
   ],
   "source": [
    "rotate_gcd([1, 2, 3, 4, 5, 6], 2)"
   ]
  },
  {
   "cell_type": "code",
   "execution_count": 27,
   "metadata": {},
   "outputs": [
    {
     "name": "stdout",
     "output_type": "stream",
     "text": [
      "0\n",
      "2\n",
      "4\n",
      "6\n",
      "8\n"
     ]
    }
   ],
   "source": [
    "for i in range(0, 10, 2):\n",
    "    print(i)"
   ]
  },
  {
   "cell_type": "markdown",
   "metadata": {},
   "source": [
    "## 3. Search an element in a sorted and rotated array"
   ]
  },
  {
   "cell_type": "code",
   "execution_count": null,
   "metadata": {},
   "outputs": [],
   "source": [
    "def find_num_of_rotation(arr):\n",
    "    num_rotation = arr[0] - arr[-1]\n",
    "    return num_rotation if num_rotation > 0 else 0\n",
    "\n",
    "def search(arr, n):\n",
    "    num_rotation = find_num_of_rotation(arr)\n",
    "    slicing_num = len(arr) - num_rotation\n",
    "    arr = arr[slicing_num:] + arr[:slicing_num]\n",
    "    "
   ]
  }
 ],
 "metadata": {
  "kernelspec": {
   "display_name": "Python 3",
   "language": "python",
   "name": "python3"
  },
  "language_info": {
   "codemirror_mode": {
    "name": "ipython",
    "version": 3
   },
   "file_extension": ".py",
   "mimetype": "text/x-python",
   "name": "python",
   "nbconvert_exporter": "python",
   "pygments_lexer": "ipython3",
   "version": "3.8.5"
  }
 },
 "nbformat": 4,
 "nbformat_minor": 4
}
