{
 "cells": [
  {
   "cell_type": "markdown",
   "metadata": {},
   "source": [
    "# Dynamic Programming"
   ]
  },
  {
   "cell_type": "markdown",
   "metadata": {},
   "source": [
    "## 0/1 Knapsack\n",
    "\n",
    "Given weights and values of n items, put these items in a knapsack of capacity W to get the maximum total value in the knapsack. In other words, given two integer arrays val[0..n-1] and wt[0..n-1] which represent values and weights associated with n items respectively. Also given an integer W which represents knapsack capacity, find out the maximum value subset of val[] such that sum of the weights of this subset is smaller than or equal to W. You cannot break an item, either pick the complete item or don’t pick it (0-1 property).\n",
    "\n",
    "### Inputs"
   ]
  },
  {
   "cell_type": "code",
   "execution_count": 1,
   "metadata": {},
   "outputs": [],
   "source": [
    "wt = [1, 2, 3, 4, 5, 6]\n",
    "val = [6, 1, 9, 4, 2, 8]\n",
    "w = 7"
   ]
  },
  {
   "cell_type": "markdown",
   "metadata": {},
   "source": [
    "### Recursive Method"
   ]
  },
  {
   "cell_type": "code",
   "execution_count": 2,
   "metadata": {},
   "outputs": [
    {
     "data": {
      "text/plain": [
       "16"
      ]
     },
     "execution_count": 2,
     "metadata": {},
     "output_type": "execute_result"
    }
   ],
   "source": [
    "def recursive_01_knapsack(wt, val, w, n):\n",
    "    if n == 0 or w == 0:\n",
    "        return 0\n",
    "    \n",
    "    if wt[n-1] <= w:\n",
    "        taken = val[n-1] + recursive_01_knapsack(wt, val, w-wt[n-1], n-1)\n",
    "        not_taken = recursive_01_knapsack(wt, val, w, n-1)\n",
    "        return max(taken, not_taken)\n",
    "    else:\n",
    "        return recursive_01_knapsack(wt, val, w, n-1)\n",
    "\n",
    "\n",
    "recursive_01_knapsack(wt, val, w, len(wt))"
   ]
  },
  {
   "cell_type": "markdown",
   "metadata": {},
   "source": [
    "### Memomization Method"
   ]
  },
  {
   "cell_type": "code",
   "execution_count": 3,
   "metadata": {},
   "outputs": [],
   "source": [
    "t = [[-1 for _ in range(w+1)] for _ in range(len(wt)+1)]\n",
    "def memomization_01_knapsack(wt, val, w, n):\n",
    "    if n == 0 or w == 0:\n",
    "        return 0\n",
    "    \n",
    "    if t[n][w] != -1:\n",
    "        return t[n][w]\n",
    "    elif wt[n-1] <= w:\n",
    "        taken = val[n-1] + memomization_01_knapsack(wt, val, w-wt[n-1], n-1)\n",
    "        not_taken = memomization_01_knapsack(wt, val, w, n-1)\n",
    "        t[n][w] = max(taken, not_taken)\n",
    "    else:\n",
    "        t[n][w] = memomization_01_knapsack(wt, val, w, n-1)\n",
    "    \n",
    "    return t[n][w]"
   ]
  },
  {
   "cell_type": "code",
   "execution_count": 4,
   "metadata": {},
   "outputs": [
    {
     "data": {
      "text/plain": [
       "16"
      ]
     },
     "execution_count": 4,
     "metadata": {},
     "output_type": "execute_result"
    }
   ],
   "source": [
    "memomization_01_knapsack(wt, val, w, len(wt))"
   ]
  },
  {
   "cell_type": "markdown",
   "metadata": {},
   "source": [
    "### Top-Down Approach"
   ]
  },
  {
   "cell_type": "code",
   "execution_count": 5,
   "metadata": {},
   "outputs": [
    {
     "data": {
      "text/plain": [
       "16"
      ]
     },
     "execution_count": 5,
     "metadata": {},
     "output_type": "execute_result"
    }
   ],
   "source": [
    "def top_down_01_knapsack(wt, val, w, n):\n",
    "    t = [[-1 for _ in range(w+1)] for _ in range(n+1)]\n",
    "    for i in range(n+1):\n",
    "        for j in range(w+1):\n",
    "            if i == 0 or j == 0:\n",
    "                t[i][j] = 0\n",
    "            elif wt[i-1] <= j:\n",
    "                t[i][j] = max(val[i-1] + t[i-1][j - wt[i-1]], t[i-1][j])\n",
    "            else:\n",
    "                t[i][j] = t[i-1][j]\n",
    "    \n",
    "    return t[n][w]\n",
    "\n",
    "top_down_01_knapsack(wt, val, w, len(wt))"
   ]
  },
  {
   "cell_type": "markdown",
   "metadata": {},
   "source": [
    "### Subset Sum Problem\n",
    "\n",
    "Given a set of non-negative integers, and a value sum, determine if there is a subset of the given set with sum equal to given sum.\n",
    "\n",
    "#### Input / Output\n",
    "\n",
    "Input:arr = [3, 34, 4, 12, 5, 2], s = 9\n",
    "\n",
    "Output: True\n",
    "\n",
    "There is a subset (4, 5) with sum 9."
   ]
  },
  {
   "cell_type": "code",
   "execution_count": 6,
   "metadata": {},
   "outputs": [
    {
     "data": {
      "text/plain": [
       "True"
      ]
     },
     "execution_count": 6,
     "metadata": {},
     "output_type": "execute_result"
    }
   ],
   "source": [
    "def subset_sum_problem(arr, s):\n",
    "    n = len(arr)\n",
    "    t = [[False for _ in range(s+1)] for _ in range(n+1)]\n",
    "    \n",
    "    for i in range(n+1):\n",
    "        for j in range(s+1):\n",
    "            if i == 0:\n",
    "                t[i][j] = False\n",
    "                t[0][0] = False\n",
    "            if j == 0:\n",
    "                t[i][j] = True\n",
    "            elif arr[i-1] <= j:\n",
    "                t[i][j] = t[i-1][j-arr[i-1]] or t[i-1][j]\n",
    "            else:\n",
    "                t[i][j] = t[i-1][j]\n",
    "    return t[i][j]\n",
    "\n",
    "subset_sum_problem([3, 34, 4, 12, 5, 2], 9)"
   ]
  },
  {
   "cell_type": "markdown",
   "metadata": {},
   "source": [
    "### Equal Sum Partition\n",
    "\n",
    "Partition problem is to determine whether a given set can be partitioned into two subsets such that the sum of elements in both subsets is the same. \n",
    "\n",
    "#### Input/Output\n",
    "\n",
    "arr[] = {1, 5, 11, 5}\n",
    "\n",
    "Output: true \n",
    "\n",
    "The array can be partitioned as {1, 5, 5} and {11}"
   ]
  },
  {
   "cell_type": "code",
   "execution_count": 7,
   "metadata": {},
   "outputs": [
    {
     "data": {
      "text/plain": [
       "True"
      ]
     },
     "execution_count": 7,
     "metadata": {},
     "output_type": "execute_result"
    }
   ],
   "source": [
    "def equal_sum_partition(arr):\n",
    "    sum_arr = sum(arr)\n",
    "    if sum_arr % 2 != 0:\n",
    "        return False\n",
    "    else:\n",
    "        s = sum_arr // 2\n",
    "        n = len(arr)\n",
    "        t = [[False for _ in range(s+1)] for _ in range(n+1)]\n",
    "        for i in range(n+1):\n",
    "            for j in range(s+1):\n",
    "                if i == 0:\n",
    "                    t[i][j] = False\n",
    "                    t[0][0] = True\n",
    "                elif j == 0:\n",
    "                    t[i][j] = True\n",
    "                    \n",
    "                elif arr[i-1] <= j:\n",
    "                    t[i][j] = t[i-1][j-arr[i-1]] or t[i-1][j]\n",
    "                else:\n",
    "                    t[i][j] = t[i-1][j]\n",
    "    \n",
    "        return t[n][s]\n",
    "    \n",
    "equal_sum_partition([1, 5, 11, 5])"
   ]
  },
  {
   "cell_type": "markdown",
   "metadata": {},
   "source": [
    "### Count of Subsets of a given Sum\n",
    "\n",
    "Number of subsets in a given array whose sum is equal to given value of sum.\n",
    "\n",
    "#### Input/Output\n",
    "\n",
    "Input : arr[] : [2, 3, 5, 6, 8, 10], s = 10\n",
    "\n",
    "Output : 3\n",
    "\n",
    "Explanation : Three subsets [2, 3, 5], [2, 8], [10] exists whose sum is equal to s."
   ]
  },
  {
   "cell_type": "code",
   "execution_count": 8,
   "metadata": {},
   "outputs": [
    {
     "data": {
      "text/plain": [
       "3"
      ]
     },
     "execution_count": 8,
     "metadata": {},
     "output_type": "execute_result"
    }
   ],
   "source": [
    "def count_of_subsets_of_given_sum(arr, s):\n",
    "    n = len(arr)\n",
    "    t = [[-1 for _ in range(s+1)] for _ in range(n+1)]\n",
    "    \n",
    "    for i in range(n+1):\n",
    "        for j in range(s+1):\n",
    "            if i == 0:\n",
    "                t[i][j] = 0\n",
    "                t[0][0] = 1\n",
    "            elif j == 0:\n",
    "                t[i][j] = 1\n",
    "            elif arr[i-1] <= j:\n",
    "                t[i][j] = t[i-1][j-arr[i-1]] + t[i-1][j]\n",
    "            else:\n",
    "                t[i][j] = t[i-1][j]\n",
    "    \n",
    "    return t[n][s]\n",
    "\n",
    "count_of_subsets_of_given_sum([2, 3, 5, 6, 8, 10], 10)"
   ]
  },
  {
   "cell_type": "markdown",
   "metadata": {},
   "source": [
    "### Minimum Subset Sum Difference\n",
    "\n",
    "Given a set of integers, the task is to divide it into two sets S1 and S2 such that the absolute difference between their sums is minimum. \n",
    "\n",
    "If there is a set S with n elements, then if we assume Subset1 has m elements, Subset2 must have n-m elements and the value of abs(sum(Subset1) – sum(Subset2)) should be minimum.\n",
    "\n",
    "#### Input/Output\n",
    "\n",
    "Input:  arr[] = {1, 6, 11, 5} \n",
    "\n",
    "Output: 1\n",
    "\n",
    "Explanation:\n",
    "\n",
    "Subset1 = {1, 5, 6}, sum of Subset1 = 12 \n",
    "\n",
    "Subset2 = {11}, sum of Subset2 = 11    "
   ]
  },
  {
   "cell_type": "code",
   "execution_count": 9,
   "metadata": {},
   "outputs": [
    {
     "data": {
      "text/plain": [
       "1"
      ]
     },
     "execution_count": 9,
     "metadata": {},
     "output_type": "execute_result"
    }
   ],
   "source": [
    "def subset_sum(arr, s):\n",
    "    n = len(arr)\n",
    "    t = [[False for _ in range(s+1)] for _ in range(n+1)]\n",
    "    \n",
    "    for i in range(n+1):\n",
    "        for j in range(s+1):\n",
    "            if i == 0:\n",
    "                t[i][j] = False\n",
    "                t[0][0] = True\n",
    "            elif j == 0:\n",
    "                t[i][j] = True\n",
    "            elif arr[i-1] <= j:\n",
    "                t[i][j] = t[i-1][j-arr[i-1]] or t[i-1][j]\n",
    "            else:\n",
    "                t[i][j] = t[i-1][j]\n",
    "    \n",
    "    return [i for i in range((s+1) // 2) if t[-1][i]]\n",
    "\n",
    "def minimum_subset_sum_difference(arr):\n",
    "    s = sum(arr)\n",
    "    v = subset_sum(arr, s)\n",
    "    mn = 999\n",
    "    \n",
    "    for i in v:\n",
    "        mn = min(mn, s - 2*i)\n",
    "    return mn\n",
    "\n",
    "minimum_subset_sum_difference([1, 5, 6, 11])"
   ]
  },
  {
   "cell_type": "code",
   "execution_count": null,
   "metadata": {},
   "outputs": [],
   "source": []
  },
  {
   "cell_type": "code",
   "execution_count": 10,
   "metadata": {},
   "outputs": [],
   "source": [
    "# Count the number of subset with a given difference\n",
    "\n",
    "def count_subset_sum(arr, s):\n",
    "    n = len(arr)\n",
    "    t = [[0 for _ in range(s + 1)] for _ in range(n + 1)]\n",
    "    \n",
    "    for i in range(n+1):\n",
    "        for j in range(s+1):\n",
    "            if i == 0:\n",
    "                t[i][j] = 0\n",
    "                t[0][0] = 1\n",
    "            elif j == 0:\n",
    "                t[i][j] = 1\n",
    "            elif arr[i-1] <= j:\n",
    "                t[i][j] = t[i-1][j-arr[i-1]] + t[i-1][j]\n",
    "            else:\n",
    "                t[i][j] = t[i-1][j]\n",
    "    \n",
    "    return t[n][s]\n",
    "\n",
    "def num_subset_given_diff(arr, diff):\n",
    "    s_arr = sum(arr)\n",
    "    sum_subset1 = (s_arr + diff) // 2\n",
    "    \n",
    "    count = count_subset_sum(arr, sum_subset1)\n",
    "    \n",
    "    return count"
   ]
  },
  {
   "cell_type": "code",
   "execution_count": 11,
   "metadata": {},
   "outputs": [
    {
     "data": {
      "text/plain": [
       "3"
      ]
     },
     "execution_count": 11,
     "metadata": {},
     "output_type": "execute_result"
    }
   ],
   "source": [
    "num_subset_given_diff([1, 1, 2, 3], 1)"
   ]
  },
  {
   "cell_type": "code",
   "execution_count": 12,
   "metadata": {},
   "outputs": [],
   "source": [
    "# Target Sum (same as num_subset_given_diff)\n",
    "def target_sum(arr, s):\n",
    "    return num_subset_given_diff(arr, s)"
   ]
  },
  {
   "cell_type": "code",
   "execution_count": 13,
   "metadata": {},
   "outputs": [
    {
     "data": {
      "text/plain": [
       "3"
      ]
     },
     "execution_count": 13,
     "metadata": {},
     "output_type": "execute_result"
    }
   ],
   "source": [
    "target_sum([1, 1, 2, 3], 1)"
   ]
  },
  {
   "cell_type": "code",
   "execution_count": 14,
   "metadata": {},
   "outputs": [],
   "source": [
    "# Unbounded Knapsack\n",
    "def unbounded_knapsack(wt,  val, w):\n",
    "    n = len(wt)\n",
    "    t = [[0 for _ in range(w+1)] for _ in range(n+1)]\n",
    "    \n",
    "    for i in range(n+1):\n",
    "        for j in range(w+1):\n",
    "            if i == 0 or j == 0:\n",
    "                t[i][j] = 0\n",
    "            if wt[i-1] <= j:\n",
    "                t[i][j] = max(val[i-1] + t[i][j-wt[i-1]], t[i-1][j])\n",
    "            else:\n",
    "                t[i][j] = t[i-1][j]\n",
    "                \n",
    "    return t[n][w]"
   ]
  },
  {
   "cell_type": "code",
   "execution_count": 15,
   "metadata": {},
   "outputs": [
    {
     "data": {
      "text/plain": [
       "42"
      ]
     },
     "execution_count": 15,
     "metadata": {},
     "output_type": "execute_result"
    }
   ],
   "source": [
    "unbounded_knapsack(wt, val, w)"
   ]
  },
  {
   "cell_type": "code",
   "execution_count": 16,
   "metadata": {},
   "outputs": [],
   "source": [
    "# Rod Cutting Problem\n",
    "def rod_cutting_problem(length, price, max_len):\n",
    "    n = len(length)\n",
    "    t = [[0 for _ in range(max_len+1)] for _ in range(n + 1)]\n",
    "    \n",
    "    for i in range(n+1):\n",
    "        for j in range(max_len+1):\n",
    "            if i == 0 or j == 0:\n",
    "                t[i][j] = 0\n",
    "            elif length[i-1] <= j:\n",
    "                t[i][j] = max(price[i-1] + t[i][j - length[i-1]], t[i-1][j])\n",
    "            else:\n",
    "                t[i][j] = t[i-1][j]\n",
    "                \n",
    "    return t[n][max_len]"
   ]
  },
  {
   "cell_type": "code",
   "execution_count": 17,
   "metadata": {},
   "outputs": [
    {
     "data": {
      "text/plain": [
       "22"
      ]
     },
     "execution_count": 17,
     "metadata": {},
     "output_type": "execute_result"
    }
   ],
   "source": [
    "rod_cutting_problem([1, 2, 3, 4, 5, 6, 7, 8], [1, 5, 8, 9, 10, 17, 17, 20], 8)"
   ]
  },
  {
   "cell_type": "code",
   "execution_count": 18,
   "metadata": {},
   "outputs": [],
   "source": [
    "# Coin change problem : Maximum number of ways\n",
    "def coin_change_1(coins, s):\n",
    "    n = len(coins)\n",
    "    t = [[0 for _ in range(s + 1)] for _ in range(n+1)]\n",
    "    \n",
    "    for i in range(n+1):\n",
    "        for j in range(s+1):\n",
    "            if j == 0:\n",
    "                t[i][j] = 1\n",
    "                t[0][0] = 0\n",
    "            elif coins[i-1] <= j:\n",
    "                t[i][j] = t[i][j-coins[i-1]] + t[i-1][j]\n",
    "            else:\n",
    "                t[i][j] = t[i-1][j]\n",
    "    \n",
    "    return t[n][s]"
   ]
  },
  {
   "cell_type": "code",
   "execution_count": 19,
   "metadata": {},
   "outputs": [
    {
     "data": {
      "text/plain": [
       "7"
      ]
     },
     "execution_count": 19,
     "metadata": {},
     "output_type": "execute_result"
    }
   ],
   "source": [
    "coin_change_1([1, 3, 5], 10)"
   ]
  },
  {
   "cell_type": "code",
   "execution_count": 20,
   "metadata": {},
   "outputs": [],
   "source": [
    "import math\n",
    "# Coin change problem : Minimum number of coins\n",
    "def coin_change_2(coins, s):\n",
    "    n = len(coins)\n",
    "    t = [[-1 for _ in range(s+1)] for _ in range(n+1)]\n",
    "    \n",
    "    for i in range(n+1):\n",
    "        for j in range(s+1):\n",
    "            if i == 0:\n",
    "                t[i][j] = math.inf\n",
    "            elif j == 0:\n",
    "                t[i][j] = 0\n",
    "            elif i == 1:\n",
    "                if j%coins[i-1]==0:\n",
    "                    t[i][j] = j // coins[i-1]\n",
    "                else:\n",
    "                    t[i][j] = math.inf\n",
    "            elif coins[i-1] <= j:\n",
    "                t[i][j] = min(1+t[i][j-coins[i-1]], t[i-1][j])\n",
    "            else:\n",
    "                t[i][j] = t[i-1][j]\n",
    "    \n",
    "    return t[n][s]"
   ]
  },
  {
   "cell_type": "code",
   "execution_count": 21,
   "metadata": {},
   "outputs": [
    {
     "data": {
      "text/plain": [
       "2"
      ]
     },
     "execution_count": 21,
     "metadata": {},
     "output_type": "execute_result"
    }
   ],
   "source": [
    "coin_change_2([1, 2, 3], 5)"
   ]
  },
  {
   "cell_type": "code",
   "execution_count": 22,
   "metadata": {},
   "outputs": [],
   "source": [
    "# Longest common subsequence\n",
    "X,Y = 'abcdgh', 'abcdfghr'\n",
    "lenX, lenY = len(X), len(Y)"
   ]
  },
  {
   "cell_type": "code",
   "execution_count": 23,
   "metadata": {},
   "outputs": [],
   "source": [
    "# Recursion\n",
    "def longest_common_subsequence_rec(X, Y, lenX, lenY):\n",
    "    if lenX == 0 or lenY == 0:\n",
    "        return 0\n",
    "    elif X[lenX-1] == Y[lenY-1]:\n",
    "        return 1 + longest_common_subsequence_rec(X, Y, lenX-1, lenY-1)\n",
    "    else:\n",
    "        return max(longest_common_subsequence_rec(X, Y, lenX-1, lenY), \n",
    "                   longest_common_subsequence_rec(X, Y, lenX, lenY-1))"
   ]
  },
  {
   "cell_type": "code",
   "execution_count": 24,
   "metadata": {},
   "outputs": [
    {
     "data": {
      "text/plain": [
       "6"
      ]
     },
     "execution_count": 24,
     "metadata": {},
     "output_type": "execute_result"
    }
   ],
   "source": [
    "longest_common_subsequence_rec(X, Y, lenX, lenY)"
   ]
  },
  {
   "cell_type": "code",
   "execution_count": 25,
   "metadata": {},
   "outputs": [],
   "source": [
    "# Memomization\n",
    "t = [[-1 for _ in range(lenY+1)] for _ in range(lenX+1)]\n",
    "def longest_common_subsequence_memo(X, Y, lenX, lenY):\n",
    "    if lenX == 0 or lenY == 0:\n",
    "        t[lenX][lenY] = 0\n",
    "    if t[lenX][lenY] != -1:\n",
    "        pass\n",
    "    elif X[lenX-1] == Y[lenY-1]:\n",
    "        t[lenX][lenY] = 1 + longest_common_subsequence_memo(X, Y, lenX-1, lenY-1)\n",
    "    else:\n",
    "        t[lenX][lenY] = max(longest_common_subsequence_memo(X, Y, lenX-1, lenY),\n",
    "                            longest_common_subsequence_memo(X, Y, lenX, lenY-1))\n",
    "    \n",
    "    return t[lenX][lenY]"
   ]
  },
  {
   "cell_type": "code",
   "execution_count": 26,
   "metadata": {},
   "outputs": [
    {
     "data": {
      "text/plain": [
       "6"
      ]
     },
     "execution_count": 26,
     "metadata": {},
     "output_type": "execute_result"
    }
   ],
   "source": [
    "longest_common_subsequence_memo(X, Y, lenX, lenY)"
   ]
  },
  {
   "cell_type": "code",
   "execution_count": 27,
   "metadata": {},
   "outputs": [],
   "source": [
    "# Top Down\n",
    "def longest_common_subsequence_top_down(X, Y, lenX, lenY):\n",
    "    t = [[-1 for _ in range(lenY+1)] for _ in range(lenX+1)]\n",
    "    \n",
    "    for i in range(lenX+1):\n",
    "        for j in range(lenY+1):\n",
    "            if i == 0 or j == 0:\n",
    "                t[i][j] = 0\n",
    "            elif X[i-1] == Y[j-1]:\n",
    "                t[i][j] = 1 + t[i-1][j-1]\n",
    "            else:\n",
    "                t[i][j] = max(t[i-1][j], t[i][j-1])\n",
    "    \n",
    "    return t[lenX][lenY]"
   ]
  },
  {
   "cell_type": "code",
   "execution_count": 28,
   "metadata": {},
   "outputs": [
    {
     "data": {
      "text/plain": [
       "6"
      ]
     },
     "execution_count": 28,
     "metadata": {},
     "output_type": "execute_result"
    }
   ],
   "source": [
    "longest_common_subsequence_top_down(X, Y, lenX, lenY)"
   ]
  },
  {
   "cell_type": "code",
   "execution_count": 29,
   "metadata": {},
   "outputs": [],
   "source": [
    "# Longest Common Substring\n",
    "def longest_common_substring(X, Y, lenX, lenY):\n",
    "    t = [[-1 for _ in range(lenY+1)] for _ in range(lenX+1)]\n",
    "    longest_common = 0\n",
    "    \n",
    "    for i in range(lenX+1):\n",
    "        for j in range(lenY+1):\n",
    "            if i == 0 or j == 0:\n",
    "                t[i][j] = 0\n",
    "            elif X[i-1] == Y[j-1]:\n",
    "                t[i][j] = 1 + t[i-1][j-1]\n",
    "                if t[i][j] > longest_common:\n",
    "                    longest_common = t[i][j]\n",
    "            else:\n",
    "                t[i][j] = 0\n",
    "    \n",
    "    return longest_common"
   ]
  },
  {
   "cell_type": "code",
   "execution_count": 30,
   "metadata": {},
   "outputs": [
    {
     "data": {
      "text/plain": [
       "4"
      ]
     },
     "execution_count": 30,
     "metadata": {},
     "output_type": "execute_result"
    }
   ],
   "source": [
    "longest_common_substring(X, Y, lenX, lenY)"
   ]
  },
  {
   "cell_type": "code",
   "execution_count": 31,
   "metadata": {},
   "outputs": [],
   "source": [
    "# Print Longest Common subsequence\n",
    "def print_longest_common_subsequence(X, Y, lenX, lenY):\n",
    "    t = [[-1 for _ in range(lenY+1)] for _ in range(lenX+1)]\n",
    "    \n",
    "    for i in range(lenX+1):\n",
    "        for j in range(lenY+1):\n",
    "            if i == 0 or j == 0:\n",
    "                t[i][j] = 0\n",
    "            if X[i-1] == Y[j-1]:\n",
    "                t[i][j] = 1 + t[i-1][j-1]\n",
    "            else:\n",
    "                t[i][j] = max(t[i][j-1], t[i-1][j])\n",
    "    \n",
    "    i = lenX\n",
    "    j = lenY \n",
    "    longest_common = ''\n",
    "    while i != 0 or j != 0:\n",
    "        if X[i-1] == Y[j-1]:\n",
    "            longest_common = X[i-1] + longest_common\n",
    "            i -= 1\n",
    "            j -= 1\n",
    "        else:\n",
    "            if t[i][j-1] > t[i-1][j]:\n",
    "                j -= 1\n",
    "            else:\n",
    "                i -= 1\n",
    "                \n",
    "    return longest_common"
   ]
  },
  {
   "cell_type": "code",
   "execution_count": 32,
   "metadata": {},
   "outputs": [
    {
     "data": {
      "text/plain": [
       "'abcdgh'"
      ]
     },
     "execution_count": 32,
     "metadata": {},
     "output_type": "execute_result"
    }
   ],
   "source": [
    "print_longest_common_subsequence(X, Y, lenX, lenY)"
   ]
  },
  {
   "cell_type": "code",
   "execution_count": 33,
   "metadata": {},
   "outputs": [],
   "source": [
    "# Print Longest common substring\n",
    "def print_longest_common_substring(X, Y, lenX, lenY):\n",
    "    t = [[-1 for _ in range(lenY+1)] for _ in range(lenX+1)]\n",
    "    longest_common = ''\n",
    "    \n",
    "    for i in range(lenX+1):\n",
    "        for j in range(lenY+1):\n",
    "            if  i == 0 or j == 0:\n",
    "                t[i][j] = ''\n",
    "            elif X[i-1] == Y[j-1]:\n",
    "                t[i][j] = t[i-1][j-1] + X[i-1]\n",
    "                \n",
    "                if len(t[i][j]) > len(longest_common):\n",
    "                    longest_common = t[i][j]\n",
    "            else:\n",
    "                t[i][j] = ''\n",
    "        \n",
    "    return longest_common"
   ]
  },
  {
   "cell_type": "code",
   "execution_count": 34,
   "metadata": {},
   "outputs": [
    {
     "data": {
      "text/plain": [
       "'abcd'"
      ]
     },
     "execution_count": 34,
     "metadata": {},
     "output_type": "execute_result"
    }
   ],
   "source": [
    "print_longest_common_substring(X, Y, lenX, lenY)"
   ]
  },
  {
   "cell_type": "code",
   "execution_count": 35,
   "metadata": {},
   "outputs": [],
   "source": [
    "# Shortest Common SuperSubsequence\n",
    "def shortest_common_super_subsequence(X, Y, lenX, lenY):\n",
    "    t = [[-1 for _ in range(lenY+1)] for _ in range(lenX+1)]\n",
    "    \n",
    "    longest_common = -1\n",
    "    \n",
    "    for i in range(lenX+1):\n",
    "        for j in range(lenY+1):\n",
    "            if i == 0 or j == 0:\n",
    "                t[i][j] = 0\n",
    "            elif X[i-1] == Y[i-1]:\n",
    "                t[i][j] = 1 + t[i-1][j-1]\n",
    "                if longest_common < t[i][j]:\n",
    "                    longest_common = t[i][j]\n",
    "            else:\n",
    "                t[i][j] = 0\n",
    "    \n",
    "    return lenX + lenY - longest_common"
   ]
  },
  {
   "cell_type": "code",
   "execution_count": 36,
   "metadata": {},
   "outputs": [
    {
     "data": {
      "text/plain": [
       "10"
      ]
     },
     "execution_count": 36,
     "metadata": {},
     "output_type": "execute_result"
    }
   ],
   "source": [
    "shortest_common_super_subsequence(X, Y, lenX, lenY)"
   ]
  },
  {
   "cell_type": "code",
   "execution_count": 37,
   "metadata": {},
   "outputs": [],
   "source": [
    "# Minimum number of insertion and deletion to convert a string X to Y\n",
    "def min_insrt_del(X, Y, lenX, lenY):\n",
    "    t = [[-1 for _ in range(lenY+1)] for _ in range (lenX+1)]\n",
    "\n",
    "    num_insrt = 0\n",
    "    num_del = 0\n",
    "    \n",
    "    longest_common = 0\n",
    "    \n",
    "    for i in range(lenX+1):\n",
    "        for j in range(lenY+1):\n",
    "            if i == 0 or j == 0:\n",
    "                t[i][j] = 0\n",
    "            elif X[i-1] == Y[j-1]:\n",
    "                t[i][j] = 1 + t[i-1][j-1]\n",
    "                if t[i][j] > longest_common:\n",
    "                    longest_common = t[i][j]\n",
    "            else:\n",
    "                t[i][j] = max(t[i][j-1], t[i-1][j])\n",
    "                \n",
    "    num_del = lenX - longest_common\n",
    "    num_insrt = lenY - longest_common\n",
    "    \n",
    "    return num_del, num_insrt"
   ]
  },
  {
   "cell_type": "code",
   "execution_count": 38,
   "metadata": {},
   "outputs": [
    {
     "data": {
      "text/plain": [
       "(0, 2)"
      ]
     },
     "execution_count": 38,
     "metadata": {},
     "output_type": "execute_result"
    }
   ],
   "source": [
    "min_insrt_del(X, Y, lenX, lenY)"
   ]
  },
  {
   "cell_type": "code",
   "execution_count": 39,
   "metadata": {},
   "outputs": [],
   "source": [
    "# Longest Palindromic Subsequence\n",
    "def longest_palindromic_subsequence(string):\n",
    "    n = len(string)\n",
    "    rev_string = string[::-1]\n",
    "    t = [[-1 for _ in range(n+1)] for _ in range(n+1)]\n",
    "    \n",
    "    longest_palindromic = 0\n",
    "    \n",
    "    for i in range(n+1):\n",
    "        for j in range(n+1):\n",
    "            if i == 0 or j == 0:\n",
    "                t[i][j] = 0\n",
    "            elif string[i-1] == rev_string[j-1]:\n",
    "                t[i][j] = 1 + t[i-1][j-1]\n",
    "                if t[i][j] > longest_palindromic:\n",
    "                    longest_palindromic = t[i][j]\n",
    "            else:\n",
    "                t[i][j] = max(t[i-1][j], t[i][j-1])                \n",
    "    \n",
    "    return longest_palindromic"
   ]
  },
  {
   "cell_type": "code",
   "execution_count": 40,
   "metadata": {},
   "outputs": [
    {
     "data": {
      "text/plain": [
       "5"
      ]
     },
     "execution_count": 40,
     "metadata": {},
     "output_type": "execute_result"
    }
   ],
   "source": [
    "longest_palindromic_subsequence('agbcba')"
   ]
  },
  {
   "cell_type": "code",
   "execution_count": 41,
   "metadata": {},
   "outputs": [],
   "source": [
    "# Minimum number of deletion to make a string palindrome\n",
    "def min_del_to_palindrome(string):\n",
    "    n = len(string)\n",
    "    rev_string = string[::-1]\n",
    "    \n",
    "    t = [[-1 for _ in range(n+1)] for _ in range(n+1)]\n",
    "    \n",
    "    longest_common = 0\n",
    "    \n",
    "    for i in range(n+1):\n",
    "        for j in range(n+1):\n",
    "            if i == 0 or j == 0:\n",
    "                t[i][j] = 0\n",
    "            elif string[i-1] == rev_string[j-1]:\n",
    "                t[i][j] = 1 + t[i-1][j-1]\n",
    "                if t[i][j] > longest_common:\n",
    "                    longest_common = t[i][j]\n",
    "                    \n",
    "            else:\n",
    "                t[i][j] = max(t[i-1][j], t[i][j-1])\n",
    "    \n",
    "    return n - longest_common"
   ]
  },
  {
   "cell_type": "code",
   "execution_count": 42,
   "metadata": {},
   "outputs": [
    {
     "data": {
      "text/plain": [
       "1"
      ]
     },
     "execution_count": 42,
     "metadata": {},
     "output_type": "execute_result"
    }
   ],
   "source": [
    "min_del_to_palindrome('agbcba')"
   ]
  },
  {
   "cell_type": "code",
   "execution_count": 43,
   "metadata": {},
   "outputs": [],
   "source": [
    "# Print Shortest Common SuperSequence\n",
    "def print_shortest_super_sequence(X, Y, lenX, lenY):\n",
    "    t = [[-1 for _ in range(lenY+1)] for _ in range(lenX+1)]\n",
    "    \n",
    "    result = ''\n",
    "    \n",
    "    for i in range(lenX+1):\n",
    "        for j in range(lenY+1):\n",
    "            if i == 0 or j == 0:\n",
    "                t[i][j] = 0\n",
    "            elif X[i-1] == Y[j-1]:\n",
    "                t[i][j] = 1 + t[i-1][j-1]\n",
    "            else:\n",
    "                t[i][j] = max(t[i-1][j], t[i][j-1])\n",
    "    \n",
    "    i = lenX\n",
    "    j = lenY\n",
    "    \n",
    "    while i != 0 or j != 0:\n",
    "        if X[i-1] == Y[j-1]:\n",
    "            result = X[i-1] + result\n",
    "            i -= 1\n",
    "            j -= 1\n",
    "        elif t[i][j-1] > t[i-1][j]:\n",
    "            result = Y[j-1] + result\n",
    "            j -= 1\n",
    "        else:\n",
    "            result = X[i-1] + result\n",
    "            i -= 1\n",
    "\n",
    "    return result"
   ]
  },
  {
   "cell_type": "code",
   "execution_count": 44,
   "metadata": {},
   "outputs": [
    {
     "data": {
      "text/plain": [
       "'acbcdaf'"
      ]
     },
     "execution_count": 44,
     "metadata": {},
     "output_type": "execute_result"
    }
   ],
   "source": [
    "print_shortest_super_sequence('acbcf', 'abcdaf', 5, 6)"
   ]
  },
  {
   "cell_type": "code",
   "execution_count": 45,
   "metadata": {},
   "outputs": [],
   "source": [
    "# Longest Repeating SubSequence\n",
    "def longest_repeating_subsequence(string):\n",
    "    n = len(string)\n",
    "    \n",
    "    t = [[-1 for _ in range(n+1)] for _ in range(n+1)]\n",
    "    \n",
    "    result = ''\n",
    "    \n",
    "    for i in range(n+1):\n",
    "        for j in range(n+1):\n",
    "            if i == 0 or j == 0:\n",
    "                t[i][j] = 0\n",
    "            elif string[i-1] == string[j-1] and i != j:\n",
    "                t[i][j] = 1 + t[i-1][j-1]\n",
    "                if string[i-1] not in result:\n",
    "                    result = result + string[i-1]\n",
    "            else:\n",
    "                t[i][j] = max(t[i-1][j], t[i][j-1])\n",
    "    \n",
    "    return result, t[n][n]"
   ]
  },
  {
   "cell_type": "code",
   "execution_count": 46,
   "metadata": {},
   "outputs": [
    {
     "data": {
      "text/plain": [
       "('ABD', 3)"
      ]
     },
     "execution_count": 46,
     "metadata": {},
     "output_type": "execute_result"
    }
   ],
   "source": [
    "longest_repeating_subsequence('AABEBCDD')"
   ]
  },
  {
   "cell_type": "code",
   "execution_count": 47,
   "metadata": {},
   "outputs": [],
   "source": [
    "# Sequence Pattern Matching\n",
    "def sequence_pattern_matching(a, b):\n",
    "    len_a = len(a)\n",
    "    len_b = len(b)\n",
    "\n",
    "    t = [[-1 for _ in range(len_b+1)] for _ in range(len_a+1)]\n",
    "    \n",
    "    for i in range(len_a+1):\n",
    "        for j in range(len_b+1):\n",
    "            if i == 0 or j == 0:\n",
    "                t[i][j] = 0\n",
    "            elif a[i-1] == b[j-1]:\n",
    "                t[i][j] = 1 + t[i-1][j-1]\n",
    "            else:\n",
    "                t[i][j] = max(t[i-1][j], t[i][j-1])\n",
    "                \n",
    "    return t[len_a][len_b] == len_a or t[len_a][len_b] == len_b"
   ]
  },
  {
   "cell_type": "code",
   "execution_count": 48,
   "metadata": {},
   "outputs": [
    {
     "data": {
      "text/plain": [
       "True"
      ]
     },
     "execution_count": 48,
     "metadata": {},
     "output_type": "execute_result"
    }
   ],
   "source": [
    "sequence_pattern_matching('AXY', 'ADXCPY')"
   ]
  },
  {
   "cell_type": "code",
   "execution_count": 49,
   "metadata": {},
   "outputs": [],
   "source": [
    "# Minimum number of insertion to make a string palindrome\n",
    "# number of insertion == number of deletion\n",
    "def min_insrt_palindrome(string):\n",
    "    n = len(string)\n",
    "    rev_string = string[::-1]\n",
    "    \n",
    "    t = [[-1 for _ in range(n+1)] for _ in range(n+1)]\n",
    "    \n",
    "    for i in range(n+1):\n",
    "        for j in range(n+1):\n",
    "            if i == 0 or j == 0:\n",
    "                t[i][j] = 0\n",
    "            elif string[i-1] == rev_string[j-1]:\n",
    "                t[i][j] = 1 + t[i-1][j-1]\n",
    "            else:\n",
    "                t[i][j] = max(t[i-1][j], t[i][j-1])\n",
    "                \n",
    "    return n - t[n][n]"
   ]
  },
  {
   "cell_type": "code",
   "execution_count": 50,
   "metadata": {},
   "outputs": [
    {
     "data": {
      "text/plain": [
       "2"
      ]
     },
     "execution_count": 50,
     "metadata": {},
     "output_type": "execute_result"
    }
   ],
   "source": [
    "min_insrt_palindrome('aebcbda')"
   ]
  },
  {
   "cell_type": "code",
   "execution_count": 51,
   "metadata": {},
   "outputs": [],
   "source": [
    "# Matrix Chain Multiplication\n",
    "import math\n",
    "\n",
    "def matrix_chain_multiplication(arr, i ,j):\n",
    "    if i >= j:\n",
    "        return 0\n",
    "    \n",
    "    ans = math.inf\n",
    "\n",
    "    for k in range(i, j):\n",
    "        before = matrix_chain_multiplication(arr, i, k)\n",
    "        after = matrix_chain_multiplication(arr, k+1, j)\n",
    "        temp = before + after + arr[i-1] * arr[k] * arr[j]\n",
    "        if temp < ans:\n",
    "            ans = temp\n",
    "    \n",
    "    return ans        "
   ]
  },
  {
   "cell_type": "code",
   "execution_count": 52,
   "metadata": {},
   "outputs": [
    {
     "data": {
      "text/plain": [
       "26000"
      ]
     },
     "execution_count": 52,
     "metadata": {},
     "output_type": "execute_result"
    }
   ],
   "source": [
    "arr = [40, 20, 30, 10, 30]\n",
    "n = len(arr)\n",
    "matrix_chain_multiplication(arr, 1, n-1)"
   ]
  },
  {
   "cell_type": "code",
   "execution_count": 53,
   "metadata": {},
   "outputs": [],
   "source": [
    "# Matrix Chain Multiplication Memomization\n",
    "t = [[-1 for _ in range(n)] for _ in range(n)]\n",
    "\n",
    "def matrix_chain_multiplication_memo(arr, i, j):\n",
    "    if i >= j:\n",
    "        return 0\n",
    "    if t[i][j] != -1:\n",
    "        return t[i][j]\n",
    "    \n",
    "    temp = math.inf\n",
    "    for k in range(i, j):\n",
    "        before = matrix_chain_multiplication_memo(arr, i, k)\n",
    "        after = matrix_chain_multiplication_memo(arr, k+1, j)\n",
    "        temp = min(temp, before+after+arr[i-1]*arr[k]*arr[j])\n",
    "    \n",
    "    t[i][j] = temp\n",
    "    return temp"
   ]
  },
  {
   "cell_type": "code",
   "execution_count": 54,
   "metadata": {},
   "outputs": [
    {
     "data": {
      "text/plain": [
       "26000"
      ]
     },
     "execution_count": 54,
     "metadata": {},
     "output_type": "execute_result"
    }
   ],
   "source": [
    "matrix_chain_multiplication_memo(arr, 1, n-1)"
   ]
  },
  {
   "cell_type": "code",
   "execution_count": 55,
   "metadata": {},
   "outputs": [],
   "source": [
    "# Palindrome Partitioning \n",
    "string = 'nitik'\n",
    "n = len(string)\n",
    "i = 0\n",
    "j = n - 1"
   ]
  },
  {
   "cell_type": "code",
   "execution_count": 56,
   "metadata": {},
   "outputs": [],
   "source": [
    "# Palindrome Partitioning Recursive\n",
    "def is_palindrome(string):\n",
    "    if len(string) == 1:\n",
    "        return True\n",
    "    elif string == string[::-1]:\n",
    "        return True\n",
    "    return False\n",
    "\n",
    "def palindrome_partition(string, i, j):\n",
    "    if i >= j:\n",
    "        return 0\n",
    "    if is_palindrome(string[i:j+1]):\n",
    "        return 0\n",
    "    \n",
    "    max_ = math.inf\n",
    "    for k in range(i, j):\n",
    "        before = palindrome_partition(string, i, k)\n",
    "        after = palindrome_partition(string, k+1, j)\n",
    "        temp = before + after + 1\n",
    "        if temp < max_:\n",
    "            max_ = temp\n",
    "        \n",
    "    return max_"
   ]
  },
  {
   "cell_type": "code",
   "execution_count": 57,
   "metadata": {},
   "outputs": [
    {
     "data": {
      "text/plain": [
       "2"
      ]
     },
     "execution_count": 57,
     "metadata": {},
     "output_type": "execute_result"
    }
   ],
   "source": [
    "palindrome_partition(string, i, j)"
   ]
  },
  {
   "cell_type": "code",
   "execution_count": 58,
   "metadata": {},
   "outputs": [],
   "source": [
    "# Palindrome Partitioning Memomization\n",
    "t = [[-1 for _ in range(n)] for _ in range(n)]\n",
    "def palindrome_partition_memo(string, i, j):\n",
    "    if i >= j:\n",
    "        return 0\n",
    "    if is_palindrome(string[i:j+1]):\n",
    "        return 0\n",
    "    if t[i][j] != -1:\n",
    "        return t[i][j]\n",
    "    \n",
    "    temp = math.inf\n",
    "    for k in range(i, j):\n",
    "        before = palindrome_partition_memo(string, i, k)\n",
    "        after  = palindrome_partition_memo(string, k+1, j)\n",
    "        temp = min(temp, before+after+1)\n",
    "    \n",
    "    t[i][j] = temp\n",
    "    return t[i][j]"
   ]
  },
  {
   "cell_type": "code",
   "execution_count": 59,
   "metadata": {},
   "outputs": [
    {
     "data": {
      "text/plain": [
       "2"
      ]
     },
     "execution_count": 59,
     "metadata": {},
     "output_type": "execute_result"
    }
   ],
   "source": [
    "palindrome_partition_memo(string, i, j)"
   ]
  },
  {
   "cell_type": "code",
   "execution_count": 60,
   "metadata": {},
   "outputs": [],
   "source": [
    "# Palindrome Partition Optimization\n",
    "t = [[-1 for _ in range(n+1)] for _ in range(n+1)]\n",
    "def palindrome_partition_opt(string, i, j):\n",
    "    if i >= j:\n",
    "        return 0\n",
    "    if is_palindrome(string[i:j+1]):\n",
    "        return 0\n",
    "    \n",
    "    temp = math.inf\n",
    "    for k in range(i, j):\n",
    "        if t[i][j] != -1:\n",
    "            left = t[i][k]\n",
    "        else:\n",
    "            left = palindrome_partition_opt(string, i, k)\n",
    "        if t[k+1][j] != -1:\n",
    "            right = t[k+1][j]\n",
    "        else:\n",
    "            right = palindrome_partition_opt(string, k+1, j)\n",
    "            \n",
    "        temp = min(temp, left+right+1)\n",
    "        \n",
    "    t[i][j] = temp\n",
    "    \n",
    "    return t[i][j]"
   ]
  },
  {
   "cell_type": "code",
   "execution_count": 61,
   "metadata": {},
   "outputs": [
    {
     "data": {
      "text/plain": [
       "2"
      ]
     },
     "execution_count": 61,
     "metadata": {},
     "output_type": "execute_result"
    }
   ],
   "source": [
    "palindrome_partition_opt(string, i, j)"
   ]
  },
  {
   "cell_type": "code",
   "execution_count": 62,
   "metadata": {},
   "outputs": [],
   "source": [
    "string = 'T|F&T^F'\n",
    "n = len(string)\n",
    "i = 0\n",
    "j = n-1\n",
    "# Evaluate expression to True (Boolean Parenthisization) Recursive\n",
    "def eval_expr_true(string, i, j, isTrue=True):\n",
    "    if i > j:\n",
    "        return False\n",
    "    if i == j:\n",
    "        if isTrue == True:\n",
    "            return string[i] == 'T'\n",
    "        else:\n",
    "            return string[i] == 'F'\n",
    "        \n",
    "    ans = 0\n",
    "    \n",
    "    for k in range(i+1, j):\n",
    "        if string[k] in '|&^':\n",
    "            lt = eval_expr_true(string, i, k-1, True)\n",
    "            lf = eval_expr_true(string, i, k-1, False)\n",
    "            rt = eval_expr_true(string, k+1, j, True)\n",
    "            rf = eval_expr_true(string, k+1, j, False)\n",
    "            \n",
    "            if string[k] == '|':\n",
    "                temp = (lt and rt) + (lf and rt) + (lt and rf) if isTrue else (lf and rf)\n",
    "            elif string[k] == '&':\n",
    "                temp = (lt and rt) if isTrue else (lf and rf) + (lf and rt) + (lt and rf)\n",
    "            elif string[k] == '^':\n",
    "                temp = (lt and rf) + (lf and rt) if isTrue else (lf and rf) + (lt and rt)\n",
    "            \n",
    "            ans += temp\n",
    "    return ans"
   ]
  },
  {
   "cell_type": "code",
   "execution_count": 63,
   "metadata": {},
   "outputs": [
    {
     "data": {
      "text/plain": [
       "4"
      ]
     },
     "execution_count": 63,
     "metadata": {},
     "output_type": "execute_result"
    }
   ],
   "source": [
    "eval_expr_true(string, i, j)"
   ]
  },
  {
   "cell_type": "code",
   "execution_count": 64,
   "metadata": {},
   "outputs": [],
   "source": [
    "# Evaluate expression to True (Boolean Parenthisization) Memomization\n",
    "t = [[[-1 for _ in range(n)] for _ in range(n)] for _ in range(2)]\n",
    "def eval_expr_true_memo(string, i, j, isTrue=True):\n",
    "    if i > j:\n",
    "        return 0\n",
    "    if i == j:\n",
    "        return string[i] == 'T' if isTrue else string[i] == 'F'\n",
    "    \n",
    "    T = 1 if isTrue else 0\n",
    "    if t[T][i][j] != -1:\n",
    "        return t[T][i][j]\n",
    "\n",
    "    ans = 0\n",
    "    \n",
    "    for k in range(i+1, j):\n",
    "        if string[k] in '|&^':\n",
    "            lt = eval_expr_true_memo(string, i, k-1, True)\n",
    "            lf = eval_expr_true_memo(string, i, k-1, False)\n",
    "            rt = eval_expr_true_memo(string, k+1, j, True)\n",
    "            rf = eval_expr_true_memo(string, k+1, j, False)\n",
    "            \n",
    "            if string[k] == '|':\n",
    "                temp = (lt and rt) + (lf and rt) + (lt and rf) if isTrue else (lf and rf)\n",
    "            elif string[k] == '&':\n",
    "                temp = (lt and rt) if isTrue else (lf and rf) + (lf and rt) + (lt and rf)\n",
    "            elif string[k] == '^':\n",
    "                temp = (lt and rf) + (lf and rt) if isTrue else (lf and rf) + (lt and rt)\n",
    "            \n",
    "            ans += temp\n",
    "            \n",
    "    t[T][i][j] = ans\n",
    "    return ans"
   ]
  },
  {
   "cell_type": "code",
   "execution_count": 65,
   "metadata": {},
   "outputs": [
    {
     "data": {
      "text/plain": [
       "4"
      ]
     },
     "execution_count": 65,
     "metadata": {},
     "output_type": "execute_result"
    }
   ],
   "source": [
    "eval_expr_true_memo(string, i, j)"
   ]
  },
  {
   "cell_type": "code",
   "execution_count": 66,
   "metadata": {},
   "outputs": [],
   "source": [
    "A, B = 'rgtae', 'great'\n",
    "n = len(A)\n",
    "# Scrambled String\n",
    "def scrambled_string(A, B):\n",
    "    len_A = len(A)\n",
    "    len_B = len(B)\n",
    "    \n",
    "    if len_A != len_B:\n",
    "        return False\n",
    "    if len_A < 1 or len_B < 1:\n",
    "        return False\n",
    "    if A == B:\n",
    "        return True\n",
    "    if sorted(A) != sorted(B):\n",
    "        return False\n",
    "    \n",
    "    for i in range(1, len_B):\n",
    "        if scrambled_string(A[:i], B[:i]) and scrambled_string(A[i:], B[i:]):\n",
    "            return True\n",
    "        if scrambled_string(A[:i], B[-i:]) and scrambled_string(A[-i:], B[:i]):\n",
    "            return True\n",
    "    \n",
    "    return False"
   ]
  },
  {
   "cell_type": "code",
   "execution_count": 67,
   "metadata": {
    "scrolled": true
   },
   "outputs": [
    {
     "data": {
      "text/plain": [
       "True"
      ]
     },
     "execution_count": 67,
     "metadata": {},
     "output_type": "execute_result"
    }
   ],
   "source": [
    "scrambled_string(A, B)"
   ]
  },
  {
   "cell_type": "code",
   "execution_count": 68,
   "metadata": {},
   "outputs": [],
   "source": [
    "# Scrambled String Memomization\n",
    "t = [[-1 for _ in range(n)] for _ in range(n)]\n",
    "def scrambled_string_memo(A, B):\n",
    "    len_A = len(A)\n",
    "    len_B = len(B)\n",
    "    \n",
    "    if len_A != len_B:\n",
    "        return False\n",
    "    if len_A < 1 or len_B < 1:\n",
    "        return False\n",
    "    if A == B:\n",
    "        return True\n",
    "    if t[len_A-1][len_A-1] != -1:\n",
    "        return t[len_A-1][len_A-1]\n",
    "    if sorted(A) != sorted(B):\n",
    "        return False\n",
    "    \n",
    "    for i in range(1, len_B):\n",
    "        if scrambled_string_memo(A[:i], B[:i]) and scrambled_string_memo(A[i:], B[i:]):\n",
    "            t[i][i] = True\n",
    "            return True\n",
    "        if scrambled_string_memo(A[:i], B[-i:]) and scrambled_string_memo(A[-i:], B[:i]):\n",
    "            t[i][i] = True\n",
    "            return True\n",
    "    \n",
    "    t[i][i] = False\n",
    "    return False"
   ]
  },
  {
   "cell_type": "code",
   "execution_count": 69,
   "metadata": {},
   "outputs": [
    {
     "data": {
      "text/plain": [
       "True"
      ]
     },
     "execution_count": 69,
     "metadata": {},
     "output_type": "execute_result"
    }
   ],
   "source": [
    "scrambled_string_memo(A, B)"
   ]
  },
  {
   "cell_type": "code",
   "execution_count": 70,
   "metadata": {},
   "outputs": [],
   "source": [
    "import math\n",
    "# Egg Droping Problem\n",
    "e = 3\n",
    "f = 5\n",
    "\n",
    "def egg_droping(e, f):\n",
    "    if e == 0 or f == 0:\n",
    "        return 0\n",
    "    \n",
    "    if e == 1 or f == 1:\n",
    "        return f\n",
    "    \n",
    "    mn = math.inf\n",
    "    \n",
    "    for k in range(1, f+1):\n",
    "        temp = 1 + max(egg_droping(e-1, k-1), egg_droping(e, f-k))\n",
    "        mn = min(mn, temp)\n",
    "        \n",
    "    return mn"
   ]
  },
  {
   "cell_type": "code",
   "execution_count": 71,
   "metadata": {},
   "outputs": [
    {
     "data": {
      "text/plain": [
       "3"
      ]
     },
     "execution_count": 71,
     "metadata": {},
     "output_type": "execute_result"
    }
   ],
   "source": [
    "egg_droping(e, f)"
   ]
  },
  {
   "cell_type": "code",
   "execution_count": 72,
   "metadata": {},
   "outputs": [],
   "source": [
    "# Egg Droping Problem Memomization\n",
    "t = [[-1 for _ in range(e)] for _ in range(f)]\n",
    "def egg_droping_memo(e, f):\n",
    "    if e == 0 or f == 0:\n",
    "        return 0\n",
    "    if e == 1 or f == 1:\n",
    "        return f\n",
    "    \n",
    "    if t[f-1][e-1] != -1:\n",
    "        return t[f-1][e-1]\n",
    "    \n",
    "    mn = math.inf\n",
    "    \n",
    "    for k in range(1, f+1):\n",
    "        temp = 1 + max(egg_droping_memo(e-1, k-1), egg_droping_memo(e, f-k))\n",
    "        mn = min(temp, mn)\n",
    "        \n",
    "    t[f-1][e-1] = mn\n",
    "    return mn"
   ]
  },
  {
   "cell_type": "code",
   "execution_count": 73,
   "metadata": {},
   "outputs": [
    {
     "data": {
      "text/plain": [
       "3"
      ]
     },
     "execution_count": 73,
     "metadata": {},
     "output_type": "execute_result"
    }
   ],
   "source": [
    "egg_droping_memo(e, f)"
   ]
  }
 ],
 "metadata": {
  "kernelspec": {
   "display_name": "Python 3",
   "language": "python",
   "name": "python3"
  },
  "language_info": {
   "codemirror_mode": {
    "name": "ipython",
    "version": 3
   },
   "file_extension": ".py",
   "mimetype": "text/x-python",
   "name": "python",
   "nbconvert_exporter": "python",
   "pygments_lexer": "ipython3",
   "version": "3.8.5"
  }
 },
 "nbformat": 4,
 "nbformat_minor": 4
}
