{
 "cells": [
  {
   "cell_type": "code",
   "execution_count": 1,
   "metadata": {},
   "outputs": [],
   "source": [
    "import heapq\n",
    "\n",
    "# Note: heapq only provides implementation of min_heap hence\n",
    "# to use max_heap convert the element to negative (-ele) and \n",
    "# again return the negative value. By using this you can perform\n",
    "# max_heap."
   ]
  },
  {
   "cell_type": "code",
   "execution_count": 2,
   "metadata": {},
   "outputs": [],
   "source": [
    "# Kth Smallest element\n",
    "def k_smallest_ele(arr, k):\n",
    "    # Use max heap here\n",
    "    max_heap = []\n",
    "    \n",
    "    for ele in arr:\n",
    "        heapq.heappush(max_heap, -ele)\n",
    "        if len(max_heap) > k:\n",
    "            heapq.heappop(max_heap)\n",
    "    \n",
    "    return -heapq.heappop(max_heap)"
   ]
  },
  {
   "cell_type": "code",
   "execution_count": 3,
   "metadata": {},
   "outputs": [
    {
     "data": {
      "text/plain": [
       "4"
      ]
     },
     "execution_count": 3,
     "metadata": {},
     "output_type": "execute_result"
    }
   ],
   "source": [
    "k_smallest_ele([11, 5, 113, 8, 102, 6, 4, 1, 0, 75, 14, 7], 3)"
   ]
  },
  {
   "cell_type": "code",
   "execution_count": 4,
   "metadata": {},
   "outputs": [],
   "source": [
    "# Kth largest element\n",
    "def k_largest_ele(arr, k):\n",
    "    min_heap = []\n",
    "    \n",
    "    for ele in arr:\n",
    "        heapq.heappush(min_heap, ele)\n",
    "        if len(min_heap) > k:\n",
    "            heapq.heappop(min_heap)\n",
    "    \n",
    "    return heapq.heappop(min_heap)"
   ]
  },
  {
   "cell_type": "code",
   "execution_count": 5,
   "metadata": {},
   "outputs": [
    {
     "data": {
      "text/plain": [
       "102"
      ]
     },
     "execution_count": 5,
     "metadata": {},
     "output_type": "execute_result"
    }
   ],
   "source": [
    "k_largest_ele([11, 5, 113, 8, 102, 6, 4, 1, 0, 75, 14, 7], 2)"
   ]
  },
  {
   "cell_type": "code",
   "execution_count": 6,
   "metadata": {},
   "outputs": [],
   "source": [
    "# Sort a K sorted array (or a nearly sorted array)\n",
    "def k_sorted_arr(arr, k):\n",
    "    idx = 0\n",
    "    min_heap = []\n",
    "    \n",
    "    for ele in arr:\n",
    "        heapq.heappush(min_heap, ele)\n",
    "        if len(min_heap) > k:\n",
    "            arr[idx] = heapq.heappop(min_heap)\n",
    "            idx += 1\n",
    "    \n",
    "    for _ in range(k):\n",
    "        arr[idx] = heapq.heappop(min_heap)\n",
    "        idx += 1\n",
    "    \n",
    "    return arr"
   ]
  },
  {
   "cell_type": "code",
   "execution_count": 7,
   "metadata": {},
   "outputs": [
    {
     "data": {
      "text/plain": [
       "[2, 3, 5, 6, 8, 9, 10]"
      ]
     },
     "execution_count": 7,
     "metadata": {},
     "output_type": "execute_result"
    }
   ],
   "source": [
    "k_sorted_arr([6, 5, 3, 2, 8, 10, 9], 3)"
   ]
  },
  {
   "cell_type": "code",
   "execution_count": null,
   "metadata": {},
   "outputs": [],
   "source": []
  }
 ],
 "metadata": {
  "kernelspec": {
   "display_name": "Python 3",
   "language": "python",
   "name": "python3"
  },
  "language_info": {
   "codemirror_mode": {
    "name": "ipython",
    "version": 3
   },
   "file_extension": ".py",
   "mimetype": "text/x-python",
   "name": "python",
   "nbconvert_exporter": "python",
   "pygments_lexer": "ipython3",
   "version": "3.8.5"
  }
 },
 "nbformat": 4,
 "nbformat_minor": 4
}
