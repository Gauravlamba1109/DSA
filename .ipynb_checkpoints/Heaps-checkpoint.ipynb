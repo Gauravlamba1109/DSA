{
 "cells": [
  {
   "cell_type": "code",
   "execution_count": 1,
   "metadata": {},
   "outputs": [],
   "source": [
    "import heapq\n",
    "\n",
    "# Note: heapq only provides implementation of min_heap hence\n",
    "# to use max_heap convert the element to negative (-ele) and \n",
    "# again return the negative value. By using this you can perform\n",
    "# max_heap.\n",
    "\n",
    "# Note: If smallest ask go for max_heap else min_heap"
   ]
  },
  {
   "cell_type": "code",
   "execution_count": 2,
   "metadata": {},
   "outputs": [],
   "source": [
    "# Kth Smallest element\n",
    "def k_smallest_ele(arr, k):\n",
    "    # Use max heap here\n",
    "    max_heap = []\n",
    "    \n",
    "    for ele in arr:\n",
    "        heapq.heappush(max_heap, -ele)\n",
    "        if len(max_heap) > k:\n",
    "            heapq.heappop(max_heap)\n",
    "    \n",
    "    return -heapq.heappop(max_heap)"
   ]
  },
  {
   "cell_type": "code",
   "execution_count": 3,
   "metadata": {},
   "outputs": [
    {
     "data": {
      "text/plain": [
       "4"
      ]
     },
     "execution_count": 3,
     "metadata": {},
     "output_type": "execute_result"
    }
   ],
   "source": [
    "k_smallest_ele([11, 5, 113, 8, 102, 6, 4, 1, 0, 75, 14, 7], 3)"
   ]
  },
  {
   "cell_type": "code",
   "execution_count": 4,
   "metadata": {},
   "outputs": [],
   "source": [
    "# Kth largest element\n",
    "def k_largest_ele(arr, k):\n",
    "    min_heap = []\n",
    "    \n",
    "    for ele in arr:\n",
    "        heapq.heappush(min_heap, ele)\n",
    "        if len(min_heap) > k:\n",
    "            heapq.heappop(min_heap)\n",
    "    \n",
    "    return heapq.heappop(min_heap)"
   ]
  },
  {
   "cell_type": "code",
   "execution_count": 5,
   "metadata": {},
   "outputs": [
    {
     "data": {
      "text/plain": [
       "102"
      ]
     },
     "execution_count": 5,
     "metadata": {},
     "output_type": "execute_result"
    }
   ],
   "source": [
    "k_largest_ele([11, 5, 113, 8, 102, 6, 4, 1, 0, 75, 14, 7], 2)"
   ]
  },
  {
   "cell_type": "code",
   "execution_count": 6,
   "metadata": {},
   "outputs": [],
   "source": [
    "# Sort a K sorted array (or a nearly sorted array)\n",
    "def k_sorted_arr(arr, k):\n",
    "    idx = 0\n",
    "    min_heap = []\n",
    "    \n",
    "    for ele in arr:\n",
    "        heapq.heappush(min_heap, ele)\n",
    "        if len(min_heap) > k:\n",
    "            arr[idx] = heapq.heappop(min_heap)\n",
    "            idx += 1\n",
    "    \n",
    "    for _ in range(k):\n",
    "        arr[idx] = heapq.heappop(min_heap)\n",
    "        idx += 1\n",
    "    \n",
    "    return arr"
   ]
  },
  {
   "cell_type": "code",
   "execution_count": 7,
   "metadata": {},
   "outputs": [
    {
     "data": {
      "text/plain": [
       "[2, 3, 5, 6, 8, 9, 10]"
      ]
     },
     "execution_count": 7,
     "metadata": {},
     "output_type": "execute_result"
    }
   ],
   "source": [
    "k_sorted_arr([6, 5, 3, 2, 8, 10, 9], 3)"
   ]
  },
  {
   "cell_type": "code",
   "execution_count": 8,
   "metadata": {},
   "outputs": [],
   "source": [
    "# K closet numbers\n",
    "def k_closet_num(arr, k, x):\n",
    "    max_heap = []\n",
    "    \n",
    "    for ele in arr:\n",
    "        heapq.heappush(max_heap, (-abs(ele - x), ele))\n",
    "        if len(max_heap) > k:\n",
    "            heapq.heappop(max_heap)\n",
    "    \n",
    "    return [item[1] for item in max_heap]"
   ]
  },
  {
   "cell_type": "code",
   "execution_count": 9,
   "metadata": {},
   "outputs": [
    {
     "data": {
      "text/plain": [
       "[4, 6, 5]"
      ]
     },
     "execution_count": 9,
     "metadata": {},
     "output_type": "execute_result"
    }
   ],
   "source": [
    "k_closet_num([1, 2, 3, 4, 5, 6, 7, 8, 9], 3, 5)"
   ]
  },
  {
   "cell_type": "code",
   "execution_count": 10,
   "metadata": {},
   "outputs": [],
   "source": [
    "# Top K frequent numbers\n",
    "def top_k_frequent_num(arr, k):\n",
    "    min_heap = []\n",
    "    ele_count = dict()\n",
    "    \n",
    "    for ele in arr:\n",
    "        if ele in ele_count:\n",
    "            ele_count[ele] += 1\n",
    "        else:\n",
    "            ele_count[ele] = 1\n",
    "    \n",
    "    for key, value in ele_count.items():\n",
    "        heapq.heappush(min_heap, (value, key))\n",
    "        if len(min_heap) > k:\n",
    "            heapq.heappop(min_heap)\n",
    "        \n",
    "    return [item[1] for item in min_heap]"
   ]
  },
  {
   "cell_type": "code",
   "execution_count": 11,
   "metadata": {},
   "outputs": [
    {
     "data": {
      "text/plain": [
       "[3, 5, 2, 1]"
      ]
     },
     "execution_count": 11,
     "metadata": {},
     "output_type": "execute_result"
    }
   ],
   "source": [
    "top_k_frequent_num([1, 2, 3, 4, 5, 6, 1, 2, 1, 2, 1, 1, 1, 5, 6, 3, 8, 2, 5, 2, 3, 8, 9, 1], 4)"
   ]
  },
  {
   "cell_type": "code",
   "execution_count": 12,
   "metadata": {},
   "outputs": [],
   "source": [
    "# Frequency Sort\n",
    "def frequency_sort(arr):\n",
    "    max_heap = []\n",
    "    ele_count = dict()\n",
    "    \n",
    "    for ele in arr:\n",
    "        if ele in ele_count:\n",
    "            ele_count[ele] += 1\n",
    "        else:\n",
    "            ele_count[ele] = 1\n",
    "    \n",
    "    for key, value in ele_count.items():\n",
    "        heapq.heappush(max_heap, (-value, key))\n",
    "    \n",
    "    arr = []\n",
    "    for _ in range(len(max_heap)):\n",
    "        ele = heapq.heappop(max_heap)\n",
    "        arr += [ele[1]] * (-ele[0])\n",
    "        \n",
    "    return arr"
   ]
  },
  {
   "cell_type": "code",
   "execution_count": 13,
   "metadata": {},
   "outputs": [
    {
     "data": {
      "text/plain": [
       "[1, 1, 1, 1, 1, 1, 1, 2, 2, 2, 2, 2, 3, 3, 3, 5, 5, 5, 6, 6, 8, 8, 4, 9]"
      ]
     },
     "execution_count": 13,
     "metadata": {},
     "output_type": "execute_result"
    }
   ],
   "source": [
    "frequency_sort([1, 2, 3, 4, 5, 6, 1, 2, 1, 2, 1, 1, 1, 5, 6, 3, 8, 2, 5, 2, 3, 8, 9, 1])"
   ]
  },
  {
   "cell_type": "code",
   "execution_count": 14,
   "metadata": {},
   "outputs": [],
   "source": [
    "# K-closet point to origin\n",
    "def k_closet_point_to_origin(arr, k):\n",
    "    max_heap = []\n",
    "    \n",
    "    for point in arr:\n",
    "        heapq.heappush(max_heap, (-distance(point), point))\n",
    "        if len(max_heap) > k:\n",
    "            heapq.heappop(max_heap)\n",
    "    \n",
    "    return [item[1] for item in max_heap]\n",
    "\n",
    "# Calculate distance from origin (0, 0)\n",
    "def distance(point):\n",
    "    x = point[0] ** 2\n",
    "    y = point[1] ** 2\n",
    "    # Simply returning x + y can work too\n",
    "    return (x + y) ** (1/2)"
   ]
  },
  {
   "cell_type": "code",
   "execution_count": 15,
   "metadata": {},
   "outputs": [
    {
     "data": {
      "text/plain": [
       "[(-2, 2), (0, 1)]"
      ]
     },
     "execution_count": 15,
     "metadata": {},
     "output_type": "execute_result"
    }
   ],
   "source": [
    "points = [(1, 3), (-2, 2), (5, 8), (0, 1)]\n",
    "k = 2\n",
    "k_closet_point_to_origin(points, k)"
   ]
  },
  {
   "cell_type": "code",
   "execution_count": 16,
   "metadata": {},
   "outputs": [],
   "source": [
    "# Connect ropes to minimise the cost\n",
    "def connect_ropes(arr):\n",
    "    min_heap = []\n",
    "    \n",
    "    for ele in arr:\n",
    "        heapq.heappush(min_heap, ele)\n",
    "    \n",
    "    min_cost = 0\n",
    "    while len(min_heap) > 1: # min_heap should have atleast 2 elements \n",
    "        cost_min_1 = heapq.heappop(min_heap)\n",
    "        cost_min_2 = heapq.heappop(min_heap)\n",
    "        cost_join = cost_min_1 + cost_min_2\n",
    "        min_cost += cost_join\n",
    "        heapq.heappush(min_heap, cost_join)\n",
    "    \n",
    "    return min_cost"
   ]
  },
  {
   "cell_type": "code",
   "execution_count": 17,
   "metadata": {},
   "outputs": [
    {
     "data": {
      "text/plain": [
       "33"
      ]
     },
     "execution_count": 17,
     "metadata": {},
     "output_type": "execute_result"
    }
   ],
   "source": [
    "connect_ropes([1, 2, 3, 4, 5])"
   ]
  },
  {
   "cell_type": "code",
   "execution_count": 18,
   "metadata": {},
   "outputs": [],
   "source": [
    "# Sum of Elements between k1 and k2 smallest numbers\n",
    "def sum_of_ele_btw_k1_k2(arr, k1, k2):\n",
    "    k1_smallest_ele = k_smallest_ele(arr, k1)\n",
    "    k2_smallest_ele = k_smallest_ele(arr, k2)\n",
    "    \n",
    "    sum_ele = 0\n",
    "    for ele in arr:\n",
    "        if k1 <= ele <= k2:\n",
    "            sum_ele += ele\n",
    "    \n",
    "    return sum_ele"
   ]
  },
  {
   "cell_type": "code",
   "execution_count": 19,
   "metadata": {},
   "outputs": [
    {
     "data": {
      "text/plain": [
       "18"
      ]
     },
     "execution_count": 19,
     "metadata": {},
     "output_type": "execute_result"
    }
   ],
   "source": [
    "sum_of_ele_btw_k1_k2([1, 2, 3, 4, 5, 6, 7, 8, 9], 3, 6)"
   ]
  },
  {
   "cell_type": "code",
   "execution_count": null,
   "metadata": {},
   "outputs": [],
   "source": [
    "# Median of Stream of Running Integers\n",
    "# https://www.geeksforgeeks.org/median-of-stream-of-running-integers-using-stl/"
   ]
  }
 ],
 "metadata": {
  "kernelspec": {
   "display_name": "Python 3",
   "language": "python",
   "name": "python3"
  },
  "language_info": {
   "codemirror_mode": {
    "name": "ipython",
    "version": 3
   },
   "file_extension": ".py",
   "mimetype": "text/x-python",
   "name": "python",
   "nbconvert_exporter": "python",
   "pygments_lexer": "ipython3",
   "version": "3.8.5"
  }
 },
 "nbformat": 4,
 "nbformat_minor": 4
}
