{
 "cells": [
  {
   "cell_type": "code",
   "execution_count": 6,
   "metadata": {},
   "outputs": [],
   "source": [
    "# 3 Sum\n",
    "def three_sum(arr):\n",
    "    n = len(arr)\n",
    "    count = 0\n",
    "    \n",
    "    arr.sort()\n",
    "    \n",
    "    for i in range(n-2):\n",
    "        a = -arr[i]\n",
    "        \n",
    "        low = i+1\n",
    "        high = n-1\n",
    "        while low < high:\n",
    "            if arr[low] + arr[high] == a:\n",
    "                count += 1\n",
    "                low += 1\n",
    "                high -= 1\n",
    "                \n",
    "                # Remove Repeatation\n",
    "                while low < high and arr[low] == arr[low+1]:\n",
    "                    low += 1\n",
    "                while low < high and arr[high] == arr[high-1]:\n",
    "                    high -= 1\n",
    "\n",
    "            elif arr[low] + arr[high] > a:\n",
    "                high -= 1\n",
    "            else:\n",
    "                low += 1\n",
    "        \n",
    "    return count\n",
    "            "
   ]
  },
  {
   "cell_type": "code",
   "execution_count": 7,
   "metadata": {},
   "outputs": [
    {
     "data": {
      "text/plain": [
       "3"
      ]
     },
     "execution_count": 7,
     "metadata": {},
     "output_type": "execute_result"
    }
   ],
   "source": [
    "three_sum([-1, 0, 1, 2, -1, -4])"
   ]
  },
  {
   "cell_type": "code",
   "execution_count": 8,
   "metadata": {},
   "outputs": [],
   "source": [
    "# Trapping Rain Water\n",
    "def trap_rain_water(arr):\n",
    "    n = len(arr)\n",
    "    \n",
    "    low = 0\n",
    "    high = n-1\n",
    "    \n",
    "    left_max = 0\n",
    "    right_max = 0\n",
    "    \n",
    "    result = 0\n",
    "    \n",
    "    while low < high:\n",
    "        if arr[low] <= arr[high]:\n",
    "            if arr[low] >= left_max:\n",
    "                left_max = arr[low]\n",
    "            else:\n",
    "                result += left_max - arr[low]\n",
    "            low += 1\n",
    "        else:\n",
    "            if arr[high] >= right_max:\n",
    "                right_max = arr[high]\n",
    "            else:\n",
    "                result += right_max - arr[high]\n",
    "            high -= 1\n",
    "    \n",
    "    return result"
   ]
  },
  {
   "cell_type": "code",
   "execution_count": 9,
   "metadata": {},
   "outputs": [
    {
     "data": {
      "text/plain": [
       "6"
      ]
     },
     "execution_count": 9,
     "metadata": {},
     "output_type": "execute_result"
    }
   ],
   "source": [
    "trap_rain_water([0, 1, 0, 2, 1, 0, 1, 3, 2, 1, 2, 1])"
   ]
  },
  {
   "cell_type": "code",
   "execution_count": 13,
   "metadata": {},
   "outputs": [],
   "source": [
    "# Remove Duplicates from sorted Array\n",
    "def remove_duplicates(nums):\n",
    "    n = len(nums)\n",
    "\n",
    "    if n <= 1:\n",
    "        return n\n",
    "\n",
    "    low = 0\n",
    "    high = 0\n",
    "\n",
    "    curr = 0\n",
    "\n",
    "    while low < n and high < n:\n",
    "        if nums[low] == nums[high]:\n",
    "            high += 1\n",
    "        else:\n",
    "            curr += 1\n",
    "            nums[curr] = nums[high]\n",
    "            low = high\n",
    "            high += 1\n",
    "\n",
    "    return curr + 1"
   ]
  },
  {
   "cell_type": "code",
   "execution_count": 14,
   "metadata": {},
   "outputs": [
    {
     "data": {
      "text/plain": [
       "5"
      ]
     },
     "execution_count": 14,
     "metadata": {},
     "output_type": "execute_result"
    }
   ],
   "source": [
    "remove_duplicates([0,0,1,1,1,2,2,3,3,4])"
   ]
  },
  {
   "cell_type": "code",
   "execution_count": null,
   "metadata": {},
   "outputs": [],
   "source": []
  }
 ],
 "metadata": {
  "kernelspec": {
   "display_name": "Python 3",
   "language": "python",
   "name": "python3"
  },
  "language_info": {
   "codemirror_mode": {
    "name": "ipython",
    "version": 3
   },
   "file_extension": ".py",
   "mimetype": "text/x-python",
   "name": "python",
   "nbconvert_exporter": "python",
   "pygments_lexer": "ipython3",
   "version": "3.8.5"
  }
 },
 "nbformat": 4,
 "nbformat_minor": 4
}
