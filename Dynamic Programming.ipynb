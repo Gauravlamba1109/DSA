{
 "cells": [
  {
   "cell_type": "code",
   "execution_count": 3,
   "metadata": {},
   "outputs": [],
   "source": [
    "# 0/1 Knapsack\n",
    "wt = [1, 2, 3, 4, 5, 6]\n",
    "val = [6, 1, 9, 4, 2, 8]\n",
    "w = 7"
   ]
  },
  {
   "cell_type": "code",
   "execution_count": 2,
   "metadata": {},
   "outputs": [],
   "source": [
    "# 0/1 Recursive Function\n",
    "def recursive_01_knapsack(wt, val, w, n):\n",
    "    if n == 0 or w == 0:\n",
    "        return 0\n",
    "    \n",
    "    if wt[n-1] <= w:\n",
    "        taken = val[n-1] + recursive_01_knapsack(wt, val, w-wt[n-1], n-1)\n",
    "        not_taken = recursive_01_knapsack(wt, val, w, n-1)\n",
    "        return max(taken, not_taken)\n",
    "    else:\n",
    "        return recursive_01_knapsack(wt, val, w, n-1)"
   ]
  },
  {
   "cell_type": "code",
   "execution_count": 3,
   "metadata": {},
   "outputs": [
    {
     "data": {
      "text/plain": [
       "16"
      ]
     },
     "execution_count": 3,
     "metadata": {},
     "output_type": "execute_result"
    }
   ],
   "source": [
    "recursive_01_knapsack(wt, val, w, len(wt))"
   ]
  },
  {
   "cell_type": "code",
   "execution_count": 4,
   "metadata": {},
   "outputs": [],
   "source": [
    "# 0/1 Knapsack Memomization\n",
    "t = [[-1 for _ in range(w+1)] for _ in range(len(wt)+1)]\n",
    "def memomization_01_knapsack(wt, val, w, n):\n",
    "    if n == 0 or w == 0:\n",
    "        return 0\n",
    "    \n",
    "    if t[n][w] != -1:\n",
    "        return t[n][w]\n",
    "    elif wt[n-1] <= w:\n",
    "        taken = val[n-1] + memomization_01_knapsack(wt, val, w-wt[n-1], n-1)\n",
    "        not_taken = memomization_01_knapsack(wt, val, w, n-1)\n",
    "        t[n][w] = max(taken, not_taken)\n",
    "    else:\n",
    "        t[n][w] = memomization_01_knapsack(wt, val, w, n-1)\n",
    "    \n",
    "    return t[n][w]"
   ]
  },
  {
   "cell_type": "code",
   "execution_count": 5,
   "metadata": {},
   "outputs": [
    {
     "data": {
      "text/plain": [
       "16"
      ]
     },
     "execution_count": 5,
     "metadata": {},
     "output_type": "execute_result"
    }
   ],
   "source": [
    "memomization_01_knapsack(wt, val, w, len(wt))"
   ]
  },
  {
   "cell_type": "code",
   "execution_count": 6,
   "metadata": {},
   "outputs": [],
   "source": [
    "# 0/1 Knapsack Top Down\n",
    "def top_down_01_knapsack(wt, val, w, n):\n",
    "    t = [[-1 for _ in range(w+1)] for _ in range(n+1)]\n",
    "    for i in range(n+1):\n",
    "        for j in range(w+1):\n",
    "            if i == 0 or j == 0:\n",
    "                t[i][j] = 0\n",
    "            elif wt[i-1] <= j:\n",
    "                t[i][j] = max(val[i-1] + t[i-1][j - wt[i-1]], t[i-1][j])\n",
    "            else:\n",
    "                t[i][j] = t[i-1][j]\n",
    "    \n",
    "    return t[n][w]"
   ]
  },
  {
   "cell_type": "code",
   "execution_count": 7,
   "metadata": {},
   "outputs": [
    {
     "data": {
      "text/plain": [
       "16"
      ]
     },
     "execution_count": 7,
     "metadata": {},
     "output_type": "execute_result"
    }
   ],
   "source": [
    "top_down_01_knapsack(wt, val, w, len(wt))"
   ]
  },
  {
   "cell_type": "code",
   "execution_count": 61,
   "metadata": {},
   "outputs": [],
   "source": [
    "# Subset sum problem\n",
    "def subset_sum_problem(arr, s):\n",
    "    n = len(arr)\n",
    "    t = [[False for _ in range(s+1)] for _ in range(n+1)]\n",
    "    \n",
    "    for i in range(n+1):\n",
    "        for j in range(s+1):\n",
    "            if i == 0:\n",
    "                t[i][j] = False\n",
    "                t[0][0] = False\n",
    "            if j == 0:\n",
    "                t[i][j] = True\n",
    "            elif arr[i-1] <= j:\n",
    "                t[i][j] = t[i-1][j-arr[i-1]] or t[i-1][j]\n",
    "            else:\n",
    "                t[i][j] = t[i-1][j]\n",
    "    return t[i][j]"
   ]
  },
  {
   "cell_type": "code",
   "execution_count": 62,
   "metadata": {},
   "outputs": [
    {
     "data": {
      "text/plain": [
       "True"
      ]
     },
     "execution_count": 62,
     "metadata": {},
     "output_type": "execute_result"
    }
   ],
   "source": [
    "subset_sum_problem([1, 2, 3, 7, 8, 10], 10)"
   ]
  },
  {
   "cell_type": "code",
   "execution_count": 55,
   "metadata": {},
   "outputs": [],
   "source": [
    "# Equal sum partition\n",
    "def equal_sum_partition(arr):\n",
    "    sum_arr = sum(arr)\n",
    "    if sum_arr % 2 != 0:\n",
    "        return False\n",
    "    else:\n",
    "        s = sum_arr // 2\n",
    "        n = len(arr)\n",
    "        t = [[False for _ in range(s+1)] for _ in range(n+1)]\n",
    "        for i in range(n+1):\n",
    "            for j in range(s+1):\n",
    "                if i == 0:\n",
    "                    t[i][j] = False\n",
    "                    t[0][0] = True\n",
    "                elif j == 0:\n",
    "                    t[i][j] = True\n",
    "                    \n",
    "                elif arr[i-1] <= j:\n",
    "                    t[i][j] = t[i-1][j-arr[i-1]] or t[i-1][j]\n",
    "                else:\n",
    "                    t[i][j] = t[i-1][j]\n",
    "    \n",
    "        return t[n][s]"
   ]
  },
  {
   "cell_type": "code",
   "execution_count": 56,
   "metadata": {},
   "outputs": [
    {
     "data": {
      "text/plain": [
       "True"
      ]
     },
     "execution_count": 56,
     "metadata": {},
     "output_type": "execute_result"
    }
   ],
   "source": [
    "equal_sum_partition([1, 5, 11, 5])"
   ]
  },
  {
   "cell_type": "code",
   "execution_count": 9,
   "metadata": {},
   "outputs": [],
   "source": [
    "# Count of subsets of a given sum\n",
    "def count_of_subsets_of_given_sum(arr, s):\n",
    "    n = len(arr)\n",
    "    t = [[-1 for _ in range(s+1)] for _ in range(n+1)]\n",
    "    \n",
    "    for i in range(n+1):\n",
    "        for j in range(s+1):\n",
    "            if i == 0:\n",
    "                t[i][j] = 0\n",
    "                t[0][0] = 1\n",
    "            elif j == 0:\n",
    "                t[i][j] = 1\n",
    "            elif arr[i-1] <= j:\n",
    "                t[i][j] = t[i-1][j-arr[i-1]] + t[i-1][j]\n",
    "            else:\n",
    "                t[i][j] = t[i-1][j]\n",
    "    \n",
    "    return t[n][s]"
   ]
  },
  {
   "cell_type": "code",
   "execution_count": 10,
   "metadata": {},
   "outputs": [
    {
     "data": {
      "text/plain": [
       "2"
      ]
     },
     "execution_count": 10,
     "metadata": {},
     "output_type": "execute_result"
    }
   ],
   "source": [
    "count_of_subsets_of_given_sum([2, 3, 5, 6, 8, 10], 10)"
   ]
  },
  {
   "cell_type": "code",
   "execution_count": 38,
   "metadata": {},
   "outputs": [],
   "source": [
    "# Minimum Subset Sum Difference\n",
    "\n",
    "def subset_sum(arr, s):\n",
    "    n = len(arr)\n",
    "    t = [[False for _ in range(s+1)] for _ in range(n+1)]\n",
    "    \n",
    "    for i in range(n+1):\n",
    "        for j in range(s+1):\n",
    "            if i == 0:\n",
    "                t[i][j] = False\n",
    "                t[0][0] = True\n",
    "            elif j == 0:\n",
    "                t[i][j] = True\n",
    "            elif arr[i-1] <= j:\n",
    "                t[i][j] = t[i-1][j-arr[i-1]] or t[i-1][j]\n",
    "            else:\n",
    "                t[i][j] = t[i-1][j]\n",
    "    \n",
    "    return [i for i in range((s+1) // 2) if t[-1][i]]\n",
    "\n",
    "def minimum_subset_sum_difference(arr):\n",
    "    s = sum(arr)\n",
    "    v = subset_sum(arr, s)\n",
    "    mn = 999\n",
    "    \n",
    "    for i in v:\n",
    "        mn = min(mn, s - 2*i)\n",
    "    return mn"
   ]
  },
  {
   "cell_type": "code",
   "execution_count": 39,
   "metadata": {},
   "outputs": [
    {
     "data": {
      "text/plain": [
       "1"
      ]
     },
     "execution_count": 39,
     "metadata": {},
     "output_type": "execute_result"
    }
   ],
   "source": [
    "minimum_subset_sum_difference([1, 5, 6, 11])"
   ]
  },
  {
   "cell_type": "code",
   "execution_count": 40,
   "metadata": {},
   "outputs": [],
   "source": [
    "# Count the number of subset with a given difference\n",
    "\n",
    "def count_subset_sum(arr, s):\n",
    "    n = len(arr)\n",
    "    t = [[0 for _ in range(s + 1)] for _ in range(n + 1)]\n",
    "    \n",
    "    for i in range(n+1):\n",
    "        for j in range(s+1):\n",
    "            if i == 0:\n",
    "                t[i][j] = 0\n",
    "                t[0][0] = 1\n",
    "            elif j == 0:\n",
    "                t[i][j] = 1\n",
    "            elif arr[i-1] <= j:\n",
    "                t[i][j] = t[i-1][j-arr[i-1]] + t[i-1][j]\n",
    "            else:\n",
    "                t[i][j] = t[i-1][j]\n",
    "    \n",
    "    return t[n][s]\n",
    "\n",
    "def num_subset_given_diff(arr, diff):\n",
    "    s_arr = sum(arr)\n",
    "    sum_subset1 = (s_arr + diff) // 2\n",
    "    \n",
    "    count = count_subset_sum(arr, sum_subset1)\n",
    "    \n",
    "    return count"
   ]
  },
  {
   "cell_type": "code",
   "execution_count": 47,
   "metadata": {},
   "outputs": [
    {
     "data": {
      "text/plain": [
       "3"
      ]
     },
     "execution_count": 47,
     "metadata": {},
     "output_type": "execute_result"
    }
   ],
   "source": [
    "num_subset_given_diff([1, 1, 2, 3], 1)"
   ]
  },
  {
   "cell_type": "code",
   "execution_count": 50,
   "metadata": {},
   "outputs": [],
   "source": [
    "# Target Sum (same as num_subset_given_diff)\n",
    "def target_sum(arr, s):\n",
    "    return num_subset_given_diff(arr, s)"
   ]
  },
  {
   "cell_type": "code",
   "execution_count": 51,
   "metadata": {},
   "outputs": [
    {
     "data": {
      "text/plain": [
       "3"
      ]
     },
     "execution_count": 51,
     "metadata": {},
     "output_type": "execute_result"
    }
   ],
   "source": [
    "target_sum([1, 1, 2, 3], 1)"
   ]
  },
  {
   "cell_type": "code",
   "execution_count": 18,
   "metadata": {},
   "outputs": [],
   "source": [
    "# Unbounded Knapsack\n",
    "def unbounded_knapsack(wt,  val, w):\n",
    "    n = len(wt)\n",
    "    t = [[0 for _ in range(w+1)] for _ in range(n+1)]\n",
    "    \n",
    "    for i in range(n+1):\n",
    "        for j in range(w+1):\n",
    "            if i == 0 or j == 0:\n",
    "                t[i][j] = 0\n",
    "            if wt[i-1] <= j:\n",
    "                t[i][j] = max(val[i-1] + t[i][j-wt[i-1]], t[i-1][j])\n",
    "            else:\n",
    "                t[i][j] = t[i-1][j]\n",
    "                \n",
    "    return t[n][w]"
   ]
  },
  {
   "cell_type": "code",
   "execution_count": 19,
   "metadata": {},
   "outputs": [
    {
     "data": {
      "text/plain": [
       "42"
      ]
     },
     "execution_count": 19,
     "metadata": {},
     "output_type": "execute_result"
    }
   ],
   "source": [
    "unbounded_knapsack(wt, val, w)"
   ]
  },
  {
   "cell_type": "code",
   "execution_count": 20,
   "metadata": {},
   "outputs": [],
   "source": [
    "# Rod Cutting Problem\n",
    "def rod_cutting_problem(length, price, max_len):\n",
    "    n = len(length)\n",
    "    t = [[0 for _ in range(max_len+1)] for _ in range(n + 1)]\n",
    "    \n",
    "    for i in range(n+1):\n",
    "        for j in range(max_len+1):\n",
    "            if i == 0 or j == 0:\n",
    "                t[i][j] = 0\n",
    "            elif length[i-1] <= j:\n",
    "                t[i][j] = max(price[i-1] + t[i][j - length[i-1]], t[i-1][j])\n",
    "            else:\n",
    "                t[i][j] = t[i-1][j]\n",
    "                \n",
    "    return t[n][max_len]"
   ]
  },
  {
   "cell_type": "code",
   "execution_count": 21,
   "metadata": {},
   "outputs": [
    {
     "data": {
      "text/plain": [
       "22"
      ]
     },
     "execution_count": 21,
     "metadata": {},
     "output_type": "execute_result"
    }
   ],
   "source": [
    "rod_cutting_problem([1, 2, 3, 4, 5, 6, 7, 8], [1, 5, 8, 9, 10, 17, 17, 20], 8)"
   ]
  },
  {
   "cell_type": "code",
   "execution_count": 58,
   "metadata": {},
   "outputs": [],
   "source": [
    "# Coin change problem : Maximum number of ways\n",
    "def coin_change_1(coins, s):\n",
    "    n = len(coins)\n",
    "    t = [[0 for _ in range(s + 1)] for _ in range(n+1)]\n",
    "    \n",
    "    for i in range(n+1):\n",
    "        for j in range(s+1):\n",
    "            if j == 0:\n",
    "                t[i][j] = 1\n",
    "                t[0][0] = 0\n",
    "            elif coins[i-1] <= j:\n",
    "                t[i][j] = t[i][j-coins[i-1]] + t[i-1][j]\n",
    "            else:\n",
    "                t[i][j] = t[i-1][j]\n",
    "    \n",
    "    return t[n][s]"
   ]
  },
  {
   "cell_type": "code",
   "execution_count": 59,
   "metadata": {},
   "outputs": [
    {
     "data": {
      "text/plain": [
       "7"
      ]
     },
     "execution_count": 59,
     "metadata": {},
     "output_type": "execute_result"
    }
   ],
   "source": [
    "coin_change_1([1, 3, 5], 10)"
   ]
  },
  {
   "cell_type": "code",
   "execution_count": 6,
   "metadata": {},
   "outputs": [],
   "source": [
    "import math\n",
    "# Coin change problem : Minimum number of coins\n",
    "def coin_change_2(coins, s):\n",
    "    n = len(coins)\n",
    "    t = [[-1 for _ in range(s+1)] for _ in range(n+1)]\n",
    "    \n",
    "    for i in range(n+1):\n",
    "        for j in range(s+1):\n",
    "            if i == 0:\n",
    "                t[i][j] = math.inf\n",
    "            elif j == 0:\n",
    "                t[i][j] = 0\n",
    "            elif i == 1:\n",
    "                if j%coins[i-1]==0:\n",
    "                    t[i][j] = j // coins[i-1]\n",
    "                else:\n",
    "                    t[i][j] = math.inf\n",
    "            elif coins[i-1] <= j:\n",
    "                t[i][j] = min(1+t[i][j-coins[i-1]], t[i-1][j])\n",
    "            else:\n",
    "                t[i][j] = t[i-1][j]\n",
    "    \n",
    "    return t[n][s]"
   ]
  },
  {
   "cell_type": "code",
   "execution_count": 7,
   "metadata": {},
   "outputs": [
    {
     "data": {
      "text/plain": [
       "2"
      ]
     },
     "execution_count": 7,
     "metadata": {},
     "output_type": "execute_result"
    }
   ],
   "source": [
    "coin_change_2([1, 2, 3], 5)"
   ]
  },
  {
   "cell_type": "code",
   "execution_count": null,
   "metadata": {},
   "outputs": [],
   "source": [
    "# Longest common subsequence\n"
   ]
  }
 ],
 "metadata": {
  "kernelspec": {
   "display_name": "Python 3",
   "language": "python",
   "name": "python3"
  },
  "language_info": {
   "codemirror_mode": {
    "name": "ipython",
    "version": 3
   },
   "file_extension": ".py",
   "mimetype": "text/x-python",
   "name": "python",
   "nbconvert_exporter": "python",
   "pygments_lexer": "ipython3",
   "version": "3.8.5"
  }
 },
 "nbformat": 4,
 "nbformat_minor": 4
}
