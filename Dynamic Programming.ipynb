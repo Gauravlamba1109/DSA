{
 "cells": [
  {
   "cell_type": "code",
   "execution_count": 1,
   "metadata": {},
   "outputs": [],
   "source": [
    "# 0/1 Knapsack\n",
    "wt = [1, 2, 3, 4, 5, 6]\n",
    "val = [6, 1, 9, 4, 2, 8]\n",
    "w = 7"
   ]
  },
  {
   "cell_type": "code",
   "execution_count": 2,
   "metadata": {},
   "outputs": [],
   "source": [
    "# 0/1 Recursive Function\n",
    "def recursive_01_knapsack(wt, val, w, n):\n",
    "    if n == 0 or w == 0:\n",
    "        return 0\n",
    "    \n",
    "    if wt[n-1] <= w:\n",
    "        taken = val[n-1] + recursive_01_knapsack(wt, val, w-wt[n-1], n-1)\n",
    "        not_taken = recursive_01_knapsack(wt, val, w, n-1)\n",
    "        return max(taken, not_taken)\n",
    "    else:\n",
    "        return recursive_01_knapsack(wt, val, w, n-1)"
   ]
  },
  {
   "cell_type": "code",
   "execution_count": 3,
   "metadata": {},
   "outputs": [
    {
     "data": {
      "text/plain": [
       "16"
      ]
     },
     "execution_count": 3,
     "metadata": {},
     "output_type": "execute_result"
    }
   ],
   "source": [
    "recursive_01_knapsack(wt, val, w, len(wt))"
   ]
  },
  {
   "cell_type": "code",
   "execution_count": 4,
   "metadata": {},
   "outputs": [],
   "source": [
    "# 0/1 Knapsack Memomization\n",
    "t = [[-1 for _ in range(w+1)] for _ in range(len(wt)+1)]\n",
    "def memomization_01_knapsack(wt, val, w, n):\n",
    "    if n == 0 or w == 0:\n",
    "        return 0\n",
    "    \n",
    "    if t[n][w] != -1:\n",
    "        return t[n][w]\n",
    "    elif wt[n-1] <= w:\n",
    "        taken = val[n-1] + memomization_01_knapsack(wt, val, w-wt[n-1], n-1)\n",
    "        not_taken = memomization_01_knapsack(wt, val, w, n-1)\n",
    "        t[n][w] = max(taken, not_taken)\n",
    "    else:\n",
    "        t[n][w] = memomization_01_knapsack(wt, val, w, n-1)\n",
    "    \n",
    "    return t[n][w]"
   ]
  },
  {
   "cell_type": "code",
   "execution_count": 5,
   "metadata": {},
   "outputs": [
    {
     "data": {
      "text/plain": [
       "16"
      ]
     },
     "execution_count": 5,
     "metadata": {},
     "output_type": "execute_result"
    }
   ],
   "source": [
    "memomization_01_knapsack(wt, val, w, len(wt))"
   ]
  },
  {
   "cell_type": "code",
   "execution_count": 6,
   "metadata": {},
   "outputs": [],
   "source": [
    "# 0/1 Knapsack Top Down\n",
    "def top_down_01_knapsack(wt, val, w, n):\n",
    "    t = [[-1 for _ in range(w+1)] for _ in range(n+1)]\n",
    "    for i in range(n+1):\n",
    "        for j in range(w+1):\n",
    "            if i == 0 or j == 0:\n",
    "                t[i][j] = 0\n",
    "            elif wt[i-1] <= j:\n",
    "                t[i][j] = max(val[i-1] + t[i-1][j - wt[i-1]], t[i-1][j])\n",
    "            else:\n",
    "                t[i][j] = t[i-1][j]\n",
    "    \n",
    "    return t[n][w]"
   ]
  },
  {
   "cell_type": "code",
   "execution_count": 7,
   "metadata": {},
   "outputs": [
    {
     "data": {
      "text/plain": [
       "16"
      ]
     },
     "execution_count": 7,
     "metadata": {},
     "output_type": "execute_result"
    }
   ],
   "source": [
    "top_down_01_knapsack(wt, val, w, len(wt))"
   ]
  },
  {
   "cell_type": "code",
   "execution_count": 8,
   "metadata": {},
   "outputs": [],
   "source": [
    "# Subset sum problem\n",
    "def subset_sum_problem(arr, s):\n",
    "    n = len(arr)\n",
    "    t = [[False for _ in range(s+1)] for _ in range(n+1)]\n",
    "    \n",
    "    for i in range(n+1):\n",
    "        for j in range(s+1):\n",
    "            if i == 0:\n",
    "                t[i][j] = False\n",
    "                t[0][0] = False\n",
    "            if j == 0:\n",
    "                t[i][j] = True\n",
    "            elif arr[i-1] <= j:\n",
    "                t[i][j] = t[i-1][j-arr[i-1]] or t[i-1][j]\n",
    "            else:\n",
    "                t[i][j] = t[i-1][j]\n",
    "    return t[i][j]"
   ]
  },
  {
   "cell_type": "code",
   "execution_count": 9,
   "metadata": {},
   "outputs": [
    {
     "data": {
      "text/plain": [
       "True"
      ]
     },
     "execution_count": 9,
     "metadata": {},
     "output_type": "execute_result"
    }
   ],
   "source": [
    "subset_sum_problem([1, 2, 3, 7, 8, 10], 10)"
   ]
  },
  {
   "cell_type": "code",
   "execution_count": 10,
   "metadata": {},
   "outputs": [],
   "source": [
    "# Equal sum partition\n",
    "def equal_sum_partition(arr):\n",
    "    sum_arr = sum(arr)\n",
    "    if sum_arr % 2 != 0:\n",
    "        return False\n",
    "    else:\n",
    "        s = sum_arr // 2\n",
    "        n = len(arr)\n",
    "        t = [[False for _ in range(s+1)] for _ in range(n+1)]\n",
    "        for i in range(n+1):\n",
    "            for j in range(s+1):\n",
    "                if i == 0:\n",
    "                    t[i][j] = False\n",
    "                    t[0][0] = True\n",
    "                elif j == 0:\n",
    "                    t[i][j] = True\n",
    "                    \n",
    "                elif arr[i-1] <= j:\n",
    "                    t[i][j] = t[i-1][j-arr[i-1]] or t[i-1][j]\n",
    "                else:\n",
    "                    t[i][j] = t[i-1][j]\n",
    "    \n",
    "        return t[n][s]"
   ]
  },
  {
   "cell_type": "code",
   "execution_count": 11,
   "metadata": {},
   "outputs": [
    {
     "data": {
      "text/plain": [
       "True"
      ]
     },
     "execution_count": 11,
     "metadata": {},
     "output_type": "execute_result"
    }
   ],
   "source": [
    "equal_sum_partition([1, 5, 11, 5])"
   ]
  },
  {
   "cell_type": "code",
   "execution_count": 12,
   "metadata": {},
   "outputs": [],
   "source": [
    "# Count of subsets of a given sum\n",
    "def count_of_subsets_of_given_sum(arr, s):\n",
    "    n = len(arr)\n",
    "    t = [[-1 for _ in range(s+1)] for _ in range(n+1)]\n",
    "    \n",
    "    for i in range(n+1):\n",
    "        for j in range(s+1):\n",
    "            if i == 0:\n",
    "                t[i][j] = 0\n",
    "                t[0][0] = 1\n",
    "            elif j == 0:\n",
    "                t[i][j] = 1\n",
    "            elif arr[i-1] <= j:\n",
    "                t[i][j] = t[i-1][j-arr[i-1]] + t[i-1][j]\n",
    "            else:\n",
    "                t[i][j] = t[i-1][j]\n",
    "    \n",
    "    return t[n][s]"
   ]
  },
  {
   "cell_type": "code",
   "execution_count": 13,
   "metadata": {},
   "outputs": [
    {
     "data": {
      "text/plain": [
       "3"
      ]
     },
     "execution_count": 13,
     "metadata": {},
     "output_type": "execute_result"
    }
   ],
   "source": [
    "count_of_subsets_of_given_sum([2, 3, 5, 6, 8, 10], 10)"
   ]
  },
  {
   "cell_type": "code",
   "execution_count": 14,
   "metadata": {},
   "outputs": [],
   "source": [
    "# Minimum Subset Sum Difference\n",
    "\n",
    "def subset_sum(arr, s):\n",
    "    n = len(arr)\n",
    "    t = [[False for _ in range(s+1)] for _ in range(n+1)]\n",
    "    \n",
    "    for i in range(n+1):\n",
    "        for j in range(s+1):\n",
    "            if i == 0:\n",
    "                t[i][j] = False\n",
    "                t[0][0] = True\n",
    "            elif j == 0:\n",
    "                t[i][j] = True\n",
    "            elif arr[i-1] <= j:\n",
    "                t[i][j] = t[i-1][j-arr[i-1]] or t[i-1][j]\n",
    "            else:\n",
    "                t[i][j] = t[i-1][j]\n",
    "    \n",
    "    return [i for i in range((s+1) // 2) if t[-1][i]]\n",
    "\n",
    "def minimum_subset_sum_difference(arr):\n",
    "    s = sum(arr)\n",
    "    v = subset_sum(arr, s)\n",
    "    mn = 999\n",
    "    \n",
    "    for i in v:\n",
    "        mn = min(mn, s - 2*i)\n",
    "    return mn"
   ]
  },
  {
   "cell_type": "code",
   "execution_count": 15,
   "metadata": {},
   "outputs": [
    {
     "data": {
      "text/plain": [
       "1"
      ]
     },
     "execution_count": 15,
     "metadata": {},
     "output_type": "execute_result"
    }
   ],
   "source": [
    "minimum_subset_sum_difference([1, 5, 6, 11])"
   ]
  },
  {
   "cell_type": "code",
   "execution_count": 16,
   "metadata": {},
   "outputs": [],
   "source": [
    "# Count the number of subset with a given difference\n",
    "\n",
    "def count_subset_sum(arr, s):\n",
    "    n = len(arr)\n",
    "    t = [[0 for _ in range(s + 1)] for _ in range(n + 1)]\n",
    "    \n",
    "    for i in range(n+1):\n",
    "        for j in range(s+1):\n",
    "            if i == 0:\n",
    "                t[i][j] = 0\n",
    "                t[0][0] = 1\n",
    "            elif j == 0:\n",
    "                t[i][j] = 1\n",
    "            elif arr[i-1] <= j:\n",
    "                t[i][j] = t[i-1][j-arr[i-1]] + t[i-1][j]\n",
    "            else:\n",
    "                t[i][j] = t[i-1][j]\n",
    "    \n",
    "    return t[n][s]\n",
    "\n",
    "def num_subset_given_diff(arr, diff):\n",
    "    s_arr = sum(arr)\n",
    "    sum_subset1 = (s_arr + diff) // 2\n",
    "    \n",
    "    count = count_subset_sum(arr, sum_subset1)\n",
    "    \n",
    "    return count"
   ]
  },
  {
   "cell_type": "code",
   "execution_count": 17,
   "metadata": {},
   "outputs": [
    {
     "data": {
      "text/plain": [
       "3"
      ]
     },
     "execution_count": 17,
     "metadata": {},
     "output_type": "execute_result"
    }
   ],
   "source": [
    "num_subset_given_diff([1, 1, 2, 3], 1)"
   ]
  },
  {
   "cell_type": "code",
   "execution_count": 18,
   "metadata": {},
   "outputs": [],
   "source": [
    "# Target Sum (same as num_subset_given_diff)\n",
    "def target_sum(arr, s):\n",
    "    return num_subset_given_diff(arr, s)"
   ]
  },
  {
   "cell_type": "code",
   "execution_count": 19,
   "metadata": {},
   "outputs": [
    {
     "data": {
      "text/plain": [
       "3"
      ]
     },
     "execution_count": 19,
     "metadata": {},
     "output_type": "execute_result"
    }
   ],
   "source": [
    "target_sum([1, 1, 2, 3], 1)"
   ]
  },
  {
   "cell_type": "code",
   "execution_count": 20,
   "metadata": {},
   "outputs": [],
   "source": [
    "# Unbounded Knapsack\n",
    "def unbounded_knapsack(wt,  val, w):\n",
    "    n = len(wt)\n",
    "    t = [[0 for _ in range(w+1)] for _ in range(n+1)]\n",
    "    \n",
    "    for i in range(n+1):\n",
    "        for j in range(w+1):\n",
    "            if i == 0 or j == 0:\n",
    "                t[i][j] = 0\n",
    "            if wt[i-1] <= j:\n",
    "                t[i][j] = max(val[i-1] + t[i][j-wt[i-1]], t[i-1][j])\n",
    "            else:\n",
    "                t[i][j] = t[i-1][j]\n",
    "                \n",
    "    return t[n][w]"
   ]
  },
  {
   "cell_type": "code",
   "execution_count": 21,
   "metadata": {},
   "outputs": [
    {
     "data": {
      "text/plain": [
       "42"
      ]
     },
     "execution_count": 21,
     "metadata": {},
     "output_type": "execute_result"
    }
   ],
   "source": [
    "unbounded_knapsack(wt, val, w)"
   ]
  },
  {
   "cell_type": "code",
   "execution_count": 22,
   "metadata": {},
   "outputs": [],
   "source": [
    "# Rod Cutting Problem\n",
    "def rod_cutting_problem(length, price, max_len):\n",
    "    n = len(length)\n",
    "    t = [[0 for _ in range(max_len+1)] for _ in range(n + 1)]\n",
    "    \n",
    "    for i in range(n+1):\n",
    "        for j in range(max_len+1):\n",
    "            if i == 0 or j == 0:\n",
    "                t[i][j] = 0\n",
    "            elif length[i-1] <= j:\n",
    "                t[i][j] = max(price[i-1] + t[i][j - length[i-1]], t[i-1][j])\n",
    "            else:\n",
    "                t[i][j] = t[i-1][j]\n",
    "                \n",
    "    return t[n][max_len]"
   ]
  },
  {
   "cell_type": "code",
   "execution_count": 23,
   "metadata": {},
   "outputs": [
    {
     "data": {
      "text/plain": [
       "22"
      ]
     },
     "execution_count": 23,
     "metadata": {},
     "output_type": "execute_result"
    }
   ],
   "source": [
    "rod_cutting_problem([1, 2, 3, 4, 5, 6, 7, 8], [1, 5, 8, 9, 10, 17, 17, 20], 8)"
   ]
  },
  {
   "cell_type": "code",
   "execution_count": 24,
   "metadata": {},
   "outputs": [],
   "source": [
    "# Coin change problem : Maximum number of ways\n",
    "def coin_change_1(coins, s):\n",
    "    n = len(coins)\n",
    "    t = [[0 for _ in range(s + 1)] for _ in range(n+1)]\n",
    "    \n",
    "    for i in range(n+1):\n",
    "        for j in range(s+1):\n",
    "            if j == 0:\n",
    "                t[i][j] = 1\n",
    "                t[0][0] = 0\n",
    "            elif coins[i-1] <= j:\n",
    "                t[i][j] = t[i][j-coins[i-1]] + t[i-1][j]\n",
    "            else:\n",
    "                t[i][j] = t[i-1][j]\n",
    "    \n",
    "    return t[n][s]"
   ]
  },
  {
   "cell_type": "code",
   "execution_count": 25,
   "metadata": {},
   "outputs": [
    {
     "data": {
      "text/plain": [
       "7"
      ]
     },
     "execution_count": 25,
     "metadata": {},
     "output_type": "execute_result"
    }
   ],
   "source": [
    "coin_change_1([1, 3, 5], 10)"
   ]
  },
  {
   "cell_type": "code",
   "execution_count": 26,
   "metadata": {},
   "outputs": [],
   "source": [
    "import math\n",
    "# Coin change problem : Minimum number of coins\n",
    "def coin_change_2(coins, s):\n",
    "    n = len(coins)\n",
    "    t = [[-1 for _ in range(s+1)] for _ in range(n+1)]\n",
    "    \n",
    "    for i in range(n+1):\n",
    "        for j in range(s+1):\n",
    "            if i == 0:\n",
    "                t[i][j] = math.inf\n",
    "            elif j == 0:\n",
    "                t[i][j] = 0\n",
    "            elif i == 1:\n",
    "                if j%coins[i-1]==0:\n",
    "                    t[i][j] = j // coins[i-1]\n",
    "                else:\n",
    "                    t[i][j] = math.inf\n",
    "            elif coins[i-1] <= j:\n",
    "                t[i][j] = min(1+t[i][j-coins[i-1]], t[i-1][j])\n",
    "            else:\n",
    "                t[i][j] = t[i-1][j]\n",
    "    \n",
    "    return t[n][s]"
   ]
  },
  {
   "cell_type": "code",
   "execution_count": 27,
   "metadata": {},
   "outputs": [
    {
     "data": {
      "text/plain": [
       "2"
      ]
     },
     "execution_count": 27,
     "metadata": {},
     "output_type": "execute_result"
    }
   ],
   "source": [
    "coin_change_2([1, 2, 3], 5)"
   ]
  },
  {
   "cell_type": "code",
   "execution_count": 28,
   "metadata": {},
   "outputs": [],
   "source": [
    "# Longest common subsequence\n",
    "X,Y = 'abcdgh', 'abcdfghr'\n",
    "lenX, lenY = len(X), len(Y)"
   ]
  },
  {
   "cell_type": "code",
   "execution_count": 29,
   "metadata": {},
   "outputs": [],
   "source": [
    "# Recursion\n",
    "def longest_common_subsequence_rec(X, Y, lenX, lenY):\n",
    "    if lenX == 0 or lenY == 0:\n",
    "        return 0\n",
    "    elif X[lenX-1] == Y[lenY-1]:\n",
    "        return 1 + longest_common_subsequence_rec(X, Y, lenX-1, lenY-1)\n",
    "    else:\n",
    "        return max(longest_common_subsequence_rec(X, Y, lenX-1, lenY), \n",
    "                   longest_common_subsequence_rec(X, Y, lenX, lenY-1))"
   ]
  },
  {
   "cell_type": "code",
   "execution_count": 30,
   "metadata": {},
   "outputs": [
    {
     "data": {
      "text/plain": [
       "6"
      ]
     },
     "execution_count": 30,
     "metadata": {},
     "output_type": "execute_result"
    }
   ],
   "source": [
    "longest_common_subsequence_rec(X, Y, lenX, lenY)"
   ]
  },
  {
   "cell_type": "code",
   "execution_count": 31,
   "metadata": {},
   "outputs": [],
   "source": [
    "# Memomization\n",
    "t = [[-1 for _ in range(lenY+1)] for _ in range(lenX+1)]\n",
    "def longest_common_subsequence_memo(X, Y, lenX, lenY):\n",
    "    if lenX == 0 or lenY == 0:\n",
    "        t[lenX][lenY] = 0\n",
    "    if t[lenX][lenY] != -1:\n",
    "        pass\n",
    "    elif X[lenX-1] == Y[lenY-1]:\n",
    "        t[lenX][lenY] = 1 + longest_common_subsequence_memo(X, Y, lenX-1, lenY-1)\n",
    "    else:\n",
    "        t[lenX][lenY] = max(longest_common_subsequence_memo(X, Y, lenX-1, lenY),\n",
    "                            longest_common_subsequence_memo(X, Y, lenX, lenY-1))\n",
    "    \n",
    "    return t[lenX][lenY]"
   ]
  },
  {
   "cell_type": "code",
   "execution_count": 32,
   "metadata": {},
   "outputs": [
    {
     "data": {
      "text/plain": [
       "6"
      ]
     },
     "execution_count": 32,
     "metadata": {},
     "output_type": "execute_result"
    }
   ],
   "source": [
    "longest_common_subsequence_memo(X, Y, lenX, lenY)"
   ]
  },
  {
   "cell_type": "code",
   "execution_count": 33,
   "metadata": {},
   "outputs": [],
   "source": [
    "# Top Down\n",
    "def longest_common_subsequence_top_down(X, Y, lenX, lenY):\n",
    "    t = [[-1 for _ in range(lenY+1)] for _ in range(lenX+1)]\n",
    "    \n",
    "    for i in range(lenX+1):\n",
    "        for j in range(lenY+1):\n",
    "            if i == 0 or j == 0:\n",
    "                t[i][j] = 0\n",
    "            elif X[i-1] == Y[j-1]:\n",
    "                t[i][j] = 1 + t[i-1][j-1]\n",
    "            else:\n",
    "                t[i][j] = max(t[i-1][j], t[i][j-1])\n",
    "    \n",
    "    return t[lenX][lenY]"
   ]
  },
  {
   "cell_type": "code",
   "execution_count": 34,
   "metadata": {},
   "outputs": [
    {
     "data": {
      "text/plain": [
       "6"
      ]
     },
     "execution_count": 34,
     "metadata": {},
     "output_type": "execute_result"
    }
   ],
   "source": [
    "longest_common_subsequence_top_down(X, Y, lenX, lenY)"
   ]
  },
  {
   "cell_type": "code",
   "execution_count": 35,
   "metadata": {},
   "outputs": [],
   "source": [
    "# Longest Common Substring\n",
    "def longest_common_substring(X, Y, lenX, lenY):\n",
    "    t = [[-1 for _ in range(lenY+1)] for _ in range(lenX+1)]\n",
    "    longest_common = 0\n",
    "    \n",
    "    for i in range(lenX+1):\n",
    "        for j in range(lenY+1):\n",
    "            if i == 0 or j == 0:\n",
    "                t[i][j] = 0\n",
    "            elif X[i-1] == Y[j-1]:\n",
    "                t[i][j] = 1 + t[i-1][j-1]\n",
    "                if t[i][j] > longest_common:\n",
    "                    longest_common = t[i][j]\n",
    "            else:\n",
    "                t[i][j] = 0\n",
    "    \n",
    "    return longest_common"
   ]
  },
  {
   "cell_type": "code",
   "execution_count": 36,
   "metadata": {},
   "outputs": [
    {
     "data": {
      "text/plain": [
       "4"
      ]
     },
     "execution_count": 36,
     "metadata": {},
     "output_type": "execute_result"
    }
   ],
   "source": [
    "longest_common_substring(X, Y, lenX, lenY)"
   ]
  },
  {
   "cell_type": "code",
   "execution_count": 37,
   "metadata": {},
   "outputs": [],
   "source": [
    "# Print Longest Common subsequence\n",
    "def print_longest_common_subsequence(X, Y, lenX, lenY):\n",
    "    t = [[-1 for _ in range(lenY+1)] for _ in range(lenX+1)]\n",
    "    \n",
    "    for i in range(lenX+1):\n",
    "        for j in range(lenY+1):\n",
    "            if i == 0 or j == 0:\n",
    "                t[i][j] = 0\n",
    "            if X[i-1] == Y[j-1]:\n",
    "                t[i][j] = 1 + t[i-1][j-1]\n",
    "            else:\n",
    "                t[i][j] = max(t[i][j-1], t[i-1][j])\n",
    "    \n",
    "    i = lenX\n",
    "    j = lenY \n",
    "    longest_common = ''\n",
    "    while i != 0 or j != 0:\n",
    "        if X[i-1] == Y[j-1]:\n",
    "            longest_common = X[i-1] + longest_common\n",
    "            i -= 1\n",
    "            j -= 1\n",
    "        else:\n",
    "            if t[i][j-1] > t[i-1][j]:\n",
    "                j -= 1\n",
    "            else:\n",
    "                i -= 1\n",
    "                \n",
    "    return longest_common"
   ]
  },
  {
   "cell_type": "code",
   "execution_count": 38,
   "metadata": {},
   "outputs": [
    {
     "data": {
      "text/plain": [
       "'abcdgh'"
      ]
     },
     "execution_count": 38,
     "metadata": {},
     "output_type": "execute_result"
    }
   ],
   "source": [
    "print_longest_common_subsequence(X, Y, lenX, lenY)"
   ]
  },
  {
   "cell_type": "code",
   "execution_count": 39,
   "metadata": {},
   "outputs": [],
   "source": [
    "# Print Longest common substring\n",
    "def print_longest_common_substring(X, Y, lenX, lenY):\n",
    "    t = [[-1 for _ in range(lenY+1)] for _ in range(lenX+1)]\n",
    "    longest_common = ''\n",
    "    \n",
    "    for i in range(lenX+1):\n",
    "        for j in range(lenY+1):\n",
    "            if  i == 0 or j == 0:\n",
    "                t[i][j] = ''\n",
    "            elif X[i-1] == Y[j-1]:\n",
    "                t[i][j] = t[i-1][j-1] + X[i-1]\n",
    "                \n",
    "                if len(t[i][j]) > len(longest_common):\n",
    "                    longest_common = t[i][j]\n",
    "            else:\n",
    "                t[i][j] = ''\n",
    "        \n",
    "    return longest_common"
   ]
  },
  {
   "cell_type": "code",
   "execution_count": 40,
   "metadata": {},
   "outputs": [
    {
     "data": {
      "text/plain": [
       "'abcd'"
      ]
     },
     "execution_count": 40,
     "metadata": {},
     "output_type": "execute_result"
    }
   ],
   "source": [
    "print_longest_common_substring(X, Y, lenX, lenY)"
   ]
  },
  {
   "cell_type": "code",
   "execution_count": 41,
   "metadata": {},
   "outputs": [],
   "source": [
    "# Shortest Common SuperSubsequence\n",
    "def shortest_common_super_subsequence(X, Y, lenX, lenY):\n",
    "    t = [[-1 for _ in range(lenY+1)] for _ in range(lenX+1)]\n",
    "    \n",
    "    longest_common = -1\n",
    "    \n",
    "    for i in range(lenX+1):\n",
    "        for j in range(lenY+1):\n",
    "            if i == 0 or j == 0:\n",
    "                t[i][j] = 0\n",
    "            elif X[i-1] == Y[i-1]:\n",
    "                t[i][j] = 1 + t[i-1][j-1]\n",
    "                if longest_common < t[i][j]:\n",
    "                    longest_common = t[i][j]\n",
    "            else:\n",
    "                t[i][j] = 0\n",
    "    \n",
    "    return lenX + lenY - longest_common"
   ]
  },
  {
   "cell_type": "code",
   "execution_count": 42,
   "metadata": {},
   "outputs": [
    {
     "data": {
      "text/plain": [
       "10"
      ]
     },
     "execution_count": 42,
     "metadata": {},
     "output_type": "execute_result"
    }
   ],
   "source": [
    "shortest_common_super_subsequence(X, Y, lenX, lenY)"
   ]
  },
  {
   "cell_type": "code",
   "execution_count": 43,
   "metadata": {},
   "outputs": [],
   "source": [
    "# Minimum number of insertion and deletion to convert a string X to Y\n",
    "def min_insrt_del(X, Y, lenX, lenY):\n",
    "    t = [[-1 for _ in range(lenY+1)] for _ in range (lenX+1)]\n",
    "\n",
    "    num_insrt = 0\n",
    "    num_del = 0\n",
    "    \n",
    "    longest_common = 0\n",
    "    \n",
    "    for i in range(lenX+1):\n",
    "        for j in range(lenY+1):\n",
    "            if i == 0 or j == 0:\n",
    "                t[i][j] = 0\n",
    "            elif X[i-1] == Y[j-1]:\n",
    "                t[i][j] = 1 + t[i-1][j-1]\n",
    "                if t[i][j] > longest_common:\n",
    "                    longest_common = t[i][j]\n",
    "            else:\n",
    "                t[i][j] = max(t[i][j-1], t[i-1][j])\n",
    "                \n",
    "    num_del = lenX - longest_common\n",
    "    num_insrt = lenY - longest_common\n",
    "    \n",
    "    return num_del, num_insrt"
   ]
  },
  {
   "cell_type": "code",
   "execution_count": 44,
   "metadata": {},
   "outputs": [
    {
     "data": {
      "text/plain": [
       "(0, 2)"
      ]
     },
     "execution_count": 44,
     "metadata": {},
     "output_type": "execute_result"
    }
   ],
   "source": [
    "min_insrt_del(X, Y, lenX, lenY)"
   ]
  },
  {
   "cell_type": "code",
   "execution_count": 45,
   "metadata": {},
   "outputs": [],
   "source": [
    "# Longest Palindromic Subsequence\n",
    "def longest_palindromic_subsequence(string):\n",
    "    n = len(string)\n",
    "    rev_string = string[::-1]\n",
    "    t = [[-1 for _ in range(n+1)] for _ in range(n+1)]\n",
    "    \n",
    "    longest_palindromic = 0\n",
    "    \n",
    "    for i in range(n+1):\n",
    "        for j in range(n+1):\n",
    "            if i == 0 or j == 0:\n",
    "                t[i][j] = 0\n",
    "            elif string[i-1] == rev_string[j-1]:\n",
    "                t[i][j] = 1 + t[i-1][j-1]\n",
    "                if t[i][j] > longest_palindromic:\n",
    "                    longest_palindromic = t[i][j]\n",
    "            else:\n",
    "                t[i][j] = max(t[i-1][j], t[i][j-1])                \n",
    "    \n",
    "    return longest_palindromic"
   ]
  },
  {
   "cell_type": "code",
   "execution_count": 46,
   "metadata": {},
   "outputs": [
    {
     "data": {
      "text/plain": [
       "5"
      ]
     },
     "execution_count": 46,
     "metadata": {},
     "output_type": "execute_result"
    }
   ],
   "source": [
    "longest_palindromic_subsequence('agbcba')"
   ]
  },
  {
   "cell_type": "code",
   "execution_count": 47,
   "metadata": {},
   "outputs": [],
   "source": [
    "# Minimum number of deletion to make a string palindrome\n",
    "def min_del_to_palindrome(string):\n",
    "    n = len(string)\n",
    "    rev_string = string[::-1]\n",
    "    \n",
    "    t = [[-1 for _ in range(n+1)] for _ in range(n+1)]\n",
    "    \n",
    "    longest_common = 0\n",
    "    \n",
    "    for i in range(n+1):\n",
    "        for j in range(n+1):\n",
    "            if i == 0 or j == 0:\n",
    "                t[i][j] = 0\n",
    "            elif string[i-1] == rev_string[j-1]:\n",
    "                t[i][j] = 1 + t[i-1][j-1]\n",
    "                if t[i][j] > longest_common:\n",
    "                    longest_common = t[i][j]\n",
    "                    \n",
    "            else:\n",
    "                t[i][j] = max(t[i-1][j], t[i][j-1])\n",
    "    \n",
    "    return n - longest_common"
   ]
  },
  {
   "cell_type": "code",
   "execution_count": 48,
   "metadata": {},
   "outputs": [
    {
     "data": {
      "text/plain": [
       "1"
      ]
     },
     "execution_count": 48,
     "metadata": {},
     "output_type": "execute_result"
    }
   ],
   "source": [
    "min_del_to_palindrome('agbcba')"
   ]
  },
  {
   "cell_type": "code",
   "execution_count": 49,
   "metadata": {},
   "outputs": [],
   "source": [
    "# Print Shortest Common SuperSequence\n",
    "def print_shortest_super_sequence(X, Y, lenX, lenY):\n",
    "    t = [[-1 for _ in range(lenY+1)] for _ in range(lenX+1)]\n",
    "    \n",
    "    result = ''\n",
    "    \n",
    "    for i in range(lenX+1):\n",
    "        for j in range(lenY+1):\n",
    "            if i == 0 or j == 0:\n",
    "                t[i][j] = 0\n",
    "            elif X[i-1] == Y[j-1]:\n",
    "                t[i][j] = 1 + t[i-1][j-1]\n",
    "            else:\n",
    "                t[i][j] = max(t[i-1][j], t[i][j-1])\n",
    "    \n",
    "    i = lenX\n",
    "    j = lenY\n",
    "    \n",
    "    while i != 0 or j != 0:\n",
    "        if X[i-1] == Y[j-1]:\n",
    "            result = X[i-1] + result\n",
    "            i -= 1\n",
    "            j -= 1\n",
    "        elif t[i][j-1] > t[i-1][j]:\n",
    "            result = Y[j-1] + result\n",
    "            j -= 1\n",
    "        else:\n",
    "            result = X[i-1] + result\n",
    "            i -= 1\n",
    "\n",
    "    return result"
   ]
  },
  {
   "cell_type": "code",
   "execution_count": 50,
   "metadata": {},
   "outputs": [
    {
     "data": {
      "text/plain": [
       "'acbcdaf'"
      ]
     },
     "execution_count": 50,
     "metadata": {},
     "output_type": "execute_result"
    }
   ],
   "source": [
    "print_shortest_super_sequence('acbcf', 'abcdaf', 5, 6)"
   ]
  },
  {
   "cell_type": "code",
   "execution_count": 51,
   "metadata": {},
   "outputs": [],
   "source": [
    "# Longest Repeating SubSequence\n",
    "def longest_repeating_subsequence(string):\n",
    "    n = len(string)\n",
    "    \n",
    "    t = [[-1 for _ in range(n+1)] for _ in range(n+1)]\n",
    "    \n",
    "    result = ''\n",
    "    \n",
    "    for i in range(n+1):\n",
    "        for j in range(n+1):\n",
    "            if i == 0 or j == 0:\n",
    "                t[i][j] = 0\n",
    "            elif string[i-1] == string[j-1] and i != j:\n",
    "                t[i][j] = 1 + t[i-1][j-1]\n",
    "                if string[i-1] not in result:\n",
    "                    result = result + string[i-1]\n",
    "            else:\n",
    "                t[i][j] = max(t[i-1][j], t[i][j-1])\n",
    "    \n",
    "    return result, t[n][n]"
   ]
  },
  {
   "cell_type": "code",
   "execution_count": 52,
   "metadata": {},
   "outputs": [
    {
     "data": {
      "text/plain": [
       "('ABD', 3)"
      ]
     },
     "execution_count": 52,
     "metadata": {},
     "output_type": "execute_result"
    }
   ],
   "source": [
    "longest_repeating_subsequence('AABEBCDD')"
   ]
  },
  {
   "cell_type": "code",
   "execution_count": 53,
   "metadata": {},
   "outputs": [],
   "source": [
    "# Sequence Pattern Matching\n",
    "def sequence_pattern_matching(a, b):\n",
    "    len_a = len(a)\n",
    "    len_b = len(b)\n",
    "\n",
    "    t = [[-1 for _ in range(len_b+1)] for _ in range(len_a+1)]\n",
    "    \n",
    "    for i in range(len_a+1):\n",
    "        for j in range(len_b+1):\n",
    "            if i == 0 or j == 0:\n",
    "                t[i][j] = 0\n",
    "            elif a[i-1] == b[j-1]:\n",
    "                t[i][j] = 1 + t[i-1][j-1]\n",
    "            else:\n",
    "                t[i][j] = max(t[i-1][j], t[i][j-1])\n",
    "                \n",
    "    return t[len_a][len_b] == len_a or t[len_a][len_b] == len_b"
   ]
  },
  {
   "cell_type": "code",
   "execution_count": 54,
   "metadata": {},
   "outputs": [
    {
     "data": {
      "text/plain": [
       "True"
      ]
     },
     "execution_count": 54,
     "metadata": {},
     "output_type": "execute_result"
    }
   ],
   "source": [
    "sequence_pattern_matching('AXY', 'ADXCPY')"
   ]
  },
  {
   "cell_type": "code",
   "execution_count": 55,
   "metadata": {},
   "outputs": [],
   "source": [
    "# Minimum number of insertion to make a string palindrome\n",
    "# number of insertion == number of deletion\n",
    "def min_insrt_palindrome(string):\n",
    "    n = len(string)\n",
    "    rev_string = string[::-1]\n",
    "    \n",
    "    t = [[-1 for _ in range(n+1)] for _ in range(n+1)]\n",
    "    \n",
    "    for i in range(n+1):\n",
    "        for j in range(n+1):\n",
    "            if i == 0 or j == 0:\n",
    "                t[i][j] = 0\n",
    "            elif string[i-1] == rev_string[j-1]:\n",
    "                t[i][j] = 1 + t[i-1][j-1]\n",
    "            else:\n",
    "                t[i][j] = max(t[i-1][j], t[i][j-1])\n",
    "                \n",
    "    return n - t[n][n]"
   ]
  },
  {
   "cell_type": "code",
   "execution_count": 56,
   "metadata": {},
   "outputs": [
    {
     "data": {
      "text/plain": [
       "2"
      ]
     },
     "execution_count": 56,
     "metadata": {},
     "output_type": "execute_result"
    }
   ],
   "source": [
    "min_insrt_palindrome('aebcbda')"
   ]
  }
 ],
 "metadata": {
  "kernelspec": {
   "display_name": "Python 3",
   "language": "python",
   "name": "python3"
  },
  "language_info": {
   "codemirror_mode": {
    "name": "ipython",
    "version": 3
   },
   "file_extension": ".py",
   "mimetype": "text/x-python",
   "name": "python",
   "nbconvert_exporter": "python",
   "pygments_lexer": "ipython3",
   "version": "3.8.5"
  }
 },
 "nbformat": 4,
 "nbformat_minor": 4
}
