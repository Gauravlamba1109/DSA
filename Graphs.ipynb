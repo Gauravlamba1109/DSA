{
 "cells": [
  {
   "cell_type": "code",
   "execution_count": 6,
   "metadata": {},
   "outputs": [],
   "source": [
    "class GraphList:\n",
    "    def __init__(self):\n",
    "        self.adj_list = dict()\n",
    "        \n",
    "    def add_edge(self, from_vertex, to_vertex):\n",
    "        if from_vertex in self.adj_list:\n",
    "            self.adj_list[from_vertex].append(to_vertex)\n",
    "        else:\n",
    "            self.adj_list[from_vertex] = [to_vertex]\n",
    "            \n",
    "    def print_graph(self):\n",
    "        for key, value in self.adj_list.items():\n",
    "            print(key, \"-->\", value)"
   ]
  },
  {
   "cell_type": "code",
   "execution_count": 9,
   "metadata": {},
   "outputs": [
    {
     "name": "stdout",
     "output_type": "stream",
     "text": [
      "0 --> [1, 4]\n",
      "4 --> [1, 3]\n",
      "1 --> [0, 4, 3, 2]\n",
      "2 --> [3]\n",
      "3 --> [4]\n"
     ]
    }
   ],
   "source": [
    "al = GraphList()\n",
    "al.add_edge(0, 1)\n",
    "al.add_edge(0, 4)\n",
    "al.add_edge(4, 1)\n",
    "al.add_edge(4, 3)\n",
    "al.add_edge(1, 0)\n",
    "al.add_edge(1, 4)\n",
    "al.add_edge(1, 3)\n",
    "al.add_edge(1, 2)\n",
    "al.add_edge(2, 3)\n",
    "al.add_edge(3, 4)\n",
    "al.print_graph()"
   ]
  },
  {
   "cell_type": "code",
   "execution_count": 14,
   "metadata": {},
   "outputs": [],
   "source": [
    "class GraphMatrix:\n",
    "    def __init__(self, vertex):\n",
    "        self.graph = [[0] * vertex for _ in range(vertex)]\n",
    "        self.vertex = vertex\n",
    "        \n",
    "    def add_edge(self, from_vertex, to_vertex):\n",
    "        self.graph[from_vertex - 1][to_vertex - 1] = 1\n",
    "    \n",
    "    def show(self):\n",
    "        print(\" \", end=\" \")\n",
    "        for i in range(1, self.vertex + 1):\n",
    "            print(i, end=\" \")\n",
    "        print()\n",
    "        for i in range(1, self.vertex + 1):\n",
    "            print(i, end=\" \")\n",
    "            for j in range(1, self.vertex + 1):\n",
    "                print(self.graph[i-1][j-1], end=\" \")\n",
    "            print()"
   ]
  },
  {
   "cell_type": "code",
   "execution_count": 16,
   "metadata": {},
   "outputs": [
    {
     "name": "stdout",
     "output_type": "stream",
     "text": [
      "  1 2 3 4 5 \n",
      "1 0 1 1 1 1 \n",
      "2 0 0 1 0 0 \n",
      "3 0 0 0 1 0 \n",
      "4 1 0 1 0 0 \n",
      "5 1 0 0 1 0 \n"
     ]
    }
   ],
   "source": [
    "al = GraphMatrix(5)\n",
    "\n",
    "al.add_edge(0, 1)\n",
    "al.add_edge(0, 4)\n",
    "al.add_edge(4, 1)\n",
    "al.add_edge(4, 3)\n",
    "al.add_edge(1, 0)\n",
    "al.add_edge(1, 4)\n",
    "al.add_edge(1, 3)\n",
    "al.add_edge(1, 2)\n",
    "al.add_edge(2, 3)\n",
    "al.add_edge(3, 4)\n",
    "al.show()"
   ]
  },
  {
   "cell_type": "code",
   "execution_count": 18,
   "metadata": {},
   "outputs": [],
   "source": []
  },
  {
   "cell_type": "code",
   "execution_count": null,
   "metadata": {},
   "outputs": [],
   "source": []
  }
 ],
 "metadata": {
  "kernelspec": {
   "display_name": "Python 3",
   "language": "python",
   "name": "python3"
  },
  "language_info": {
   "codemirror_mode": {
    "name": "ipython",
    "version": 3
   },
   "file_extension": ".py",
   "mimetype": "text/x-python",
   "name": "python",
   "nbconvert_exporter": "python",
   "pygments_lexer": "ipython3",
   "version": "3.8.5"
  }
 },
 "nbformat": 4,
 "nbformat_minor": 4
}
