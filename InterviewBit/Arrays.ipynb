{
 "cells": [
  {
   "cell_type": "markdown",
   "id": "e1eea7e6",
   "metadata": {},
   "source": [
    "# Arrays\n",
    "\n",
    "- [Array Math](#Array-Math)\n",
    "    - [Pick from both sides](#Pick-from-both-sides)\n",
    "    - [Min Steps in Infinite Grid](#Min-Steps-in-Infinite-Grid)\n",
    "    - [Minimum Lights to Activate](#Minimum-Lights-to-Activate)\n",
    "    - [Maximum Sum Triplet](#Maximum-Sum-Triplet)\n",
    "    \n",
    "- [Simulation array](#Simulation-array)\n",
    "    - [Perfect Peak of Array](#Perfect-Peak-of-Array)\n",
    "    - [Kth Row of Pascal's Triangle](#Kth-Row-of-Pascal's-Triangle)\n",
    "    - [Spiral Order Matrix II](#Spiral-Order-Matrix-II)\n",
    "    - [Pascal Triangle](#Pascal-Triangle)\n",
    "    - [Anti Diagonals](#Anti-Diagonals)\n",
    "    \n",
    "- [Bucketing](#Bucketing)\n",
    "    - [Triplets with Sum between given range](#Triplets-with-Sum-between-given-range)\n",
    "    - [Balance Array](#Balance-Array)\n",
    "    - [Find Duplicate in Array](#Find-Duplicate-in-Array)\n",
    "\n",
    "- [Arrangement](#Arrangement)\n",
    "    - [Sort array with squares](#Sort-array-with-squares)\n",
    "    - [Largest Number](#Largest-Number)\n",
    "    - [Rotate Matrix](#Rotate-Matrix)\n",
    "    - [Find Permutation](#Find-Permutation)\n",
    "    - [Next Permutation](#Next-Permutation)\n",
    "    \n",
    "- [Value Ranges](#Value-Ranges)\n",
    "    - [Max Min](#Max-Min)\n",
    "    - [Merge Intervals](#Merge-Intervals)\n",
    "    - [Merge Overlapping Intervals](#Merge-Overlapping-Intervals)\n",
    "    \n",
    "- [Sorting](#Sorting)\n",
    "    - [Noble Integer](#Noble-Integer)\n",
    "    - [Wave Array](#Wave-Array)\n",
    "    - [Hotel Bookings Possible](#Hotel-Bookings-Possible)\n",
    "    - [Max Distance](#Max-Distance)\n",
    "    - [Maximum Unsorted Subarray](#Maximum-Unsorted-Subarray)\n",
    "\n",
    "- [Space Recycle](#Space-Recycling)\n",
    "    - [Set Matrix Zeros](#Set-Matrix-Zeros)\n",
    "    - [First Missing Integer](#First-Missing-Integer)\n",
    "    - [Maximum Sum Square SubMatrix](#Maximum-Sum-Square-SubMatrix)\n",
    "\n",
    "- [Missing / repeated number](#Missing-/-repeated-number)\n",
    "    - [Repeat and Missing Number Array](#Repeat-and-Missing-Number-Array)\n",
    "    - [N/3 Repeat Number](#N/3-Repeat-Number)"
   ]
  },
  {
   "cell_type": "markdown",
   "id": "1b23c3e4",
   "metadata": {},
   "source": [
    "## Array Math\n",
    "\n",
    "### Pick from both sides"
   ]
  },
  {
   "cell_type": "code",
   "execution_count": null,
   "id": "ecf4cbb9",
   "metadata": {},
   "outputs": [],
   "source": [
    "def solve(self, A, B):\n",
    "    maxSum = sum(A[:B])\n",
    "    tempSum = maxSum\n",
    "    for i in range(1, B+1):\n",
    "        tempSum = tempSum - A[B-i] + A[-i]\n",
    "        maxSum = max(maxSum, tempSum)\n",
    "    return maxSum"
   ]
  },
  {
   "cell_type": "markdown",
   "id": "65d89271",
   "metadata": {},
   "source": [
    "### Min Steps in Infinite Grid"
   ]
  },
  {
   "cell_type": "code",
   "execution_count": null,
   "id": "6de14728",
   "metadata": {},
   "outputs": [],
   "source": [
    "# Based on \"Manhattan Distance\" or \"Taxicab Geometry\"\n",
    "\n",
    "class Solution:\n",
    "    def getDist(self, p1, p2):\n",
    "        '''\n",
    "        we are doing  max(abs x diff, abs y diff) because we can always replace \n",
    "        (1 move up + 1 move left) by a north west diagonal move and likewise for other \n",
    "        diagonals , so our main concern is to cover the max diff which is in either \n",
    "        along x coordinate or y coordinate , because the smaller of the differences \n",
    "        can be covered by this diagonal move as it will count for an x move as well \n",
    "        as for a y move in just one move\n",
    "        '''\n",
    "        return max(abs(p1[0]-p2[0]), abs(p1[1]-p2[1]))\n",
    "\n",
    "    def coverPoints(self, A, B):\n",
    "        dist = 0\n",
    "        n = len(A)\n",
    "        if n == 1:\n",
    "            return 0\n",
    "\n",
    "        for i in range(1, n):\n",
    "            dist += self.getDist((A[i], B[i]), (A[i-1], B[i-1]))\n",
    "\n",
    "        return dist"
   ]
  },
  {
   "cell_type": "markdown",
   "id": "35140bfc",
   "metadata": {},
   "source": [
    "### Minimum Lights to Activate"
   ]
  },
  {
   "cell_type": "code",
   "execution_count": null,
   "id": "ed655c85",
   "metadata": {},
   "outputs": [],
   "source": [
    "def solve(self, A, B):\n",
    "    minBulbs = 0\n",
    "    n = len(A)\n",
    "\n",
    "    i = 0\n",
    "    # Initially all bulbs are off so start from index 0\n",
    "    while i < n:\n",
    "        maxRight = min(i+B-1, n-1)\n",
    "        maxLeft = max(0, i-B+1)\n",
    "\n",
    "        j = 0\n",
    "        # Flag to check if all places are lit or not, initially set to true means it cannot it up\n",
    "        flag = True \n",
    "        \n",
    "        # Start from max possible right from the index which is in dark\n",
    "        # Break when you encounter a buld that can lit the dark place\n",
    "        # and set flag to flase since this place can lit\n",
    "        for j in range(maxRight, maxLeft-1, -1):\n",
    "            if A[j] == 1:\n",
    "                minBulbs += 1\n",
    "                flag = False\n",
    "                break\n",
    "        \n",
    "        # Return -1 if it cannot be lit\n",
    "        if flag:\n",
    "            return -1\n",
    "        \n",
    "        # Move to the index where the light still does not reach i.e. B right from the founded bulb\n",
    "        i = j + B \n",
    "\n",
    "    return minBulbs"
   ]
  },
  {
   "cell_type": "markdown",
   "id": "16374b53",
   "metadata": {},
   "source": [
    "### Maximum Sum Triplet\n"
   ]
  },
  {
   "cell_type": "code",
   "execution_count": null,
   "id": "ed25d50f",
   "metadata": {},
   "outputs": [],
   "source": [
    "def solve(self, A):\n",
    "    n = len(A)\n",
    "    s = 0\n",
    "\n",
    "    max_l = [-1 for _ in range(n)]\n",
    "    max_r = [-1 for _ in range(n)]\n",
    "\n",
    "    max_l[0] = A[0]\n",
    "    max_r[n-1] = A[n-1]\n",
    "\n",
    "    for i in range(1, n):\n",
    "        max_l[i] = max(max_l[i-1], A[i])\n",
    "\n",
    "    for i in range(n-2, -1, -1):\n",
    "        max_r[i] = max(max_r[i+1], A[i])\n",
    "\n",
    "    for i in range(1, n-1):\n",
    "        if A[i] == max_l[i-1] or A[i] == max_r[i+1]:\n",
    "            continue\n",
    "        else:\n",
    "            s = max(s, max_l[i-1] + A[i] + max_r[i+1])\n",
    "\n",
    "    return s"
   ]
  },
  {
   "cell_type": "markdown",
   "id": "739d91d6",
   "metadata": {},
   "source": [
    "### Max Sum Contiguous Subarray"
   ]
  },
  {
   "cell_type": "code",
   "execution_count": 1,
   "id": "6c28c626",
   "metadata": {},
   "outputs": [],
   "source": [
    "def maxSubArray(self, arr):\n",
    "    N = len(arr)\n",
    "    if N == 1:\n",
    "        return arr[0]\n",
    "\n",
    "    sumArr = [-float('inf') for _ in range(N)]\n",
    "    sumArr[0] = arr[0]\n",
    "    maxSum = arr[0]\n",
    "\n",
    "    for i, ele in enumerate(arr):\n",
    "        sumArr[i] = max(sumArr[i-1] + ele, ele)\n",
    "        maxSum = max(maxSum, sumArr[i])\n",
    "    return maxSum"
   ]
  },
  {
   "cell_type": "markdown",
   "id": "c7798e7f",
   "metadata": {},
   "source": [
    "### Add One To Number"
   ]
  },
  {
   "cell_type": "code",
   "execution_count": null,
   "id": "9eb49972",
   "metadata": {},
   "outputs": [],
   "source": [
    "def plusOne(self, A):\n",
    "    A = A[::-1]\n",
    "\n",
    "    carry = 0\n",
    "    A[0] = A[0] + 1\n",
    "    for i, ele in enumerate(A):\n",
    "        temp = ele + carry\n",
    "        A[i] = temp % 10\n",
    "        carry = temp // 10\n",
    "\n",
    "    if carry == 1:\n",
    "        A.append(1)\n",
    "\n",
    "    while A[-1] == 0:\n",
    "        A.pop()\n",
    "\n",
    "    return A[::-1]"
   ]
  },
  {
   "cell_type": "markdown",
   "id": "b95c0438",
   "metadata": {},
   "source": [
    "### Maximum Absolute Difference"
   ]
  },
  {
   "cell_type": "code",
   "execution_count": null,
   "id": "fba87faa",
   "metadata": {},
   "outputs": [],
   "source": [
    "def maxArr(self, A):\n",
    "    max1 = -float('inf')\n",
    "    min1 = float('inf')\n",
    "    max2 = -float('inf')\n",
    "    min2 = float('inf')\n",
    "\n",
    "    for i, ele in enumerate(A):\n",
    "        max1 = max(max1, A[i] + i)\n",
    "        min1 = min(min1, A[i] + i)\n",
    "        max2 = max(max2, A[i] - i)\n",
    "        min2 = min(min2, A[i] - i)\n",
    "\n",
    "    return max(max1 - min1, max2 - min2)"
   ]
  },
  {
   "cell_type": "markdown",
   "id": "e6738ea2",
   "metadata": {},
   "source": [
    "### Partitions"
   ]
  },
  {
   "cell_type": "code",
   "execution_count": null,
   "id": "98077da0",
   "metadata": {},
   "outputs": [],
   "source": [
    "def solve(self, A, B):\n",
    "    total = sum(B)\n",
    "    if total % 3 == 0:\n",
    "        target = total // 3\n",
    "    else:\n",
    "        return 0\n",
    "    ans = 0\n",
    "    f = 0\n",
    "    s = 0\n",
    "    for i in range(A - 1):\n",
    "        s += B[i]\n",
    "        if s == 2 * target:\n",
    "            ans += f\n",
    "        if s == target:\n",
    "            f += 1\n",
    "    return ans"
   ]
  },
  {
   "cell_type": "markdown",
   "id": "8fac867a",
   "metadata": {},
   "source": [
    "### Flip"
   ]
  },
  {
   "cell_type": "code",
   "execution_count": null,
   "id": "ebf41ed1",
   "metadata": {},
   "outputs": [],
   "source": [
    "def flip(self, A):\n",
    "    n = len(A)\n",
    "    zeros = 0\n",
    "    ones = 0\n",
    "\n",
    "    v = [0 for _ in range(n)]\n",
    "    res = []\n",
    "\n",
    "    for i in range(n):\n",
    "        if A[i] == '1':\n",
    "            v[i] = -1\n",
    "        else:\n",
    "            v[i] = 1\n",
    "\n",
    "    ms = 0\n",
    "    me = 0\n",
    "    st = float('inf')\n",
    "    e = float('inf')\n",
    "    k = 0\n",
    "\n",
    "    for i in range(n):\n",
    "        if me + v[i] < 0:\n",
    "            k = i + 1\n",
    "            me = 0\n",
    "        else:\n",
    "            me += v[i]\n",
    "\n",
    "        if me > ms:\n",
    "            ms = me\n",
    "            st = k\n",
    "            e = i \n",
    "\n",
    "\n",
    "    if st == float('inf'):\n",
    "        return []\n",
    "\n",
    "    res.append(st+1)\n",
    "    res.append(e+1)\n",
    "    return res"
   ]
  },
  {
   "cell_type": "markdown",
   "id": "6ca29b28",
   "metadata": {},
   "source": [
    "## Simulation array"
   ]
  },
  {
   "cell_type": "markdown",
   "id": "7548401d",
   "metadata": {},
   "source": [
    "### Perfect Peak of Array"
   ]
  },
  {
   "cell_type": "code",
   "execution_count": null,
   "id": "5fb2f496",
   "metadata": {},
   "outputs": [],
   "source": [
    "def perfectPeak(self, A):\n",
    "    for i in range(1, len(A)-1):\n",
    "        restart = False\n",
    "        for r in range(i+1, len(A)):\n",
    "            if(A[i] < A[r]):\n",
    "                continue\n",
    "            else:\n",
    "                restart = True\n",
    "                break\n",
    "        for l in range(i-1, -1, -1):\n",
    "            if(A[i] > A[l]):\n",
    "                continue\n",
    "            else:\n",
    "                restart = True\n",
    "                break\n",
    "\n",
    "        if restart:\n",
    "            continue\n",
    "        return 1\n",
    "    return 0"
   ]
  },
  {
   "cell_type": "markdown",
   "id": "2b8ce4e3",
   "metadata": {},
   "source": [
    "### Kth Row of Pascal's Triangle"
   ]
  },
  {
   "cell_type": "code",
   "execution_count": null,
   "id": "8ba5706b",
   "metadata": {},
   "outputs": [],
   "source": [
    "def getRow(self, A):\n",
    "    N = A\n",
    "    prev = 1\n",
    "    result = [1]\n",
    "\n",
    "    for i in range(1, N + 1):\n",
    "        curr = (prev * (N - i + 1)) // i\n",
    "        result.append(curr)\n",
    "        prev = curr\n",
    "\n",
    "    return result"
   ]
  },
  {
   "cell_type": "markdown",
   "id": "ef2fbd88",
   "metadata": {},
   "source": [
    "### Spiral Order Matrix II"
   ]
  },
  {
   "cell_type": "code",
   "execution_count": null,
   "id": "38069cb2",
   "metadata": {},
   "outputs": [],
   "source": [
    "def generateMatrix(self, n):\n",
    "    A = [[0] * n for _ in range(n)]\n",
    "    i, j, di, dj = 0, 0, 0, 1\n",
    "    for k in range(n*n):\n",
    "        A[i][j] = k + 1\n",
    "        if A[(i+di)%n][(j+dj)%n]:\n",
    "            di, dj = dj, -di\n",
    "        i += di\n",
    "        j += dj\n",
    "    return A"
   ]
  },
  {
   "cell_type": "markdown",
   "id": "ecb75f30",
   "metadata": {},
   "source": [
    "### Pascal Triangle"
   ]
  },
  {
   "cell_type": "code",
   "execution_count": null,
   "id": "63c25046",
   "metadata": {},
   "outputs": [],
   "source": [
    "def solve(A):\n",
    "    result = [[] for _ in range(A)]\n",
    "\n",
    "    for i in range(A):\n",
    "        result[i] = [0] * (i+1)\n",
    "        result[i][0] = 1\n",
    "        result[i][i] = 1\n",
    "\n",
    "        for j in range(1, i):\n",
    "            result[i][j] = result[i-1][j-1] + result[i-1][j]\n",
    "\n",
    "    return result"
   ]
  },
  {
   "cell_type": "markdown",
   "id": "38709832",
   "metadata": {},
   "source": [
    "### Anti Diagonals"
   ]
  },
  {
   "cell_type": "code",
   "execution_count": null,
   "id": "ed98d0c3",
   "metadata": {},
   "outputs": [],
   "source": [
    "def diagonal(self, A):\n",
    "    n = len(A)\n",
    "    N = 2 * n - 1\n",
    "\n",
    "    result = []\n",
    "\n",
    "    for i in range(N) :\n",
    "        result.append([])\n",
    "\n",
    "    for i in range(n) :\n",
    "        for j in range(n) :\n",
    "            result[i + j].append(A[i][j])\n",
    "\n",
    "    return result"
   ]
  },
  {
   "cell_type": "markdown",
   "id": "395b46cb",
   "metadata": {},
   "source": [
    "## Bucketing\n",
    "\n",
    "### Triplets with Sum between given range"
   ]
  },
  {
   "cell_type": "code",
   "execution_count": null,
   "id": "4582e61e",
   "metadata": {},
   "outputs": [],
   "source": [
    "def solve(A):\n",
    "    A = list(map(float, A))\n",
    "\n",
    "    s = [A[0], A[1], A[2]]\n",
    "    s.sort()\n",
    "\n",
    "    for ele in A[3:]:\n",
    "        if 1 < sum(s) < 2:\n",
    "            return 1\n",
    "        elif sum(s) >= 2:\n",
    "            s[2] = ele\n",
    "        else:\n",
    "            s[0] = ele\n",
    "\n",
    "        s.sort()\n",
    "\n",
    "    if 1 < sum(s) < 2:\n",
    "        return 1\n",
    "    return 0"
   ]
  },
  {
   "cell_type": "markdown",
   "id": "e02ab335",
   "metadata": {},
   "source": [
    "### Balance Array"
   ]
  },
  {
   "cell_type": "code",
   "execution_count": null,
   "id": "5a09f0e2",
   "metadata": {},
   "outputs": [],
   "source": [
    "def solve(A):\n",
    "    rightOddSum = 0\n",
    "    leftOddSum = 0\n",
    "    rightEvenSum = 0\n",
    "    leftEvenSum = 0\n",
    "\n",
    "    for i, ele in enumerate(A):\n",
    "        if i % 2 == 0:\n",
    "            rightEvenSum += ele\n",
    "        else:\n",
    "            rightOddSum += ele\n",
    "\n",
    "    count = 0\n",
    "    for i, ele in enumerate(A):\n",
    "        if i % 2 == 0:\n",
    "            rightEvenSum -= ele\n",
    "        else:\n",
    "            rightOddSum -= ele\n",
    "\n",
    "        if leftEvenSum + rightOddSum == rightEvenSum + leftOddSum:\n",
    "            count += 1\n",
    "\n",
    "        if i % 2 == 0:\n",
    "            leftEvenSum += ele\n",
    "        else:\n",
    "            leftOddSum += ele\n",
    "\n",
    "    return count"
   ]
  },
  {
   "cell_type": "markdown",
   "id": "2c1187ab",
   "metadata": {},
   "source": [
    "### Find Duplicate in Array"
   ]
  },
  {
   "cell_type": "code",
   "execution_count": null,
   "id": "c32cefc3",
   "metadata": {},
   "outputs": [],
   "source": [
    "def repeatedNumber(A):\n",
    "    arr = [0 for _ in range(len(A))]\n",
    "\n",
    "    for ele in A:\n",
    "        arr[ele] += 1\n",
    "\n",
    "        if arr[ele] > 1:\n",
    "            return ele\n",
    "\n",
    "    return -1"
   ]
  },
  {
   "cell_type": "markdown",
   "id": "f1174509",
   "metadata": {},
   "source": [
    "## Arrangement\n",
    "\n",
    "### Sort array with squares"
   ]
  },
  {
   "cell_type": "code",
   "execution_count": null,
   "id": "05a02bda",
   "metadata": {},
   "outputs": [],
   "source": [
    "def solve(A):\n",
    "    result = []\n",
    "    N = len(A)\n",
    "\n",
    "    i = 0\n",
    "    j = N-1\n",
    "\n",
    "    while i <= j:\n",
    "        if A[i] ** 2 > A[j] ** 2:\n",
    "            result.append(A[i] ** 2)\n",
    "            i += 1\n",
    "        else:\n",
    "            result.append(A[j] ** 2)\n",
    "            j -= 1\n",
    "\n",
    "    return result[::-1]"
   ]
  },
  {
   "cell_type": "markdown",
   "id": "f766e6e6",
   "metadata": {},
   "source": [
    "### Largest Number"
   ]
  },
  {
   "cell_type": "code",
   "execution_count": null,
   "id": "759d3849",
   "metadata": {},
   "outputs": [],
   "source": [
    "class Solution:\n",
    "    def compare(self, x, y):\n",
    "        return str(x) + str(y) > str(y) + str(x)\n",
    "\n",
    "    def mergeSort(self, nums, l, r):\n",
    "        if l > r:\n",
    "            return \n",
    "        if l == r:\n",
    "            return [nums[l]]\n",
    "        mid = l + (r-l)//2\n",
    "        left = self.mergeSort(nums, l, mid)\n",
    "        right = self.mergeSort(nums, mid+1, r)\n",
    "        return self.merge(left, right)\n",
    "\n",
    "    def merge(self, l1, l2):\n",
    "        res, i, j = [], 0, 0\n",
    "        while i < len(l1) and j < len(l2):\n",
    "            if not self.compare(l1[i], l2[j]):\n",
    "                res.append(l2[j])\n",
    "                j += 1\n",
    "            else:\n",
    "                res.append(l1[i])\n",
    "                i += 1\n",
    "        res.extend(l1[i:] or l2[j:])\n",
    "        return res\n",
    "\n",
    "    def largestNumber(self, A):\n",
    "        if sum(A) == 0:\n",
    "            return 0\n",
    "        arr = list(A)\n",
    "        arr = self.mergeSort(arr, 0, len(arr)-1)\n",
    "        return ''.join(map(str, arr))"
   ]
  },
  {
   "cell_type": "markdown",
   "id": "958962a0",
   "metadata": {},
   "source": [
    "### Rotate Matrix"
   ]
  },
  {
   "cell_type": "code",
   "execution_count": null,
   "id": "d5c04eb5",
   "metadata": {},
   "outputs": [],
   "source": [
    "def rotate(A):\n",
    "    N = len(A)\n",
    "\n",
    "    # Transpose Matrix\n",
    "    for i in range(N):\n",
    "        for j in range(i, N):\n",
    "            A[i][j], A[j][i] = A[j][i], A[i][j]\n",
    "\n",
    "    # Reverse Row\n",
    "    for i in range(N):\n",
    "        for j in range(N//2):\n",
    "            A[i][N-j-1], A[i][j] = A[i][j], A[i][N-j-1]\n",
    "\n",
    "    return A"
   ]
  },
  {
   "cell_type": "markdown",
   "id": "82b7c862",
   "metadata": {},
   "source": [
    "### Find Permutation"
   ]
  },
  {
   "cell_type": "code",
   "execution_count": null,
   "id": "39740e6a",
   "metadata": {},
   "outputs": [],
   "source": [
    "def findPerm(A, B):\n",
    "    arr = []\n",
    "    small = 1\n",
    "    large = B\n",
    "    for char in A:\n",
    "        if char == 'I':\n",
    "            arr.append(small)\n",
    "            small += 1\n",
    "        else:\n",
    "            arr.append(large)\n",
    "            large -= 1\n",
    "\n",
    "    arr.append(large)\n",
    "    return arr"
   ]
  },
  {
   "cell_type": "markdown",
   "id": "adbb659e",
   "metadata": {},
   "source": [
    "### Next Permutation"
   ]
  },
  {
   "cell_type": "code",
   "execution_count": null,
   "id": "a383ed4f",
   "metadata": {},
   "outputs": [],
   "source": [
    "def nextPermutation(A):\n",
    "    N = len(A)\n",
    "    \n",
    "    if N < 3:\n",
    "        return A[::-1] \n",
    "\n",
    "    idx1 = -1\n",
    "    for i in range(N-2, -1, -1):\n",
    "        if A[i] < A[i+1]:\n",
    "            idx1 = i \n",
    "            break\n",
    "\n",
    "    idx2 = -1\n",
    "    for i in range(N-1, idx1, -1):\n",
    "        if A[i] > A[idx1]:\n",
    "            idx2 = i \n",
    "            break\n",
    "\n",
    "    A[idx1], A[idx2] = A[idx2], A[idx1]\n",
    "\n",
    "    A = A[:idx1+1] + (A[idx1+1:])[::-1]\n",
    "    return A"
   ]
  },
  {
   "cell_type": "markdown",
   "id": "994a8371",
   "metadata": {},
   "source": [
    "## Value Ranges\n",
    "\n",
    "### Max Min"
   ]
  },
  {
   "cell_type": "code",
   "execution_count": 1,
   "id": "72031567",
   "metadata": {},
   "outputs": [],
   "source": [
    "def solve(self, A):\n",
    "    mx = max(A)\n",
    "    mn = min(A)\n",
    "\n",
    "    return mx + mn"
   ]
  },
  {
   "cell_type": "markdown",
   "id": "3ab61ef4",
   "metadata": {},
   "source": [
    "### Merge Intervals"
   ]
  },
  {
   "cell_type": "code",
   "execution_count": 2,
   "id": "77746ff3",
   "metadata": {},
   "outputs": [],
   "source": [
    "def insert(self, intervals, new_interval):\n",
    "    result = []\n",
    "    n = len(intervals)\n",
    "    i = 0\n",
    "\n",
    "    # Add all the interval that are smaller than the new interval\n",
    "    while i < n and intervals[i].end < new_interval.start:\n",
    "        result.append(intervals[i])\n",
    "        i += 1\n",
    "\n",
    "    # if this condition is true then new_interval is the largest interval\n",
    "    # so append it to the result\n",
    "    if i >= n:\n",
    "        result.append(new_interval)\n",
    "    # If this condition is true it means that new_interval does not lie in \n",
    "    # any range\n",
    "    elif new_interval.end < intervals[i].start:\n",
    "        result.append(new_interval)\n",
    "    # Here we will find all the intervals that lie in new interval\n",
    "    else:\n",
    "        start = min(intervals[i].start, new_interval.start)\n",
    "        end = 0\n",
    "        while i < n and new_interval.end >= intervals[i].end:\n",
    "            end = intervals[i].end\n",
    "            i += 1\n",
    "\n",
    "        # In this case we check if either all interval lie in the range or \n",
    "        # there is atleast one interval that is largest to our new interval\n",
    "        if i >= n or intervals[i].start > new_interval.end:\n",
    "            end = max(end, new_interval.end)\n",
    "            result.append(Interval(start, end))\n",
    "        # in this case new_interval.start > interval.start but\n",
    "        # new_interval.end < interval.end\n",
    "        else:\n",
    "            result.append(Interval(start, intervals[i].end))\n",
    "            i += 1\n",
    "\n",
    "    # add all the remaining interval in the result\n",
    "    while i < n:\n",
    "        result.append(intervals[i])\n",
    "        i += 1\n",
    "\n",
    "    return result"
   ]
  },
  {
   "cell_type": "markdown",
   "id": "c4e82900",
   "metadata": {},
   "source": [
    "### Merge Overlapping Intervals"
   ]
  },
  {
   "cell_type": "code",
   "execution_count": 3,
   "id": "142a6dfb",
   "metadata": {},
   "outputs": [],
   "source": [
    "def merge(self, intervals):\n",
    "    intervals.sort(key=lambda x: (x.start, x.end))\n",
    "    result = []\n",
    "\n",
    "    for interval in intervals:\n",
    "        if result and result[-1].end >= interval.start:\n",
    "            result[-1].end = max(result[-1].end, interval.end)\n",
    "        else:\n",
    "            result.append(interval)\n",
    "\n",
    "    return result "
   ]
  },
  {
   "cell_type": "markdown",
   "id": "f3a3a764",
   "metadata": {},
   "source": [
    "## Sorting\n",
    "\n",
    "### Noble Integer"
   ]
  },
  {
   "cell_type": "code",
   "execution_count": null,
   "id": "8af260fe",
   "metadata": {},
   "outputs": [],
   "source": [
    "def solve(A):\n",
    "    N = len(A)\n",
    "    A.sort()\n",
    "\n",
    "    freq = dict()\n",
    "\n",
    "    for ele in A:\n",
    "        if ele not in freq:\n",
    "            freq[ele] = 0\n",
    "        freq[ele] += 1\n",
    "\n",
    "    for idx, ele in enumerate(A):\n",
    "        if ele == (N-idx-1) and freq[ele] == 1:\n",
    "            return 1\n",
    "        freq[ele] -= 1\n",
    "\n",
    "    return -1"
   ]
  },
  {
   "cell_type": "markdown",
   "id": "9e68a4e7",
   "metadata": {},
   "source": [
    "### Wave Array"
   ]
  },
  {
   "cell_type": "code",
   "execution_count": null,
   "id": "53496924",
   "metadata": {},
   "outputs": [],
   "source": [
    "def wave(A):\n",
    "    A.sort()\n",
    "    N = len(A)\n",
    "    for i in range(0, N-1, 2):\n",
    "        A[i], A[i+1] = A[i+1], A[i]\n",
    "\n",
    "    return A"
   ]
  },
  {
   "cell_type": "markdown",
   "id": "ea0f1ed9",
   "metadata": {},
   "source": [
    "### Hotel Bookings Possible"
   ]
  },
  {
   "cell_type": "code",
   "execution_count": null,
   "id": "22bced77",
   "metadata": {},
   "outputs": [],
   "source": [
    "def hotel(arrive, depart, K):\n",
    "    arrive.sort()\n",
    "    depart.sort()\n",
    "    n = len(arrive)\n",
    "\n",
    "    rooms = K\n",
    "\n",
    "    i = 0\n",
    "    j = 0\n",
    "\n",
    "    while i < n or j < n:\n",
    "        if i < n and j < n:\n",
    "            if arrive[i] < depart[j]:\n",
    "                if rooms == 0:\n",
    "                    return False\n",
    "                rooms -= 1\n",
    "                i += 1\n",
    "            else:\n",
    "                rooms += 1\n",
    "                j += 1\n",
    "        elif i < n:\n",
    "            if rooms == 0:\n",
    "                return False\n",
    "            rooms -= 1\n",
    "            i += 1\n",
    "        else:\n",
    "            rooms += 1\n",
    "            j += 1\n",
    "\n",
    "    return True"
   ]
  },
  {
   "cell_type": "markdown",
   "id": "94012631",
   "metadata": {},
   "source": [
    "### Max Distance"
   ]
  },
  {
   "cell_type": "code",
   "execution_count": null,
   "id": "c64faae2",
   "metadata": {},
   "outputs": [],
   "source": [
    "def maximumGap(self, A):\n",
    "    N = len(A)\n",
    "    suffMax = [ele for ele in A]\n",
    "\n",
    "    for i in range(N-2, -1, -1):\n",
    "        suffMax[i] = max(suffMax[i], suffMax[i+1])\n",
    "\n",
    "    i = 0\n",
    "    j = 0\n",
    "    md = 0\n",
    "\n",
    "    while i < N and j < N:\n",
    "        if suffMax[j] >= A[i]:\n",
    "            md = max(md, j-i)\n",
    "            j += 1\n",
    "        else:\n",
    "            i += 1\n",
    "\n",
    "    return md"
   ]
  },
  {
   "cell_type": "markdown",
   "id": "d0561d95",
   "metadata": {},
   "source": [
    "### Maximum Unsorted Subarray"
   ]
  },
  {
   "cell_type": "code",
   "execution_count": null,
   "id": "82e669ab",
   "metadata": {},
   "outputs": [],
   "source": [
    "def subUnsort(A):\n",
    "    sortedA = sorted(A)\n",
    "    n = len(A)\n",
    "    i = 0\n",
    "    for ele in sortedA:\n",
    "        if A[i] == ele:\n",
    "            i += 1\n",
    "            continue\n",
    "        break\n",
    "\n",
    "    j = n - 1\n",
    "    for ele in sortedA[::-1]:\n",
    "        if A[j] == ele:\n",
    "            j -= 1\n",
    "            continue\n",
    "        break\n",
    "\n",
    "    if i > n or j < 0:\n",
    "        return [-1]\n",
    "    return (i, j)"
   ]
  },
  {
   "cell_type": "markdown",
   "id": "79379328",
   "metadata": {},
   "source": [
    "## Space Recycling\n",
    "\n",
    "### Set Matrix Zeros"
   ]
  },
  {
   "cell_type": "code",
   "execution_count": null,
   "id": "171ad872",
   "metadata": {},
   "outputs": [],
   "source": [
    "def setZeroes(A):\n",
    "    M = len(A)\n",
    "    N = len(A[0])\n",
    "\n",
    "    col = True\n",
    "    for i in range(M):\n",
    "        if A[i][0] == 0:\n",
    "            col = False\n",
    "        for j in range(1, N):\n",
    "            if A[i][j] == 0:\n",
    "                A[0][j] = 0\n",
    "                A[i][0] = 0\n",
    "\n",
    "    for i in range(M-1, -1, -1):\n",
    "        for j in range(N-1, 0, -1):\n",
    "            if A[i][0] == 0 or A[0][j] == 0:\n",
    "                A[i][j] = 0\n",
    "        if col == False:\n",
    "            A[i][0] = 0\n",
    "\n",
    "    return A"
   ]
  },
  {
   "cell_type": "markdown",
   "id": "0e99e579",
   "metadata": {},
   "source": [
    "### First Missing Integer"
   ]
  },
  {
   "cell_type": "code",
   "execution_count": null,
   "id": "f6085c5d",
   "metadata": {},
   "outputs": [],
   "source": [
    "def firstMissingPositive(A):\n",
    "    N = len(A)\n",
    "    if N == 1:\n",
    "        if A[0] == 1:\n",
    "            return 2\n",
    "        return 1\n",
    "\n",
    "    for i in range(N):\n",
    "        idx = A[i]-1\n",
    "        while 1 <= A[i] <= N and A[i] != A[idx]:\n",
    "            A[i], A[idx] = A[idx], A[i]\n",
    "            idx = A[i]-1\n",
    "\n",
    "    for i in range(N):\n",
    "        if i+1 != A[i]:\n",
    "            return i+1\n",
    "\n",
    "    return N+1"
   ]
  },
  {
   "cell_type": "markdown",
   "id": "50fe3162",
   "metadata": {},
   "source": [
    "### Maximum Sum Square SubMatrix\n"
   ]
  },
  {
   "cell_type": "code",
   "execution_count": null,
   "id": "4c46c451",
   "metadata": {},
   "outputs": [],
   "source": [
    "def solve(A, B):\n",
    "    N = len(A)\n",
    "\n",
    "    dp = [[0 for _ in range(N+1)] for _ in range(N+1)]\n",
    "\n",
    "    for i in range(1, N+1):\n",
    "        for j in range(1, N+1):\n",
    "            dp[i][j] = dp[i-1][j] + dp[i][j-1] + A[i-1][j-1] - dp[i-1][j-1]\n",
    "\n",
    "    maxSum = -float('inf')\n",
    "    for i in range(N+1):\n",
    "        for j in range(N+1):\n",
    "            if i-B >= 0 and j-B >= 0:\n",
    "                maxSum = max(maxSum, dp[i][j] - dp[i-B][j] - dp[i][j-B] + dp[i-B][j-B])\n",
    "\n",
    "    return maxSum"
   ]
  },
  {
   "cell_type": "markdown",
   "id": "279076e4",
   "metadata": {},
   "source": [
    "## Missing / repeated number\n",
    "\n",
    "### Repeat and Missing Number Array"
   ]
  },
  {
   "cell_type": "code",
   "execution_count": null,
   "id": "42e07921",
   "metadata": {},
   "outputs": [],
   "source": [
    " def repeatedNumber(A):\n",
    "    N = len(A)\n",
    "    xor = 0\n",
    "\n",
    "    for ele in A:\n",
    "        xor = xor ^ ele\n",
    "\n",
    "    for i in range(1, N+1):\n",
    "        xor = xor ^ i \n",
    "\n",
    "    set_bit = xor & ~(xor-1)\n",
    "\n",
    "    ele1 = 0\n",
    "    ele2 = 0\n",
    "\n",
    "    for ele in A:\n",
    "        if ele & set_bit:\n",
    "            ele1 ^= ele\n",
    "        else:\n",
    "            ele2 ^= ele\n",
    "\n",
    "    for i in range(1, N+1):\n",
    "        if i & set_bit:\n",
    "            ele1 ^= i\n",
    "        else:\n",
    "            ele2 ^= i\n",
    "\n",
    "    if ele1 in A:\n",
    "        return ele1, ele2\n",
    "    return ele2, ele1"
   ]
  },
  {
   "cell_type": "markdown",
   "id": "3c2828ef",
   "metadata": {},
   "source": [
    "### N/3 Repeat Number"
   ]
  },
  {
   "cell_type": "code",
   "execution_count": null,
   "id": "160126dc",
   "metadata": {},
   "outputs": [],
   "source": [
    "def repeatedNumber(A):\n",
    "    n = len(A)\n",
    "    ele1 = 0\n",
    "    ele2 = 0\n",
    "    count1 = 0\n",
    "    count2 = 0\n",
    "\n",
    "    for ele in A:\n",
    "        if ele1 == ele:\n",
    "            count1 += 1\n",
    "        elif ele2 == ele:\n",
    "            count2 += 1  \n",
    "        elif count1 == 0:\n",
    "            ele1 = ele\n",
    "            count1 += 1\n",
    "        elif count2 == 0:\n",
    "            ele2 = ele\n",
    "            count2 += 1\n",
    "        else:\n",
    "            count1 -= 1\n",
    "            count2 -= 1\n",
    "\n",
    "    c1 = 0\n",
    "    c2 = 0\n",
    "    for ele in A:\n",
    "        if ele1 == ele:\n",
    "            c1 += 1\n",
    "        if ele2 == ele:\n",
    "            c2 += 1\n",
    "\n",
    "    if c1 > n // 3:\n",
    "        return ele1\n",
    "    if c2 > n // 3:\n",
    "        return ele2\n",
    "\n",
    "    return -1"
   ]
  }
 ],
 "metadata": {
  "kernelspec": {
   "display_name": "Python 3 (ipykernel)",
   "language": "python",
   "name": "python3"
  },
  "language_info": {
   "codemirror_mode": {
    "name": "ipython",
    "version": 3
   },
   "file_extension": ".py",
   "mimetype": "text/x-python",
   "name": "python",
   "nbconvert_exporter": "python",
   "pygments_lexer": "ipython3",
   "version": "3.8.10"
  }
 },
 "nbformat": 4,
 "nbformat_minor": 5
}
