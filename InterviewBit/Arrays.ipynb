{
 "cells": [
  {
   "cell_type": "markdown",
   "id": "e1eea7e6",
   "metadata": {},
   "source": [
    "# Arrays\n",
    "\n",
    "- [Array Math](#Array-Math)\n",
    "    - [Pick from both sides](#Pick-from-both-sides)\n",
    "    - [Min Steps in Infinite Grid](#Min-Steps-in-Infinite-Grid)\n",
    "    - [Minimum Lights to Activate](#Minimum-Lights-to-Activate)\n",
    "    \n",
    "- [Arrangement](#Arrangement)\n",
    "    - [Sort array with squares](#Sort-array-with-squares)\n",
    "    - [Largest Number](#Largest-Number)\n",
    "    - [Rotate Matrix](#Rotate-Matrix)\n",
    "    - [Find Permutation](#Find-Permutation)\n",
    "    - [Next Permutation](#Next-Permutation)\n",
    "    \n",
    "- [Value Ranges](#Value-Ranges)\n",
    "    - [Max Min](#Max-Min)\n",
    "    - [Merge Intervals](#Merge-Intervals)\n",
    "    - [Merge Overlapping Intervals](#Merge-Overlapping-Intervals)\n",
    "    \n",
    "- [Sorting](#Sorting)\n",
    "    - [Noble Integer](#Noble-Integer)\n",
    "    - [Wave Array](#Wave-Array)\n",
    "    - [Hotel Bookings Possible](#Hotel-Bookings-Possible)\n",
    "    - [Max Distance](#Max-Distance)\n",
    "    - [Maximum Unsorted Subarray](#Maximum-Unsorted-Subarray)\n",
    "\n",
    "- [Missing / repeated number](#Missing-/-repeated-number)\n",
    "    - [Repeat and Missing Number Array](#Repeat-and-Missing-Number-Array)"
   ]
  },
  {
   "cell_type": "markdown",
   "id": "1b23c3e4",
   "metadata": {},
   "source": [
    "## Array Math\n",
    "\n",
    "### Pick from both sides"
   ]
  },
  {
   "cell_type": "code",
   "execution_count": null,
   "id": "ecf4cbb9",
   "metadata": {},
   "outputs": [],
   "source": [
    "def solve(self, A, B):\n",
    "    maxSum = sum(A[:B])\n",
    "    tempSum = maxSum\n",
    "    for i in range(1, B+1):\n",
    "        tempSum = tempSum - A[B-i] + A[-i]\n",
    "        maxSum = max(maxSum, tempSum)\n",
    "    return maxSum"
   ]
  },
  {
   "cell_type": "markdown",
   "id": "65d89271",
   "metadata": {},
   "source": [
    "### Min Steps in Infinite Grid"
   ]
  },
  {
   "cell_type": "code",
   "execution_count": null,
   "id": "6de14728",
   "metadata": {},
   "outputs": [],
   "source": [
    "# Based on \"Manhattan Distance\" or \"Taxicab Geometry\"\n",
    "\n",
    "class Solution:\n",
    "    def getDist(self, p1, p2):\n",
    "        '''\n",
    "        we are doing  max(abs x diff, abs y diff) because we can always replace \n",
    "        (1 move up + 1 move left) by a north west diagonal move and likewise for other \n",
    "        diagonals , so our main concern is to cover the max diff which is in either \n",
    "        along x coordinate or y coordinate , because the smaller of the differences \n",
    "        can be covered by this diagonal move as it will count for an x move as well \n",
    "        as for a y move in just one move\n",
    "        '''\n",
    "        return max(abs(p1[0]-p2[0]), abs(p1[1]-p2[1]))\n",
    "\n",
    "    def coverPoints(self, A, B):\n",
    "        dist = 0\n",
    "        n = len(A)\n",
    "        if n == 1:\n",
    "            return 0\n",
    "\n",
    "        for i in range(1, n):\n",
    "            dist += self.getDist((A[i], B[i]), (A[i-1], B[i-1]))\n",
    "\n",
    "        return dist"
   ]
  },
  {
   "cell_type": "markdown",
   "id": "35140bfc",
   "metadata": {},
   "source": [
    "### Minimum Lights to Activate"
   ]
  },
  {
   "cell_type": "code",
   "execution_count": null,
   "id": "ed655c85",
   "metadata": {},
   "outputs": [],
   "source": [
    "def solve(self, A, B):\n",
    "    minBulbs = 0\n",
    "    n = len(A)\n",
    "\n",
    "    i = 0\n",
    "    # Initially all bulbs are off so start from index 0\n",
    "    while i < n:\n",
    "        maxRight = min(i+B-1, n-1)\n",
    "        maxLeft = max(0, i-B+1)\n",
    "\n",
    "        j = 0\n",
    "        # Flag to check if all places are lit or not, initially set to true means it cannot it up\n",
    "        flag = True \n",
    "        \n",
    "        # Start from max possible right from the index which is in dark\n",
    "        # Break when you encounter a buld that can lit the dark place\n",
    "        # and set flag to flase since this place can lit\n",
    "        for j in range(maxRight, maxLeft-1, -1):\n",
    "            if A[j] == 1:\n",
    "                minBulbs += 1\n",
    "                flag = False\n",
    "                break\n",
    "        \n",
    "        # Return -1 if it cannot be lit\n",
    "        if flag:\n",
    "            return -1\n",
    "        \n",
    "        # Move to the index where the light still does not reach i.e. B right from the founded bulb\n",
    "        i = j + B \n",
    "\n",
    "    return minBulbs"
   ]
  },
  {
   "cell_type": "markdown",
   "id": "f1174509",
   "metadata": {},
   "source": [
    "## Arrangement\n",
    "\n",
    "### Sort array with squares"
   ]
  },
  {
   "cell_type": "code",
   "execution_count": null,
   "id": "05a02bda",
   "metadata": {},
   "outputs": [],
   "source": [
    "def solve(A):\n",
    "    result = []\n",
    "    N = len(A)\n",
    "\n",
    "    i = 0\n",
    "    j = N-1\n",
    "\n",
    "    while i <= j:\n",
    "        if A[i] ** 2 > A[j] ** 2:\n",
    "            result.append(A[i] ** 2)\n",
    "            i += 1\n",
    "        else:\n",
    "            result.append(A[j] ** 2)\n",
    "            j -= 1\n",
    "\n",
    "    return result[::-1]"
   ]
  },
  {
   "cell_type": "markdown",
   "id": "f766e6e6",
   "metadata": {},
   "source": [
    "### Largest Number"
   ]
  },
  {
   "cell_type": "code",
   "execution_count": null,
   "id": "759d3849",
   "metadata": {},
   "outputs": [],
   "source": [
    "class Solution:\n",
    "    def compare(self, x, y):\n",
    "        return str(x) + str(y) > str(y) + str(x)\n",
    "\n",
    "    def mergeSort(self, nums, l, r):\n",
    "        if l > r:\n",
    "            return \n",
    "        if l == r:\n",
    "            return [nums[l]]\n",
    "        mid = l + (r-l)//2\n",
    "        left = self.mergeSort(nums, l, mid)\n",
    "        right = self.mergeSort(nums, mid+1, r)\n",
    "        return self.merge(left, right)\n",
    "\n",
    "    def merge(self, l1, l2):\n",
    "        res, i, j = [], 0, 0\n",
    "        while i < len(l1) and j < len(l2):\n",
    "            if not self.compare(l1[i], l2[j]):\n",
    "                res.append(l2[j])\n",
    "                j += 1\n",
    "            else:\n",
    "                res.append(l1[i])\n",
    "                i += 1\n",
    "        res.extend(l1[i:] or l2[j:])\n",
    "        return res\n",
    "\n",
    "    def largestNumber(self, A):\n",
    "        if sum(A) == 0:\n",
    "            return 0\n",
    "        arr = list(A)\n",
    "        arr = self.mergeSort(arr, 0, len(arr)-1)\n",
    "        return ''.join(map(str, arr))"
   ]
  },
  {
   "cell_type": "markdown",
   "id": "958962a0",
   "metadata": {},
   "source": [
    "### Rotate Matrix"
   ]
  },
  {
   "cell_type": "code",
   "execution_count": null,
   "id": "d5c04eb5",
   "metadata": {},
   "outputs": [],
   "source": [
    "def rotate(A):\n",
    "    N = len(A)\n",
    "\n",
    "    # Transpose Matrix\n",
    "    for i in range(N):\n",
    "        for j in range(i, N):\n",
    "            A[i][j], A[j][i] = A[j][i], A[i][j]\n",
    "\n",
    "    # Reverse Row\n",
    "    for i in range(N):\n",
    "        for j in range(N//2):\n",
    "            A[i][N-j-1], A[i][j] = A[i][j], A[i][N-j-1]\n",
    "\n",
    "    return A"
   ]
  },
  {
   "cell_type": "markdown",
   "id": "82b7c862",
   "metadata": {},
   "source": [
    "### Find Permutation"
   ]
  },
  {
   "cell_type": "code",
   "execution_count": null,
   "id": "39740e6a",
   "metadata": {},
   "outputs": [],
   "source": [
    "def findPerm(A, B):\n",
    "    arr = []\n",
    "    small = 1\n",
    "    large = B\n",
    "    for char in A:\n",
    "        if char == 'I':\n",
    "            arr.append(small)\n",
    "            small += 1\n",
    "        else:\n",
    "            arr.append(large)\n",
    "            large -= 1\n",
    "\n",
    "    arr.append(large)\n",
    "    return arr"
   ]
  },
  {
   "cell_type": "markdown",
   "id": "adbb659e",
   "metadata": {},
   "source": [
    "### Next Permutation"
   ]
  },
  {
   "cell_type": "code",
   "execution_count": null,
   "id": "a383ed4f",
   "metadata": {},
   "outputs": [],
   "source": []
  },
  {
   "cell_type": "markdown",
   "id": "994a8371",
   "metadata": {},
   "source": [
    "## Value Ranges\n",
    "\n",
    "### Max Min"
   ]
  },
  {
   "cell_type": "code",
   "execution_count": 1,
   "id": "72031567",
   "metadata": {},
   "outputs": [],
   "source": [
    "def solve(self, A):\n",
    "    mx = max(A)\n",
    "    mn = min(A)\n",
    "\n",
    "    return mx + mn"
   ]
  },
  {
   "cell_type": "markdown",
   "id": "3ab61ef4",
   "metadata": {},
   "source": [
    "### Merge Intervals"
   ]
  },
  {
   "cell_type": "code",
   "execution_count": 2,
   "id": "77746ff3",
   "metadata": {},
   "outputs": [],
   "source": [
    "def insert(self, intervals, new_interval):\n",
    "    result = []\n",
    "    n = len(intervals)\n",
    "    i = 0\n",
    "\n",
    "    # Add all the interval that are smaller than the new interval\n",
    "    while i < n and intervals[i].end < new_interval.start:\n",
    "        result.append(intervals[i])\n",
    "        i += 1\n",
    "\n",
    "    # if this condition is true then new_interval is the largest interval\n",
    "    # so append it to the result\n",
    "    if i >= n:\n",
    "        result.append(new_interval)\n",
    "    # If this condition is true it means that new_interval does not lie in \n",
    "    # any range\n",
    "    elif new_interval.end < intervals[i].start:\n",
    "        result.append(new_interval)\n",
    "    # Here we will find all the intervals that lie in new interval\n",
    "    else:\n",
    "        start = min(intervals[i].start, new_interval.start)\n",
    "        end = 0\n",
    "        while i < n and new_interval.end >= intervals[i].end:\n",
    "            end = intervals[i].end\n",
    "            i += 1\n",
    "\n",
    "        # In this case we check if either all interval lie in the range or \n",
    "        # there is atleast one interval that is largest to our new interval\n",
    "        if i >= n or intervals[i].start > new_interval.end:\n",
    "            end = max(end, new_interval.end)\n",
    "            result.append(Interval(start, end))\n",
    "        # in this case new_interval.start > interval.start but\n",
    "        # new_interval.end < interval.end\n",
    "        else:\n",
    "            result.append(Interval(start, intervals[i].end))\n",
    "            i += 1\n",
    "\n",
    "    # add all the remaining interval in the result\n",
    "    while i < n:\n",
    "        result.append(intervals[i])\n",
    "        i += 1\n",
    "\n",
    "    return result"
   ]
  },
  {
   "cell_type": "markdown",
   "id": "c4e82900",
   "metadata": {},
   "source": [
    "### Merge Overlapping Intervals"
   ]
  },
  {
   "cell_type": "code",
   "execution_count": 3,
   "id": "142a6dfb",
   "metadata": {},
   "outputs": [],
   "source": [
    "def merge(self, intervals):\n",
    "    intervals.sort(key=lambda x: (x.start, x.end))\n",
    "    result = []\n",
    "\n",
    "    for interval in intervals:\n",
    "        if result and result[-1].end >= interval.start:\n",
    "            result[-1].end = max(result[-1].end, interval.end)\n",
    "        else:\n",
    "            result.append(interval)\n",
    "\n",
    "    return result "
   ]
  },
  {
   "cell_type": "markdown",
   "id": "f3a3a764",
   "metadata": {},
   "source": [
    "## Sorting\n",
    "\n",
    "### Noble Integer"
   ]
  },
  {
   "cell_type": "code",
   "execution_count": null,
   "id": "8af260fe",
   "metadata": {},
   "outputs": [],
   "source": [
    "def solve(A):\n",
    "    N = len(A)\n",
    "    A.sort()\n",
    "\n",
    "    freq = dict()\n",
    "\n",
    "    for ele in A:\n",
    "        if ele not in freq:\n",
    "            freq[ele] = 0\n",
    "        freq[ele] += 1\n",
    "\n",
    "    for idx, ele in enumerate(A):\n",
    "        if ele == (N-idx-1) and freq[ele] == 1:\n",
    "            return 1\n",
    "        freq[ele] -= 1\n",
    "\n",
    "    return -1"
   ]
  },
  {
   "cell_type": "markdown",
   "id": "9e68a4e7",
   "metadata": {},
   "source": [
    "### Wave Array"
   ]
  },
  {
   "cell_type": "code",
   "execution_count": null,
   "id": "53496924",
   "metadata": {},
   "outputs": [],
   "source": [
    "def wave(A):\n",
    "    A.sort()\n",
    "    N = len(A)\n",
    "    for i in range(0, N-1, 2):\n",
    "        A[i], A[i+1] = A[i+1], A[i]\n",
    "\n",
    "    return A"
   ]
  },
  {
   "cell_type": "markdown",
   "id": "ea0f1ed9",
   "metadata": {},
   "source": [
    "### Hotel Bookings Possible"
   ]
  },
  {
   "cell_type": "code",
   "execution_count": null,
   "id": "22bced77",
   "metadata": {},
   "outputs": [],
   "source": [
    "def hotel(arrive, depart, K):\n",
    "    arrive.sort()\n",
    "    depart.sort()\n",
    "    n = len(arrive)\n",
    "\n",
    "    rooms = K\n",
    "\n",
    "    i = 0\n",
    "    j = 0\n",
    "\n",
    "    while i < n or j < n:\n",
    "        if i < n and j < n:\n",
    "            if arrive[i] < depart[j]:\n",
    "                if rooms == 0:\n",
    "                    return False\n",
    "                rooms -= 1\n",
    "                i += 1\n",
    "            else:\n",
    "                rooms += 1\n",
    "                j += 1\n",
    "        elif i < n:\n",
    "            if rooms == 0:\n",
    "                return False\n",
    "            rooms -= 1\n",
    "            i += 1\n",
    "        else:\n",
    "            rooms += 1\n",
    "            j += 1\n",
    "\n",
    "    return True"
   ]
  },
  {
   "cell_type": "markdown",
   "id": "94012631",
   "metadata": {},
   "source": [
    "### Max Distance"
   ]
  },
  {
   "cell_type": "code",
   "execution_count": null,
   "id": "c64faae2",
   "metadata": {},
   "outputs": [],
   "source": [
    "def maximumGap(self, A):\n",
    "    N = len(A)\n",
    "    suffMax = [ele for ele in A]\n",
    "\n",
    "    for i in range(N-2, -1, -1):\n",
    "        suffMax[i] = max(suffMax[i], suffMax[i+1])\n",
    "\n",
    "    i = 0\n",
    "    j = 0\n",
    "    md = 0\n",
    "\n",
    "    while i < N and j < N:\n",
    "        if suffMax[j] >= A[i]:\n",
    "            md = max(md, j-i)\n",
    "            j += 1\n",
    "        else:\n",
    "            i += 1\n",
    "\n",
    "    return md"
   ]
  },
  {
   "cell_type": "markdown",
   "id": "d0561d95",
   "metadata": {},
   "source": [
    "### Maximum Unsorted Subarray"
   ]
  },
  {
   "cell_type": "code",
   "execution_count": null,
   "id": "82e669ab",
   "metadata": {},
   "outputs": [],
   "source": [
    "def subUnsort(A):\n",
    "    sortedA = sorted(A)\n",
    "    n = len(A)\n",
    "    i = 0\n",
    "    for ele in sortedA:\n",
    "        if A[i] == ele:\n",
    "            i += 1\n",
    "            continue\n",
    "        break\n",
    "\n",
    "    j = n - 1\n",
    "    for ele in sortedA[::-1]:\n",
    "        if A[j] == ele:\n",
    "            j -= 1\n",
    "            continue\n",
    "        break\n",
    "\n",
    "    if i > n or j < 0:\n",
    "        return [-1]\n",
    "    return (i, j)"
   ]
  },
  {
   "cell_type": "markdown",
   "id": "279076e4",
   "metadata": {},
   "source": [
    "## Missing / repeated number\n",
    "\n",
    "### Repeat and Missing Number Array"
   ]
  },
  {
   "cell_type": "code",
   "execution_count": null,
   "id": "42e07921",
   "metadata": {},
   "outputs": [],
   "source": [
    " def repeatedNumber(A):\n",
    "    N = len(A)\n",
    "    xor = 0\n",
    "\n",
    "    for ele in A:\n",
    "        xor = xor ^ ele\n",
    "\n",
    "    for i in range(1, N+1):\n",
    "        xor = xor ^ i \n",
    "\n",
    "    set_bit = xor & ~(xor-1)\n",
    "\n",
    "    ele1 = 0\n",
    "    ele2 = 0\n",
    "\n",
    "    for ele in A:\n",
    "        if ele & set_bit:\n",
    "            ele1 ^= ele\n",
    "        else:\n",
    "            ele2 ^= ele\n",
    "\n",
    "    for i in range(1, N+1):\n",
    "        if i & set_bit:\n",
    "            ele1 ^= i\n",
    "        else:\n",
    "            ele2 ^= i\n",
    "\n",
    "    if ele1 in A:\n",
    "        return ele1, ele2\n",
    "    return ele2, ele1"
   ]
  }
 ],
 "metadata": {
  "kernelspec": {
   "display_name": "Python 3 (ipykernel)",
   "language": "python",
   "name": "python3"
  },
  "language_info": {
   "codemirror_mode": {
    "name": "ipython",
    "version": 3
   },
   "file_extension": ".py",
   "mimetype": "text/x-python",
   "name": "python",
   "nbconvert_exporter": "python",
   "pygments_lexer": "ipython3",
   "version": "3.8.10"
  }
 },
 "nbformat": 4,
 "nbformat_minor": 5
}
