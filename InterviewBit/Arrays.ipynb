{
 "cells": [
  {
   "cell_type": "markdown",
   "id": "e1eea7e6",
   "metadata": {},
   "source": [
    "# Arrays\n",
    "\n",
    "- [Value Ranges](#Value-Ranges)\n",
    "    - [Max Min](#Max-Min)\n",
    "    - [Merge Intervals](#Merge-Intervals)\n",
    "    - [Merge Overlapping Intervals](#Merge-Overlapping-Intervals)"
   ]
  },
  {
   "cell_type": "markdown",
   "id": "994a8371",
   "metadata": {},
   "source": [
    "## Value Ranges\n",
    "\n",
    "### Max Min"
   ]
  },
  {
   "cell_type": "code",
   "execution_count": 1,
   "id": "72031567",
   "metadata": {},
   "outputs": [],
   "source": [
    "def solve(self, A):\n",
    "    mx = max(A)\n",
    "    mn = min(A)\n",
    "\n",
    "    return mx + mn"
   ]
  },
  {
   "cell_type": "markdown",
   "id": "3ab61ef4",
   "metadata": {},
   "source": [
    "### Merge Intervals"
   ]
  },
  {
   "cell_type": "code",
   "execution_count": 2,
   "id": "77746ff3",
   "metadata": {},
   "outputs": [],
   "source": [
    "def insert(self, intervals, new_interval):\n",
    "    result = []\n",
    "    n = len(intervals)\n",
    "    i = 0\n",
    "\n",
    "    # Add all the interval that are smaller than the new interval\n",
    "    while i < n and intervals[i].end < new_interval.start:\n",
    "        result.append(intervals[i])\n",
    "        i += 1\n",
    "\n",
    "    # if this condition is true then new_interval is the largest interval\n",
    "    # so append it to the result\n",
    "    if i >= n:\n",
    "        result.append(new_interval)\n",
    "    # If this condition is true it means that new_interval does not lie in \n",
    "    # any range\n",
    "    elif new_interval.end < intervals[i].start:\n",
    "        result.append(new_interval)\n",
    "    # Here we will find all the intervals that lie in new interval\n",
    "    else:\n",
    "        start = min(intervals[i].start, new_interval.start)\n",
    "        end = 0\n",
    "        while i < n and new_interval.end >= intervals[i].end:\n",
    "            end = intervals[i].end\n",
    "            i += 1\n",
    "\n",
    "        # In this case we check if either all interval lie in the range or \n",
    "        # there is atleast one interval that is largest to our new interval\n",
    "        if i >= n or intervals[i].start > new_interval.end:\n",
    "            end = max(end, new_interval.end)\n",
    "            result.append(Interval(start, end))\n",
    "        # in this case new_interval.start > interval.start but\n",
    "        # new_interval.end < interval.end\n",
    "        else:\n",
    "            result.append(Interval(start, intervals[i].end))\n",
    "            i += 1\n",
    "\n",
    "    # add all the remaining interval in the result\n",
    "    while i < n:\n",
    "        result.append(intervals[i])\n",
    "        i += 1\n",
    "\n",
    "    return result"
   ]
  },
  {
   "cell_type": "markdown",
   "id": "c4e82900",
   "metadata": {},
   "source": [
    "### Merge Overlapping Intervals"
   ]
  },
  {
   "cell_type": "code",
   "execution_count": 3,
   "id": "142a6dfb",
   "metadata": {},
   "outputs": [],
   "source": [
    "def merge(self, intervals):\n",
    "    intervals.sort(key=lambda x: (x.start, x.end))\n",
    "    result = []\n",
    "\n",
    "    for interval in intervals:\n",
    "        if result and result[-1].end >= interval.start:\n",
    "            result[-1].end = max(result[-1].end, interval.end)\n",
    "        else:\n",
    "            result.append(interval)\n",
    "\n",
    "    return result "
   ]
  }
 ],
 "metadata": {
  "kernelspec": {
   "display_name": "Python 3 (ipykernel)",
   "language": "python",
   "name": "python3"
  },
  "language_info": {
   "codemirror_mode": {
    "name": "ipython",
    "version": 3
   },
   "file_extension": ".py",
   "mimetype": "text/x-python",
   "name": "python",
   "nbconvert_exporter": "python",
   "pygments_lexer": "ipython3",
   "version": "3.8.5"
  }
 },
 "nbformat": 4,
 "nbformat_minor": 5
}
