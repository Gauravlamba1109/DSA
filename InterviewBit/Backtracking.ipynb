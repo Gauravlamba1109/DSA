{
 "cells": [
  {
   "cell_type": "markdown",
   "id": "52440b5c",
   "metadata": {},
   "source": [
    "# Backtracking Problems\n",
    "\n",
    "- [Maths and backtracking](#Maths-and-backtracking)\n",
    "    - [Maximal String](#Maximal-String)\n",
    "    - [Kth Permutation Sequence](#Kth-Permutation-Sequence)\n",
    "    - [Gray Code](#Gray-Code)\n",
    "    \n",
    "- [Subsets](#Subsets)\n",
    "    - [Subset](#Subset)\n",
    "    - [Combination Sum](#Combination-Sum)\n",
    "    - [Combination Sum II](#Combination-Sum-II)\n",
    "    - [Combinations](#Combinations)\n",
    "    - [Subsets II](#Subsets-II)\n",
    "    \n",
    "- [Permutations](#Permutations)\n",
    "    - [Permutation](#Permutation)\n",
    "    \n",
    "- [Game solving](#Game-solving)\n",
    "    - [NQueens](#NQueens)\n",
    "    - [Sudoku](#NQueens)"
   ]
  },
  {
   "cell_type": "markdown",
   "id": "7aab2296",
   "metadata": {},
   "source": [
    "## Maths and backtracking\n",
    "\n",
    "### Maximal String"
   ]
  },
  {
   "cell_type": "code",
   "execution_count": 1,
   "id": "cbb3c0c0",
   "metadata": {},
   "outputs": [],
   "source": [
    "class Solution:\n",
    "    def getMax(self, str1, str2):\n",
    "        str1 = int(''.join(str1))\n",
    "        str2 = int(''.join(str2))\n",
    "\n",
    "        return list(str(max(str1, str2)))\n",
    "\n",
    "    def helper(self, A, B, idx, N):\n",
    "        if idx == N or B == 0:\n",
    "            return A\n",
    "        \n",
    "        result = A[:]\n",
    "        temp = A[:]\n",
    "        for i in range(idx, N):\n",
    "            for j in range(i+1, N):\n",
    "                if int(temp[j]) > int(temp[i]):\n",
    "                    temp[i], temp[j] = temp[j], temp[i]\n",
    "                    temp_2 = self.helper(temp, B-1, idx+1, N)\n",
    "                    result = self.getMax(result, temp_2)\n",
    "                    temp[i], temp[j] = temp[j], temp[i]\n",
    "        \n",
    "        return result\n",
    "\n",
    "    def solve(self, A, B):\n",
    "        N = len(A)\n",
    "        S = list(A)\n",
    "        return ''.join(self.helper(S, B, 0, N))"
   ]
  },
  {
   "cell_type": "markdown",
   "id": "cb32245a",
   "metadata": {},
   "source": [
    "### Kth Permutation Sequence"
   ]
  },
  {
   "cell_type": "code",
   "execution_count": 2,
   "id": "2c9ff0e8",
   "metadata": {},
   "outputs": [],
   "source": [
    "import math\n",
    "\n",
    "def getPermutation(A, B):\n",
    "\n",
    "    arr=[i for i in range(1,A+1)]\n",
    "    ans=\"\"\n",
    "    while(arr):\n",
    "        index=B//(math.factorial(len(arr)-1)) \n",
    "\n",
    "        if(B%(math.factorial(len(arr)-1))==0):\n",
    "            index-=1\n",
    "        ans+=str(arr[index])\n",
    "        B=B-(math.factorial(len(arr)-1))*index\n",
    "        arr.remove(arr[index])\n",
    "    return(ans)"
   ]
  },
  {
   "cell_type": "markdown",
   "id": "c49b15df",
   "metadata": {},
   "source": [
    "### Gray Code"
   ]
  },
  {
   "cell_type": "code",
   "execution_count": null,
   "id": "5ca2fa09",
   "metadata": {},
   "outputs": [],
   "source": [
    "def grayCode(A):\n",
    "    res = [0] \n",
    "    for i in range(A):\n",
    "        for j in range(len(res)-1, -1, -1):\n",
    "            res.append(res[j] | 1 << i)\n",
    "    return res "
   ]
  },
  {
   "cell_type": "markdown",
   "id": "304aef08",
   "metadata": {},
   "source": [
    "## Subsets\n",
    "\n",
    "### Subset"
   ]
  },
  {
   "cell_type": "code",
   "execution_count": null,
   "id": "d8bb9b18",
   "metadata": {},
   "outputs": [],
   "source": [
    "class Solution:\n",
    "    def helper(self, A, n, arr, result):\n",
    "        if not A:\n",
    "            if arr:\n",
    "                result.append(sorted(arr))\n",
    "        else:\n",
    "            self.helper(A[1:], n, arr+[A[0]], result)\n",
    "            self.helper(A[1:], n, arr, result)\n",
    "\n",
    "    def subsets(self, A):\n",
    "        result = []\n",
    "        n = len(A)\n",
    "        self.helper(A, n, [], result)\n",
    "        return [[]] + sorted(result)"
   ]
  },
  {
   "cell_type": "markdown",
   "id": "280e19cf",
   "metadata": {},
   "source": [
    "### Combination Sum"
   ]
  },
  {
   "cell_type": "code",
   "execution_count": 1,
   "id": "0952be11",
   "metadata": {},
   "outputs": [],
   "source": [
    "class Solution:\n",
    "    def helper(self, A, B, s, arr, result):\n",
    "        if not A:\n",
    "            return \n",
    "        if s > B:\n",
    "            return\n",
    "        if s == B:\n",
    "            temp = sorted(arr)\n",
    "            if temp not in result:\n",
    "                result.append(temp)\n",
    "            return\n",
    "        \n",
    "        self.helper(A, B, s+A[0], arr+[A[0]], result)\n",
    "        self.helper(A[1:], B, s, arr[:], result)\n",
    "\n",
    "\n",
    "    def combinationSum(self, A, B):\n",
    "        result = []\n",
    "        self.helper(A, B, 0, [], result)\n",
    "        return sorted(result)"
   ]
  },
  {
   "cell_type": "markdown",
   "id": "eff65b4d",
   "metadata": {},
   "source": [
    "### Combination Sum II"
   ]
  },
  {
   "cell_type": "code",
   "execution_count": null,
   "id": "6aa2be34",
   "metadata": {},
   "outputs": [],
   "source": [
    "class Solution:\n",
    "    def helper(self, A, B, s, arr, result):\n",
    "        if s > B:\n",
    "            return\n",
    "        if s == B:\n",
    "            temp = sorted(arr)\n",
    "            if temp not in result:\n",
    "                result.append(temp)\n",
    "            return\n",
    "        if not A:\n",
    "            return \n",
    "        \n",
    "        \n",
    "        self.helper(A[1:], B, s, arr[:], result)\n",
    "        self.helper(A[1:], B, s+A[0], arr+[A[0]], result)\n",
    "\n",
    "\n",
    "    def combinationSum(self, A, B):\n",
    "        result = []\n",
    "        self.helper(A, B, 0, [], result)\n",
    "        return sorted(result)"
   ]
  },
  {
   "cell_type": "markdown",
   "id": "14a2b7ac",
   "metadata": {},
   "source": [
    "### Combinations"
   ]
  },
  {
   "cell_type": "code",
   "execution_count": null,
   "id": "bdabc58b",
   "metadata": {},
   "outputs": [],
   "source": [
    "class Solution:\n",
    "    def helper(self, n, k, i, arr, t, result):\n",
    "        if t == k:\n",
    "            result.append(arr)\n",
    "            return\n",
    "        if t > k:\n",
    "            return\n",
    "        if i > n:\n",
    "            return \n",
    "        \n",
    "        self.helper(n, k, i+1, arr+[i], t+1, result)\n",
    "        self.helper(n, k, i+1, arr[:], t, result)\n",
    "\n",
    "    def combine(self, A, B):\n",
    "        result = []\n",
    "        self.helper(A, B, 1, [], 0, result)\n",
    "        return result"
   ]
  },
  {
   "cell_type": "markdown",
   "id": "d88b5fd8",
   "metadata": {},
   "source": [
    "### Subsets II"
   ]
  },
  {
   "cell_type": "code",
   "execution_count": null,
   "id": "8aed27c2",
   "metadata": {},
   "outputs": [],
   "source": [
    "class Solution:\n",
    "    def helper(self, arr, t, result):\n",
    "        if not arr:\n",
    "            if t not in result:\n",
    "                result.append(t)\n",
    "            return \n",
    "        \n",
    "        self.helper(arr[1:], t+[arr[0]], result)\n",
    "        self.helper(arr[1:], t[:], result)\n",
    "\n",
    "    def subsetsWithDup(self, A):\n",
    "        arr = sorted(A)\n",
    "\n",
    "        result = []\n",
    "        self.helper(arr, [], result)\n",
    "        return sorted(result)"
   ]
  },
  {
   "cell_type": "markdown",
   "id": "8fd07cbf",
   "metadata": {},
   "source": [
    "## Permutations\n",
    "\n",
    "### Permutation"
   ]
  },
  {
   "cell_type": "code",
   "execution_count": null,
   "id": "d1ea3218",
   "metadata": {},
   "outputs": [],
   "source": [
    "class Solution:\n",
    "    def helper(self, A, n, arr):\n",
    "        if len(arr) == n:\n",
    "            self.result.append(arr)\n",
    "        \n",
    "        for i, ele in enumerate(A):\n",
    "            self.helper(A[:i]+A[i+1:], n, arr+[ele])\n",
    "\n",
    "    def permute(self, A):\n",
    "        self.result = []\n",
    "        n = len(A)\n",
    "        self.helper(A, n, [])\n",
    "        return self.result"
   ]
  },
  {
   "cell_type": "markdown",
   "id": "93dfec05",
   "metadata": {},
   "source": [
    "## Game solving\n",
    "\n",
    "### NQueens"
   ]
  },
  {
   "cell_type": "code",
   "execution_count": null,
   "id": "5378c5dd",
   "metadata": {},
   "outputs": [],
   "source": [
    "class Solution:\n",
    "    def isSafe(self, board, row, col, N):\n",
    "        for i in range(col):\n",
    "            if board[row][i] == 'Q':\n",
    "                return False\n",
    "        \n",
    "        i = row\n",
    "        j = col\n",
    "        while j >= 0 and i >= 0:\n",
    "            if board[i][j] == 'Q':\n",
    "                return False\n",
    "            i -= 1\n",
    "            j -= 1\n",
    "        \n",
    "        i = row\n",
    "        j = col\n",
    "        while j >= 0 and i < N:\n",
    "            if board[i][j] == 'Q':\n",
    "                return False\n",
    "            i += 1\n",
    "            j -= 1\n",
    "        \n",
    "        return True\n",
    "\n",
    "    def solve(self, board, col, N):\n",
    "        if col == N:\n",
    "            temp = []\n",
    "            for row in board:\n",
    "                temp.append(''.join(row))\n",
    "            self.result.append(temp)\n",
    "            return True\n",
    "        \n",
    "        for i in range(N):\n",
    "            if self.isSafe(board, i, col, N):\n",
    "                board[i][col] = 'Q'\n",
    "                self.solve(board, col+1, N)\n",
    "                board[i][col] = '.'\n",
    "        \n",
    "        return False\n",
    "\n",
    "    def solveNQueens(self, A):\n",
    "        if A == 1:\n",
    "            return ['Q']\n",
    "        board = [['.' for _ in range(A)] for _ in range(A)]\n",
    "        self.result = []\n",
    "        self.solve(board, 0, A)\n",
    "        return self.result"
   ]
  },
  {
   "cell_type": "markdown",
   "id": "0d674c73",
   "metadata": {},
   "source": [
    "### Sudoku"
   ]
  },
  {
   "cell_type": "code",
   "execution_count": null,
   "id": "e5e3d017",
   "metadata": {},
   "outputs": [],
   "source": [
    "class Solution:\n",
    "    def findEmpty(self, grid):\n",
    "        for i in range(9):\n",
    "            for j in range(9):\n",
    "                if grid[i][j] == '.':\n",
    "                    return i, j\n",
    "        return 9, 9\n",
    "\n",
    "    def isValid(self, grid, i, j, num):\n",
    "        for row in range(9):\n",
    "            if grid[row][j] == num:\n",
    "                return False\n",
    "\n",
    "        for col in range(9):\n",
    "            if grid[i][col] == num:\n",
    "                return False\n",
    "\n",
    "        rowStart = i // 3\n",
    "        colStart = j // 3\n",
    "\n",
    "        for row in range(rowStart * 3, rowStart * 3 + 3):\n",
    "            for col in range(colStart * 3, colStart * 3 +3):\n",
    "                if grid[row][col] == num:\n",
    "                    return False\n",
    "\n",
    "        return True\n",
    "\n",
    "    def sudoku(self, grid):\n",
    "        i, j = self.findEmpty(grid)\n",
    "\n",
    "        if i == 9 and j == 9:\n",
    "            return True\n",
    "\n",
    "        for num in '123456789':\n",
    "            if self.isValid(grid, i, j, num):\n",
    "                grid[i][j] = num\n",
    "\n",
    "                if self.sudoku(grid):\n",
    "                    return True\n",
    "\n",
    "                grid[i][j] = '.'\n",
    "\n",
    "        return False\n",
    "\n",
    "    def solveSudoku(self, A):\n",
    "        self.sudoku(A)\n",
    "\n",
    "        for i, row in enumerate(A):\n",
    "            A[i] = ''.join(row)\n",
    "        \n",
    "        return A"
   ]
  }
 ],
 "metadata": {
  "kernelspec": {
   "display_name": "Python 3 (ipykernel)",
   "language": "python",
   "name": "python3"
  },
  "language_info": {
   "codemirror_mode": {
    "name": "ipython",
    "version": 3
   },
   "file_extension": ".py",
   "mimetype": "text/x-python",
   "name": "python",
   "nbconvert_exporter": "python",
   "pygments_lexer": "ipython3",
   "version": "3.8.10"
  }
 },
 "nbformat": 4,
 "nbformat_minor": 5
}
