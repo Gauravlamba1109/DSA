{
 "cells": [
  {
   "cell_type": "markdown",
   "id": "52440b5c",
   "metadata": {},
   "source": [
    "# Backtracking Problems\n",
    "\n",
    "- [Maths and backtracking](#Maths-and-backtracking)\n",
    "    - [Maximal String](#Maximal-String)\n",
    "    - [Kth Permutation Sequence](#Kth-Permutation-Sequence)\n",
    "    - [Gray Code](#Gray-Code)"
   ]
  },
  {
   "cell_type": "markdown",
   "id": "7aab2296",
   "metadata": {},
   "source": [
    "## Maths and backtracking\n",
    "\n",
    "### Maximal String"
   ]
  },
  {
   "cell_type": "code",
   "execution_count": 1,
   "id": "cbb3c0c0",
   "metadata": {},
   "outputs": [],
   "source": [
    "class Solution:\n",
    "    def getMax(self, str1, str2):\n",
    "        str1 = int(''.join(str1))\n",
    "        str2 = int(''.join(str2))\n",
    "\n",
    "        return list(str(max(str1, str2)))\n",
    "\n",
    "    def helper(self, A, B, idx, N):\n",
    "        if idx == N or B == 0:\n",
    "            return A\n",
    "        \n",
    "        result = A[:]\n",
    "        temp = A[:]\n",
    "        for i in range(idx, N):\n",
    "            for j in range(i+1, N):\n",
    "                if int(temp[j]) > int(temp[i]):\n",
    "                    temp[i], temp[j] = temp[j], temp[i]\n",
    "                    temp_2 = self.helper(temp, B-1, idx+1, N)\n",
    "                    result = self.getMax(result, temp_2)\n",
    "                    temp[i], temp[j] = temp[j], temp[i]\n",
    "        \n",
    "        return result\n",
    "\n",
    "    def solve(self, A, B):\n",
    "        N = len(A)\n",
    "        S = list(A)\n",
    "        return ''.join(self.helper(S, B, 0, N))"
   ]
  },
  {
   "cell_type": "markdown",
   "id": "cb32245a",
   "metadata": {},
   "source": [
    "### Kth Permutation Sequence"
   ]
  },
  {
   "cell_type": "code",
   "execution_count": 2,
   "id": "2c9ff0e8",
   "metadata": {},
   "outputs": [],
   "source": [
    "import math\n",
    "\n",
    "def getPermutation(A, B):\n",
    "\n",
    "    arr=[i for i in range(1,A+1)]\n",
    "    ans=\"\"\n",
    "    while(arr):\n",
    "        index=B//(math.factorial(len(arr)-1)) \n",
    "\n",
    "        if(B%(math.factorial(len(arr)-1))==0):\n",
    "            index-=1\n",
    "        ans+=str(arr[index])\n",
    "        B=B-(math.factorial(len(arr)-1))*index\n",
    "        arr.remove(arr[index])\n",
    "    return(ans)"
   ]
  },
  {
   "cell_type": "markdown",
   "id": "c49b15df",
   "metadata": {},
   "source": [
    "### Gray Code"
   ]
  },
  {
   "cell_type": "code",
   "execution_count": null,
   "id": "5ca2fa09",
   "metadata": {},
   "outputs": [],
   "source": [
    "def grayCode(A):\n",
    "    res = [0] \n",
    "    for i in range(A):\n",
    "        for j in range(len(res)-1, -1, -1):\n",
    "            res.append(res[j] | 1 << i)\n",
    "    return res "
   ]
  }
 ],
 "metadata": {
  "kernelspec": {
   "display_name": "Python 3 (ipykernel)",
   "language": "python",
   "name": "python3"
  },
  "language_info": {
   "codemirror_mode": {
    "name": "ipython",
    "version": 3
   },
   "file_extension": ".py",
   "mimetype": "text/x-python",
   "name": "python",
   "nbconvert_exporter": "python",
   "pygments_lexer": "ipython3",
   "version": "3.8.10"
  }
 },
 "nbformat": 4,
 "nbformat_minor": 5
}
