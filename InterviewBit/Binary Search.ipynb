{
 "cells": [
  {
   "cell_type": "markdown",
   "id": "4594fe39",
   "metadata": {},
   "source": [
    "# Binary Search\n",
    "\n",
    "- [Simple Binary Search](#Simple-Binary-Search)\n",
    "    - [Matrix Search](#Matrix-Search)\n",
    "    \n",
    "- [Search step simulation](#Search-step-simulation)\n",
    "    - ["
   ]
  },
  {
   "cell_type": "markdown",
   "id": "1e6efc77",
   "metadata": {},
   "source": [
    "## Simple Binary Search\n",
    "\n",
    "### Matrix Search"
   ]
  },
  {
   "cell_type": "code",
   "execution_count": null,
   "id": "34043776",
   "metadata": {},
   "outputs": [],
   "source": [
    "def searchMatrix(A, B):\n",
    "    N = len(A)\n",
    "    M = len(A[0])\n",
    "\n",
    "    i = 0\n",
    "    j = M-1\n",
    "\n",
    "    while -1 < i < N and -1 < j < M:\n",
    "        if A[i][j] == B:\n",
    "            return 1\n",
    "\n",
    "        if A[i][j] < B:\n",
    "            i += 1\n",
    "        else:\n",
    "            j -= 1\n",
    "\n",
    "    return 0"
   ]
  },
  {
   "cell_type": "markdown",
   "id": "9bf46394",
   "metadata": {},
   "source": [
    "## Search step simulation"
   ]
  },
  {
   "cell_type": "code",
   "execution_count": null,
   "id": "8de45c1e",
   "metadata": {},
   "outputs": [],
   "source": [
    "def pow(x, n, d):\n",
    "    if x == 0:\n",
    "        return 0\n",
    "    if n == 0:\n",
    "        return 1\n",
    "    if n == 1:\n",
    "        return x % d \n",
    "\n",
    "    temp = self.pow(x, n // 2, d)\n",
    "    if n % 2 == 0:\n",
    "        return (temp * temp) % d \n",
    "    else:\n",
    "        return (x * temp * temp) % d "
   ]
  }
 ],
 "metadata": {
  "kernelspec": {
   "display_name": "Python 3 (ipykernel)",
   "language": "python",
   "name": "python3"
  },
  "language_info": {
   "codemirror_mode": {
    "name": "ipython",
    "version": 3
   },
   "file_extension": ".py",
   "mimetype": "text/x-python",
   "name": "python",
   "nbconvert_exporter": "python",
   "pygments_lexer": "ipython3",
   "version": "3.8.10"
  }
 },
 "nbformat": 4,
 "nbformat_minor": 5
}
