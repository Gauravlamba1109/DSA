{
 "cells": [
  {
   "cell_type": "markdown",
   "id": "4594fe39",
   "metadata": {},
   "source": [
    "# Binary Search\n",
    "\n",
    "- [Simple Binary Search](#Simple-Binary-Search)\n",
    "    - [Search in Bitonic Array!](#Search-in-Bitonic-Array!)\n",
    "    - [Smaller or equal elements](#Smaller-or-equal-elements)\n",
    "    - [WoodCutting Made Easy!](#WoodCutting-Made-Easy!)\n",
    "    - [Matrix Search](#Matrix-Search)\n",
    "    - [Search for a Range](#Search-for-a-Range)\n",
    "    - [Sorted Insert Position](#Sorted-Insert-Position)\n",
    "    \n",
    "- [Search answer](#Search-answer)\n",
    "    - [Matrix Median](#Matrix-Median)\n",
    "    - [Square Root of Integer](#Square-Root-of-Integer)\n",
    "    - [Allocate Books](#Allocate-Books)\n",
    "    - [Painter's Partition Problem](#Painter's-Partition-Problem)\n",
    "    \n",
    "- [Search step simulation](#Search-step-simulation)\n",
    "    - [Implement Power Function](#Implement-Power-Function)\n",
    "    - [Simple Queries](#Simple-Queries)\n",
    "    \n",
    "- [Sort modification](#Sort-modification)\n",
    "    - [Median of Array](#Median-of-Array)\n",
    "    - [Rotated Sorted Array Search](#Rotated-Sorted-Array-Search)"
   ]
  },
  {
   "cell_type": "markdown",
   "id": "1e6efc77",
   "metadata": {},
   "source": [
    "## Simple Binary Search"
   ]
  },
  {
   "cell_type": "markdown",
   "id": "b790b7d6",
   "metadata": {},
   "source": [
    "### Search in Bitonic Array!"
   ]
  },
  {
   "cell_type": "code",
   "execution_count": null,
   "id": "ec55cffa",
   "metadata": {},
   "outputs": [],
   "source": [
    "def binary_search_order_unk(arr, ele):\n",
    "    start = 0\n",
    "    end = len(arr) - 1\n",
    "    \n",
    "    while not start > end:\n",
    "        mid = start + (end - start) // 2\n",
    "        if arr[mid] == ele:\n",
    "            return mid\n",
    "        if arr[0] < arr[-1] and len(arr) > 1:\n",
    "            if ele > arr[mid]:\n",
    "                start = mid + 1\n",
    "            else:\n",
    "                end = mid - 1\n",
    "        else:\n",
    "            if ele > arr[mid]:\n",
    "                end = mid - 1\n",
    "            else:\n",
    "                start = mid + 1\n",
    "    return -1\n",
    "\n",
    "def search_bitonic(arr, ele):\n",
    "    n = len(arr)\n",
    "    start = 0\n",
    "    end = n - 1\n",
    "\n",
    "    peak_ele = -1\n",
    "    while not start > end:\n",
    "        mid = start + (end - start) // 2\n",
    "        if mid != 0 and mid != n-1:\n",
    "            if arr[mid - 1] < arr[mid] > arr[mid + 1]:\n",
    "                peak_ele = mid\n",
    "                break\n",
    "            elif arr[mid] < arr[mid + 1]:\n",
    "                start = mid + 1\n",
    "            else:\n",
    "                end = mid - 1\n",
    "        else:\n",
    "            if mid == 0:\n",
    "                if arr[0] > arr[1]:\n",
    "                    peak_ele = 0\n",
    "                else:\n",
    "                    peak_ele = 1\n",
    "            else:\n",
    "                if arr[n-1] > arr[n-2]:\n",
    "                    peak_ele = n - 1\n",
    "                else:\n",
    "                    peak_ele = n - 2\n",
    "\n",
    "    if arr[peak_ele] == ele:\n",
    "        return peak_ele\n",
    "    elif peak_ele == 0 and arr[0] == ele:\n",
    "        return 0\n",
    "    elif peak_ele == n-1 and arr[n-1] == ele:\n",
    "        return n-1\n",
    "    else:\n",
    "        left_search = binary_search_order_unk(arr[:peak_ele ], ele)\n",
    "        right_search = binary_search_order_unk(arr[peak_ele + 1:], ele)\n",
    "        if left_search != -1:\n",
    "            return left_search\n",
    "        elif right_search != -1:\n",
    "            return right_search + peak_ele + 1\n",
    "        else:\n",
    "            return -1"
   ]
  },
  {
   "cell_type": "markdown",
   "id": "92acaa2f",
   "metadata": {},
   "source": [
    "### Smaller or equal elements"
   ]
  },
  {
   "cell_type": "code",
   "execution_count": 1,
   "id": "6e6ec872",
   "metadata": {},
   "outputs": [],
   "source": [
    "def solve(arr, ele):\n",
    "    n = len(arr)\n",
    "\n",
    "    start = 0\n",
    "    end = n-1\n",
    "    res = 0\n",
    "\n",
    "    while start <= end:\n",
    "        mid = start + (end - start) // 2\n",
    "\n",
    "        if arr[mid] <= ele:\n",
    "            start = mid + 1\n",
    "            res = mid + 1\n",
    "        else:\n",
    "            end = mid - 1\n",
    "\n",
    "    return res"
   ]
  },
  {
   "cell_type": "markdown",
   "id": "980ee67d",
   "metadata": {},
   "source": [
    "### WoodCutting Made Easy!"
   ]
  },
  {
   "cell_type": "code",
   "execution_count": null,
   "id": "32b56232",
   "metadata": {},
   "outputs": [],
   "source": [
    "def solve(self, A, B):\n",
    "    n = len(A)\n",
    "\n",
    "    h = 0\n",
    "    maxEle = max(A)\n",
    "    minEle = 0\n",
    "    ans = 0\n",
    "\n",
    "    while minEle <= maxEle:\n",
    "        mid = minEle + (maxEle - minEle) // 2\n",
    "        wood = 0\n",
    "\n",
    "        for j in range(n):\n",
    "            if A[j] - mid > 0:\n",
    "                wood = wood + A[j] - mid\n",
    "\n",
    "        if wood >= B:\n",
    "            minEle = mid+1\n",
    "            ans = max(ans, mid)\n",
    "        else:\n",
    "            maxEle = mid - 1\n",
    "    return ans"
   ]
  },
  {
   "cell_type": "markdown",
   "id": "50f60b0f",
   "metadata": {},
   "source": [
    "### Matrix Search"
   ]
  },
  {
   "cell_type": "code",
   "execution_count": null,
   "id": "34043776",
   "metadata": {},
   "outputs": [],
   "source": [
    "def searchMatrix(A, B):\n",
    "    N = len(A)\n",
    "    M = len(A[0])\n",
    "\n",
    "    i = 0\n",
    "    j = M-1\n",
    "\n",
    "    while -1 < i < N and -1 < j < M:\n",
    "        if A[i][j] == B:\n",
    "            return 1\n",
    "\n",
    "        if A[i][j] < B:\n",
    "            i += 1\n",
    "        else:\n",
    "            j -= 1\n",
    "\n",
    "    return 0"
   ]
  },
  {
   "cell_type": "markdown",
   "id": "73769ac2",
   "metadata": {},
   "source": [
    "### Search for a Range"
   ]
  },
  {
   "cell_type": "code",
   "execution_count": null,
   "id": "7860440e",
   "metadata": {},
   "outputs": [],
   "source": [
    "class Solution:\n",
    "    def first_occurence(self, arr, ele):\n",
    "        start = 0\n",
    "        end = len(arr) - 1\n",
    "        \n",
    "        first_ocr = -1\n",
    "        \n",
    "        while not start > end:\n",
    "            mid = start + (end - start) // 2\n",
    "            if arr[mid] == ele:\n",
    "                first_ocr = mid\n",
    "                end = mid - 1\n",
    "            elif ele > arr[mid]:\n",
    "                start = mid + 1\n",
    "            else:\n",
    "                end = mid - 1\n",
    "                \n",
    "        return first_ocr\n",
    "\n",
    "    def last_occurence(self, arr, ele):\n",
    "        start = 0\n",
    "        end = len(arr) - 1\n",
    "        \n",
    "        last_ocr = -1\n",
    "        \n",
    "        while not start > end:\n",
    "            mid = start + (end - start) // 2\n",
    "            if arr[mid] == ele:\n",
    "                last_ocr = mid\n",
    "                start = mid + 1\n",
    "            elif ele > arr[mid]:\n",
    "                start = mid + 1\n",
    "            else:\n",
    "                end = mid - 1\n",
    "        \n",
    "        return last_ocr\n",
    "\n",
    "    def searchRange(self, A, B):\n",
    "        start = self.first_occurence(A, B)\n",
    "        end = self.last_occurence(A, B)\n",
    "\n",
    "        return (start, end)"
   ]
  },
  {
   "cell_type": "markdown",
   "id": "d75ab946",
   "metadata": {},
   "source": [
    "### Sorted Insert Position"
   ]
  },
  {
   "cell_type": "code",
   "execution_count": null,
   "id": "f9609d4a",
   "metadata": {},
   "outputs": [],
   "source": [
    "def searchInsert(self, A, B):\n",
    "    start = 0\n",
    "    end = len(A) - 1\n",
    "\n",
    "    while start <= end:\n",
    "        mid = start + (end - start) // 2\n",
    "\n",
    "        if A[mid] == B:\n",
    "            return mid\n",
    "        elif A[mid] < B:\n",
    "            start = mid + 1\n",
    "        else:\n",
    "            end = mid - 1\n",
    "\n",
    "    return start"
   ]
  },
  {
   "cell_type": "markdown",
   "id": "09292f02",
   "metadata": {},
   "source": [
    "## Search answer"
   ]
  },
  {
   "cell_type": "markdown",
   "id": "ead15218",
   "metadata": {},
   "source": [
    "### Matrix Median"
   ]
  },
  {
   "cell_type": "code",
   "execution_count": null,
   "id": "28f02948",
   "metadata": {},
   "outputs": [],
   "source": [
    "class Solution:\n",
    "    def countSmallerThanMid(self, arr, mid):\n",
    "        l = 0\n",
    "        h = len(arr)-1\n",
    "\n",
    "        while l <= h:\n",
    "            mid =(h+l) // 2\n",
    "\n",
    "            if arr[mid] <= mid:\n",
    "                l = mid + 1\n",
    "            else:\n",
    "                h = mid - 1\n",
    "        \n",
    "        return l \n",
    "\n",
    "    def findMedian(self, A):\n",
    "        low = 1\n",
    "        high = 1e9\n",
    "\n",
    "        n = len(A)\n",
    "        m = len(A[0])\n",
    "\n",
    "        while low <= high:\n",
    "            mid = (high + low) // 2\n",
    "            count = 0\n",
    "            print(mid)\n",
    "            for i in range(n):\n",
    "                count += self.countSmallerThanMid(A[i], mid)\n",
    "            \n",
    "            if count <= (n * m) // 2:\n",
    "                low = mid + 1\n",
    "            else:\n",
    "                high = mid - 1\n",
    "        \n",
    "        return low"
   ]
  },
  {
   "cell_type": "markdown",
   "id": "f4a5c7fd",
   "metadata": {},
   "source": [
    "### Square Root of Integer"
   ]
  },
  {
   "cell_type": "code",
   "execution_count": null,
   "id": "03e9f02f",
   "metadata": {},
   "outputs": [],
   "source": [
    "def sqrt(self, A):\n",
    "    if A == 0 or A == 1:\n",
    "        return A \n",
    "\n",
    "    start = 0\n",
    "    end = A \n",
    "\n",
    "    while start < end:\n",
    "        mid = start + (end - start) // 2\n",
    "\n",
    "        if mid ** 2 == A:\n",
    "            return mid\n",
    "        elif mid ** 2 < A:\n",
    "            start = mid + 1\n",
    "        else:\n",
    "            end = mid - 1\n",
    "\n",
    "    return mid"
   ]
  },
  {
   "cell_type": "markdown",
   "id": "2b1e63d8",
   "metadata": {},
   "source": [
    "### Allocate Books"
   ]
  },
  {
   "cell_type": "code",
   "execution_count": null,
   "id": "f0b4d875",
   "metadata": {},
   "outputs": [],
   "source": [
    "class Solution:            \n",
    "    def is_valid(self, arr, n, k, mid):\n",
    "        student = 1\n",
    "        std_sum = 0\n",
    "        \n",
    "        for i in range(n):\n",
    "            std_sum += arr[i]\n",
    "            if std_sum > mid:\n",
    "                student += 1\n",
    "                std_sum = arr[i]\n",
    "        if student > k:\n",
    "            return False\n",
    "        return True\n",
    "\n",
    "    def books(self, arr, k):\n",
    "        start = max(arr)\n",
    "        end = sum(arr)\n",
    "        n = len(arr)\n",
    "        result = -1\n",
    "        \n",
    "        if n < k:\n",
    "            return -1\n",
    "        \n",
    "        while not start > end:\n",
    "            mid = start + (end - start) // 2\n",
    "            if self.is_valid(arr, n, k, mid):\n",
    "                result = mid\n",
    "                end = mid - 1\n",
    "            else:\n",
    "                start = mid + 1\n",
    "        \n",
    "        return result"
   ]
  },
  {
   "cell_type": "markdown",
   "id": "6bea0903",
   "metadata": {},
   "source": [
    "### Painter's Partition Problem"
   ]
  },
  {
   "cell_type": "code",
   "execution_count": null,
   "id": "ee1a1b8c",
   "metadata": {},
   "outputs": [],
   "source": [
    "class Solution:\n",
    "    def isValid(self, A, B, C, X):\n",
    "        n = len(C)\n",
    "        t = X\n",
    "        i = 0\n",
    "        cnt = 1\n",
    "\n",
    "        while i < n:\n",
    "            if cnt > A:\n",
    "                return False \n",
    "            if C[i] > t:\n",
    "                cnt += 1\n",
    "                t = X\n",
    "            else:\n",
    "                t = t -C[i]\n",
    "                i += 1\n",
    "        \n",
    "        return True\n",
    "\n",
    "    def paint(self, A, B, C):\n",
    "        n = len(C)\n",
    "        s = sum(C) % 10000003\n",
    "\n",
    "        low = 0\n",
    "        high = s * B\n",
    "        ans = high % 10000003\n",
    "        \n",
    "        while low <= high:\n",
    "            mid = low + (high - low) // 2\n",
    "            ans = (mid+1) % 10000003\n",
    "\n",
    "            if self.isValid(A, B, C, mid // B):\n",
    "                ans = mid % 10000003\n",
    "                high = mid - 1\n",
    "            else:\n",
    "                low = mid + 1\n",
    "            \n",
    "        return ans % 10000003"
   ]
  },
  {
   "cell_type": "markdown",
   "id": "9bf46394",
   "metadata": {},
   "source": [
    "## Search step simulation\n",
    "\n",
    "### Implement Power Function"
   ]
  },
  {
   "cell_type": "code",
   "execution_count": null,
   "id": "8de45c1e",
   "metadata": {},
   "outputs": [],
   "source": [
    "def pow(x, n, d):\n",
    "    if x == 0:\n",
    "        return 0\n",
    "    if n == 0:\n",
    "        return 1\n",
    "    if n == 1:\n",
    "        return x % d \n",
    "\n",
    "    temp = self.pow(x, n // 2, d)\n",
    "    if n % 2 == 0:\n",
    "        return (temp * temp) % d \n",
    "    else:\n",
    "        return (x * temp * temp) % d "
   ]
  },
  {
   "cell_type": "markdown",
   "id": "292b3b09",
   "metadata": {},
   "source": [
    "### Simple Queries"
   ]
  },
  {
   "cell_type": "code",
   "execution_count": null,
   "id": "abef52b6",
   "metadata": {},
   "outputs": [],
   "source": []
  },
  {
   "cell_type": "markdown",
   "id": "dabc4328",
   "metadata": {},
   "source": [
    "## Sort modification"
   ]
  },
  {
   "cell_type": "markdown",
   "id": "0bb72371",
   "metadata": {},
   "source": [
    "### Median of Array"
   ]
  },
  {
   "cell_type": "code",
   "execution_count": null,
   "id": "a75838e3",
   "metadata": {},
   "outputs": [],
   "source": [
    "def findMedianSortedArrays(self, arr1, arr2):\n",
    "    n1 = len(arr1)\n",
    "    n2 = len(arr2)\n",
    "\n",
    "    if n1 > n2:\n",
    "        arr1, arr2 = arr2, arr1\n",
    "        n1, n2 = n2, n1\n",
    "\n",
    "    begin1 = 0\n",
    "    end1 = n1\n",
    "\n",
    "    while begin1 <= end1:\n",
    "        i1 = begin1 + (end1 - begin1) // 2\n",
    "        i2 = (n1 + n2 + 1) // 2 - i1\n",
    "\n",
    "        min1 = float('inf') if i1 == n1 else arr1[i1]\n",
    "        max1 = -float('inf') if i1 == 0 else arr1[i1-1]\n",
    "\n",
    "        min2 = float('inf') if i2 == n2 else arr2[i2]\n",
    "        max2 = -float('inf') if i2 == 0 else arr2[i2-1]\n",
    "\n",
    "        if max1 <= min2 and max2 <= min1:\n",
    "            if (n1+n2)%2 == 0:\n",
    "                return (max(max1, max2) + min(min1, min2)) / 2\n",
    "            else:\n",
    "                return max(max1, max2)\n",
    "        elif max1 > min2:\n",
    "            end1 = i1 - 1\n",
    "        else:\n",
    "            begin1 = i1 + 1\n",
    "\n",
    "    return -1"
   ]
  },
  {
   "cell_type": "markdown",
   "id": "e894d34e",
   "metadata": {},
   "source": [
    "### Rotated Sorted Array Search"
   ]
  },
  {
   "cell_type": "code",
   "execution_count": null,
   "id": "c0888267",
   "metadata": {},
   "outputs": [],
   "source": [
    "def search(self, arr, ele):\n",
    "    n = len(arr)\n",
    "    start = 0\n",
    "    end = n - 1\n",
    "\n",
    "    # Search for the minimum element\n",
    "    while not start > end:\n",
    "        mid = start + (end - start) // 2\n",
    "\n",
    "        if ele == arr[mid]:\n",
    "            return mid\n",
    "        elif arr[start] <= arr[mid]:\n",
    "            if ele < arr[mid] and ele >= arr[start]:\n",
    "                end = mid - 1\n",
    "            else:\n",
    "                start = mid + 1\n",
    "        else:\n",
    "            if ele > arr[mid] and ele <= arr[end]:\n",
    "                start = mid + 1\n",
    "            else:\n",
    "                end = mid - 1\n",
    "\n",
    "    return -1"
   ]
  }
 ],
 "metadata": {
  "kernelspec": {
   "display_name": "Python 3 (ipykernel)",
   "language": "python",
   "name": "python3"
  },
  "language_info": {
   "codemirror_mode": {
    "name": "ipython",
    "version": 3
   },
   "file_extension": ".py",
   "mimetype": "text/x-python",
   "name": "python",
   "nbconvert_exporter": "python",
   "pygments_lexer": "ipython3",
   "version": "3.8.10"
  }
 },
 "nbformat": 4,
 "nbformat_minor": 5
}
