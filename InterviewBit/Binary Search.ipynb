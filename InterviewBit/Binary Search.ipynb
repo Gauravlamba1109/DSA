{
 "cells": [
  {
   "cell_type": "markdown",
   "id": "4594fe39",
   "metadata": {},
   "source": [
    "# Binary Search\n",
    "\n",
    "- [Simple Binary Search](#Simple-Binary-Search)\n",
    "    - [Matrix Search](#Matrix-Search)"
   ]
  },
  {
   "cell_type": "markdown",
   "id": "1e6efc77",
   "metadata": {},
   "source": [
    "## Simple Binary Search\n",
    "\n",
    "### Matrix Search"
   ]
  },
  {
   "cell_type": "code",
   "execution_count": null,
   "id": "34043776",
   "metadata": {},
   "outputs": [],
   "source": [
    "def searchMatrix(A, B):\n",
    "    N = len(A)\n",
    "    M = len(A[0])\n",
    "\n",
    "    i = 0\n",
    "    j = M-1\n",
    "\n",
    "    while -1 < i < N and -1 < j < M:\n",
    "        if A[i][j] == B:\n",
    "            return 1\n",
    "\n",
    "        if A[i][j] < B:\n",
    "            i += 1\n",
    "        else:\n",
    "            j -= 1\n",
    "\n",
    "    return 0"
   ]
  },
  {
   "cell_type": "code",
   "execution_count": null,
   "id": "2dbdb54f",
   "metadata": {},
   "outputs": [],
   "source": []
  },
  {
   "cell_type": "code",
   "execution_count": null,
   "id": "8de45c1e",
   "metadata": {},
   "outputs": [],
   "source": []
  }
 ],
 "metadata": {
  "kernelspec": {
   "display_name": "Python 3 (ipykernel)",
   "language": "python",
   "name": "python3"
  },
  "language_info": {
   "codemirror_mode": {
    "name": "ipython",
    "version": 3
   },
   "file_extension": ".py",
   "mimetype": "text/x-python",
   "name": "python",
   "nbconvert_exporter": "python",
   "pygments_lexer": "ipython3",
   "version": "3.8.10"
  }
 },
 "nbformat": 4,
 "nbformat_minor": 5
}
