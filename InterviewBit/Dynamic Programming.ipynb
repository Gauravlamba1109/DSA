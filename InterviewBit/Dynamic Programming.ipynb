{
 "cells": [
  {
   "cell_type": "markdown",
   "id": "2cc8b8e2",
   "metadata": {},
   "source": [
    "# Dynamic Programming\n",
    "\n",
    "- [2d String DP](#2d-String-DP)\n",
    "    - [Longest Common Subsequence](#Longest-Common-Subsequence)\n",
    "    - [Longest Palindromic Subsequence](#Longest-Palindromic-Subsequence)\n",
    "    - [Edit Distance](#Edit-Distance)\n",
    "    \n",
    "- [Knapsack](#Knapsack)\n",
    "    - [Flip Array](#Flip-Array)\n",
    "    - [Tushar's Birthday Party](#Tushar's-Birthday-Party)\n",
    "    - [0-1 Knapsack](#0-1-Knapsack)"
   ]
  },
  {
   "cell_type": "markdown",
   "id": "d3178dcb",
   "metadata": {},
   "source": [
    "## 2d String DP\n",
    "\n",
    "### Longest Common Subsequence"
   ]
  },
  {
   "cell_type": "code",
   "execution_count": null,
   "id": "cc66cc6c",
   "metadata": {},
   "outputs": [],
   "source": [
    "def solve(A, B):\n",
    "    N = len(A)\n",
    "    M = len(B)\n",
    "\n",
    "    dp = [[0 for _ in range(M+1)] for _ in range(N+1)]\n",
    "\n",
    "    maxLen = 0\n",
    "    for i in range(N+1):\n",
    "        for j in range(M+1):\n",
    "            if i == 0 or  j == 0:\n",
    "                dp[i][j] = 0\n",
    "            elif A[i-1] == B[j-1]:\n",
    "                dp[i][j] = dp[i-1][j-1] + 1\n",
    "                maxLen = max(maxLen, dp[i][j])\n",
    "            else:\n",
    "                dp[i][j] = max(dp[i-1][j], dp[i][j-1])\n",
    "\n",
    "    return maxLen"
   ]
  },
  {
   "cell_type": "markdown",
   "id": "aa4e3033",
   "metadata": {},
   "source": [
    "### Longest Palindromic Subsequence"
   ]
  },
  {
   "cell_type": "code",
   "execution_count": 1,
   "id": "bd9ecf69",
   "metadata": {},
   "outputs": [],
   "source": [
    "def solve(A):\n",
    "    N = len(A)\n",
    "    A_rev = A[::-1]\n",
    "\n",
    "    dp = [[0 for _ in range(N+1)] for _ in range(N+1)]\n",
    "\n",
    "    maxLen = 0\n",
    "    for i in range(N+1):\n",
    "        for j in range(N+1):\n",
    "            if i == 0 or j == 0:\n",
    "                dp[i][j] = 0\n",
    "            elif A[i-1] == A_rev[j-1]:\n",
    "                dp[i][j] = 1 + dp[i-1][j-1]\n",
    "                maxLen = max(maxLen, dp[i][j])\n",
    "            else:\n",
    "                dp[i][j] = max(dp[i][j-1], dp[i-1][j])\n",
    "\n",
    "    return maxLen"
   ]
  },
  {
   "cell_type": "markdown",
   "id": "b3248fb4",
   "metadata": {},
   "source": [
    "### Edit Distance"
   ]
  },
  {
   "cell_type": "code",
   "execution_count": null,
   "id": "29033c20",
   "metadata": {},
   "outputs": [],
   "source": [
    "# Subtracting LCS does not work because in this we not only have to delete\n",
    "# or insert but we can also perform replace\n",
    "def minDistance(A, B):\n",
    "    N = len(A)\n",
    "    M = len(B)\n",
    "\n",
    "    dp = [[0 for _ in range(M+1)] for _ in range(N+1)]\n",
    "\n",
    "    for i in range(N+1):\n",
    "        for j in range(M+1):\n",
    "            # if i == 0 then to make A to B we have to insert j characters\n",
    "            if i == 0:\n",
    "                dp[i][j] = j\n",
    "            # if j == 0 then to make A to B we have to delete i characters\n",
    "            elif j == 0:\n",
    "                dp[i][j] = i\n",
    "            # if the characters of both string are same then do nothing\n",
    "            elif A[i-1] == B[j-1]:\n",
    "                dp[i][j] = dp[i-1][j-1]\n",
    "            # Here, we can perform three operation, either delete, insert or replace\n",
    "            else:\n",
    "                dp[i][j] = 1 + min(dp[i-1][j], dp[i][j-1], dp[i-1][j-1])\n",
    "\n",
    "    return dp[N][M]"
   ]
  },
  {
   "cell_type": "markdown",
   "id": "d3acdb25",
   "metadata": {},
   "source": [
    "## Knapsack\n",
    "\n",
    "### Flip Array"
   ]
  },
  {
   "cell_type": "code",
   "execution_count": null,
   "id": "1e58cfc2",
   "metadata": {},
   "outputs": [],
   "source": [
    "def solve(A):\n",
    "    N = len(A)\n",
    "    S = sum(A) // 2\n",
    "    dp = [[-1 for _ in range(S+1)] for _ in range(N+1)]\n",
    "\n",
    "    for i in range(N+1):\n",
    "        for j in range(S+1):\n",
    "            if i == 0 and j == 0:\n",
    "                dp[i][j] = 0\n",
    "            elif i == 0:\n",
    "                dp[i][j] = float('inf')\n",
    "            elif j == 0:\n",
    "                dp[i][j] = 00\n",
    "            elif A[i-1] <= j:\n",
    "                dp[i][j] = min(dp[i-1][j], 1+dp[i-1][j-A[i-1]])\n",
    "            else:\n",
    "                dp[i][j] = dp[i-1][j]\n",
    "\n",
    "    if dp[N][S] == float('inf'):\n",
    "        for j in range(S+1):\n",
    "            if dp[N][j] < float('inf'):\n",
    "                dp[N][S] = dp[N][j]\n",
    "                break\n",
    "\n",
    "    return dp[N][S]"
   ]
  },
  {
   "cell_type": "markdown",
   "id": "147e1a9f",
   "metadata": {},
   "source": [
    "### Tushar's Birthday Party"
   ]
  },
  {
   "cell_type": "code",
   "execution_count": null,
   "id": "5b0a9cea",
   "metadata": {},
   "outputs": [],
   "source": [
    "def solve(A, B, C):\n",
    "    N = len(A)\n",
    "    M = len(B)\n",
    "    \n",
    "    # Store the indices of array B and C and sort it with value of B\n",
    "    arr = sorted(list(i for i in range(M)), key=lambda i: B[i])\n",
    "    maxEatingCapacity = max(A)\n",
    "\n",
    "    dp = [[0 for _ in range(maxEatingCapacity+1)] for _ in range(M+1)]\n",
    "\n",
    "    for i in range(1, M+1):\n",
    "        for j in range(1, maxEatingCapacity+1):\n",
    "            if i == 0 or j == 0:\n",
    "                dp[i][j] = 0\n",
    "            elif i == 1:\n",
    "                dp[i][j] = C[arr[i-1]] * j\n",
    "            elif B[arr[i-1]] <= j:\n",
    "                dp[i][j] = min(C[arr[i-1]]+dp[i][j-B[arr[i-1]]], dp[i-1][j])\n",
    "            else:\n",
    "                dp[i][j] = dp[i-1][j]\n",
    "\n",
    "    minCost = 0\n",
    "    for cap in A:\n",
    "        minCost += dp[M][cap]\n",
    "\n",
    "    return minCost"
   ]
  },
  {
   "cell_type": "markdown",
   "id": "3a157cb9",
   "metadata": {},
   "source": [
    "### 0-1 Knapsack"
   ]
  },
  {
   "cell_type": "code",
   "execution_count": null,
   "id": "4a3949f5",
   "metadata": {},
   "outputs": [],
   "source": [
    "def solve(A, B, C):\n",
    "    N = len(A)\n",
    "    dp = [[0 for _ in range(C+1)] for _ in range(N+1)]\n",
    "\n",
    "    for i in range(N+1):\n",
    "        for j in range(C+1):\n",
    "            if i == 0 or j == 0:\n",
    "                dp[i][j] = 0\n",
    "            elif B[i-1] <= j:\n",
    "                dp[i][j] = max(A[i-1] + dp[i-1][j-B[i-1]], dp[i-1][j])\n",
    "            else:\n",
    "                dp[i][j] = dp[i-1][j]\n",
    "\n",
    "    return dp[N][C]"
   ]
  }
 ],
 "metadata": {
  "kernelspec": {
   "display_name": "Python 3 (ipykernel)",
   "language": "python",
   "name": "python3"
  },
  "language_info": {
   "codemirror_mode": {
    "name": "ipython",
    "version": 3
   },
   "file_extension": ".py",
   "mimetype": "text/x-python",
   "name": "python",
   "nbconvert_exporter": "python",
   "pygments_lexer": "ipython3",
   "version": "3.8.10"
  }
 },
 "nbformat": 4,
 "nbformat_minor": 5
}
