{
 "cells": [
  {
   "cell_type": "markdown",
   "id": "2cc8b8e2",
   "metadata": {},
   "source": [
    "# Dynamic Programming\n",
    "\n",
    "- [2d String DP](#2d-String-DP)\n",
    "    - [Longest Common Subsequence](#Longest-Common-Subsequence)\n",
    "    - [Longest Palindromic Subsequence](#Longest-Palindromic-Subsequence)\n",
    "    - [Edit Distance](#Edit-Distance)\n",
    "\n",
    "- [Derived dp](Derived-DP)\n",
    "    - [Chain of Pairs](#Chain-of-Pairs)\n",
    "    - [Max Sum Without Adjacent Elements](#Max-Sum-Without-Adjacent-Elements)\n",
    "    - [Merge Elements](#Merge-elements)\n",
    "\n",
    "- [Knapsack](#Knapsack)\n",
    "    - [Flip Array](#Flip-Array)\n",
    "    - [Tushar's Birthday Party](#Tushar's-Birthday-Party)\n",
    "    - [0-1 Knapsack](#0-1-Knapsack)\n",
    "    - [Equal Average Partition](#Equal-Average-Partition)"
   ]
  },
  {
   "cell_type": "markdown",
   "id": "d3178dcb",
   "metadata": {},
   "source": [
    "## 2d String DP\n",
    "\n",
    "### Longest Common Subsequence"
   ]
  },
  {
   "cell_type": "code",
   "execution_count": null,
   "id": "cc66cc6c",
   "metadata": {},
   "outputs": [],
   "source": [
    "def solve(A, B):\n",
    "    N = len(A)\n",
    "    M = len(B)\n",
    "\n",
    "    dp = [[0 for _ in range(M+1)] for _ in range(N+1)]\n",
    "\n",
    "    maxLen = 0\n",
    "    for i in range(N+1):\n",
    "        for j in range(M+1):\n",
    "            if i == 0 or  j == 0:\n",
    "                dp[i][j] = 0\n",
    "            elif A[i-1] == B[j-1]:\n",
    "                dp[i][j] = dp[i-1][j-1] + 1\n",
    "                maxLen = max(maxLen, dp[i][j])\n",
    "            else:\n",
    "                dp[i][j] = max(dp[i-1][j], dp[i][j-1])\n",
    "\n",
    "    return maxLen"
   ]
  },
  {
   "cell_type": "markdown",
   "id": "aa4e3033",
   "metadata": {},
   "source": [
    "### Longest Palindromic Subsequence"
   ]
  },
  {
   "cell_type": "code",
   "execution_count": 1,
   "id": "bd9ecf69",
   "metadata": {},
   "outputs": [],
   "source": [
    "def solve(A):\n",
    "    N = len(A)\n",
    "    A_rev = A[::-1]\n",
    "\n",
    "    dp = [[0 for _ in range(N+1)] for _ in range(N+1)]\n",
    "\n",
    "    maxLen = 0\n",
    "    for i in range(N+1):\n",
    "        for j in range(N+1):\n",
    "            if i == 0 or j == 0:\n",
    "                dp[i][j] = 0\n",
    "            elif A[i-1] == A_rev[j-1]:\n",
    "                dp[i][j] = 1 + dp[i-1][j-1]\n",
    "                maxLen = max(maxLen, dp[i][j])\n",
    "            else:\n",
    "                dp[i][j] = max(dp[i][j-1], dp[i-1][j])\n",
    "\n",
    "    return maxLen"
   ]
  },
  {
   "cell_type": "markdown",
   "id": "b3248fb4",
   "metadata": {},
   "source": [
    "### Edit Distance"
   ]
  },
  {
   "cell_type": "code",
   "execution_count": null,
   "id": "29033c20",
   "metadata": {},
   "outputs": [],
   "source": [
    "# Subtracting LCS does not work because in this we not only have to delete\n",
    "# or insert but we can also perform replace\n",
    "def minDistance(A, B):\n",
    "    N = len(A)\n",
    "    M = len(B)\n",
    "\n",
    "    dp = [[0 for _ in range(M+1)] for _ in range(N+1)]\n",
    "\n",
    "    for i in range(N+1):\n",
    "        for j in range(M+1):\n",
    "            # if i == 0 then to make A to B we have to insert j characters\n",
    "            if i == 0:\n",
    "                dp[i][j] = j\n",
    "            # if j == 0 then to make A to B we have to delete i characters\n",
    "            elif j == 0:\n",
    "                dp[i][j] = i\n",
    "            # if the characters of both string are same then do nothing\n",
    "            elif A[i-1] == B[j-1]:\n",
    "                dp[i][j] = dp[i-1][j-1]\n",
    "            # Here, we can perform three operation, either delete, insert or replace\n",
    "            else:\n",
    "                dp[i][j] = 1 + min(dp[i-1][j], dp[i][j-1], dp[i-1][j-1])\n",
    "\n",
    "    return dp[N][M]"
   ]
  },
  {
   "cell_type": "markdown",
   "id": "4a9d6275",
   "metadata": {},
   "source": [
    "## Derived DP\n",
    "\n",
    "### Chain of Pairs"
   ]
  },
  {
   "cell_type": "code",
   "execution_count": 1,
   "id": "3bd77c74",
   "metadata": {},
   "outputs": [],
   "source": [
    "def solve(A):\n",
    "    n = len(A)\n",
    "    dp = [0 for _ in range(n)]\n",
    "\n",
    "    for i in range(n):\n",
    "        max_inc = dp[i]\n",
    "        for j in range(i):\n",
    "            if A[j][1] < A[i][0]:\n",
    "                max_inc = max(max_inc, dp[j])\n",
    "        dp[i] = 1 + max_inc\n",
    "\n",
    "    return max(dp)"
   ]
  },
  {
   "cell_type": "markdown",
   "id": "c482e3f5",
   "metadata": {},
   "source": [
    "### Max Sum Without Adjacent Elements"
   ]
  },
  {
   "cell_type": "code",
   "execution_count": null,
   "id": "b565e6fc",
   "metadata": {},
   "outputs": [],
   "source": [
    "def adjacent(A):\n",
    "    N = len(A[0])\n",
    "    if N == 1:\n",
    "        return max(A[0][0], A[1][0])\n",
    "\n",
    "    dp = [0 for _ in range(N+1)]\n",
    "\n",
    "    for i in range(N+1):\n",
    "        if i == 0:\n",
    "            dp[i] = 0\n",
    "        elif i -2 >= 0:\n",
    "            u = A[0][i-1] + dp[i-2]\n",
    "            v = A[1][i-1] + dp[i-2]\n",
    "            w = dp[i-1]\n",
    "            dp[i] = max(u, v, w)\n",
    "        else:\n",
    "            u = A[0][i-1]\n",
    "            v = A[1][i-1]\n",
    "            w = dp[i-1]\n",
    "            dp[i] = max(u, v, w)\n",
    "\n",
    "    return dp[N]"
   ]
  },
  {
   "cell_type": "markdown",
   "id": "ae9b0add",
   "metadata": {},
   "source": [
    "### Merge elements"
   ]
  },
  {
   "cell_type": "code",
   "execution_count": null,
   "id": "cee4c9df",
   "metadata": {},
   "outputs": [],
   "source": [
    "class Solution:\n",
    "    def helper(self, A, i, j, dp):\n",
    "        if i > j:\n",
    "            return 0\n",
    "        if i == j:\n",
    "            return 0\n",
    "        if dp[i][j] != -1:\n",
    "            return dp[i][j]\n",
    "        \n",
    "        minVal = float('inf')\n",
    "        s = sum(A[i:j+1])\n",
    "        temp = minVal\n",
    "        \n",
    "        for k in range(i, j):\n",
    "            a = self.helper(A, i, k, dp)\n",
    "            b = self.helper(A, k+1, j, dp)\n",
    "            temp = min(temp, (a+b+s))\n",
    "            \n",
    "            minVal = min(temp, minVal)\n",
    "            \n",
    "        dp[i][j] = minVal\n",
    "        return minVal\n",
    "    \n",
    "    def solve(self, A):\n",
    "        N = len(A)\n",
    "        dp = [[-1 for _ in range(N)] for _ in range(N)]\n",
    "        return self.helper(A, 0, N-1, dp)"
   ]
  },
  {
   "cell_type": "markdown",
   "id": "d3acdb25",
   "metadata": {},
   "source": [
    "## Knapsack\n",
    "\n",
    "### Flip Array"
   ]
  },
  {
   "cell_type": "code",
   "execution_count": null,
   "id": "1e58cfc2",
   "metadata": {},
   "outputs": [],
   "source": [
    "def solve(A):\n",
    "    N = len(A)\n",
    "    S = sum(A) // 2\n",
    "    dp = [[-1 for _ in range(S+1)] for _ in range(N+1)]\n",
    "\n",
    "    for i in range(N+1):\n",
    "        for j in range(S+1):\n",
    "            if i == 0 and j == 0:\n",
    "                dp[i][j] = 0\n",
    "            elif i == 0:\n",
    "                dp[i][j] = float('inf')\n",
    "            elif j == 0:\n",
    "                dp[i][j] = 00\n",
    "            elif A[i-1] <= j:\n",
    "                dp[i][j] = min(dp[i-1][j], 1+dp[i-1][j-A[i-1]])\n",
    "            else:\n",
    "                dp[i][j] = dp[i-1][j]\n",
    "\n",
    "    if dp[N][S] == float('inf'):\n",
    "        for j in range(S+1):\n",
    "            if dp[N][j] < float('inf'):\n",
    "                dp[N][S] = dp[N][j]\n",
    "                break\n",
    "\n",
    "    return dp[N][S]"
   ]
  },
  {
   "cell_type": "markdown",
   "id": "147e1a9f",
   "metadata": {},
   "source": [
    "### Tushar's Birthday Party"
   ]
  },
  {
   "cell_type": "code",
   "execution_count": null,
   "id": "5b0a9cea",
   "metadata": {},
   "outputs": [],
   "source": [
    "def solve(A, B, C):\n",
    "    N = len(A)\n",
    "    M = len(B)\n",
    "    \n",
    "    # Store the indices of array B and C and sort it with value of B\n",
    "    arr = sorted(list(i for i in range(M)), key=lambda i: B[i])\n",
    "    maxEatingCapacity = max(A)\n",
    "\n",
    "    dp = [[0 for _ in range(maxEatingCapacity+1)] for _ in range(M+1)]\n",
    "\n",
    "    for i in range(1, M+1):\n",
    "        for j in range(1, maxEatingCapacity+1):\n",
    "            if i == 0 or j == 0:\n",
    "                dp[i][j] = 0\n",
    "            elif i == 1:\n",
    "                dp[i][j] = C[arr[i-1]] * j\n",
    "            elif B[arr[i-1]] <= j:\n",
    "                dp[i][j] = min(C[arr[i-1]]+dp[i][j-B[arr[i-1]]], dp[i-1][j])\n",
    "            else:\n",
    "                dp[i][j] = dp[i-1][j]\n",
    "\n",
    "    minCost = 0\n",
    "    for cap in A:\n",
    "        minCost += dp[M][cap]\n",
    "\n",
    "    return minCost"
   ]
  },
  {
   "cell_type": "markdown",
   "id": "3a157cb9",
   "metadata": {},
   "source": [
    "### 0-1 Knapsack"
   ]
  },
  {
   "cell_type": "code",
   "execution_count": null,
   "id": "4a3949f5",
   "metadata": {},
   "outputs": [],
   "source": [
    "def solve(A, B, C):\n",
    "    N = len(A)\n",
    "    dp = [[0 for _ in range(C+1)] for _ in range(N+1)]\n",
    "\n",
    "    for i in range(N+1):\n",
    "        for j in range(C+1):\n",
    "            if i == 0 or j == 0:\n",
    "                dp[i][j] = 0\n",
    "            elif B[i-1] <= j:\n",
    "                dp[i][j] = max(A[i-1] + dp[i-1][j-B[i-1]], dp[i-1][j])\n",
    "            else:\n",
    "                dp[i][j] = dp[i-1][j]\n",
    "\n",
    "    return dp[N][C]"
   ]
  },
  {
   "cell_type": "markdown",
   "id": "9e077b63",
   "metadata": {},
   "source": [
    "### Equal Average Partition\n",
    "\n",
    "Does not return solution as expected but gives correct solution"
   ]
  },
  {
   "cell_type": "code",
   "execution_count": null,
   "id": "139a6da5",
   "metadata": {},
   "outputs": [],
   "source": [
    "class Solution:\n",
    "    def check (self, idx, s, n, A, res):\n",
    "        if n == 0:\n",
    "            return s == 0\n",
    "        \n",
    "        if idx >= len(A):\n",
    "            return False\n",
    "        \n",
    "        if A[idx] <= s:\n",
    "            res.append(A[idx])\n",
    "            if self.check(idx+1, s-A[idx], n-1, A, res):\n",
    "                return True\n",
    "            res.pop()\n",
    "        \n",
    "        if self.check(idx+1, s, n, A, res):\n",
    "            return True\n",
    "        \n",
    "        return False\n",
    "\n",
    "    def avgset(self, A):\n",
    "        S = sum(A)\n",
    "        N = len(A)\n",
    "\n",
    "        for i in range(1, N):\n",
    "            if (S * i) % N == 0:\n",
    "                s = (i * S) // N\n",
    "                res = []\n",
    "\n",
    "                if self.check(0, s, i, A, res):\n",
    "                    ano = []\n",
    "                    for ele in A:\n",
    "                        if ele not in res:\n",
    "                            ano.append(ele)\n",
    "                    return sorted(res), sorted(ano)\n",
    "\n",
    "        return []"
   ]
  }
 ],
 "metadata": {
  "kernelspec": {
   "display_name": "Python 3 (ipykernel)",
   "language": "python",
   "name": "python3"
  },
  "language_info": {
   "codemirror_mode": {
    "name": "ipython",
    "version": 3
   },
   "file_extension": ".py",
   "mimetype": "text/x-python",
   "name": "python",
   "nbconvert_exporter": "python",
   "pygments_lexer": "ipython3",
   "version": "3.8.10"
  }
 },
 "nbformat": 4,
 "nbformat_minor": 5
}
