{
 "cells": [
  {
   "cell_type": "markdown",
   "id": "2b6603dd",
   "metadata": {},
   "source": [
    "# Graph\n",
    "\n",
    "- [Depth first search](#Depth-first-search)\n",
    "    - [Path with good nodes](#Path-with-good-nodes)\n",
    "    - [Largest Distance between nodes of a Tree](#Largest-Distance-between-nodes-of-a-Tree)"
   ]
  },
  {
   "cell_type": "markdown",
   "id": "8da0cfcf",
   "metadata": {},
   "source": [
    "## Depth first search\n",
    "\n",
    "### Path with good nodes"
   ]
  },
  {
   "cell_type": "code",
   "execution_count": 1,
   "id": "2de3a081",
   "metadata": {},
   "outputs": [],
   "source": [
    "class Solution:\n",
    "    def getMap(self, arr, n):\n",
    "        m = dict()\n",
    "        \n",
    "        for i in range(1, n+1):\n",
    "            m[i] = list()\n",
    "        \n",
    "        for pair in arr:\n",
    "            m[pair[0]].append(pair[1])\n",
    "            m[pair[1]].append(pair[0])\n",
    "            \n",
    "    def dfs(self, node, A, B, C, num, vis):\n",
    "        present = False\n",
    "\n",
    "        if A[node-1] == 1:\n",
    "            num += 1\n",
    "        vis[node-1] = 1\n",
    "        for child in B[node]:\n",
    "            present = True\n",
    "            helper(pair[0], A, B, C, num, vis)\n",
    "\n",
    "        if present == False:\n",
    "            if num <= C:\n",
    "                self.result += 1\n",
    "    \n",
    "    def solve(self, A, B, C):\n",
    "        self.result = 0\n",
    "        n = len(A)\n",
    "        m = self.getMap(B, n)\n",
    "        vis = [0 for _ in range(n)]\n",
    "\n",
    "        self.dfs(1, A, m, C, 0, vis)\n",
    "\n",
    "        return self.result"
   ]
  },
  {
   "cell_type": "markdown",
   "id": "4856e797",
   "metadata": {},
   "source": [
    "### Largest Distance between nodes of a Tree"
   ]
  },
  {
   "cell_type": "code",
   "execution_count": 2,
   "id": "336b3cb5",
   "metadata": {},
   "outputs": [],
   "source": [
    "class Solution:\n",
    "    def getMapAndRoot(self, A, n):\n",
    "        m = dict()\n",
    "        \n",
    "        for i in range(n):\n",
    "            m[i] = []\n",
    "        \n",
    "        root = -1\n",
    "        for i, ele in enumerate(A):\n",
    "            if ele == -1:\n",
    "                root = i \n",
    "            else:\n",
    "                m[ele].append(i)\n",
    "\n",
    "        return m, root\n",
    "    \n",
    "    def dfs(self, node, m, vis):\n",
    "        vis[node] = True\n",
    "        if not m[node]:\n",
    "            return 1\n",
    "\n",
    "        mx1 = 0\n",
    "        mx2 = 0\n",
    "        for child in m[node]:\n",
    "            if not vis[child]:\n",
    "                temp = helper(child, m, vis)\n",
    "\n",
    "                pre = mx1\n",
    "                mx1 = max(mx1, temp)\n",
    "                if mx1 == pre:\n",
    "                    mx2 = max(mx2, temp)\n",
    "                else:\n",
    "                    mx2 = max(mx2, pre)\n",
    "\n",
    "        self.result = max(self.result, mx1+mx2)\n",
    "\n",
    "        return mx1 + 1\n",
    "\n",
    "    def solve(self, A):\n",
    "        n = len(A)\n",
    "\n",
    "        if n == 1:\n",
    "            return 0\n",
    "            \n",
    "        self.result = 0\n",
    "        vis = [False for _ in range(n)]\n",
    "\n",
    "        m, root = self.getMapAndRoot(A, n)\n",
    "        \n",
    "        self.dfs(root, m, vis)\n",
    "        \n",
    "        return self.result"
   ]
  }
 ],
 "metadata": {
  "kernelspec": {
   "display_name": "Python 3 (ipykernel)",
   "language": "python",
   "name": "python3"
  },
  "language_info": {
   "codemirror_mode": {
    "name": "ipython",
    "version": 3
   },
   "file_extension": ".py",
   "mimetype": "text/x-python",
   "name": "python",
   "nbconvert_exporter": "python",
   "pygments_lexer": "ipython3",
   "version": "3.8.5"
  }
 },
 "nbformat": 4,
 "nbformat_minor": 5
}
