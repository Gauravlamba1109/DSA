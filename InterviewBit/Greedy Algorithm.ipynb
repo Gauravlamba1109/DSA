{
 "cells": [
  {
   "cell_type": "markdown",
   "id": "ad82b005",
   "metadata": {},
   "source": [
    "# Greedy Algorithm\n",
    "\n",
    "- [Medium greedy](#Medium-greedy)\n",
    "    - [Majority Element](#Majority-Element)"
   ]
  },
  {
   "cell_type": "markdown",
   "id": "a379182b",
   "metadata": {},
   "source": [
    "## Medium greedy\n",
    "\n",
    "### Majority Element"
   ]
  },
  {
   "cell_type": "code",
   "execution_count": null,
   "id": "4f73dc3f",
   "metadata": {},
   "outputs": [],
   "source": [
    "def majorityElement(A):\n",
    "    count = 0\n",
    "    majEle = 0\n",
    "\n",
    "    for ele in A:\n",
    "        if count == 0:\n",
    "            majEle = ele\n",
    "\n",
    "        if ele == majEle:\n",
    "            count += 1\n",
    "        else:\n",
    "            count -= 1\n",
    "\n",
    "    return majEle"
   ]
  }
 ],
 "metadata": {
  "kernelspec": {
   "display_name": "Python 3 (ipykernel)",
   "language": "python",
   "name": "python3"
  },
  "language_info": {
   "codemirror_mode": {
    "name": "ipython",
    "version": 3
   },
   "file_extension": ".py",
   "mimetype": "text/x-python",
   "name": "python",
   "nbconvert_exporter": "python",
   "pygments_lexer": "ipython3",
   "version": "3.8.10"
  }
 },
 "nbformat": 4,
 "nbformat_minor": 5
}
