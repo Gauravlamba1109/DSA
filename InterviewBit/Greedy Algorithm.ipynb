{
 "cells": [
  {
   "cell_type": "markdown",
   "id": "ad82b005",
   "metadata": {},
   "source": [
    "# Greedy Algorithm\n",
    "\n",
    "- [Easy greedy](#Easy-greedy)\n",
    "    - [Highest Product](#Highest-Product)\n",
    "    - [Bulbs](#Bulbs)\n",
    "    - [Disjoint Intervals](#Disjoint-Intervals)\n",
    "    - [Largest Permutation](#Largest-Permutation)\n",
    "    \n",
    "- [Medium greedy](#Medium-greedy)\n",
    "    - [Majority Element](#Majority-Element)"
   ]
  },
  {
   "cell_type": "markdown",
   "id": "070f9fef",
   "metadata": {},
   "source": [
    "## Easy greedy\n",
    "\n",
    "### Highest Product"
   ]
  },
  {
   "cell_type": "code",
   "execution_count": null,
   "id": "b0c68cf0",
   "metadata": {},
   "outputs": [],
   "source": [
    "def maxp3(A):\n",
    "    A.sort()\n",
    "\n",
    "    return max(A[0] * A[1] * A[-1], A[-1] * A[-2] * A[-3])"
   ]
  },
  {
   "cell_type": "markdown",
   "id": "f63078b9",
   "metadata": {},
   "source": [
    "### Bulbs"
   ]
  },
  {
   "cell_type": "code",
   "execution_count": null,
   "id": "38c218a4",
   "metadata": {},
   "outputs": [],
   "source": [
    "def bulbs(self, A):\n",
    "    if not A:\n",
    "        return 0\n",
    "    if len(A) == 1:\n",
    "        if A[0] == 1:\n",
    "            return 0\n",
    "        return 1\n",
    "\n",
    "    count = 0\n",
    "\n",
    "    for ele in A:\n",
    "        if count % 2 == 1 and ele == 1:\n",
    "            count += 1\n",
    "        elif count % 2 == 0 and ele == 0:\n",
    "            count += 1\n",
    "\n",
    "    return count"
   ]
  },
  {
   "cell_type": "markdown",
   "id": "d940ebea",
   "metadata": {},
   "source": [
    "### Disjoint Intervals"
   ]
  },
  {
   "cell_type": "code",
   "execution_count": null,
   "id": "82462c5d",
   "metadata": {},
   "outputs": [],
   "source": [
    "def solve(A):\n",
    "    A.sort(key=lambda x: x[1])\n",
    "\n",
    "    count = 1\n",
    "    curr = 0\n",
    "    for i in range(len(A)):\n",
    "        if A[curr][1] < A[i][0]:\n",
    "            count += 1\n",
    "            curr = i\n",
    "\n",
    "    return count"
   ]
  },
  {
   "cell_type": "markdown",
   "id": "25fa0e64",
   "metadata": {},
   "source": [
    "### Largest Permutation"
   ]
  },
  {
   "cell_type": "code",
   "execution_count": null,
   "id": "a9f8dddf",
   "metadata": {},
   "outputs": [],
   "source": [
    "def solve(A, B):\n",
    "    n = len(A)\n",
    "    rev = [n-i for i in range(n)]\n",
    "    d = {}\n",
    "    for i in range(len(A)):\n",
    "        d[A[i]]=i\n",
    "\n",
    "    i = 0\n",
    "    swap = B\n",
    "\n",
    "    while(i<n and swap>0):\n",
    "        if rev[i]==A[i]:\n",
    "            #don't swap\n",
    "            i+=1\n",
    "\n",
    "        else:\n",
    "            i1 = d[A[i]]\n",
    "            i2 = d[rev[i]]\n",
    "\n",
    "            del d[A[i]]\n",
    "            del d[rev[i]]\n",
    "\n",
    "            #swap elements at indices i1 and i2\n",
    "            temp = A[i1]\n",
    "            A[i1] = A[i2]\n",
    "            A[i2] = temp\n",
    "\n",
    "            d[A[i1]] = i1\n",
    "            d[A[i2]] = i2\n",
    "\n",
    "            i+=1\n",
    "            swap-=1\n",
    "\n",
    "    return A"
   ]
  },
  {
   "cell_type": "markdown",
   "id": "a379182b",
   "metadata": {},
   "source": [
    "## Medium greedy\n",
    "\n",
    "### Majority Element"
   ]
  },
  {
   "cell_type": "code",
   "execution_count": null,
   "id": "4f73dc3f",
   "metadata": {},
   "outputs": [],
   "source": [
    "def majorityElement(A):\n",
    "    count = 0\n",
    "    majEle = 0\n",
    "\n",
    "    for ele in A:\n",
    "        if count == 0:\n",
    "            majEle = ele\n",
    "\n",
    "        if ele == majEle:\n",
    "            count += 1\n",
    "        else:\n",
    "            count -= 1\n",
    "\n",
    "    return majEle"
   ]
  }
 ],
 "metadata": {
  "kernelspec": {
   "display_name": "Python 3 (ipykernel)",
   "language": "python",
   "name": "python3"
  },
  "language_info": {
   "codemirror_mode": {
    "name": "ipython",
    "version": 3
   },
   "file_extension": ".py",
   "mimetype": "text/x-python",
   "name": "python",
   "nbconvert_exporter": "python",
   "pygments_lexer": "ipython3",
   "version": "3.8.10"
  }
 },
 "nbformat": 4,
 "nbformat_minor": 5
}
