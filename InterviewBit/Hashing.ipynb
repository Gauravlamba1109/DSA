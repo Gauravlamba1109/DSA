{
 "cells": [
  {
   "cell_type": "markdown",
   "id": "39e888e7",
   "metadata": {},
   "source": [
    "# Hashing\n",
    "\n",
    "- [Hash search](#Hash-search)\n",
    "    - [Colorful Number](#Colorful-Number)\n",
    "    - [Largest Continuous Sequence Zero Sum](#Largest-Continuous-Sequence-Zero-Sum)\n",
    "    - [Longest Subarray Length](#Longest-Subarray-Length)\n",
    "    - [First Repeating element](#First-Repeating-element)\n",
    "    - [2 Sum](#2-Sum)\n",
    "    - [4 Sum](#4-Sum)\n",
    "    - [Valid Sudoku](#Valid-Sudoku)\n",
    "    - [Diffk II](#Diffk-II)\n",
    "    \n",
    "- [Key formation](#Key-formation)\n",
    "    - [Pairs With Given Xor](#Pairs-With-Given-Xor)\n",
    "    - [Anagrams](#Anagrams)\n",
    "    - [Equal](#Equal)\n",
    "    - [Copy List](#Copy-List)\n",
    "    \n",
    "- [Maths and hashing](#Maths-and-hashing)\n",
    "    - [Check Palindrome!](#Check-Palindrome!)\n",
    "    - [Fraction](#Fraction)\n",
    "    - [Points on the Straight Line](#Points-on-the-Straight-Line)\n",
    "    \n",
    "- [Incremental hash](#Incremental-hash)\n",
    "    - [An Increment Problem](#An-Increment-Problem)\n",
    "    - [Subarray with given XOR](#Subarray-with-given-XOR)\n",
    "    - [Two out of Three](#Two-out-of-Three)\n",
    "    - [Substring Concatenation](#Substring-Concatenation)\n",
    "    \n",
    "- [Hashing two pointer](#Hashing-two-pointer)\n",
    "    - [Longest Substring Without Repeat](#Longest-Substring-Without-Repeat)\n",
    "    - [Subarray with B odd numbers](#Subarray-with-B-odd-numbers)\n",
    "    - [Window String](#Window-String)"
   ]
  },
  {
   "cell_type": "markdown",
   "id": "b2ebd278",
   "metadata": {},
   "source": [
    "## Hash search"
   ]
  },
  {
   "cell_type": "markdown",
   "id": "115061ac",
   "metadata": {},
   "source": [
    "### Colorful Number"
   ]
  },
  {
   "cell_type": "code",
   "execution_count": null,
   "id": "58e57240",
   "metadata": {},
   "outputs": [],
   "source": [
    "def colorful(self, A):\n",
    "    mp = dict()\n",
    "\n",
    "    while A:\n",
    "        prod = 1\n",
    "        num = A\n",
    "\n",
    "        while num:\n",
    "            prod *= num % 10\n",
    "            num = num // 10\n",
    "\n",
    "            if prod in mp:\n",
    "                return 0\n",
    "\n",
    "            mp[prod] = 1\n",
    "\n",
    "        A = A // 10\n",
    "\n",
    "    return 1"
   ]
  },
  {
   "cell_type": "markdown",
   "id": "cd930e79",
   "metadata": {},
   "source": [
    "### Largest Continuous Sequence Zero Sum"
   ]
  },
  {
   "cell_type": "code",
   "execution_count": null,
   "id": "99bb0ade",
   "metadata": {},
   "outputs": [],
   "source": [
    "def lszero(A):\n",
    "    mapper = dict()\n",
    "    s = 0\n",
    "    start = -1\n",
    "    end = -2\n",
    "\n",
    "    for i, ele in enumerate(A):\n",
    "        s += ele\n",
    "        if s == 0 and i > end-start:\n",
    "            start = -1\n",
    "            end = i\n",
    "        elif s in mapper:\n",
    "            if i - mapper[s] > end-start:\n",
    "                start = mapper[s]\n",
    "                end = i\n",
    "        else:\n",
    "            mapper[s] = i\n",
    "\n",
    "    start += 1\n",
    "\n",
    "    return A[start:end+1] if sum(A[start:end+1]) == 0 else []"
   ]
  },
  {
   "cell_type": "markdown",
   "id": "16a0a7a8",
   "metadata": {},
   "source": [
    "### Longest Subarray Length"
   ]
  },
  {
   "cell_type": "code",
   "execution_count": null,
   "id": "19e03f65",
   "metadata": {},
   "outputs": [],
   "source": [
    "def solve(self, A):\n",
    "    n = len(A)\n",
    "    mapper = dict()\n",
    "    ones = 0\n",
    "    zeros = 0\n",
    "    ans = 0\n",
    "    mapper[0] = 0\n",
    "    for i in range(n):\n",
    "        if A[i] == 1:\n",
    "            ones += 1\n",
    "        else:\n",
    "            zeros += 1\n",
    "\n",
    "        if ones - zeros == 1:\n",
    "            ans = max(ans, i + 1)\n",
    "        if ones - zeros not in mapper:\n",
    "            mapper[ones-zeros] = i\n",
    "        if ones - zeros - 1 in mapper:\n",
    "            ans = max(ans, i - mapper[ones - zeros - 1])\n",
    "\n",
    "    return ans"
   ]
  },
  {
   "cell_type": "markdown",
   "id": "ce912e00",
   "metadata": {},
   "source": [
    "### First Repeating element"
   ]
  },
  {
   "cell_type": "code",
   "execution_count": null,
   "id": "64585563",
   "metadata": {},
   "outputs": [],
   "source": [
    "def solve(self, A):\n",
    "    mapper = dict()\n",
    "\n",
    "    for ele in A:\n",
    "        if ele not in mapper:\n",
    "            mapper[ele] = 0\n",
    "\n",
    "        mapper[ele] += 1\n",
    "\n",
    "    for ele in A:\n",
    "        if mapper[ele] > 1:\n",
    "            return ele\n",
    "\n",
    "    return -1"
   ]
  },
  {
   "cell_type": "markdown",
   "id": "f3d8a34b",
   "metadata": {},
   "source": [
    "### 2 Sum"
   ]
  },
  {
   "cell_type": "code",
   "execution_count": 1,
   "id": "f8d0ac35",
   "metadata": {},
   "outputs": [],
   "source": [
    "def twoSum(A, B):\n",
    "    table = {}\n",
    "\n",
    "    for i, ele in enumerate(A):\n",
    "        if B - ele in table:\n",
    "            return table[B-ele], i+1\n",
    "\n",
    "        # if the array contains multiple same number it will store the idx of first occurence\n",
    "        if ele not in table:\n",
    "            table[ele] = i+1\n",
    "\n",
    "    return []"
   ]
  },
  {
   "cell_type": "markdown",
   "id": "a5fa7373",
   "metadata": {},
   "source": [
    "### 4 Sum"
   ]
  },
  {
   "cell_type": "code",
   "execution_count": null,
   "id": "4b17ff46",
   "metadata": {},
   "outputs": [],
   "source": [
    "def fourSum(A, B):\n",
    "    n = len(A)\n",
    "    result = dict()\n",
    "    for i in range(n-3):\n",
    "        for j in range(i+1, n-2):\n",
    "            S = B - A[i] - A[j]\n",
    "            mapper = dict()\n",
    "            for k in range(j+1, n):\n",
    "                if S-A[k] in mapper:\n",
    "                    res = tuple(sorted([A[i], A[j], A[k], S-A[k]]))\n",
    "                    if res not in result:\n",
    "                        result[res] = True\n",
    "                mapper[A[k]] = True\n",
    "\n",
    "    return sorted(result.keys())"
   ]
  },
  {
   "cell_type": "markdown",
   "id": "8d5c17e5",
   "metadata": {},
   "source": [
    "### Valid Sudoku"
   ]
  },
  {
   "cell_type": "code",
   "execution_count": null,
   "id": "db8b693b",
   "metadata": {},
   "outputs": [],
   "source": [
    "def isValidSudoku(self, A):\n",
    "    rows = [set() for _ in range(len(A))]\n",
    "    cols = [set() for _ in range(len(A))]\n",
    "    grid = [set() for _ in range(len(A))]\n",
    "\n",
    "    for i in range(len(A)):\n",
    "        for j in range(len(A)):\n",
    "            current = A[i][j]\n",
    "            if current != '.':\n",
    "                size = (i // 3) * 3 + j // 3\n",
    "                if current in rows[i] or current in cols[j] or current in grid[size]:\n",
    "                    return 0\n",
    "                rows[i].add(current)\n",
    "                cols[j].add(current)\n",
    "                grid[size].add(current)\n",
    "    return 1"
   ]
  },
  {
   "cell_type": "markdown",
   "id": "7d6c2ca9",
   "metadata": {},
   "source": [
    "### Diffk II"
   ]
  },
  {
   "cell_type": "code",
   "execution_count": null,
   "id": "125588e5",
   "metadata": {},
   "outputs": [],
   "source": [
    "def diffPossible(self, A, B):\n",
    "    mapper = dict()\n",
    "\n",
    "    for ele in A:\n",
    "        if ele - B in mapper or B + ele in mapper:\n",
    "            return 1\n",
    "\n",
    "        mapper[ele] = 1\n",
    "\n",
    "    return 0"
   ]
  },
  {
   "cell_type": "markdown",
   "id": "627b8682",
   "metadata": {},
   "source": [
    "## Key formation"
   ]
  },
  {
   "cell_type": "markdown",
   "id": "41c0b76b",
   "metadata": {},
   "source": [
    "### Pairs With Given Xor"
   ]
  },
  {
   "cell_type": "code",
   "execution_count": null,
   "id": "c11f7366",
   "metadata": {},
   "outputs": [],
   "source": [
    "def solve(self, A, B):\n",
    "    mapper = {}\n",
    "    ans = 0\n",
    "    for ele in A:\n",
    "        x = ele ^ B\n",
    "        if x in mapper:\n",
    "            ans += 1\n",
    "\n",
    "        mapper[ele] = 1\n",
    "\n",
    "    return ans "
   ]
  },
  {
   "cell_type": "markdown",
   "id": "33d1910b",
   "metadata": {},
   "source": [
    "### Anagrams"
   ]
  },
  {
   "cell_type": "code",
   "execution_count": null,
   "id": "724663fe",
   "metadata": {},
   "outputs": [],
   "source": [
    "def anagrams(self, A):\n",
    "    mapper = dict()\n",
    "    result = []\n",
    "\n",
    "    for i, string in enumerate(A):\n",
    "        temp = ''.join(sorted(string))\n",
    "        if temp not in mapper:\n",
    "            mapper[temp] = []\n",
    "        mapper[temp].append(i+1)\n",
    "\n",
    "    for key, value in mapper.items():\n",
    "        result.append(value)\n",
    "\n",
    "    return result"
   ]
  },
  {
   "cell_type": "markdown",
   "id": "3291475f",
   "metadata": {},
   "source": [
    "### Equal"
   ]
  },
  {
   "cell_type": "code",
   "execution_count": null,
   "id": "b97ad3d1",
   "metadata": {},
   "outputs": [],
   "source": [
    "def equal(self, A):\n",
    "    hasht = {}\n",
    "    ans = []\n",
    "\n",
    "    for i in range(len(A)-1):\n",
    "        for j in range(i+1, len(A)):\n",
    "            if A[i] + A[j] in hasht:\n",
    "                final = []\n",
    "                final.extend(hasht[A[i]+A[j]])\n",
    "                final.append(i)\n",
    "                final.append(j)\n",
    "\n",
    "                if len(final) == len(set(final)):\n",
    "                    ans.append(final)\n",
    "            else:\n",
    "                hasht[A[i] + A[j]] = [i, j]\n",
    "\n",
    "    ans.sort()\n",
    "    return ans[0]"
   ]
  },
  {
   "cell_type": "markdown",
   "id": "fcae02a9",
   "metadata": {},
   "source": [
    "### Copy List"
   ]
  },
  {
   "cell_type": "code",
   "execution_count": null,
   "id": "29e88d27",
   "metadata": {},
   "outputs": [],
   "source": [
    "def copyRandomList(self, head):\n",
    "    if head == None:\n",
    "        return None\n",
    "\n",
    "    temp_head = head\n",
    "\n",
    "    while temp_head != None:\n",
    "        new_node = RandomListNode(temp_head.label)\n",
    "        new_node.next = temp_head.next\n",
    "        temp_head.next = new_node\n",
    "        temp_head = new_node.next\n",
    "\n",
    "    temp_head = head\n",
    "    while temp_head != None:\n",
    "        copy_node = temp_head.next\n",
    "        copy_node.random = temp_head.random.next if temp_head.random != None else None\n",
    "        temp_head = copy_node.next\n",
    "\n",
    "    new_head = head.next\n",
    "    head.next = new_head.next\n",
    "    temp_head = new_head\n",
    "    temp_node = new_head.next\n",
    "    while temp_node != None:\n",
    "        temp_head.next = temp_node.next\n",
    "        temp_head = temp_head.next\n",
    "        temp_node.next = temp_head.next\n",
    "        temp_node = temp_node.next\n",
    "\n",
    "    return new_head"
   ]
  },
  {
   "cell_type": "markdown",
   "id": "9017268e",
   "metadata": {},
   "source": [
    "## Maths and hashing"
   ]
  },
  {
   "cell_type": "markdown",
   "id": "d4dcb65e",
   "metadata": {},
   "source": [
    "### Check Palindrome!"
   ]
  },
  {
   "cell_type": "code",
   "execution_count": null,
   "id": "93c01fd9",
   "metadata": {},
   "outputs": [],
   "source": [
    "def solve(self, A):\n",
    "    mapper = dict()\n",
    "\n",
    "    for char in A:\n",
    "        if char not in mapper:\n",
    "            mapper[char] = 0\n",
    "        mapper[char] += 1\n",
    "\n",
    "    countOdd = 0\n",
    "\n",
    "    for key, value in mapper.items():\n",
    "        if value % 2 == 1:\n",
    "            countOdd += 1\n",
    "\n",
    "    if countOdd <= 1:\n",
    "        return 1\n",
    "    return 0"
   ]
  },
  {
   "cell_type": "markdown",
   "id": "de46d140",
   "metadata": {},
   "source": [
    "### Fraction"
   ]
  },
  {
   "cell_type": "code",
   "execution_count": null,
   "id": "df9ce463",
   "metadata": {},
   "outputs": [],
   "source": [
    "def fractionToDecimal(self, A, B):\n",
    "    first=\"0\"\n",
    "    sign=\"\"\n",
    "\n",
    "    if A/B<0:\n",
    "        sign=\"-\"\n",
    "\n",
    "    A=abs(A)\n",
    "    B=abs(B)\n",
    "\n",
    "    if A%B==0:\n",
    "        return sign + str(A//B) \n",
    "\n",
    "    if A>=B:\n",
    "        first=str(A//B)\n",
    "        if A%B==0:\n",
    "            return first\n",
    "        A=A%B\n",
    "\n",
    "    cache=OrderedDict()\n",
    "    repeat=False\n",
    "\n",
    "    while True:\n",
    "        if A in cache:\n",
    "            cache[A]=\"(\"+ str((10*A)//B)\n",
    "            repeat=True\n",
    "            break\n",
    "\n",
    "        if (10*A)%B==0:\n",
    "            cache[A]=str((10*A)//B)\n",
    "            break\n",
    "\n",
    "        cache[A]=str((10*A)//B)\n",
    "        A=(10*A)%B\n",
    "\n",
    "    if repeat:\n",
    "        return sign+first + \".\" + \"\".join(cache.values()) + \")\"\n",
    "    return sign+first + \".\" + \"\".join(cache.values())"
   ]
  },
  {
   "cell_type": "markdown",
   "id": "25cecf1e",
   "metadata": {},
   "source": [
    "### Points on the Straight Line"
   ]
  },
  {
   "cell_type": "code",
   "execution_count": null,
   "id": "9a902173",
   "metadata": {},
   "outputs": [],
   "source": [
    "def maxPoints(self, A, B):\n",
    "    maxi = 0\n",
    "    if len(A)<2:\n",
    "        return len(A)\n",
    "    for i in range(len(A)-1):\n",
    "        mapper = {}\n",
    "        repeated_points = 0\n",
    "        for j in range(i+1,len(A)):\n",
    "            if A[j]!=A[i]:\n",
    "                x_diff = A[j] - A[i]\n",
    "                y_diff = B[j] - B[i]\n",
    "                slope = float(y_diff)/float(x_diff)\n",
    "            elif B[j]==B[i]:\n",
    "                repeated_points +=1\n",
    "                continue\n",
    "            else:\n",
    "                slope = \"undefined\"\n",
    "\n",
    "            if mapper.get(slope):\n",
    "                mapper[slope]+=1\n",
    "            else:\n",
    "                mapper[slope] = 1\n",
    "        for key,value in mapper.items():\n",
    "            maxi = max(maxi,value+repeated_points)\n",
    "        if len(mapper)==0:\n",
    "            maxi = max(maxi,repeated_points)\n",
    "    return maxi+1"
   ]
  },
  {
   "cell_type": "markdown",
   "id": "bac19f23",
   "metadata": {},
   "source": [
    "## Incremental hash"
   ]
  },
  {
   "cell_type": "markdown",
   "id": "5e3ab25a",
   "metadata": {},
   "source": [
    "### An Increment Problem"
   ]
  },
  {
   "cell_type": "code",
   "execution_count": null,
   "id": "a8c5f181",
   "metadata": {},
   "outputs": [],
   "source": [
    "def solve(self, A):\n",
    "    mapper = dict()\n",
    "\n",
    "    for i, ele in enumerate(A):\n",
    "        if ele not in mapper:\n",
    "            mapper[ele] = i\n",
    "        else:\n",
    "            index = mapper[ele]\n",
    "            A[index] = A[index] + 1\n",
    "            mapper[A[index]] = index\n",
    "            mapper[ele] = i\n",
    "\n",
    "    return A"
   ]
  },
  {
   "cell_type": "markdown",
   "id": "b3d923c4",
   "metadata": {},
   "source": [
    "### Subarray with given XOR"
   ]
  },
  {
   "cell_type": "code",
   "execution_count": null,
   "id": "b76bb09f",
   "metadata": {},
   "outputs": [],
   "source": [
    "def solve(A, B):\n",
    "    count = 0\n",
    "    xor = 0\n",
    "    mapper = dict()\n",
    "\n",
    "    for i, ele in enumerate(A):\n",
    "        xor = xor ^ ele\n",
    "\n",
    "        if xor^B in mapper:\n",
    "            count += mapper[xor^B]\n",
    "        if xor == B:\n",
    "            count += 1\n",
    "\n",
    "        if xor in mapper:\n",
    "            mapper[xor] += 1\n",
    "        else:\n",
    "            mapper[xor] = 1\n",
    "\n",
    "    return count"
   ]
  },
  {
   "cell_type": "markdown",
   "id": "8c47bcc7",
   "metadata": {},
   "source": [
    "### Two out of Three"
   ]
  },
  {
   "cell_type": "code",
   "execution_count": null,
   "id": "688a531f",
   "metadata": {},
   "outputs": [],
   "source": [
    "def solve(self, A, B, C):\n",
    "    a = dict()\n",
    "    b = dict()\n",
    "    c = dict()\n",
    "\n",
    "    for ele in A:\n",
    "        if ele not in a:\n",
    "            a[ele] = 0\n",
    "        a[ele] += 1\n",
    "\n",
    "    for ele in B:\n",
    "        if ele not in b:\n",
    "            b[ele] = 0\n",
    "        b[ele] += 1\n",
    "\n",
    "    for ele in C:\n",
    "        if ele not in c:\n",
    "            c[ele] = 0\n",
    "        c[ele] += 1\n",
    "\n",
    "    result = []\n",
    "    for i in range(1, 100001):\n",
    "        if (i in a and i in b) or (i in a and i in c) or (i in b and i in c):\n",
    "            result.append(i)\n",
    "\n",
    "    return result"
   ]
  },
  {
   "cell_type": "markdown",
   "id": "d8e81565",
   "metadata": {},
   "source": [
    "### Substring Concatenation"
   ]
  },
  {
   "cell_type": "code",
   "execution_count": null,
   "id": "e65114ce",
   "metadata": {},
   "outputs": [],
   "source": [
    "class Solution:\n",
    "    def get_hash(self, text):\n",
    "        hash_words = 0\n",
    "        for word in text:\n",
    "            hash_words += hash(word)\n",
    "        return hash_words\n",
    "    \n",
    "    def findSubstring(self, A, B):\n",
    "        word_len = len(B[0])\n",
    "        vocab_size = len(B)\n",
    "        indices = []\n",
    "        hash_all_words = self.get_hash(B)\n",
    "        \n",
    "        idx = 0\n",
    "        window_size = vocab_size*word_len\n",
    "        \n",
    "        while (idx) < len(A):\n",
    "            if A[idx: idx + word_len] in B:\n",
    "                temp_hash = 0\n",
    "                for pos in range(idx, idx + window_size, word_len):\n",
    "                    if pos > len(A) :\n",
    "                        break\n",
    "                    temp_hash += hash(A[pos:pos+word_len])\n",
    "    \n",
    "                if temp_hash == hash_all_words:\n",
    "                    indices.append(idx)\n",
    "            \n",
    "            idx += 1\n",
    "        return indices"
   ]
  },
  {
   "cell_type": "markdown",
   "id": "69596ab9",
   "metadata": {},
   "source": [
    "## Hashing two pointer"
   ]
  },
  {
   "cell_type": "markdown",
   "id": "6fdcc863",
   "metadata": {},
   "source": [
    "### Subarray with B odd numbers"
   ]
  },
  {
   "cell_type": "code",
   "execution_count": null,
   "id": "2b20adae",
   "metadata": {},
   "outputs": [],
   "source": [
    "def solve(self, A, B):\n",
    "    n = len(A)\n",
    "    index = 0\n",
    "    ans = 0\n",
    "\n",
    "    for i, ele in enumerate(A):\n",
    "        if ele % 2 == 1:\n",
    "            A[i] = 1\n",
    "        else:\n",
    "            A[i] = 0\n",
    "\n",
    "    mapper = dict()\n",
    "    mapper[0] = 1\n",
    "    s = 0\n",
    "\n",
    "    for ele in A:\n",
    "        s += ele\n",
    "\n",
    "        if s - B in mapper:\n",
    "            ans += mapper[s-B]\n",
    "\n",
    "        if s not in mapper:\n",
    "            mapper[s] = 0\n",
    "        mapper[s] += 1\n",
    "\n",
    "    return ans"
   ]
  },
  {
   "cell_type": "markdown",
   "id": "f427b089",
   "metadata": {},
   "source": [
    "### Window String"
   ]
  },
  {
   "cell_type": "code",
   "execution_count": null,
   "id": "f6aa08b8",
   "metadata": {},
   "outputs": [],
   "source": [
    " def minWindow(self, A, B):\n",
    "    T = {}\n",
    "    num_uniq = 0\n",
    "    for c in B:\n",
    "        if c in T:\n",
    "            x = T[c]\n",
    "            T[c] = x-1\n",
    "        else:\n",
    "            T[c] = 0\n",
    "            num_uniq+=1\n",
    "\n",
    "    # print(T)\n",
    "    count_uniq = 0\n",
    "\n",
    "    head = 0\n",
    "    tail = 0\n",
    "    ret = \"\"\n",
    "\n",
    "    while (True):\n",
    "        if count_uniq < num_uniq:\n",
    "            # advance head\n",
    "            if head == len(A):\n",
    "                break\n",
    "            c = A[head]\n",
    "            if c in T:\n",
    "                x = T[c]\n",
    "                if x == 0:\n",
    "                    count_uniq += 1\n",
    "                T[c] = x+1\n",
    "            head+=1\n",
    "        else:\n",
    "            # check if tail:head substring is shorter than existing solution\n",
    "            if ret == \"\":\n",
    "                ret = A[tail:head]\n",
    "            else:\n",
    "                if len(ret) > (head-tail):\n",
    "                    ret = A[tail:head]\n",
    "            # advance tail\n",
    "\n",
    "            c = A[tail]\n",
    "            if c in T:\n",
    "                x = T[c]\n",
    "                if x == 1:\n",
    "                    count_uniq -= 1\n",
    "                T[c] = x-1\n",
    "            tail+=1\n",
    "\n",
    "    return ret"
   ]
  },
  {
   "cell_type": "markdown",
   "id": "3ab5c225",
   "metadata": {},
   "source": [
    "### Longest Substring Without Repeat"
   ]
  },
  {
   "cell_type": "code",
   "execution_count": null,
   "id": "c1ff3291",
   "metadata": {},
   "outputs": [],
   "source": [
    "def lengthOfLongestSubstring(A):\n",
    "    i = 0\n",
    "    j = 0\n",
    "    n = len(A)\n",
    "\n",
    "    chars_count = {}\n",
    "    longest_substring = -1\n",
    "\n",
    "    while j < n:\n",
    "        if A[j] not in chars_count:\n",
    "            chars_count[A[j]] = 1\n",
    "        else:\n",
    "            while A[j] in chars_count:\n",
    "                del chars_count[A[i]]\n",
    "                i += 1\n",
    "            chars_count[A[j]] = 1\n",
    "\n",
    "        if j - i + 1 > longest_substring:\n",
    "            longest_substring = j - i + 1\n",
    "\n",
    "        j += 1\n",
    "\n",
    "    return longest_substring"
   ]
  }
 ],
 "metadata": {
  "kernelspec": {
   "display_name": "Python 3 (ipykernel)",
   "language": "python",
   "name": "python3"
  },
  "language_info": {
   "codemirror_mode": {
    "name": "ipython",
    "version": 3
   },
   "file_extension": ".py",
   "mimetype": "text/x-python",
   "name": "python",
   "nbconvert_exporter": "python",
   "pygments_lexer": "ipython3",
   "version": "3.8.10"
  }
 },
 "nbformat": 4,
 "nbformat_minor": 5
}
