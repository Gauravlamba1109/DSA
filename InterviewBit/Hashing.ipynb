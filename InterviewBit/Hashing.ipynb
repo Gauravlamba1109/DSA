{
 "cells": [
  {
   "cell_type": "markdown",
   "id": "39e888e7",
   "metadata": {},
   "source": [
    "# Hashing\n",
    "\n",
    "- [Hash search](#Hash-search)\n",
    "    - [Largest Continuous Sequence Zero Sum](#Largest-Continuous-Sequence-Zero-Sum)\n",
    "    - [2 Sum](#2-Sum)\n",
    "    - [4 Sum](#4-Sum)\n",
    "    \n",
    "- [Incremental hash](#Incremental-hash)\n",
    "    - [Subarray with given XOR](#Subarray-with-given-XOR)\n",
    "    \n",
    "- [Hashing two pointer](#Hashing-two-pointer)\n",
    "    - [Longest Substring Without Repeat](#Longest-Substring-Without-Repeat)"
   ]
  },
  {
   "cell_type": "markdown",
   "id": "b2ebd278",
   "metadata": {},
   "source": [
    "## Hash search"
   ]
  },
  {
   "cell_type": "markdown",
   "id": "cd930e79",
   "metadata": {},
   "source": [
    "### Largest Continuous Sequence Zero Sum"
   ]
  },
  {
   "cell_type": "code",
   "execution_count": null,
   "id": "99bb0ade",
   "metadata": {},
   "outputs": [],
   "source": [
    "def lszero(A):\n",
    "    mapper = dict()\n",
    "    s = 0\n",
    "    start = -1\n",
    "    end = -2\n",
    "\n",
    "    for i, ele in enumerate(A):\n",
    "        s += ele\n",
    "        if s == 0 and i > end-start:\n",
    "            start = -1\n",
    "            end = i\n",
    "        elif s in mapper:\n",
    "            if i - mapper[s] > end-start:\n",
    "                start = mapper[s]\n",
    "                end = i\n",
    "        else:\n",
    "            mapper[s] = i\n",
    "\n",
    "    start += 1\n",
    "\n",
    "    return A[start:end+1] if sum(A[start:end+1]) == 0 else []"
   ]
  },
  {
   "cell_type": "markdown",
   "id": "f3d8a34b",
   "metadata": {},
   "source": [
    "### 2 Sum"
   ]
  },
  {
   "cell_type": "code",
   "execution_count": 1,
   "id": "f8d0ac35",
   "metadata": {},
   "outputs": [],
   "source": [
    "def twoSum(A, B):\n",
    "    table = {}\n",
    "\n",
    "    for i, ele in enumerate(A):\n",
    "        if B - ele in table:\n",
    "            return table[B-ele], i+1\n",
    "\n",
    "        # if the array contains multiple same number it will store the idx of first occurence\n",
    "        if ele not in table:\n",
    "            table[ele] = i+1\n",
    "\n",
    "    return []"
   ]
  },
  {
   "cell_type": "markdown",
   "id": "a5fa7373",
   "metadata": {},
   "source": [
    "### 4 Sum"
   ]
  },
  {
   "cell_type": "code",
   "execution_count": null,
   "id": "4b17ff46",
   "metadata": {},
   "outputs": [],
   "source": [
    "def fourSum(A, B):\n",
    "    n = len(A)\n",
    "    result = dict()\n",
    "    for i in range(n-3):\n",
    "        for j in range(i+1, n-2):\n",
    "            S = B - A[i] - A[j]\n",
    "            mapper = dict()\n",
    "            for k in range(j+1, n):\n",
    "                if S-A[k] in mapper:\n",
    "                    res = tuple(sorted([A[i], A[j], A[k], S-A[k]]))\n",
    "                    if res not in result:\n",
    "                        result[res] = True\n",
    "                mapper[A[k]] = True\n",
    "\n",
    "    return sorted(result.keys())"
   ]
  },
  {
   "cell_type": "markdown",
   "id": "bac19f23",
   "metadata": {},
   "source": [
    "## Incremental hash"
   ]
  },
  {
   "cell_type": "markdown",
   "id": "b3d923c4",
   "metadata": {},
   "source": [
    "### Subarray with given XOR"
   ]
  },
  {
   "cell_type": "code",
   "execution_count": null,
   "id": "b76bb09f",
   "metadata": {},
   "outputs": [],
   "source": [
    "def solve(A, B):\n",
    "    count = 0\n",
    "    xor = 0\n",
    "    mapper = dict()\n",
    "\n",
    "    for i, ele in enumerate(A):\n",
    "        xor = xor ^ ele\n",
    "\n",
    "        if xor^B in mapper:\n",
    "            count += mapper[xor^B]\n",
    "        if xor == B:\n",
    "            count += 1\n",
    "\n",
    "        if xor in mapper:\n",
    "            mapper[xor] += 1\n",
    "        else:\n",
    "            mapper[xor] = 1\n",
    "\n",
    "    return count"
   ]
  },
  {
   "cell_type": "markdown",
   "id": "69596ab9",
   "metadata": {},
   "source": [
    "## Hashing two pointer"
   ]
  },
  {
   "cell_type": "markdown",
   "id": "3ab5c225",
   "metadata": {},
   "source": [
    "### Longest Substring Without Repeat"
   ]
  },
  {
   "cell_type": "code",
   "execution_count": null,
   "id": "c1ff3291",
   "metadata": {},
   "outputs": [],
   "source": [
    "def lengthOfLongestSubstring(A):\n",
    "    i = 0\n",
    "    j = 0\n",
    "    n = len(A)\n",
    "\n",
    "    chars_count = {}\n",
    "    longest_substring = -1\n",
    "\n",
    "    while j < n:\n",
    "        if A[j] not in chars_count:\n",
    "            chars_count[A[j]] = 1\n",
    "        else:\n",
    "            while A[j] in chars_count:\n",
    "                del chars_count[A[i]]\n",
    "                i += 1\n",
    "            chars_count[A[j]] = 1\n",
    "\n",
    "        if j - i + 1 > longest_substring:\n",
    "            longest_substring = j - i + 1\n",
    "\n",
    "        j += 1\n",
    "\n",
    "    return longest_substring"
   ]
  }
 ],
 "metadata": {
  "kernelspec": {
   "display_name": "Python 3 (ipykernel)",
   "language": "python",
   "name": "python3"
  },
  "language_info": {
   "codemirror_mode": {
    "name": "ipython",
    "version": 3
   },
   "file_extension": ".py",
   "mimetype": "text/x-python",
   "name": "python",
   "nbconvert_exporter": "python",
   "pygments_lexer": "ipython3",
   "version": "3.8.10"
  }
 },
 "nbformat": 4,
 "nbformat_minor": 5
}
