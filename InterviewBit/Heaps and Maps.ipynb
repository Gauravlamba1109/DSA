{
 "cells": [
  {
   "cell_type": "markdown",
   "id": "f7f5f1f9",
   "metadata": {},
   "source": [
    "# Heaps And Maps Problems\n",
    "\n",
    "- [Heap](#Heap)\n",
    "    - [Ways to form Max Heap](#Ways-to-form-Max-Heap)\n",
    "    - [N max pair combinations](#N-max-pair-combinations)\n",
    "    - [K Largest Elements](#K-Largest-Elements)\n",
    "    - [Profit Maximisation](#Profit-Maximisation)\n",
    "    - [Merge K sorted arrays!](#Merge-K-sorted-arrays!)\n",
    "    - [Magician and Chocolates](#Magician-and-Chocolates)\n",
    "    - [Maximum Sum Combinations](#Maximum-Sum-Combinations)\n",
    "    - [Merge K Sorted Lists](#Merge-K-Sorted-Lists)\n",
    "    \n",
    "- [Map](#Map)\n",
    "    - [Distinct Numbers in Window](#Distinct-Numbers-in-Window)\n",
    "    - [LRU Cache](#LRU-Cache)"
   ]
  },
  {
   "cell_type": "markdown",
   "id": "cfd44a2c",
   "metadata": {},
   "source": [
    "## Heap"
   ]
  },
  {
   "cell_type": "markdown",
   "id": "6c9c07d5",
   "metadata": {},
   "source": [
    "### Ways to form Max Heap"
   ]
  },
  {
   "cell_type": "code",
   "execution_count": null,
   "id": "9589d907",
   "metadata": {},
   "outputs": [],
   "source": [
    "class Solution:\n",
    "    def comb(self,r,n) :\n",
    "        if 2*r > n : \n",
    "            return self.comb(n-r,n)\n",
    "        c = 1\n",
    "        for i in range(r) :\n",
    "            c = c*(n-i)//(i+1)\n",
    "        return c\n",
    "    \n",
    "    def solve(self, A):\n",
    "        ans,h = [1,1], 0\n",
    "        for n in range(2,A+1) :\n",
    "            if 2<<h <= n :\n",
    "                h += 1\n",
    "            m = n-(1<<h)+1\n",
    "            l = (1<<(h-1))-1 + min(m,1<<(h-1))\n",
    "            r = (1<<(h-1))-1 + max(0,m-(1<<(h-1)))\n",
    "            ans.append((self.comb(l,n-1)*ans[l]*ans[r])%(10**9+7))\n",
    "        return ans[A]"
   ]
  },
  {
   "cell_type": "markdown",
   "id": "e162008a",
   "metadata": {},
   "source": [
    "### N max pair combinations"
   ]
  },
  {
   "cell_type": "code",
   "execution_count": null,
   "id": "ddad04ae",
   "metadata": {},
   "outputs": [],
   "source": [
    "def solve(self, A, B):\n",
    "    A.sort(reverse=True)\n",
    "    B.sort(reverse=True)\n",
    "    n = len(A)\n",
    "    heap = []\n",
    "\n",
    "    for i in range(n):\n",
    "        heapq.heappush(heap, (-(A[i] + B[0]), i, 0))\n",
    "\n",
    "    ans = []\n",
    "\n",
    "    for _ in range(n):\n",
    "        s, i, j = heapq.heappop(heap)\n",
    "        s = s * -1\n",
    "        ans.append(s)\n",
    "        if j+1 < n:\n",
    "            heapq.heappush(heap, (-(A[i] + B[j+1]), i, j+1))\n",
    "\n",
    "    return ans"
   ]
  },
  {
   "cell_type": "markdown",
   "id": "27a45def",
   "metadata": {},
   "source": [
    "### K Largest Elements"
   ]
  },
  {
   "cell_type": "code",
   "execution_count": null,
   "id": "5a2371d9",
   "metadata": {},
   "outputs": [],
   "source": [
    "def solve(self, A, B):\n",
    "    min_heap = []\n",
    "\n",
    "    for ele in A:\n",
    "        heapq.heappush(min_heap, ele)\n",
    "        if len(min_heap) > B:\n",
    "            heapq.heappop(min_heap)\n",
    "\n",
    "\n",
    "    return min_heap"
   ]
  },
  {
   "cell_type": "markdown",
   "id": "837781e6",
   "metadata": {},
   "source": [
    "### Profit Maximisation"
   ]
  },
  {
   "cell_type": "code",
   "execution_count": null,
   "id": "f90cd127",
   "metadata": {},
   "outputs": [],
   "source": [
    "def solve(self, A, B):\n",
    "    ans = 0\n",
    "    heap = []\n",
    "    n = len(A)\n",
    "\n",
    "    for i in range(n):\n",
    "        heapq.heappush(heap, -A[i])\n",
    "\n",
    "    for _ in range(B):\n",
    "        k = -heapq.heappop(heap)\n",
    "        ans += k\n",
    "        k -= 1\n",
    "\n",
    "        heapq.heappush(heap, -k)\n",
    "\n",
    "    return ans"
   ]
  },
  {
   "cell_type": "markdown",
   "id": "39d273d2",
   "metadata": {},
   "source": [
    "### Merge K sorted arrays!"
   ]
  },
  {
   "cell_type": "code",
   "execution_count": null,
   "id": "74f182b0",
   "metadata": {},
   "outputs": [],
   "source": [
    "def solve(self, arr):\n",
    "    heap = []\n",
    "    result = []\n",
    "    for i, a in enumerate(arr):\n",
    "        heapq.heappush(heap, [a[0], 0, i])\n",
    "\n",
    "    while heap:\n",
    "        ele, idx, arrIdx = heapq.heappop(heap)\n",
    "        result.append(ele)\n",
    "\n",
    "        if idx+1 != len(arr[arrIdx]):\n",
    "            heapq.heappush(heap, [arr[arrIdx][idx+1], idx+1, arrIdx])\n",
    "\n",
    "    return result"
   ]
  },
  {
   "cell_type": "markdown",
   "id": "79c562f8",
   "metadata": {},
   "source": [
    "### Magician and Chocolates"
   ]
  },
  {
   "cell_type": "code",
   "execution_count": null,
   "id": "c6399f3b",
   "metadata": {},
   "outputs": [],
   "source": [
    "def nchoc(self, A, B):\n",
    "    heap = []\n",
    "    n = len(B)\n",
    "\n",
    "    for i in range(n):\n",
    "        heapq.heappush(heap, -B[i])\n",
    "\n",
    "    ans = 0\n",
    "    mod = 1000000007\n",
    "\n",
    "    for i in range(A):\n",
    "        top = -heapq.heappop(heap)\n",
    "        ans = ans % mod + top % mod\n",
    "        ans = ans % mod\n",
    "        heapq.heappush(heap, -top//2)\n",
    "\n",
    "    return ans"
   ]
  },
  {
   "cell_type": "markdown",
   "id": "f12feccd",
   "metadata": {},
   "source": [
    "### Maximum Sum Combinations"
   ]
  },
  {
   "cell_type": "code",
   "execution_count": null,
   "id": "4a3722b6",
   "metadata": {},
   "outputs": [],
   "source": [
    "def solve(self, A, B, C):\n",
    "    A.sort()\n",
    "    B.sort()\n",
    "\n",
    "    seen = set()\n",
    "    heap = [] \n",
    "    result = []\n",
    "\n",
    "    n = len(A)\n",
    "    i = n-1\n",
    "    j = n-1\n",
    "\n",
    "    seen.add((i, j))\n",
    "    heapq.heappush(heap, (-(A[i] + A[j]), (i, j)))\n",
    "\n",
    "    for _ in range(C):\n",
    "        s, (i, j) = heapq.heappop(heap)\n",
    "        result.append(-s)\n",
    "\n",
    "        for ni, nj in [(i-1,j), (i,j-1)]:\n",
    "            if ni >= 0 and nj >= 0 and (ni, nj) not in seen:\n",
    "                heapq.heappush(heap, (-(A[ni] + A[nj]), (ni, nj)))\n",
    "                seen.add( (ni,nj) )\n",
    "\n",
    "    return result"
   ]
  },
  {
   "cell_type": "markdown",
   "id": "c4d42e8d",
   "metadata": {},
   "source": [
    "### Merge K Sorted Lists"
   ]
  },
  {
   "cell_type": "code",
   "execution_count": null,
   "id": "ff468385",
   "metadata": {},
   "outputs": [],
   "source": [
    "def mergeKLists(self, A):\n",
    "    head = ListNode(0) # Linked List Node\n",
    "    temp = head\n",
    "\n",
    "    heap = []\n",
    "    for ele in A:\n",
    "        heapq.heappush(heap, (ele.val, ele))\n",
    "\n",
    "    while heap:\n",
    "        _, node = heapq.heappop(heap)\n",
    "        temp.next = node\n",
    "        temp = node\n",
    "        if node.next != None:\n",
    "            heapq.heappush(heap, (node.next.val, node.next))\n",
    "\n",
    "    temp.next = None\n",
    "    return head.next"
   ]
  },
  {
   "cell_type": "markdown",
   "id": "5297b9ee",
   "metadata": {},
   "source": [
    "## Map"
   ]
  },
  {
   "cell_type": "markdown",
   "id": "2a746675",
   "metadata": {},
   "source": [
    "### Distinct Numbers in Window"
   ]
  },
  {
   "cell_type": "code",
   "execution_count": null,
   "id": "64f32c57",
   "metadata": {},
   "outputs": [],
   "source": [
    "def dNums(self, A, B):\n",
    "    mapper = dict()\n",
    "\n",
    "    for i in range(B):\n",
    "        if A[i] not in mapper:\n",
    "            mapper[A[i]] = 0\n",
    "        mapper[A[i]] += 1\n",
    "\n",
    "    v = []\n",
    "    v.append(len(mapper))\n",
    "\n",
    "    for i in range(B, len(A)):\n",
    "        mapper[A[i-B]] -= 1\n",
    "        if mapper[A[i-B]] == 0:\n",
    "            del mapper[A[i-B]]\n",
    "\n",
    "        if A[i] not in mapper:\n",
    "            mapper[A[i]] = 0\n",
    "\n",
    "        mapper[A[i]] += 1\n",
    "\n",
    "        v.append(len(mapper))\n",
    "\n",
    "    return v"
   ]
  },
  {
   "cell_type": "markdown",
   "id": "98a60963",
   "metadata": {},
   "source": [
    "### LRU Cache"
   ]
  },
  {
   "cell_type": "code",
   "execution_count": null,
   "id": "adbdaf8f",
   "metadata": {},
   "outputs": [],
   "source": [
    "from collections import OrderedDict\n",
    "class LRUCache:\n",
    "    def __init__(self, capacity):\n",
    "        self.c = capacity\n",
    "        self.d = OrderedDict()\n",
    "        \n",
    "    def get(self, key):\n",
    "        if key in self.d:\n",
    "            v = self.d[key]\n",
    "            del self.d[key]\n",
    "            self.d[key] = v\n",
    "        return self.d.get(key,-1)\n",
    "\n",
    "    def set(self, key, value):\n",
    "        if key in self.d:\n",
    "            v = self.d[key]\n",
    "            del self.d[key]\n",
    "            self.d[key] = v\n",
    "        else:\n",
    "            if len(self.d) == self.c:\n",
    "                self.d.popitem(last=False)\n",
    "        self.d[key] = value"
   ]
  }
 ],
 "metadata": {
  "kernelspec": {
   "display_name": "Python 3 (ipykernel)",
   "language": "python",
   "name": "python3"
  },
  "language_info": {
   "codemirror_mode": {
    "name": "ipython",
    "version": 3
   },
   "file_extension": ".py",
   "mimetype": "text/x-python",
   "name": "python",
   "nbconvert_exporter": "python",
   "pygments_lexer": "ipython3",
   "version": "3.8.10"
  }
 },
 "nbformat": 4,
 "nbformat_minor": 5
}
