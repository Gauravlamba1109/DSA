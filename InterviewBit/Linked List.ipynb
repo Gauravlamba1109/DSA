{
 "cells": [
  {
   "cell_type": "markdown",
   "id": "3d1e23b5",
   "metadata": {},
   "source": [
    "# Linked List\n",
    "\n",
    "- [List Sort](#List-sort)\n",
    "    - [Sort Binary Linked List](#Sort-Binary-Linked-List)\n",
    "    \n",
    "- [List trick](#List-trick)\n",
    "    - [Kth Node From Middle](#Kth-Node-From-Middle)"
   ]
  },
  {
   "cell_type": "markdown",
   "id": "e6304dcf",
   "metadata": {},
   "source": [
    "## List sort\n",
    "\n",
    "### Sort Binary Linked List"
   ]
  },
  {
   "cell_type": "code",
   "execution_count": null,
   "id": "38491497",
   "metadata": {},
   "outputs": [],
   "source": [
    "def solve(A):\n",
    "    count = 0\n",
    "    temp = A\n",
    "\n",
    "    while temp != None:\n",
    "        if temp.val == 0:\n",
    "            count += 1\n",
    "        temp = temp.next\n",
    "\n",
    "    temp = A\n",
    "    c = 0\n",
    "    while temp != None:\n",
    "        if c < count:\n",
    "            c += 1\n",
    "            temp.val = 0\n",
    "        else:\n",
    "            temp.val = 1\n",
    "        temp = temp.next\n",
    "\n",
    "    return A"
   ]
  },
  {
   "cell_type": "markdown",
   "id": "cfb663de",
   "metadata": {},
   "source": [
    "## List trick\n",
    "\n",
    "### Kth Node From Middle"
   ]
  },
  {
   "cell_type": "code",
   "execution_count": 1,
   "id": "ff83b217",
   "metadata": {},
   "outputs": [],
   "source": [
    "class Solution:\n",
    "    def getLength(self, A):\n",
    "        count = 0\n",
    "        temp = A\n",
    "        while temp != None:\n",
    "            count += 1\n",
    "            temp = temp.next\n",
    "        \n",
    "        return count\n",
    "\n",
    "    def solve(self, A, B):\n",
    "        n = self.getLength(A)\n",
    "        midPosition = n // 2 + 1\n",
    "        \n",
    "        if midPosition - B < 1:\n",
    "            return -1\n",
    "\n",
    "        temp = A\n",
    "        pos = midPosition - B\n",
    "        while pos != 1:\n",
    "            temp = temp.next\n",
    "            pos -= 1\n",
    "        \n",
    "        return temp.val"
   ]
  }
 ],
 "metadata": {
  "kernelspec": {
   "display_name": "Python 3 (ipykernel)",
   "language": "python",
   "name": "python3"
  },
  "language_info": {
   "codemirror_mode": {
    "name": "ipython",
    "version": 3
   },
   "file_extension": ".py",
   "mimetype": "text/x-python",
   "name": "python",
   "nbconvert_exporter": "python",
   "pygments_lexer": "ipython3",
   "version": "3.8.10"
  }
 },
 "nbformat": 4,
 "nbformat_minor": 5
}
