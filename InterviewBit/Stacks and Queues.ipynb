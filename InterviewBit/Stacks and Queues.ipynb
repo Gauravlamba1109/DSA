{
 "cells": [
  {
   "cell_type": "markdown",
   "id": "865328ab",
   "metadata": {},
   "source": [
    "# Stacks And Queues Problems\n",
    "\n",
    "- [Stack simple](#Stack-simple)\n",
    "    - [Balanced Parantheses](#Balanced-Parantheses)\n",
    "    - [Simplify Directory Path](#Simplify-Directory-Path)\n",
    "    - [Redundant Braces](#Redundant-Braces)\n",
    "    - [Min Stack](#Min-Stack)\n",
    "    \n",
    "- [Cleverstack](#Cleverstack)\n",
    "    - [MAXSPPROD](#MAXSPPROD)\n",
    "    - [Nearest Smaller Element](#Nearest-Smaller-Element)\n",
    "    - [Largest Rectangle in Histogram](#Largest-Rectangle-in-Histogram)\n",
    "    \n",
    "- [Stack math](#Stack-math)\n",
    "    - [Evaluate Expression](#Evaluate-Expression)\n",
    "    - [Rain Water Trapped](#Rain-Water-Trapped)\n",
    "    \n",
    "- [Queue](#Queue)\n",
    "    - [First non-repeating character in a stream of characters](#First-non-repeating-character-in-a-stream-of-characters)\n",
    "    - [Sliding Window Maximum](#Sliding-Window-Maximum)"
   ]
  },
  {
   "cell_type": "markdown",
   "id": "adb2c186",
   "metadata": {},
   "source": [
    "## Stack simple\n",
    "\n",
    "### Balanced Parantheses"
   ]
  },
  {
   "cell_type": "code",
   "execution_count": null,
   "id": "8d7c0395",
   "metadata": {},
   "outputs": [],
   "source": [
    "def solve(A):\n",
    "    count = 0\n",
    "\n",
    "    for char in A:\n",
    "        if char == '(':\n",
    "            count += 1\n",
    "        else:\n",
    "            count -= 1\n",
    "\n",
    "        if count < 0:\n",
    "            return 0\n",
    "\n",
    "    if count == 0:\n",
    "        return 1\n",
    "    return 0"
   ]
  },
  {
   "cell_type": "markdown",
   "id": "fca2f488",
   "metadata": {},
   "source": [
    "### Simplify Directory Path"
   ]
  },
  {
   "cell_type": "code",
   "execution_count": null,
   "id": "8ae29bda",
   "metadata": {},
   "outputs": [],
   "source": [
    "def simplifyPath(A):\n",
    "    stack = []\n",
    "    for char in A.split('/'):\n",
    "        if char =='.' or char == '' or char == ' ':\n",
    "            continue\n",
    "        elif char == '..':\n",
    "            if stack:\n",
    "                stack.pop()\n",
    "        else:\n",
    "            stack.append(char)\n",
    "\n",
    "    return '/' + '/'.join(stack)"
   ]
  },
  {
   "cell_type": "markdown",
   "id": "7aa6aa1f",
   "metadata": {},
   "source": [
    "### Redundant Braces"
   ]
  },
  {
   "cell_type": "code",
   "execution_count": null,
   "id": "f7ab3594",
   "metadata": {},
   "outputs": [],
   "source": [
    "def braces(self, A):\n",
    "    stack = []\n",
    "\n",
    "    for char in A:\n",
    "        if char == ')':\n",
    "            count = 0\n",
    "            while stack[-1] != '(':\n",
    "                count += 1\n",
    "                stack.pop()\n",
    "            if count < 2:\n",
    "                return 1\n",
    "            stack.pop()\n",
    "        else:\n",
    "            stack.append(char)\n",
    "\n",
    "    return 0"
   ]
  },
  {
   "cell_type": "markdown",
   "id": "9ac2dc91",
   "metadata": {},
   "source": [
    "### Min Stack"
   ]
  },
  {
   "cell_type": "code",
   "execution_count": null,
   "id": "3603a2f3",
   "metadata": {},
   "outputs": [],
   "source": [
    "class MinStack:\n",
    "    stack = []\n",
    "    \n",
    "    def push(self, x):\n",
    "        if self.stack:\n",
    "            minEle = min(x, self.stack[-1][1])\n",
    "            self.stack.append((x, minEle))\n",
    "        else:\n",
    "            self.stack.append((x, x))\n",
    "\n",
    "    # @return nothing\n",
    "    def pop(self):\n",
    "        if self.stack:\n",
    "            self.stack.pop()\n",
    "\n",
    "    # @return an integer\n",
    "    def top(self):\n",
    "        if self.stack:\n",
    "            return self.stack[-1][0]\n",
    "        return -1\n",
    "\n",
    "    # @return an integer\n",
    "    def getMin(self):\n",
    "        if not self.stack:\n",
    "            return -1\n",
    "        return self.stack[-1][1]"
   ]
  },
  {
   "cell_type": "markdown",
   "id": "334afb7c",
   "metadata": {},
   "source": [
    "## Cleverstack\n",
    "\n",
    "### MAXSPPROD"
   ]
  },
  {
   "cell_type": "code",
   "execution_count": null,
   "id": "006f679f",
   "metadata": {},
   "outputs": [],
   "source": [
    "class Solution:\n",
    "    def getMaxLeft(self, arr):\n",
    "        stack = []\n",
    "        result = []\n",
    "\n",
    "        for i, ele in enumerate(arr):\n",
    "            while stack and ele >= arr[stack[-1]]:\n",
    "                stack.pop()\n",
    "            \n",
    "            result.append(stack[-1] if stack else -1)\n",
    "            stack.append(i)\n",
    "        \n",
    "        return result\n",
    "        \n",
    "    def getMaxRight(self, arr):\n",
    "        stack = []\n",
    "        result = []\n",
    "        n = len(arr)\n",
    "        \n",
    "        for i, ele in enumerate(arr[::-1]):\n",
    "            while stack and ele >= arr[stack[-1]]:\n",
    "                stack.pop()\n",
    "            \n",
    "            result.append(stack[-1] if stack else -1)\n",
    "            stack.append(n-i-1)\n",
    "        \n",
    "        return result[::-1]\n",
    "\n",
    "    def maxSpecialProduct(self, A):\n",
    "        left = self.getMaxLeft(A)\n",
    "        right = self.getMaxRight(A)\n",
    "        result = 0\n",
    "        for l, r in zip(left, right):\n",
    "            if l > 0 and r > 0:\n",
    "                result = max(l*r, result)\n",
    "        \n",
    "        return result % (10 ** 9 + 7)"
   ]
  },
  {
   "cell_type": "markdown",
   "id": "38335d49",
   "metadata": {},
   "source": [
    "### Nearest Smaller Element"
   ]
  },
  {
   "cell_type": "code",
   "execution_count": null,
   "id": "1b9bc703",
   "metadata": {},
   "outputs": [],
   "source": [
    "def prevSmaller(A):\n",
    "    stack = []\n",
    "    result = []\n",
    "\n",
    "    for ele in A:\n",
    "        while stack and ele <= stack[-1]:\n",
    "            stack.pop()\n",
    "\n",
    "        result.append(stack[-1] if stack else -1)\n",
    "        stack.append(ele)\n",
    "\n",
    "    return result"
   ]
  },
  {
   "cell_type": "markdown",
   "id": "c35567c9",
   "metadata": {},
   "source": [
    "### Largest Rectangle in Histogram"
   ]
  },
  {
   "cell_type": "code",
   "execution_count": null,
   "id": "e1735757",
   "metadata": {},
   "outputs": [],
   "source": [
    "class Solution:\n",
    "    def NSL(self, arr):\n",
    "        stack = []\n",
    "        result = []\n",
    "\n",
    "        for i, ele in enumerate(arr):\n",
    "            while stack and ele <= arr[stack[-1]]:\n",
    "                stack.pop()\n",
    "            \n",
    "            result.append(stack[-1] if stack else -1)\n",
    "            stack.append(i)\n",
    "        \n",
    "        return result\n",
    "\n",
    "    def NSR(self, arr):\n",
    "        stack = []\n",
    "        result = []\n",
    "        n = len(arr)\n",
    "        for i, ele in enumerate(arr[::-1]):\n",
    "            while stack and ele <= arr[stack[-1]]:\n",
    "                stack.pop()\n",
    "            \n",
    "            result.append(stack[-1] if stack else n)\n",
    "            stack.append(n-i-1)\n",
    "\n",
    "        return result[::-1]\n",
    "\n",
    "    def largestRectangleArea(self, A):\n",
    "        \n",
    "        left = self.NSL(A)\n",
    "        right = self.NSR(A)\n",
    "        n = len(A)\n",
    "        width = [right[i] - left[i] - 1 for i in range(n)]\n",
    "\n",
    "        area = [A[i] * width[i] for i in range(n)]\n",
    "\n",
    "        return max(area)"
   ]
  },
  {
   "cell_type": "markdown",
   "id": "d96f9fbd",
   "metadata": {},
   "source": [
    "## Stack math\n",
    "\n",
    "### Evaluate Expression"
   ]
  },
  {
   "cell_type": "code",
   "execution_count": null,
   "id": "8e9fd02b",
   "metadata": {},
   "outputs": [],
   "source": [
    "def evalRPN(A):\n",
    "    stack = []\n",
    "\n",
    "    for ele in A:\n",
    "        if ele in '+-/*':\n",
    "            ele1 = stack.pop()\n",
    "            ele2 = stack.pop()\n",
    "            if ele == '+':\n",
    "                stack.append(ele1+ele2)\n",
    "            elif ele == '-':\n",
    "                stack.append(ele2-ele1)\n",
    "            elif ele == '*':\n",
    "                stack.append(ele1*ele2)\n",
    "            else:\n",
    "                stack.append(ele2//ele1)\n",
    "        else:\n",
    "            stack.append(int(ele))\n",
    "\n",
    "    return stack.pop()"
   ]
  },
  {
   "cell_type": "markdown",
   "id": "b1b85a52",
   "metadata": {},
   "source": [
    "### Rain Water Trapped"
   ]
  },
  {
   "cell_type": "code",
   "execution_count": null,
   "id": "b9e8507a",
   "metadata": {},
   "outputs": [],
   "source": [
    "def trap(A):\n",
    "    maxLeft = [A[0]]\n",
    "    for ele in A[1:]:\n",
    "        maxLeft.append(max(maxLeft[-1], ele))\n",
    "\n",
    "    maxRight = [A[-1]]\n",
    "    for ele in A[-1::-1]:\n",
    "        maxRight.append(max(maxRight[-1], ele))\n",
    "    maxRight = maxRight[::-1]\n",
    "\n",
    "    result = 0\n",
    "    for i in range(len(A)):\n",
    "        result += min(maxLeft[i], maxRight[i]) - A[i]\n",
    "\n",
    "    return result"
   ]
  },
  {
   "cell_type": "markdown",
   "id": "5bd9a831",
   "metadata": {},
   "source": [
    "## Queue\n",
    "\n",
    "### First non-repeating character in a stream of characters"
   ]
  },
  {
   "cell_type": "code",
   "execution_count": 2,
   "id": "69ca410e",
   "metadata": {},
   "outputs": [],
   "source": [
    "def solve(A):\n",
    "    queue = [A[0]]\n",
    "    result = [A[0]]\n",
    "    seen = {\n",
    "        A[0]: True\n",
    "    }\n",
    "\n",
    "    for char in A[1:]:\n",
    "        if not queue:\n",
    "            if char not in seen:\n",
    "                queue.append(char)\n",
    "                result.append(char)\n",
    "                seen[char] = True\n",
    "            else:\n",
    "                result.append('#')\n",
    "        elif char != queue[0]:\n",
    "            result.append(queue[0])\n",
    "            if char not in seen:\n",
    "                seen[char] = True\n",
    "                queue.append(char)\n",
    "            else:\n",
    "                if char in queue:\n",
    "                    queue.pop(queue.index(char))\n",
    "        elif char == queue[0]:\n",
    "            queue.pop(0)\n",
    "            if stack:\n",
    "                queue.append(stack[0])\n",
    "            else:\n",
    "                result.append('#')\n",
    "    return ''.join(result)"
   ]
  },
  {
   "cell_type": "markdown",
   "id": "204069b1",
   "metadata": {},
   "source": [
    "### Sliding Window Maximum"
   ]
  },
  {
   "cell_type": "code",
   "execution_count": 3,
   "id": "33d7429f",
   "metadata": {},
   "outputs": [],
   "source": [
    "def slidingMaximum(arr, k):\n",
    "    i = 0\n",
    "    j = 0\n",
    "    n = len(arr)\n",
    "\n",
    "    result = []\n",
    "    temp_arr = [] # temp_arr here is a double ended queue\n",
    "\n",
    "    while j < n:\n",
    "        # Remove all the elements from the back from the queue which are smaller than the current element\n",
    "        while temp_arr and temp_arr[-1] < arr[j]:\n",
    "            temp_arr.pop()\n",
    "\n",
    "        # Remove all the elements from the front from the queue which are smaller than the current element\n",
    "        while temp_arr and temp_arr[0] < arr[j]:\n",
    "                temp_arr.pop(0)\n",
    "        temp_arr.append(arr[j])\n",
    "        if j - i + 1 == k:\n",
    "            result.append(temp_arr[0])\n",
    "            if arr[i] == temp_arr[0]:\n",
    "                temp_arr = temp_arr[1:]\n",
    "            i += 1\n",
    "        j += 1\n",
    "\n",
    "    return result"
   ]
  }
 ],
 "metadata": {
  "kernelspec": {
   "display_name": "Python 3 (ipykernel)",
   "language": "python",
   "name": "python3"
  },
  "language_info": {
   "codemirror_mode": {
    "name": "ipython",
    "version": 3
   },
   "file_extension": ".py",
   "mimetype": "text/x-python",
   "name": "python",
   "nbconvert_exporter": "python",
   "pygments_lexer": "ipython3",
   "version": "3.8.10"
  }
 },
 "nbformat": 4,
 "nbformat_minor": 5
}
