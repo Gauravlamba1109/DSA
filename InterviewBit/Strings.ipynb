{
 "cells": [
  {
   "cell_type": "markdown",
   "id": "ee37774b",
   "metadata": {},
   "source": [
    "# Strings Problems\n",
    "\n",
    "- [String simulation](#String-simulation)\n",
    "    - [Palindrome String](#Palindrome-String)"
   ]
  },
  {
   "cell_type": "markdown",
   "id": "0a8684bd",
   "metadata": {},
   "source": [
    "## String simulation\n",
    "\n",
    "### Palindrome String"
   ]
  },
  {
   "cell_type": "code",
   "execution_count": null,
   "id": "6cdf2b6e",
   "metadata": {},
   "outputs": [],
   "source": [
    "def isPalindrome(A):\n",
    "    A = A.lower()\n",
    "    N = len(A)\n",
    "    alphanums = 'qwertyuiopasdfghjklzxcvbnm1234567890'\n",
    "\n",
    "    left = 0\n",
    "    right = N-1\n",
    "\n",
    "    while left < right:\n",
    "        while left < right and A[left] not in alphanums:\n",
    "            left += 1\n",
    "\n",
    "        while left < right and A[right] not in alphanums:\n",
    "            right -= 1\n",
    "\n",
    "        if A[left] != A[right]:\n",
    "            return 0\n",
    "        left += 1\n",
    "        right -= 1\n",
    "\n",
    "    return 1"
   ]
  }
 ],
 "metadata": {
  "kernelspec": {
   "display_name": "Python 3 (ipykernel)",
   "language": "python",
   "name": "python3"
  },
  "language_info": {
   "codemirror_mode": {
    "name": "ipython",
    "version": 3
   },
   "file_extension": ".py",
   "mimetype": "text/x-python",
   "name": "python",
   "nbconvert_exporter": "python",
   "pygments_lexer": "ipython3",
   "version": "3.8.10"
  }
 },
 "nbformat": 4,
 "nbformat_minor": 5
}
