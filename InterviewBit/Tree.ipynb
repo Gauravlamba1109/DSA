{
 "cells": [
  {
   "cell_type": "markdown",
   "id": "e313f166",
   "metadata": {},
   "source": [
    "# Tree Data Structure\n",
    "\n",
    "- [BST Traversal](#BST-Traversal)\n",
    "    - [Valid BST from Preorder](#Valid-BST-from-Preorder)\n",
    "    - [Kth Smallest Element In Tree](#Kth-Smallest-Element-In-Tree)\n",
    "    - [2-Sum Binary Tree](#2-Sum-Binary-Tree)\n",
    "    - [BST Iterator](#BST-Iterator)\n",
    "    - [Recover Binary Search Tree](#Recover-Binary-Search-Tree)\n",
    "- [Inplace change](#Inplace-change)\n",
    "    - [Invert the Binary Tree](#Invert-the-Binary-Tree)\n",
    "- [Segment Tree](#Segment-Tree)\n",
    "    - [Order of People Heights](#Order-of-People-Heights)\n",
    "- [Trie](#Trie)\n",
    "    - [Xor Between Two Arrays](#Xor-Between-Two-Arrays)\n",
    "    - [Hotel Reviews](#Hotel-Reviews)\n",
    "    - [Shortest Unique Prefix](#Shortest-Unique-Prefix)\n",
    "- [Simple tree ops](#Simple-tree-ops)\n",
    "    - [Path to Given Node](##Path-to-Given-Node)\n",
    "    - [Remove Half Nodes](#Remove-Half-Nodes)\n",
    "    - [Balanced Binary Tree](#Balanced-Binary-Tree)\n",
    "    - [Maximum Edge Removal](#Maximum-Edge-Removal)\n",
    "- [2 trees](#2-trees)\n",
    "    - [Merge two Binary Tree](#Merge-two-Binary-Tree)\n",
    "    - [Symmetric Binary Tree](#Symmetric-Binary-Tree)\n",
    "    - [Identical Binary Trees](#Identical-Binary-Trees)\n",
    "- [Traversal](#Traversal)\n",
    "    - [Vertical Order traversal of Binary Tree](#Vertical-Order-traversal-of-Binary-Tree)\n",
    "    - [Diagonal Traversal](#Diagonal-Traversal)\n",
    "    - [Inorder Traversal](#Inorder-Traversal)\n",
    "    - [Preorder Traversal](#Preorder-Traversal)\n",
    "    - [Postorder Traversal](#Postorder-Traversal)\n",
    "- [Level order](#Level-order)\n",
    "    - [Right view of Binary tree](#Right-view-of-Binary-tree)\n",
    "    - [Cousins in Binary Tree](#Cousins-in-Binary-Tree)\n",
    "    - [Reverse Level Order](#Reverse-Level-Order)\n",
    "    - [ZigZag Level Order Traversal BT](#ZigZag-Level-Order-Traversal-BT)\n",
    "    - [Populate Next Right Pointers Tree](#Populate-Next-Right-Pointers-Tree)\n",
    "- [Root to leaf](#Root-to-leaf)\n",
    "    - [Burn a Tree](#Burn-a-Tree)\n",
    "    - [Max Depth of Binary Tree](#Max-Depth-of-Binary-Tree)\n",
    "    - [Sum Root to Leaf Numbers](#Sum-Root-to-Leaf-Numbers)\n",
    "    - [Path Sum](#Path-Sum)\n",
    "    - [Min Depth of Binary Tree](#Min-Depth-of-Binary-Tree)\n",
    "    - [Root to Leaf Paths With Sum](#Root-to-Leaf-Paths-With-Sum)\n",
    "- [Tree construction](#Tree-construction)\n",
    "    - [Inorder Traversal of Cartesian Tree](#Inorder-Traversal-of-Cartesian-Tree)\n",
    "    - [Sorted Array To Balanced BST](#Sorted-Array-To-Balanced-BST)\n",
    "    - [Construct Binary Tree From Inorder And Preorder](#Construct-Binary-Tree-From-Inorder-And-Preorder)\n",
    "    - [Binary Tree From Inorder And Postorder](#Binary-Tree-From-Inorder-And-Postorder)\n",
    "- [Tree search](#Tree-search)\n",
    "    - [Least Common Ancestor](#Least-Common-Ancestor)\n",
    "- [Linkedlist tree](#Linkedlist-tree)\n",
    "    - [Flatten Binary Tree to Linked List](#Flatten-Binary-Tree-to-Linked-List)"
   ]
  },
  {
   "cell_type": "markdown",
   "id": "300a23f8",
   "metadata": {},
   "source": [
    "## BST Traversal\n",
    "\n",
    "### Valid BST from Preorder"
   ]
  },
  {
   "cell_type": "code",
   "execution_count": null,
   "id": "4d5855bd",
   "metadata": {},
   "outputs": [],
   "source": [
    "class Solution:\n",
    "    def helper(self, node, child):\n",
    "        # If child is empty it means the node is the leaf node\n",
    "        if not child:\n",
    "            return True\n",
    "        \n",
    "        # store the index of the first element which is larger then the parent node\n",
    "        idx = -1\n",
    "        for i, ele in enumerate(child):\n",
    "            if ele > node and idx == -1:\n",
    "                idx = i \n",
    "            \n",
    "            # If one of the largest element already found and there is a smaller element\n",
    "            # then return false\n",
    "            if idx != -1 and ele < node:\n",
    "                return False\n",
    "        \n",
    "        # If idx is greater than 0 it means that the current node has both left and right child\n",
    "        if idx > 0:\n",
    "            left = self.helper(child[0], child[:idx])\n",
    "            right = self.helper(child[idx], child[idx+1:])\n",
    "            return left or right\n",
    "        # if idx == 0, node only has right child and if idx == -1 it means node only has left child\n",
    "        else:\n",
    "            return self.helper(child[0], child[1:])\n",
    "\n",
    "    def solve(self, A):\n",
    "        return 1 if self.helper(A[0], A[1:]) else 0"
   ]
  },
  {
   "cell_type": "markdown",
   "id": "67c90e3c",
   "metadata": {},
   "source": [
    "## Kth Smallest Element In Tree"
   ]
  },
  {
   "cell_type": "code",
   "execution_count": null,
   "id": "463271bf",
   "metadata": {},
   "outputs": [],
   "source": [
    "class Solution:\n",
    "    # Inorder of BST gives you an array of sorted integers \n",
    "    def findInorder(self, node, arr):\n",
    "        if node == None:\n",
    "            return\n",
    "\n",
    "        self.findInorder(node.left, arr)\n",
    "        arr.append(node.val)\n",
    "        self.findInorder(node.right, arr)\n",
    "\n",
    "    def kthsmallest(self, A, B):\n",
    "        arr = []\n",
    "        self.findInorder(A, arr)\n",
    "        return arr[B-1]"
   ]
  },
  {
   "cell_type": "markdown",
   "id": "c7a262ab",
   "metadata": {},
   "source": [
    "### 2-Sum Binary Tree"
   ]
  },
  {
   "cell_type": "code",
   "execution_count": null,
   "id": "86b3a7e7",
   "metadata": {},
   "outputs": [],
   "source": [
    "class Solution:\n",
    "    # Returns the sorted array of nodes in BST\n",
    "    def getInorder(self, node, arr):\n",
    "        if node == None:\n",
    "            return\n",
    "        \n",
    "        self.getInorder(node.left, arr)\n",
    "        arr.append(node.val)\n",
    "        self.getInorder(node.right, arr)\n",
    "\n",
    "    def t2Sum(self, A, B):\n",
    "        arr = []\n",
    "        self.getInorder(A, arr)\n",
    "        \n",
    "        # Once you get a sorted arr using inorder traversal then\n",
    "        # the problem is converted into two sum problem.\n",
    "        # Use two pointer to solve this.\n",
    "        \n",
    "        left = 0\n",
    "        right = len(arr) - 1\n",
    "\n",
    "        while left < right:\n",
    "            s = arr[left] + arr[right]\n",
    "\n",
    "            if s == B:\n",
    "                return 1\n",
    "            elif s > B:\n",
    "                right -= 1\n",
    "            else:\n",
    "                left += 1\n",
    "        \n",
    "        return 0"
   ]
  },
  {
   "cell_type": "markdown",
   "id": "77434deb",
   "metadata": {},
   "source": [
    "### BST Iterator"
   ]
  },
  {
   "cell_type": "code",
   "execution_count": null,
   "id": "5fc63ad5",
   "metadata": {},
   "outputs": [],
   "source": [
    "class BSTIterator:\n",
    "    # @param root, a binary search tree's root node\n",
    "    def __init__(self, root):\n",
    "        self.root = root\n",
    "        self.stack = []\n",
    "        self.fillStack(root)\n",
    "\n",
    "    def fillStack(self, root):\n",
    "        if root == None:\n",
    "            return\n",
    "        self.fillStack(root.left)\n",
    "        self.stack.append(root.val)\n",
    "        self.fillStack(root.right)\n",
    "\n",
    "    # @return a boolean, whether we have a next smallest number\n",
    "    def hasNext(self):\n",
    "        if self.stack:\n",
    "            return True\n",
    "        return False\n",
    "\n",
    "    # @return an integer, the next smallest number\n",
    "    def next(self):\n",
    "        return self.stack.pop(0)"
   ]
  },
  {
   "cell_type": "markdown",
   "id": "e22885b5",
   "metadata": {},
   "source": [
    "### Recover Binary Search Tree"
   ]
  },
  {
   "cell_type": "code",
   "execution_count": null,
   "id": "b5fdd41b",
   "metadata": {},
   "outputs": [],
   "source": [
    "class Solution:\n",
    "    def inorder(self, root, arr):\n",
    "        if root == None:\n",
    "            return \n",
    "        \n",
    "        self.inorder(root.left, arr)\n",
    "        arr.append(root)\n",
    "        self.inorder(root.right, arr)\n",
    "    \n",
    "    def recoverTree(self, A):\n",
    "        arr = []\n",
    "        self.inorder(A, arr)\n",
    "        n = len(arr)\n",
    "        a = -1\n",
    "        b = -1\n",
    "        p = 0\n",
    "        c = 1\n",
    "\n",
    "        while c < n:\n",
    "            if arr[p].val > arr[c].val:\n",
    "                if a == -1:\n",
    "                    a = p\n",
    "                else:\n",
    "                    b = c \n",
    "                    break\n",
    "\n",
    "            p += 1\n",
    "            c += 1\n",
    "        \n",
    "        if c == n:\n",
    "            return sorted([arr[a].val, arr[a+1].val])\n",
    "        return sorted([arr[a].val, arr[b].val])"
   ]
  },
  {
   "cell_type": "markdown",
   "id": "0e2e4ea0",
   "metadata": {},
   "source": [
    "## Inplace change\n",
    "\n",
    "### Invert the Binary Tree"
   ]
  },
  {
   "cell_type": "code",
   "execution_count": null,
   "id": "f719f037",
   "metadata": {},
   "outputs": [],
   "source": [
    "def invertTree(self, A):\n",
    "    if A == None:\n",
    "        return None\n",
    "\n",
    "    self.invertTree(A.left)\n",
    "    self.invertTree(A.right)\n",
    "\n",
    "    A.left, A.right = A.right, A.left\n",
    "\n",
    "    return A "
   ]
  },
  {
   "cell_type": "markdown",
   "id": "eac74247",
   "metadata": {},
   "source": [
    "## Segment Tree\n",
    "\n",
    "### Order of People Heights"
   ]
  },
  {
   "cell_type": "code",
   "execution_count": 1,
   "id": "249789bb",
   "metadata": {},
   "outputs": [],
   "source": [
    "# Using Sorting Method (TLE) (O(N**2))\n",
    "def order(self, A, B):\n",
    "    n = len(A)\n",
    "    arr = [i for i in range(n)]\n",
    "    result = []\n",
    "    \n",
    "    # Sort the indices such that A is in decreasing order and B is in increasing order\n",
    "    arr.sort(key=lambda x: [-A[x], B[x]])\n",
    "    \n",
    "    for i in arr:\n",
    "        # This line has O(N) time complexity so the overall complexity along with loop is O(N**2)\n",
    "        result = result[:B[i]] + [A[i]] + result[B[i]:] \n",
    "    \n",
    "    return result"
   ]
  },
  {
   "cell_type": "code",
   "execution_count": 2,
   "id": "921d6e3a",
   "metadata": {},
   "outputs": [],
   "source": [
    "# Using Segment Tree\n",
    "class Solution:\n",
    "    def buildSegmentTree(self, segTree, idx, l, r):\n",
    "        if l == r:\n",
    "            segTree[idx] = 1\n",
    "        else:\n",
    "            mid = l + (r-l) // 2\n",
    "            \n",
    "            self.buildSegmentTree(segTree, 2*idx + 1, l, mid)\n",
    "            self.buildSegmentTree(segTree, 2*idx+2, mid+1, r)\n",
    "            \n",
    "            segTree[idx] = segTree[idx*2+1] + segTree[idx*2+2]\n",
    "    \n",
    "    def updateSegmentTree(self, result, segTree, idx, l, r, pos, height):\n",
    "        if l == r:\n",
    "            result[l] = height\n",
    "            segTree[idx] = 0\n",
    "        else:\n",
    "            mid = l + (r-l) // 2\n",
    "            leftChild = 2 * idx + 1\n",
    "            rightChild = 2 * idx + 2\n",
    "            \n",
    "            leftWeight = segTree[leftChild]\n",
    "            rightWeight = segTree[rightChild]\n",
    "     \n",
    "            if pos <= leftWeight:\n",
    "                self.updateSegmentTree(result, segTree, leftChild, l, mid, pos, height)\n",
    "            else:\n",
    "                self.updateSegmentTree(result, segTree, rightChild, mid+1, r, pos-leftWeight, height)\n",
    "            \n",
    "            segTree[idx] = segTree[leftChild] + segTree[rightChild]\n",
    "            \n",
    "    def order(self, A, B):\n",
    "        n = len(A)\n",
    "        arr = [i for i in range(n)]\n",
    "        \n",
    "        # Sort the indices such that A is in increasing order and B is in decreasing order\n",
    "        arr.sort(key=lambda x: [A[x], -B[x]])\n",
    "        \n",
    "        segmentTree = [-1 for _ in range(4*n)]\n",
    "        result = [0 for _ in range(n)]\n",
    "        \n",
    "        self.buildSegmentTree(segmentTree, 0, 0, n-1)\n",
    "        \n",
    "        for idx in arr:\n",
    "            self.updateSegmentTree(result, segmentTree, 0, 0, n-1, B[idx]+1, A[idx])\n",
    "        \n",
    "        return result"
   ]
  },
  {
   "cell_type": "markdown",
   "id": "f8cd4ec4",
   "metadata": {},
   "source": [
    "## Trie\n",
    "\n",
    "### Xor Between Two Arrays"
   ]
  },
  {
   "cell_type": "code",
   "execution_count": 3,
   "id": "13b15306",
   "metadata": {},
   "outputs": [],
   "source": [
    "class TrieNode:\n",
    "    def __init__(self):\n",
    "        self.child = [None, None]\n",
    "        self.isEnd = False\n",
    "\n",
    "class Solution:\n",
    "    def insert(self, root, num):\n",
    "        for i in range(31, -1, -1):\n",
    "            l = num >> i & 1\n",
    "            \n",
    "            if root.child[l] == None:\n",
    "                root.child[l] = TrieNode()\n",
    "            root = root.child[l]\n",
    "        root.isEnd = True\n",
    "    \n",
    "    def findMaxXor(self, root, num):\n",
    "        curr = 0\n",
    "        for i in range(31, -1, -1):\n",
    "            l = 0 if num >> i & 1 == 1 else 1\n",
    "            \n",
    "            if root.child[l] != None:\n",
    "                curr = curr << 1\n",
    "                curr = curr | 1\n",
    "                root = root.child[l]\n",
    "            else:\n",
    "                curr = curr << 1\n",
    "                curr = curr | 0\n",
    "                root = root.child[l^1]\n",
    "                \n",
    "        self.mx = max(self.mx, curr)\n",
    "            \n",
    "    def solve(self, A, B):\n",
    "        self.mx = -float('inf')\n",
    "        root = TrieNode()\n",
    "        \n",
    "        for num in A:\n",
    "            self.insert(root, num)\n",
    "            \n",
    "        for num in B:\n",
    "            self.findMaxXor(root, num)\n",
    "            \n",
    "        return self.mx"
   ]
  },
  {
   "cell_type": "markdown",
   "id": "5a4278c4",
   "metadata": {},
   "source": [
    "### Hotel Reviews"
   ]
  },
  {
   "cell_type": "code",
   "execution_count": 4,
   "id": "57038c87",
   "metadata": {},
   "outputs": [],
   "source": [
    "class TrieNode:\n",
    "    def __init__(self):\n",
    "        self.child = [None for _ in range(26)]\n",
    "        self.isEnd = False\n",
    "\n",
    "class Trie:\n",
    "    def __init__(self):\n",
    "        self.root = TrieNode()\n",
    "    \n",
    "    def insert(self, words):\n",
    "        for word in words:\n",
    "            self.__insert(word)\n",
    "    \n",
    "    def getIndex(self, char):\n",
    "        return ord(char) - ord('a')\n",
    "    \n",
    "    def __insert(self, word):\n",
    "        temp_node = self.root\n",
    "        \n",
    "        for char in word:\n",
    "            idx = self.getIndex(char)\n",
    "            if temp_node.child[idx] == None:\n",
    "                temp_node.child[idx] = TrieNode()\n",
    "            temp_node = temp_node.child[idx]\n",
    "        temp_node.isEnd = True\n",
    "        \n",
    "    def search(self, word):\n",
    "        temp_node = self.root\n",
    "        \n",
    "        for char in word:\n",
    "            idx = self.getIndex(char)\n",
    "            if temp_node.child[idx] == None:\n",
    "                return False\n",
    "            temp_node = temp_node.child[idx]\n",
    "        \n",
    "        return temp_node.isEnd\n",
    "\n",
    "class Solution:\n",
    "    def solve(self, A, B):\n",
    "        trie = Trie()\n",
    "        trie.insert(A.split('_'))\n",
    "\n",
    "        maxGoodness = 0\n",
    "        stringToGoodnessMap = dict()\n",
    "\n",
    "        for idx, string in enumerate(B):\n",
    "            count = 1\n",
    "            for word in string.split('_'):\n",
    "                if trie.search(word):\n",
    "                    count += 1\n",
    "            \n",
    "            if count in stringToGoodnessMap:\n",
    "                stringToGoodnessMap[count].append(idx)\n",
    "            else:\n",
    "                stringToGoodnessMap[count] = [idx]\n",
    "            \n",
    "            maxGoodness = max(maxGoodness, count)\n",
    "        \n",
    "        result = []\n",
    "        for i in range(maxGoodness, -1, -1):\n",
    "            if i in stringToGoodnessMap:\n",
    "                result += stringToGoodnessMap[i]\n",
    "        \n",
    "        return result"
   ]
  },
  {
   "cell_type": "markdown",
   "id": "ffe4c6cd",
   "metadata": {},
   "source": [
    "### Shortest Unique Prefix"
   ]
  },
  {
   "cell_type": "code",
   "execution_count": null,
   "id": "0e31b2ee",
   "metadata": {},
   "outputs": [],
   "source": [
    "class TrieNode:\n",
    "    def __init__(self):\n",
    "        self.child = [None for _ in range(26)]\n",
    "        self.isEnd = False\n",
    "        self.count = 0\n",
    "\n",
    "class Trie:\n",
    "    def __init__(self):\n",
    "        self.root = TrieNode()\n",
    "    \n",
    "    def insert(self, words):\n",
    "        for word in words:\n",
    "            self.__insert(word)\n",
    "    \n",
    "    def getIndex(self, char):\n",
    "        return ord(char) - ord('a')\n",
    "    \n",
    "    def __insert(self, word):\n",
    "        temp_node = self.root\n",
    "        for char in word:\n",
    "            idx = self.getIndex(char)\n",
    "            if temp_node.child[idx] == None:\n",
    "                temp_node.child[idx] = TrieNode()\n",
    "            temp_node.count += 1\n",
    "            temp_node = temp_node.child[idx]\n",
    "        temp_node.isEnd = True\n",
    "\n",
    "    def findPrefix(self, word):\n",
    "        temp_node = self.root\n",
    "        result = ''\n",
    "        for char in word:\n",
    "            result += char\n",
    "            idx = self.getIndex(char)\n",
    "            temp_node = temp_node.child[idx]\n",
    "            if temp_node.count < 2:\n",
    "                return result\n",
    "        \n",
    "        return result\n",
    "\n",
    "class Solution:\n",
    "    def prefix(self, A):\n",
    "        trie = Trie()\n",
    "        trie.insert(A)\n",
    "\n",
    "        result = []\n",
    "        for word in A:\n",
    "            result.append(trie.findPrefix(word))\n",
    "\n",
    "        return result"
   ]
  },
  {
   "cell_type": "markdown",
   "id": "47b2da9a",
   "metadata": {},
   "source": [
    "## Simple tree ops"
   ]
  },
  {
   "cell_type": "markdown",
   "id": "89412993",
   "metadata": {},
   "source": [
    "### Path to Given Node"
   ]
  },
  {
   "cell_type": "code",
   "execution_count": null,
   "id": "8b9f3e72",
   "metadata": {},
   "outputs": [],
   "source": [
    "class Solution:\n",
    "    def helper(self, node , path, searchNode):\n",
    "        if not node:\n",
    "            return False\n",
    "        \n",
    "        if node.val == searchNode:\n",
    "            return path + [node.val]\n",
    "        \n",
    "        left = self.helper(node.left, path + [node.val], searchNode)\n",
    "        right = self.helper(node.right, path + [node.val], searchNode)\n",
    "\n",
    "        if left:\n",
    "            return left\n",
    "        return right\n",
    "    \n",
    "    def solve(self, A, B):\n",
    "        return self.helper(A, [], B)"
   ]
  },
  {
   "cell_type": "markdown",
   "id": "acf8e247",
   "metadata": {},
   "source": [
    "### Remove Half Nodes"
   ]
  },
  {
   "cell_type": "code",
   "execution_count": null,
   "id": "2111f34f",
   "metadata": {},
   "outputs": [],
   "source": [
    "def solve(self, A):\n",
    "    if not A:\n",
    "        return A\n",
    "\n",
    "    if A.left and A.right:\n",
    "        A.left = self.solve(A.left)\n",
    "        A.right = self.solve(A.right)\n",
    "    elif A.left:\n",
    "        A = self.solve(A.left)\n",
    "    elif A.right:\n",
    "        A = self.solve(A.right)\n",
    "\n",
    "    return A"
   ]
  },
  {
   "cell_type": "markdown",
   "id": "ca5fadd4",
   "metadata": {},
   "source": [
    "### Balanced Binary Tree"
   ]
  },
  {
   "cell_type": "code",
   "execution_count": null,
   "id": "639b9af6",
   "metadata": {},
   "outputs": [],
   "source": [
    "class Solution:\n",
    "    def helper(self, A):\n",
    "        if not A:\n",
    "            return 1\n",
    "        \n",
    "        left = self.helper(A.left)\n",
    "        right = self.helper(A.right)\n",
    "\n",
    "        if not left or not right:\n",
    "            return False\n",
    "\n",
    "        if abs(left - right) > 1:\n",
    "            return False\n",
    "        \n",
    "        return max(left, right) + 1\n",
    "\n",
    "    def isBalanced(self, A):\n",
    "        h = self.helper(A)\n",
    "        if h:\n",
    "            return 1\n",
    "        return 0"
   ]
  },
  {
   "cell_type": "markdown",
   "id": "71fe6b66",
   "metadata": {},
   "source": [
    "### Maximum Edge Removal"
   ]
  },
  {
   "cell_type": "code",
   "execution_count": null,
   "id": "c7b87e52",
   "metadata": {},
   "outputs": [],
   "source": [
    "class Solution:\n",
    "    def helper(self, st, vis, count, adj):\n",
    "        vis[st] = 1\n",
    "        \n",
    "        for node in adj[st]:\n",
    "            if not vis[node]:\n",
    "                self.helper(node, vis, count, adj)\n",
    "                count[st] += count[node] + 1\n",
    "\n",
    "    def solve(self, A, B):\n",
    "        adj = [[] for _ in range(A)]\n",
    "        \n",
    "        for n1, n2 in B:\n",
    "            adj[n1-1].append(n2-1)\n",
    "            adj[n2-1].append(n1-1)\n",
    "            \n",
    "        count = [0 for _ in range(A)]\n",
    "        vis = [0 for _ in range(A)]\n",
    "        \n",
    "        res = 0\n",
    "        \n",
    "        self.helper(0, vis, count, adj)\n",
    "        \n",
    "        for node in range(A):\n",
    "            if count[node] % 2 != 0 and node != 0:\n",
    "                res += 1\n",
    "        \n",
    "        return res"
   ]
  },
  {
   "cell_type": "markdown",
   "id": "769c5dde",
   "metadata": {},
   "source": [
    "## 2 trees"
   ]
  },
  {
   "cell_type": "markdown",
   "id": "f4681f7f",
   "metadata": {},
   "source": [
    "### Merge two Binary Tree"
   ]
  },
  {
   "cell_type": "code",
   "execution_count": null,
   "id": "ee3d43bc",
   "metadata": {},
   "outputs": [],
   "source": [
    "def solve(self, A, B):\n",
    "    if not A:\n",
    "        return B \n",
    "    if not B:\n",
    "        return A\n",
    "\n",
    "    newNode = TreeNode(A.val + B.val)\n",
    "    newNode.left = self.solve(A.left, B.left)\n",
    "    newNode.right = self.solve(A.right, B.right)\n",
    "\n",
    "    return newNode"
   ]
  },
  {
   "cell_type": "markdown",
   "id": "975180a6",
   "metadata": {},
   "source": [
    "### Symmetric Binary Tree"
   ]
  },
  {
   "cell_type": "code",
   "execution_count": null,
   "id": "a64d2041",
   "metadata": {},
   "outputs": [],
   "source": [
    "class Solution:\n",
    "    def helper(self, left, right):\n",
    "\n",
    "        if not left and not right:\n",
    "            return 1\n",
    "        if not left or not right:\n",
    "            return 0\n",
    "\n",
    "        if left.val != right.val:\n",
    "            return 0\n",
    "        \n",
    "        checkLeft = self.helper(left.left, right.right)\n",
    "        checkRight = self.helper(left.right, right.left)\n",
    "\n",
    "        if not checkLeft or not checkRight:\n",
    "            return 0\n",
    "\n",
    "        return 1\n",
    "    def isSymmetric(self, A):\n",
    "        if not A:\n",
    "            return 1\n",
    "        if not A.left and not A.right:\n",
    "            return 1\n",
    "        \n",
    "        return self.helper(A.left, A.right)"
   ]
  },
  {
   "cell_type": "markdown",
   "id": "dccc76ae",
   "metadata": {},
   "source": [
    "### Identical Binary Trees"
   ]
  },
  {
   "cell_type": "code",
   "execution_count": null,
   "id": "48404c96",
   "metadata": {},
   "outputs": [],
   "source": [
    "def isSameTree(self, A, B):\n",
    "    if not A and not B:\n",
    "        return 1\n",
    "\n",
    "    if not A or not B:\n",
    "        return 0\n",
    "\n",
    "    if A.val != B.val:\n",
    "        return 0\n",
    "\n",
    "    left = self.isSameTree(A.left, B.left)\n",
    "    right = self.isSameTree(A.right, B.right)\n",
    "\n",
    "    if not left or not right:\n",
    "        return 0\n",
    "\n",
    "    return 1"
   ]
  },
  {
   "cell_type": "markdown",
   "id": "536a9892",
   "metadata": {},
   "source": [
    "## Traversal"
   ]
  },
  {
   "cell_type": "markdown",
   "id": "471a75b6",
   "metadata": {},
   "source": [
    "### Vertical Order traversal of Binary Tree"
   ]
  },
  {
   "cell_type": "code",
   "execution_count": null,
   "id": "18e82235",
   "metadata": {},
   "outputs": [],
   "source": [
    "class Solution:\n",
    "    def helper(self, A, mapper, curr):\n",
    "        if not A:\n",
    "            return\n",
    "        if curr not in mapper:\n",
    "            mapper[curr] = []\n",
    "        \n",
    "        mapper[curr].append(A.val)\n",
    "\n",
    "        self.helper(A.left, mapper, curr - 1)\n",
    "        self.helper(A.right, mapper, curr + 1)\n",
    "    \n",
    "    def verticalOrderTraversal(self, A):\n",
    "        mapper = dict()\n",
    "        self.helper(A, mapper, 0)\n",
    "        maxVal = max(mapper.keys())\n",
    "        minVal = min(mapper.keys())\n",
    "\n",
    "        result = []\n",
    "        for i in range(minVal, maxVal + 1):\n",
    "            result.append(mapper[i])\n",
    "        \n",
    "        return result"
   ]
  },
  {
   "cell_type": "markdown",
   "id": "e7c59bce",
   "metadata": {},
   "source": [
    "### Diagonal Traversal"
   ]
  },
  {
   "cell_type": "code",
   "execution_count": null,
   "id": "97c6fe4b",
   "metadata": {},
   "outputs": [],
   "source": [
    "class Solution:\n",
    "    def helper(self, A, mapper, curr):\n",
    "        if not A:\n",
    "            return\n",
    "        if curr not in mapper:\n",
    "            mapper[curr] = []\n",
    "\n",
    "        mapper[curr].append(A.val)\n",
    "        self.helper(A.left, mapper, curr-1)\n",
    "        self.helper(A.right, mapper, curr)\n",
    "    \n",
    "    def solve(self, A):\n",
    "        mapper = dict()\n",
    "        self.helper(A, mapper, 0)\n",
    "        minEle = min(mapper.keys())\n",
    "\n",
    "        result = []\n",
    "        for i in range(0, minEle-1, -1):\n",
    "            result += mapper[i]\n",
    "        \n",
    "        return result"
   ]
  },
  {
   "cell_type": "markdown",
   "id": "6d01c744",
   "metadata": {},
   "source": [
    "### Inorder Traversal"
   ]
  },
  {
   "cell_type": "code",
   "execution_count": null,
   "id": "cd58cd4d",
   "metadata": {},
   "outputs": [],
   "source": [
    "class Solution:\n",
    "    def helper(self, A, result):\n",
    "        if not A:\n",
    "            return \n",
    "        \n",
    "        self.helper(A.left, result)\n",
    "        result.append(A.val)\n",
    "        self.helper(A.right, result)\n",
    "\n",
    "    def inorderTraversal(self, A):\n",
    "        result = []\n",
    "        self.helper(A, result)\n",
    "        return result"
   ]
  },
  {
   "cell_type": "markdown",
   "id": "c553b361",
   "metadata": {},
   "source": [
    "### Preorder Traversal"
   ]
  },
  {
   "cell_type": "code",
   "execution_count": null,
   "id": "c9081f11",
   "metadata": {},
   "outputs": [],
   "source": [
    "class Solution:\n",
    "    def helper(self, A, result):\n",
    "        if not A:\n",
    "            return\n",
    "        \n",
    "        result.append(A.val)\n",
    "        self.helper(A.left, result)\n",
    "        self.helper(A.right, result)\n",
    "\n",
    "    def preorderTraversal(self, A):\n",
    "        result = []\n",
    "        self.helper(A, result)\n",
    "        return result"
   ]
  },
  {
   "cell_type": "markdown",
   "id": "2ff631a4",
   "metadata": {},
   "source": [
    "### Postorder Traversal"
   ]
  },
  {
   "cell_type": "code",
   "execution_count": null,
   "id": "f3a68fee",
   "metadata": {},
   "outputs": [],
   "source": [
    "class Solution:\n",
    "    def helper(self, A, result):\n",
    "        if not A:\n",
    "            return\n",
    "\n",
    "        self.helper(A.left, result)\n",
    "        self.helper(A.right, result)\n",
    "\n",
    "        result.append(A.val)\n",
    "\n",
    "    def postorderTraversal(self, A):\n",
    "        result = []\n",
    "        self.helper(A, result)\n",
    "\n",
    "        return result"
   ]
  },
  {
   "cell_type": "markdown",
   "id": "30d111f5",
   "metadata": {},
   "source": [
    "## Level order"
   ]
  },
  {
   "cell_type": "markdown",
   "id": "c56b96d8",
   "metadata": {},
   "source": [
    "### Right view of Binary tree"
   ]
  },
  {
   "cell_type": "code",
   "execution_count": null,
   "id": "f6493662",
   "metadata": {},
   "outputs": [],
   "source": [
    "def solve(self, A):\n",
    "    queue = []\n",
    "    queue.append([A,0])\n",
    "    res = []\n",
    "    prev = -1\n",
    "    queue_index = 0\n",
    "    while queue_index<len(queue):\n",
    "        root,level = queue[queue_index]\n",
    "        if root.right:\n",
    "            queue.append([root.right,level+1])\n",
    "        if root.left:\n",
    "            queue.append([root.left,level+1])\n",
    "        if prev!=level:\n",
    "            res.append(root.val)\n",
    "        queue_index+=1\n",
    "        prev = level\n",
    "\n",
    "    return res"
   ]
  },
  {
   "cell_type": "markdown",
   "id": "b88c9d69",
   "metadata": {},
   "source": [
    "### Cousins in Binary Tree"
   ]
  },
  {
   "cell_type": "code",
   "execution_count": null,
   "id": "3a380aca",
   "metadata": {},
   "outputs": [],
   "source": [
    "class Solution:\n",
    "    def helper(self, root, B):\n",
    "        que = [[root,-1]]\n",
    "        flag = 0\n",
    "    \n",
    "        while que:\n",
    "            n = len(que)\n",
    "            x = []\n",
    "            for i in range(n):\n",
    "                u,p = que.pop(0)\n",
    "                x.append([u.val,p])\n",
    "                if u.val==B:\n",
    "                    flag = 1\n",
    "                    y = p\n",
    "                if u.left!=None:\n",
    "                    que.append([u.left,u.val])\n",
    "                if u.right!=None:\n",
    "                    que.append([u.right,u.val])\n",
    "            if flag==1:\n",
    "                break\n",
    "        z = []\n",
    "        for m,n in x:\n",
    "            if n!=y:\n",
    "                z.append(m)\n",
    "        return z\n",
    "        \n",
    "    def solve(self, A, B):\n",
    "        return self.helper(A,B)"
   ]
  },
  {
   "cell_type": "markdown",
   "id": "2353ef3b",
   "metadata": {},
   "source": [
    "### Reverse Level Order"
   ]
  },
  {
   "cell_type": "code",
   "execution_count": null,
   "id": "2b8181a9",
   "metadata": {},
   "outputs": [],
   "source": [
    "def solve(self, A):\n",
    "    if A == None:\n",
    "        return None\n",
    "    queue = []\n",
    "    res = []\n",
    "    queue.append(A)\n",
    "    while queue:\n",
    "        node = queue.pop(0)\n",
    "        res.append(node.val)\n",
    "        \n",
    "        if node.right:\n",
    "            queue.append(node.right)\n",
    "        if node.left:\n",
    "            queue.append(node.left)\n",
    "            \n",
    "    return res[::-1]"
   ]
  },
  {
   "cell_type": "markdown",
   "id": "c2542f10",
   "metadata": {},
   "source": [
    "### ZigZag Level Order Traversal BT"
   ]
  },
  {
   "cell_type": "code",
   "execution_count": null,
   "id": "a5e74173",
   "metadata": {},
   "outputs": [],
   "source": [
    "def zigzagLevelOrder(self, A):\n",
    "    queue = [A]\n",
    "    result = []\n",
    "    count = 0\n",
    "\n",
    "    while queue:\n",
    "        n = len(queue)\n",
    "        temp = []\n",
    "        for _ in range(n):\n",
    "            node = queue.pop(0)\n",
    "            temp.append(node.val)\n",
    "\n",
    "            if node.left:\n",
    "                queue.append(node.left)\n",
    "            if node.right:\n",
    "                queue.append(node.right)\n",
    "\n",
    "        if count % 2 == 0:\n",
    "            result.append(temp)\n",
    "        else:\n",
    "            result.append(temp[::-1])\n",
    "        count += 1\n",
    "\n",
    "    return result"
   ]
  },
  {
   "cell_type": "markdown",
   "id": "48958762",
   "metadata": {},
   "source": [
    "### Populate Next Right Pointers Tree"
   ]
  },
  {
   "cell_type": "code",
   "execution_count": null,
   "id": "5624dd9f",
   "metadata": {},
   "outputs": [],
   "source": [
    "def connect(self, root):\n",
    "    queue = [root]\n",
    "\n",
    "    while queue:\n",
    "        n = len(queue)\n",
    "        prev = None\n",
    "        for i in range(n):\n",
    "            node = queue.pop(0)\n",
    "            if prev == None:\n",
    "                prev = node\n",
    "            else:\n",
    "                prev.next = node \n",
    "                prev = node \n",
    "\n",
    "            if node.left:\n",
    "                queue.append(node.left)\n",
    "            if node.right:\n",
    "                queue.append(node.right)\n",
    "\n",
    "    return root      "
   ]
  },
  {
   "cell_type": "markdown",
   "id": "9aff9085",
   "metadata": {},
   "source": [
    "## Root to leaf"
   ]
  },
  {
   "cell_type": "markdown",
   "id": "a8b3d5c6",
   "metadata": {},
   "source": [
    "### Burn a Tree"
   ]
  },
  {
   "cell_type": "code",
   "execution_count": null,
   "id": "a93bdc90",
   "metadata": {},
   "outputs": [],
   "source": [
    "class Solution:\n",
    "    def gep(self,node,h,o,arr):\n",
    "\n",
    "        if node == None:\n",
    "            return False,0,0\n",
    "    \n",
    "        a,b,c = self.gep(node.left,h,o+1,arr)        \n",
    "        x,y,z = self.gep(node.right,h,o+1,arr) \n",
    "    \n",
    "        if node.val == h:            \n",
    "            arr[0] = max(arr[0],max(c,z)+1,o-1)\n",
    "            return True,0,max(c,z)+1\n",
    "    \n",
    "        elif a:\n",
    "            arr[0] = max(arr[0],z+b)            \n",
    "            return True,b+1,max(c,z)+1\n",
    "    \n",
    "        elif x:\n",
    "            arr[0] = max(arr[0],c+y)\n",
    "            return True,y+1,max(c,z)+1\n",
    "    \n",
    "        return False,0,max(c,z)+1\n",
    "    \n",
    "    def solve(self, A, B):\n",
    "    \n",
    "        arr = [0]\n",
    "        a,b,c = self.gep(A,B,0,arr)\n",
    "       \n",
    "        return arr[0]+1"
   ]
  },
  {
   "cell_type": "markdown",
   "id": "4076cfe1",
   "metadata": {},
   "source": [
    "### Max Depth of Binary Tree"
   ]
  },
  {
   "cell_type": "code",
   "execution_count": null,
   "id": "131aa2fe",
   "metadata": {},
   "outputs": [],
   "source": [
    "def maxDepth(self, A):\n",
    "    if not A:\n",
    "        return 0\n",
    "    return max(self.maxDepth(A.left), self.maxDepth(A.right)) + 1"
   ]
  },
  {
   "cell_type": "markdown",
   "id": "c7151714",
   "metadata": {},
   "source": [
    "### Sum Root to Leaf Numbers"
   ]
  },
  {
   "cell_type": "code",
   "execution_count": null,
   "id": "566de654",
   "metadata": {},
   "outputs": [],
   "source": [
    "class Solution:\n",
    "    def helper(self, A, curr):\n",
    "        if not A:\n",
    "            return\n",
    "    \n",
    "        curr = (curr * 10 + A.val) % 1003\n",
    "        \n",
    "        if not  A.left and not A.right:\n",
    "            self.sum += curr % 1003\n",
    "            return\n",
    "    \n",
    "        self.helper(A.left, curr)\n",
    "        self.helper(A.right, curr)\n",
    "        \n",
    "    def sumNumbers(self, A):\n",
    "        self.sum = 0\n",
    "        self.helper(A, 0)\n",
    "        return self.sum % 1003"
   ]
  },
  {
   "cell_type": "markdown",
   "id": "4895964c",
   "metadata": {},
   "source": [
    "### Path Sum"
   ]
  },
  {
   "cell_type": "code",
   "execution_count": null,
   "id": "2ce11533",
   "metadata": {},
   "outputs": [],
   "source": [
    "class Solution:\n",
    "    def helper(self, A, s, val):\n",
    "        if not A:\n",
    "            return 0\n",
    "        \n",
    "        if not A.left and not A.right and s+A.val == val:\n",
    "            return 1\n",
    "        \n",
    "        return max(self.helper(A.left, s+A.val, val), self.helper(A.right, s+A.val, val))\n",
    "            \n",
    "    def hasPathSum(self, A, B):\n",
    "        return self.helper(A, 0, B)"
   ]
  },
  {
   "cell_type": "markdown",
   "id": "79abdc61",
   "metadata": {},
   "source": [
    "### Min Depth of Binary Tree"
   ]
  },
  {
   "cell_type": "code",
   "execution_count": null,
   "id": "5dfd9e64",
   "metadata": {},
   "outputs": [],
   "source": [
    "def minDepth(self, A):\n",
    "    if not A:\n",
    "        return float('inf')\n",
    "    if not A.left and not A.right:\n",
    "        return 1\n",
    "\n",
    "    return min(self.minDepth(A.left), self.minDepth(A.right)) + 1"
   ]
  },
  {
   "cell_type": "markdown",
   "id": "347afdbd",
   "metadata": {},
   "source": [
    "### Root to Leaf Paths With Sum"
   ]
  },
  {
   "cell_type": "code",
   "execution_count": null,
   "id": "c6c3ce0e",
   "metadata": {},
   "outputs": [],
   "source": [
    "class Solution:\n",
    "    def helper(self, A,B,value,lis,fl):\n",
    "        if A == None:\n",
    "            return 0\n",
    "        lis.append(A.val)\n",
    "        value = value + A.val\n",
    "        \n",
    "        if value == B and A.left == None and A.right == None :\n",
    "            #print(lis)\n",
    "            fl.append(lis[:])\n",
    "        \n",
    "        self.helper(A.left,B,value,lis,fl)\n",
    "        \n",
    "        self.helper(A.right,B,value,lis,fl)\n",
    "        \n",
    "        x = lis.pop()\n",
    "        value = value - x\n",
    "    \n",
    "    def pathSum(self, A, B):\n",
    "        self.value = 0\n",
    "        self.lis = []\n",
    "        self.fl = []\n",
    "        self.helper(A,B,self.value,self.lis,self.fl)\n",
    "        return self.fl"
   ]
  },
  {
   "cell_type": "markdown",
   "id": "b350b368",
   "metadata": {},
   "source": [
    "## Tree construction"
   ]
  },
  {
   "cell_type": "markdown",
   "id": "005f7748",
   "metadata": {},
   "source": [
    "### Inorder Traversal of Cartesian Tree"
   ]
  },
  {
   "cell_type": "code",
   "execution_count": null,
   "id": "8c2729c6",
   "metadata": {},
   "outputs": [],
   "source": [
    "def buildTree(self, A):\n",
    "    if not A:\n",
    "        return None\n",
    "    if len(A) == 1:\n",
    "        return TreeNode(A[0])\n",
    "\n",
    "    maxEle = max(A)\n",
    "    idx = A.index(maxEle)\n",
    "\n",
    "    node = TreeNode(maxEle)\n",
    "    node.left = self.buildTree(A[:idx])\n",
    "    node.right = self.buildTree(A[idx+1:])\n",
    "\n",
    "    return node"
   ]
  },
  {
   "cell_type": "markdown",
   "id": "3e67e466",
   "metadata": {},
   "source": [
    "### Sorted Array To Balanced BST"
   ]
  },
  {
   "cell_type": "code",
   "execution_count": null,
   "id": "c13d6261",
   "metadata": {},
   "outputs": [],
   "source": [
    "def sortedArrayToBST(self, A):\n",
    "    if not A:\n",
    "        return None\n",
    "\n",
    "    if len(A) == 1:\n",
    "        return TreeNode(A[0])\n",
    "\n",
    "    mid = len(A) // 2\n",
    "\n",
    "    node = TreeNode(A[mid])\n",
    "    node.left = self.sortedArrayToBST(A[:mid])\n",
    "    node.right = self.sortedArrayToBST(A[mid+1:])\n",
    "    return node"
   ]
  },
  {
   "cell_type": "markdown",
   "id": "89391ea1",
   "metadata": {},
   "source": [
    "### Construct Binary Tree From Inorder And Preorder"
   ]
  },
  {
   "cell_type": "code",
   "execution_count": null,
   "id": "2ecd5e31",
   "metadata": {},
   "outputs": [],
   "source": [
    "def buildTree(self, A, B):\n",
    "    if not A and not B:\n",
    "        return \n",
    "    root = TreeNode(A[0])\n",
    "    idx = B.index(A[0])\n",
    "    root.left = self.buildTree(A[1:idx + 1], B[:idx + 1])\n",
    "    root.right = self.buildTree(A[idx + 1:], B[idx + 1:])\n",
    "    return root"
   ]
  },
  {
   "cell_type": "markdown",
   "id": "3bdac8a5",
   "metadata": {},
   "source": [
    "### Binary Tree From Inorder And Postorder"
   ]
  },
  {
   "cell_type": "code",
   "execution_count": null,
   "id": "eec03619",
   "metadata": {},
   "outputs": [],
   "source": [
    "def buildTree(self, A, B):\n",
    "    if not A and not B:\n",
    "        return None\n",
    "    root = B[-1]\n",
    "    index = A.index(root)\n",
    "    new_node = TreeNode(root)\n",
    "\n",
    "    new_node.left = self.buildTree(A[:index],B[:index])\n",
    "    new_node.right = self.buildTree(A[index+1:],B[index:-1])\n",
    "    return new_node"
   ]
  },
  {
   "cell_type": "markdown",
   "id": "81d73e8f",
   "metadata": {},
   "source": [
    "## Tree search"
   ]
  },
  {
   "cell_type": "markdown",
   "id": "654bd90f",
   "metadata": {},
   "source": [
    "### Least Common Ancestor"
   ]
  },
  {
   "cell_type": "code",
   "execution_count": null,
   "id": "92197a0c",
   "metadata": {},
   "outputs": [],
   "source": [
    "class Solution:\n",
    "    def findPath(self, root, nodeList, node):\n",
    "        if root == None:\n",
    "            return False\n",
    "        \n",
    "        nodeList.append(root)\n",
    "        \n",
    "        if root.val == node:\n",
    "            return True\n",
    "        \n",
    "        if self.findPath(root.left, nodeList, node) or self.findPath(root.right, nodeList, node):\n",
    "            return True\n",
    "        \n",
    "        nodeList.pop()\n",
    "        return False\n",
    "\n",
    "    def lca(self, A, B, C):\n",
    "        path1 = []\n",
    "        path2 = []\n",
    "        self.findPath(A, path1, B)\n",
    "        self.findPath(A, path2, C)\n",
    "        \n",
    "        result = -1\n",
    "        for ele1, ele2 in zip(path1, path2):\n",
    "            if ele1 == ele2:\n",
    "                result = ele1.val\n",
    "            \n",
    "        return result"
   ]
  },
  {
   "cell_type": "markdown",
   "id": "e4e4159c",
   "metadata": {},
   "source": [
    "## Linkedlist tree"
   ]
  },
  {
   "cell_type": "markdown",
   "id": "866ba328",
   "metadata": {},
   "source": [
    "### Flatten Binary Tree to Linked List"
   ]
  },
  {
   "cell_type": "code",
   "execution_count": null,
   "id": "4808d4d2",
   "metadata": {},
   "outputs": [],
   "source": [
    "class Solution:\n",
    "    def helper(self, A):\n",
    "        if not A:\n",
    "            return\n",
    "        \n",
    "        self.helper(A.right)\n",
    "        self.helper(A.left)\n",
    "\n",
    "        A.right = self.prev\n",
    "        A.left = None\n",
    "\n",
    "        self.prev = A \n",
    "\n",
    "    def flatten(self, A):   \n",
    "        self.prev = None\n",
    "        self.helper(A)\n",
    "        return A "
   ]
  }
 ],
 "metadata": {
  "kernelspec": {
   "display_name": "Python 3 (ipykernel)",
   "language": "python",
   "name": "python3"
  },
  "language_info": {
   "codemirror_mode": {
    "name": "ipython",
    "version": 3
   },
   "file_extension": ".py",
   "mimetype": "text/x-python",
   "name": "python",
   "nbconvert_exporter": "python",
   "pygments_lexer": "ipython3",
   "version": "3.8.10"
  }
 },
 "nbformat": 4,
 "nbformat_minor": 5
}
