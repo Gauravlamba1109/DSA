{
 "cells": [
  {
   "cell_type": "markdown",
   "id": "5ed59065",
   "metadata": {},
   "source": [
    "# Two Pointers Problems\n",
    "\n",
    "- [Sorting](#Sorting)\n",
    "    - [3 Sum](#3-Sum)\n",
    "\n",
    "- [Inplace update](#Inplace-update)\n",
    "    - [Remove Duplicates from Sorted Array](#Remove-Duplicates-from-Sorted-Array)"
   ]
  },
  {
   "cell_type": "markdown",
   "id": "444d6796",
   "metadata": {},
   "source": [
    "## Sorting\n",
    "\n",
    "### 3 Sum"
   ]
  },
  {
   "cell_type": "code",
   "execution_count": null,
   "id": "20b1370c",
   "metadata": {},
   "outputs": [],
   "source": [
    "def threeSumClosest(A, B):\n",
    "    A.sort()\n",
    "    \n",
    "    n = len(A)\n",
    "    result = 0\n",
    "    close = float('inf')\n",
    "    \n",
    "    for i, ele in enumerate(A[:n-2]):\n",
    "        left = i+1\n",
    "        right = n-1\n",
    "\n",
    "        while left < right:\n",
    "            if abs(A[left] + A[right] + ele - B) < close:\n",
    "                close = abs(A[left] + A[right] + ele - B)\n",
    "                result = A[left] + A[right] + ele\n",
    "\n",
    "            if A[left] + A[right] < B-ele:\n",
    "                left += 1\n",
    "            else:\n",
    "                right -= 1\n",
    "\n",
    "    return result"
   ]
  },
  {
   "cell_type": "markdown",
   "id": "f8d92d31",
   "metadata": {},
   "source": [
    "## Inplace update"
   ]
  },
  {
   "cell_type": "markdown",
   "id": "e745f9ce",
   "metadata": {},
   "source": [
    "### Remove Duplicates from Sorted Array"
   ]
  },
  {
   "cell_type": "code",
   "execution_count": null,
   "id": "453fcf0a",
   "metadata": {},
   "outputs": [],
   "source": [
    "def removeDuplicates(A):\n",
    "    n = len(A)\n",
    "    if n == 1:\n",
    "        return 1\n",
    "    i = 0\n",
    "    j = 1\n",
    "\n",
    "    while j < n:\n",
    "        while j < n and A[i] == A[j]:\n",
    "            j += 1\n",
    "\n",
    "        if j < n and A[i] != A[j]:\n",
    "            i += 1\n",
    "            A[i] = A[j]\n",
    "            j += 1\n",
    "\n",
    "    return i+1"
   ]
  }
 ],
 "metadata": {
  "kernelspec": {
   "display_name": "Python 3 (ipykernel)",
   "language": "python",
   "name": "python3"
  },
  "language_info": {
   "codemirror_mode": {
    "name": "ipython",
    "version": 3
   },
   "file_extension": ".py",
   "mimetype": "text/x-python",
   "name": "python",
   "nbconvert_exporter": "python",
   "pygments_lexer": "ipython3",
   "version": "3.8.10"
  }
 },
 "nbformat": 4,
 "nbformat_minor": 5
}
