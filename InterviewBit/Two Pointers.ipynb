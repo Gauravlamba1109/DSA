{
 "cells": [
  {
   "cell_type": "markdown",
   "id": "5ed59065",
   "metadata": {},
   "source": [
    "# Two Pointers Problems\n",
    "\n",
    "- [Sorting](#Sorting)\n",
    "    - [ Pair With Given Difference](#Pair-With-Given-Difference)\n",
    "    - [3 Sum](#3-Sum)\n",
    "    - [3 Sum Zero](#3-Sum-Zero)\n",
    "    - [Counting Triangles](#Counting-Triangles)\n",
    "    - [Diffk](#Diffk)\n",
    "    \n",
    "- [Multiple arrays](#Multiple-arrays)\n",
    "    - [Merge Two Sorted Lists II](#Merge-Two-Sorted-Lists-II)\n",
    "    - [Intersection Of Sorted Arrays](#Intersection-Of-Sorted-Arrays)\n",
    "   \n",
    "- [Tricks](#Tricks)\n",
    "    - [Maximum Ones After Modification](#Maximum-Ones-After-Modification)\n",
    "    - [Counting Subarrays!](#Counting-Subarrays!)\n",
    "    - [Subarrays with distinct integers!](#Subarrays-with-distinct-integers!)\n",
    "    - [Max Continuous Series of 1s](#Max-Continuous-Series-of-1s)\n",
    "    - [Array 3 Pointers](#Array-3-Pointers)\n",
    "    - [Container With Most Water](#Container-With-Most-Water)\n",
    "    \n",
    "- [Inplace update](#Inplace-update)\n",
    "    - [Remove Duplicates from Sorted Array](#Remove-Duplicates-from-Sorted-Array)\n",
    "    - [Remove Duplicates from Sorted Array II](#Remove-Duplicates-from-Sorted-Array-II)\n",
    "    - [Remove Element from Array](#Remove-Element-from-Array)\n",
    "    - [Sort by Color](#Sort-by-Color)"
   ]
  },
  {
   "cell_type": "markdown",
   "id": "444d6796",
   "metadata": {},
   "source": [
    "## Sorting"
   ]
  },
  {
   "cell_type": "markdown",
   "id": "ea2b33ab",
   "metadata": {},
   "source": [
    "### Pair With Given Difference"
   ]
  },
  {
   "cell_type": "code",
   "execution_count": 1,
   "id": "df1eaf25",
   "metadata": {},
   "outputs": [],
   "source": [
    "def solve(self, A, B):\n",
    "    mapper = dict()\n",
    "\n",
    "    for ele in A:\n",
    "        if ele - B in mapper or B + ele in mapper:\n",
    "            return 1\n",
    "        mapper[ele] = 1\n",
    "\n",
    "    return 0"
   ]
  },
  {
   "cell_type": "markdown",
   "id": "03c63eb7",
   "metadata": {},
   "source": [
    "### 3 Sum"
   ]
  },
  {
   "cell_type": "code",
   "execution_count": null,
   "id": "20b1370c",
   "metadata": {},
   "outputs": [],
   "source": [
    "def threeSumClosest(A, B):\n",
    "    A.sort()\n",
    "    \n",
    "    n = len(A)\n",
    "    result = 0\n",
    "    close = float('inf')\n",
    "    \n",
    "    for i, ele in enumerate(A[:n-2]):\n",
    "        left = i+1\n",
    "        right = n-1\n",
    "\n",
    "        while left < right:\n",
    "            if abs(A[left] + A[right] + ele - B) < close:\n",
    "                close = abs(A[left] + A[right] + ele - B)\n",
    "                result = A[left] + A[right] + ele\n",
    "\n",
    "            if A[left] + A[right] < B-ele:\n",
    "                left += 1\n",
    "            else:\n",
    "                right -= 1\n",
    "\n",
    "    return result"
   ]
  },
  {
   "cell_type": "markdown",
   "id": "76ff85a6",
   "metadata": {},
   "source": [
    "### 3 Sum Zero"
   ]
  },
  {
   "cell_type": "code",
   "execution_count": null,
   "id": "ee618ebf",
   "metadata": {},
   "outputs": [],
   "source": [
    "def threeSum(self, A):\n",
    "    A.sort()\n",
    "    n = len(A)\n",
    "    check = dict()\n",
    "    for i, ele in enumerate(A[:-2]):\n",
    "        left = i+1\n",
    "        right = n-1\n",
    "\n",
    "        while left < right:\n",
    "            temp = (ele, A[left], A[right])\n",
    "            if sum(temp) == 0:\n",
    "                if temp not in check:\n",
    "                    check[temp] = 1\n",
    "\n",
    "            if sum(temp) > 0:\n",
    "                right -= 1\n",
    "            else:\n",
    "                left += 1\n",
    "\n",
    "    return list(check.keys())"
   ]
  },
  {
   "cell_type": "markdown",
   "id": "20e44166",
   "metadata": {},
   "source": [
    "### Counting Triangles"
   ]
  },
  {
   "cell_type": "code",
   "execution_count": null,
   "id": "1a967ebf",
   "metadata": {},
   "outputs": [],
   "source": [
    "def nTriang(self, A):\n",
    "    mod = 1000000007\n",
    "    A.sort()\n",
    "    count = 0\n",
    "\n",
    "    for i in range(len(A) - 1, 0, -1):\n",
    "        l,r = 0, i - 1\n",
    "\n",
    "        while l < r:\n",
    "            if A[r] + A[l] > A[i]:\n",
    "                count += r - l\n",
    "                r -= 1\n",
    "            else:\n",
    "                l += 1\n",
    "    return count % mod"
   ]
  },
  {
   "cell_type": "markdown",
   "id": "d34161a5",
   "metadata": {},
   "source": [
    "### Diffk"
   ]
  },
  {
   "cell_type": "code",
   "execution_count": null,
   "id": "582f0c92",
   "metadata": {},
   "outputs": [],
   "source": [
    "def diffPossible(self, A, B):\n",
    "    mapper = dict()\n",
    "\n",
    "    for ele in A:\n",
    "        if ele - B in mapper or B + ele in mapper:\n",
    "            return 1\n",
    "\n",
    "        mapper[ele] = 1\n",
    "\n",
    "    return 0"
   ]
  },
  {
   "cell_type": "markdown",
   "id": "5d815a1d",
   "metadata": {},
   "source": [
    "## Multiple arrays"
   ]
  },
  {
   "cell_type": "markdown",
   "id": "e781a690",
   "metadata": {},
   "source": [
    "### Merge Two Sorted Lists II"
   ]
  },
  {
   "cell_type": "code",
   "execution_count": 3,
   "id": "b124550c",
   "metadata": {},
   "outputs": [],
   "source": [
    "def merge(self, arr1, arr2):\n",
    "    n = len(arr1)\n",
    "    m = len(arr2)\n",
    "    gap = n + m\n",
    "\n",
    "    while gap > 1:\n",
    "        gap = gap // 2 + gap%2\n",
    "\n",
    "        i = 0\n",
    "        j = i + gap\n",
    "\n",
    "        while i < n and j < n:\n",
    "            if arr1[i] > arr1[j]:\n",
    "                arr1[i], arr1[j] = arr1[j], arr1[i]\n",
    "            i += 1\n",
    "            j += 1\n",
    "\n",
    "        j -= n\n",
    "        while i < n and j < m:\n",
    "            if arr1[i] > arr2[j]:\n",
    "                arr1[i], arr2[j] = arr2[j], arr1[i]\n",
    "            i += 1\n",
    "            j += 1\n",
    "\n",
    "        i -= n\n",
    "        while i < m and j < m:\n",
    "            if arr2[i] > arr2[j]:\n",
    "                arr2[i], arr2[j] = arr2[j], arr2[i]\n",
    "            i += 1\n",
    "            j += 1\n",
    "\n",
    "    for ele in arr2:\n",
    "        arr1.append(ele)\n",
    "\n",
    "    return arr1"
   ]
  },
  {
   "cell_type": "markdown",
   "id": "a33e60c0",
   "metadata": {},
   "source": [
    "### Intersection Of Sorted Arrays"
   ]
  },
  {
   "cell_type": "code",
   "execution_count": null,
   "id": "94776fcb",
   "metadata": {},
   "outputs": [],
   "source": [
    "def intersect(self, A, B):\n",
    "    ptr1 = 0\n",
    "    ptr2 = 0\n",
    "\n",
    "    result = []\n",
    "\n",
    "    while ptr1 < len(A) and ptr2 < len(B):\n",
    "        if A[ptr1] == B[ptr2]:\n",
    "            result.append(A[ptr1])\n",
    "            ptr1 += 1\n",
    "            ptr2 += 1\n",
    "        elif A[ptr1] < B[ptr2]:\n",
    "            ptr1 += 1\n",
    "        else:\n",
    "            ptr2 += 1\n",
    "\n",
    "    return result"
   ]
  },
  {
   "cell_type": "markdown",
   "id": "9269db1f",
   "metadata": {},
   "source": [
    "## Tricks"
   ]
  },
  {
   "cell_type": "markdown",
   "id": "ac5b29e7",
   "metadata": {},
   "source": [
    "### Maximum Ones After Modification"
   ]
  },
  {
   "cell_type": "code",
   "execution_count": null,
   "id": "ebd272f5",
   "metadata": {},
   "outputs": [],
   "source": [
    "def solve(self, A, B):\n",
    "    n = len(A)\n",
    "\n",
    "    i = 0\n",
    "    j = 0\n",
    "\n",
    "    count_k = B\n",
    "\n",
    "    max_len = 0\n",
    "\n",
    "    while j < n:\n",
    "        if A[j] == 0:\n",
    "            count_k -= 1\n",
    "\n",
    "        while count_k < 0:\n",
    "            if A[i] == 0:\n",
    "                count_k += 1\n",
    "            i += 1\n",
    "\n",
    "        max_len = max(max_len, j - i + 1)\n",
    "\n",
    "        j += 1\n",
    "\n",
    "    return max_len"
   ]
  },
  {
   "cell_type": "markdown",
   "id": "7b87326c",
   "metadata": {},
   "source": [
    "### Counting Subarrays!"
   ]
  },
  {
   "cell_type": "code",
   "execution_count": null,
   "id": "7a23242a",
   "metadata": {},
   "outputs": [],
   "source": [
    "def solve(self, A, B):\n",
    "    n = len(A)\n",
    "    i = 0\n",
    "    j = 0\n",
    "    ans = 0\n",
    "    s = 0\n",
    "    prej = -1\n",
    "\n",
    "    while i < n and j < n:\n",
    "        if j != prej:\n",
    "            s += A[j]\n",
    "\n",
    "        if s < B:\n",
    "            ans += (j-i) + 1\n",
    "            prej = j\n",
    "            j += 1\n",
    "        else:\n",
    "            prej = j\n",
    "            s -= A[i]\n",
    "            i += 1\n",
    "\n",
    "    return ans"
   ]
  },
  {
   "cell_type": "markdown",
   "id": "e1b58516",
   "metadata": {},
   "source": [
    "### Subarrays with distinct integers!"
   ]
  },
  {
   "cell_type": "code",
   "execution_count": null,
   "id": "9dd8974e",
   "metadata": {},
   "outputs": [],
   "source": [
    "class Solution:\n",
    "    def helper(self, A, B):\n",
    "        n = len(A)\n",
    "        i = 0\n",
    "        j = 0\n",
    "        mapper = dict()\n",
    "        ans = 0\n",
    "        cnt = 0\n",
    "        \n",
    "        while i < n and j < n:\n",
    "            if A[j] not in mapper or mapper[A[j]] == 0:\n",
    "                mapper[A[j]] = 1\n",
    "                cnt += 1\n",
    "            else:\n",
    "                mapper[A[j]] += 1\n",
    "            \n",
    "            if cnt > B:\n",
    "                while i < j and cnt > B:\n",
    "                    mapper[A[i]] -= 1\n",
    "                    \n",
    "                    if mapper[A[i]] == 0:\n",
    "                        cnt -= 1\n",
    "                    \n",
    "                    i += 1\n",
    "            \n",
    "            if cnt <= B:\n",
    "                ans += j - i + 1\n",
    "            \n",
    "            j += 1\n",
    "            \n",
    "        return ans\n",
    "        \n",
    "    def solve(self, A, B):\n",
    "        return self.helper(A, B) - self.helper(A, B-1)"
   ]
  },
  {
   "cell_type": "markdown",
   "id": "5f9d14bf",
   "metadata": {},
   "source": [
    "### Max Continuous Series of 1s"
   ]
  },
  {
   "cell_type": "code",
   "execution_count": null,
   "id": "2ba0e15c",
   "metadata": {},
   "outputs": [],
   "source": [
    "def maxone(self, A, B):\n",
    "    v = []\n",
    "    maxx = 0\n",
    "    p1 = 0\n",
    "    p2 = 0\n",
    "    q = []\n",
    "    n = len(A)\n",
    "    start = 0\n",
    "    end = 0\n",
    "    zero_ct = 0\n",
    "\n",
    "    while end < n:\n",
    "        if A[end] == 0:\n",
    "            q.append(end)\n",
    "            if zero_ct < B:\n",
    "                zero_ct += 1\n",
    "            else:\n",
    "                start = q[0] + 1\n",
    "                q.pop()\n",
    "\n",
    "        if maxx < end - start:\n",
    "            maxx = end - start\n",
    "            p1 = start\n",
    "            p2 = end\n",
    "\n",
    "        end += 1\n",
    "\n",
    "    for i in range(p1, p2+1):\n",
    "        v.append(i)\n",
    "\n",
    "    return v"
   ]
  },
  {
   "cell_type": "markdown",
   "id": "126883cc",
   "metadata": {},
   "source": [
    "### Array 3 Pointers"
   ]
  },
  {
   "cell_type": "code",
   "execution_count": null,
   "id": "9920b62c",
   "metadata": {},
   "outputs": [],
   "source": [
    "def minimize(self, A, B, C):\n",
    "    i = 0\n",
    "    j = 0\n",
    "    k = 0\n",
    "    mini = float('inf')\n",
    "\n",
    "    while i < len(A) and j < len(B) and k < len(C):\n",
    "        mini = min(mini, max(abs(A[i] - B[j]), abs(B[j]-C[k]), abs(C[k]-A[i])))\n",
    "\n",
    "        if A[i] <= B[j] and A[i] <= C[k]:\n",
    "            i += 1\n",
    "        elif B[j] < A[i] and B[j] <= C[k]:\n",
    "            j += 1\n",
    "        else:\n",
    "            k += 1\n",
    "\n",
    "    return mini"
   ]
  },
  {
   "cell_type": "markdown",
   "id": "84c5958b",
   "metadata": {},
   "source": [
    "### Container With Most Water"
   ]
  },
  {
   "cell_type": "code",
   "execution_count": null,
   "id": "59e260a9",
   "metadata": {},
   "outputs": [],
   "source": [
    "def maxArea(self, A):\n",
    "    mx = -float('inf')\n",
    "    i = 0\n",
    "    j = len(A) - 1\n",
    "\n",
    "    while i < j:\n",
    "        currMax = min(A[i], A[j]) * (j-i)\n",
    "        mx = max(currMax, mx)\n",
    "        if A[i] < A[j]:\n",
    "            i += 1\n",
    "        else:\n",
    "            j -= 1\n",
    "\n",
    "    if mx != -float('inf'):\n",
    "        return mx\n",
    "    return 0"
   ]
  },
  {
   "cell_type": "markdown",
   "id": "f8d92d31",
   "metadata": {},
   "source": [
    "## Inplace update"
   ]
  },
  {
   "cell_type": "markdown",
   "id": "e745f9ce",
   "metadata": {},
   "source": [
    "### Remove Duplicates from Sorted Array"
   ]
  },
  {
   "cell_type": "code",
   "execution_count": null,
   "id": "453fcf0a",
   "metadata": {},
   "outputs": [],
   "source": [
    "def removeDuplicates(A):\n",
    "    n = len(A)\n",
    "    if n == 1:\n",
    "        return 1\n",
    "    i = 0\n",
    "    j = 1\n",
    "\n",
    "    while j < n:\n",
    "        while j < n and A[i] == A[j]:\n",
    "            j += 1\n",
    "\n",
    "        if j < n and A[i] != A[j]:\n",
    "            i += 1\n",
    "            A[i] = A[j]\n",
    "            j += 1\n",
    "\n",
    "    return i+1"
   ]
  },
  {
   "cell_type": "markdown",
   "id": "7bc9ef5e",
   "metadata": {},
   "source": [
    "### Remove Duplicates from Sorted Array II"
   ]
  },
  {
   "cell_type": "code",
   "execution_count": 2,
   "id": "a665ccae",
   "metadata": {},
   "outputs": [],
   "source": [
    "def removeDuplicates(self, A):\n",
    "    mapper = dict()\n",
    "    st = 0\n",
    "\n",
    "    for i in range(len(A)):\n",
    "        if A[i] not in mapper:\n",
    "            mapper[A[i]] = 0\n",
    "\n",
    "        mapper[A[i]] += 1\n",
    "\n",
    "        if mapper[A[i]] <= 2:\n",
    "            A[i], A[st] = A[st], A[i]\n",
    "            st += 1\n",
    "\n",
    "    return st"
   ]
  },
  {
   "cell_type": "markdown",
   "id": "eb9d4837",
   "metadata": {},
   "source": [
    "### Remove Element from Array"
   ]
  },
  {
   "cell_type": "code",
   "execution_count": null,
   "id": "e42d0234",
   "metadata": {},
   "outputs": [],
   "source": [
    "def removeElement(self, A, B):\n",
    "    n = len(A)\n",
    "    st = 0\n",
    "\n",
    "    for i in range(n):\n",
    "        if A[i] != B:\n",
    "            A[i], A[st] = A[st], A[i]\n",
    "            st += 1\n",
    "\n",
    "    return st"
   ]
  },
  {
   "cell_type": "markdown",
   "id": "76744f82",
   "metadata": {},
   "source": [
    "### Sort by Color"
   ]
  },
  {
   "cell_type": "code",
   "execution_count": null,
   "id": "c1923267",
   "metadata": {},
   "outputs": [],
   "source": [
    "def sortColors(self, A):\n",
    "    count = [0, 0, 0]\n",
    "\n",
    "    for ele in A:\n",
    "        count[ele] += 1\n",
    "\n",
    "    for i in range(len(A)):\n",
    "        if count[0] > 0:\n",
    "            A[i] = 0\n",
    "            count[0] -= 1\n",
    "        elif count[1] > 0:\n",
    "            A[i] = 1\n",
    "            count[1] -= 1\n",
    "        else:\n",
    "            A[i] = 2\n",
    "\n",
    "    return A"
   ]
  }
 ],
 "metadata": {
  "kernelspec": {
   "display_name": "Python 3 (ipykernel)",
   "language": "python",
   "name": "python3"
  },
  "language_info": {
   "codemirror_mode": {
    "name": "ipython",
    "version": 3
   },
   "file_extension": ".py",
   "mimetype": "text/x-python",
   "name": "python",
   "nbconvert_exporter": "python",
   "pygments_lexer": "ipython3",
   "version": "3.8.10"
  }
 },
 "nbformat": 4,
 "nbformat_minor": 5
}
