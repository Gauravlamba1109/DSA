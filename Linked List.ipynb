{
 "cells": [
  {
   "cell_type": "code",
   "execution_count": 1,
   "metadata": {},
   "outputs": [],
   "source": [
    "# Reverse a Linked List\n",
    "def reverse_linked_list(head):\n",
    "    prev_node = None\n",
    "    while head != None:\n",
    "        next_node = head.next\n",
    "        head.next = prev_node\n",
    "        prev_node = head\n",
    "        head = next_node\n",
    "\n",
    "    return prev_node"
   ]
  },
  {
   "cell_type": "code",
   "execution_count": 2,
   "metadata": {},
   "outputs": [],
   "source": [
    "# Remove Nth Node From End of List\n",
    "def remove_Nth_from_end(head, n):\n",
    "    temp_node = head\n",
    "    prev_node = None\n",
    "    fast_node = head\n",
    "\n",
    "    for _ in range(n):\n",
    "        print(fast_node.val)\n",
    "        fast_node = fast_node.next\n",
    "\n",
    "    while fast_node != None:\n",
    "        prev_node = temp_node\n",
    "        temp_node = temp_node.next\n",
    "        fast_node = fast_node.next\n",
    "\n",
    "    if prev_node == None:\n",
    "        head = head.next\n",
    "        del temp_node\n",
    "    else:\n",
    "        prev_node.next = temp_node.next\n",
    "        del temp_node\n",
    "\n",
    "    return head"
   ]
  },
  {
   "cell_type": "code",
   "execution_count": 3,
   "metadata": {},
   "outputs": [],
   "source": [
    "# Middle of Linked List\n",
    "def middle_of_linked_list(head):\n",
    "    temp_node = head\n",
    "    fast_node = head\n",
    "\n",
    "    while fast_node != None and fast_node.next != None:\n",
    "        temp_node = temp_node.next\n",
    "        fast_node = fast_node.next.next\n",
    "\n",
    "    return temp_node"
   ]
  },
  {
   "cell_type": "code",
   "execution_count": 4,
   "metadata": {},
   "outputs": [],
   "source": [
    "# Merge two sorted Linked List\n",
    "def merge_two_sorted_lists(l1, l2):\n",
    "    if l1 == None:\n",
    "        return l2\n",
    "    if l2 == None:\n",
    "        return l1\n",
    "\n",
    "    if l2.val < l1.val:\n",
    "        l1, l2 = l2, l1\n",
    "\n",
    "    res_node = l1\n",
    "\n",
    "    while l1 != None and l2 != None:\n",
    "        while l1 != None and l1.val <= l2.val:\n",
    "            temp = l1\n",
    "            l1 = l1.next\n",
    "        temp.next = l2\n",
    "\n",
    "        l1, l2 = l2, l1\n",
    "\n",
    "    return res_node"
   ]
  }
 ],
 "metadata": {
  "kernelspec": {
   "display_name": "Python 3",
   "language": "python",
   "name": "python3"
  },
  "language_info": {
   "codemirror_mode": {
    "name": "ipython",
    "version": 3
   },
   "file_extension": ".py",
   "mimetype": "text/x-python",
   "name": "python",
   "nbconvert_exporter": "python",
   "pygments_lexer": "ipython3",
   "version": "3.8.5"
  }
 },
 "nbformat": 4,
 "nbformat_minor": 4
}
