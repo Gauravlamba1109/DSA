{
 "cells": [
  {
   "cell_type": "code",
   "execution_count": 1,
   "metadata": {},
   "outputs": [],
   "source": [
    "class Node:\n",
    "    def __init__(self, item=None, next_ptr=None, prev_ptr=None):\n",
    "        self.item = item\n",
    "        self.next_ptr = next_ptr\n",
    "        self.prev_ptr = prev_ptr"
   ]
  },
  {
   "cell_type": "code",
   "execution_count": 10,
   "metadata": {},
   "outputs": [],
   "source": [
    "class SingleLinkedList:\n",
    "    def __init__(self, item=None):\n",
    "        self.head = Node(item)\n",
    "        self.last = self.head\n",
    "        \n",
    "    def print_list(self):\n",
    "        temp = self.head\n",
    "        print()\n",
    "        while temp != None:\n",
    "            print(temp.item, end=\" \")\n",
    "            temp = temp.next_ptr\n",
    "            \n",
    "    def add_item(self, item):\n",
    "        if self.head == None:\n",
    "            self.head.item = item\n",
    "            self.last.item = item\n",
    "        else:\n",
    "            self.last.next_ptr = Node(item)\n",
    "            self.last = self.last.next_ptr\n",
    "    \n",
    "    def delete_item(self, item):\n",
    "        if self.head.item == item:\n",
    "            temp = self.head\n",
    "            self.head = self.head.next_ptr\n",
    "            del temp\n",
    "        else:\n",
    "            temp = self.head\n",
    "            temp1 = self.head.next_ptr\n",
    "            while temp1 != None:\n",
    "                if temp1.item == item:\n",
    "                    break\n",
    "                temp = temp.next_ptr\n",
    "                temp1 = temp1.next_ptr\n",
    "            if temp1 != None:\n",
    "                temp.next_ptr = temp1.next_ptr\n",
    "                del temp1"
   ]
  },
  {
   "cell_type": "code",
   "execution_count": 11,
   "metadata": {},
   "outputs": [
    {
     "name": "stdout",
     "output_type": "stream",
     "text": [
      "\n",
      "5 10 15 20 \n",
      "5 10 20 "
     ]
    }
   ],
   "source": [
    "l = SingleLinkedList(5)\n",
    "l.add_item(10)\n",
    "l.add_item(15)\n",
    "l.add_item(20)\n",
    "l.print_list()\n",
    "l.delete_item(15)\n",
    "l.print_list()"
   ]
  },
  {
   "cell_type": "code",
   "execution_count": null,
   "metadata": {},
   "outputs": [],
   "source": []
  }
 ],
 "metadata": {
  "kernelspec": {
   "display_name": "Python 3",
   "language": "python",
   "name": "python3"
  },
  "language_info": {
   "codemirror_mode": {
    "name": "ipython",
    "version": 3
   },
   "file_extension": ".py",
   "mimetype": "text/x-python",
   "name": "python",
   "nbconvert_exporter": "python",
   "pygments_lexer": "ipython3",
   "version": "3.8.5"
  }
 },
 "nbformat": 4,
 "nbformat_minor": 4
}
