{
 "cells": [
  {
   "cell_type": "markdown",
   "metadata": {},
   "source": [
    "# Algebra\n",
    "\n",
    "Table of Contents\n",
    "\n",
    "- [Fundamentals](#Fundamentals)\n",
    " - [Binary Exponentiation](#Binary-Exponentiation)\n",
    " - [Euclidean algorithm for computing the greatest common divisor](#Euclidean-algorithm-for-computing-the-greatest-common-divisor)\n",
    " - [Fibonacci Numbers](#Fibonacci-Numbers)\n",
    "\n",
    "## Fundamentals\n",
    "\n",
    "### [Binary Exponentiation](https://cp-algorithms.com/algebra/binary-exp.html)\n",
    "\n",
    "Binary exponentiation (also known as exponentiation by squaring) is a trick which allows to calculate $a^{n}$ using only O(logn) multiplications (instead of O(n) multiplications required by the naive approach). \n",
    "\n",
    "Raising a to the power of n is expressed naively as multiplication by a done n−1 times: an=a⋅a⋅…⋅a. However, this approach is not practical for large a or n.\n",
    "\n",
    "The idea of binary exponentiation is, that we split the work using the binary representation of the exponent.\n",
    "\n",
    "Let's write n in base 2, for example: $3^{13}$ = $3^{1101_{2}}$ = $3^{8}$.$3^{4}$$3^{1}$ \n",
    "Since the number n has exactly ⌊log2n⌋+1 digits in base 2, we only need to perform O(logn) multiplications, if we know the powers $a^{1}$, $a^{2}$, $a^{4}$, $a^{8}$,..., $a^{logn}$\n",
    "\n",
    "The final complexity of this algorithm is O(logn): we have to compute logn powers of a, and then have to do at most logn multiplications to get the final answer from them.\n",
    "\n",
    "So we only need to know a fast way to compute those. Luckily this is very easy, since an element in the sequence is just the square of the previous element.\n",
    "\n",
    "$\\begin{align}\n",
    "3^1 &= 3 \\\\\n",
    "3^2 &= \\left(3^1\\right)^2 = 3^2 = 9 \\\\\n",
    "3^4 &= \\left(3^2\\right)^2 = 9^2 = 81 \\\\\n",
    "3^8 &= \\left(3^4\\right)^2 = 81^2 = 6561\n",
    "\\end{align}$\n",
    "\n",
    "So to get the final answer for $3^{13}$, we only need to multiply three of them (skipping 32 because the corresponding bit in n is not set):  $3^{13}$=6561⋅81⋅3=1594323\n",
    "\n",
    "The following recursive approach expresses the same idea:\n",
    "\n",
    "$a^n = \\begin{cases}\n",
    "1 &\\text{if } n == 0 \\\\\n",
    "\\left(a^{\\frac{n}{2}}\\right)^2 &\\text{if } n > 0 \\text{ and } n \\text{ even}\\\\\n",
    "\\left(a^{\\frac{n - 1}{2}}\\right)^2 \\cdot a &\\text{if } n > 0 \\text{ and } n \\text{ odd}\\\\\n",
    "\\end{cases}$\n",
    "\n",
    "Recursive Approach:"
   ]
  },
  {
   "cell_type": "code",
   "execution_count": 1,
   "metadata": {},
   "outputs": [
    {
     "data": {
      "text/plain": [
       "1594323"
      ]
     },
     "execution_count": 1,
     "metadata": {},
     "output_type": "execute_result"
    }
   ],
   "source": [
    "def beRecursive(a, b):\n",
    "    if b == 0:\n",
    "        return 1\n",
    "    \n",
    "    res = beRecursive(a, b // 2)\n",
    "    \n",
    "    if b % 2 == 0:\n",
    "        return res * res\n",
    "    else:\n",
    "        return res * res * a\n",
    "    \n",
    "beRecursive(3, 13)"
   ]
  },
  {
   "cell_type": "markdown",
   "metadata": {},
   "source": [
    "The second approach accomplishes the same task without recursion. It computes all the powers in a loop, and multiplies the ones with the corresponding set bit in n. Although the complexity of both approaches is identical, this approach will be faster in practice since we have the overhead of the recursive calls."
   ]
  },
  {
   "cell_type": "code",
   "execution_count": 2,
   "metadata": {},
   "outputs": [
    {
     "data": {
      "text/plain": [
       "1594323"
      ]
     },
     "execution_count": 2,
     "metadata": {},
     "output_type": "execute_result"
    }
   ],
   "source": [
    "def beIterative(a, b):\n",
    "    res = 1\n",
    "    \n",
    "    while b > 0:\n",
    "        if b & 1:\n",
    "            res = res * a\n",
    "        a = a * a\n",
    "        b >>= 1\n",
    "    \n",
    "    return res\n",
    "\n",
    "beIterative(3, 13)"
   ]
  },
  {
   "cell_type": "markdown",
   "metadata": {},
   "source": [
    "#### Variation of binary exponentiation: multiplying two numbers modulo m\n",
    "\n",
    "Problem: Multiply two numbers a and b modulo m. a and b fit in the built-in data types, but their product is too big to fit in a 64-bit integer. The idea is to compute a⋅b(modm) without using bignum arithmetics.\n",
    "\n",
    "Solution: We simply apply the binary construction algorithm described above, only performing additions instead of multiplications. In other words, we have \"expanded\" the multiplication of two numbers to O(logm) operations of addition and multiplication by two (which, in essence, is an addition).\n",
    "\n",
    "$a \\cdot b = \\begin{cases}\n",
    "0 &\\text{if }a = 0 \\\\\n",
    "2 \\cdot \\frac{a}{2} \\cdot b &\\text{if }a > 0 \\text{ and }a \\text{ even} \\\\\n",
    "2 \\cdot \\frac{a-1}{2} \\cdot b + b &\\text{if }a > 0 \\text{ and }a \\text{ odd}\n",
    "\\end{cases}$"
   ]
  },
  {
   "cell_type": "markdown",
   "metadata": {},
   "source": [
    "### [Euclidean algorithm for computing the greatest common divisor](https://cp-algorithms.com/algebra/euclid-algorithm.html)\n",
    "\n",
    "Given two non-negative integers a and b, we have to find their GCD (greatest common divisor), i.e. the largest number which is a divisor of both a and b. It's commonly denoted by gcd(a,b). Mathematically it is defined as: $\\gcd(a, b) = \\max_ {k = 1 \\dots \\infty ~ : ~ k \\mid a ~ \\wedge k ~ \\mid b} k.$\n",
    "\n",
    "(here the symbol \"∣\" denotes divisibility, i.e. \"k∣a\" means \"k divides a\")\n",
    "\n",
    "When one of the numbers is zero, while the other is non-zero, their greatest common divisor, by definition, is the second number. When both numbers are zero, their greatest common divisor is undefined (it can be any arbitrarily large number), but we can define it to be zero. Which gives us a simple rule: if one of the numbers is zero, the greatest common divisor is the other number.\n",
    "\n",
    "The Euclidean algorithm, discussed below, allows to find the greatest common divisor of two numbers a and b in O(logmin(a,b)).\n",
    "\n",
    "Algorithm\n",
    "\n",
    "The algorithm is extremely simple:\n",
    "$\\gcd(a, b) = \\begin{cases}a,&\\text{if }b = 0 \\\\ \\gcd(b, a \\bmod b),&\\text{otherwise.}\\end{cases}$\n",
    "\n",
    "Implementation:"
   ]
  },
  {
   "cell_type": "code",
   "execution_count": 3,
   "metadata": {},
   "outputs": [
    {
     "name": "stdout",
     "output_type": "stream",
     "text": [
      "Recursive:  5\n",
      "Iterative:  5\n"
     ]
    }
   ],
   "source": [
    "def gcdRecursive(a, b):\n",
    "    if b == 0:\n",
    "        return a\n",
    "    return gcdRecursive(b, a % b)\n",
    "\n",
    "def gcdIterative(a, b):\n",
    "    while b != 0:\n",
    "        a %= b\n",
    "        a, b = b, a\n",
    "    return a\n",
    "\n",
    "print('Recursive: ', gcdRecursive(10, 5))\n",
    "print('Iterative: ', gcdIterative(10, 5))"
   ]
  },
  {
   "cell_type": "markdown",
   "metadata": {},
   "source": [
    "#### Least common multiple\n",
    "\n",
    "Calculating the least common multiple (commonly denoted LCM) can be reduced to calculating the GCD with the following simple formula:\n",
    "\n",
    "$\\text{lcm}(a, b) = \\frac{a \\cdot b}{\\gcd(a, b)}$\n",
    "\n",
    "Thus, LCM can be calculated using the Euclidean algorithm with the same time complexity:\n",
    "\n",
    "Implementation:"
   ]
  },
  {
   "cell_type": "code",
   "execution_count": 4,
   "metadata": {},
   "outputs": [
    {
     "data": {
      "text/plain": [
       "10"
      ]
     },
     "execution_count": 4,
     "metadata": {},
     "output_type": "execute_result"
    }
   ],
   "source": [
    "def lcm(a, b):\n",
    "    return (a * b) // gcdRecursive(a, b)\n",
    "\n",
    "lcm(10, 2)"
   ]
  },
  {
   "cell_type": "markdown",
   "metadata": {},
   "source": [
    "### [Fibonacci Numbers](https://cp-algorithms.com/algebra/fibonacci-numbers.html)\n",
    "\n",
    "he Fibonacci sequence is defined as follows: $F_0 = 0, F_1 = 1, F_n = F_{n-1} + F_{n-2}$\n",
    "\n",
    "The first elements of the sequence are: 0,1,1,2,3,5,8,13,21,34,55,89,...\n",
    "\n",
    "#### Properties\n",
    "\n",
    "Fibonacci numbers possess a lot of interesting properties. Here are a few of them:\n",
    "\n",
    "- Cassini's identity:  $F_{n-1} F_{n+1} - F_n^2 = (-1)^n$\n",
    "\n",
    "- The \"addition\" rule: $F_{n+k} = F_k F_{n+1} + F_{k-1} F_n$\n",
    "\n",
    "- Applying the previous identity to the case k=n, we get: $F_{2n} = F_n (F_{n+1} + F_{n-1})$\n",
    "\n",
    "- From this we can prove by induction that for any positive integer k, $F_{nk}$ is multiple of $F_n$.\n",
    "\n",
    "- The inverse is also true: if $F_m$ is multiple of $F_n$, then m is multiple of n.\n",
    "\n",
    "- GCD identity: $GCD(F_m, F_n) = F_{GCD(m, n)}$\n",
    "\n",
    "- Fibonacci numbers are the worst possible inputs for Euclidean algorithm\n"
   ]
  },
  {
   "cell_type": "markdown",
   "metadata": {},
   "source": [
    "#### Formulas for the n-th Fibonacci number\n",
    "\n",
    "The n-th Fibonacci number can be easily found in O(n) by computing the numbers one by one up to n. However, there are also faster ways, as we will see.\n",
    "\n",
    "- ##### Closed-form expression\n",
    "\n",
    "There is a formula known as \"Binet's formula\", even though it was already known by Moivre: \n",
    "\n",
    "$F_n = \\frac{\\left(\\frac{1 + \\sqrt{5}}{2}\\right)^n - \\left(\\frac{1 - \\sqrt{5}}{2}\\right)^n}{\\sqrt{5}}$\n",
    "\n",
    "You can immediately notice that the second term's absolute value is always less than 1, and it also decreases very rapidly (exponentially). Hence the value of the first term alone is \"almost\" Fn. This can be written strictly as:\n",
    "\n",
    "$F_n = \\left[\\frac{\\left(\\frac{1 + \\sqrt{5}}{2}\\right)^n}{\\sqrt{5}}\\right]$\n",
    "\n",
    "where the square brackets denote rounding to the nearest integer.\n",
    "\n",
    "As these two formulas would require very high accuracy when working with fractional numbers, they are of little use in practical calculations.\n",
    "\n",
    "- ##### Matrix Form\n",
    "\n",
    "It is easy to prove the following relation:\n",
    "\n",
    "$\\begin{pmatrix}F_{n-1} & F_{n} \\cr\\end{pmatrix} = \\begin{pmatrix}F_{n-2} & F_{n-1} \\cr\\end{pmatrix} \\cdot \\begin{pmatrix}0 & 1 \\cr 1 & 1 \\cr\\end{pmatrix}$\n",
    "\n",
    "Denoting $P \\equiv \\begin{pmatrix}0 & 1 \\cr 1 & 1 \\cr\\end{pmatrix}$, we have\n",
    "\n",
    "$\\begin{pmatrix}F_n & F_{n+1} \\cr\\end{pmatrix} = \\begin{pmatrix}F_0 & F_1 \\cr\\end{pmatrix} \\cdot P^n$\n",
    "\n",
    "Thus, in order to find $F_n$, we must raise the matrix P to n. This can be done in O(logn)"
   ]
  },
  {
   "cell_type": "markdown",
   "metadata": {},
   "source": [
    "## Prime Numbers\n",
    "\n",
    "### [Sieve of Eratosthenes](https://cp-algorithms.com/algebra/sieve-of-eratosthenes.html)\n",
    "\n",
    "Sieve of Eratosthenes is an algorithm for finding all the prime numbers in a segment [1;n] using O(nloglogn) operations.\n",
    "\n",
    "The algorithm is very simple: at the beginning we write down all numbers between 2 and n. We mark all proper multiples of 2 (since 2 is the smallest prime number) as composite. A proper multiple of a number x, is a number greater than x and divisible by x. Then we find the next number that hasn't been marked as composite, in this case it is 3. Which means 3 is prime, and we mark all proper multiples of 3 as composite. The next unmarked number is 5, which is the next prime number, and we mark all proper multiples of it. And we continue this procedure until we processed all numbers in the row.\n",
    "\n",
    "<img src=\"https://raw.githubusercontent.com/e-maxx-eng/e-maxx-eng/master/img/sieve_eratosthenes.png\">\n",
    "\n",
    "The idea behind is this: A number is prime, if none of the smaller prime numbers divides it. Since we iterate over the prime numbers in order, we already marked all numbers, who are divisible by at least one of the prime numbers, as divisible. Hence if we reach a cell and it is not marked, then it isn't divisible by any smaller prime number and therefore has to be prime.\n",
    "\n",
    "Implementation:"
   ]
  },
  {
   "cell_type": "code",
   "execution_count": 3,
   "metadata": {},
   "outputs": [
    {
     "data": {
      "text/plain": [
       "[False, False, True, True, False, True, False, True, False, False, False]"
      ]
     },
     "execution_count": 3,
     "metadata": {},
     "output_type": "execute_result"
    }
   ],
   "source": [
    "def sieveOfEratosthenes(n):\n",
    "    is_prime = [True for _ in range(n + 1)]\n",
    "    is_prime[0] = is_prime[1] = False\n",
    "    \n",
    "    for i in range (2, n+1):\n",
    "        if is_prime[i] and i*i <= n:\n",
    "            for j in range(i*i, n+1, i):\n",
    "                is_prime[j] = False\n",
    "    \n",
    "    return is_prime\n",
    "\n",
    "sieveOfEratosthenes(10)"
   ]
  },
  {
   "cell_type": "markdown",
   "metadata": {},
   "source": [
    "This code first marks all numbers except zero and one as potential prime numbers, then it begins the process of sifting composite numbers. For this it iterates over all numbers from 2 to n. If the current number i is a prime number, it marks all numbers that are multiples of i as composite numbers, starting from i2. This is already an optimization over naive way of implementing it, and is allowed as all smaller numbers that are multiples of i necessary also have a prime factor which is less than i, so all of them were already sifted earlier. Since i2 can easily overflow the type int, the additional verification is done using type long long before the second nested loop.\n",
    "\n",
    "Using such implementation the algorithm consumes O(n) of the memory (obviously) and performs O(nloglogn)\n",
    "\n",
    "The biggest weakness of the algorithm is, that it \"walks\" along the memory multiple times, only manipulating single elements. This is not very cache friendly. And because of that, the constant which is concealed in O(nloglogn) is comparably big.\n",
    "\n",
    "Besides, the consumed memory is a bottleneck for big n.\n",
    "\n",
    "#### Sieving till root\n",
    "\n",
    "Obviously, to find all the prime numbers until n, it will be enough just to perform the sifting only by the prime numbers, which do not exceed the root of n.\n"
   ]
  },
  {
   "cell_type": "markdown",
   "metadata": {},
   "source": [
    "### Sieve of Eratosthenes Having Linear Time Complexity\n",
    "\n",
    "The standard way of solving a task is to use the sieve of Eratosthenes. This algorithm is very simple, but it has runtime O(nloglogn).\n",
    "\n",
    "Besides, the algorithm given here calculates factorizations of all numbers in the segment [2;n] as a side effect, and that can be helpful in many practical applications.\n",
    "\n",
    "The weakness of the given algorithm is in using more memory than the classic sieve of Eratosthenes': it requires an array of n numbers, while for the classic sieve of Eratosthenes it is enough to have n bits of memory (which is 32 times less). Thus, it makes sense to use the described algorithm only until for numbers of order 107 and not greater.\n",
    "\n",
    "#### Algorithm\n",
    "\n",
    "Our goal is to calculate minimum prime factor lp[i] for every number i in the segment [2;n].\n",
    "\n",
    "Besides, we need to store the list of all the found prime numbers - let's call it pr[].\n",
    "\n",
    "We'll initialize the values lp[i] with zeros, which means that we assume all numbers are prime. During the algorithm execution this array will be filled gradually.\n",
    "\n",
    "Now we'll go through the numbers from 2 to n. We have two cases for the current number i:\n",
    "\n",
    "- lp[i]=0  - that means that i is prime, i.e. we haven't found any smaller factors for it.\n",
    "Hence, we assign lp[i]=i and add i to the end of the list pr[].\n",
    "\n",
    "- lp[i]≠0 - that means that i is composite, and its minimum prime factor is lp[i].\n",
    "\n",
    "In both cases we update values of lp[] for the numbers that are divisible by i. However, our goal is to learn to do so as to set a value lp[] at most once for every number. We can do it as follows:\n",
    "\n",
    "Let's consider numbers xj=i⋅pj, where pj are all prime numbers less than or equal to lp[i] (this is why we need to store the list of all prime numbers).\n",
    "\n",
    "We'll set a new value lp[xj]=pj for all numbers of this form.\n",
    "\n",
    "Implementation:"
   ]
  },
  {
   "cell_type": "code",
   "execution_count": 6,
   "metadata": {},
   "outputs": [],
   "source": [
    "def sieveOfEratosthenes(n):\n",
    "    lp = [0 for _ in range(n+1)]\n",
    "    pr = []\n",
    "    \n",
    "    for i in range(2, n+1):\n",
    "        if lp[i] == 0:\n",
    "            lp[i] = i\n",
    "            pr.append(i)\n",
    "        \n",
    "        for j in range(len(pr)):\n",
    "            if pr[j] <= lp[i] and i*pr[j] <= n:\n",
    "                break\n",
    "            \n",
    "            l[i*pr[j]] = pr[j]"
   ]
  },
  {
   "cell_type": "markdown",
   "metadata": {},
   "source": [
    "### "
   ]
  }
 ],
 "metadata": {
  "kernelspec": {
   "display_name": "Python 3",
   "language": "python",
   "name": "python3"
  },
  "language_info": {
   "codemirror_mode": {
    "name": "ipython",
    "version": 3
   },
   "file_extension": ".py",
   "mimetype": "text/x-python",
   "name": "python",
   "nbconvert_exporter": "python",
   "pygments_lexer": "ipython3",
   "version": "3.8.5"
  }
 },
 "nbformat": 4,
 "nbformat_minor": 4
}
