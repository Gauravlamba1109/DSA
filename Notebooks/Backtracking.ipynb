{
 "cells": [
  {
   "cell_type": "markdown",
   "metadata": {},
   "source": [
    "# Backtracking\n",
    "\n",
    "\n",
    "\n",
    "### Rat in a Maze"
   ]
  },
  {
   "cell_type": "code",
   "execution_count": 6,
   "metadata": {},
   "outputs": [
    {
     "name": "stdout",
     "output_type": "stream",
     "text": [
      "True\n",
      "[1, 0, 0, 0]\n",
      "[1, 1, 0, 0]\n",
      "[0, 1, 0, 0]\n",
      "[0, 1, 1, 1]\n"
     ]
    }
   ],
   "source": [
    "def ratInMaze(maze, sol, i, j, N):\n",
    "    if i == N-1 and j == N-1:\n",
    "        sol[i][j] = 1\n",
    "        return True\n",
    "    if i < N and j < N and maze[i][j] == 1:\n",
    "        sol[i][j] = 1\n",
    "        if ratInMaze(maze, sol, i+1, j, N):\n",
    "            return True\n",
    "        elif ratInMaze(maze, sol, i, j+1, N):\n",
    "            return True\n",
    "        sol[i][j] = 0\n",
    "    return False\n",
    "\n",
    "N = 4\n",
    "maze = [[1, 0, 0, 0],\n",
    "        [1, 1, 0, 1],\n",
    "        [0, 1, 0, 0],\n",
    "        [1, 1, 1, 1]]\n",
    "sol = [[0 for _ in range(N)] for _ in range(N)]\n",
    "\n",
    "print(ratInMaze(maze, sol, 0, 0, N))\n",
    "for row in sol:\n",
    "    print(row)"
   ]
  },
  {
   "cell_type": "markdown",
   "metadata": {},
   "source": [
    "### N-Queen Problem"
   ]
  },
  {
   "cell_type": "code",
   "execution_count": 15,
   "metadata": {},
   "outputs": [
    {
     "name": "stdout",
     "output_type": "stream",
     "text": [
      "True\n",
      "[0, 0, 1, 0]\n",
      "[1, 0, 0, 0]\n",
      "[0, 0, 0, 1]\n",
      "[0, 1, 0, 0]\n"
     ]
    }
   ],
   "source": [
    "def isSafe(board, row, col, N):\n",
    "    for i in range(col):\n",
    "        if board[row][i]:\n",
    "            return False\n",
    "    \n",
    "    i = row\n",
    "    j = col\n",
    "    while j >= 0 and i >= 0:\n",
    "        if board[i][j]:\n",
    "            return False\n",
    "        i -= 1\n",
    "        j -= 1\n",
    "    \n",
    "    i = row\n",
    "    j = col\n",
    "    while j >= 0 and i < N:\n",
    "        if board[i][j]:\n",
    "            return False\n",
    "        i += 1\n",
    "        j -= 1\n",
    "    \n",
    "    return True\n",
    "\n",
    "def solve(board, col, N):\n",
    "    if col == N:\n",
    "        return True\n",
    "    \n",
    "    for i in range(N):\n",
    "        if isSafe(board, i, col, N):\n",
    "            board[i][col] = 1\n",
    "            if solve(board, col+1, N):\n",
    "                return True\n",
    "            board[i][col] = 0\n",
    "    \n",
    "    return False\n",
    "\n",
    "def NQueen(N):\n",
    "    board = [[0 for _ in range(N)] for _ in range(N)]\n",
    "    print(solve(board, 0, N))\n",
    "    for row in board:\n",
    "        print(row)\n",
    "        \n",
    "NQueen(4)"
   ]
  },
  {
   "cell_type": "markdown",
   "metadata": {},
   "source": [
    "### Sudoku"
   ]
  },
  {
   "cell_type": "code",
   "execution_count": 5,
   "metadata": {},
   "outputs": [
    {
     "data": {
      "text/plain": [
       "[['5', '3', '4', '6', '7', '8', '9', '1', '2'],\n",
       " ['6', '7', '2', '1', '9', '5', '3', '4', '8'],\n",
       " ['1', '9', '8', '3', '4', '2', '5', '6', '7'],\n",
       " ['8', '5', '9', '7', '6', '1', '4', '2', '3'],\n",
       " ['4', '2', '6', '8', '5', '3', '7', '9', '1'],\n",
       " ['7', '1', '3', '9', '2', '4', '8', '5', '6'],\n",
       " ['9', '6', '1', '5', '3', '7', '2', '8', '4'],\n",
       " ['2', '8', '7', '4', '1', '9', '6', '3', '5'],\n",
       " ['3', '4', '5', '2', '8', '6', '1', '7', '9']]"
      ]
     },
     "execution_count": 5,
     "metadata": {},
     "output_type": "execute_result"
    }
   ],
   "source": [
    "def findEmpty(grid):\n",
    "    for i in range(9):\n",
    "        for j in range(9):\n",
    "            if grid[i][j] == '.':\n",
    "                return i, j\n",
    "    return 9, 9\n",
    "\n",
    "def isValid(grid, i, j, num):\n",
    "    for row in range(9):\n",
    "        if grid[row][j] == num:\n",
    "            return False\n",
    "\n",
    "    for col in range(9):\n",
    "        if grid[i][col] == num:\n",
    "            return False\n",
    "\n",
    "    rowStart = i // 3\n",
    "    colStart = j // 3\n",
    "\n",
    "    for row in range(rowStart * 3, rowStart * 3 + 3):\n",
    "        for col in range(colStart * 3, colStart * 3 +3):\n",
    "            if grid[row][col] == num:\n",
    "                return False\n",
    "\n",
    "    return True\n",
    "\n",
    "def sudoku(grid):\n",
    "    i, j = findEmpty(grid)\n",
    "\n",
    "    if i == 9 and j == 9:\n",
    "        return True\n",
    "\n",
    "    for num in '123456789':\n",
    "        if isValid(grid, i, j, num):\n",
    "            grid[i][j] = num\n",
    "\n",
    "            if sudoku(grid):\n",
    "                return True\n",
    "\n",
    "            grid[i][j] = '.'\n",
    "\n",
    "    return False\n",
    "\n",
    "def solveSudoku(grid):\n",
    "    if not sudoku(grid):\n",
    "        print('Cannot be solved')\n",
    "    else:\n",
    "        return grid\n",
    "    \n",
    "board = [[\"5\",\"3\",\".\",\".\",\"7\",\".\",\".\",\".\",\".\"],\n",
    "         [\"6\",\".\",\".\",\"1\",\"9\",\"5\",\".\",\".\",\".\"],\n",
    "         [\".\",\"9\",\"8\",\".\",\".\",\".\",\".\",\"6\",\".\"],\n",
    "         [\"8\",\".\",\".\",\".\",\"6\",\".\",\".\",\".\",\"3\"],\n",
    "         [\"4\",\".\",\".\",\"8\",\".\",\"3\",\".\",\".\",\"1\"],\n",
    "         [\"7\",\".\",\".\",\".\",\"2\",\".\",\".\",\".\",\"6\"],\n",
    "         [\".\",\"6\",\".\",\".\",\".\",\".\",\"2\",\"8\",\".\"],\n",
    "         [\".\",\".\",\".\",\"4\",\"1\",\"9\",\".\",\".\",\"5\"],\n",
    "         [\".\",\".\",\".\",\".\",\"8\",\".\",\".\",\"7\",\"9\"]]\n",
    "\n",
    "solveSudoku(board)"
   ]
  }
 ],
 "metadata": {
  "kernelspec": {
   "display_name": "Python 3 (ipykernel)",
   "language": "python",
   "name": "python3"
  },
  "language_info": {
   "codemirror_mode": {
    "name": "ipython",
    "version": 3
   },
   "file_extension": ".py",
   "mimetype": "text/x-python",
   "name": "python",
   "nbconvert_exporter": "python",
   "pygments_lexer": "ipython3",
   "version": "3.8.5"
  }
 },
 "nbformat": 4,
 "nbformat_minor": 4
}
