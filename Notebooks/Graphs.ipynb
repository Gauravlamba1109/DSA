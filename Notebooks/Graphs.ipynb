{
 "cells": [
  {
   "cell_type": "markdown",
   "metadata": {},
   "source": [
    "# Graphs\n",
    "\n",
    "- [Graph Implementation using Matrix](#Graph-Implementation-using-Matrix)\n",
    "- [Graph Implementation using List](#Graph-Implementation-using-List)\n",
    "- [Breadth First Search](#Breadth-First-Search)\n",
    "- [Depth First Search](#Depth-First-Search)\n",
    "- [Cycle Detection in Undirected Graph using BFS](#Cycle-Detection-in-Undirected-Graph-using-BFS)\n",
    "- [Cycle Detection in Undirected Graph using DFS](#Cycle-Detection-in-Undirected-Graph-using-DFS)\n",
    "- [Bipartitie Graph using BFS](#Bipartitie-Graph-using-BFS)\n",
    "- [Bipartitie Graph using DFS](#Bipartitie-Graph-using-DFS)\n",
    "- [Cycle Detection in Directed Graph using DFS](#Cycle-Detection-in-Directed-Graph-using-DFS)\n",
    "- [Topological Sort using DFS](#Topological-Sort-using-DFS)\n",
    "- [Topological Sort using BFS or Kahn's Algorithm](#Topological-Sort-using-BFS-or-Kahn's-Algorithm)\n",
    "- [Cycle Detection in Directed Graph using BFS](#Cycle-Detection-in-Directed-Graph-using-BFS)\n",
    "- [Shortest path in a weighted directed acyclic graph using TopoSort (DAG)](#Shortest-path-in-a-weighted-directed-acyclic-graph-using-TopoSort-(DAG))\n",
    "- [Dijksra's Algorithm](#Dijksra's-Algorithm)\n",
    "- [Prim's Algorithm](#Prim's-Algorithm)\n",
    "- [Disjoint Sets](#Disjoint-Sets)\n",
    "- [Kruskal's Algorithm](#Kruskal's-Algorithm)\n",
    "- [Bridges in Graphs](#Bridges-in-Graphs)\n",
    "- [Articulation Point](#Articulation-Point)\n",
    "- [Kosaraju's Algorithm](#Kosaraju's-Algorithm)\n",
    "- [Bellman Ford Algorithm](#Bellman-Ford-Algorithm)\n",
    "\n",
    "## Graph Implementation using Matrix"
   ]
  },
  {
   "cell_type": "code",
   "execution_count": 1,
   "metadata": {},
   "outputs": [],
   "source": [
    "class GraphMatrix:\n",
    "    def __init__(self, vertex, directed):\n",
    "        self.graph = [[0] * vertex for _ in range(vertex)]\n",
    "        self.vertex = vertex\n",
    "        self.directed = directed\n",
    "        \n",
    "    def add_edge(self, from_vertex, to_vertex):\n",
    "        self.graph[from_vertex - 1][to_vertex - 1] = 1\n",
    "        \n",
    "        if not self.directed:\n",
    "            self.graph[to_vertex - 1][from_vertex - 1] = 1\n",
    "    \n",
    "    def show(self):\n",
    "        print(\" \", end=\" \")\n",
    "        for i in range(1, self.vertex + 1):\n",
    "            print(i, end=\" \")\n",
    "        print()\n",
    "        for i in range(1, self.vertex + 1):\n",
    "            print(i, end=\" \")\n",
    "            for j in range(1, self.vertex + 1):\n",
    "                print(self.graph[i-1][j-1], end=\" \")\n",
    "            print()"
   ]
  },
  {
   "cell_type": "code",
   "execution_count": 2,
   "metadata": {},
   "outputs": [
    {
     "name": "stdout",
     "output_type": "stream",
     "text": [
      "  1 2 3 4 5 6 7 8 9 10 11 \n",
      "1 0 1 0 0 0 0 0 0 0 0 0 \n",
      "2 1 0 0 1 0 0 0 0 0 0 0 \n",
      "3 0 0 0 0 1 0 0 0 0 0 0 \n",
      "4 0 1 0 0 0 0 0 0 0 0 0 \n",
      "5 0 0 1 0 0 1 0 0 0 1 0 \n",
      "6 0 0 0 0 1 0 1 0 0 0 0 \n",
      "7 0 0 0 0 0 1 0 1 0 0 0 \n",
      "8 0 0 0 0 0 0 1 0 1 0 0 \n",
      "9 0 0 0 0 0 0 0 1 0 1 1 \n",
      "10 0 0 0 0 1 0 0 0 1 0 0 \n",
      "11 0 0 0 0 0 0 0 0 1 0 0 \n"
     ]
    }
   ],
   "source": [
    "graph = GraphMatrix(11, False)\n",
    "\n",
    "graph.add_edge(1, 2)\n",
    "graph.add_edge(2, 4)\n",
    "graph.add_edge(3, 5)\n",
    "graph.add_edge(5, 10)\n",
    "graph.add_edge(5, 6)\n",
    "graph.add_edge(6, 7)\n",
    "graph.add_edge(7, 8)\n",
    "graph.add_edge(8, 9)\n",
    "graph.add_edge(9, 11)\n",
    "graph.add_edge(9, 10)\n",
    "graph.show()"
   ]
  },
  {
   "cell_type": "markdown",
   "metadata": {},
   "source": [
    "## Graph Implementation using List"
   ]
  },
  {
   "cell_type": "code",
   "execution_count": 3,
   "metadata": {},
   "outputs": [],
   "source": [
    "class GraphList:\n",
    "    def __init__(self, directed, weighted):\n",
    "        self.adj_list = dict()\n",
    "        self.directed = directed\n",
    "        self.weighted = weighted\n",
    "        \n",
    "    def add_edge(self, from_vertex, to_vertex, weight=None):\n",
    "        if self.weighted:\n",
    "            temp = [to_vertex, weight]\n",
    "        else:\n",
    "            temp = to_vertex\n",
    "            \n",
    "        if from_vertex in self.adj_list:\n",
    "            self.adj_list[from_vertex].append(temp)\n",
    "        else:\n",
    "            self.adj_list[from_vertex] = [temp]\n",
    "            \n",
    "        if to_vertex not in self.adj_list:\n",
    "            self.adj_list[to_vertex] = []\n",
    "            \n",
    "        if not self.directed:\n",
    "            if self.weighted:\n",
    "                temp = [from_vertex, weight]\n",
    "            else:\n",
    "                temp = from_vertex\n",
    "                \n",
    "            self.adj_list[to_vertex].append(temp)\n",
    "            \n",
    "    def print_graph(self):\n",
    "        for key in range(len(self.adj_list)):\n",
    "            print(key, \"-->\", self.adj_list[key])\n",
    "            \n",
    "    def __len__(self):\n",
    "        return len(self.adj_list)\n",
    "    \n",
    "    def __getitem__(self, atr):\n",
    "        return self.adj_list[atr]\n"
   ]
  },
  {
   "cell_type": "code",
   "execution_count": 4,
   "metadata": {},
   "outputs": [
    {
     "name": "stdout",
     "output_type": "stream",
     "text": [
      "0 --> [[1, 2]]\n",
      "1 --> [[3, 5]]\n",
      "2 --> [[4, 1]]\n",
      "3 --> [[4, 0]]\n",
      "4 --> [[9, 6], [5, 4]]\n",
      "5 --> [[2, 2], [6, 8]]\n",
      "6 --> [[7, 3]]\n",
      "7 --> [[8, 3], [10, 1]]\n",
      "8 --> [[9, 1]]\n",
      "9 --> [[10, 2]]\n",
      "10 --> []\n"
     ]
    }
   ],
   "source": [
    "# graph = GraphList(False, False) # Undirected\n",
    "graph = GraphList(True, False) # Directed\n",
    "\n",
    "# graph.add_edge(0, 1)\n",
    "# graph.add_edge(1, 2)\n",
    "# graph.add_edge(2, 3)\n",
    "# graph.add_edge(3, 4)\n",
    "# graph.add_edge(4, 5)\n",
    "# graph.add_edge(5, 6)\n",
    "# graph.add_edge(7, 3)\n",
    "\n",
    "graph = GraphList(True, True) # Directed and Weighted for shorted distance\n",
    "graph.add_edge(0, 1, 2)\n",
    "graph.add_edge(1, 3, 5)\n",
    "graph.add_edge(5, 2, 2)\n",
    "graph.add_edge(2, 4, 1)\n",
    "graph.add_edge(4, 9, 6)\n",
    "graph.add_edge(3, 4, 0)\n",
    "graph.add_edge(4, 5, 4)\n",
    "graph.add_edge(5, 6, 8)\n",
    "graph.add_edge(6, 7, 3)\n",
    "graph.add_edge(7, 8, 3)\n",
    "graph.add_edge(9, 10, 2)\n",
    "graph.add_edge(7, 10, 1)\n",
    "graph.add_edge(8, 9, 1)\n",
    "# graph.add_edge(8, 10, 3) # To check for Bipartitie Graph false case\n",
    "\n",
    "graph.print_graph()"
   ]
  },
  {
   "cell_type": "markdown",
   "metadata": {},
   "source": [
    "## [Breadth First Search](https://www.geeksforgeeks.org/breadth-first-search-or-bfs-for-a-graph/)\n",
    "\n",
    "Breadth-first search (BFS) is an algorithm for traversing or searching tree or graph data structures. It starts at the tree root (or some arbitrary node of a graph, sometimes referred to as a 'search key'[1]), and explores all of the neighbor nodes at the present depth prior to moving on to the nodes at the next depth level.\n",
    "\n",
    "To avoid processing a node more than once, we use a boolean visited array. For simplicity, it is assumed that all vertices are reachable from the starting vertex. \n",
    "\n",
    "Time Complexity: O(V+E) where V is number of vertices in the graph and E is number of edges in the graph."
   ]
  },
  {
   "cell_type": "code",
   "execution_count": 5,
   "metadata": {},
   "outputs": [
    {
     "data": {
      "text/plain": [
       "[0, 1, 3, 4, 9, 5, 10, 2, 6, 7, 8]"
      ]
     },
     "execution_count": 5,
     "metadata": {},
     "output_type": "execute_result"
    }
   ],
   "source": [
    "def breadthFirstSearch(graph):\n",
    "    num_nodes = len(graph)\n",
    "    vis = [0 for _ in range(num_nodes)]\n",
    "    storeBFS = []\n",
    "    \n",
    "    for ele in range(num_nodes):\n",
    "        if vis[ele] == 0:\n",
    "            queue = [ele]\n",
    "            storeBFS.append(ele)\n",
    "            vis[ele] = 1\n",
    "            \n",
    "            while len(queue) > 0:\n",
    "                node = queue.pop(0)\n",
    "                \n",
    "                for ver, weight in graph[node]:\n",
    "                    if vis[ver] == 0:\n",
    "                        vis[ver] = 1\n",
    "                        storeBFS.append(ver)\n",
    "                        queue.append(ver)\n",
    "    return storeBFS\n",
    "\n",
    "breadthFirstSearch(graph)"
   ]
  },
  {
   "cell_type": "markdown",
   "metadata": {},
   "source": [
    "## [Depth First Search](https://www.geeksforgeeks.org/depth-first-search-or-dfs-for-a-graph/)\n",
    "\n",
    "Depth-first search (DFS) is an algorithm for traversing or searching tree or graph data structures. The algorithm starts at the root node (selecting some arbitrary node as the root node in the case of a graph) and explores as far as possible along each branch before backtracking.\n",
    "\n",
    "```\n",
    "Time complexity: O(V + E), where V is the number of vertices and E is the number of edges in the graph.\n",
    "Space Complexity: O(V). \n",
    "Since, an extra visited array is needed of size V.\n",
    "```"
   ]
  },
  {
   "cell_type": "code",
   "execution_count": 6,
   "metadata": {},
   "outputs": [
    {
     "data": {
      "text/plain": [
       "[0, 1, 3, 4, 9, 10, 5, 2, 6, 7, 8]"
      ]
     },
     "execution_count": 6,
     "metadata": {},
     "output_type": "execute_result"
    }
   ],
   "source": [
    "def dfs(ele, vis, storeDFS, graph):\n",
    "    storeDFS.append(ele)\n",
    "    vis[ele] = 1\n",
    "    \n",
    "    for node, weight in graph[ele]:\n",
    "        if vis[node] == 0:\n",
    "            dfs(node, vis, storeDFS, graph)\n",
    "\n",
    "def depthFirstSearch(graph):\n",
    "    num_nodes = len(graph)\n",
    "    vis = [0 for _ in range(num_nodes)]\n",
    "    storeDFS = []\n",
    "    \n",
    "    for ele in range(num_nodes):\n",
    "        if vis[ele] == 0:\n",
    "            dfs(ele, vis, storeDFS, graph)\n",
    "    \n",
    "    return storeDFS\n",
    "\n",
    "depthFirstSearch(graph)"
   ]
  },
  {
   "cell_type": "markdown",
   "metadata": {},
   "source": [
    "## [Cycle Detection in Undirected Graph using BFS](https://www.geeksforgeeks.org/detect-cycle-in-an-undirected-graph-using-bfs/)\n",
    "\n",
    "We do a BFS traversal of the given graph. For every visited vertex ‘v’, if there is an adjacent ‘u’ such that u is already visited and u is not a parent of v, then there is a cycle in the graph. If we don’t find such an adjacent for any vertex, we say that there is no cycle. \n",
    "\n",
    "Time Complexity: The program does a simple BFS Traversal of graph and graph is represented using adjacency list. So the time complexity is O(V+E)"
   ]
  },
  {
   "cell_type": "code",
   "execution_count": 7,
   "metadata": {},
   "outputs": [
    {
     "data": {
      "text/plain": [
       "True"
      ]
     },
     "execution_count": 7,
     "metadata": {},
     "output_type": "execute_result"
    }
   ],
   "source": [
    "def checkForCycleBFS(node, graph, vis):\n",
    "    vis[node] = 1\n",
    "    \n",
    "    queue = [(node, -1)] # [current_node, parent of the node (-1 if no parent)]\n",
    "    \n",
    "    while queue:\n",
    "        ver, parent = queue.pop(0)\n",
    "        \n",
    "        for ele, weight in graph[ver]:\n",
    "            if vis[ele] == 0:\n",
    "                queue.append((ele, ver))\n",
    "                vis[ele] = 1\n",
    "            elif ele != parent:\n",
    "                return True\n",
    "    \n",
    "    return False\n",
    "\n",
    "def haveCycleBFS(graph):\n",
    "    vis = [0 for _ in range(len(graph))]\n",
    "    \n",
    "    for node in range(len(graph)):\n",
    "        if vis[node] == 0:\n",
    "            if checkForCycleBFS(node, graph, vis):\n",
    "                return True\n",
    "    \n",
    "    return False\n",
    "\n",
    "haveCycleBFS(graph)"
   ]
  },
  {
   "cell_type": "markdown",
   "metadata": {},
   "source": [
    "## [Cycle Detection in Undirected Graph using DFS](https://www.geeksforgeeks.org/detect-cycle-undirected-graph/)\n",
    "\n",
    "Run a DFS from every unvisited node. Depth First Traversal can be used to detect a cycle in a Graph. DFS for a connected graph produces a tree. There is a cycle in a graph only if there is a back edge present in the graph. A back edge is an edge that is joining a node to itself (self-loop) or one of its ancestor in the tree produced by DFS. \n",
    "\n",
    "To find the back edge to any of its ancestor keep a visited array and if there is a back edge to any visited node then there is a loop and return true.\n",
    "\n",
    "```\n",
    "Complexity Analysis: \n",
    "\n",
    "Time Complexity: O(V+E). \n",
    "The program does a simple DFS Traversal of the graph which is represented using adjacency list. So the time complexity is O(V+E).\n",
    "\n",
    "Space Complexity: O(V). \n",
    "To store the visited array O(V) space is required.\n",
    "```"
   ]
  },
  {
   "cell_type": "code",
   "execution_count": 8,
   "metadata": {},
   "outputs": [
    {
     "data": {
      "text/plain": [
       "True"
      ]
     },
     "execution_count": 8,
     "metadata": {},
     "output_type": "execute_result"
    }
   ],
   "source": [
    "def checkForCycleDFS(node, parent, graph, vis):\n",
    "    vis[node] = 1\n",
    "    \n",
    "    for ver, weight in graph[node]:\n",
    "        if vis[ver] == 0:\n",
    "            if checkForCycleDFS(ver, node, graph, vis):\n",
    "                return True\n",
    "        elif ver != parent:\n",
    "            return True\n",
    "    \n",
    "    return False\n",
    "\n",
    "def haveCycleDFS(graph):\n",
    "    vis = [0 for _ in range(len(graph))]\n",
    "    \n",
    "    for node in range(len(graph)):\n",
    "        if vis[node] == 0:\n",
    "            if checkForCycleDFS(node, -1, graph, vis):\n",
    "                return True\n",
    "        \n",
    "    return False\n",
    "\n",
    "haveCycleDFS(graph)"
   ]
  },
  {
   "cell_type": "markdown",
   "metadata": {},
   "source": [
    "## [Bipartitie Graph using BFS](https://www.geeksforgeeks.org/bipartite-graph/)\n",
    "\n",
    "A Bipartite Graph is a graph whose vertices can be divided into two independent sets, U and V such that every edge (u, v) either connects a vertex from U to V or a vertex from V to U. In other words, for every edge (u, v), either u belongs to U and v to V, or u belongs to V and v to U. We can also say that there is no edge that connects vertices of same set.\n",
    "\n",
    "A bipartite graph is possible if the graph coloring is possible using two colors such that vertices in a set are colored with the same color. Note that it is possible to color a cycle graph with even cycle using two colors.\n",
    "\n",
    "It is not possible to color a cycle graph with odd cycle using two colors."
   ]
  },
  {
   "cell_type": "code",
   "execution_count": 9,
   "metadata": {},
   "outputs": [
    {
     "data": {
      "text/plain": [
       "False"
      ]
     },
     "execution_count": 9,
     "metadata": {},
     "output_type": "execute_result"
    }
   ],
   "source": [
    "def checkBipartiteGraphBFS(node, graph, color):\n",
    "    color[node] = 0\n",
    "    queue = [node]\n",
    "    \n",
    "    while queue:\n",
    "        node_temp = queue.pop(0)\n",
    "        \n",
    "        for node_itr, weight_itr in graph[node_temp]:\n",
    "            if color[node_itr] == -1:\n",
    "                color[node_itr] = 1 - color[node_temp]\n",
    "                queue.append(node_itr)\n",
    "            elif color[node_itr] == color[node_temp]:\n",
    "                return False\n",
    "    \n",
    "    return True\n",
    "\n",
    "def colorGraphBFS(graph):\n",
    "    color = [-1 for _ in range(len(graph))]\n",
    "    \n",
    "    for node in range(len(graph)):\n",
    "        if color[node] == -1:\n",
    "            if not checkBipartiteGraphBFS(node, graph, color):\n",
    "                return False\n",
    "    \n",
    "    return color\n",
    "\n",
    "colorGraphBFS(graph)"
   ]
  },
  {
   "cell_type": "markdown",
   "metadata": {},
   "source": [
    "## [Bipartitie Graph using DFS](https://www.geeksforgeeks.org/check-if-a-given-graph-is-bipartite-using-dfs/)"
   ]
  },
  {
   "cell_type": "code",
   "execution_count": 10,
   "metadata": {},
   "outputs": [
    {
     "data": {
      "text/plain": [
       "False"
      ]
     },
     "execution_count": 10,
     "metadata": {},
     "output_type": "execute_result"
    }
   ],
   "source": [
    "def checkBipartiteGraphDFS(node, parent_color, graph, color):\n",
    "    color[node] = 1 - parent_color\n",
    "    \n",
    "    for node_itr, weight_itr in graph[node]:\n",
    "        if color[node_itr] == -1:\n",
    "            if not checkBipartiteGraphDFS(node_itr, color[node], graph, color):\n",
    "                return False\n",
    "        elif color[node_itr] == color[node]:\n",
    "            return False\n",
    "    \n",
    "    return True\n",
    "\n",
    "def colorGraphDFS(graph):\n",
    "    color = [-1 for _ in range(len(graph))]\n",
    "    \n",
    "    for node in range(len(graph)):\n",
    "        if color[node] == -1:\n",
    "            if not checkBipartiteGraphDFS(node, 1, graph, color):\n",
    "                return False\n",
    "    \n",
    "    return color\n",
    "\n",
    "colorGraphDFS(graph)"
   ]
  },
  {
   "cell_type": "markdown",
   "metadata": {},
   "source": [
    "## [Cycle Detection in Directed Graph using DFS](https://www.geeksforgeeks.org/detect-cycle-in-a-graph/)"
   ]
  },
  {
   "cell_type": "code",
   "execution_count": 11,
   "metadata": {},
   "outputs": [
    {
     "data": {
      "text/plain": [
       "True"
      ]
     },
     "execution_count": 11,
     "metadata": {},
     "output_type": "execute_result"
    }
   ],
   "source": [
    "def checkCycleDirectedDFS(node, graph, vis, dfs_vis): \n",
    "    vis[node] = 1\n",
    "    dfs_vis[node] = 1\n",
    "    \n",
    "    for node_itr, weight_itr in graph[node]:\n",
    "        if vis[node_itr] == 0:\n",
    "            if checkCycleDirectedDFS(node_itr, graph, vis, dfs_vis):\n",
    "                return True\n",
    "        elif dfs_vis[node_itr] == 1:\n",
    "            return True\n",
    "    dfs_vis[node] = 0\n",
    "    \n",
    "    return False\n",
    "\n",
    "def haveCycleDirectedDFS(graph):\n",
    "    vis = [0 for _ in range(len(graph))]\n",
    "    dfs_vis = [0 for _ in range(len(graph))]\n",
    "    \n",
    "    for node in range(len(graph)):\n",
    "        if vis[node] == 0:\n",
    "            if checkCycleDirectedDFS(node, graph, vis, dfs_vis):\n",
    "                return True\n",
    "    \n",
    "    return False\n",
    "\n",
    "haveCycleDirectedDFS(graph)"
   ]
  },
  {
   "cell_type": "markdown",
   "metadata": {},
   "source": [
    "## [Topological Sort using DFS](https://www.geeksforgeeks.org/topological-sorting/)\n",
    "\n",
    "Topological sorting for Directed Acyclic Graph (DAG) is a linear ordering of vertices such that for every directed edge u v, vertex u comes before v in the ordering. Topological Sorting for a graph is not possible if the graph is not a DAG.\n",
    "\n",
    "For example, a topological sorting of the following graph is “5 4 2 3 1 0”. There can be more than one topological sorting for a graph. For example, another topological sorting of the following graph is “4 5 2 3 1 0”. The first vertex in topological sorting is always a vertex with in-degree as 0 (a vertex with no incoming edges).\n",
    "\n",
    "n DFS, we print a vertex and then recursively call DFS for its adjacent vertices. In topological sorting, we need to print a vertex before its adjacent vertices. For example, in the given graph, the vertex ‘5’ should be printed before vertex ‘0’, but unlike DFS, the vertex ‘4’ should also be printed before vertex ‘0’. So Topological sorting is different from DFS. For example, a DFS of the shown graph is “5 2 3 1 0 4”, but it is not a topological sorting.\n",
    "\n",
    "In topological sorting, we use a temporary stack. We don’t print the vertex immediately, we first recursively call topological sorting for all its adjacent vertices, then push it to a stack. Finally, print contents of the stack. Note that a vertex is pushed to stack only when all of its adjacent vertices (and their adjacent vertices and so on) are already in the stack. \n",
    "\n",
    "```\n",
    "Complexity Analysis: \n",
    "\n",
    "Time Complexity: O(V+E). \n",
    "The above algorithm is simply DFS with an extra stack. So time complexity is the same as DFS which is.\n",
    "\n",
    "Auxiliary space: O(V). \n",
    "The extra space is needed for the stack.\n",
    "\n",
    "```"
   ]
  },
  {
   "cell_type": "code",
   "execution_count": 12,
   "metadata": {},
   "outputs": [
    {
     "data": {
      "text/plain": [
       "[0, 1, 3, 4, 5, 6, 7, 8, 2, 9, 10]"
      ]
     },
     "execution_count": 12,
     "metadata": {},
     "output_type": "execute_result"
    }
   ],
   "source": [
    "def toposortDFS_helper(node, graph, vis, stack):\n",
    "    vis[node] = 1\n",
    "    \n",
    "    for node_itr, weight_itr in graph[node]:\n",
    "            \n",
    "        if vis[node_itr] == 0:\n",
    "            toposortDFS_helper(node_itr, graph, vis, stack)\n",
    "        \n",
    "    stack.append(node)\n",
    "\n",
    "def topologicalSortDFS(graph): \n",
    "    stack = []\n",
    "    vis = [0 for _ in range(len(graph))]\n",
    "    \n",
    "    for node in range(len(graph)):\n",
    "        if vis[node] == 0:\n",
    "            toposortDFS_helper(node, graph, vis, stack)\n",
    "    \n",
    "    return stack[::-1]\n",
    "\n",
    "topologicalSortDFS(graph)"
   ]
  },
  {
   "cell_type": "markdown",
   "metadata": {},
   "source": [
    "## [Topological Sort using BFS or Kahn's Algorithm](https://www.geeksforgeeks.org/topological-sorting-indegree-based-solution/)\n",
    "\n",
    "A DAG G has at least one vertex with in-degree 0 and one vertex with out-degree 0.\n",
    "Proof: There’s a simple proof to the above fact is that a DAG does not contain a cycle which means that all paths will be of finite length. Now let S be the longest path from u(source) to v(destination). Since S is the longest path there can be no incoming edge to u and no outgoing edge from v, if this situation had occurred then S would not have been the longest path\n",
    "\n",
    "=> indegree(u) = 0 and outdegree(v) = 0\n",
    "\n",
    "Time complexity for findIndegree function\n",
    "\n",
    "```\n",
    "Time Complexity: The outer for loop will be executed V number of times and the inner for loop will be executed E number of times, Thus overall time complexity is O(V+E).\n",
    "\n",
    "The overall time complexity of the algorithm is O(V+E)\n",
    "```\n",
    "\n",
    "Overall Time and Space complexity\n",
    "\n",
    "```\n",
    "Complexity Analysis:\n",
    "\n",
    "Time Complexity: O(V+E).\n",
    "The outer for loop will be executed V number of times and the inner for loop will be executed E number of times.\n",
    "\n",
    "Auxillary Space: O(V).\n",
    "The queue needs to store all the vertices of the graph. So the space required is O(V)\n",
    "```"
   ]
  },
  {
   "cell_type": "code",
   "execution_count": 13,
   "metadata": {},
   "outputs": [
    {
     "data": {
      "text/plain": [
       "[0, 1, 3]"
      ]
     },
     "execution_count": 13,
     "metadata": {},
     "output_type": "execute_result"
    }
   ],
   "source": [
    "def findIndegree(graph):\n",
    "    in_degree = [0 for _ in range(len(graph))]\n",
    "    \n",
    "    for node in range(len(graph)):\n",
    "        for node_itr, weight_itr in graph[node]:\n",
    "            in_degree[node_itr] += 1\n",
    "            \n",
    "    return in_degree\n",
    "\n",
    "def topologicalSortBFS(graph):\n",
    "    topo = []\n",
    "    in_degree = findIndegree(graph)\n",
    "    queue = []\n",
    "    \n",
    "    for node_itr in range(len(graph)):\n",
    "        if in_degree[node_itr] == 0:\n",
    "            queue.append(node_itr)\n",
    "            \n",
    "    while queue:\n",
    "        node = queue.pop(0)\n",
    "        topo.append(node)\n",
    "        \n",
    "        for node_itr, weight_itr in graph[node]:\n",
    "            in_degree[node_itr] -= 1\n",
    "            if in_degree[node_itr] == 0:\n",
    "                queue.append(node_itr)\n",
    "        \n",
    "    return topo\n",
    "\n",
    "topologicalSortBFS(graph)"
   ]
  },
  {
   "cell_type": "markdown",
   "metadata": {},
   "source": [
    "## [Cycle Detection in Directed Graph using BFS](https://www.geeksforgeeks.org/detect-cycle-in-a-directed-graph-using-bfs/)\n",
    "\n",
    "The idea is to simply use Kahn’s algorithm for Topological Sorting.\n",
    "\n",
    "Time Complexity : O(V+E)"
   ]
  },
  {
   "cell_type": "code",
   "execution_count": 14,
   "metadata": {},
   "outputs": [
    {
     "data": {
      "text/plain": [
       "True"
      ]
     },
     "execution_count": 14,
     "metadata": {},
     "output_type": "execute_result"
    }
   ],
   "source": [
    "def haveCycleDirectedBFS(graph):\n",
    "    in_degree = findIndegree(graph)\n",
    "    queue = []\n",
    "    \n",
    "    for node_itr in range(len(graph)):\n",
    "        if in_degree[node_itr] == 0:\n",
    "            queue.append(node_itr)\n",
    "        \n",
    "    count = 0\n",
    "    while queue:\n",
    "        node = queue.pop(0)\n",
    "        count += 1\n",
    "        \n",
    "        for node_itr, weight_itr in graph[node]:\n",
    "            in_degree[node_itr] -= 1\n",
    "            if in_degree[node_itr] == 0:\n",
    "                queue.append(node_itr)\n",
    "                \n",
    "    if count == len(graph):\n",
    "        return False\n",
    "    return True\n",
    "haveCycleDirectedBFS(graph)"
   ]
  },
  {
   "cell_type": "markdown",
   "metadata": {},
   "source": [
    "## [Shortest path in a weighted directed acyclic graph using TopoSort (DAG)](https://www.geeksforgeeks.org/shortest-path-for-directed-acyclic-graphs/)\n",
    "\n",
    "We initialize distances to all vertices as infinite and distance to source as 0, then we find a topological sorting of the graph. Topological Sorting of a graph represents a linear ordering of the graph (See below, figure (b) is a linear representation of figure (a) ). Once we have topological order (or linear representation), we one by one process all vertices in topological order. For every vertex being processed, we update distances of its adjacent using distance of current vertex.\n",
    "\n",
    "Time Complexity: Time complexity of topological sorting is O(V+E). After finding topological order, the algorithm process all vertices and for every vertex, it runs a loop for all adjacent vertices. Total adjacent vertices in a graph is O(E). So the inner loop runs O(V+E) times. Therefore, overall time complexity of this algorithm is O(V+E)."
   ]
  },
  {
   "cell_type": "code",
   "execution_count": 15,
   "metadata": {},
   "outputs": [
    {
     "data": {
      "text/plain": [
       "[0, 2, 13, 7, 7, 11, 19, 22, 25, 13, 15]"
      ]
     },
     "execution_count": 15,
     "metadata": {},
     "output_type": "execute_result"
    }
   ],
   "source": [
    "def shortestDistanceTopoSort(graph, source):\n",
    "    topoSort = topologicalSortDFS(graph)\n",
    "    \n",
    "    distance = [float('inf') for _ in range(len(graph))]\n",
    "    distance[source] = 0\n",
    "    \n",
    "    for node in topoSort:\n",
    "        if distance[node] != float('inf'):\n",
    "            for node_itr, weight in graph[node]:\n",
    "                distance[node_itr] = min(weight + distance[node], distance[node_itr])\n",
    "    \n",
    "    return distance\n",
    "\n",
    "shortestDistanceTopoSort(graph, 0)"
   ]
  },
  {
   "cell_type": "markdown",
   "metadata": {},
   "source": [
    "## [Dijksra's Algorithm](https://www.geeksforgeeks.org/dijkstras-shortest-path-algorithm-greedy-algo-7/)\n",
    "\n",
    "We maintain two sets, one set contains vertices included in shortest path tree, other set includes vertices not yet included in shortest path tree. At every step of the algorithm, we find a vertex which is in the other set (set of not yet included) and has a minimum distance from the source.\n",
    "\n",
    "Time Complexity of the implementation is O(V^2). If the input graph is represented using adjacency list, it can be reduced to O(E log V) with the help of binary heap. \n",
    "\n",
    "Dijkstra’s algorithm doesn’t work for graphs with negative weight cycles, it may give correct results for a graph with negative edges."
   ]
  },
  {
   "cell_type": "code",
   "execution_count": 16,
   "metadata": {},
   "outputs": [
    {
     "data": {
      "text/plain": [
       "[0, 2, 13, 7, 7, 11, 19, 22, 25, 13, 15]"
      ]
     },
     "execution_count": 16,
     "metadata": {},
     "output_type": "execute_result"
    }
   ],
   "source": [
    "import heapq\n",
    "\n",
    "def dijkstraAlgo(graph, source):\n",
    "    min_heap = []\n",
    "    distance = [float('inf') for _ in range(len(graph))]\n",
    "    distance[source] = 0\n",
    "    \n",
    "    heapq.heappush(min_heap, (0, source))\n",
    "    \n",
    "    while min_heap:\n",
    "        weight, node = heapq.heappop(min_heap)\n",
    "        for node_itr, weight_itr in graph[node]:\n",
    "            if weight + weight_itr < distance[node_itr]:\n",
    "                distance[node_itr] = distance[node] + weight_itr\n",
    "                heapq.heappush(min_heap, (distance[node_itr], node_itr))\n",
    "    \n",
    "    return distance\n",
    "\n",
    "dijkstraAlgo(graph, 0)"
   ]
  },
  {
   "cell_type": "markdown",
   "metadata": {},
   "source": [
    "## [Prim's Algorithm](https://www.geeksforgeeks.org/prims-minimum-spanning-tree-mst-greedy-algo-5/)\n",
    "\n",
    "Prim’s algorithm is also a Greedy algorithm. The idea behind Prim’s algorithm is simple, a spanning tree means all vertices must be connected. So the two disjoint subsets (discussed above) of vertices must be connected to make a Spanning Tree. And they must be connected with the minimum weight edge to make it a Minimum Spanning Tree.\n",
    "\n",
    "We use a boolean array mstSet[] to represent the set of vertices included in MST. If a value mstSet[v] is true, then vertex v is included in MST, otherwise not. Array key[] is used to store key values of all vertices. Another array parent[] to store indexes of parent nodes in MST. The parent array is the output array which is used to show the constructed MST. \n",
    "\n",
    "Time Complexity of the above program is O(V^2). If the input graph is represented using adjacency list, then the time complexity of Prim’s algorithm can be reduced to O(E log V) with the help of binary heap."
   ]
  },
  {
   "cell_type": "code",
   "execution_count": 17,
   "metadata": {},
   "outputs": [
    {
     "data": {
      "text/plain": [
       "35"
      ]
     },
     "execution_count": 17,
     "metadata": {},
     "output_type": "execute_result"
    }
   ],
   "source": [
    "import heapq\n",
    "\n",
    "# Without Heaps\n",
    "def primAlgo(graph):\n",
    "    weights = [float('inf') for _ in range(len(graph))]\n",
    "    parents = [-1 for _ in range(len(graph))]\n",
    "    mstSet = [False for _ in range(len(graph))]\n",
    "    weights[0] = 0\n",
    "\n",
    "    for _ in range(len(graph)):\n",
    "        mini = float('inf')\n",
    "        node = 0\n",
    "\n",
    "        for v in range(V):\n",
    "            if mstSet[v] == False and mini > weights[v]:\n",
    "                mini = weights[v]\n",
    "                node = v\n",
    "        mstSet[node] = True\n",
    "\n",
    "        for node_itr, weight_itr in graph[node]:\n",
    "            if mstSet[node_itr] == False and weight_itr < weights[node_itr]:\n",
    "                parents[node_itr] = node\n",
    "                weights[node_itr] = weight_itr\n",
    "\n",
    "# With Heaps\n",
    "def primAlgo(graph):\n",
    "    min_heap = []\n",
    "    n = len(graph)\n",
    "    weights = [float('inf') for _ in range(n)]\n",
    "    parent = [-1  for _ in range(n)]\n",
    "    mstSet = [False for _ in range(n)]\n",
    "\n",
    "    heapq.heappush(min_heap, (0, 0))\n",
    "\n",
    "    weights[0] = 0\n",
    "\n",
    "    while len(min_heap) > 0: \n",
    "        weight, node = heapq.heappop(min_heap)\n",
    "\n",
    "        mstSet[node] = True\n",
    "\n",
    "        for node_itr, weight_itr in graph[node]:\n",
    "            if mstSet[node_itr] == False and weight_itr < weights[node_itr]:\n",
    "                parent[node_itr] = node\n",
    "                weights[node_itr] = weight_itr\n",
    "                heapq.heappush(min_heap, (weights[node_itr], node_itr))\n",
    "\n",
    "    return sum(weights[1:])\n",
    "\n",
    "primAlgo(graph)"
   ]
  },
  {
   "cell_type": "markdown",
   "metadata": {},
   "source": [
    "## Disjoint Sets"
   ]
  },
  {
   "cell_type": "code",
   "execution_count": 18,
   "metadata": {},
   "outputs": [],
   "source": [
    "class DisjointSets:\n",
    "    def __init__(self, num_nodes):\n",
    "        self.parent = [i for i in range(num_nodes)]\n",
    "        self.rank = [0 for _ in range(num_nodes)]\n",
    "        \n",
    "    def findParent(self, node):\n",
    "        if self.parent[node] == node:\n",
    "            return node\n",
    "        \n",
    "        self.parent[node] = self.findParent(self.parent[node])\n",
    "        \n",
    "        return self.parent[node]\n",
    "        \n",
    "    def union(self, u, v):\n",
    "        u = self.findParent(u)\n",
    "        v = self.findParent(v)\n",
    "        \n",
    "        if self.rank[u] < self.rank[v]:\n",
    "            self.parent[u] = v\n",
    "        elif self.rank[u] > self.rank[v]:\n",
    "            self.parent[v] = u\n",
    "        else:\n",
    "            self.parent[v] = u\n",
    "            self.rank[u] += 1"
   ]
  },
  {
   "cell_type": "markdown",
   "metadata": {},
   "source": [
    "## [Kruskal's Algorithm](https://www.geeksforgeeks.org/kruskals-minimum-spanning-tree-algorithm-greedy-algo-2/)\n",
    "\n",
    "iven a connected and undirected graph, a spanning tree of that graph is a subgraph that is a tree and connects all the vertices together. A single graph can have many different spanning trees. A minimum spanning tree (MST) or minimum weight spanning tree for a weighted, connected, undirected graph is a spanning tree with a weight less than or equal to the weight of every other spanning tree. The weight of a spanning tree is the sum of weights given to each edge of the spanning tree.\n",
    "\n",
    "```\n",
    "How many edges does a minimum spanning tree has?\n",
    "A minimum spanning tree has (V – 1) edges where V is the number of vertices in the given graph. \n",
    "```\n",
    "\n",
    "```\n",
    "Below are the steps for finding MST using Kruskal’s algorithm\n",
    "\n",
    "1. Sort all the edges in non-decreasing order of their weight. \n",
    "2. Pick the smallest edge. Check if it forms a cycle with the spanning tree formed so far. If cycle is not \n",
    "   formed, include this edge. Else, discard it. \n",
    "3. Repeat step#2 until there are (V-1) edges in the spanning tree.\n",
    "```"
   ]
  },
  {
   "cell_type": "code",
   "execution_count": 19,
   "metadata": {},
   "outputs": [
    {
     "data": {
      "text/plain": [
       "(23,\n",
       " [(0, 3, 4),\n",
       "  (1, 2, 4),\n",
       "  (1, 7, 10),\n",
       "  (1, 8, 9),\n",
       "  (2, 0, 1),\n",
       "  (2, 5, 2),\n",
       "  (2, 9, 10),\n",
       "  (3, 6, 7),\n",
       "  (5, 1, 3),\n",
       "  (6, 4, 9)])"
      ]
     },
     "execution_count": 19,
     "metadata": {},
     "output_type": "execute_result"
    }
   ],
   "source": [
    "def getSortedEdges(graph):\n",
    "    edges = []\n",
    "    \n",
    "    for node in range(len(graph)):\n",
    "        for node_itr, weight_itr in graph[node]:\n",
    "            edges.append((weight_itr, node, node_itr))\n",
    "            \n",
    "    return sorted(edges, key=lambda x: x[0])\n",
    "\n",
    "def kruskalAlgo(graph):\n",
    "    disjointSets = DisjointSets(len(graph))\n",
    "    edges = getSortedEdges(graph)\n",
    "    \n",
    "    costMst = 0\n",
    "    mst = []\n",
    "    \n",
    "    for edge in edges:\n",
    "        if disjointSets.findParent(edge[1]) != disjointSets.findParent(edge[2]):\n",
    "            costMst += edge[0]\n",
    "            mst.append(edge)\n",
    "            disjointSets.union(edge[1], edge[2])\n",
    "    \n",
    "    return costMst, mst\n",
    "\n",
    "kruskalAlgo(graph)"
   ]
  },
  {
   "cell_type": "markdown",
   "metadata": {},
   "source": [
    "## [Bridges in Graphs](https://www.geeksforgeeks.org/bridge-in-a-graph/)\n",
    "\n",
    "An edge in an undirected connected graph is a bridge iff removing it disconnects the graph. For a disconnected undirected graph, definition is similar, a bridge is an edge removing which increases number of disconnected components."
   ]
  },
  {
   "cell_type": "code",
   "execution_count": 20,
   "metadata": {},
   "outputs": [
    {
     "data": {
      "text/plain": [
       "[(10, 9), (9, 4), (4, 3), (3, 1), (1, 0)]"
      ]
     },
     "execution_count": 20,
     "metadata": {},
     "output_type": "execute_result"
    }
   ],
   "source": [
    "def bridgeGraph_helper(node, parent, graph, vis, tin, low, timer, edges):\n",
    "    vis[node] = 1\n",
    "    tin[node] = timer\n",
    "    low[node] = timer\n",
    "    timer += 1\n",
    "    \n",
    "    for node_itr, _ in graph[node]:\n",
    "        if node_itr == parent:\n",
    "            continue\n",
    "        if vis[node_itr] == 0:\n",
    "            bridgeGraph_helper(node_itr, node, graph, vis, tin, low, timer, edges)\n",
    "            low[node] = min(low[node], low[node_itr])\n",
    "            \n",
    "            if low[node_itr] > tin[node]:\n",
    "                edges.append((node_itr, node))\n",
    "        else:\n",
    "            low[node] = min(low[node], low[node_itr])\n",
    "\n",
    "def bridgeGraph(graph):\n",
    "    edges = []\n",
    "    \n",
    "    vis = [0 for _ in range(len(graph))]\n",
    "    tin = [0 for _ in range(len(graph))]\n",
    "    low = [0 for _ in range(len(graph))]\n",
    "    \n",
    "    timer = 0\n",
    "    for node in range(len(graph)):\n",
    "        if vis[node] == 0:\n",
    "            bridgeGraph_helper(node, -1, graph, vis, tin, low, timer, edges)\n",
    "    \n",
    "    return edges\n",
    "\n",
    "bridgeGraph(graph)"
   ]
  },
  {
   "cell_type": "markdown",
   "metadata": {},
   "source": [
    "## [Articulation Point](https://www.geeksforgeeks.org/articulation-points-or-cut-vertices-in-a-graph/)\n",
    "\n",
    "A vertex in an undirected connected graph is an articulation point (or cut vertex) iff removing it (and edges through it) disconnects the graph. Articulation points represent vulnerabilities in a connected network – single points whose failure would split the network into 2 or more components. They are useful for designing reliable networks. \n",
    "\n",
    "For a disconnected undirected graph, an articulation point is a vertex removing which increases number of connected components."
   ]
  },
  {
   "cell_type": "code",
   "execution_count": 21,
   "metadata": {},
   "outputs": [
    {
     "data": {
      "text/plain": [
       "{1, 3, 4, 5, 6, 9, 10}"
      ]
     },
     "execution_count": 21,
     "metadata": {},
     "output_type": "execute_result"
    }
   ],
   "source": [
    "def articulationPoint_helper(node, parent, timer, graph, low, tin, vis, points):\n",
    "    vis[node] = 1\n",
    "    low[node] = timer\n",
    "    tin[node] = timer\n",
    "    timer += 1\n",
    "    \n",
    "    child = 0\n",
    "    for node_itr, _ in graph[node]:\n",
    "        if node_itr == parent:\n",
    "            continue\n",
    "        if vis[node_itr] == 0:\n",
    "            articulationPoint_helper(node_itr, node, timer, graph, low, tin, vis, points)\n",
    "            low[node] = min(low[node], low[node_itr])\n",
    "            if low[node_itr] >= tin[node] and parent != -1:\n",
    "                points.append(node)\n",
    "                points.append(node_itr)\n",
    "            child += 1\n",
    "        else:\n",
    "            low[node] = min(low[node], low[node_itr])\n",
    "            \n",
    "        if parent != -1 and child > 1:\n",
    "            points.append(node)\n",
    "            \n",
    "def articulationPoint(graph):\n",
    "    points = []\n",
    "    \n",
    "    vis = [0 for _ in range(len(graph))]\n",
    "    low = [0 for _ in range(len(graph))]\n",
    "    tin = [0 for _ in range(len(graph))]\n",
    "    \n",
    "    timer = 0\n",
    "    for node in range(len(graph)):\n",
    "        if vis[node] == 0:\n",
    "            articulationPoint_helper(node, -1, timer, graph, low, tin, vis, points)\n",
    "    \n",
    "    return set(points)\n",
    "\n",
    "articulationPoint(graph)"
   ]
  },
  {
   "cell_type": "markdown",
   "metadata": {},
   "source": [
    "## [Kosaraju's Algorithm](https://www.geeksforgeeks.org/strongly-connected-components/)\n",
    "\n",
    "A directed graph is strongly connected if there is a path between all pairs of vertices. A strongly connected component (SCC) of a directed graph is a maximal strongly connected subgraph. For example, there are 3 SCCs in the following graph.\n",
    "\n",
    "![img](https://media.geeksforgeeks.org/wp-content/cdn-uploads/SCC.png)"
   ]
  },
  {
   "cell_type": "code",
   "execution_count": 22,
   "metadata": {},
   "outputs": [
    {
     "name": "stdout",
     "output_type": "stream",
     "text": [
      "SCC:  0 \n",
      "SCC:  1 \n",
      "SCC:  3 \n",
      "SCC:  4 2 5 \n",
      "SCC:  6 \n",
      "SCC:  7 \n",
      "SCC:  8 \n",
      "SCC:  9 \n",
      "SCC:  10 \n"
     ]
    }
   ],
   "source": [
    "def dfs_helper(node, stack, graph, vis):\n",
    "    vis[node] = True\n",
    "    \n",
    "    for node_itr, _ in graph[node]:\n",
    "        if vis[node_itr] != True:\n",
    "            dfs_helper(node_itr, stack, graph, vis)\n",
    "    \n",
    "    stack.append(node)\n",
    "            \n",
    "def transpose(graph):\n",
    "    n = len(graph)\n",
    "    new_edges = [[] for _ in range(n)]\n",
    "    \n",
    "    for node in range(n):\n",
    "        for node_itr, weight_itr in graph[node]:\n",
    "            new_edges[node_itr].append(node)\n",
    "    \n",
    "    return new_edges\n",
    "\n",
    "def revDFS(node, graph, vis):\n",
    "    vis[node] = True\n",
    "    print(node, end=\" \")\n",
    "    for node_itr in graph[node]:\n",
    "        if vis[node_itr] == False:\n",
    "            revDFS(node_itr, graph, vis)\n",
    "\n",
    "def kosarajuAlgo(graph):\n",
    "    n = len(graph)\n",
    "    stack = []\n",
    "    vis = [False for _ in range(n)]\n",
    "    \n",
    "    for node in range(n):\n",
    "        if vis[node]!= True:\n",
    "            dfs_helper(node, stack, graph, vis)\n",
    "    \n",
    "    transpose_edges = transpose(graph)\n",
    "    vis = [False for _ in range(n)]\n",
    "    \n",
    "    while stack:\n",
    "        node = stack.pop()\n",
    "        if vis[node] == False:\n",
    "            print(\"SCC: \", end=\" \")\n",
    "            revDFS(node, transpose_edges, vis)\n",
    "            print()\n",
    "\n",
    "kosarajuAlgo(graph)"
   ]
  },
  {
   "cell_type": "markdown",
   "metadata": {},
   "source": [
    "## [Bellman Ford Algorithm](https://www.geeksforgeeks.org/bellman-ford-algorithm-dp-23/)"
   ]
  },
  {
   "cell_type": "code",
   "execution_count": 23,
   "metadata": {},
   "outputs": [
    {
     "data": {
      "text/plain": [
       "[0, 2, 13, 7, 7, 11, 19, 22, 25, 13, 15]"
      ]
     },
     "execution_count": 23,
     "metadata": {},
     "output_type": "execute_result"
    }
   ],
   "source": [
    "def getEdges(graph):\n",
    "    edges = []\n",
    "    \n",
    "    for node in range(len(graph)):\n",
    "        for node_itr, weight_itr in graph[node]:\n",
    "            edges.append((node, node_itr, weight_itr))\n",
    "    \n",
    "    return edges\n",
    "\n",
    "def bellmanFordAlgo(graph, source):\n",
    "    edges = getEdges(graph)\n",
    "    \n",
    "    distance = [float('inf') for _ in range(len(graph))]\n",
    "    distance[source] = 0\n",
    "    \n",
    "    for _ in range(len(graph) - 1):\n",
    "        for itr in edges:\n",
    "            if distance[itr[0]] + itr[2] < distance[itr[1]]:\n",
    "                distance[itr[1]] = distance[itr[0]] + itr[2]\n",
    "    \n",
    "    for itr in edges:\n",
    "        if distance[itr[0]] + itr[2] < distance[itr[1]]:\n",
    "            return -1\n",
    "    \n",
    "    return distance\n",
    "\n",
    "bellmanFordAlgo(graph, 0)"
   ]
  }
 ],
 "metadata": {
  "kernelspec": {
   "display_name": "Python 3 (ipykernel)",
   "language": "python",
   "name": "python3"
  },
  "language_info": {
   "codemirror_mode": {
    "name": "ipython",
    "version": 3
   },
   "file_extension": ".py",
   "mimetype": "text/x-python",
   "name": "python",
   "nbconvert_exporter": "python",
   "pygments_lexer": "ipython3",
   "version": "3.8.10"
  }
 },
 "nbformat": 4,
 "nbformat_minor": 4
}
