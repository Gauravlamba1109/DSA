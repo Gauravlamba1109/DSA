{
 "cells": [
  {
   "cell_type": "markdown",
   "metadata": {},
   "source": [
    "# Graphs\n",
    "\n",
    "- [Graph Implementation using Matrix](#Graph-Implementation-using-Matrix)\n",
    "- [Graph Implementation using List](#Graph-Implementation-using-List)\n",
    "- [Breadth First Search](#Breadth-First-Search)\n",
    "- [Depth First Search](#Depth-First-Search)\n",
    "- [Cycle Detection in Undirected Graph using BFS](#Cycle-Detection-in-Undirected-Graph-using-BFS)\n",
    "- [Cycle Detection in Undirected Graph using DFS](#Cycle-Detection-in-Undirected-Graph-using-DFS)\n",
    "- [Bipartitie Graph using BFS](#Bipartitie-Graph-using-BFS)\n",
    "- [Bipartitie Graph using DFS](#Bipartitie-Graph-using-DFS)\n",
    "- [Cycle Detection in Directed Graph using DFS](#Cycle-Detection-in-Directed-Graph-using-DFS)\n",
    "- [Topological Sort using DFS](#Topological-Sort-using-DFS)\n",
    "- [Topological Sort using BFS or Kahn's Algorithm](#Topological-Sort-using-BFS-or-Kahn's-Algorithm)\n",
    "- [Cycle Detection in Directed Graph using BFS](#Cycle-Detection-in-Directed-Graph-using-BFS)\n",
    "- [Shortest path in a weighted directed acyclic graph using TopoSort (DAG)](#Shortest-path-in-a-weighted-directed-acyclic-graph-using-TopoSort-(DAG))\n",
    "- [Dijksra's Algorithm](#Dijksra's-Algorithm)\n",
    "- [Prim's Algorithm](#Prim's-Algorithm)\n",
    "- [Disjoint Sets](#Disjoint-Sets)\n",
    "- [Kruskal's Algorithm](#Kruskal's-Algorithm)\n",
    "- [Bridges in Graphs](#Bridges-in-Graphs)\n",
    "- [Articulation Point](#Articulation-Point)\n",
    "- [Bellman Ford Algorithm](#Bellman-Ford-Algorithm)\n",
    "\n",
    "## Graph Implementation using Matrix"
   ]
  },
  {
   "cell_type": "code",
   "execution_count": 2,
   "metadata": {},
   "outputs": [],
   "source": [
    "class GraphMatrix:\n",
    "    def __init__(self, vertex, directed):\n",
    "        self.graph = [[0] * vertex for _ in range(vertex)]\n",
    "        self.vertex = vertex\n",
    "        self.directed = directed\n",
    "        \n",
    "    def add_edge(self, from_vertex, to_vertex):\n",
    "        self.graph[from_vertex - 1][to_vertex - 1] = 1\n",
    "        \n",
    "        if not self.directed:\n",
    "            self.graph[to_vertex - 1][from_vertex - 1] = 1\n",
    "    \n",
    "    def show(self):\n",
    "        print(\" \", end=\" \")\n",
    "        for i in range(1, self.vertex + 1):\n",
    "            print(i, end=\" \")\n",
    "        print()\n",
    "        for i in range(1, self.vertex + 1):\n",
    "            print(i, end=\" \")\n",
    "            for j in range(1, self.vertex + 1):\n",
    "                print(self.graph[i-1][j-1], end=\" \")\n",
    "            print()"
   ]
  },
  {
   "cell_type": "code",
   "execution_count": 3,
   "metadata": {},
   "outputs": [
    {
     "name": "stdout",
     "output_type": "stream",
     "text": [
      "  1 2 3 4 5 6 7 8 9 10 11 \n",
      "1 0 1 0 0 0 0 0 0 0 0 0 \n",
      "2 1 0 0 1 0 0 0 0 0 0 0 \n",
      "3 0 0 0 0 1 0 0 0 0 0 0 \n",
      "4 0 1 0 0 0 0 0 0 0 0 0 \n",
      "5 0 0 1 0 0 1 0 0 0 1 0 \n",
      "6 0 0 0 0 1 0 1 0 0 0 0 \n",
      "7 0 0 0 0 0 1 0 1 0 0 0 \n",
      "8 0 0 0 0 0 0 1 0 1 0 0 \n",
      "9 0 0 0 0 0 0 0 1 0 1 1 \n",
      "10 0 0 0 0 1 0 0 0 1 0 0 \n",
      "11 0 0 0 0 0 0 0 0 1 0 0 \n"
     ]
    }
   ],
   "source": [
    "graph = GraphMatrix(11, False)\n",
    "\n",
    "graph.add_edge(1, 2)\n",
    "graph.add_edge(2, 4)\n",
    "graph.add_edge(3, 5)\n",
    "graph.add_edge(5, 10)\n",
    "graph.add_edge(5, 6)\n",
    "graph.add_edge(6, 7)\n",
    "graph.add_edge(7, 8)\n",
    "graph.add_edge(8, 9)\n",
    "graph.add_edge(9, 11)\n",
    "graph.add_edge(9, 10)\n",
    "graph.show()"
   ]
  },
  {
   "cell_type": "markdown",
   "metadata": {},
   "source": [
    "## Graph Implementation using List"
   ]
  },
  {
   "cell_type": "code",
   "execution_count": 9,
   "metadata": {},
   "outputs": [],
   "source": [
    "class GraphList:\n",
    "    def __init__(self, directed, weighted):\n",
    "        self.adj_list = dict()\n",
    "        self.directed = directed\n",
    "        self.weighted = weighted\n",
    "        \n",
    "    def add_edge(self, from_vertex, to_vertex, weight=None):\n",
    "        if self.weighted:\n",
    "            temp = [to_vertex, weight]\n",
    "        else:\n",
    "            temp = to_vertex\n",
    "            \n",
    "        if from_vertex in self.adj_list:\n",
    "            self.adj_list[from_vertex].append(temp)\n",
    "        else:\n",
    "            self.adj_list[from_vertex] = [temp]\n",
    "            \n",
    "        if to_vertex not in self.adj_list:\n",
    "            self.adj_list[to_vertex] = []\n",
    "            \n",
    "        if not self.directed:\n",
    "            if self.weighted:\n",
    "                temp = [from_vertex, weight]\n",
    "            else:\n",
    "                temp = from_vertex\n",
    "                \n",
    "            self.adj_list[to_vertex].append(temp)\n",
    "            \n",
    "    def print_graph(self):\n",
    "        for key in range(len(self.adj_list)):\n",
    "            print(key, \"-->\", self.adj_list[key])\n",
    "            \n",
    "    def __len__(self):\n",
    "        return len(self.adj_list)\n",
    "    \n",
    "    def __getitem__(self, atr):\n",
    "        return self.adj_list[atr]"
   ]
  },
  {
   "cell_type": "code",
   "execution_count": 47,
   "metadata": {},
   "outputs": [
    {
     "name": "stdout",
     "output_type": "stream",
     "text": [
      "0 --> [[1, 2]]\n",
      "1 --> [[3, 5]]\n",
      "2 --> [[4, 1]]\n",
      "3 --> [[4, 0]]\n",
      "4 --> [[9, 6], [5, 4]]\n",
      "5 --> [[2, 2], [6, 8]]\n",
      "6 --> [[7, 3]]\n",
      "7 --> [[8, 3], [10, 1]]\n",
      "8 --> [[9, 1]]\n",
      "9 --> [[10, 2]]\n",
      "10 --> []\n"
     ]
    }
   ],
   "source": [
    "# graph = GraphList(False, False) # Undirected\n",
    "graph = GraphList(True, False) # Directed\n",
    "\n",
    "# graph.add_edge(0, 1)\n",
    "# graph.add_edge(1, 2)\n",
    "# graph.add_edge(2, 3)\n",
    "# graph.add_edge(3, 4)\n",
    "# graph.add_edge(4, 5)\n",
    "# graph.add_edge(5, 6)\n",
    "# graph.add_edge(7, 3)\n",
    "\n",
    "graph = GraphList(True, True) # Directed and Weighted for shorted distance\n",
    "graph.add_edge(0, 1, 2)\n",
    "graph.add_edge(1, 3, 5)\n",
    "graph.add_edge(5, 2, 2)\n",
    "graph.add_edge(2, 4, 1)\n",
    "graph.add_edge(4, 9, 6)\n",
    "graph.add_edge(3, 4, 0)\n",
    "graph.add_edge(4, 5, 4)\n",
    "graph.add_edge(5, 6, 8)\n",
    "graph.add_edge(6, 7,3)\n",
    "graph.add_edge(7, 8, 3)\n",
    "graph.add_edge(9, 10, 2)\n",
    "graph.add_edge(7, 10, 1)\n",
    "graph.add_edge(8, 9, 1)\n",
    "# graph.add_edge(8, 10, 3) # To check for Bipartitie Graph false case\n",
    "\n",
    "graph.print_graph()"
   ]
  },
  {
   "cell_type": "markdown",
   "metadata": {},
   "source": [
    "## Breadth First Search "
   ]
  },
  {
   "cell_type": "code",
   "execution_count": 16,
   "metadata": {},
   "outputs": [],
   "source": [
    "def breadthFirstSearch(graph):\n",
    "    num_nodes = len(graph)\n",
    "    vis = [0 for _ in range(num_nodes)]\n",
    "    storeBFS = []\n",
    "    \n",
    "    for ele in range(num_nodes):\n",
    "        if vis[ele] == 0:\n",
    "            queue = [ele]\n",
    "            storeBFS.append(ele)\n",
    "            vis[ele] = 1\n",
    "            \n",
    "            while len(queue) > 0:\n",
    "                node = queue.pop(0)\n",
    "                \n",
    "                for ver in graph[node]:\n",
    "                    if vis[ver] == 0:\n",
    "                        vis[ver] = 1\n",
    "                        storeBFS.append(ver)\n",
    "                        queue.append(ver)\n",
    "    return storeBFS"
   ]
  },
  {
   "cell_type": "code",
   "execution_count": 17,
   "metadata": {},
   "outputs": [
    {
     "data": {
      "text/plain": [
       "[0, 1, 3, 4, 9, 5, 10, 6, 7, 8, 2]"
      ]
     },
     "execution_count": 17,
     "metadata": {},
     "output_type": "execute_result"
    }
   ],
   "source": [
    "breadthFirstSearch(graph)"
   ]
  },
  {
   "cell_type": "markdown",
   "metadata": {},
   "source": [
    "## Depth First Search"
   ]
  },
  {
   "cell_type": "code",
   "execution_count": 18,
   "metadata": {},
   "outputs": [],
   "source": [
    "def dfs(ele, vis, storeDFS, graph):\n",
    "    storeDFS.append(ele)\n",
    "    vis[ele] = 1\n",
    "    \n",
    "    for node in graph[ele]:\n",
    "        if vis[node] == 0:\n",
    "            dfs(node, vis, storeDFS, graph)\n",
    "\n",
    "def depthFirstSearch(graph):\n",
    "    num_nodes = len(graph)\n",
    "    vis = [0 for _ in range(num_nodes)]\n",
    "    storeDFS = []\n",
    "    \n",
    "    for ele in range(num_nodes):\n",
    "        if vis[ele] == 0:\n",
    "            dfs(ele, vis, storeDFS, graph)\n",
    "    \n",
    "    return storeDFS"
   ]
  },
  {
   "cell_type": "code",
   "execution_count": 19,
   "metadata": {},
   "outputs": [
    {
     "data": {
      "text/plain": [
       "[0, 1, 3, 4, 9, 10, 5, 6, 7, 8, 2]"
      ]
     },
     "execution_count": 19,
     "metadata": {},
     "output_type": "execute_result"
    }
   ],
   "source": [
    "depthFirstSearch(graph)"
   ]
  },
  {
   "cell_type": "markdown",
   "metadata": {},
   "source": [
    "## Cycle Detection in Undirected Graph using BFS"
   ]
  },
  {
   "cell_type": "code",
   "execution_count": 20,
   "metadata": {},
   "outputs": [
    {
     "data": {
      "text/plain": [
       "True"
      ]
     },
     "execution_count": 20,
     "metadata": {},
     "output_type": "execute_result"
    }
   ],
   "source": [
    "def checkForCycleBFS(node, graph, vis):\n",
    "    vis[node] = 1\n",
    "    \n",
    "    queue = [(node, -1)]\n",
    "    \n",
    "    while queue:\n",
    "        ver, parent = queue.pop(0)\n",
    "        \n",
    "        for ele in graph[ver]:\n",
    "            if vis[ele] == 0:\n",
    "                queue.append((ele, ver))\n",
    "                vis[ele] = 1\n",
    "            elif ele != parent:\n",
    "                return True\n",
    "    \n",
    "    return False\n",
    "\n",
    "def haveCycleBFS(graph):\n",
    "    vis = [0 for _ in range(len(graph))]\n",
    "    \n",
    "    for node in range(len(graph)):\n",
    "        if vis[node] == 0:\n",
    "            if checkForCycleBFS(node, graph, vis):\n",
    "                return True\n",
    "    \n",
    "    return False\n",
    "\n",
    "haveCycleBFS(graph)"
   ]
  },
  {
   "cell_type": "markdown",
   "metadata": {},
   "source": [
    "## Cycle Detection in Undirected Graph using DFS"
   ]
  },
  {
   "cell_type": "code",
   "execution_count": 21,
   "metadata": {},
   "outputs": [
    {
     "data": {
      "text/plain": [
       "True"
      ]
     },
     "execution_count": 21,
     "metadata": {},
     "output_type": "execute_result"
    }
   ],
   "source": [
    "def checkForCycleDFS(node, parent, graph, vis):\n",
    "    vis[node] = 1\n",
    "    \n",
    "    for ver in graph[node]:\n",
    "        if vis[ver] == 0:\n",
    "            if checkForCycleDFS(ver, node, graph, vis):\n",
    "                return True\n",
    "        elif ver != parent:\n",
    "            return True\n",
    "    \n",
    "    return False\n",
    "\n",
    "def haveCycleDFS(graph):\n",
    "    vis = [0 for _ in range(len(graph))]\n",
    "    \n",
    "    for node in range(len(graph)):\n",
    "        if vis[node] == 0:\n",
    "            if checkForCycleDFS(node, -1, graph, vis):\n",
    "                return True\n",
    "        \n",
    "    return False\n",
    "\n",
    "haveCycleDFS(graph)"
   ]
  },
  {
   "cell_type": "markdown",
   "metadata": {},
   "source": [
    "## Bipartitie Graph using BFS"
   ]
  },
  {
   "cell_type": "code",
   "execution_count": 22,
   "metadata": {},
   "outputs": [
    {
     "data": {
      "text/plain": [
       "False"
      ]
     },
     "execution_count": 22,
     "metadata": {},
     "output_type": "execute_result"
    }
   ],
   "source": [
    "def checkBipartiteGraphBFS(node, graph, color):\n",
    "    color[node] = 0\n",
    "    queue = [node]\n",
    "    \n",
    "    while queue:\n",
    "        node_temp = queue.pop(0)\n",
    "        \n",
    "        for node_itr in graph[node_temp]:\n",
    "            if color[node_itr] == -1:\n",
    "                color[node_itr] = 1 - color[node_temp]\n",
    "                queue.append(node_itr)\n",
    "            elif color[node_itr] == color[node_temp]:\n",
    "                return False\n",
    "    \n",
    "    return True\n",
    "\n",
    "def colorGraphBFS(graph):\n",
    "    color = [-1 for _ in range(len(graph))]\n",
    "    \n",
    "    for node in range(len(graph)):\n",
    "        if color[node] == -1:\n",
    "            if not checkBipartiteGraphBFS(node, graph, color):\n",
    "                return False\n",
    "    \n",
    "    return color\n",
    "\n",
    "colorGraphBFS(graph)"
   ]
  },
  {
   "cell_type": "markdown",
   "metadata": {},
   "source": [
    "## Bipartitie Graph using DFS"
   ]
  },
  {
   "cell_type": "code",
   "execution_count": 23,
   "metadata": {},
   "outputs": [
    {
     "data": {
      "text/plain": [
       "False"
      ]
     },
     "execution_count": 23,
     "metadata": {},
     "output_type": "execute_result"
    }
   ],
   "source": [
    "def checkBipartiteGraphDFS(node, parent_color, graph, color):\n",
    "    color[node] = 1 - parent_color\n",
    "    \n",
    "    for node_itr in graph[node]:\n",
    "        if color[node_itr] == -1:\n",
    "            if not checkBipartiteGraphDFS(node_itr, color[node], graph, color):\n",
    "                return False\n",
    "        elif color[node_itr] == color[node]:\n",
    "            return False\n",
    "    \n",
    "    return True\n",
    "\n",
    "def colorGraphDFS(graph):\n",
    "    color = [-1 for _ in range(len(graph))]\n",
    "    \n",
    "    for node in range(len(graph)):\n",
    "        if color[node] == -1:\n",
    "            if not checkBipartiteGraphDFS(node, 1, graph, color):\n",
    "                return False\n",
    "    \n",
    "    return color\n",
    "\n",
    "colorGraphDFS(graph)"
   ]
  },
  {
   "cell_type": "markdown",
   "metadata": {},
   "source": [
    "## Cycle Detection in Directed Graph using DFS"
   ]
  },
  {
   "cell_type": "code",
   "execution_count": 24,
   "metadata": {},
   "outputs": [
    {
     "data": {
      "text/plain": [
       "False"
      ]
     },
     "execution_count": 24,
     "metadata": {},
     "output_type": "execute_result"
    }
   ],
   "source": [
    "def checkCycleDirectedDFS(node, graph, vis, dfs_vis): \n",
    "    vis[node] = 1\n",
    "    dfs_vis[node] = 1\n",
    "    \n",
    "    for node_itr in graph[node]:\n",
    "        if vis[node_itr] == 0:\n",
    "            if checkCycleDirectedDFS(node_itr, graph, vis, dfs_vis):\n",
    "                return True\n",
    "        elif dfs_vis[node_itr] == 1:\n",
    "            return True\n",
    "    dfs_vis[node] = 0\n",
    "    \n",
    "    return False\n",
    "\n",
    "def haveCycleDirectedDFS(graph):\n",
    "    vis = [0 for _ in range(len(graph))]\n",
    "    dfs_vis = [0 for _ in range(len(graph))]\n",
    "    \n",
    "    for node in range(len(graph)):\n",
    "        if vis[node] == 0:\n",
    "            if checkCycleDirectedDFS(node, graph, vis, dfs_vis):\n",
    "                return True\n",
    "    \n",
    "    return False\n",
    "\n",
    "haveCycleDirectedDFS(graph)"
   ]
  },
  {
   "cell_type": "markdown",
   "metadata": {},
   "source": [
    "## Topological Sort using DFS"
   ]
  },
  {
   "cell_type": "code",
   "execution_count": 32,
   "metadata": {},
   "outputs": [
    {
     "data": {
      "text/plain": [
       "[2, 0, 1, 3, 4, 5, 6, 7, 8, 9, 10]"
      ]
     },
     "execution_count": 32,
     "metadata": {},
     "output_type": "execute_result"
    }
   ],
   "source": [
    "def toposortDFS_helper(node, graph, vis, stack):\n",
    "    vis[node] = 1\n",
    "    \n",
    "    for node_itr in graph[node]:\n",
    "        if graph.directed:\n",
    "                temp = node_itr[0]\n",
    "        else:\n",
    "            temp = node_itr\n",
    "            \n",
    "        if vis[temp] == 0:\n",
    "            toposortDFS_helper(temp, graph, vis, stack)\n",
    "        \n",
    "    stack.append(node)\n",
    "\n",
    "def topologicalSortDFS(graph): \n",
    "    stack = []\n",
    "    vis = [0 for _ in range(len(graph))]\n",
    "    \n",
    "    for node in range(len(graph)):\n",
    "        if vis[node] == 0:\n",
    "            toposortDFS_helper(node, graph, vis, stack)\n",
    "    \n",
    "    return stack[::-1]\n",
    "\n",
    "topologicalSortDFS(graph)"
   ]
  },
  {
   "cell_type": "markdown",
   "metadata": {},
   "source": [
    "## Topological Sort using BFS or Kahn's Algorithm"
   ]
  },
  {
   "cell_type": "code",
   "execution_count": 27,
   "metadata": {},
   "outputs": [
    {
     "data": {
      "text/plain": [
       "[0, 2, 1, 3, 4, 5, 6, 7, 8, 9, 10]"
      ]
     },
     "execution_count": 27,
     "metadata": {},
     "output_type": "execute_result"
    }
   ],
   "source": [
    "def findIndegree(graph):\n",
    "    in_degree = [0 for _ in range(len(graph))]\n",
    "    \n",
    "    for node in range(len(graph)):\n",
    "        for node_itr in graph[node]:\n",
    "            in_degree[node_itr] += 1\n",
    "            \n",
    "    return in_degree\n",
    "\n",
    "def topologicalSortBFS(graph):\n",
    "    topo = []\n",
    "    in_degree = findIndegree(graph)\n",
    "    queue = []\n",
    "    \n",
    "    for node_itr in range(len(graph)):\n",
    "        if in_degree[node_itr] == 0:\n",
    "            queue.append(node_itr)\n",
    "            \n",
    "    while queue:\n",
    "        node = queue.pop(0)\n",
    "        topo.append(node)\n",
    "        \n",
    "        for node_itr in graph[node]:\n",
    "            in_degree[node_itr] -= 1\n",
    "            if in_degree[node_itr] == 0:\n",
    "                queue.append(node_itr)\n",
    "        \n",
    "    return topo\n",
    "\n",
    "topologicalSortBFS(graph)"
   ]
  },
  {
   "cell_type": "markdown",
   "metadata": {},
   "source": [
    "## Cycle Detection in Directed Graph using BFS"
   ]
  },
  {
   "cell_type": "code",
   "execution_count": 28,
   "metadata": {},
   "outputs": [
    {
     "data": {
      "text/plain": [
       "False"
      ]
     },
     "execution_count": 28,
     "metadata": {},
     "output_type": "execute_result"
    }
   ],
   "source": [
    "def haveCycleDirectedBFS(graph):\n",
    "    in_degree = findIndegree(graph)\n",
    "    queue = []\n",
    "    \n",
    "    for node_itr in range(len(graph)):\n",
    "        if in_degree[node_itr] == 0:\n",
    "            queue.append(node_itr)\n",
    "        \n",
    "    count = 0\n",
    "    while queue:\n",
    "        node = queue.pop(0)\n",
    "        count += 1\n",
    "        \n",
    "        for node_itr in graph[node]:\n",
    "            in_degree[node_itr] -= 1\n",
    "            if in_degree[node_itr] == 0:\n",
    "                queue.append(node_itr)\n",
    "                \n",
    "    if count == len(graph):\n",
    "        return False\n",
    "    return True\n",
    "haveCycleDirectedBFS(graph)"
   ]
  },
  {
   "cell_type": "markdown",
   "metadata": {},
   "source": [
    "## Shortest path in a weighted directed acyclic graph using TopoSort (DAG)"
   ]
  },
  {
   "cell_type": "code",
   "execution_count": 39,
   "metadata": {},
   "outputs": [
    {
     "data": {
      "text/plain": [
       "[0, 2, inf, 7, 7, 11, 19, 22, 25, 13, 15]"
      ]
     },
     "execution_count": 39,
     "metadata": {},
     "output_type": "execute_result"
    }
   ],
   "source": [
    "def shortestDistanceTopoSort(graph, source):\n",
    "    topoSort = topologicalSortDFS(graph)\n",
    "    \n",
    "    distance = [float('inf') for _ in range(len(graph))]\n",
    "    distance[source] = 0\n",
    "    \n",
    "    for node in topoSort:\n",
    "        if distance[node] != float('inf'):\n",
    "            for node_itr, weight in graph[node]:\n",
    "                distance[node_itr] = min(weight + distance[node], distance[node_itr])\n",
    "    \n",
    "    return distance\n",
    "\n",
    "shortestDistanceTopoSort(graph, 0)"
   ]
  },
  {
   "cell_type": "markdown",
   "metadata": {},
   "source": [
    "## Dijksra's Algorithm"
   ]
  },
  {
   "cell_type": "code",
   "execution_count": 44,
   "metadata": {},
   "outputs": [
    {
     "data": {
      "text/plain": [
       "[0, 2, inf, 7, 7, 11, 19, 22, 25, 13, 15]"
      ]
     },
     "execution_count": 44,
     "metadata": {},
     "output_type": "execute_result"
    }
   ],
   "source": [
    "import heapq\n",
    "\n",
    "def dijkstraAlgo(graph, source):\n",
    "    min_heap = []\n",
    "    distance = [float('inf') for _ in range(len(graph))]\n",
    "    distance[source] = 0\n",
    "    \n",
    "    heapq.heappush(min_heap, (0, source))\n",
    "    \n",
    "    while min_heap:\n",
    "        weight, node = heapq.heappop(min_heap)\n",
    "        for node_itr, weight_itr in graph[node]:\n",
    "            if weight + weight_itr < distance[node_itr]:\n",
    "                distance[node_itr] = distance[node] + weight_itr\n",
    "                heapq.heappush(min_heap, (distance[node_itr], node_itr))\n",
    "    \n",
    "    return distance\n",
    "\n",
    "dijkstraAlgo(graph, 0)"
   ]
  },
  {
   "cell_type": "markdown",
   "metadata": {},
   "source": [
    "## Prim's Algorithm"
   ]
  },
  {
   "cell_type": "code",
   "execution_count": 51,
   "metadata": {},
   "outputs": [
    {
     "data": {
      "text/plain": [
       "[-1, 0, 5, 1, 3, 4, 5, 6, 7, 8, 9]"
      ]
     },
     "execution_count": 51,
     "metadata": {},
     "output_type": "execute_result"
    }
   ],
   "source": [
    "import heapq\n",
    "\n",
    "def primAlgo(graph):\n",
    "    min_heap = []\n",
    "    \n",
    "    key = [float('inf') for _ in range(len(graph))]\n",
    "    parent = [-1  for _ in range(len(graph))]\n",
    "    mstSet = [False for _ in range(len(graph))]\n",
    "    \n",
    "    heapq.heappush(min_heap, (0, 0))\n",
    "    \n",
    "    for _ in range(len(graph)):\n",
    "        weight, node = heapq.heappop(min_heap)\n",
    "        \n",
    "        mstSet[node] = True\n",
    "        \n",
    "        for node_itr, weight_itr in graph[node]:\n",
    "            if mstSet[node_itr] == False and weight_itr < key[node_itr]:\n",
    "                parent[node_itr] = node\n",
    "                heapq.heappush(min_heap, (key[node_itr], node_itr))\n",
    "                key[node_itr] = weight\n",
    "    \n",
    "    return parent\n",
    "\n",
    "primAlgo(graph)"
   ]
  },
  {
   "cell_type": "markdown",
   "metadata": {},
   "source": [
    "## Disjoint Sets"
   ]
  },
  {
   "cell_type": "code",
   "execution_count": 56,
   "metadata": {},
   "outputs": [],
   "source": [
    "class DisjointSets:\n",
    "    def __init__(self, num_nodes):\n",
    "        self.parent = [i for i in range(num_nodes)]\n",
    "        self.rank = [0 for _ in range(num_nodes)]\n",
    "        \n",
    "    def findParent(self, node):\n",
    "        if self.parent[node] == node:\n",
    "            return node\n",
    "        \n",
    "        self.parent[node] = self.findParent(self.parent[node])\n",
    "        \n",
    "        return self.parent[node]\n",
    "        \n",
    "    def union(self, u, v):\n",
    "        u = self.findParent(u)\n",
    "        v = self.findParent(v)\n",
    "        \n",
    "        if self.rank[u] < self.rank[v]:\n",
    "            self.parent[u] = v\n",
    "        elif self.rank[u] > self.rank[v]:\n",
    "            self.parent[v] = u\n",
    "        else:\n",
    "            self.parent[v] = u\n",
    "            self.rank[u] += 1"
   ]
  },
  {
   "cell_type": "markdown",
   "metadata": {},
   "source": [
    "## Kruskal's Algorithm"
   ]
  },
  {
   "cell_type": "code",
   "execution_count": 57,
   "metadata": {},
   "outputs": [
    {
     "data": {
      "text/plain": [
       "(23,\n",
       " [(0, 3, 4),\n",
       "  (1, 2, 4),\n",
       "  (1, 7, 10),\n",
       "  (1, 8, 9),\n",
       "  (2, 0, 1),\n",
       "  (2, 5, 2),\n",
       "  (2, 9, 10),\n",
       "  (3, 6, 7),\n",
       "  (5, 1, 3),\n",
       "  (6, 4, 9)])"
      ]
     },
     "execution_count": 57,
     "metadata": {},
     "output_type": "execute_result"
    }
   ],
   "source": [
    "def getSortedEdges(graph):\n",
    "    edges = []\n",
    "    \n",
    "    for node in range(len(graph)):\n",
    "        for node_itr, weight_itr in graph[node]:\n",
    "            edges.append((weight_itr, node, node_itr))\n",
    "            \n",
    "    return sorted(edges, key=lambda x: x[0])\n",
    "\n",
    "def kruskalAlgo(graph):\n",
    "    disjointSets = DisjointSets(len(graph))\n",
    "    edges = getSortedEdges(graph)\n",
    "    \n",
    "    costMst = 0\n",
    "    mst = []\n",
    "    \n",
    "    for edge in edges:\n",
    "        if disjointSets.findParent(edge[1]) != disjointSets.findParent(edge[2]):\n",
    "            costMst += edge[0]\n",
    "            mst.append(edge)\n",
    "            disjointSets.union(edge[1], edge[2])\n",
    "    \n",
    "    return costMst, mst\n",
    "\n",
    "kruskalAlgo(graph)"
   ]
  },
  {
   "cell_type": "markdown",
   "metadata": {},
   "source": [
    "## Bridges in Graphs"
   ]
  },
  {
   "cell_type": "code",
   "execution_count": 60,
   "metadata": {},
   "outputs": [
    {
     "data": {
      "text/plain": [
       "[(10, 9), (9, 4), (4, 3), (3, 1), (1, 0)]"
      ]
     },
     "execution_count": 60,
     "metadata": {},
     "output_type": "execute_result"
    }
   ],
   "source": [
    "def bridgeGraph_helper(node, parent, graph, vis, tin, low, timer, edges):\n",
    "    vis[node] = 1\n",
    "    tin[node] = timer\n",
    "    low[node] = timer\n",
    "    timer += 1\n",
    "    \n",
    "    for node_itr, _ in graph[node]:\n",
    "        if node_itr == parent:\n",
    "            continue\n",
    "        if vis[node_itr] == 0:\n",
    "            bridgeGraph_helper(node_itr, node, graph, vis, tin, low, timer, edges)\n",
    "            low[node] = min(low[node], low[node_itr])\n",
    "            \n",
    "            if low[node_itr] > tin[node]:\n",
    "                edges.append((node_itr, node))\n",
    "        else:\n",
    "            low[node] = min(low[node], low[node_itr])\n",
    "\n",
    "def bridgeGraph(graph):\n",
    "    edges = []\n",
    "    \n",
    "    vis = [0 for _ in range(len(graph))]\n",
    "    tin = [0 for _ in range(len(graph))]\n",
    "    low = [0 for _ in range(len(graph))]\n",
    "    \n",
    "    timer = 0\n",
    "    for node in range(len(graph)):\n",
    "        if vis[node] == 0:\n",
    "            bridgeGraph_helper(node, -1, graph, vis, tin, low, timer, edges)\n",
    "    \n",
    "    return edges\n",
    "\n",
    "bridgeGraph(graph)"
   ]
  },
  {
   "cell_type": "markdown",
   "metadata": {},
   "source": [
    "## Articulation Point"
   ]
  },
  {
   "cell_type": "code",
   "execution_count": 70,
   "metadata": {},
   "outputs": [
    {
     "data": {
      "text/plain": [
       "{1, 3, 4, 5, 6, 9, 10}"
      ]
     },
     "execution_count": 70,
     "metadata": {},
     "output_type": "execute_result"
    }
   ],
   "source": [
    "def articulationPoint_helper(node, parent, timer, graph, low, tin, vis, points):\n",
    "    vis[node] = 1\n",
    "    low[node] = timer\n",
    "    tin[node] = timer\n",
    "    timer += 1\n",
    "    \n",
    "    child = 0\n",
    "    for node_itr, _ in graph[node]:\n",
    "        if node_itr == parent:\n",
    "            continue\n",
    "        if vis[node_itr] == 0:\n",
    "            articulationPoint_helper(node_itr, node, timer, graph, low, tin, vis, points)\n",
    "            low[node] = min(low[node], low[node_itr])\n",
    "            if low[node_itr] >= tin[node] and parent != -1:\n",
    "                points.append(node)\n",
    "                points.append(node_itr)\n",
    "            child += 1\n",
    "        else:\n",
    "            low[node] = min(low[node], low[node_itr])\n",
    "            \n",
    "        if parent != -1 and child > 1:\n",
    "            points.append(node)\n",
    "            \n",
    "def articulationPoint(graph):\n",
    "    points = []\n",
    "    \n",
    "    vis = [0 for _ in range(len(graph))]\n",
    "    low = [0 for _ in range(len(graph))]\n",
    "    tin = [0 for _ in range(len(graph))]\n",
    "    \n",
    "    timer = 0\n",
    "    for node in range(len(graph)):\n",
    "        if vis[node] == 0:\n",
    "            articulationPoint_helper(node, -1, timer, graph, low, tin, vis, points)\n",
    "    \n",
    "    return set(points)\n",
    "\n",
    "articulationPoint(graph)"
   ]
  },
  {
   "cell_type": "markdown",
   "metadata": {},
   "source": [
    "## Bellman Ford Algorithm"
   ]
  },
  {
   "cell_type": "code",
   "execution_count": 77,
   "metadata": {},
   "outputs": [
    {
     "data": {
      "text/plain": [
       "[0, 2, 13, 7, 7, 11, 19, 22, 25, 13, 15]"
      ]
     },
     "execution_count": 77,
     "metadata": {},
     "output_type": "execute_result"
    }
   ],
   "source": [
    "def getEdges(graph):\n",
    "    edges = []\n",
    "    \n",
    "    for node in range(len(graph)):\n",
    "        for node_itr, weight_itr in graph[node]:\n",
    "            edges.append((node, node_itr, weight_itr))\n",
    "    \n",
    "    return edges\n",
    "\n",
    "def bellmanFordAlgo(graph, source):\n",
    "    edges = getEdges(graph)\n",
    "    \n",
    "    distance = [float('inf') for _ in range(len(graph))]\n",
    "    distance[source] = 0\n",
    "    \n",
    "    for _ in range(len(graph) - 1):\n",
    "        for itr in edges:\n",
    "            if distance[itr[0]] + itr[2] < distance[itr[1]]:\n",
    "                distance[itr[1]] = distance[itr[0]] + itr[2]\n",
    "    \n",
    "    for itr in edges:\n",
    "        if distance[itr[0]] + itr[2] < distance[itr[1]]:\n",
    "            return -1\n",
    "    \n",
    "    return distance\n",
    "\n",
    "bellmanFordAlgo(graph, 0)"
   ]
  }
 ],
 "metadata": {
  "kernelspec": {
   "display_name": "Python 3",
   "language": "python",
   "name": "python3"
  },
  "language_info": {
   "codemirror_mode": {
    "name": "ipython",
    "version": 3
   },
   "file_extension": ".py",
   "mimetype": "text/x-python",
   "name": "python",
   "nbconvert_exporter": "python",
   "pygments_lexer": "ipython3",
   "version": "3.8.5"
  }
 },
 "nbformat": 4,
 "nbformat_minor": 4
}
