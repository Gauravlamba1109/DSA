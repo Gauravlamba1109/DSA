{
 "cells": [
  {
   "cell_type": "markdown",
   "metadata": {},
   "source": [
    "# Greedy Algorithms\n",
    "\n",
    "- [Activity Selection](Activity-Selection)\n",
    "- [Fractional Knapsack](#Fractional-Knapsack)\n",
    "- [Jobs Sequencing](#Jobs-Sequencing)\n",
    "\n",
    "### Activity Selection"
   ]
  },
  {
   "cell_type": "code",
   "execution_count": 5,
   "metadata": {},
   "outputs": [
    {
     "data": {
      "text/plain": [
       "[(1, 3), (3, 8), (10, 11)]"
      ]
     },
     "execution_count": 5,
     "metadata": {},
     "output_type": "execute_result"
    }
   ],
   "source": [
    "def activitySelection(arr):\n",
    "    arr.sort(key=lambda x: x[1])\n",
    "    result = [arr[0]]\n",
    "    \n",
    "    for i, ele in enumerate(arr[1:]):\n",
    "        if ele[0] >= arr[i-1][1]:\n",
    "            result.append(ele)\n",
    "    \n",
    "    return result\n",
    "activitySelection([(3, 8), (2, 4), (1, 3), (10, 11)])"
   ]
  },
  {
   "cell_type": "markdown",
   "metadata": {},
   "source": [
    "### Fractional Knapsack"
   ]
  },
  {
   "cell_type": "code",
   "execution_count": 9,
   "metadata": {},
   "outputs": [
    {
     "data": {
      "text/plain": [
       "240.0"
      ]
     },
     "execution_count": 9,
     "metadata": {},
     "output_type": "execute_result"
    }
   ],
   "source": [
    "def fractionalKnapsack(arr, W):\n",
    "    arr.sort(key=lambda x: x[0] / x[1], reverse=True)\n",
    "    res = 0\n",
    "    \n",
    "    for ele in arr:\n",
    "        if ele[1] <= W:\n",
    "            res += ele[0]\n",
    "            W -= ele[1]\n",
    "        else:\n",
    "            res += ele[0] * W/ele[1]\n",
    "            break\n",
    "    \n",
    "    return res\n",
    "\n",
    "fractionalKnapsack([(120, 30), (100, 20), (60, 10)], 50)"
   ]
  },
  {
   "cell_type": "markdown",
   "metadata": {},
   "source": [
    "### Jobs Sequencing"
   ]
  },
  {
   "cell_type": "code",
   "execution_count": 20,
   "metadata": {},
   "outputs": [
    {
     "data": {
      "text/plain": [
       "[2, 1, 4]"
      ]
     },
     "execution_count": 20,
     "metadata": {},
     "output_type": "execute_result"
    }
   ],
   "source": [
    "def jobSequencing(arr):\n",
    "    arr.sort(key=lambda x: x[2], reverse=True)\n",
    "    max_job_num = max(arr, key=lambda x: x[0])[0]\n",
    "    res = [0 for _ in range(max_job_num-1)]\n",
    "    \n",
    "    for ele in arr:\n",
    "        if res[ele[1]-1] == 0:\n",
    "            res[ele[1]-1] = ele[0]\n",
    "    \n",
    "    return res\n",
    "\n",
    "jobSequencing([(1, 2, 100), (2, 1, 50), (3, 2, 10), (4, 1, 20), (4, 3, 30)])"
   ]
  }
 ],
 "metadata": {
  "kernelspec": {
   "display_name": "Python 3",
   "language": "python",
   "name": "python3"
  },
  "language_info": {
   "codemirror_mode": {
    "name": "ipython",
    "version": 3
   },
   "file_extension": ".py",
   "mimetype": "text/x-python",
   "name": "python",
   "nbconvert_exporter": "python",
   "pygments_lexer": "ipython3",
   "version": "3.8.5"
  }
 },
 "nbformat": 4,
 "nbformat_minor": 4
}
