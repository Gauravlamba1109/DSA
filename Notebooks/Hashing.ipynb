{
 "cells": [
  {
   "cell_type": "markdown",
   "metadata": {},
   "source": [
    "# Hashing\n",
    "\n",
    "- [Two Sum Problem](#Two-Sum-Problem)\n",
    "- [Longest Consecutive Sequence](#Longest-Consecutive-Sequence)\n",
    "- [Longest Substring with no repeating characters (Also in Sliding Window)](#Longest-Substring-with-no-repeating-characters-(Also-in-Sliding-Window))\n",
    "\n",
    "## Two Sum Problem"
   ]
  },
  {
   "cell_type": "code",
   "execution_count": 1,
   "metadata": {},
   "outputs": [
    {
     "data": {
      "text/plain": [
       "(0, 1)"
      ]
     },
     "execution_count": 1,
     "metadata": {},
     "output_type": "execute_result"
    }
   ],
   "source": [
    "def two_sum_problem(arr, t):\n",
    "    table = {}\n",
    "    \n",
    "    for i, ele in enumerate(arr):\n",
    "        if t-ele in table:\n",
    "            return table[t-ele], i\n",
    "        table[ele] = i\n",
    "        \n",
    "two_sum_problem([2, 7, 11, 15], 9)"
   ]
  },
  {
   "cell_type": "markdown",
   "metadata": {},
   "source": [
    "## Longest Consecutive Sequence"
   ]
  },
  {
   "cell_type": "code",
   "execution_count": 2,
   "metadata": {},
   "outputs": [
    {
     "data": {
      "text/plain": [
       "4"
      ]
     },
     "execution_count": 2,
     "metadata": {},
     "output_type": "execute_result"
    }
   ],
   "source": [
    "def longestConsecutive(nums):\n",
    "    D = set(nums)\n",
    "\n",
    "    largest_seq = 0\n",
    "    for ele in nums:\n",
    "        if not ele - 1 in D:\n",
    "            current_num = ele\n",
    "            current_seq = 0\n",
    "\n",
    "            while current_num in D:\n",
    "                current_seq += 1\n",
    "                current_num += 1\n",
    "\n",
    "            largest_seq = max(largest_seq, current_seq)\n",
    "\n",
    "    return largest_seq\n",
    "\n",
    "longestConsecutive([100,4,200,1,3,2])"
   ]
  },
  {
   "cell_type": "markdown",
   "metadata": {},
   "source": [
    "## Longest Substring with no repeating characters (Also in Sliding Window)"
   ]
  },
  {
   "cell_type": "code",
   "execution_count": 3,
   "metadata": {},
   "outputs": [
    {
     "data": {
      "text/plain": [
       "4"
      ]
     },
     "execution_count": 3,
     "metadata": {},
     "output_type": "execute_result"
    }
   ],
   "source": [
    "def longest_substring_no_repeating_chars(string):\n",
    "    i = 0\n",
    "    j = 0\n",
    "    n = len(string)\n",
    "    \n",
    "    chars_count = {}\n",
    "    longest_substring = -1\n",
    "    \n",
    "    while j < n:\n",
    "        if string[j] not in chars_count:\n",
    "            chars_count[string[j]] = 1\n",
    "        else:\n",
    "            while string[j] in chars_count:\n",
    "                del chars_count[string[i]]\n",
    "                i += 1\n",
    "            chars_count[string[j]] = 1\n",
    "        \n",
    "        if j - i + 1 > longest_substring:\n",
    "            longest_substring = j - i + 1\n",
    "        \n",
    "        j += 1\n",
    "    \n",
    "    return longest_substring\n",
    "\n",
    "longest_substring_no_repeating_chars('abedefgghhhig')"
   ]
  }
 ],
 "metadata": {
  "kernelspec": {
   "display_name": "Python 3",
   "language": "python",
   "name": "python3"
  },
  "language_info": {
   "codemirror_mode": {
    "name": "ipython",
    "version": 3
   },
   "file_extension": ".py",
   "mimetype": "text/x-python",
   "name": "python",
   "nbconvert_exporter": "python",
   "pygments_lexer": "ipython3",
   "version": "3.8.5"
  }
 },
 "nbformat": 4,
 "nbformat_minor": 4
}
