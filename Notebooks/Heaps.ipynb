{
 "cells": [
  {
   "cell_type": "markdown",
   "metadata": {},
   "source": [
    "# Heaps\n",
    "\n",
    "I use heapq library for solving these problems. heapq only provides implementation of min_heap hence to use max_heap convert the element to negative (-ele) and again return the negative value. By using this you can perform\n",
    "max_heap.\n",
    "\n",
    "Note: If smallest ask go for max_heap else min_heap\n",
    "\n",
    "- [Kth Smallest element](#Kth-Smallest-element)\n",
    "- [Kth largest element](#Kth-largest-element)\n",
    "- [Sort a K sorted array (or a nearly sorted array)](#Sort-a-K-sorted-array-(or-a-nearly-sorted-array))\n",
    "- [K closet numbers](#K-closet-numbers)\n",
    "- [Top K frequent numbers](#Top-K-frequent-numbers)\n",
    "- [Frequency Sort](#Frequency-Sort)\n",
    "- [K-closet point to origin](#K-closet-point-to-origin)\n",
    "- [Connect ropes to minimise the cost](#Connect-ropes-to-minimise-the-cost)\n",
    "- [Sum of Elements between k1 and k2 smallest numbers](#Sum-of-Elements-between-k1-and-k2-smallest-numbers)\n",
    "- [Merge K Sorted Lists](#Merge-K-Sorted-Lists)"
   ]
  },
  {
   "cell_type": "code",
   "execution_count": 1,
   "metadata": {},
   "outputs": [],
   "source": [
    "import heapq"
   ]
  },
  {
   "cell_type": "markdown",
   "metadata": {},
   "source": [
    "## [Kth Smallest element](https://www.geeksforgeeks.org/kth-smallestlargest-element-unsorted-array/)\n",
    "\n",
    "Given an array and a number k where k is smaller than the size of the array, we need to find the k’th smallest element in the given array. It is given that all array elements are distinct.\n",
    "\n",
    "```\n",
    "Input: arr[] = {7, 10, 4, 3, 20, 15} \n",
    "k = 3 \n",
    "Output: 7\n",
    "\n",
    "Input: arr[] = {7, 10, 4, 3, 20, 15} \n",
    "k = 4 \n",
    "Output: 10 \n",
    "```\n",
    "\n",
    "Time complexity of this solution is O(n*Logk)"
   ]
  },
  {
   "cell_type": "code",
   "execution_count": 2,
   "metadata": {},
   "outputs": [
    {
     "data": {
      "text/plain": [
       "4"
      ]
     },
     "execution_count": 2,
     "metadata": {},
     "output_type": "execute_result"
    }
   ],
   "source": [
    "def k_smallest_ele(arr, k):\n",
    "    # Use max heap here\n",
    "    max_heap = []\n",
    "    \n",
    "    for ele in arr:\n",
    "        heapq.heappush(max_heap, -ele)\n",
    "        if len(max_heap) > k:\n",
    "            heapq.heappop(max_heap)\n",
    "    \n",
    "    return -heapq.heappop(max_heap)\n",
    "\n",
    "k_smallest_ele([11, 5, 113, 8, 102, 6, 4, 1, 0, 75, 14, 7], 3)"
   ]
  },
  {
   "cell_type": "markdown",
   "metadata": {},
   "source": [
    "## [Kth largest element](https://www.geeksforgeeks.org/kth-smallestlargest-element-unsorted-array/)"
   ]
  },
  {
   "cell_type": "code",
   "execution_count": 3,
   "metadata": {},
   "outputs": [
    {
     "data": {
      "text/plain": [
       "102"
      ]
     },
     "execution_count": 3,
     "metadata": {},
     "output_type": "execute_result"
    }
   ],
   "source": [
    "def k_largest_ele(arr, k):\n",
    "    min_heap = []\n",
    "    \n",
    "    for ele in arr:\n",
    "        heapq.heappush(min_heap, ele)\n",
    "        if len(min_heap) > k:\n",
    "            heapq.heappop(min_heap)\n",
    "    \n",
    "    return heapq.heappop(min_heap)\n",
    "\n",
    "k_largest_ele([11, 5, 113, 8, 102, 6, 4, 1, 0, 75, 14, 7], 2)"
   ]
  },
  {
   "cell_type": "markdown",
   "metadata": {},
   "source": [
    "## [Sort a K sorted array (or a nearly sorted array)](https://www.geeksforgeeks.org/nearly-sorted-algorithm/)\n",
    "\n",
    "Given an array of n elements, where each element is at most k away from its target position, devise an algorithm that sorts in O(n log k) time. For example, let us consider k is 2, an element at index 7 in the sorted array, can be at indexes 5, 6, 7, 8, 9 in the given array.\n",
    "\n",
    "```\n",
    "Input : arr[] = {6, 5, 3, 2, 8, 10, 9}\n",
    "            k = 3 \n",
    "Output : arr[] = {2, 3, 5, 6, 8, 9, 10}\n",
    "\n",
    "Input : arr[] = {10, 9, 8, 7, 4, 70, 60, 50}\n",
    "         k = 4\n",
    "Output : arr[] = {4, 7, 8, 9, 10, 50, 60, 70}\n",
    "```"
   ]
  },
  {
   "cell_type": "code",
   "execution_count": 4,
   "metadata": {},
   "outputs": [
    {
     "data": {
      "text/plain": [
       "[2, 3, 5, 6, 8, 9, 10]"
      ]
     },
     "execution_count": 4,
     "metadata": {},
     "output_type": "execute_result"
    }
   ],
   "source": [
    "def k_sorted_arr(arr, k):\n",
    "    idx = 0\n",
    "    min_heap = []\n",
    "    \n",
    "    for ele in arr:\n",
    "        heapq.heappush(min_heap, ele)\n",
    "        if len(min_heap) > k:\n",
    "            arr[idx] = heapq.heappop(min_heap)\n",
    "            idx += 1\n",
    "    \n",
    "    for _ in range(k):\n",
    "        arr[idx] = heapq.heappop(min_heap)\n",
    "        idx += 1\n",
    "    \n",
    "    return arr\n",
    "\n",
    "k_sorted_arr([6, 5, 3, 2, 8, 10, 9], 3)"
   ]
  },
  {
   "cell_type": "markdown",
   "metadata": {},
   "source": [
    "## [K closet numbers](https://www.geeksforgeeks.org/find-k-closest-elements-given-value/)\n",
    "\n",
    "Given a sorted array arr[] and a value X, find the k closest elements to X in arr[].\n",
    "\n",
    "Check if ele is same as x.\n",
    "\n",
    "```\n",
    "Input: K = 4, X = 35\n",
    "       arr[] = {12, 16, 22, 30, 35, 39, 42, \n",
    "               45, 48, 50, 53, 55, 56}\n",
    "Output: 30 39 42 45\n",
    "```"
   ]
  },
  {
   "cell_type": "code",
   "execution_count": 5,
   "metadata": {},
   "outputs": [
    {
     "data": {
      "text/plain": [
       "[4, 6, 5]"
      ]
     },
     "execution_count": 5,
     "metadata": {},
     "output_type": "execute_result"
    }
   ],
   "source": [
    "def k_closet_num(arr, k, x):\n",
    "    max_heap = []\n",
    "    \n",
    "    for ele in arr:\n",
    "        heapq.heappush(max_heap, (-abs(ele - x), ele))\n",
    "        if len(max_heap) > k:\n",
    "            heapq.heappop(max_heap)\n",
    "    \n",
    "    return [item[1] for item in max_heap]\n",
    "\n",
    "k_closet_num([1, 2, 3, 4, 5, 6, 7, 8, 9], 3, 5)"
   ]
  },
  {
   "cell_type": "markdown",
   "metadata": {},
   "source": [
    "## [Top K frequent numbers](https://www.geeksforgeeks.org/find-k-numbers-occurrences-given-array/)\n",
    "\n",
    "Given an array of n numbers and a positive integer k. The problem is to find k numbers with most occurrences, i.e., the top k numbers having the maximum frequency. If two numbers have the same frequency then the larger number should be given preference. The numbers should be displayed in decreasing order of their frequencies. It is assumed that the array consists of k numbers with most occurrences.\n",
    "\n",
    "```\n",
    "Input: \n",
    "arr[] = {3, 1, 4, 4, 5, 2, 6, 1}, \n",
    "k = 2\n",
    "Output: 4 1\n",
    "Explanation:\n",
    "Frequency of 4 = 2\n",
    "Frequency of 1 = 2\n",
    "These two have the maximum frequency and\n",
    "4 is larger than 1.\n",
    "```\n",
    "\n",
    "```\n",
    "Complexity Analysis: \n",
    "\n",
    "Time Complexity: O(k log d + d), where d is the count of distinct elements in the array. \n",
    "To remove the top of priority queue O(log d) time is required, so if k elements are removed then O(k log d) time is required and to traverse the distinct elements O(d) time is required.\n",
    "\n",
    "Auxiliary Space: O(d), where d is the count of distinct elements in the array. \n",
    "To store the elements in HashMap O(d) space complexity is needed.\n",
    "```"
   ]
  },
  {
   "cell_type": "code",
   "execution_count": 6,
   "metadata": {},
   "outputs": [
    {
     "data": {
      "text/plain": [
       "[3, 5, 2, 1]"
      ]
     },
     "execution_count": 6,
     "metadata": {},
     "output_type": "execute_result"
    }
   ],
   "source": [
    "def top_k_frequent_num(arr, k):\n",
    "    min_heap = []\n",
    "    ele_count = dict()\n",
    "    \n",
    "    for ele in arr:\n",
    "        if ele in ele_count:\n",
    "            ele_count[ele] += 1\n",
    "        else:\n",
    "            ele_count[ele] = 1\n",
    "    \n",
    "    for key, value in ele_count.items():\n",
    "        heapq.heappush(min_heap, (value, key))\n",
    "        if len(min_heap) > k:\n",
    "            heapq.heappop(min_heap)\n",
    "        \n",
    "    return [item[1] for item in min_heap]\n",
    "\n",
    "top_k_frequent_num([1, 2, 3, 4, 5, 6, 1, 2, 1, 2, 1, 1, 1, 5, 6, 3, 8, 2, 5, 2, 3, 8, 9, 1], 4)"
   ]
  },
  {
   "cell_type": "markdown",
   "metadata": {},
   "source": [
    "## [Frequency Sort](https://www.geeksforgeeks.org/sort-elements-by-frequency/)\n",
    "\n",
    "Print the elements of an array in the decreasing frequency if 2 numbers have same frequency then print the one which came first. \n",
    "\n",
    "```\n",
    "Input:  arr[] = {2, 5, 2, 8, 5, 6, 8, 8}\n",
    "Output: arr[] = {8, 8, 8, 2, 2, 5, 5, 6}\n",
    "\n",
    "Input: arr[] = {2, 5, 2, 6, -1, 9999999, 5, 8, 8, 8}\n",
    "Output: arr[] = {8, 8, 8, 2, 2, 5, 5, 6, -1, 9999999}\n",
    "```"
   ]
  },
  {
   "cell_type": "code",
   "execution_count": 7,
   "metadata": {},
   "outputs": [
    {
     "data": {
      "text/plain": [
       "[1, 1, 1, 1, 1, 1, 1, 2, 2, 2, 2, 2, 3, 3, 3, 5, 5, 5, 6, 6, 8, 8, 4, 9]"
      ]
     },
     "execution_count": 7,
     "metadata": {},
     "output_type": "execute_result"
    }
   ],
   "source": [
    "def frequency_sort(arr):\n",
    "    max_heap = []\n",
    "    ele_count = dict()\n",
    "    \n",
    "    for ele in arr:\n",
    "        if ele in ele_count:\n",
    "            ele_count[ele] += 1\n",
    "        else:\n",
    "            ele_count[ele] = 1\n",
    "    \n",
    "    for key, value in ele_count.items():\n",
    "        heapq.heappush(max_heap, (-value, key))\n",
    "    \n",
    "    arr = []\n",
    "    for _ in range(len(max_heap)):\n",
    "        ele = heapq.heappop(max_heap)\n",
    "        arr += [ele[1]] * (-ele[0])\n",
    "        \n",
    "    return arr\n",
    "\n",
    "frequency_sort([1, 2, 3, 4, 5, 6, 1, 2, 1, 2, 1, 1, 1, 5, 6, 3, 8, 2, 5, 2, 3, 8, 9, 1])"
   ]
  },
  {
   "cell_type": "markdown",
   "metadata": {},
   "source": [
    "## [K-closet point to origin](https://www.geeksforgeeks.org/find-k-closest-points-to-the-origin/)\n",
    "\n",
    "Given a list of points on the 2-D plane and an integer K. The task is to find K closest points to the origin and print them.\n",
    "Note: The distance between two points on a plane is the Euclidean distance.\n",
    "\n",
    "```\n",
    "Input : point = [[3, 3], [5, -1], [-2, 4]], K = 2\n",
    "Output : [[3, 3], [-2, 4]]\n",
    "Square of Distance of origin from this point is \n",
    "(3, 3) = 18\n",
    "(5, -1) = 26\n",
    "(-2, 4) = 20\n",
    "So rhe closest two points are [3, 3], [-2, 4].\n",
    "```"
   ]
  },
  {
   "cell_type": "code",
   "execution_count": 8,
   "metadata": {},
   "outputs": [
    {
     "data": {
      "text/plain": [
       "[(-2, 2), (0, 1)]"
      ]
     },
     "execution_count": 8,
     "metadata": {},
     "output_type": "execute_result"
    }
   ],
   "source": [
    "def k_closet_point_to_origin(arr, k):\n",
    "    max_heap = []\n",
    "    \n",
    "    for point in arr:\n",
    "        heapq.heappush(max_heap, (-distance(point), point))\n",
    "        if len(max_heap) > k:\n",
    "            heapq.heappop(max_heap)\n",
    "    \n",
    "    return [item[1] for item in max_heap]\n",
    "\n",
    "# Calculate distance from origin (0, 0)\n",
    "def distance(point):\n",
    "    x = point[0] ** 2\n",
    "    y = point[1] ** 2\n",
    "    # Simply returning x + y can work too\n",
    "    return (x + y) ** (1/2)\n",
    "\n",
    "points = [(1, 3), (-2, 2), (5, 8), (0, 1)]\n",
    "k = 2\n",
    "k_closet_point_to_origin(points, k)"
   ]
  },
  {
   "cell_type": "markdown",
   "metadata": {},
   "source": [
    "## [Connect ropes to minimise the cost](https://www.geeksforgeeks.org/connect-n-ropes-minimum-cost/)\n",
    "\n",
    "There are given n ropes of different lengths, we need to connect these ropes into one rope. The cost to connect two ropes is equal to the sum of their lengths. We need to connect the ropes with minimum cost.\n",
    "For example, if we are given 4 ropes of lengths 4, 3, 2, and 6. We can connect the ropes in the following ways. \n",
    "\n",
    "1. First, connect ropes of lengths 2 and 3. Now we have three ropes of lengths 4, 6, and 5. \n",
    "2. Now connect ropes of lengths 4 and 5. Now we have two ropes of lengths 6 and 9. \n",
    "3. Finally connect the two ropes and all ropes have connected.\n",
    "\n",
    "Total cost for connecting all ropes is 5 + 9 + 15 = 29. This is the optimized cost for connecting ropes. Other ways of connecting ropes would always have same or more cost. For example, if we connect 4 and 6 first (we get three strings of 3, 2 and 10), then connect 10 and 3 (we get two strings of 13 and 2). Finally we connect 13 and 2. Total cost in this way is 10 + 13 + 15 = 38."
   ]
  },
  {
   "cell_type": "code",
   "execution_count": 9,
   "metadata": {},
   "outputs": [
    {
     "data": {
      "text/plain": [
       "33"
      ]
     },
     "execution_count": 9,
     "metadata": {},
     "output_type": "execute_result"
    }
   ],
   "source": [
    "def connect_ropes(arr):\n",
    "    min_heap = []\n",
    "    \n",
    "    for ele in arr:\n",
    "        heapq.heappush(min_heap, ele)\n",
    "    \n",
    "    min_cost = 0\n",
    "    while len(min_heap) > 1: # min_heap should have atleast 2 elements \n",
    "        cost_min_1 = heapq.heappop(min_heap)\n",
    "        cost_min_2 = heapq.heappop(min_heap)\n",
    "        cost_join = cost_min_1 + cost_min_2\n",
    "        min_cost += cost_join\n",
    "        heapq.heappush(min_heap, cost_join)\n",
    "    \n",
    "    return min_cost\n",
    "\n",
    "connect_ropes([1, 2, 3, 4, 5])"
   ]
  },
  {
   "cell_type": "markdown",
   "metadata": {},
   "source": [
    "## [Sum of Elements between k1 and k2 smallest numbers](https://www.geeksforgeeks.org/sum-elements-k1th-k2th-smallest-elements/)\n",
    "\n",
    "Given an array of integers and two numbers k1 and k2. Find the sum of all elements between given two k1’th and k2’th smallest elements of the array. It may be assumed that (1 <= k1 < k2 <= n) and all elements of array are distinct.\n",
    "\n",
    "```\n",
    "Input : arr[] = {20, 8, 22, 4, 12, 10, 14},  k1 = 3,  k2 = 6  \n",
    "Output : 26          \n",
    "         3rd smallest element is 10. 6th smallest element \n",
    "         is 20. Sum of all element between k1 & k2 is\n",
    "         12 + 14 = 26\n",
    "```"
   ]
  },
  {
   "cell_type": "code",
   "execution_count": 10,
   "metadata": {},
   "outputs": [
    {
     "data": {
      "text/plain": [
       "18"
      ]
     },
     "execution_count": 10,
     "metadata": {},
     "output_type": "execute_result"
    }
   ],
   "source": [
    "def sum_of_ele_btw_k1_k2(arr, k1, k2):\n",
    "    k1_smallest_ele = k_smallest_ele(arr, k1)\n",
    "    k2_smallest_ele = k_smallest_ele(arr, k2)\n",
    "    \n",
    "    sum_ele = 0\n",
    "    for ele in arr:\n",
    "        if k1_smallest_ele <= ele <= k2_smallest_ele:\n",
    "            sum_ele += ele\n",
    "    \n",
    "    return sum_ele\n",
    "\n",
    "sum_of_ele_btw_k1_k2([1, 2, 3, 4, 5, 6, 7, 8, 9], 3, 6)"
   ]
  },
  {
   "cell_type": "markdown",
   "metadata": {},
   "source": [
    "## Merge K Sorted Lists"
   ]
  },
  {
   "cell_type": "code",
   "execution_count": 1,
   "metadata": {},
   "outputs": [],
   "source": [
    "def merge_K_sorted_lists(A):\n",
    "    head = Node(0) # Linked List Node\n",
    "    temp = head\n",
    "\n",
    "    heap = []\n",
    "    for ele in A:\n",
    "        heapq.heappush(heap, (ele.val, ele))\n",
    "\n",
    "    while heap:\n",
    "        _, node = heapq.heappop(heap)\n",
    "        temp.next = node\n",
    "        temp = node\n",
    "        if node.next != None:\n",
    "            heapq.heappush(heap, (node.next.val, node.next))\n",
    "\n",
    "    temp.next = None\n",
    "    return head.next"
   ]
  }
 ],
 "metadata": {
  "kernelspec": {
   "display_name": "Python 3 (ipykernel)",
   "language": "python",
   "name": "python3"
  },
  "language_info": {
   "codemirror_mode": {
    "name": "ipython",
    "version": 3
   },
   "file_extension": ".py",
   "mimetype": "text/x-python",
   "name": "python",
   "nbconvert_exporter": "python",
   "pygments_lexer": "ipython3",
   "version": "3.8.10"
  }
 },
 "nbformat": 4,
 "nbformat_minor": 4
}
