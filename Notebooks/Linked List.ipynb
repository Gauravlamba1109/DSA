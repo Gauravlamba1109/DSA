{
 "cells": [
  {
   "cell_type": "markdown",
   "metadata": {},
   "source": [
    "# Linked List\n",
    "\n",
    "- [Reverse a Linked List](#Reverse-a-Linked-List)\n",
    "- [Remove Nth Node From End of List](#Reverse-a-Linked-List)\n",
    "- [Middle of Linked List](#Remove-Nth-Node-From-End-of-List)\n",
    "- [Merge two sorted Linked List](#Merge-two-sorted-Linked-List)\n",
    "- [Add two numbers given as Linked List](#Add-two-numbers-given-as-Linked-List)\n",
    "- [Intersection Point of two Linked List](#Intersection-Point-of-two-Linked-List)\n",
    "- [Detect a Cycle in Linked List](#Detect-a-Cycle-in-Linked-List)\n",
    "- [Find and remove loop in Linked List](#Find-and-remove-loop-in-Linked-List)\n",
    "- [Check if Linked list is palindrome or not](#Check-if-Linked-list-is-palindrome-or-not)\n",
    "- [Reverse Nodes in k-Group](#Reverse-Nodes-in-k-Group)\n",
    "- [Starting Point of the Cycle](#Starting-Point-of-the-Cycle)\n",
    "- [Flattening a Linked List](#Flattening-a-Linked-List)\n",
    "- [Rotate a Linked List](#Rotate-a-Linked-List)\n",
    "- [Copy Linked List with Random Pointer](#Copy-Linked-List-with-Random-Pointer)\n",
    "\n",
    "## [Reverse a Linked List](https://www.geeksforgeeks.org/reverse-a-linked-list/)"
   ]
  },
  {
   "cell_type": "code",
   "execution_count": 1,
   "metadata": {},
   "outputs": [],
   "source": [
    "def reverse_linked_list(head):\n",
    "    prev_node = None\n",
    "    while head != None:\n",
    "        next_node = head.next\n",
    "        head.next = prev_node\n",
    "        prev_node = head\n",
    "        head = next_node\n",
    "\n",
    "    return prev_node"
   ]
  },
  {
   "cell_type": "markdown",
   "metadata": {},
   "source": [
    "## [Remove Nth Node From End of List](https://www.geeksforgeeks.org/delete-nth-node-from-the-end-of-the-given-linked-list/)"
   ]
  },
  {
   "cell_type": "code",
   "execution_count": 2,
   "metadata": {},
   "outputs": [],
   "source": [
    "def remove_Nth_from_end(head, n):\n",
    "    temp_node = head\n",
    "    prev_node = None\n",
    "    fast_node = head\n",
    "\n",
    "    for _ in range(n):\n",
    "        fast_node = fast_node.next\n",
    "\n",
    "    while fast_node != None:\n",
    "        prev_node = temp_node\n",
    "        temp_node = temp_node.next\n",
    "        fast_node = fast_node.next\n",
    "\n",
    "    if prev_node == None:\n",
    "        head = head.next\n",
    "        del temp_node\n",
    "    else:\n",
    "        prev_node.next = temp_node.next\n",
    "        del temp_node\n",
    "\n",
    "    return head"
   ]
  },
  {
   "cell_type": "markdown",
   "metadata": {},
   "source": [
    "## [Middle of Linked List](https://www.geeksforgeeks.org/write-a-c-function-to-print-the-middle-of-the-linked-list/)"
   ]
  },
  {
   "cell_type": "code",
   "execution_count": 3,
   "metadata": {},
   "outputs": [],
   "source": [
    "def middle_of_linked_list(head):\n",
    "    temp_node = head\n",
    "    fast_node = head\n",
    "\n",
    "    while fast_node != None and fast_node.next != None:\n",
    "        temp_node = temp_node.next\n",
    "        fast_node = fast_node.next.next\n",
    "\n",
    "    return temp_node"
   ]
  },
  {
   "cell_type": "markdown",
   "metadata": {},
   "source": [
    "## [Merge two sorted Linked List](https://www.geeksforgeeks.org/merge-two-sorted-linked-lists/)"
   ]
  },
  {
   "cell_type": "code",
   "execution_count": 4,
   "metadata": {},
   "outputs": [],
   "source": [
    "# Merge two sorted Linked List\n",
    "def merge_two_sorted_lists(l1, l2):\n",
    "    if l1 == None:\n",
    "        return l2\n",
    "    if l2 == None:\n",
    "        return l1\n",
    "\n",
    "    if l2.val < l1.val:\n",
    "        l1, l2 = l2, l1\n",
    "\n",
    "    res_node = l1\n",
    "\n",
    "    while l1 != None and l2 != None:\n",
    "        while l1 != None and l1.val <= l2.val:\n",
    "            temp = l1\n",
    "            l1 = l1.next\n",
    "        temp.next = l2\n",
    "\n",
    "        l1, l2 = l2, l1\n",
    "\n",
    "    return res_node"
   ]
  },
  {
   "cell_type": "markdown",
   "metadata": {},
   "source": [
    "## [Add two numbers given as Linked List](https://www.geeksforgeeks.org/add-two-numbers-represented-by-linked-lists/)"
   ]
  },
  {
   "cell_type": "code",
   "execution_count": 5,
   "metadata": {},
   "outputs": [],
   "source": [
    "def add_two_num(l1, l2):\n",
    "    head = None\n",
    "    node = None\n",
    "    carry = 0\n",
    "\n",
    "    while l1 != None or l2 != None or carry:\n",
    "        if head == None:\n",
    "            head = ListNode()\n",
    "            node = head\n",
    "        else:\n",
    "            node.next = ListNode()\n",
    "            node = node.next\n",
    "\n",
    "        node_sum = 0\n",
    "        if l1 != None:\n",
    "            node_sum += l1.val\n",
    "            l1 = l1.next\n",
    "\n",
    "        if l2 != None:\n",
    "            node_sum += l2.val\n",
    "            l2 = l2.next\n",
    "\n",
    "        node_sum += carry\n",
    "\n",
    "        node.val = node_sum % 10\n",
    "        carry = node_sum // 10\n",
    "\n",
    "    return head"
   ]
  },
  {
   "cell_type": "markdown",
   "metadata": {},
   "source": [
    "## [Intersection Point of two Linked List](https://www.geeksforgeeks.org/write-a-function-to-get-the-intersection-point-of-two-linked-lists/)"
   ]
  },
  {
   "cell_type": "code",
   "execution_count": 6,
   "metadata": {},
   "outputs": [],
   "source": [
    "def get_intersection_node(headA, headB):\n",
    "    if headA == None or headB == None:\n",
    "        return None\n",
    "\n",
    "    head_a = headA\n",
    "    head_b = headB\n",
    "\n",
    "    while (head_a != head_b):\n",
    "        head_a = head_a.next if head_a != None else headB\n",
    "        head_b = head_b.next if head_b != None else headA\n",
    "\n",
    "    return head_a"
   ]
  },
  {
   "cell_type": "markdown",
   "metadata": {},
   "source": [
    "## [Detect a Cycle in Linked List](https://www.geeksforgeeks.org/detect-loop-in-a-linked-list/)"
   ]
  },
  {
   "cell_type": "code",
   "execution_count": 7,
   "metadata": {},
   "outputs": [],
   "source": [
    "def has_cycle(head):\n",
    "    if head == None:\n",
    "        return False\n",
    "\n",
    "    slow_node = head\n",
    "    fast_node = head.next\n",
    "\n",
    "    while slow_node != fast_node:\n",
    "        if fast_node == None or fast_node.next == None:\n",
    "            return False\n",
    "\n",
    "        slow_node = slow_node.next\n",
    "        fast_node = fast_node.next.next\n",
    "\n",
    "    return True"
   ]
  },
  {
   "cell_type": "markdown",
   "metadata": {},
   "source": [
    "## [Find and remove loop in Linked List](https://www.geeksforgeeks.org/detect-and-remove-loop-in-a-linked-list/)"
   ]
  },
  {
   "cell_type": "code",
   "execution_count": 8,
   "metadata": {},
   "outputs": [],
   "source": [
    "def remove_cycle(head):\n",
    "    if head == None or head.next == None:\n",
    "        return\n",
    "\n",
    "    slow_node = head.next\n",
    "    fast_node = head.next.next\n",
    "    prev_node = None\n",
    "\n",
    "    while fast_node and fast_node.next:\n",
    "        if slow_node == fast_node:\n",
    "            break\n",
    "        prev_node = slow_node\n",
    "        slow_node = slow_node.next\n",
    "        fast_node = fast_node.next.next\n",
    "\n",
    "    if slow_node == fast_node:\n",
    "        slow_node = head\n",
    "        while slow_node != fast_node:\n",
    "            prev_node = fast_node\n",
    "            slow_node = slow_node.next\n",
    "            fast_node = fast_node.next\n",
    "    \n",
    "        # Remove the loop\n",
    "        prev_node.next = None"
   ]
  },
  {
   "cell_type": "markdown",
   "metadata": {},
   "source": [
    "## [Check if Linked list is palindrome or not](https://www.geeksforgeeks.org/function-to-check-if-a-singly-linked-list-is-palindrome/)"
   ]
  },
  {
   "cell_type": "code",
   "execution_count": 9,
   "metadata": {},
   "outputs": [],
   "source": [
    "def reverse(node):\n",
    "    prev_node = None\n",
    "    curr_node = node\n",
    "\n",
    "    while curr_node != None:\n",
    "        next_node = curr_node.next\n",
    "        curr_node.next = prev_node\n",
    "        prev_node = curr_node\n",
    "        curr_node = next_node\n",
    "\n",
    "    return prev_node\n",
    "\n",
    "def middle_node(node):\n",
    "    slow_node = node\n",
    "    fast_node = node.next\n",
    "\n",
    "    while fast_node != None and fast_node.next != None:\n",
    "        slow_node = slow_node.next\n",
    "        fast_node = fast_node.next.next\n",
    "\n",
    "    return slow_node\n",
    "\n",
    "def isPalindrome(head):\n",
    "    if head == None:\n",
    "        return True\n",
    "\n",
    "    middle_node = middle_node(head)\n",
    "    reverse_node = reverse(middle_node)\n",
    "\n",
    "    while head != None and reverse_node != None:\n",
    "        if head.val != reverse_node.val:\n",
    "            return False\n",
    "\n",
    "        head = head.next\n",
    "        reverse_node = reverse_node.next\n",
    "\n",
    "    return True"
   ]
  },
  {
   "cell_type": "markdown",
   "metadata": {},
   "source": [
    "## [Reverse Nodes in k-Group](https://www.geeksforgeeks.org/reverse-a-list-in-groups-of-given-size/)"
   ]
  },
  {
   "cell_type": "code",
   "execution_count": 10,
   "metadata": {},
   "outputs": [],
   "source": [
    "def reverseKGroup(head, k):\n",
    "    if k == 1 or head == None:\n",
    "        return head\n",
    "\n",
    "    # Calculate length\n",
    "    n = 0\n",
    "    temp_head = head\n",
    "    while temp_head != None:\n",
    "        n += 1\n",
    "        temp_head = temp_head.next\n",
    "\n",
    "    n_swaps = n // k    \n",
    "    \n",
    "    dummy = ListNode(val = 0, next = head)\n",
    "    prev = dummy\n",
    "    cur = head\n",
    "    pre = dummy\n",
    "    \n",
    "    for i in range(n_swaps):\n",
    "        first_in_interval = cur \n",
    "\n",
    "        for j in range(k):\n",
    "            nxt = cur.next\n",
    "            cur.next = prev\n",
    "            prev = cur\n",
    "            cur = nxt\n",
    "\n",
    "        first_in_interval.next = cur\n",
    "        one_before_interval.next = prev\n",
    "\n",
    "        one_before_interval = first_in_interval\n",
    "    \n",
    "    # if n % k != 0 than we need to also reverse the last group\n",
    "    if n != 0:\n",
    "        cur = pre.next\n",
    "        nex = cur.next\n",
    "        for i in range(1, n):\n",
    "            cur.next = nex.next\n",
    "            nex.next = pre.next\n",
    "            pre.next = nex\n",
    "            nex = cur.next\n",
    "        pre = cur\n",
    "    \n",
    "    return dummy.next"
   ]
  },
  {
   "cell_type": "markdown",
   "metadata": {},
   "source": [
    "## [Starting Point of the Cycle](https://www.geeksforgeeks.org/find-first-node-of-loop-in-a-linked-list/)"
   ]
  },
  {
   "cell_type": "code",
   "execution_count": 11,
   "metadata": {},
   "outputs": [],
   "source": [
    "def detectCycle(head):\n",
    "    if head == None or head.next == None:\n",
    "        return None\n",
    "\n",
    "    slow = head\n",
    "    fast = head\n",
    "\n",
    "    entry = head\n",
    "\n",
    "    while fast != None and fast.next != None:\n",
    "        slow = slow.next\n",
    "        fast = fast.next.next\n",
    "\n",
    "        if slow == fast:\n",
    "            while slow != entry:\n",
    "                slow = slow.next\n",
    "                entry = entry.next\n",
    "\n",
    "            return entry\n",
    "\n",
    "    return None"
   ]
  },
  {
   "cell_type": "markdown",
   "metadata": {},
   "source": [
    "## [Flattening a Linked List](https://www.geeksforgeeks.org/flattening-a-linked-list/)"
   ]
  },
  {
   "cell_type": "code",
   "execution_count": 12,
   "metadata": {},
   "outputs": [],
   "source": [
    "def merge(l1, l2):\n",
    "    l1_temp = l1\n",
    "    l2_temp = l2\n",
    "    \n",
    "    head_node = Node(0)\n",
    "    temp_node = head_node\n",
    "    \n",
    "    while l1_temp != None and l2_temp != None:\n",
    "        if l1_temp.data < l2_temp.data:\n",
    "            temp_node.bottom = l1_temp\n",
    "            temp_node = temp_node.bottom\n",
    "            l1_temp = l1_temp.bottom\n",
    "        else:\n",
    "            temp_node.bottom = l2_temp\n",
    "            temp_node = temp_node.bottom\n",
    "            l2_temp = l2_temp.bottom\n",
    "    \n",
    "    if l1_temp != None:\n",
    "        temp_node.bottom = l1_temp\n",
    "    else:\n",
    "        temp_node.bottom = l2_temp\n",
    "        \n",
    "    return head_node.bottom\n",
    "\n",
    "def flatten(root):\n",
    "    if root == None or root.next == None:\n",
    "        return root\n",
    "    \n",
    "    root.next = flatten(root.next)\n",
    "    root = merge(root, root.next)\n",
    "    \n",
    "    return root"
   ]
  },
  {
   "cell_type": "markdown",
   "metadata": {},
   "source": [
    "## [Rotate a Linked List](https://www.geeksforgeeks.org/clockwise-rotation-of-linked-list/)"
   ]
  },
  {
   "cell_type": "code",
   "execution_count": 13,
   "metadata": {},
   "outputs": [],
   "source": [
    "def rotateRight(head, k):\n",
    "    if head == None or head.next == None or k == 0:\n",
    "        return head\n",
    "\n",
    "    temp_head = head\n",
    "    n = 0\n",
    "    while temp_head.next != None:\n",
    "        n += 1\n",
    "        temp_head = temp_head.next\n",
    "    n += 1    \n",
    "\n",
    "    last_node = temp_head\n",
    "\n",
    "    total_rotation = k % n\n",
    "    if total_rotation == 0:\n",
    "        return head\n",
    "\n",
    "    count = n - total_rotation - 1\n",
    "\n",
    "    temp_node = head\n",
    "    for _ in range(count):\n",
    "        temp_node = temp_node.next\n",
    "        \n",
    "    '''\n",
    "    For Anti-clockwise rotation in the for loop\n",
    "    use 'total_rotation-1' instead of count.\n",
    "    ''' \n",
    "        \n",
    "    new_head = temp_node.next\n",
    "    temp_node.next = None\n",
    "\n",
    "    last_node.next = head\n",
    "\n",
    "    return new_head"
   ]
  },
  {
   "cell_type": "markdown",
   "metadata": {},
   "source": [
    "## [Copy Linked List with Random Pointer](https://www.geeksforgeeks.org/a-linked-list-with-next-and-arbit-pointer/)"
   ]
  },
  {
   "cell_type": "code",
   "execution_count": 14,
   "metadata": {},
   "outputs": [],
   "source": [
    "def copyRandomList(head):\n",
    "    if head == None:\n",
    "        return None\n",
    "\n",
    "    temp_head = head\n",
    "\n",
    "    while temp_head != None:\n",
    "        new_node = Node(temp_head.val, temp_head.next)\n",
    "        temp_head.next = new_node\n",
    "        temp_head = new_node.next\n",
    "\n",
    "    temp_head = head\n",
    "    while temp_head != None:\n",
    "        copy_node = temp_head.next\n",
    "        copy_node.random = temp_head.random.next if temp_head.random != None else None\n",
    "        temp_head = copy_node.next\n",
    "\n",
    "    new_head = head.next\n",
    "    head.next = new_head.next\n",
    "    temp_head = new_head\n",
    "    temp_node = new_head.next\n",
    "    while temp_node != None:\n",
    "        temp_head.next = temp_node.next\n",
    "        temp_head = temp_head.next\n",
    "        temp_node.next = temp_head.next\n",
    "        temp_node = temp_node.next\n",
    "\n",
    "    return new_head"
   ]
  }
 ],
 "metadata": {
  "kernelspec": {
   "display_name": "Python 3 (ipykernel)",
   "language": "python",
   "name": "python3"
  },
  "language_info": {
   "codemirror_mode": {
    "name": "ipython",
    "version": 3
   },
   "file_extension": ".py",
   "mimetype": "text/x-python",
   "name": "python",
   "nbconvert_exporter": "python",
   "pygments_lexer": "ipython3",
   "version": "3.8.5"
  }
 },
 "nbformat": 4,
 "nbformat_minor": 4
}
