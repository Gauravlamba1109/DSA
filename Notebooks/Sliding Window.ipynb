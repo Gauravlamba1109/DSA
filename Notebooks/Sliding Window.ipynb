{
 "cells": [
  {
   "cell_type": "markdown",
   "metadata": {},
   "source": [
    "# Sliding Window\n",
    "\n",
    "This technique shows how a nested for loop in some problems can be converted to a single for loop to reduce the time complexity.\n",
    "\n",
    "- [Maximum sum of subarray of size k](#Maximum-sum-of-subarray-of-size-k)\n",
    "- [First negative number in every window of size k](#First-negative-number-in-every-window-of-size-k)\n",
    "- [Count occurence of anagrams](#Count-occurence-of-anagrams)\n",
    "- [Maximum of all subarray of size k](#Maximum-of-all-subarray-of-size-k)\n",
    "- [Largest subarray of sum k](#Largest-subarray-of-sum-k)\n",
    "- [Longest substring with K unique characters](#Longest-substring-with-K-unique-characters)\n",
    "- [Longest Substring with no repeating characters](#Longest-Substring-with-no-repeating-characters)\n",
    "- [Pick Toys](#Pick-Toys)\n",
    "- [Fruits into Baskets](#Fruits-into-Baskets)\n",
    "- [Longest Substring with Same Letters after Replacement](#Longest-Substring-with-Same-Letters-after-Replacement)\n",
    "- [Longest Subarray with Ones after Replacement](#Longest-Subarray-with-Ones-after-Replacement)\n",
    "\n",
    "Template function for most sliding window algorithm:\n",
    "```python\n",
    "def function(arr, k):\n",
    "    # Base condition\n",
    "    if len(arr) < 2 or k > len(arr):\n",
    "        return -1\n",
    "   \n",
    "    n = len(arr)\n",
    "    \n",
    "    # Pointers\n",
    "    i = 0\n",
    "    j = 0\n",
    "\n",
    "    # To store ans or result\n",
    "    result = []\n",
    "\n",
    "    # Main Loop\n",
    "    while j < n:\n",
    "        # Condition for getting result\n",
    "        if condition_met:\n",
    "            do_something\n",
    "\n",
    "        # Condition for if the window size equals k\n",
    "        if j-i+1 == k:\n",
    "            # Check if result is valid\n",
    "\n",
    "            # Increment i\n",
    "            i += 1\n",
    "\n",
    "        # Increment j\n",
    "        j += 1\n",
    "\n",
    "    # Return result\n",
    "    return result\n",
    "```\n",
    "\n",
    "## [Maximum sum of subarray of size k](https://www.geeksforgeeks.org/find-maximum-minimum-sum-subarray-size-k/)\n",
    "\n",
    "Given an array of integers and a number k, find the maximum sum of a subarray of size k. \n",
    "\n",
    "#### Input / Output\n",
    "\n",
    "```\n",
    "Input  : arr[] = {100, 200, 300, 400}\n",
    "         k = 2\n",
    "Output : 700\n",
    "```"
   ]
  },
  {
   "cell_type": "code",
   "execution_count": 1,
   "metadata": {},
   "outputs": [
    {
     "data": {
      "text/plain": [
       "26"
      ]
     },
     "execution_count": 1,
     "metadata": {},
     "output_type": "execute_result"
    }
   ],
   "source": [
    "def max_sum_subarray(arr, k):\n",
    "    if len(arr) < 2 or k > len(arr):\n",
    "        return -1\n",
    "    \n",
    "    max_sum = sum(arr[:k])\n",
    "    window_sum = max_sum\n",
    "    \n",
    "    for i in range(1, len(arr) - k + 1):\n",
    "        window_sum = window_sum - arr[i-1] + arr[i+k-1]\n",
    "        if window_sum > max_sum:\n",
    "            max_sum = window_sum\n",
    "            \n",
    "    return max_sum\n",
    "\n",
    "max_sum_subarray([5 ,2, 7, 2, 8, 1, 0, 4, 6, 3, 9, 4, 1], 5)"
   ]
  },
  {
   "cell_type": "markdown",
   "metadata": {},
   "source": [
    "## [First negative number in every window of size k](https://www.geeksforgeeks.org/first-negative-integer-every-window-size-k/)\n",
    "\n",
    "Given an array and a positive integer k, find the first negative integer for each window(contiguous subarray) of size k. If a window does not contain a negative integer, then print 0 for that window.\n",
    "\n",
    "```\n",
    "Input : {-8, 2, 3, -6, 10}, k = 2\n",
    "Output : -8 0 -6 -6\n",
    "\n",
    "First negative integer for each window of size k\n",
    "{-8, 2} = -8\n",
    "{2, 3} = 0 (does not contain a negative integer)\n",
    "{3, -6} = -6\n",
    "{-6, 10} = -6\n",
    "```"
   ]
  },
  {
   "cell_type": "code",
   "execution_count": 2,
   "metadata": {},
   "outputs": [
    {
     "data": {
      "text/plain": [
       "[-1, -1, -7, 0, 0, -4, -4, -4]"
      ]
     },
     "execution_count": 2,
     "metadata": {},
     "output_type": "execute_result"
    }
   ],
   "source": [
    "def first_neg_window(arr, k):\n",
    "    n = len(arr)\n",
    "    i = 0\n",
    "    j = 0\n",
    "    l = []\n",
    "    result = []\n",
    "    \n",
    "    while j < n:\n",
    "        if arr[j] < 0:\n",
    "            l.append(arr[j])\n",
    "            \n",
    "        if j - i + 1 == k:\n",
    "            if len(l) >= 1:\n",
    "                result.append(l[0])\n",
    "                if l[0] == arr[i]:\n",
    "                    l = l[1:]\n",
    "            else:\n",
    "                result.append(0)\n",
    "            i += 1\n",
    "        j += 1\n",
    "    \n",
    "    return result\n",
    "\n",
    "first_neg_window([12, -1, -7, 8, 9, 10, 11, -4, -5, 2], 3)"
   ]
  },
  {
   "cell_type": "markdown",
   "metadata": {},
   "source": [
    "## [Count occurence of anagrams](https://www.geeksforgeeks.org/count-occurrences-of-anagrams/)\n",
    "\n",
    "Given a word and a text, return the count of the occurrences of anagrams of the word in the text(For eg: anagrams of word for are for, ofr, rof etc.))\n",
    "\n",
    "#### Input / Output\n",
    "\n",
    "```\n",
    "Input : forxxorfxdofr\n",
    "        for\n",
    "Output : 3\n",
    "Explanation : Anagrams of the word for - for, orf, \n",
    "ofr appear in the text and hence the count is 3.\n",
    "```"
   ]
  },
  {
   "cell_type": "code",
   "execution_count": 3,
   "metadata": {},
   "outputs": [
    {
     "data": {
      "text/plain": [
       "4"
      ]
     },
     "execution_count": 3,
     "metadata": {},
     "output_type": "execute_result"
    }
   ],
   "source": [
    "def count_ocr_anagram(arr, pattern):\n",
    "    i = 0\n",
    "    j = 0\n",
    "    \n",
    "    n = len(arr)\n",
    "    k = len(pattern)\n",
    "    \n",
    "    ans = 0\n",
    "    count = 0\n",
    "    \n",
    "    # Count each word in pattern\n",
    "    word_map = {}\n",
    "    for w in pattern:\n",
    "        if w in word_map:\n",
    "            word_map[w] += 1\n",
    "        else:\n",
    "            word_map[w] = 1\n",
    "            count += 1\n",
    "    \n",
    "    while j < n:\n",
    "        if arr[j] in word_map:\n",
    "            word_map[arr[j]] -= 1\n",
    "            if word_map[arr[j]] == 0:\n",
    "                count -= 1   \n",
    "        if j - i + 1 == k:\n",
    "            if count == 0:\n",
    "                ans += 1\n",
    "            if arr[i] in word_map:\n",
    "                word_map[arr[i]] += 1\n",
    "                # Check if the word is not below 0 otherwise it will make count -ve\n",
    "                if word_map[arr[i]] > 0:\n",
    "                    count += 1\n",
    "            i += 1\n",
    "        j += 1\n",
    "    \n",
    "    return ans\n",
    "\n",
    "count_ocr_anagram('aabaabaa', 'aaab')"
   ]
  },
  {
   "cell_type": "markdown",
   "metadata": {},
   "source": [
    "## [Maximum of all subarray of size k](https://www.geeksforgeeks.org/sliding-window-maximum-maximum-of-all-subarrays-of-size-k/)\n",
    "\n",
    "Given an array and an integer K, find the maximum for each and every contiguous subarray of size k.\n",
    "\n",
    "```\n",
    "Input: arr[] = {1, 2, 3, 1, 4, 5, 2, 3, 6}, K = 3 \n",
    "Output: 3 3 4 5 5 5 6\n",
    "Explanation: \n",
    "Maximum of 1, 2, 3 is 3\n",
    "Maximum of 2, 3, 1 is 3\n",
    "Maximum of 3, 1, 4 is 4\n",
    "Maximum of 1, 4, 5 is 5\n",
    "Maximum of 4, 5, 2 is 5 \n",
    "Maximum of 5, 2, 3 is 5\n",
    "Maximum of 2, 3, 6 is 6\n",
    "```"
   ]
  },
  {
   "cell_type": "code",
   "execution_count": 4,
   "metadata": {},
   "outputs": [
    {
     "data": {
      "text/plain": [
       "[5, 2, 2, 4, 4, 4, 3, 9, 11, 11, 11, 5, 2]"
      ]
     },
     "execution_count": 4,
     "metadata": {},
     "output_type": "execute_result"
    }
   ],
   "source": [
    "def max_all_subarr(arr, k):\n",
    "    i = 0\n",
    "    j = 0\n",
    "    n = len(arr)\n",
    "    \n",
    "    result = []\n",
    "    temp_arr = []\n",
    "    \n",
    "    while j < n:\n",
    "        temp_arr.append(arr[j])\n",
    "        t = 0\n",
    "        while t < len(temp_arr):\n",
    "            if temp_arr[t] >= arr[j]:\n",
    "                temp_arr = temp_arr[t:]\n",
    "                break\n",
    "            t += 1\n",
    "            \n",
    "        if j - i + 1 == k:\n",
    "            result.append(temp_arr[0])\n",
    "            if arr[i] == temp_arr[0]:\n",
    "                temp_arr = temp_arr[1:]\n",
    "            i += 1\n",
    "        j += 1\n",
    "        \n",
    "    return result\n",
    "\n",
    "max_all_subarr([5, 2, 1, -5, 2, 4, 3, 3, -10, 9, 11, 5, 1, -5, 2], 3)"
   ]
  },
  {
   "cell_type": "markdown",
   "metadata": {},
   "source": [
    "## Variable size sliding Window\n",
    "\n",
    "## [Largest subarray of sum k](https://www.geeksforgeeks.org/longest-sub-array-sum-k/)\n",
    "\n",
    "Given an array arr[] of size n containing integers. The problem is to find the length of the longest sub-array having sum equal to the given value k.\n",
    "\n",
    "The below algorithm does not work if the array has -ve elements.(Failing on GFG Test Cases).\n",
    "\n",
    "```\n",
    "Input : { 10, 5, 2, 7, 1, 9 }, \n",
    "            k = 15\n",
    "Output : 4\n",
    "The sub-array is {5, 2, 7, 1}\n",
    "```"
   ]
  },
  {
   "cell_type": "code",
   "execution_count": 1,
   "metadata": {},
   "outputs": [
    {
     "data": {
      "text/plain": [
       "3"
      ]
     },
     "execution_count": 1,
     "metadata": {},
     "output_type": "execute_result"
    }
   ],
   "source": [
    "def largest_subarr_sum_k(arr, k):\n",
    "    n = len(arr)\n",
    "    i = 0\n",
    "    j = 0\n",
    "    \n",
    "    sum_win = 0\n",
    "    max_win_size = -1\n",
    "    \n",
    "    while j < n:\n",
    "        sum_win += arr[j]\n",
    "        \n",
    "        if sum_win > k:\n",
    "            while sum_win > k:\n",
    "                sum_win -= arr[i]\n",
    "                i += 1\n",
    "        \n",
    "        if sum_win == k:\n",
    "            max_win_size = max(max_win_size, j-i+1)\n",
    "            \n",
    "        j += 1\n",
    "        \n",
    "    return max_win_size\n",
    "\n",
    "largest_subarr_sum_k([4, 7, 6, 1, 1, 3, 5], 5)"
   ]
  },
  {
   "cell_type": "markdown",
   "metadata": {
    "scrolled": true
   },
   "source": [
    "## [Longest substring with K unique characters](https://www.geeksforgeeks.org/find-the-longest-substring-with-k-unique-characters-in-a-given-string/)\n",
    "\n",
    "Given a string you need to print longest possible substring that has exactly M unique characters. If there are more than one substring of longest possible length, then print any one of them.\n",
    "\n",
    "Example:\n",
    "```\n",
    "\"aabbcc\", k = 1\n",
    "Max substring can be any one from {\"aa\" , \"bb\" , \"cc\"}.\n",
    "\n",
    "\"aabbcc\", k = 2\n",
    "Max substring can be any one from {\"aabb\" , \"bbcc\"}.\n",
    "```"
   ]
  },
  {
   "cell_type": "code",
   "execution_count": 6,
   "metadata": {},
   "outputs": [
    {
     "data": {
      "text/plain": [
       "7"
      ]
     },
     "execution_count": 6,
     "metadata": {},
     "output_type": "execute_result"
    }
   ],
   "source": [
    "def longest_substring_with_unique_k_chars(string, k):\n",
    "    i = 0\n",
    "    j = 0\n",
    "    n = len(string)\n",
    "    \n",
    "    longest_substring = -1\n",
    "    unique_chars = {}\n",
    "    unique_chars_len = 0\n",
    "    \n",
    "    while j < n:\n",
    "        if string[j] not in unique_chars:\n",
    "            unique_chars[string[j]] = 1\n",
    "            unique_chars_len += 1\n",
    "        else:\n",
    "            unique_chars[string[j]] += 1\n",
    "        \n",
    "        if unique_chars_len > k:\n",
    "            while unique_chars_len > k:\n",
    "                if unique_chars[string[i]] == 1:\n",
    "                    del unique_chars[string[i]]\n",
    "                    unique_chars_len -= 1\n",
    "                else:\n",
    "                    unique_chars[string[i]] -= 1\n",
    "                i += 1\n",
    "        \n",
    "        if unique_chars_len == k:\n",
    "            if j - i + 1 > longest_substring:\n",
    "                longest_substring = j - i + 1\n",
    "        j += 1\n",
    "        \n",
    "    return longest_substring\n",
    "\n",
    "longest_substring_with_unique_k_chars('aabacbebebe', 3)"
   ]
  },
  {
   "cell_type": "markdown",
   "metadata": {
    "scrolled": true
   },
   "source": [
    "## [Longest Substring with no repeating characters](https://www.geeksforgeeks.org/length-of-the-longest-substring-without-repeating-characters/)\n",
    "\n",
    "Given a string str, find the length of the longest substring without repeating characters. \n",
    "```\n",
    "For “ABDEFGABEF”, the longest substring are “BDEFGA” and “DEFGAB”, with length 6.\n",
    "For “BBBB” the longest substring is “B”, with length 1.\n",
    "For “GEEKSFORGEEKS”, there are two longest substrings shown in the below diagrams, with length 7\n",
    "```"
   ]
  },
  {
   "cell_type": "code",
   "execution_count": 7,
   "metadata": {},
   "outputs": [
    {
     "data": {
      "text/plain": [
       "4"
      ]
     },
     "execution_count": 7,
     "metadata": {},
     "output_type": "execute_result"
    }
   ],
   "source": [
    "def longest_substring_no_repeating_chars(string):\n",
    "    i = 0\n",
    "    j = 0\n",
    "    n = len(string)\n",
    "    \n",
    "    chars_count = {}\n",
    "    longest_substring = -1\n",
    "    \n",
    "    while j < n:\n",
    "        if string[j] not in chars_count:\n",
    "            chars_count[string[j]] = 1\n",
    "        else:\n",
    "            while string[j] in chars_count:\n",
    "                del chars_count[string[i]]\n",
    "                i += 1\n",
    "            chars_count[string[j]] = 1\n",
    "        \n",
    "        if j - i + 1 > longest_substring:\n",
    "            longest_substring = j - i + 1\n",
    "        \n",
    "        j += 1\n",
    "    \n",
    "    return longest_substring\n",
    "\n",
    "longest_substring_no_repeating_chars('abedefgghhhig')"
   ]
  },
  {
   "cell_type": "markdown",
   "metadata": {},
   "source": [
    "## Pick Toys\n",
    "\n",
    "John is at a toy store help him pick maximum number of toys. He can only select in a continuous manner and he can select only two types of toys.\n",
    "\n",
    "Input: abaccab\n",
    "\n",
    "Output: 4"
   ]
  },
  {
   "cell_type": "code",
   "execution_count": 8,
   "metadata": {},
   "outputs": [
    {
     "data": {
      "text/plain": [
       "4"
      ]
     },
     "execution_count": 8,
     "metadata": {},
     "output_type": "execute_result"
    }
   ],
   "source": [
    "def pick_toys(string):\n",
    "    n = len(string)\n",
    "    i = 0\n",
    "    j = 0\n",
    "    \n",
    "    chars_count = {}\n",
    "    max_toys = -1\n",
    "    unique_chars = 0\n",
    "    \n",
    "    while j < n:\n",
    "        if string[j] not in chars_count:\n",
    "            unique_chars += 1\n",
    "            chars_count[string[j]] = 1\n",
    "        else:\n",
    "            chars_count[string[j]] += 1\n",
    "            \n",
    "        if unique_chars > 2:\n",
    "            while unique_chars > 2:\n",
    "                if chars_count[string[i]] == 1:\n",
    "                    del chars_count[string[i]]\n",
    "                    unique_chars -= 1\n",
    "                else:\n",
    "                    chars_count[string[i]] -= 1\n",
    "                i += 1\n",
    "                \n",
    "        if unique_chars == 2:\n",
    "            if max_toys < j - i + 1:\n",
    "                max_toys = j - i + 1\n",
    "        \n",
    "        j += 1\n",
    "    \n",
    "    return max_toys\n",
    "\n",
    "pick_toys('abaccab')"
   ]
  },
  {
   "cell_type": "markdown",
   "metadata": {},
   "source": [
    "## Fruits into Baskets\n",
    "\n",
    "In a row of trees, the i-th tree produces fruit with type tree[i].\n",
    "\n",
    "You start at any tree of your choice, then repeatedly perform the following steps:\n",
    "\n",
    "Add one piece of fruit from this tree to your baskets. If you cannot, stop. Move to the next tree to the right of the current tree. If there is no tree to the right, stop. Note that you do not have any choice after the initial choice of starting tree: you must perform step 1, then step 2, then back to step 1, then step 2, and so on until you stop.\n",
    "\n",
    "You have two baskets, and each basket can carry any quantity of fruit, but you want each basket to only carry one type of fruit each.\n",
    "\n",
    "What is the total amount of fruit you can collect with this procedure?\n",
    "\n",
    "```\n",
    "Example 1:\n",
    "\n",
    "Input: [1,2,1] Output: 3 Explanation: We can collect [1,2,1]. Example 2:\n",
    "\n",
    "Input: [0,1,2,2] Output: 3 Explanation: We can collect [1,2,2]. If we started at the first tree, we would only collect [0, 1]. Example 3:\n",
    "\n",
    "Input: [1,2,3,2,2] Output: 4 Explanation: We can collect [2,3,2,2]. If we started at the first tree, we would only collect [1, 2]. Example 4:\n",
    "\n",
    "Input: [3,3,3,1,2,1,1,2,3,3,4] Output: 5 Explanation: We can collect [1,2,1,1,2]. If we started at the first tree or the eighth tree, we would only collect 4 fruits.\n",
    "\n",
    "```\n",
    "Note:\n",
    "\n",
    "1 <= tree.length <= 40000 0 <= tree[i] < tree.length"
   ]
  },
  {
   "cell_type": "code",
   "execution_count": 9,
   "metadata": {},
   "outputs": [
    {
     "data": {
      "text/plain": [
       "5"
      ]
     },
     "execution_count": 9,
     "metadata": {},
     "output_type": "execute_result"
    }
   ],
   "source": [
    "def fruit_into_baskets(arr):\n",
    "    n = len(arr)\n",
    "    \n",
    "    if n == 0:\n",
    "        return 0\n",
    "    \n",
    "    start = 0\n",
    "    end = 0\n",
    "    \n",
    "    max_fruits = 0\n",
    "    unique_tree = dict()\n",
    "    unique_tree_len = 0\n",
    "    \n",
    "    while end < n:\n",
    "        if arr[end] not in unique_tree:\n",
    "            unique_tree[arr[end]] = 1\n",
    "            unique_tree_len += 1\n",
    "        else:\n",
    "            unique_tree[arr[end]] += 1\n",
    "            \n",
    "        while unique_tree_len > 2:\n",
    "            if unique_tree[arr[start]] == 1:\n",
    "                del unique_tree[arr[start]]\n",
    "                unique_tree_len -= 1\n",
    "            else:\n",
    "                unique_tree[arr[start]] -= 1\n",
    "            start += 1\n",
    "            \n",
    "        if 0 < unique_tree_len <= 2:\n",
    "            max_fruits = max(max_fruits, end - start + 1)\n",
    "            \n",
    "        end += 1\n",
    "    \n",
    "    return max_fruits\n",
    "\n",
    "fruit_into_baskets(['A', 'B', 'C', 'B', 'B', 'C'])"
   ]
  },
  {
   "cell_type": "markdown",
   "metadata": {},
   "source": [
    "## [Longest Substring with Same Letters after Replacement](https://www.geeksforgeeks.org/maximum-length-substring-having-all-same-characters-after-k-changes/)\n",
    "\n",
    "We have a string of length n, which consist only UPPER and LOWER CASE characters and we have a number k (always less than n and greater than 0). We can make at most k changes in our string such that we can get a sub-string of maximum length which have all same characters.\n",
    "\n",
    "```\n",
    "n = length of string\n",
    "k = changes you can make\n",
    "Input : n = 5 k = 2\n",
    "        str = ABABA\n",
    "Output : maximum length = 5\n",
    "which will be (AAAAA)\n",
    "\n",
    "Input : n = 6 k = 4\n",
    "       str = HHHHHH\n",
    "Output : maximum length=6\n",
    "which will be(HHHHHH) \n",
    "```"
   ]
  },
  {
   "cell_type": "code",
   "execution_count": 11,
   "metadata": {},
   "outputs": [
    {
     "data": {
      "text/plain": [
       "4"
      ]
     },
     "execution_count": 11,
     "metadata": {},
     "output_type": "execute_result"
    }
   ],
   "source": [
    "def longest_substring_with_replacement(string, k):\n",
    "    n = len(string)\n",
    "    \n",
    "    start = 0\n",
    "    end = 0\n",
    "    \n",
    "    longest_substring = 0\n",
    "    max_chars = 0\n",
    "    unique_chars_dict = dict()\n",
    "    \n",
    "    while end < n:\n",
    "        if string[end] not in unique_chars_dict:\n",
    "            unique_chars_dict[string[end]] = 1\n",
    "        else:\n",
    "            unique_chars_dict[string[end]] += 1\n",
    "        \n",
    "        max_chars = max(max_chars, unique_chars_dict[string[end]])\n",
    "        \n",
    "        if (end - start + 1) - max_chars > k:\n",
    "            if unique_chars_dict[string[start]] == 1:\n",
    "                del unique_chars_dict[string[start]]\n",
    "            else:\n",
    "                unique_chars_dict[string[start]] -= 1\n",
    "            \n",
    "            start += 1\n",
    "        \n",
    "        longest_substring = max(longest_substring, end - start + 1)\n",
    "        \n",
    "        end += 1\n",
    "    \n",
    "    return longest_substring\n",
    "\n",
    "longest_substring_with_replacement(\"abbcb\", 1)"
   ]
  },
  {
   "cell_type": "markdown",
   "metadata": {},
   "source": [
    "## [Longest Subarray with Ones after Replacement](https://www.geeksforgeeks.org/longest-subsegment-1s-formed-changing-k-0s/)\n",
    "\n",
    "Given a binary array a[] and a number k, we need to find length of the longest subsegment of ‘1’s possible by changing at most k ‘0’s. \n",
    "\n",
    "```\n",
    "Input : a[] = {1, 0, 0, 1, 1, 0, 1}, \n",
    "          k = 1.\n",
    "Output : 4\n",
    "Explanation : Here, we should only change 1\n",
    "zero(0). Maximum possible length we can get\n",
    "is by changing the 3rd zero in the array, \n",
    "we get a[] = {1, 0, 0, 1, 1, 1, 1}\n",
    "```"
   ]
  },
  {
   "cell_type": "code",
   "execution_count": 12,
   "metadata": {},
   "outputs": [
    {
     "data": {
      "text/plain": [
       "9"
      ]
     },
     "execution_count": 12,
     "metadata": {},
     "output_type": "execute_result"
    }
   ],
   "source": [
    "def longest_subarray_after_replacement(arr, k):\n",
    "    n = len(arr)\n",
    "    \n",
    "    start = 0\n",
    "    end = 0\n",
    "    \n",
    "    longest_len = 0\n",
    "    dig_count = [0, 0]\n",
    "    count_one = 0\n",
    "    \n",
    "    while end < n:\n",
    "        dig_count[arr[end]] += 1\n",
    "        \n",
    "        if arr[end] == 1:\n",
    "            count_one += 1\n",
    "        \n",
    "        if (end - start + 1) - count_one > k:\n",
    "            if arr[start] == 1:\n",
    "                count_one -= 1\n",
    "            start += 1\n",
    "            \n",
    "        longest_len = max(longest_len, end-start+1)\n",
    "        \n",
    "        end += 1\n",
    "    \n",
    "    return longest_len   \n",
    "\n",
    "longest_subarray_after_replacement([0, 1, 0, 0, 1, 1, 0, 1, 1, 0, 0, 1, 1], 3)"
   ]
  }
 ],
 "metadata": {
  "kernelspec": {
   "display_name": "Python 3",
   "language": "python",
   "name": "python3"
  },
  "language_info": {
   "codemirror_mode": {
    "name": "ipython",
    "version": 3
   },
   "file_extension": ".py",
   "mimetype": "text/x-python",
   "name": "python",
   "nbconvert_exporter": "python",
   "pygments_lexer": "ipython3",
   "version": "3.8.5"
  }
 },
 "nbformat": 4,
 "nbformat_minor": 4
}
