{
 "cells": [
  {
   "cell_type": "markdown",
   "metadata": {},
   "source": [
    "# Stacks\n",
    "\n",
    "- [Nearest Greatest to Right (Next largest element)](#Nearest-Greatest-to-Right-(Next-largest-element))\n",
    "- [Nearest Greatest to left](#Nearest-Greatest-to-left)\n",
    "- [Nearest Smaller to Left](#Nearest-Smaller-to-Left)\n",
    "- [Nearest Smaller to Right](#Nearest-Smaller-to-Right)\n",
    "- [Stock Span Problem](#Stock-Span-Problem)\n",
    "- [Maximum Area Histogram](#Maximum-Area-Histogram)\n",
    "- [Maximum Area of Rectangle in Binary Matrix](#Maximum-Area-of-Rectangle-in-Binary-Matrix)\n",
    "- [Rain Water Trapping](#Rain-Water-Trapping)\n",
    "- [Minimum element in Stack (Implementation of MinStack)](#Minimum-element-in-Stack-(Implementation-of-MinStack))\n",
    "\n",
    "## [Nearest Greatest to Right (Next largest element)](https://www.geeksforgeeks.org/next-greater-element/)\n",
    "\n",
    "Given an array, print the Next Greater Element (NGE) for every element. The Next greater Element for an element x is the first greater element on the right side of x in the array. Elements for which no greater element exist, consider the next greater element as -1. \n",
    "\n",
    "Examples: \n",
    "\n",
    "1. For an array, the rightmost element always has the next greater element as -1.\n",
    "2. For an array that is sorted in decreasing order, all elements have the next greater element as -1.\n",
    "3. For the input array [4, 5, 2, 25], the next greater elements for each element are [5, 25, 25, -1].\n",
    "\n",
    "#### Brute Force\n",
    "\n",
    "In this approach we use two loops iterating over the array. Time Complexity for this solution is O(N2)\n",
    "```python\n",
    "for i in range(len(A)-1):\n",
    "    for j in range(i+1, len(A)):\n",
    "        if A[j] > A[i]:\n",
    "            greaterEle = A[j]\n",
    "            break\n",
    "```\n",
    "\n",
    "In this approach, in the second loop, the value of j is dependent on the value of i. If this happen with other proplem then the problem can be solved with stack approach.\n",
    "\n",
    "#### Stack Approach"
   ]
  },
  {
   "cell_type": "code",
   "execution_count": 1,
   "metadata": {},
   "outputs": [
    {
     "data": {
      "text/plain": [
       "[3, 5, 5, -1]"
      ]
     },
     "execution_count": 1,
     "metadata": {},
     "output_type": "execute_result"
    }
   ],
   "source": [
    "def next_largest_element(arr):\n",
    "    result = []\n",
    "    stack = []\n",
    "    \n",
    "    for ele in arr[::-1]:\n",
    "        if stack and ele >= stack[-1]:\n",
    "            while stack and ele >= stack[-1]:\n",
    "                stack.pop()\n",
    "        \n",
    "        result.append(stack[-1] if stack else -1)\n",
    "        stack.append(ele)\n",
    "        \n",
    "    return result[::-1]\n",
    "\n",
    "next_largest_element([1, 3, 2, 5])"
   ]
  },
  {
   "cell_type": "markdown",
   "metadata": {},
   "source": [
    "## [Nearest Greatest to left](https://www.geeksforgeeks.org/closest-greater-or-same-value-on-left-side-for-every-element-in-array/)\n",
    "\n",
    "Given an array of integers, find the closest (not considering the distance, but value) greater or the same value on the left of every element. If an element has no greater or same value on the left side, print -1.\n",
    "\n",
    "#### Input / Output\n",
    "\n",
    "input : arr[] = {10, 5, 11, 6, 20, 12} \n",
    "\n",
    "Output : -1, 10, -1, 10, -1, 20 "
   ]
  },
  {
   "cell_type": "code",
   "execution_count": 2,
   "metadata": {},
   "outputs": [
    {
     "data": {
      "text/plain": [
       "[-1, 5, 5, 3]"
      ]
     },
     "execution_count": 2,
     "metadata": {},
     "output_type": "execute_result"
    }
   ],
   "source": [
    "def nearest_greatest_to_left(arr):\n",
    "    result = []\n",
    "    stack = []\n",
    "    \n",
    "    for ele in arr:\n",
    "        if stack and ele >= stack[-1]:\n",
    "            while stack and ele >= stack[-1]:\n",
    "                stack.pop()\n",
    "        \n",
    "        result.append(stack[-1] if stack else -1)\n",
    "        stack.append(ele)\n",
    "        \n",
    "    return result\n",
    "\n",
    "nearest_greatest_to_left([5, 2, 3, 1])"
   ]
  },
  {
   "cell_type": "markdown",
   "metadata": {},
   "source": [
    "## [Nearest Smaller to Left](https://www.geeksforgeeks.org/find-the-nearest-smaller-numbers-on-left-side-in-an-array/)\n",
    "\n",
    "Given an array of integers, find the nearest smaller number for every element such that the smaller element is on left side.\n",
    "\n",
    "#### Input / Output\n",
    "\n",
    "Input:  arr[] = {1, 6, 4, 10, 2, 5}\n",
    "\n",
    "Output:         {_, 1, 1,  4, 1, 2}"
   ]
  },
  {
   "cell_type": "code",
   "execution_count": 3,
   "metadata": {},
   "outputs": [
    {
     "data": {
      "text/plain": [
       "[-1, 1, 2, 4, 4, -1]"
      ]
     },
     "execution_count": 3,
     "metadata": {},
     "output_type": "execute_result"
    }
   ],
   "source": [
    "def nearest_smaller_to_left(arr):\n",
    "    result = []\n",
    "    stack = []\n",
    "    \n",
    "    for ele in arr:\n",
    "        if stack and ele <= stack[-1]:\n",
    "            while stack and ele <= stack[-1]:\n",
    "                stack.pop()\n",
    "        \n",
    "        result.append(stack[-1] if stack else -1)\n",
    "        stack.append(ele)\n",
    "    \n",
    "    return result\n",
    "nearest_smaller_to_left([1, 2, 4, 7, 5, 1])"
   ]
  },
  {
   "cell_type": "markdown",
   "metadata": {},
   "source": [
    "## [Nearest Smaller to Right](https://www.geeksforgeeks.org/next-smaller-element/)\n",
    "\n",
    "Given an array, print the Next Smaller Element (NSE) for every element. The Smaller smaller Element for an element x is the first smaller element on the right side of x in array. Elements for which no smaller element exist (on right side), consider next smaller element as -1.\n",
    "\n",
    "Examples: \n",
    "\n",
    "1. For any array, rightmost element always has next smaller element as -1. \n",
    "2. For an array which is sorted in increasing order, all elements have next smaller element as -1. \n",
    "3. For the input array [4, 8, 5, 2, 25], the next smaller elements for each element are [2, 5, 2, -1, -1]."
   ]
  },
  {
   "cell_type": "code",
   "execution_count": 4,
   "metadata": {},
   "outputs": [
    {
     "data": {
      "text/plain": [
       "[2, 2, -1, 8, -1]"
      ]
     },
     "execution_count": 4,
     "metadata": {},
     "output_type": "execute_result"
    }
   ],
   "source": [
    "def nearest_smaller_to_right(arr):\n",
    "    result = []\n",
    "    stack = []\n",
    "    \n",
    "    for ele in arr[::-1]:\n",
    "        if stack and ele <= stack[-1]:\n",
    "            while stack and ele <= stack[-1]:\n",
    "                stack.pop()\n",
    "        \n",
    "        result.append(stack[-1] if stack else -1)\n",
    "        stack.append(ele)\n",
    "        \n",
    "    return result[::-1]\n",
    "\n",
    "nearest_smaller_to_right([4, 5, 2, 10, 8])"
   ]
  },
  {
   "cell_type": "markdown",
   "metadata": {},
   "source": [
    "## [Stock Span Problem](https://www.geeksforgeeks.org/the-stock-span-problem/)\n",
    "\n",
    "The stock span problem is a financial problem where we have a series of n daily price quotes for a stock and we need to calculate span of stock’s price for all n days. \n",
    "The span Si of the stock’s price on a given day i is defined as the maximum number of consecutive days just before the given day, for which the price of the stock on the current day is less than or equal to its price on the given day. \n",
    "\n",
    "This problem is a variant of [Nearest Greatest to left](#Nearest-Greatest-to-left).\n",
    "\n",
    "For example, if an array of 7 days prices is given as {100, 80, 60, 70, 60, 75, 85}, then the span values for corresponding 7 days are {1, 1, 1, 2, 1, 4, 6} "
   ]
  },
  {
   "cell_type": "code",
   "execution_count": 5,
   "metadata": {},
   "outputs": [
    {
     "data": {
      "text/plain": [
       "[1, 1, 1, 2, 1, 4, 6]"
      ]
     },
     "execution_count": 5,
     "metadata": {},
     "output_type": "execute_result"
    }
   ],
   "source": [
    "def stock_span_problem(arr):\n",
    "    result = []\n",
    "    stack = []\n",
    "    \n",
    "    for i, ele in enumerate(arr):\n",
    "        if stack and ele > stack[-1][0]:\n",
    "            while stack and ele > stack[-1][0]:\n",
    "                stack.pop()\n",
    "                \n",
    "        result.append(i - stack[-1][1] if stack else i + 1)\n",
    "        stack.append((ele, i))\n",
    "    \n",
    "    return result\n",
    "\n",
    "stock_span_problem([100, 80, 60, 70, 60, 75, 85])"
   ]
  },
  {
   "cell_type": "markdown",
   "metadata": {},
   "source": [
    "## [Maximum Area Histogram](https://www.geeksforgeeks.org/largest-rectangle-under-histogram/)\n",
    "\n",
    "Find the largest rectangular area possible in a given histogram where the largest rectangle can be made of a number of contiguous bars. For simplicity, assume that all bars have same width and the width is 1 unit. \n",
    "\n",
    "For example, consider the following histogram with 7 bars of heights {6, 2, 5, 4, 5, 1, 6}. The largest possible rectangle possible is 12 (see the below figure, the max area rectangle is highlighted in red)\n",
    "\n",
    "<img src=\"https://media.geeksforgeeks.org/wp-content/cdn-uploads/histogram1.png\">\n",
    "\n",
    "#### Approach\n",
    "\n",
    "1. Find the index of nearest smallest to left (say li is the index of smallest element from the left of element A[i])\n",
    "2. Find the index of nearest smallest to right (say ri is the index of smallest element from the right of element A[i])\n",
    "3. Calculate the width (say wi is the widht of element A[i] can be calculated as 'ri - li - 1')\n",
    "4. Calculate the area (say ai is the area of element A[i] can be calculated as 'A[i] * wi')"
   ]
  },
  {
   "cell_type": "code",
   "execution_count": 6,
   "metadata": {},
   "outputs": [
    {
     "data": {
      "text/plain": [
       "12"
      ]
     },
     "execution_count": 6,
     "metadata": {},
     "output_type": "execute_result"
    }
   ],
   "source": [
    "# Nearest Smallest to Left\n",
    "def NSL(arr):\n",
    "    result = []\n",
    "    stack = []\n",
    "    \n",
    "    for i, ele in enumerate(arr):\n",
    "        if stack and ele <= stack[-1][0]:\n",
    "            while stack and ele <= stack[-1][0]:\n",
    "                stack.pop()\n",
    "        \n",
    "        result.append(stack[-1][1] if stack else -1)\n",
    "        stack.append((ele, i))\n",
    "        \n",
    "    return result\n",
    "\n",
    "# Nearest Smallest to Right\n",
    "def NSR(arr, n):\n",
    "    result = []\n",
    "    stack = []\n",
    "    \n",
    "    for i, ele in enumerate(arr[::-1]):\n",
    "        if stack and ele <= stack[-1][0]:\n",
    "            while stack and ele <= stack[-1][0]:\n",
    "                stack.pop()\n",
    "        \n",
    "        result.append(stack[-1][1] if stack else -1)\n",
    "        stack.append((ele, n-i-1))\n",
    "        \n",
    "    return result[::-1]\n",
    "\n",
    "# Maximum Area Histogram\n",
    "def MAH(arr):\n",
    "    n = len(arr)\n",
    "    left = NSL(arr)\n",
    "    right = NSR(arr, n)\n",
    "    \n",
    "    width = [right[i]-left[i]-1 for i in range(n)]\n",
    "    \n",
    "    area = [arr[i]*width[i] for i in range(n)]\n",
    "    \n",
    "    return max(area)\n",
    "\n",
    "MAH([6, 2, 5, 6, 4, 1, 6])"
   ]
  },
  {
   "cell_type": "markdown",
   "metadata": {},
   "source": [
    "## [Maximum Area of Rectangle in Binary Matrix](https://www.geeksforgeeks.org/maximum-size-rectangle-binary-sub-matrix-1s/)\n",
    "\n",
    "Given a binary matrix, find the maximum size rectangle binary-sub-matrix with all 1’s.\n",
    "\n",
    "Input:\n",
    "```\n",
    "0 1 1 0\n",
    "1 1 1 1\n",
    "1 1 1 1\n",
    "1 1 0 0\n",
    "```\n",
    "\n",
    "Output :\n",
    "```\n",
    "1 1 1 1\n",
    "1 1 1 1\n",
    "```\n",
    "\n",
    "Explanation : \n",
    "\n",
    "The largest rectangle with only 1's is from (1, 0) to (2, 3) which is\n",
    "```\n",
    "1 1 1 1\n",
    "1 1 1 1 \n",
    "```\n",
    "\n",
    "This problem is similar to [Maximum Area Histogram](#Maximum-Area-Histogram)."
   ]
  },
  {
   "cell_type": "code",
   "execution_count": 7,
   "metadata": {},
   "outputs": [
    {
     "data": {
      "text/plain": [
       "8"
      ]
     },
     "execution_count": 7,
     "metadata": {},
     "output_type": "execute_result"
    }
   ],
   "source": [
    "# Nearest Smallest to Left\n",
    "def NSL(arr):\n",
    "    result = []\n",
    "    stack = []\n",
    "    \n",
    "    for i, ele in enumerate(arr):\n",
    "        if stack and ele <= stack[-1][0]:\n",
    "            while stack and ele <= stack[-1][0]:\n",
    "                stack.pop()\n",
    "        \n",
    "        result.append(stack[-1][1] if stack else -1)\n",
    "        stack.append((ele, i))\n",
    "        \n",
    "    return result\n",
    "\n",
    "# Nearest Smallest to Right\n",
    "def NSR(arr, n):\n",
    "    result = []\n",
    "    stack = []\n",
    "    \n",
    "    for i, ele in enumerate(arr[::-1]):\n",
    "        if stack and ele <= stack[-1][0]:\n",
    "            while stack and ele <= stack[-1][0]:\n",
    "                stack.pop()\n",
    "        \n",
    "        result.append(stack[-1][1] if stack else n)\n",
    "        stack.append((ele, n-i-1))\n",
    "        \n",
    "    return result[::-1]\n",
    "\n",
    "# Maximum Area Histogram\n",
    "def MAH(arr):\n",
    "    n = len(arr)\n",
    "    left = NSL(arr)\n",
    "    right = NSR(arr, n)\n",
    "    \n",
    "    width = [right[i]-left[i]-1 for i in range(n)]\n",
    "    area = [arr[i]*width[i] for i in range(n)]\n",
    "    return max(area)\n",
    "\n",
    "def max_area_of_rect_in_binary_matrix(mat):\n",
    "    temp_mat = []\n",
    "    \n",
    "    for i, arr in enumerate(mat):\n",
    "        if i == 0:\n",
    "            temp_mat.append(mat[0])\n",
    "        else:\n",
    "            temp_mat.append([i+j if j != 0 else 0 for i, j in zip(temp_mat[i-1], mat[i])])\n",
    "    \n",
    "    result = [MAH(i) for i in temp_mat]\n",
    "    \n",
    "    return max(result)\n",
    "\n",
    "mat = [[0, 1, 1, 0],\n",
    "       [1, 1, 1, 1],\n",
    "       [1, 1, 1, 1],\n",
    "       [1, 1, 0, 0]]\n",
    "max_area_of_rect_in_binary_matrix(mat)"
   ]
  },
  {
   "cell_type": "markdown",
   "metadata": {},
   "source": [
    "## [Rain Water Trapping](https://www.geeksforgeeks.org/trapping-rain-water/)\n",
    "\n",
    "Given n non-negative integers representing an elevation map where the width of each bar is 1, compute how much water it is able to trap after raining.\n",
    "\n",
    "Stack is not used in this approach but stacks can be used to calculate the Maximum left and right of a particular element.\n",
    "\n",
    "#### Input / Output\n",
    "\n",
    "Input: [3, 0, 2, 0, 4]\n",
    "\n",
    "Output: 7"
   ]
  },
  {
   "cell_type": "code",
   "execution_count": 8,
   "metadata": {},
   "outputs": [
    {
     "data": {
      "text/plain": [
       "10"
      ]
     },
     "execution_count": 8,
     "metadata": {},
     "output_type": "execute_result"
    }
   ],
   "source": [
    "def rain_water_trapping(arr):\n",
    "    max_l = []\n",
    "    for i, ele in enumerate(arr):\n",
    "        if i == 0:\n",
    "            max_l.append(ele)\n",
    "        else:\n",
    "            max_l.append(max(max_l[i-1], ele))\n",
    "    \n",
    "    max_r = []\n",
    "    for i, ele in enumerate(arr[::-1]):\n",
    "        if i == 0:\n",
    "            max_r.append(ele)\n",
    "        else:\n",
    "            max_r.append(max(max_r[i-1], ele))\n",
    "    max_r = max_r[::-1]\n",
    "    \n",
    "    water_trapped = 0\n",
    "    for i, ele in enumerate(arr):\n",
    "        water_trapped += min(max_r[i], max_l[i]) - ele\n",
    "    \n",
    "    return water_trapped\n",
    "\n",
    "rain_water_trapping([3, 0, 0, 2, 0, 4])"
   ]
  },
  {
   "cell_type": "markdown",
   "metadata": {},
   "source": [
    "## [Minimum element in Stack (Implementation of MinStack)](https://www.geeksforgeeks.org/design-a-stack-that-supports-getmin-in-o1-time-and-o1-extra-space/)"
   ]
  },
  {
   "cell_type": "code",
   "execution_count": 9,
   "metadata": {},
   "outputs": [],
   "source": [
    "class Stack:\n",
    "    def __init__(self):\n",
    "        self.stack = []\n",
    "        self.min_stack = []\n",
    "        \n",
    "    def push(self, ele):\n",
    "        if self.min_stack and self.min_stack[-1] >= ele:\n",
    "            self.min_stack.append(ele)\n",
    "        elif not self.min_stack:\n",
    "            self.min_stack.append(ele)\n",
    "        \n",
    "        self.stack.append(ele)\n",
    "    \n",
    "    def pop(self):\n",
    "        if self.min_stack[-1] == self.stack[-1]:\n",
    "            self.min_stack.pop()\n",
    "        return self.stack.pop()\n",
    "    \n",
    "    def min_ele(self):\n",
    "        if self.min_stack:\n",
    "            return self.min_stack[-1]\n",
    "        return 0"
   ]
  }
 ],
 "metadata": {
  "kernelspec": {
   "display_name": "Python 3",
   "language": "python",
   "name": "python3"
  },
  "language_info": {
   "codemirror_mode": {
    "name": "ipython",
    "version": 3
   },
   "file_extension": ".py",
   "mimetype": "text/x-python",
   "name": "python",
   "nbconvert_exporter": "python",
   "pygments_lexer": "ipython3",
   "version": "3.8.5"
  }
 },
 "nbformat": 4,
 "nbformat_minor": 4
}
