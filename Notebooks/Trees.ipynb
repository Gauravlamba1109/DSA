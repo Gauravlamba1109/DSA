{
 "cells": [
  {
   "cell_type": "markdown",
   "metadata": {},
   "source": [
    "# Trees\n",
    "\n",
    "- [Tree](#Tree)\n",
    "- [Tree Traversal](#Tree-Traversal)\n",
    "  - [Inorder](#Inorder)\n",
    "  - [Preorder](#Preorder)\n",
    "  - [Postorder](#Postorder)\n",
    "  - [Print Element from left to right](#Print-Element-from-left-to-right)\n",
    "  - [Print Element from right to left](#Print-Element-from-right-to-left)\n",
    "- [Size of Tree](#Size-of-Tree)\n",
    "- [Maximum in Tree](#Maximum-in-Tree)\n",
    "- [Tree is Balanced or Not](#Tree-is-Balanced-or-Not)\n",
    "- [Width of the Tree](#Width-of-the-Tree)\n",
    "- [Print Left view of the Tree](#Print-Left-view-of-the-Tree)\n",
    "- [Convert Binary tree to Doubly Linked List](#Convert-Binary-tree-to-Doubly-Linked-List)\n",
    "- [Construct a Binary Tree from Inorder and Preorder](#Construct-a-Binary-Tree-from-Inorder-and-Preorder)\n",
    "- [Tree Traversal in Spiral Form](#Tree-Traversal-in-Spiral-Form)\n",
    "- [Diameter of Binary Tree](#Diameter-of-Binary-Tree)\n",
    "- [Lowest Common Ancestor](#Lowest-Common-Ancestor)\n",
    "- [Lowest Common Ancestor : Efficient Method](#Lowest-Common-Ancestor-:-Efficient-Method)\n",
    "- [Burn a Binary Tree from a leaf](#Burn-a-Binary-Tree-from-a-leaf-:-todo)\n",
    "- [Count nodes in a Complete Binary Tree](#Count-nodes-in-a-Complete-Binary-Tree)\n",
    "- [Serialize and Deserialize a Tree](#Serialize-and-Deserialize-a-Tree)\n",
    "\n",
    "## Tree"
   ]
  },
  {
   "cell_type": "code",
   "execution_count": 2,
   "metadata": {},
   "outputs": [],
   "source": [
    "class Node:\n",
    "    def __init__(self, value, parent=None):\n",
    "        self.value = value\n",
    "        self.parent = parent\n",
    "        self.left = None\n",
    "        self.right = None"
   ]
  },
  {
   "cell_type": "code",
   "execution_count": 3,
   "metadata": {},
   "outputs": [],
   "source": [
    "tree = Node(8)\n",
    "tree.left = Node(3, tree)\n",
    "tree.right = Node(6, tree)\n",
    "tree.left.left = Node(1, tree.left)\n",
    "tree.left.right = Node(10, tree.left)\n",
    "tree.right.left = Node(14, tree.right)\n",
    "tree.right.left.left = Node(13, tree.right.left)\n",
    "tree.right.left.right = Node(4, tree.right.left)\n",
    "tree.left.right.left = Node(7, tree.left.right)"
   ]
  },
  {
   "cell_type": "markdown",
   "metadata": {},
   "source": [
    "## Tree Traversal\n",
    "\n",
    "### Inorder"
   ]
  },
  {
   "cell_type": "code",
   "execution_count": 16,
   "metadata": {},
   "outputs": [
    {
     "name": "stdout",
     "output_type": "stream",
     "text": [
      "1 3 7 10 8 13 14 4 6 "
     ]
    }
   ],
   "source": [
    "def Inorder(node):\n",
    "    if node == None:\n",
    "        return\n",
    "    \n",
    "    Inorder(node.left)\n",
    "    print(node.value, end=\" \")\n",
    "    Inorder(node.right)\n",
    "    \n",
    "Inorder(tree)"
   ]
  },
  {
   "cell_type": "markdown",
   "metadata": {},
   "source": [
    "### Preorder"
   ]
  },
  {
   "cell_type": "code",
   "execution_count": 4,
   "metadata": {},
   "outputs": [
    {
     "name": "stdout",
     "output_type": "stream",
     "text": [
      "8 3 1 10 7 6 14 13 4 "
     ]
    }
   ],
   "source": [
    "def Preorder(node):\n",
    "    if node == None:\n",
    "        return\n",
    "    print(node.value, end=\" \")\n",
    "    Preorder(node.left)\n",
    "    Preorder(node.right)\n",
    "\n",
    "Preorder(tree)"
   ]
  },
  {
   "cell_type": "markdown",
   "metadata": {},
   "source": [
    "### Postorder"
   ]
  },
  {
   "cell_type": "code",
   "execution_count": 5,
   "metadata": {},
   "outputs": [
    {
     "name": "stdout",
     "output_type": "stream",
     "text": [
      "1 7 10 3 13 4 14 6 8 "
     ]
    }
   ],
   "source": [
    "def Postorder(node):\n",
    "    if node == None:\n",
    "        return\n",
    "    Postorder(node.left)\n",
    "    Postorder(node.right)\n",
    "    print(node.value, end=\" \")\n",
    "        \n",
    "Postorder(tree)"
   ]
  },
  {
   "cell_type": "markdown",
   "metadata": {},
   "source": [
    "### Print Element from left to right"
   ]
  },
  {
   "cell_type": "code",
   "execution_count": 7,
   "metadata": {},
   "outputs": [
    {
     "name": "stdout",
     "output_type": "stream",
     "text": [
      "8 3 6 1 10 14 7 13 4 "
     ]
    }
   ],
   "source": [
    "def print_left_right(tree):\n",
    "    def helper(node, level):\n",
    "        if not node:\n",
    "            return\n",
    "        if level == 1:\n",
    "            print(node.value, end=\" \")\n",
    "        else:\n",
    "            helper(node.left, level-1)\n",
    "            helper(node.right, level-1)\n",
    "\n",
    "    for h in range(1, tree.height()+1):\n",
    "        helper(tree, h)\n",
    "\n",
    "        \n",
    "# Using Queue\n",
    "def print_left_right(tree):\n",
    "    queue = [tree]\n",
    "    \n",
    "    while queue:\n",
    "        node = queue.pop(0)\n",
    "        print(node.value, end=\" \")\n",
    "        if node.left != None:\n",
    "            queue.append(node.left)\n",
    "        if node.right != None:\n",
    "            queue.append(node.right)\n",
    "    \n",
    "\n",
    "print_left_right(tree)"
   ]
  },
  {
   "cell_type": "markdown",
   "metadata": {},
   "source": [
    "### Print Element from right to left"
   ]
  },
  {
   "cell_type": "code",
   "execution_count": 9,
   "metadata": {},
   "outputs": [
    {
     "name": "stdout",
     "output_type": "stream",
     "text": [
      "8 6 3 14 10 1 4 13 7 "
     ]
    }
   ],
   "source": [
    "def print_right_left(tree):\n",
    "    def helper(node, level):\n",
    "        if not node:\n",
    "            return \n",
    "        if level == 1:\n",
    "            print(node.value, end=\" \")\n",
    "        else:\n",
    "            helper(node.right, level-1)\n",
    "            helper(node.left, level-1)\n",
    "\n",
    "    for h in range(1, tree.height()+1):\n",
    "        helper(tree, h)\n",
    "        \n",
    "# Using queue\n",
    "def print_right_left(tree):\n",
    "    queue = [tree]\n",
    "    \n",
    "    while queue:\n",
    "        node = queue.pop(0)\n",
    "        print(node.value, end=\" \")\n",
    "        if node.right != None:\n",
    "            queue.append(node.right)\n",
    "        if node.left != None:\n",
    "            queue.append(node.left)\n",
    "\n",
    "print_right_left(tree)"
   ]
  },
  {
   "cell_type": "markdown",
   "metadata": {},
   "source": [
    "### Size of Tree"
   ]
  },
  {
   "cell_type": "code",
   "execution_count": 11,
   "metadata": {},
   "outputs": [
    {
     "data": {
      "text/plain": [
       "9"
      ]
     },
     "execution_count": 11,
     "metadata": {},
     "output_type": "execute_result"
    }
   ],
   "source": [
    "def getSize(tree):\n",
    "    if tree.left == None and tree.right == None:\n",
    "        return 1\n",
    "    \n",
    "    left = 0\n",
    "    right = 0\n",
    "    \n",
    "    if tree.left != None:\n",
    "        left = getSize(tree.left)\n",
    "    if tree.right != None:\n",
    "        right = getSize(tree.right)\n",
    "        \n",
    "    return 1 + left + right\n",
    "\n",
    "getSize(tree)"
   ]
  },
  {
   "cell_type": "markdown",
   "metadata": {},
   "source": [
    "### Maximum in Tree"
   ]
  },
  {
   "cell_type": "code",
   "execution_count": 14,
   "metadata": {},
   "outputs": [
    {
     "data": {
      "text/plain": [
       "14"
      ]
     },
     "execution_count": 14,
     "metadata": {},
     "output_type": "execute_result"
    }
   ],
   "source": [
    "def getMax(tree):\n",
    "    if tree == None:\n",
    "        return - float('inf')\n",
    "    \n",
    "    return max(tree.value, getMax(tree.left), getMax(tree.right))\n",
    "\n",
    "getMax(tree)"
   ]
  },
  {
   "cell_type": "markdown",
   "metadata": {},
   "source": [
    "### Children Sum Property"
   ]
  },
  {
   "cell_type": "code",
   "execution_count": 27,
   "metadata": {},
   "outputs": [
    {
     "data": {
      "text/plain": [
       "False"
      ]
     },
     "execution_count": 27,
     "metadata": {},
     "output_type": "execute_result"
    }
   ],
   "source": [
    "def childrenSumProperty(tree):\n",
    "    if tree == None:\n",
    "        return True\n",
    "    if tree.left == None and tree.right == None:\n",
    "        return True\n",
    "    \n",
    "    child_sum = 0\n",
    "    \n",
    "    if tree.left:\n",
    "        child_sum += tree.left.value\n",
    "    if tree.right:\n",
    "        child_sum += tree.right.value\n",
    "        \n",
    "    return (child_sum == tree.value) and childrenSumProperty(tree.left) and childrenSumProperty(tree.right)\n",
    "\n",
    "childrenSumProperty(tree)"
   ]
  },
  {
   "cell_type": "markdown",
   "metadata": {},
   "source": [
    "### Tree is Balanced or Not"
   ]
  },
  {
   "cell_type": "code",
   "execution_count": 28,
   "metadata": {},
   "outputs": [
    {
     "data": {
      "text/plain": [
       "-1"
      ]
     },
     "execution_count": 28,
     "metadata": {},
     "output_type": "execute_result"
    }
   ],
   "source": [
    "def checkTree(tree):\n",
    "    if tree == None:\n",
    "        return 0\n",
    "    \n",
    "    lh = checkTree(tree.left)\n",
    "    if lh == -1:\n",
    "        return -1\n",
    "    \n",
    "    rh = checkTree(tree.right)\n",
    "    if rh == -1:\n",
    "        return -1\n",
    "    \n",
    "    if abs(lh-rh) > 1:\n",
    "        return -1\n",
    "    \n",
    "    return max(lh, rh) + 1\n",
    "\n",
    "checkTree(tree)"
   ]
  },
  {
   "cell_type": "markdown",
   "metadata": {},
   "source": [
    " ### Width of the Tree"
   ]
  },
  {
   "cell_type": "code",
   "execution_count": 34,
   "metadata": {},
   "outputs": [
    {
     "data": {
      "text/plain": [
       "3"
      ]
     },
     "execution_count": 34,
     "metadata": {},
     "output_type": "execute_result"
    }
   ],
   "source": [
    "def getWidth(tree):\n",
    "    queue = [tree, None]\n",
    "    width = 0\n",
    "    count = 0\n",
    "    \n",
    "    while len(queue):\n",
    "        node = queue.pop(0)\n",
    "        if node == None:\n",
    "            if len(queue) > 0:\n",
    "                queue.append(None)\n",
    "            width = max(width, count)\n",
    "            count = 0\n",
    "        else:\n",
    "            count += 1\n",
    "            if node.left:\n",
    "                queue.append(node.left)\n",
    "            if node.right:\n",
    "                queue.append(node.right)\n",
    "    \n",
    "    return width\n",
    "\n",
    "getWidth(tree)"
   ]
  },
  {
   "cell_type": "markdown",
   "metadata": {},
   "source": [
    "### Print Left view of the Tree"
   ]
  },
  {
   "cell_type": "code",
   "execution_count": 14,
   "metadata": {},
   "outputs": [
    {
     "name": "stdout",
     "output_type": "stream",
     "text": [
      "8 3 1 7 "
     ]
    }
   ],
   "source": [
    "max_level = 0\n",
    "# Recursive\n",
    "def printLeft(tree, level=1):\n",
    "    global max_level\n",
    "    if tree == None:\n",
    "        return\n",
    "    if level > max_level:\n",
    "        print(tree.value, end=\" \")\n",
    "        max_level = level\n",
    "    \n",
    "    printLeft(tree.left, level+1)\n",
    "    printLeft(tree.right, level+1)\n",
    "\n",
    "# Iterative\n",
    "def printLeft(tree):\n",
    "    if tree == None:\n",
    "        return 0\n",
    "    queue = [tree]\n",
    "    \n",
    "    while queue:\n",
    "        n = len(queue)\n",
    "        for i in range(n):\n",
    "            node = queue.pop(0)\n",
    "            if i == 0:\n",
    "                print(node.value, end=\" \")\n",
    "            if node.left:\n",
    "                queue.append(node.left)\n",
    "            if node.right:\n",
    "                queue.append(node.right)\n",
    "    \n",
    "printLeft(tree)    "
   ]
  },
  {
   "cell_type": "markdown",
   "metadata": {},
   "source": [
    "### Convert Binary tree to Doubly Linked List"
   ]
  },
  {
   "cell_type": "code",
   "execution_count": 14,
   "metadata": {},
   "outputs": [
    {
     "name": "stdout",
     "output_type": "stream",
     "text": [
      "1 3 7 10 8 13 14 4 6 "
     ]
    }
   ],
   "source": [
    "prev = None\n",
    "def treeToLinkedList(tree):\n",
    "    global prev\n",
    "    if tree == None:\n",
    "        return tree\n",
    "    \n",
    "    head = treeToLinkedList(tree.left)\n",
    "    \n",
    "    if prev == None:\n",
    "        head = tree\n",
    "    else:\n",
    "        prev.right = tree\n",
    "        tree.left = prev\n",
    "    prev = tree\n",
    "    \n",
    "    treeToLinkedList(tree.right)\n",
    "    \n",
    "    return head\n",
    "\n",
    "def printTreeLinkedList(tree):\n",
    "    while tree != None:\n",
    "        print(tree.value, end=\" \")\n",
    "        tree = tree.right\n",
    "\n",
    "head = treeToLinkedList(tree)\n",
    "printTreeLinkedList(head)"
   ]
  },
  {
   "cell_type": "code",
   "execution_count": 15,
   "metadata": {},
   "outputs": [],
   "source": [
    "# Recreating the tree\n",
    "tree = Node(8)\n",
    "tree.left = Node(3, tree)\n",
    "tree.right = Node(6, tree)\n",
    "tree.left.left = Node(1, tree.left)\n",
    "tree.left.right = Node(10, tree.left)\n",
    "tree.right.left = Node(14, tree.right)\n",
    "tree.right.left.left = Node(13, tree.right.left)\n",
    "tree.right.left.right = Node(4, tree.right.left)\n",
    "tree.left.right.left = Node(7, tree.left.right)"
   ]
  },
  {
   "cell_type": "markdown",
   "metadata": {},
   "source": [
    "### Construct a Binary Tree from Inorder and Preorder"
   ]
  },
  {
   "cell_type": "code",
   "execution_count": 1,
   "metadata": {},
   "outputs": [],
   "source": [
    "preIndex = 0\n",
    "def constructBT(inorder, preorder, start, end):\n",
    "    global preIndex\n",
    "    if start > end:\n",
    "        return\n",
    "    \n",
    "    root = Node(pre[preIndex])\n",
    "    preIndex += 1\n",
    "    \n",
    "    inIndex = 0\n",
    "    for i in range(start, end+1):\n",
    "        if inorder[i] == root.value:\n",
    "            inIndex += 1\n",
    "            break\n",
    "    \n",
    "    root.left = constructBT(inorder, preorder, start, inIndex-1)\n",
    "    root.right = conrtuctBT(inorder, preorder, inIndex+1, end)\n",
    "    return root"
   ]
  },
  {
   "cell_type": "markdown",
   "metadata": {},
   "source": [
    "### Tree Traversal in Spiral Form"
   ]
  },
  {
   "cell_type": "code",
   "execution_count": 6,
   "metadata": {},
   "outputs": [
    {
     "name": "stdout",
     "output_type": "stream",
     "text": [
      "8 3 6 10 1 14 7 13 4 "
     ]
    }
   ],
   "source": [
    "def traverseInSpiral(tree):\n",
    "    stack1 = []\n",
    "    stack2 = []\n",
    "    \n",
    "    stack1.append(tree)\n",
    "    \n",
    "    while stack1 or stack2:\n",
    "        while stack1:\n",
    "            node = stack1.pop(0)\n",
    "            print(node.value, end=\" \")\n",
    "            if node.left:\n",
    "                stack2.append(node.left)\n",
    "            if node.right:\n",
    "                stack2.append(node.right)\n",
    "        \n",
    "        while stack2:\n",
    "            node = stack2.pop(0)\n",
    "            print(node.value, end=\" \")\n",
    "            if node.right:\n",
    "                stack1.append(node.right)\n",
    "            if node.left:\n",
    "                stack1.append(node.left)\n",
    "            \n",
    "traverseInSpiral(tree)"
   ]
  },
  {
   "cell_type": "markdown",
   "metadata": {},
   "source": [
    "### Diameter of Binary Tree"
   ]
  },
  {
   "cell_type": "code",
   "execution_count": 16,
   "metadata": {},
   "outputs": [
    {
     "name": "stdout",
     "output_type": "stream",
     "text": [
      "7\n"
     ]
    }
   ],
   "source": [
    "res = 0\n",
    "def diameterOfBT(root):\n",
    "    global res\n",
    "    if root == None:\n",
    "        return 0\n",
    "        \n",
    "    lh = diameterOfBT(root.left)\n",
    "    rh = diameterOfBT(root.right)\n",
    "\n",
    "    res = max(res, 1+lh+rh)\n",
    "\n",
    "    return 1+max(lh, rh)\n",
    "\n",
    "diameterOfBT(tree)\n",
    "print(res)"
   ]
  },
  {
   "cell_type": "markdown",
   "metadata": {},
   "source": [
    "### Lowest Common Ancestor"
   ]
  },
  {
   "cell_type": "code",
   "execution_count": 5,
   "metadata": {},
   "outputs": [
    {
     "data": {
      "text/plain": [
       "8"
      ]
     },
     "execution_count": 5,
     "metadata": {},
     "output_type": "execute_result"
    }
   ],
   "source": [
    "def findPath(root, nodeList, node):\n",
    "    if root == None:\n",
    "        return False\n",
    "    \n",
    "    nodeList.append(root)\n",
    "    \n",
    "    if root.value == node:\n",
    "        return True\n",
    "    \n",
    "    if findPath(root.left, nodeList, node) or findPath(root.right, nodeList, node):\n",
    "        return True\n",
    "    \n",
    "    nodeList.pop()\n",
    "    return False\n",
    "\n",
    "def LCA (root, n1, n2):\n",
    "    path1 = []\n",
    "    path2 = []\n",
    "    findPath(root, path1, n1)\n",
    "    findPath(root, path2, n2)\n",
    "    \n",
    "    result = -1\n",
    "    for ele1, ele2 in zip(path1, path2):\n",
    "        if ele1 == ele2:\n",
    "            # To check the lowest not the higehst\n",
    "            result = ele1.val\n",
    "        \n",
    "    return result\n",
    "\n",
    "LCA(tree, 13, 7)"
   ]
  },
  {
   "cell_type": "markdown",
   "metadata": {},
   "source": [
    "### Lowest Common Ancestor : Efficient Method "
   ]
  },
  {
   "cell_type": "code",
   "execution_count": 4,
   "metadata": {},
   "outputs": [
    {
     "data": {
      "text/plain": [
       "8"
      ]
     },
     "execution_count": 4,
     "metadata": {},
     "output_type": "execute_result"
    }
   ],
   "source": [
    "def LCA(root, n1, n2):\n",
    "    if root == None:\n",
    "        return None\n",
    "    \n",
    "    if root.value == n1 or root.value == n2:\n",
    "        return root.value\n",
    "    \n",
    "    lca1 = LCA(root.left, n1, n2)\n",
    "    lca2 = LCA(root.right, n1, n2)\n",
    "    \n",
    "    if lca1 != -1 and lca2 != -1:\n",
    "        return root.value\n",
    "    elif lca1 != -1:\n",
    "        return lca1\n",
    "    else:\n",
    "        return lca2\n",
    "    \n",
    "LCA(tree, 13, 7)"
   ]
  },
  {
   "cell_type": "markdown",
   "metadata": {},
   "source": [
    "### Burn a Binary Tree from a leaf : todo"
   ]
  },
  {
   "cell_type": "code",
   "execution_count": 11,
   "metadata": {},
   "outputs": [
    {
     "data": {
      "text/plain": [
       "4"
      ]
     },
     "execution_count": 11,
     "metadata": {},
     "output_type": "execute_result"
    }
   ],
   "source": [
    "res = 0\n",
    "dist = 0\n",
    "def burnTime(root, leaf, local_dist):\n",
    "    global dist\n",
    "    global res\n",
    "    if root == None:\n",
    "        return 0\n",
    "    \n",
    "    if root.value == leaf:\n",
    "        dist = 0\n",
    "        return 1\n",
    "    \n",
    "    ldist = -1\n",
    "    rdist = -1\n",
    "    \n",
    "    lh = burnTime(root.left, leaf, ldist)\n",
    "    rh = burnTime(root.right, leaf, rdist)\n",
    "    \n",
    "    if ldist != -1:\n",
    "        dist = rdist + 1\n",
    "        res = max(res, dist+lh)\n",
    "    elif rdist != -1:\n",
    "        dist = rdist + 1\n",
    "        res = max(res, dist+lh)\n",
    "    \n",
    "    return max(lh, rh) + 1\n",
    "\n",
    "burnTime(tree, 13, -1)"
   ]
  },
  {
   "cell_type": "markdown",
   "metadata": {},
   "source": [
    "### Count nodes in a Complete Binary Tree"
   ]
  },
  {
   "cell_type": "code",
   "execution_count": 12,
   "metadata": {},
   "outputs": [
    {
     "data": {
      "text/plain": [
       "8"
      ]
     },
     "execution_count": 12,
     "metadata": {},
     "output_type": "execute_result"
    }
   ],
   "source": [
    "def getHeight(root, direction):\n",
    "    if root == None:\n",
    "        return 0\n",
    "    if direction == 'left':\n",
    "        return 1 + getHeight(root.left, direction)\n",
    "    else:\n",
    "        return 1 + getHeight(root.right, direction)\n",
    "\n",
    "def countNodes(root):\n",
    "    if root == None:\n",
    "        return 0\n",
    "    lh = getHeight(root, 'left')\n",
    "    rh = getHeight(root, 'right')\n",
    "    \n",
    "    if lh == rh:\n",
    "        return 2**lh - 1\n",
    "    \n",
    "    return countNodes(root.left) + countNodes(root.right) + 1\n",
    "\n",
    "countNodes(tree)"
   ]
  },
  {
   "cell_type": "markdown",
   "metadata": {},
   "source": [
    "### Serialize and Deserialize a Tree"
   ]
  },
  {
   "cell_type": "code",
   "execution_count": 17,
   "metadata": {},
   "outputs": [
    {
     "name": "stdout",
     "output_type": "stream",
     "text": [
      "1 3 7 10 8 13 14 4 6 "
     ]
    }
   ],
   "source": [
    "def serialize(tree, arr):\n",
    "    if tree == None:\n",
    "        arr.append(-1)\n",
    "        return arr\n",
    "    arr.append(tree.value)\n",
    "    serialize(tree.left, arr)\n",
    "    serialize(tree.right, arr)\n",
    "    \n",
    "    return arr\n",
    "\n",
    "index = 0\n",
    "def deserialize(arr):\n",
    "    global index\n",
    "    if index == len(arr):\n",
    "        return None\n",
    "    val = arr[index]\n",
    "    index += 1\n",
    "    \n",
    "    if val == -1:\n",
    "        return None\n",
    "    \n",
    "    root = Node(val, -1)\n",
    "    root.left = deserialize(arr)\n",
    "    root.right = deserialize(arr)\n",
    "    return root\n",
    "\n",
    "serializedArr = serialize(tree, [])\n",
    "node = deserialize(serializedArr)\n",
    "Inorder(node)"
   ]
  },
  {
   "cell_type": "markdown",
   "metadata": {},
   "source": [
    "### Binary Lifting with LCA"
   ]
  },
  {
   "cell_type": "code",
   "execution_count": null,
   "metadata": {},
   "outputs": [],
   "source": [
    "def getDepth(node, adj, depth, n):\n",
    "    queue = [(node, 0)]\n",
    "    visited = [False for _ in range(n+1)]\n",
    "  \n",
    "    while queue:\n",
    "        node, d = queue.pop(0)\n",
    "        depth[node] = d \n",
    "        visited[node] = True \n",
    "    \n",
    "    for child in adj[node]:\n",
    "        if not visited[child]:\n",
    "        queue.append((child, d+1))\n",
    "\n",
    "def binary_lifting(src, par, up, tree):\n",
    "    queue = [(src, par)]\n",
    "    while queue:\n",
    "        node, par = queue.pop(0)\n",
    "    \n",
    "        up[node][0] = par \n",
    "        for i in range(20):\n",
    "            if up[node][i-1] != -1:\n",
    "                up[node][i] = up[up[node][i-1]][i-1]\n",
    "            else:\n",
    "                up[node][i] = -1\n",
    "\n",
    "        for child in tree[node]:\n",
    "            if child != par:\n",
    "                queue.append((child, node))\n",
    "\n",
    "def liftNode(node, jump_req, up):\n",
    "    for i in range(19, -1, -1):\n",
    "        if jump_req == 0 or node == -1:\n",
    "            break \n",
    "    \n",
    "        if jump_req >= 1 << i:\n",
    "            jump_req -= 1 << i \n",
    "            node = up[node][i]\n",
    "  \n",
    "    return node \n",
    "  \n",
    "def LCA(u, v, depth, up):\n",
    "    if depth[u] < depth[v]:\n",
    "        u, v = v, u\n",
    "\n",
    "    u = liftNode(u, depth[u] - depth[v], up)\n",
    "  \n",
    "    if u == v:\n",
    "        return u \n",
    "  \n",
    "    for i in range(19, -1, -1):\n",
    "        if up[u][i] != up[v][i]:\n",
    "            u = up[u][i]\n",
    "            v = up[v][i]\n",
    "\n",
    "    return liftNode(u, 1, up)\n",
    "\n",
    "def solve():\n",
    "    n = int(input())\n",
    "    adj = {i: [] for i in range(1, n+1)}\n",
    "\n",
    "    for _ in range(n-1):\n",
    "        u, v = map(int, input().split())\n",
    "        adj[u].append(v)\n",
    "        adj[v].append(u)\n",
    "\n",
    "    up = [[-1 for _ in range(20)] for _ in range(n+1)]\n",
    "    depth = [0 for _ in range(n+1)]\n",
    "  \n",
    "    binary_lifting(1, -1, up, adj)\n",
    "    getDepth(1, adj, depth, n)\n",
    "  \n",
    "    lca = LCA(1, 2, depth, up)"
   ]
  }
 ],
 "metadata": {
  "kernelspec": {
   "display_name": "Python 3 (ipykernel)",
   "language": "python",
   "name": "python3"
  },
  "language_info": {
   "codemirror_mode": {
    "name": "ipython",
    "version": 3
   },
   "file_extension": ".py",
   "mimetype": "text/x-python",
   "name": "python",
   "nbconvert_exporter": "python",
   "pygments_lexer": "ipython3",
   "version": "3.9.7"
  }
 },
 "nbformat": 4,
 "nbformat_minor": 4
}
