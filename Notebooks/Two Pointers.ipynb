{
 "cells": [
  {
   "cell_type": "markdown",
   "metadata": {},
   "source": [
    "# Two Pointers\n",
    "\n",
    "- [3 Sum](#3-Sum)\n",
    "- [Trapping Rain Water](#Trapping-Rain-Water)\n",
    "- [Remove Duplicates from sorted Array](#Remove-Duplicates-from-sorted-Array)\n",
    "- [Maximum Ones After Modification](#Maximum-Ones-After-Modification)\n",
    "- [Four Sum](#Four-Sum)\n",
    "- [Reverse Pairs](#Reverse-Pairs)\n",
    "\n",
    "## [3 Sum](https://www.geeksforgeeks.org/find-triplets-array-whose-sum-equal-zero/)\n",
    "\n",
    "Given an array of distinct elements. The task is to find triplets in the array whose sum is zero.\n",
    "\n",
    "```\n",
    "Input : arr[] = {0, -1, 2, -3, 1}\n",
    "Output : (0 -1 1), (2 -3 1)\n",
    "\n",
    "Explanation : The triplets with zero sum are\n",
    "0 + -1 + 1 = 0 and 2 + -3 + 1 = 0  \n",
    "```"
   ]
  },
  {
   "cell_type": "code",
   "execution_count": 1,
   "metadata": {},
   "outputs": [
    {
     "data": {
      "text/plain": [
       "3"
      ]
     },
     "execution_count": 1,
     "metadata": {},
     "output_type": "execute_result"
    }
   ],
   "source": [
    "def three_sum(arr):\n",
    "    n = len(arr)\n",
    "    count = 0\n",
    "    \n",
    "    arr.sort()\n",
    "    \n",
    "    for i in range(n-2):\n",
    "        a = -arr[i]\n",
    "        \n",
    "        low = i+1\n",
    "        high = n-1\n",
    "        while low < high:\n",
    "            if arr[low] + arr[high] == a:\n",
    "                count += 1\n",
    "                low += 1\n",
    "                high -= 1\n",
    "                \n",
    "                # Remove Repeatation\n",
    "                while low < high and arr[low] == arr[low+1]:\n",
    "                    low += 1\n",
    "                while low < high and arr[high] == arr[high-1]:\n",
    "                    high -= 1\n",
    "\n",
    "            elif arr[low] + arr[high] > a:\n",
    "                high -= 1\n",
    "            else:\n",
    "                low += 1\n",
    "        \n",
    "    return count\n",
    "\n",
    "three_sum([-1, 0, 1, 2, -1, -4])"
   ]
  },
  {
   "cell_type": "markdown",
   "metadata": {},
   "source": [
    "## [Trapping Rain Water](https://www.geeksforgeeks.org/trapping-rain-water/)\n",
    "\n",
    "Given n non-negative integers representing an elevation map where the width of each bar is 1, compute how much water it is able to trap after raining.\n",
    "\n",
    "```\n",
    "Input: arr[]   = {3, 0, 2, 0, 4}\n",
    "Output: 7\n",
    "```"
   ]
  },
  {
   "cell_type": "code",
   "execution_count": 2,
   "metadata": {},
   "outputs": [
    {
     "data": {
      "text/plain": [
       "6"
      ]
     },
     "execution_count": 2,
     "metadata": {},
     "output_type": "execute_result"
    }
   ],
   "source": [
    "def trap_rain_water(arr):\n",
    "    n = len(arr)\n",
    "    \n",
    "    low = 0\n",
    "    high = n-1\n",
    "    \n",
    "    left_max = 0\n",
    "    right_max = 0\n",
    "    \n",
    "    result = 0\n",
    "    \n",
    "    while low < high:\n",
    "        if arr[low] <= arr[high]:\n",
    "            if arr[low] >= left_max:\n",
    "                left_max = arr[low]\n",
    "            else:\n",
    "                result += left_max - arr[low]\n",
    "            low += 1\n",
    "        else:\n",
    "            if arr[high] >= right_max:\n",
    "                right_max = arr[high]\n",
    "            else:\n",
    "                result += right_max - arr[high]\n",
    "            high -= 1\n",
    "    \n",
    "    return result\n",
    "\n",
    "trap_rain_water([0, 1, 0, 2, 1, 0, 1, 3, 2, 1, 2, 1])"
   ]
  },
  {
   "cell_type": "markdown",
   "metadata": {},
   "source": [
    "## [Remove Duplicates from sorted Array](https://www.geeksforgeeks.org/remove-duplicates-sorted-array/)\n",
    "\n",
    "Given a sorted array, the task is to remove the duplicate elements from the array.\n",
    "\n",
    "```\n",
    "Input  : arr[] = {1, 2, 2, 3, 4, 4, 4, 5, 5}\n",
    "Output : arr[] = {1, 2, 3, 4, 5}\n",
    "```"
   ]
  },
  {
   "cell_type": "code",
   "execution_count": 3,
   "metadata": {},
   "outputs": [
    {
     "data": {
      "text/plain": [
       "5"
      ]
     },
     "execution_count": 3,
     "metadata": {},
     "output_type": "execute_result"
    }
   ],
   "source": [
    "def remove_duplicates(nums):\n",
    "    n = len(nums)\n",
    "\n",
    "    if n <= 1:\n",
    "        return n\n",
    "\n",
    "    low = 0\n",
    "    high = 0\n",
    "\n",
    "    curr = 0\n",
    "\n",
    "    while low < n and high < n:\n",
    "        if nums[low] == nums[high]:\n",
    "            high += 1\n",
    "        else:\n",
    "            curr += 1\n",
    "            nums[curr] = nums[high]\n",
    "            low = high\n",
    "            high += 1\n",
    "\n",
    "    return curr + 1\n",
    "\n",
    "remove_duplicates([0,0,1,1,1,2,2,3,3,4])"
   ]
  },
  {
   "cell_type": "markdown",
   "metadata": {},
   "source": [
    "## [Maximum Ones After Modification](https://www.geeksforgeeks.org/longest-subsegment-1s-formed-changing-k-0s/)\n",
    "\n",
    "Given a binary array a[] and a number k, we need to find length of the longest subsegment of ‘1’s possible by changing at most k ‘0’s. \n",
    "\n",
    "```\n",
    "Input : a[] = {1, 0, 0, 1, 1, 0, 1}, \n",
    "          k = 1.\n",
    "Output : 4\n",
    "Explanation : Here, we should only change 1\n",
    "zero(0). Maximum possible length we can get\n",
    "is by changing the 3rd zero in the array, \n",
    "we get a[] = {1, 0, 0, 1, 1, 1, 1}\n",
    "```"
   ]
  },
  {
   "cell_type": "code",
   "execution_count": 4,
   "metadata": {},
   "outputs": [
    {
     "data": {
      "text/plain": [
       "8"
      ]
     },
     "execution_count": 4,
     "metadata": {},
     "output_type": "execute_result"
    }
   ],
   "source": [
    "def max_one_after_modf(A, B):\n",
    "    n = len(A)\n",
    "\n",
    "    ptr = 0\n",
    "    count = 0\n",
    "\n",
    "    ans = 0\n",
    "\n",
    "    for i in range(n):\n",
    "        if A[i] == 0:\n",
    "            count += 1\n",
    "        while count > B:\n",
    "            if A[ptr] == 0:\n",
    "                count -= 1\n",
    "            ptr += 1\n",
    "        ans = max(ans, i-ptr+1)\n",
    "\n",
    "    return ans\n",
    "\n",
    "max_one_after_modf([0, 1, 1, 1, 0, 0, 1, 1, 0, 0, 1, 1, 1, 1], 2)"
   ]
  },
  {
   "cell_type": "markdown",
   "metadata": {},
   "source": [
    "## [Four Sum](https://www.geeksforgeeks.org/find-four-elements-that-sum-to-a-given-value-set-2/)\n",
    "\n",
    "Given an array of integers, find anyone combination of four elements in the array whose sum is equal to a given value X\n",
    "\n",
    "```\n",
    "Input: array = {10, 2, 3, 4, 5, 9, 7, 8} \n",
    "       X = 23 \n",
    "Output: 3 5 7 8\n",
    "Sum of output is equal to 23, \n",
    "i.e. 3 + 5 + 7 + 8 = 23.\n",
    "```"
   ]
  },
  {
   "cell_type": "code",
   "execution_count": 5,
   "metadata": {},
   "outputs": [
    {
     "data": {
      "text/plain": [
       "[(-2, -1, 1, 2), (-2, 0, 0, 2), (-1, 0, 0, 1)]"
      ]
     },
     "execution_count": 5,
     "metadata": {},
     "output_type": "execute_result"
    }
   ],
   "source": [
    "def four_sum(nums, target):\n",
    "    n = len(nums)\n",
    "\n",
    "    nums.sort()\n",
    "\n",
    "    result = []\n",
    "\n",
    "    for a_idx in range(n-3):\n",
    "        for b_idx in range(a_idx+1, n-2):\n",
    "            cd_sum = target - nums[a_idx] - nums[b_idx]\n",
    "\n",
    "            low = b_idx + 1\n",
    "            high = n-1\n",
    "\n",
    "            while low < high:\n",
    "                if nums[low] + nums[high] == cd_sum:\n",
    "                    elements = (nums[a_idx], nums[b_idx], nums[low], nums[high])\n",
    "                    if elements not in result:\n",
    "                        result.append(elements)\n",
    "                    low += 1\n",
    "                    high -= 1\n",
    "                elif nums[low] + nums[high] > cd_sum:\n",
    "                    high -= 1\n",
    "                else:\n",
    "                    low += 1\n",
    "\n",
    "    return result\n",
    "\n",
    "four_sum([1,0,-1,0,-2,2], 0)"
   ]
  },
  {
   "cell_type": "markdown",
   "metadata": {},
   "source": [
    "## Reverse Pairs"
   ]
  },
  {
   "cell_type": "code",
   "execution_count": null,
   "metadata": {},
   "outputs": [],
   "source": []
  }
 ],
 "metadata": {
  "kernelspec": {
   "display_name": "Python 3",
   "language": "python",
   "name": "python3"
  },
  "language_info": {
   "codemirror_mode": {
    "name": "ipython",
    "version": 3
   },
   "file_extension": ".py",
   "mimetype": "text/x-python",
   "name": "python",
   "nbconvert_exporter": "python",
   "pygments_lexer": "ipython3",
   "version": "3.8.5"
  }
 },
 "nbformat": 4,
 "nbformat_minor": 4
}
