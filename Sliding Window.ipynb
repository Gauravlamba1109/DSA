{
 "cells": [
  {
   "cell_type": "code",
   "execution_count": 1,
   "metadata": {},
   "outputs": [],
   "source": [
    "# Maximum sum of subarray of size k\n",
    "def max_sum_subarray(arr, k):\n",
    "    if len(arr) < 2 or k > len(arr):\n",
    "        return -1\n",
    "    \n",
    "    max_sum = sum(arr[:k])\n",
    "    window_sum = max_sum\n",
    "    \n",
    "    for i in range(1, len(arr) - k + 1):\n",
    "        window_sum = window_sum - arr[i-1] + arr[i+k-1]\n",
    "        if window_sum > max_sum:\n",
    "            max_sum = window_sum\n",
    "            \n",
    "    return max_sum"
   ]
  },
  {
   "cell_type": "code",
   "execution_count": 2,
   "metadata": {},
   "outputs": [
    {
     "data": {
      "text/plain": [
       "26"
      ]
     },
     "execution_count": 2,
     "metadata": {},
     "output_type": "execute_result"
    }
   ],
   "source": [
    "max_sum_subarray([5 ,2, 7, 2, 8, 1, 0, 4, 6, 3, 9, 4, 1], 5)"
   ]
  },
  {
   "cell_type": "code",
   "execution_count": 3,
   "metadata": {},
   "outputs": [],
   "source": [
    "# First negative number in every window of size k\n",
    "def first_neg_window(arr, k):\n",
    "    n = len(arr)\n",
    "    i = 0\n",
    "    j = 0\n",
    "    l = []\n",
    "    result = []\n",
    "    \n",
    "    while j < n:\n",
    "        if arr[j] < 0:\n",
    "            l.append(arr[j])\n",
    "            \n",
    "        if j - i + 1 == k:\n",
    "            if len(l) >= 1:\n",
    "                result.append(l[0])\n",
    "                if l[0] == arr[i]:\n",
    "                    l = l[1:]\n",
    "            else:\n",
    "                result.append(0)\n",
    "            i += 1\n",
    "        j += 1\n",
    "    \n",
    "    return result"
   ]
  },
  {
   "cell_type": "code",
   "execution_count": 4,
   "metadata": {},
   "outputs": [
    {
     "data": {
      "text/plain": [
       "[-1, -1, -7, 0, 0, -4, -4, -4]"
      ]
     },
     "execution_count": 4,
     "metadata": {},
     "output_type": "execute_result"
    }
   ],
   "source": [
    "first_neg_window([12, -1, -7, 8, 9, 10, 11, -4, -5, 2], 3)"
   ]
  },
  {
   "cell_type": "code",
   "execution_count": 5,
   "metadata": {},
   "outputs": [],
   "source": [
    "# Count occurence of anagrams\n",
    "def count_ocr_anagram(arr, pattern):\n",
    "    i = 0\n",
    "    j = 0\n",
    "    \n",
    "    n = len(arr)\n",
    "    k = len(pattern)\n",
    "    \n",
    "    ans = 0\n",
    "    count = 0\n",
    "    \n",
    "    # Count each word in pattern\n",
    "    word_map = {}\n",
    "    for w in pattern:\n",
    "        if w in word_map:\n",
    "            word_map[w] += 1\n",
    "        else:\n",
    "            word_map[w] = 1\n",
    "            count += 1\n",
    "    \n",
    "    while j < n:\n",
    "        if arr[j] in word_map:\n",
    "            word_map[arr[j]] -= 1\n",
    "            if word_map[arr[j]] == 0:\n",
    "                count -= 1   \n",
    "        if j - i + 1 == k:\n",
    "            if count == 0:\n",
    "                ans += 1\n",
    "            if arr[i] in word_map:\n",
    "                word_map[arr[i]] += 1\n",
    "                # Check if the word is not below 0 otherwise it will make count -ve\n",
    "                if word_map[arr[i]] > 0:\n",
    "                    count += 1\n",
    "            i += 1\n",
    "        j += 1\n",
    "    \n",
    "    return ans"
   ]
  },
  {
   "cell_type": "code",
   "execution_count": 6,
   "metadata": {},
   "outputs": [
    {
     "data": {
      "text/plain": [
       "4"
      ]
     },
     "execution_count": 6,
     "metadata": {},
     "output_type": "execute_result"
    }
   ],
   "source": [
    "count_ocr_anagram('aabaabaa', 'aaab')"
   ]
  },
  {
   "cell_type": "code",
   "execution_count": 7,
   "metadata": {},
   "outputs": [],
   "source": [
    "# Maximum of all subarray of size k\n",
    "def max_all_subarr(arr, k):\n",
    "    i = 0\n",
    "    j = 0\n",
    "    n = len(arr)\n",
    "    \n",
    "    result = []\n",
    "    temp_arr = []\n",
    "    \n",
    "    while j < n:\n",
    "        temp_arr.append(arr[j])\n",
    "        t = 0\n",
    "        while t < len(temp_arr):\n",
    "            if temp_arr[t] >= arr[j]:\n",
    "                temp_arr = temp_arr[t:]\n",
    "                break\n",
    "            t += 1\n",
    "            \n",
    "        if j - i + 1 == k:\n",
    "            result.append(temp_arr[0])\n",
    "            if arr[i] == temp_arr[0]:\n",
    "                temp_arr = temp_arr[1:]\n",
    "            i += 1\n",
    "        j += 1\n",
    "        \n",
    "    return result"
   ]
  },
  {
   "cell_type": "code",
   "execution_count": 8,
   "metadata": {},
   "outputs": [
    {
     "data": {
      "text/plain": [
       "[5, 2, 2, 4, 4, 4, 3, 9, 11, 11, 11, 5, 2]"
      ]
     },
     "execution_count": 8,
     "metadata": {},
     "output_type": "execute_result"
    }
   ],
   "source": [
    "max_all_subarr([5, 2, 1, -5, 2, 4, 3, 3, -10, 9, 11, 5, 1, -5, 2], 3)"
   ]
  },
  {
   "cell_type": "code",
   "execution_count": 9,
   "metadata": {},
   "outputs": [],
   "source": [
    "# Variable size sliding Window\n",
    "# Largest subarray of sum k\n",
    "def largest_subarr_sum_k(arr, k):\n",
    "    n = len(arr)\n",
    "    i = 0\n",
    "    j = 0\n",
    "    \n",
    "    sum_win = 0\n",
    "    max_win_size = -1\n",
    "    \n",
    "    while j < n:\n",
    "        sum_win += arr[j]\n",
    "        \n",
    "        if sum_win > k:\n",
    "            while sum_win > k:\n",
    "                sum_win -= arr[i]\n",
    "                i += 1\n",
    "        \n",
    "        if sum_win == k:\n",
    "            if j - i + 1 > max_win_size:\n",
    "                max_win_size = j - i + 1\n",
    "            \n",
    "        j += 1\n",
    "        \n",
    "    return max_win_size"
   ]
  },
  {
   "cell_type": "code",
   "execution_count": 10,
   "metadata": {
    "scrolled": true
   },
   "outputs": [
    {
     "data": {
      "text/plain": [
       "3"
      ]
     },
     "execution_count": 10,
     "metadata": {},
     "output_type": "execute_result"
    }
   ],
   "source": [
    "largest_subarr_sum_k([4, 7, 6, 1, 1, 3, 5], 5)"
   ]
  },
  {
   "cell_type": "code",
   "execution_count": 11,
   "metadata": {},
   "outputs": [],
   "source": [
    "# Longest substring with K unique characters\n",
    "def longest_substring_with_unique_k_chars(string, k):\n",
    "    i = 0\n",
    "    j = 0\n",
    "    n = len(string)\n",
    "    \n",
    "    longest_substring = -1\n",
    "    unique_chars = {}\n",
    "    unique_chars_len = 0\n",
    "    \n",
    "    while j < n:\n",
    "        if string[j] not in unique_chars:\n",
    "            unique_chars[string[j]] = 1\n",
    "            unique_chars_len += 1\n",
    "        else:\n",
    "            unique_chars[string[j]] += 1\n",
    "        \n",
    "        if unique_chars_len > k:\n",
    "            while unique_chars_len > k:\n",
    "                if unique_chars[string[i]] == 1:\n",
    "                    del unique_chars[string[i]]\n",
    "                    unique_chars_len -= 1\n",
    "                else:\n",
    "                    unique_chars[string[i]] -= 1\n",
    "                i += 1\n",
    "        \n",
    "        if unique_chars_len == k:\n",
    "            if j - i + 1 > longest_substring:\n",
    "                longest_substring = j - i + 1\n",
    "        j += 1\n",
    "        \n",
    "    return longest_substring"
   ]
  },
  {
   "cell_type": "code",
   "execution_count": 12,
   "metadata": {
    "scrolled": true
   },
   "outputs": [
    {
     "data": {
      "text/plain": [
       "7"
      ]
     },
     "execution_count": 12,
     "metadata": {},
     "output_type": "execute_result"
    }
   ],
   "source": [
    "longest_substring_with_unique_k_chars('aabacbebebe', 3)"
   ]
  },
  {
   "cell_type": "code",
   "execution_count": 13,
   "metadata": {},
   "outputs": [],
   "source": [
    "# Longest Substring with no repeating characters\n",
    "def longest_substring_no_repeating_chars(string):\n",
    "    i = 0\n",
    "    j = 0\n",
    "    n = len(string)\n",
    "    \n",
    "    chars_count = {}\n",
    "    longest_substring = -1\n",
    "    \n",
    "    while j < n:\n",
    "        if string[j] not in chars_count:\n",
    "            chars_count[string[j]] = 1\n",
    "        else:\n",
    "            while string[j] in chars_count:\n",
    "                del chars_count[string[i]]\n",
    "                i += 1\n",
    "            chars_count[string[j]] = 1\n",
    "        \n",
    "        if j - i + 1 > longest_substring:\n",
    "            longest_substring = j - i + 1\n",
    "        \n",
    "        j += 1\n",
    "    \n",
    "    return longest_substring"
   ]
  },
  {
   "cell_type": "code",
   "execution_count": 14,
   "metadata": {},
   "outputs": [
    {
     "data": {
      "text/plain": [
       "4"
      ]
     },
     "execution_count": 14,
     "metadata": {},
     "output_type": "execute_result"
    }
   ],
   "source": [
    "longest_substring_no_repeating_chars('abedefgghhhig')"
   ]
  },
  {
   "cell_type": "code",
   "execution_count": 15,
   "metadata": {},
   "outputs": [],
   "source": [
    "# Pick Toys\n",
    "def pick_toys(string):\n",
    "    n = len(string)\n",
    "    i = 0\n",
    "    j = 0\n",
    "    \n",
    "    chars_count = {}\n",
    "    max_toys = -1\n",
    "    unique_chars = 0\n",
    "    \n",
    "    while j < n:\n",
    "        if string[j] not in chars_count:\n",
    "            unique_chars += 1\n",
    "            chars_count[string[j]] = 1\n",
    "        else:\n",
    "            chars_count[string[j]] += 1\n",
    "            \n",
    "        if unique_chars > 2:\n",
    "            while unique_chars > 2:\n",
    "                if chars_count[string[i]] == 1:\n",
    "                    del chars_count[string[i]]\n",
    "                    unique_chars -= 1\n",
    "                else:\n",
    "                    chars_count[string[i]] -= 1\n",
    "                i += 1\n",
    "                \n",
    "        if unique_chars == 2:\n",
    "            if max_toys < j - i + 1:\n",
    "                max_toys = j - i + 1\n",
    "        \n",
    "        j += 1\n",
    "    \n",
    "    return max_toys"
   ]
  },
  {
   "cell_type": "code",
   "execution_count": 16,
   "metadata": {},
   "outputs": [
    {
     "data": {
      "text/plain": [
       "4"
      ]
     },
     "execution_count": 16,
     "metadata": {},
     "output_type": "execute_result"
    }
   ],
   "source": [
    "pick_toys('abaccab')"
   ]
  }
 ],
 "metadata": {
  "kernelspec": {
   "display_name": "Python 3",
   "language": "python",
   "name": "python3"
  },
  "language_info": {
   "codemirror_mode": {
    "name": "ipython",
    "version": 3
   },
   "file_extension": ".py",
   "mimetype": "text/x-python",
   "name": "python",
   "nbconvert_exporter": "python",
   "pygments_lexer": "ipython3",
   "version": "3.8.5"
  }
 },
 "nbformat": 4,
 "nbformat_minor": 4
}
