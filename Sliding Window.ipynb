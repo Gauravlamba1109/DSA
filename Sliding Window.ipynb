{
 "cells": [
  {
   "cell_type": "code",
   "execution_count": 1,
   "metadata": {},
   "outputs": [],
   "source": [
    "# Maximum sum of subarray of size k\n",
    "def max_sum_subarray(arr, k):\n",
    "    if len(arr) < 2 or k > len(arr):\n",
    "        return -1\n",
    "    \n",
    "    max_sum = sum(arr[:k])\n",
    "    window_sum = max_sum\n",
    "    \n",
    "    for i in range(1, len(arr) - k + 1):\n",
    "        window_sum = window_sum - arr[i-1] + arr[i+k-1]\n",
    "        if window_sum > max_sum:\n",
    "            max_sum = window_sum\n",
    "            \n",
    "    return max_sum"
   ]
  },
  {
   "cell_type": "code",
   "execution_count": 2,
   "metadata": {},
   "outputs": [
    {
     "data": {
      "text/plain": [
       "26"
      ]
     },
     "execution_count": 2,
     "metadata": {},
     "output_type": "execute_result"
    }
   ],
   "source": [
    "max_sum_subarray([5 ,2, 7, 2, 8, 1, 0, 4, 6, 3, 9, 4, 1], 5)"
   ]
  },
  {
   "cell_type": "code",
   "execution_count": 11,
   "metadata": {},
   "outputs": [],
   "source": [
    "# First negative number in every window of size k\n",
    "def first_neg_window(arr, k):\n",
    "    n = len(arr)\n",
    "    i = 0\n",
    "    j = 0\n",
    "    l = []\n",
    "    result = []\n",
    "    \n",
    "    while j < n:\n",
    "        if arr[j] < 0:\n",
    "            l.append(arr[j])\n",
    "            \n",
    "        if j - i + 1 == k:\n",
    "            if len(l) >= 1:\n",
    "                result.append(l[0])\n",
    "                if l[0] == arr[i]:\n",
    "                    l = l[1:]\n",
    "            else:\n",
    "                result.append(0)\n",
    "            i += 1\n",
    "            \n",
    "        j += 1\n",
    "    \n",
    "    return result"
   ]
  },
  {
   "cell_type": "code",
   "execution_count": 14,
   "metadata": {},
   "outputs": [
    {
     "data": {
      "text/plain": [
       "[-1, -1, -7, 0, 0, -4, -4, -4]"
      ]
     },
     "execution_count": 14,
     "metadata": {},
     "output_type": "execute_result"
    }
   ],
   "source": [
    "first_neg_window([12, -1, -7, 8, 9, 10, 11, -4, -5, 2], 3)"
   ]
  },
  {
   "cell_type": "code",
   "execution_count": null,
   "metadata": {},
   "outputs": [],
   "source": []
  }
 ],
 "metadata": {
  "kernelspec": {
   "display_name": "Python 3",
   "language": "python",
   "name": "python3"
  },
  "language_info": {
   "codemirror_mode": {
    "name": "ipython",
    "version": 3
   },
   "file_extension": ".py",
   "mimetype": "text/x-python",
   "name": "python",
   "nbconvert_exporter": "python",
   "pygments_lexer": "ipython3",
   "version": "3.8.5"
  }
 },
 "nbformat": 4,
 "nbformat_minor": 4
}
