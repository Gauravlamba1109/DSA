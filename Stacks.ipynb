{
 "cells": [
  {
   "cell_type": "code",
   "execution_count": 1,
   "metadata": {},
   "outputs": [],
   "source": [
    "# Nearest Greatest to Right (Next largest element)\n",
    "def next_largest_element(arr):\n",
    "    result = []\n",
    "    stack = []\n",
    "    \n",
    "    for ele in arr[::-1]:\n",
    "        if stack and ele >= stack[-1]:\n",
    "            while stack and ele >= stack[-1]:\n",
    "                stack.pop()\n",
    "        \n",
    "        result.append(stack[-1] if stack else -1)\n",
    "        stack.append(ele)\n",
    "        \n",
    "    return result[::-1]"
   ]
  },
  {
   "cell_type": "code",
   "execution_count": 2,
   "metadata": {},
   "outputs": [
    {
     "data": {
      "text/plain": [
       "[3, 5, 5, -1]"
      ]
     },
     "execution_count": 2,
     "metadata": {},
     "output_type": "execute_result"
    }
   ],
   "source": [
    "next_largest_element([1, 3, 2, 5])"
   ]
  },
  {
   "cell_type": "code",
   "execution_count": 3,
   "metadata": {},
   "outputs": [],
   "source": [
    "# Nearest Greatest to left\n",
    "def nearest_greatest_to_left(arr):\n",
    "    result = []\n",
    "    stack = []\n",
    "    \n",
    "    for ele in arr:\n",
    "        if stack and ele >= stack[-1]:\n",
    "            while stack and ele >= stack[-1]:\n",
    "                stack.pop()\n",
    "        \n",
    "        result.append(stack[-1] if stack else -1)\n",
    "        stack.append(ele)\n",
    "        \n",
    "    return result"
   ]
  },
  {
   "cell_type": "code",
   "execution_count": 4,
   "metadata": {},
   "outputs": [
    {
     "data": {
      "text/plain": [
       "[-1, 5, 5, 3]"
      ]
     },
     "execution_count": 4,
     "metadata": {},
     "output_type": "execute_result"
    }
   ],
   "source": [
    "nearest_greatest_to_left([5, 2, 3, 1])"
   ]
  },
  {
   "cell_type": "code",
   "execution_count": 5,
   "metadata": {},
   "outputs": [],
   "source": [
    "# Nearest Smaller to Left\n",
    "def nearest_smaller_to_left(arr):\n",
    "    result = []\n",
    "    stack = []\n",
    "    \n",
    "    for ele in arr:\n",
    "        if stack and ele <= stack[-1]:\n",
    "            while stack and ele <= stack[-1]:\n",
    "                stack.pop()\n",
    "        \n",
    "        result.append(stack[-1] if stack else -1)\n",
    "        stack.append(ele)\n",
    "    \n",
    "    return result"
   ]
  },
  {
   "cell_type": "code",
   "execution_count": 6,
   "metadata": {},
   "outputs": [
    {
     "data": {
      "text/plain": [
       "[-1, 1, 2, 4, 4, -1]"
      ]
     },
     "execution_count": 6,
     "metadata": {},
     "output_type": "execute_result"
    }
   ],
   "source": [
    "nearest_smaller_to_left([1, 2, 4, 7, 5, 1])"
   ]
  },
  {
   "cell_type": "code",
   "execution_count": 7,
   "metadata": {},
   "outputs": [],
   "source": [
    "# Nearest Smaller to Right\n",
    "def nearest_smaller_to_right(arr):\n",
    "    result = []\n",
    "    stack = []\n",
    "    \n",
    "    for ele in arr[::-1]:\n",
    "        if stack and ele <= stack[-1]:\n",
    "            while stack and ele <= stack[-1]:\n",
    "                stack.pop()\n",
    "        \n",
    "        result.append(stack[-1] if stack else -1)\n",
    "        stack.append(ele)\n",
    "        \n",
    "    return result[::-1]"
   ]
  },
  {
   "cell_type": "code",
   "execution_count": 8,
   "metadata": {},
   "outputs": [
    {
     "data": {
      "text/plain": [
       "[2, 2, -1, 8, -1]"
      ]
     },
     "execution_count": 8,
     "metadata": {},
     "output_type": "execute_result"
    }
   ],
   "source": [
    "nearest_smaller_to_right([4, 5, 2, 10, 8])"
   ]
  },
  {
   "cell_type": "code",
   "execution_count": 7,
   "metadata": {},
   "outputs": [],
   "source": [
    "# Stock Span Problem\n",
    "def stock_span_problem(arr):\n",
    "    result = []\n",
    "    stack = []\n",
    "    \n",
    "    for i, ele in enumerate(arr):\n",
    "        if stack and ele > stack[-1][0]:\n",
    "            while stack and ele > stack[-1][0]:\n",
    "                stack.pop()\n",
    "                \n",
    "        result.append(i - stack[-1][1] if stack else i + 1)\n",
    "        stack.append((ele, i))\n",
    "    \n",
    "    return result"
   ]
  },
  {
   "cell_type": "code",
   "execution_count": 8,
   "metadata": {},
   "outputs": [
    {
     "data": {
      "text/plain": [
       "[1, 1, 1, 2, 1, 4, 6]"
      ]
     },
     "execution_count": 8,
     "metadata": {},
     "output_type": "execute_result"
    }
   ],
   "source": [
    "stock_span_problem([100, 80, 60, 70, 60, 75, 85])"
   ]
  },
  {
   "cell_type": "code",
   "execution_count": 11,
   "metadata": {},
   "outputs": [],
   "source": [
    "# Maximum Area Histogram\n",
    "\n",
    "# Nearest Smallest to Left\n",
    "def NSL(arr):\n",
    "    result = []\n",
    "    stack = []\n",
    "    \n",
    "    for i, ele in enumerate(arr):\n",
    "        if stack and ele <= stack[-1][0]:\n",
    "            while stack and ele <= stack[-1][0]:\n",
    "                stack.pop()\n",
    "        \n",
    "        result.append(stack[-1][1] if stack else -1)\n",
    "        stack.append((ele, i))\n",
    "        \n",
    "    return result\n",
    "\n",
    "# Nearest Smallest to Right\n",
    "def NSR(arr, n):\n",
    "    result = []\n",
    "    stack = []\n",
    "    \n",
    "    for i, ele in enumerate(arr[::-1]):\n",
    "        if stack and ele <= stack[-1][0]:\n",
    "            while stack and ele <= stack[-1][0]:\n",
    "                stack.pop()\n",
    "        \n",
    "        result.append(stack[-1][1] if stack else -1)\n",
    "        stack.append((ele, n-i-1))\n",
    "        \n",
    "    return result[::-1]\n",
    "\n",
    "# Maximum Area Histogram\n",
    "def MAH(arr):\n",
    "    n = len(arr)\n",
    "    left = NSL(arr)\n",
    "    right = NSR(arr, n)\n",
    "    \n",
    "    width = [right[i]-left[i]-1 for i in range(n)]\n",
    "    \n",
    "    area = [arr[i]*width[i] for i in range(n)]\n",
    "    \n",
    "    return max(area)"
   ]
  },
  {
   "cell_type": "code",
   "execution_count": 12,
   "metadata": {},
   "outputs": [
    {
     "data": {
      "text/plain": [
       "12"
      ]
     },
     "execution_count": 12,
     "metadata": {},
     "output_type": "execute_result"
    }
   ],
   "source": [
    "MAH([6, 2, 5, 6, 4, 1, 6])"
   ]
  },
  {
   "cell_type": "code",
   "execution_count": 13,
   "metadata": {},
   "outputs": [],
   "source": [
    "# Maximum Area of Rectangle in Binary Matrix\n",
    "\n",
    "# Nearest Smallest to Left\n",
    "def NSL(arr):\n",
    "    result = []\n",
    "    stack = []\n",
    "    \n",
    "    for i, ele in enumerate(arr):\n",
    "        if stack and ele <= stack[-1][0]:\n",
    "            while stack and ele <= stack[-1][0]:\n",
    "                stack.pop()\n",
    "        \n",
    "        result.append(stack[-1][1] if stack else -1)\n",
    "        stack.append((ele, i))\n",
    "        \n",
    "    return result\n",
    "\n",
    "# Nearest Smallest to Right\n",
    "def NSR(arr, n):\n",
    "    result = []\n",
    "    stack = []\n",
    "    \n",
    "    for i, ele in enumerate(arr[::-1]):\n",
    "        if stack and ele <= stack[-1][0]:\n",
    "            while stack and ele <= stack[-1][0]:\n",
    "                stack.pop()\n",
    "        \n",
    "        result.append(stack[-1][1] if stack else n)\n",
    "        stack.append((ele, n-i-1))\n",
    "        \n",
    "    return result[::-1]\n",
    "\n",
    "# Maximum Area Histogram\n",
    "def MAH(arr):\n",
    "    n = len(arr)\n",
    "    left = NSL(arr)\n",
    "    right = NSR(arr, n)\n",
    "    \n",
    "    width = [right[i]-left[i]-1 for i in range(n)]\n",
    "    area = [arr[i]*width[i] for i in range(n)]\n",
    "    return max(area)\n",
    "\n",
    "def max_area_of_rect_in_binary_matrix(mat):\n",
    "    temp_mat = []\n",
    "    \n",
    "    for i, arr in enumerate(mat):\n",
    "        if i == 0:\n",
    "            temp_mat.append(mat[0])\n",
    "        else:\n",
    "            temp_mat.append([i+j if j != 0 else 0 for i, j in zip(temp_mat[i-1], mat[i])])\n",
    "    \n",
    "    result = [MAH(i) for i in temp_mat]\n",
    "    \n",
    "    return max(result)"
   ]
  },
  {
   "cell_type": "code",
   "execution_count": 14,
   "metadata": {},
   "outputs": [
    {
     "data": {
      "text/plain": [
       "8"
      ]
     },
     "execution_count": 14,
     "metadata": {},
     "output_type": "execute_result"
    }
   ],
   "source": [
    "mat = [[0, 1, 1, 0],\n",
    "       [1, 1, 1, 1],\n",
    "       [1, 1, 1, 1],\n",
    "       [1, 1, 0, 0]]\n",
    "max_area_of_rect_in_binary_matrix(mat)"
   ]
  },
  {
   "cell_type": "code",
   "execution_count": 15,
   "metadata": {},
   "outputs": [],
   "source": [
    "# Rain Water Trapping\n",
    "def rain_water_trapping(arr):\n",
    "    max_l = []\n",
    "    for i, ele in enumerate(arr):\n",
    "        if i == 0:\n",
    "            max_l.append(ele)\n",
    "        else:\n",
    "            max_l.append(max(max_l[i-1], ele))\n",
    "    \n",
    "    max_r = []\n",
    "    for i, ele in enumerate(arr[::-1]):\n",
    "        if i == 0:\n",
    "            max_r.append(ele)\n",
    "        else:\n",
    "            max_r.append(max(max_r[i-1], ele))\n",
    "    max_r = max_r[::-1]\n",
    "    \n",
    "    water_trapped = 0\n",
    "    for i, ele in enumerate(arr):\n",
    "        water_trapped += min(max_r[i], max_l[i]) - ele\n",
    "    \n",
    "    return water_trapped"
   ]
  },
  {
   "cell_type": "code",
   "execution_count": 16,
   "metadata": {},
   "outputs": [
    {
     "data": {
      "text/plain": [
       "10"
      ]
     },
     "execution_count": 16,
     "metadata": {},
     "output_type": "execute_result"
    }
   ],
   "source": [
    "rain_water_trapping([3, 0, 0, 2, 0, 4])"
   ]
  },
  {
   "cell_type": "code",
   "execution_count": 17,
   "metadata": {},
   "outputs": [],
   "source": [
    "# Minimum element in Stack (Implementation of MinStack)\n",
    "class Stack:\n",
    "    def __init__(self):\n",
    "        self.stack = []\n",
    "        self.min_stack = []\n",
    "        \n",
    "    def push(self, ele):\n",
    "        if self.min_stack and self.min_stack[-1] >= ele:\n",
    "            self.min_stack.append(ele)\n",
    "        elif not self.min_stack:\n",
    "            self.min_stack.append(ele)\n",
    "        \n",
    "        self.stack.append(ele)\n",
    "    \n",
    "    def pop(self):\n",
    "        if self.min_stack[-1] == self.stack[-1]:\n",
    "            self.min_stack.pop()\n",
    "        return self.stack.pop()\n",
    "    \n",
    "    def min_ele(self):\n",
    "        if self.min_stack:\n",
    "            return self.min_stack[-1]\n",
    "        return 0"
   ]
  }
 ],
 "metadata": {
  "kernelspec": {
   "display_name": "Python 3",
   "language": "python",
   "name": "python3"
  },
  "language_info": {
   "codemirror_mode": {
    "name": "ipython",
    "version": 3
   },
   "file_extension": ".py",
   "mimetype": "text/x-python",
   "name": "python",
   "nbconvert_exporter": "python",
   "pygments_lexer": "ipython3",
   "version": "3.8.5"
  }
 },
 "nbformat": 4,
 "nbformat_minor": 4
}
