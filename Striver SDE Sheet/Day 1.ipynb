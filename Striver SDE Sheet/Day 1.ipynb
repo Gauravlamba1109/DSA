{
 "cells": [
  {
   "cell_type": "markdown",
   "id": "5f3b7f07",
   "metadata": {},
   "source": [
    "# Sort an Array of 0, 1, 2 without using extra space or sorting algo"
   ]
  },
  {
   "cell_type": "code",
   "execution_count": 1,
   "id": "044bfa63",
   "metadata": {},
   "outputs": [
    {
     "data": {
      "text/plain": [
       "[0, 0, 0, 0, 1, 1, 1, 1, 1, 2, 2, 2, 2, 2]"
      ]
     },
     "execution_count": 1,
     "metadata": {},
     "output_type": "execute_result"
    }
   ],
   "source": [
    "def solve(arr):\n",
    "    counts = [0, 0, 0]\n",
    "    \n",
    "    for ele in arr:\n",
    "        counts[ele] += 1\n",
    "    \n",
    "    for i in range(len(arr)):\n",
    "        if counts[0]:\n",
    "            arr[i] = 0\n",
    "            counts[0] -= 1\n",
    "        elif counts[1]:\n",
    "            arr[i] = 1\n",
    "            counts[1] -= 1\n",
    "        else:\n",
    "            arr[i] = 2\n",
    "    \n",
    "    return arr\n",
    "\n",
    "solve([1, 0, 0, 2, 1, 1, 2, 2, 0, 2, 1, 1, 2, 0])"
   ]
  },
  {
   "cell_type": "markdown",
   "id": "70062b83",
   "metadata": {},
   "source": [
    "# Repeat and Missing Number"
   ]
  },
  {
   "cell_type": "code",
   "execution_count": 2,
   "id": "535755e8",
   "metadata": {},
   "outputs": [],
   "source": [
    " def repeatedNumber(A):\n",
    "    N = len(A)\n",
    "    xor = 0\n",
    "\n",
    "    for ele in A:\n",
    "        xor = xor ^ ele\n",
    "\n",
    "    for i in range(1, N+1):\n",
    "        xor = xor ^ i \n",
    "\n",
    "    set_bit = xor & ~(xor-1)\n",
    "\n",
    "    ele1 = 0\n",
    "    ele2 = 0\n",
    "\n",
    "    for ele in A:\n",
    "        if ele & set_bit:\n",
    "            ele1 ^= ele\n",
    "        else:\n",
    "            ele2 ^= ele\n",
    "\n",
    "    for i in range(1, N+1):\n",
    "        if i & set_bit:\n",
    "            ele1 ^= i\n",
    "        else:\n",
    "            ele2 ^= i\n",
    "\n",
    "    if ele1 in A:\n",
    "        return ele1, ele2\n",
    "    return ele2, ele1"
   ]
  },
  {
   "cell_type": "markdown",
   "id": "b0b4115b",
   "metadata": {},
   "source": [
    "# Merge two sorted array without using extra space"
   ]
  },
  {
   "cell_type": "code",
   "execution_count": 3,
   "id": "76fc7efb",
   "metadata": {},
   "outputs": [],
   "source": [
    "def merge(arr1,arr2,n,m):\n",
    "    gap = n + m\n",
    "\n",
    "    while gap > 1:\n",
    "        gap = gap // 2 + gap%2\n",
    "\n",
    "        i = 0\n",
    "        j = i + gap\n",
    "\n",
    "        while i < n and j < n:\n",
    "            if arr1[i] > arr1[j]:\n",
    "                arr1[i], arr1[j] = arr1[j], arr1[i]\n",
    "            i += 1\n",
    "            j += 1\n",
    "\n",
    "        j -= n\n",
    "        while i < n and j < m:\n",
    "            if arr1[i] > arr2[j]:\n",
    "                arr1[i], arr2[j] = arr2[j], arr1[i]\n",
    "            i += 1\n",
    "            j += 1\n",
    "\n",
    "        i -= n\n",
    "        while i < m and j < m:\n",
    "            if arr2[i] > arr2[j]:\n",
    "                arr2[i], arr2[j] = arr2[j], arr2[i]\n",
    "            i += 1\n",
    "            j += 1\n",
    "            \n",
    "    return arr1, arr2"
   ]
  },
  {
   "cell_type": "markdown",
   "id": "49f65f4f",
   "metadata": {},
   "source": [
    "# Kadane's Algorithm (Maximum Subarray sum)"
   ]
  },
  {
   "cell_type": "code",
   "execution_count": 4,
   "id": "c75b59e0",
   "metadata": {},
   "outputs": [
    {
     "data": {
      "text/plain": [
       "7"
      ]
     },
     "execution_count": 4,
     "metadata": {},
     "output_type": "execute_result"
    }
   ],
   "source": [
    "def kadaneAlgo(arr):\n",
    "    N = len(arr)\n",
    "    \n",
    "    sumArr = [0 for _ in range(N)]\n",
    "    sumArr[0] = arr[0]\n",
    "    maxSum = arr[0]\n",
    "    \n",
    "    for i, ele in enumerate(arr):\n",
    "        sumArr[i] = max(sumArr[i-1] + ele, ele, 0)\n",
    "        maxSum = max(maxSum, sumArr[i])\n",
    "    return maxSum\n",
    "\n",
    "kadaneAlgo([-2, -3, 4, -1, -2, 1, 5, -3])"
   ]
  },
  {
   "cell_type": "markdown",
   "id": "d980d98a",
   "metadata": {},
   "source": [
    "# Merge Overlapping Sub-Intervals"
   ]
  },
  {
   "cell_type": "code",
   "execution_count": 5,
   "id": "5088db4f",
   "metadata": {},
   "outputs": [],
   "source": [
    "def merge(intervals):\n",
    "    intervals.sort(key=lambda x: (x[0], x[1]))\n",
    "    result = []\n",
    "\n",
    "    for interval in intervals:\n",
    "        if result and result[-1][1] >= interval[0]:\n",
    "            result[-1][1] = max(result[-1][1], interval[1])\n",
    "        else:\n",
    "            result.append(interval)\n",
    "\n",
    "    return result "
   ]
  },
  {
   "cell_type": "markdown",
   "id": "162ea08f",
   "metadata": {},
   "source": [
    "# Find the duplicate in an N+1 Array"
   ]
  },
  {
   "cell_type": "code",
   "execution_count": 6,
   "id": "9d20ca5d",
   "metadata": {},
   "outputs": [
    {
     "data": {
      "text/plain": [
       "6"
      ]
     },
     "execution_count": 6,
     "metadata": {},
     "output_type": "execute_result"
    }
   ],
   "source": [
    "def solve(arr):\n",
    "    N = len(arr) - 1\n",
    "    xor = 0\n",
    "    \n",
    "    for ele in arr:\n",
    "        xor ^= ele\n",
    "    \n",
    "    for i in range(1, N+1):\n",
    "        xor ^= i\n",
    "        \n",
    "    return xor\n",
    "\n",
    "solve([1, 2, 3, 4, 5, 6, 6, 7, 8, 9])"
   ]
  }
 ],
 "metadata": {
  "kernelspec": {
   "display_name": "Python 3 (ipykernel)",
   "language": "python",
   "name": "python3"
  },
  "language_info": {
   "codemirror_mode": {
    "name": "ipython",
    "version": 3
   },
   "file_extension": ".py",
   "mimetype": "text/x-python",
   "name": "python",
   "nbconvert_exporter": "python",
   "pygments_lexer": "ipython3",
   "version": "3.8.10"
  }
 },
 "nbformat": 4,
 "nbformat_minor": 5
}
