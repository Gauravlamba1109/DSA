{
 "cells": [
  {
   "cell_type": "markdown",
   "id": "581b6156",
   "metadata": {},
   "source": [
    "# Print all Permutations of a string/array"
   ]
  },
  {
   "cell_type": "code",
   "execution_count": null,
   "id": "e1548146",
   "metadata": {},
   "outputs": [],
   "source": [
    "class Solution:\n",
    "    def helper(self, A, n, arr):\n",
    "        if len(arr) == n:\n",
    "            self.result.append(arr)\n",
    "        \n",
    "        for i, ele in enumerate(A):\n",
    "            self.helper(A[:i]+A[i+1:], n, arr+[ele])\n",
    "\n",
    "    def permute(self, A):\n",
    "        self.result = []\n",
    "        n = len(A)\n",
    "        self.helper(A, n, [])\n",
    "        return self.result"
   ]
  },
  {
   "cell_type": "markdown",
   "id": "b655b799",
   "metadata": {},
   "source": [
    "# N queens Problem"
   ]
  },
  {
   "cell_type": "code",
   "execution_count": null,
   "id": "4d387150",
   "metadata": {},
   "outputs": [],
   "source": [
    "class Solution:\n",
    "    def isSafe(self, board, row, col, N):\n",
    "        for i in range(col):\n",
    "            if board[row][i] == 'Q':\n",
    "                return False\n",
    "        \n",
    "        i = row\n",
    "        j = col\n",
    "        while j >= 0 and i >= 0:\n",
    "            if board[i][j] == 'Q':\n",
    "                return False\n",
    "            i -= 1\n",
    "            j -= 1\n",
    "        \n",
    "        i = row\n",
    "        j = col\n",
    "        while j >= 0 and i < N:\n",
    "            if board[i][j] == 'Q':\n",
    "                return False\n",
    "            i += 1\n",
    "            j -= 1\n",
    "        \n",
    "        return True\n",
    "\n",
    "    def solve(self, board, col, N):\n",
    "        if col == N:\n",
    "            temp = []\n",
    "            for row in board:\n",
    "                temp.append(''.join(row))\n",
    "            self.result.append(temp)\n",
    "            return True\n",
    "        \n",
    "        for i in range(N):\n",
    "            if self.isSafe(board, i, col, N):\n",
    "                board[i][col] = 'Q'\n",
    "                self.solve(board, col+1, N)\n",
    "                board[i][col] = '.'\n",
    "        \n",
    "        return False\n",
    "\n",
    "    def solveNQueens(self, A):\n",
    "        if A == 1:\n",
    "            return ['Q']\n",
    "        board = [['.' for _ in range(A)] for _ in range(A)]\n",
    "        self.result = []\n",
    "        self.solve(board, 0, A)\n",
    "        return self.result"
   ]
  },
  {
   "cell_type": "markdown",
   "id": "ad4525c2",
   "metadata": {},
   "source": [
    "# Sudoku Solver"
   ]
  },
  {
   "cell_type": "code",
   "execution_count": null,
   "id": "15984fa0",
   "metadata": {},
   "outputs": [],
   "source": [
    "class Solution:\n",
    "    def findEmpty(self, grid):\n",
    "        for i in range(9):\n",
    "            for j in range(9):\n",
    "                if grid[i][j] == '.':\n",
    "                    return i, j\n",
    "        return 9, 9\n",
    "\n",
    "    def isValid(self, grid, i, j, num):\n",
    "        for row in range(9):\n",
    "            if grid[row][j] == num:\n",
    "                return False\n",
    "\n",
    "        for col in range(9):\n",
    "            if grid[i][col] == num:\n",
    "                return False\n",
    "\n",
    "        rowStart = i // 3\n",
    "        colStart = j // 3\n",
    "\n",
    "        for row in range(rowStart * 3, rowStart * 3 + 3):\n",
    "            for col in range(colStart * 3, colStart * 3 +3):\n",
    "                if grid[row][col] == num:\n",
    "                    return False\n",
    "\n",
    "        return True\n",
    "\n",
    "    def sudoku(self, grid):\n",
    "        i, j = self.findEmpty(grid)\n",
    "\n",
    "        if i == 9 and j == 9:\n",
    "            return True\n",
    "\n",
    "        for num in '123456789':\n",
    "            if self.isValid(grid, i, j, num):\n",
    "                grid[i][j] = num\n",
    "\n",
    "                if self.sudoku(grid):\n",
    "                    return True\n",
    "\n",
    "                grid[i][j] = '.'\n",
    "\n",
    "        return False\n",
    "\n",
    "    def solveSudoku(self, A):\n",
    "        self.sudoku(A)\n",
    "\n",
    "        for i, row in enumerate(A):\n",
    "            A[i] = ''.join(row)\n",
    "        \n",
    "        return A"
   ]
  },
  {
   "cell_type": "markdown",
   "id": "5fdd8bb2",
   "metadata": {},
   "source": [
    "# M coloring Problem"
   ]
  },
  {
   "cell_type": "code",
   "execution_count": null,
   "id": "be838b26",
   "metadata": {},
   "outputs": [],
   "source": [
    "class Solve:\n",
    "    def isSafe(self, node, graph, color, n, col):\n",
    "        for node_itr in graph[node]:\n",
    "            if color[node_itr] == col:\n",
    "                return False\n",
    "\n",
    "        return True\n",
    "\n",
    "    def solve(self, node, graph, color, n, m):\n",
    "        if node == n:\n",
    "            return True\n",
    "\n",
    "        for i in range(1, m+1):\n",
    "            if self.isSafe(node, graph, color, n, i):\n",
    "                color[node] = i\n",
    "\n",
    "            if self.solve(node+1, graph, color, n, m) == True:\n",
    "                return True\n",
    "            color[node] = 0\n",
    "\n",
    "        return False\n",
    "\n",
    "    def graphColoring(self, graph, color, i, m):\n",
    "\n",
    "        n = len(graph)\n",
    "\n",
    "        if self.solve(i, graph, color, n, m) == True:\n",
    "            return Trye\n",
    "\n",
    "        return False"
   ]
  },
  {
   "cell_type": "markdown",
   "id": "efaafa67",
   "metadata": {},
   "source": [
    "# Rat in a Maze"
   ]
  },
  {
   "cell_type": "code",
   "execution_count": null,
   "id": "c637eb06",
   "metadata": {},
   "outputs": [],
   "source": [
    "def ratInMaze(maze, sol, i, j, N):\n",
    "    if i == N-1 and j == N-1:\n",
    "        sol[i][j] = 1\n",
    "        return True\n",
    "    if i < N and j < N and maze[i][j] == 1:\n",
    "        sol[i][j] = 1\n",
    "        if ratInMaze(maze, sol, i+1, j, N):\n",
    "            return True\n",
    "        elif ratInMaze(maze, sol, i, j+1, N):\n",
    "            return True\n",
    "        sol[i][j] = 0\n",
    "    return False"
   ]
  },
  {
   "cell_type": "markdown",
   "id": "dfcfc759",
   "metadata": {},
   "source": [
    "# Word Break"
   ]
  },
  {
   "cell_type": "code",
   "execution_count": null,
   "id": "5e39abb0",
   "metadata": {},
   "outputs": [],
   "source": [
    "class Solution:\n",
    "    def helper(self, s, words, dp):\n",
    "        if not s:\n",
    "            return True\n",
    "        if s in dp:\n",
    "            return dp[s]\n",
    "        \n",
    "        result = False\n",
    "        for word in words:\n",
    "            if s.startswith(word):\n",
    "                result = result or self.helper(s[len(word):], words, dp)\n",
    "        \n",
    "        dp[word] = result\n",
    "        return result\n",
    "\n",
    "    def wordBreak(self, A, B):\n",
    "        dp = dict()\n",
    "        for word in B:\n",
    "            dp[word] = True\n",
    "        \n",
    "        if self.helper(A, B, dp):\n",
    "            return 1\n",
    "        return 0"
   ]
  }
 ],
 "metadata": {
  "kernelspec": {
   "display_name": "Python 3 (ipykernel)",
   "language": "python",
   "name": "python3"
  },
  "language_info": {
   "codemirror_mode": {
    "name": "ipython",
    "version": 3
   },
   "file_extension": ".py",
   "mimetype": "text/x-python",
   "name": "python",
   "nbconvert_exporter": "python",
   "pygments_lexer": "ipython3",
   "version": "3.8.10"
  }
 },
 "nbformat": 4,
 "nbformat_minor": 5
}
