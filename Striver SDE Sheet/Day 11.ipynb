{
 "cells": [
  {
   "cell_type": "markdown",
   "id": "fec2facb",
   "metadata": {},
   "source": [
    "# [N-th root of an integer](https://www.geeksforgeeks.org/calculating-n-th-real-root-using-binary-search/)"
   ]
  },
  {
   "cell_type": "code",
   "execution_count": 18,
   "id": "4211231c",
   "metadata": {
    "scrolled": true
   },
   "outputs": [],
   "source": [
    "def solve(n, m):\n",
    "    start = 1\n",
    "    end = m\n",
    "    eps = 1e-6\n",
    "    \n",
    "    while end - start > eps:\n",
    "        mid = (start + end) / 2\n",
    "        temp = mid ** n\n",
    "        if temp < m:\n",
    "            start = mid\n",
    "        else:\n",
    "            end = mid\n",
    "    \n",
    "    return mid"
   ]
  },
  {
   "cell_type": "markdown",
   "id": "e261cae7",
   "metadata": {},
   "source": [
    "# [Matrix Median](https://www.geeksforgeeks.org/find-median-row-wise-sorted-matrix/)"
   ]
  },
  {
   "cell_type": "code",
   "execution_count": null,
   "id": "d62e4209",
   "metadata": {},
   "outputs": [],
   "source": [
    "class Solution:\n",
    "    def countSmallerThanMid(self, arr, mid):\n",
    "        l = 0\n",
    "        h = len(arr)-1\n",
    "\n",
    "        while l <= h:\n",
    "            md = (h+l) // 2\n",
    "\n",
    "            if arr[md] <= mid:\n",
    "                l = md + 1\n",
    "            else:\n",
    "                h = md - 1\n",
    "        \n",
    "        return l \n",
    "\n",
    "    def findMedian(self, A):\n",
    "        low = 1\n",
    "        high = 1e9\n",
    "\n",
    "        n = len(A)\n",
    "        m = len(A[0])\n",
    "\n",
    "        while low <= high:\n",
    "            mid = (high + low) // 2\n",
    "            count = 0\n",
    "            for i in range(n):\n",
    "                count += self.countSmallerThanMid(A[i], mid)\n",
    "            \n",
    "            if count <= (n * m) // 2:\n",
    "                low = mid + 1\n",
    "            else:\n",
    "                high = mid - 1\n",
    "            \n",
    "        \n",
    "        return int(low)"
   ]
  },
  {
   "cell_type": "markdown",
   "id": "e3f9a9fb",
   "metadata": {},
   "source": [
    "# [Find the element that appears once in sorted array, and rest element appears twice](https://www.geeksforgeeks.org/find-the-element-that-appears-once-in-a-sorted-array/)"
   ]
  },
  {
   "cell_type": "code",
   "execution_count": null,
   "id": "867a8f32",
   "metadata": {},
   "outputs": [],
   "source": [
    "def singleNonDuplicate(nums):\n",
    "    n = len(nums)\n",
    "    low = 0\n",
    "    high = n - 1\n",
    "\n",
    "    if n == 1:\n",
    "        return nums[0]\n",
    "\n",
    "    while not low > high:\n",
    "        mid = low + (high - low) // 2\n",
    "        if mid == 0 and nums[0] != nums[1]:\n",
    "            return nums[0]\n",
    "        elif mid == n-1 and nums[-1] != nums[-2]:\n",
    "            return nums[-1]\n",
    "        elif (nums[mid-1] != nums[mid]) and (nums[mid] != nums[mid+1]):\n",
    "            return nums[mid]\n",
    "        # We are checking for mid if it is even or odd because the array contains odd number of \n",
    "        # elements (2*(elements that occur twice) + 1*(element that occur only once)\n",
    "        elif (nums[mid] == nums[mid+1] and mid%2==1) or (nums[mid] == nums[mid-1] and mid%2==0):\n",
    "            high = mid - 1\n",
    "        else:\n",
    "            low = mid + 1"
   ]
  },
  {
   "cell_type": "markdown",
   "id": "4753377c",
   "metadata": {},
   "source": [
    "# [Search element in a sorted and rotated array/ find pivot where it is rotated](https://www.geeksforgeeks.org/search-an-element-in-a-sorted-and-pivoted-array/)"
   ]
  },
  {
   "cell_type": "code",
   "execution_count": 1,
   "id": "4c00c10a",
   "metadata": {},
   "outputs": [],
   "source": [
    "def find_ele_sorted_array_rot(arr, ele):\n",
    "    n = len(arr)\n",
    "    start = 0\n",
    "    end = n - 1\n",
    "    \n",
    "    # Search for the minimum element\n",
    "    while not start > end:\n",
    "        mid = start + (end - start) // 2\n",
    "\n",
    "        if ele == arr[mid]:\n",
    "            return mid\n",
    "        elif arr[start] <= arr[mid]:\n",
    "            if ele < arr[mid] and ele >= arr[start]:\n",
    "                end = mid - 1\n",
    "            else:\n",
    "                start = mid + 1\n",
    "        else:\n",
    "            if ele > arr[mid] and ele <= arr[end]:\n",
    "                start = mid + 1\n",
    "            else:\n",
    "                end = mid - 1\n",
    "\n",
    "    return -1"
   ]
  },
  {
   "cell_type": "markdown",
   "id": "4929be84",
   "metadata": {},
   "source": [
    "# [Median of 2 sorted arrays](https://www.geeksforgeeks.org/median-of-two-sorted-arrays-of-different-sizes/)"
   ]
  },
  {
   "cell_type": "code",
   "execution_count": null,
   "id": "9e5c43df",
   "metadata": {},
   "outputs": [],
   "source": [
    "def medianOfTwoSortedArray(arr1, arr2):\n",
    "    n1 = len(arr1)\n",
    "    n2 = len(arr2)\n",
    "    \n",
    "    if n1 > n2:\n",
    "        arr1, arr2 = arr2, arr1\n",
    "        n1, n2 = n2, n1\n",
    "        \n",
    "    low = 0\n",
    "    high = n1\n",
    "    \n",
    "    while low <= high:\n",
    "        cut1 = low + (high - low) // 2 \n",
    "        cut2 = (n1 + n2 + 1) // 2 - cut1 \n",
    "        \n",
    "        l1 = -float('inf') if cut1 == 0 else arr1[cut1-1]\n",
    "        l2 = -float('inf') if cut2 == 0 else arr2[i2-1]\n",
    "        \n",
    "        r1 = float('inf') if cut1 == n1 else arr1[cut1]\n",
    "        r2 = float('inf') if cut2 == n2 else arr2[cut2]\n",
    "        \n",
    "        if l1 <= r2 and l2 <= r1:\n",
    "            if (n1+n2)%2 == 0:\n",
    "                return (max(l1, l2) + min(r1, r2)) / 2\n",
    "            else:\n",
    "                return max(l1, l2)\n",
    "        elif l1 > l2:\n",
    "            high = cut1 - 1\n",
    "        else:\n",
    "            low = cut1 + 1\n",
    "    \n",
    "    return -1"
   ]
  },
  {
   "cell_type": "markdown",
   "id": "94c81b84",
   "metadata": {},
   "source": [
    "# [K-th element of two sorted arrays](https://www.geeksforgeeks.org/k-th-element-two-sorted-arrays/)"
   ]
  },
  {
   "cell_type": "code",
   "execution_count": null,
   "id": "6ee68ee1",
   "metadata": {},
   "outputs": [],
   "source": [
    "def kthElement(arr1, arr2, n, m, k):\n",
    "    if n > m:\n",
    "        return kthElement(arr2, arr1, m, n, k)\n",
    "\n",
    "    low = max(0, k-m)\n",
    "    high = min(k, n)\n",
    "\n",
    "    while low <= high:\n",
    "        cut1 = low + (high - low) // 2\n",
    "        cut2 = k - cut1\n",
    "\n",
    "        l1 = -float('inf') if cut1 == 0 else arr1[cut1-1]\n",
    "        l2 = -float('inf') if cut2 == 0 else arr2[cut2-1]\n",
    "\n",
    "        r1 = float('inf') if cut1 == n else arr1[cut1]\n",
    "        r2 = float('inf') if cut2 == m else arr2[cut2]\n",
    "\n",
    "        if l1 <= r2 and l2 <= r1:\n",
    "            return max(l1, l2)\n",
    "        elif l1 > r2:\n",
    "            high = cut1 - 1\n",
    "        else:\n",
    "            low = cut1 + 1"
   ]
  },
  {
   "cell_type": "markdown",
   "id": "1504e5a9",
   "metadata": {},
   "source": [
    "# [Allocate Minimum Number of Pages](https://www.geeksforgeeks.org/allocate-minimum-number-pages/)"
   ]
  },
  {
   "cell_type": "code",
   "execution_count": null,
   "id": "c3216cdd",
   "metadata": {},
   "outputs": [],
   "source": [
    "def allocat_min_num_pages(arr, k):\n",
    "    start = max(arr)\n",
    "    end = sum(arr)\n",
    "    n = len(arr)\n",
    "    result = -1\n",
    "    \n",
    "    if n < k:\n",
    "        return -1\n",
    "    \n",
    "    while not start > end:\n",
    "        mid = start + (end - start) // 2\n",
    "        if is_valid(arr, n, k, mid):\n",
    "            result = mid\n",
    "            end = mid - 1\n",
    "        else:\n",
    "            start = mid + 1\n",
    "    \n",
    "    return result\n",
    "        \n",
    "def is_valid(arr, n, k, mid):\n",
    "    student = 1\n",
    "    std_sum = 0\n",
    "    \n",
    "    for i in range(n):\n",
    "        std_sum += arr[i]\n",
    "        if std_sum > mid:\n",
    "            student += 1\n",
    "            std_sum = arr[i]\n",
    "    if student > k:\n",
    "        return False\n",
    "    return True"
   ]
  },
  {
   "cell_type": "markdown",
   "id": "829f1847",
   "metadata": {},
   "source": [
    "# [Aggressive Cows](https://www.spoj.com/problems/AGGRCOW/)"
   ]
  },
  {
   "cell_type": "code",
   "execution_count": null,
   "id": "72721320",
   "metadata": {},
   "outputs": [],
   "source": [
    "class Solution:\n",
    "    def isPossible(self, arr, n, cows, minDist):\n",
    "        cntCows = 1\n",
    "        lastPlacedCow = arr[0]\n",
    "        for i in range(1, n):\n",
    "            if arr[i] - lastPlacedCow >= minDist:\n",
    "                cntCows += 1\n",
    "                lastPlacedCow = arr[i]\n",
    "\n",
    "        if cntCows >= cows:\n",
    "            return True\n",
    "        return False\n",
    "\n",
    "    def solve(self, arr, n, cows):\n",
    "        arr.sort()\n",
    "\n",
    "        low = 1\n",
    "        high = arr[-1]-arr[0]\n",
    "\n",
    "        while low <= high:\n",
    "            mid = low + (high-low) // 2\n",
    "\n",
    "            if self.isPossible(arr, n, cows, mid):\n",
    "                low = mid + 1\n",
    "            else:\n",
    "                high = mid - 1\n",
    "\n",
    "        return high"
   ]
  }
 ],
 "metadata": {
  "kernelspec": {
   "display_name": "Python 3 (ipykernel)",
   "language": "python",
   "name": "python3"
  },
  "language_info": {
   "codemirror_mode": {
    "name": "ipython",
    "version": 3
   },
   "file_extension": ".py",
   "mimetype": "text/x-python",
   "name": "python",
   "nbconvert_exporter": "python",
   "pygments_lexer": "ipython3",
   "version": "3.10.2"
  }
 },
 "nbformat": 4,
 "nbformat_minor": 5
}
