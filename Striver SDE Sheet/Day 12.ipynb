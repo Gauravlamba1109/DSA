{
 "cells": [
  {
   "cell_type": "markdown",
   "id": "60f19c59",
   "metadata": {},
   "source": [
    "# Check if a number if a power of 2 or not"
   ]
  },
  {
   "cell_type": "code",
   "execution_count": null,
   "id": "5d50884a",
   "metadata": {},
   "outputs": [],
   "source": [
    "def isPowerofTwo(n):\n",
    "    if n == 1:\n",
    "        return True\n",
    "    if n % 2 != 0:\n",
    "        return 0\n",
    "\n",
    "    count = 0\n",
    "    while n:\n",
    "        if n & 1:\n",
    "            count += 1\n",
    "        n >>= 1\n",
    "\n",
    "    if count == 1:\n",
    "        return 1\n",
    "    return 0"
   ]
  },
  {
   "cell_type": "markdown",
   "id": "549bcd2a",
   "metadata": {},
   "source": [
    "# Count total set bits"
   ]
  },
  {
   "cell_type": "code",
   "execution_count": null,
   "id": "bd21e3ef",
   "metadata": {},
   "outputs": [],
   "source": [
    "class Solution:\n",
    "    #Function to return sum of count of set bits in the integers from 1 to n.\n",
    "    def getMinTwo(self, A):\n",
    "        p = 0\n",
    "        while A >= 2 ** p:\n",
    "            p += 1\n",
    "        \n",
    "        return p - 1\n",
    "        \n",
    "    def countSetBits(self,A):\n",
    "        if A == 0:\n",
    "            return 0\n",
    "\n",
    "        minPowTwo = self.getMinTwo(A)\n",
    "\n",
    "        total = (2 ** (minPowTwo - 1)) * minPowTwo\n",
    "        total += A - (2 ** minPowTwo) + 1\n",
    "        total += self.countSetBits(A - (2 ** minPowTwo))\n",
    "\n",
    "        return int(total)"
   ]
  },
  {
   "cell_type": "markdown",
   "id": "68ef97a5",
   "metadata": {},
   "source": [
    "# Divide Integers without / operator"
   ]
  },
  {
   "cell_type": "code",
   "execution_count": null,
   "id": "dd34324b",
   "metadata": {},
   "outputs": [],
   "source": [
    "def divide(self, dividend: int, divisor: int) -> int:\n",
    "        sign = 1\n",
    "        if dividend < 0 or divisor < 0:\n",
    "            sign = -1\n",
    "        \n",
    "        dividend = abs(dividend)\n",
    "        divison = abs(divisor)\n",
    "        \n",
    "        quotient = 0\n",
    "        while dividend >= divisor:\n",
    "            dividend -= divisor\n",
    "            quotient += 1\n",
    "        \n",
    "        if sign < 0:\n",
    "            quotient = -quotiend\n",
    "            \n",
    "        return quotient"
   ]
  },
  {
   "cell_type": "markdown",
   "id": "af547020",
   "metadata": {},
   "source": [
    "# Power Set (this is very important)"
   ]
  },
  {
   "cell_type": "code",
   "execution_count": 1,
   "id": "ca890669",
   "metadata": {},
   "outputs": [],
   "source": [
    "def AllPossibleStrings(s):\n",
    "    n = len(s)\n",
    "    result = []\n",
    "    for num in range(n**2):\n",
    "        st = ''\n",
    "        for i in range(n):\n",
    "            if num & (1 << i):\n",
    "                st += s[i]\n",
    "\n",
    "        result.append(st)\n",
    "\n",
    "    return result"
   ]
  },
  {
   "cell_type": "markdown",
   "id": "eeb983fb",
   "metadata": {},
   "source": [
    "#  Find MSB in O(1)"
   ]
  },
  {
   "cell_type": "code",
   "execution_count": null,
   "id": "568b62ac",
   "metadata": {},
   "outputs": [],
   "source": [
    "def setBitNumber(n):\n",
    "    n |= n>>1\n",
    "    n |= n>>2  \n",
    "    n |= n>>4 \n",
    "    n |= n>>8\n",
    "    n |= n>>16\n",
    "    \n",
    "    return (n >> 1)"
   ]
  },
  {
   "cell_type": "markdown",
   "id": "13bd4afc",
   "metadata": {},
   "source": [
    "# Find square of a number without using multiplication or division operators."
   ]
  },
  {
   "cell_type": "code",
   "execution_count": null,
   "id": "0ab58629",
   "metadata": {},
   "outputs": [],
   "source": [
    "def square(n):\n",
    "    if (n < 0):\n",
    "        n = -n\n",
    " \n",
    "    res = n\n",
    " \n",
    "    for i in range(1, n):\n",
    "        res += n\n",
    " \n",
    "    return res"
   ]
  }
 ],
 "metadata": {
  "kernelspec": {
   "display_name": "Python 3 (ipykernel)",
   "language": "python",
   "name": "python3"
  },
  "language_info": {
   "codemirror_mode": {
    "name": "ipython",
    "version": 3
   },
   "file_extension": ".py",
   "mimetype": "text/x-python",
   "name": "python",
   "nbconvert_exporter": "python",
   "pygments_lexer": "ipython3",
   "version": "3.8.10"
  }
 },
 "nbformat": 4,
 "nbformat_minor": 5
}
