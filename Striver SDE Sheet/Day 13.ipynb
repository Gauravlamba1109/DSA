{
 "cells": [
  {
   "cell_type": "markdown",
   "id": "bee4af8f",
   "metadata": {},
   "source": [
    "# Implement Stack Using Arrays"
   ]
  },
  {
   "cell_type": "code",
   "execution_count": 1,
   "id": "e312f808",
   "metadata": {},
   "outputs": [],
   "source": [
    "class Stack:\n",
    "    def __init__(self, n):\n",
    "        self.stack = [0 for _ in range(n)]\n",
    "        self.top = -1\n",
    "        self.n = n\n",
    "    \n",
    "    def push(self, ele):\n",
    "        if self.top == self.n:\n",
    "            return\n",
    "        \n",
    "        self.top += 1\n",
    "        self.stack[self.top] = ele\n",
    "\n",
    "    \n",
    "    def pop(self):\n",
    "        if self.top == -1:\n",
    "            return\n",
    "        \n",
    "        self.top -= 1\n",
    "        return self.stack[self.top + 1]"
   ]
  },
  {
   "cell_type": "markdown",
   "id": "ea291f45",
   "metadata": {},
   "source": [
    "# Implement Queue Using Arrays"
   ]
  },
  {
   "cell_type": "code",
   "execution_count": 5,
   "id": "222edd31",
   "metadata": {},
   "outputs": [],
   "source": [
    "class Queue:\n",
    "    def __init__(self, n):\n",
    "        self.queue = [0 for _ in range(n)]\n",
    "        self.front = -1\n",
    "        self.tale = -1\n",
    "        self.length = n\n",
    "        \n",
    "    def enque(self, ele):\n",
    "        if self.tale == self.length:\n",
    "            return\n",
    "        \n",
    "        self.tale += 1\n",
    "        self.queue[self.tale] = ele\n",
    "    \n",
    "    def deque(self, ele):\n",
    "        if self.front > self.tale:\n",
    "            return\n",
    "        \n",
    "        self.front += 1\n",
    "        return self.queue[self.front - 1]    "
   ]
  },
  {
   "cell_type": "markdown",
   "id": "77e38936",
   "metadata": {},
   "source": [
    "# Implement Stack using Queue (using single queue)"
   ]
  },
  {
   "cell_type": "code",
   "execution_count": 14,
   "id": "db74e9e5",
   "metadata": {},
   "outputs": [],
   "source": [
    "class Stack:\n",
    "    def __init__(self):\n",
    "        self.queue = []\n",
    "        \n",
    "    def push(self, ele):\n",
    "        self.queue.append(ele)\n",
    "        self.queue = [self.queue[-1]] + self.queue[-2::-1]\n",
    "        return self.queue\n",
    "        \n",
    "    def pop(self):\n",
    "        return self.queue.pop(0)"
   ]
  },
  {
   "cell_type": "markdown",
   "id": "1fb2bcae",
   "metadata": {},
   "source": [
    "# Implement Queue using Stack (0(1) amortised method)"
   ]
  },
  {
   "cell_type": "code",
   "execution_count": 16,
   "id": "fd6af721",
   "metadata": {},
   "outputs": [],
   "source": [
    "class Queue:\n",
    "    def __init__(self):\n",
    "        self.input = []\n",
    "        self.output = []\n",
    "        \n",
    "    def push(self, ele):\n",
    "        self.input.append(ele)\n",
    "    \n",
    "    def pop(self):\n",
    "        if not self.output:\n",
    "            if not self.input:\n",
    "                return \n",
    "            \n",
    "            while self.input:\n",
    "                self.output.append(self.input.pop())\n",
    "        \n",
    "        return self.output.pop()"
   ]
  },
  {
   "cell_type": "markdown",
   "id": "afdf95dd",
   "metadata": {},
   "source": [
    "# Check for balanced parentheses"
   ]
  },
  {
   "cell_type": "code",
   "execution_count": null,
   "id": "de422f4e",
   "metadata": {},
   "outputs": [],
   "source": [
    "def solve(A):\n",
    "    count = 0\n",
    "\n",
    "    for char in A:\n",
    "        if char == '(':\n",
    "            count += 1\n",
    "        else:\n",
    "            count -= 1\n",
    "\n",
    "        if count < 0:\n",
    "            return 0\n",
    "\n",
    "    if count == 0:\n",
    "        return 1\n",
    "    return 0"
   ]
  },
  {
   "cell_type": "markdown",
   "id": "b1d01986",
   "metadata": {},
   "source": [
    "# Next Greater Element"
   ]
  },
  {
   "cell_type": "code",
   "execution_count": null,
   "id": "4d97c2e7",
   "metadata": {},
   "outputs": [],
   "source": [
    "def next_largest_element(arr):\n",
    "    result = []\n",
    "    stack = []\n",
    "    \n",
    "    for ele in arr[::-1]:\n",
    "        if stack and ele >= stack[-1]:\n",
    "            while stack and ele >= stack[-1]:\n",
    "                stack.pop()\n",
    "        \n",
    "        result.append(stack[-1] if stack else -1)\n",
    "        stack.append(ele)\n",
    "        \n",
    "    return result[::-1]"
   ]
  },
  {
   "cell_type": "markdown",
   "id": "a2828876",
   "metadata": {},
   "source": [
    "# Sort a Stack"
   ]
  },
  {
   "cell_type": "code",
   "execution_count": null,
   "id": "b721be21",
   "metadata": {},
   "outputs": [],
   "source": [
    "class Solution:\n",
    "    def sortStack(self, s):\n",
    "        if s:\n",
    "            temp = s.pop()\n",
    "            self.sortStack(s)\n",
    "            self.sortedInsert(s, temp)\n",
    "\n",
    "    def sortedInsert(self, s, ele):\n",
    "        if not s or ele >= s[-1]:\n",
    "            s.append(ele)\n",
    "        else:\n",
    "            temp = s.pop()\n",
    "            self.sortedInsert(s, ele)\n",
    "            s.append(temp)"
   ]
  }
 ],
 "metadata": {
  "kernelspec": {
   "display_name": "Python 3 (ipykernel)",
   "language": "python",
   "name": "python3"
  },
  "language_info": {
   "codemirror_mode": {
    "name": "ipython",
    "version": 3
   },
   "file_extension": ".py",
   "mimetype": "text/x-python",
   "name": "python",
   "nbconvert_exporter": "python",
   "pygments_lexer": "ipython3",
   "version": "3.8.10"
  }
 },
 "nbformat": 4,
 "nbformat_minor": 5
}
