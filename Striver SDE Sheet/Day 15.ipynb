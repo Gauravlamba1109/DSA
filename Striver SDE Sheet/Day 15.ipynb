{
 "cells": [
  {
   "cell_type": "markdown",
   "id": "7f2a456c",
   "metadata": {},
   "source": [
    "# [Reverse Words in a String](https://www.geeksforgeeks.org/reverse-words-in-a-given-string/)"
   ]
  },
  {
   "cell_type": "code",
   "execution_count": 1,
   "id": "2ec7bb72",
   "metadata": {},
   "outputs": [],
   "source": [
    "def reverseWords(self, s: str) -> str:\n",
    "    return \" \".join([word for word in s.split(' ') if word][::-1])"
   ]
  },
  {
   "cell_type": "markdown",
   "id": "21042c1b",
   "metadata": {},
   "source": [
    "# [Longest Palindrome in a string](https://www.geeksforgeeks.org/longest-palindrome-substring-set-1/)"
   ]
  },
  {
   "cell_type": "code",
   "execution_count": 2,
   "id": "61928a41",
   "metadata": {},
   "outputs": [],
   "source": [
    "# Time Complexity O(n2)\n",
    "def longestPalindrome(self, s: str) -> str:\n",
    "    res = ''\n",
    "    for i in range(len(s)):\n",
    "        # Cases like 'aba'\n",
    "        odd = helper(s, i, i)\n",
    "        # Cases like 'abba'\n",
    "        even = helper(s, i, i+1)\n",
    "        res = max(res, even, odd, key=len)\n",
    "    return res\n",
    "\n",
    "def helper(s, l, r):\n",
    "    while l >= 0 and r < len(s) and s[l] == s[r]:\n",
    "        l -= 1\n",
    "        r += 1\n",
    "\n",
    "    return s[l+1:r]"
   ]
  },
  {
   "cell_type": "markdown",
   "id": "cc6981de",
   "metadata": {},
   "source": [
    "#  [Roman Number to Integer and vice versa](https://leetcode.com/problems/roman-to-integer/)"
   ]
  },
  {
   "cell_type": "code",
   "execution_count": 3,
   "id": "5af9c06a",
   "metadata": {},
   "outputs": [],
   "source": [
    "def romanToInt(s):\n",
    "    mapper = {\n",
    "        \"I\": 1,\n",
    "        \"V\": 5,\n",
    "        \"X\": 10,\n",
    "        \"L\": 50,\n",
    "        \"C\": 100,\n",
    "        \"D\": 500,\n",
    "        \"M\": 1000\n",
    "    }\n",
    "\n",
    "    result = 0\n",
    "    for i in range(len(s)-1):\n",
    "        if mapper[s[i]] < mapper[s[i+1]]:\n",
    "            result -= mapper[s[i]]\n",
    "        else:\n",
    "            result += mapper[s[i]]\n",
    "\n",
    "    result += mapper[s[-1]]\n",
    "    return result\n",
    "\n",
    "def intToRoman(num):\n",
    "    strs = ['M', 'CM', 'D', 'CD', 'C', 'XC', 'L', 'XL', 'X', 'IX', 'V', 'IV', 'I']\n",
    "    nums = [1000, 900, 500, 400, 100, 90, 50, 40, 10, 9, 5, 4, 1]        \n",
    "\n",
    "    result = \"\"        \n",
    "    for i, j in enumerate(nums):\n",
    "        while num >= j:\n",
    "            result += strs[i]\n",
    "            num -= j\n",
    "        if num == 0:\n",
    "            break\n",
    "    return result"
   ]
  },
  {
   "cell_type": "markdown",
   "id": "f53083c1",
   "metadata": {},
   "source": [
    "# [Implement ATOI/STRSTR](https://www.geeksforgeeks.org/write-your-own-atoi/)"
   ]
  },
  {
   "cell_type": "code",
   "execution_count": 4,
   "id": "f7dd447a",
   "metadata": {},
   "outputs": [],
   "source": [
    "def myAtoi(str):\n",
    "    value, state, pos, sign = 0, 0, 0, 1\n",
    "\n",
    "    if len(str) == 0:\n",
    "        return 0\n",
    "\n",
    "    while pos < len(str):\n",
    "        current_char = str[pos]\n",
    "        if state == 0:\n",
    "            if current_char == \" \":\n",
    "                state = 0\n",
    "            elif current_char == \"+\" or current_char == \"-\":\n",
    "                state = 1\n",
    "                sign = 1 if current_char == \"+\" else -1\n",
    "            elif current_char.isdigit():\n",
    "                state = 2\n",
    "                value = value * 10 + int(current_char)\n",
    "            else:\n",
    "                return 0\n",
    "        elif state == 1:\n",
    "            if current_char.isdigit():\n",
    "                state = 2\n",
    "                value = value * 10 + int(current_char)\n",
    "            else:\n",
    "                return 0\n",
    "        elif state == 2:\n",
    "            if current_char.isdigit():\n",
    "                state = 2\n",
    "                value = value * 10 + int(current_char)\n",
    "            else:\n",
    "                break\n",
    "        else:\n",
    "            return 0\n",
    "        pos += 1\n",
    "\n",
    "    value = sign * value\n",
    "    value = min(value, 2 ** 31 - 1)\n",
    "    value = max(-(2 ** 31), value)\n",
    "\n",
    "    return value\n",
    "\n",
    "def strStr(haystack, needle):\n",
    "    if not needle:\n",
    "        return 0\n",
    "    if not haystack or len(haystack) < len(needle):\n",
    "        return -1\n",
    "\n",
    "    i = 0\n",
    "    j = 0\n",
    "    while j < len(needle) and i < len(haystack): \n",
    "        if haystack[i] != needle[j]:\n",
    "            i = i - j + 1\n",
    "            j = 0\n",
    "            continue \n",
    "        i += 1\n",
    "        j += 1\n",
    "\n",
    "    return i - j if j == len(needle) else -1"
   ]
  },
  {
   "cell_type": "markdown",
   "id": "dd9555a6",
   "metadata": {},
   "source": [
    "# [Longest Common Prefix](https://leetcode.com/problems/longest-common-prefix/)"
   ]
  },
  {
   "cell_type": "code",
   "execution_count": 5,
   "id": "103a07ec",
   "metadata": {},
   "outputs": [],
   "source": [
    "class Solution:\n",
    "    def compare(self, str1, str2):\n",
    "        result = ''\n",
    "        \n",
    "        for char1, char2 in zip(str1, str2):\n",
    "            if char1 == char2:\n",
    "                result += char1\n",
    "            else:\n",
    "                break\n",
    "        \n",
    "        return result\n",
    "    \n",
    "    def longestCommonPrefix(self, strs):\n",
    "        result = strs[0]\n",
    "        \n",
    "        for string in strs[1:]:\n",
    "            result = self.compare(result, string)\n",
    "        \n",
    "        return result"
   ]
  },
  {
   "cell_type": "markdown",
   "id": "477077ed",
   "metadata": {},
   "source": [
    "#  [Rabin Karp (Pattern Matching)](https://www.geeksforgeeks.org/rabin-karp-algorithm-for-pattern-searching/)"
   ]
  },
  {
   "cell_type": "code",
   "execution_count": 6,
   "id": "a7757e86",
   "metadata": {},
   "outputs": [],
   "source": [
    "def rabinKarp(string1, string2):\n",
    "    N = len(string1)\n",
    "    M = len(string2)\n",
    "    \n",
    "    str2_hash = 0\n",
    "    for char in string2:\n",
    "        str2_hash += ord(char)\n",
    "    \n",
    "    i = 0\n",
    "    j = 0\n",
    "    str1_hash = 0\n",
    "    while j < N:\n",
    "        str1_hash += ord(string1[j])\n",
    "        \n",
    "        while j - i + 1 > M:\n",
    "            str1_hash -= ord(string1[i])\n",
    "            i += 1\n",
    "        \n",
    "        if j - i + 1 == M and str1_hash == str2_hash:\n",
    "            flag = False\n",
    "            for char1, char2 in zip(string1[i:j+1], string2):\n",
    "                if char1 != char2:\n",
    "                    flag = True\n",
    "                    break\n",
    "            if not flag:\n",
    "                return i, j\n",
    "        \n",
    "        j += 1\n",
    "    \n",
    "    return -1, -1"
   ]
  }
 ],
 "metadata": {
  "kernelspec": {
   "display_name": "Python 3 (ipykernel)",
   "language": "python",
   "name": "python3"
  },
  "language_info": {
   "codemirror_mode": {
    "name": "ipython",
    "version": 3
   },
   "file_extension": ".py",
   "mimetype": "text/x-python",
   "name": "python",
   "nbconvert_exporter": "python",
   "pygments_lexer": "ipython3",
   "version": "3.10.2"
  }
 },
 "nbformat": 4,
 "nbformat_minor": 5
}
