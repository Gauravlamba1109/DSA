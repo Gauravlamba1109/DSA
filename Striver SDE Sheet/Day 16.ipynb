{
 "cells": [
  {
   "cell_type": "markdown",
   "id": "77972c46",
   "metadata": {},
   "source": [
    "# Prefix Function/Z-Function\n",
    "\n",
    "```\n",
    "denoted by Π\n",
    "Property:\n",
    "    Π[i+1] <= Π[i]+1\n",
    "```"
   ]
  },
  {
   "cell_type": "code",
   "execution_count": 1,
   "id": "26193f97",
   "metadata": {},
   "outputs": [],
   "source": [
    "def prefixFunc(string):\n",
    "    N = len(string)\n",
    "    pi = [0 for _ in range(N)]\n",
    "    \n",
    "    for i in range(1, N):\n",
    "        l = pi[i-1]\n",
    "        \n",
    "        while l > 0 and string[i] != string[l]:\n",
    "            l = pi[l-1]\n",
    "        \n",
    "        \n",
    "        if string[i] == string[l]:\n",
    "            l += 1\n",
    "        \n",
    "        pi[i] = l\n",
    "    \n",
    "    return pi"
   ]
  },
  {
   "cell_type": "markdown",
   "id": "5f192c14",
   "metadata": {},
   "source": [
    "# KMP algo"
   ]
  },
  {
   "cell_type": "code",
   "execution_count": 2,
   "id": "b4253af6",
   "metadata": {},
   "outputs": [],
   "source": [
    "def KMPAlgo(string1, string2):\n",
    "    N = len(string1)\n",
    "    M = len(string2)\n",
    "    pi = prefixFunc(string2)\n",
    "    \n",
    "    i = 0\n",
    "    j = 0\n",
    "    while i < N:\n",
    "        if string1[i] == string2[j]:\n",
    "            i += 1\n",
    "            j += 1 \n",
    "        \n",
    "        if j == M:\n",
    "            return i - j, i-1\n",
    "        elif i < N and string2[j] != string1[i]:\n",
    "            if j != 0:\n",
    "                j = pi[j-1]\n",
    "            else:\n",
    "                i += 1\n",
    "    \n",
    "    return -1, -1"
   ]
  },
  {
   "cell_type": "markdown",
   "id": "9a39a23e",
   "metadata": {},
   "source": [
    "# Minimum characters needed to be inserted in the beginning to make it palindromic."
   ]
  },
  {
   "cell_type": "code",
   "execution_count": 3,
   "id": "82792bc1",
   "metadata": {},
   "outputs": [],
   "source": [
    "def solve(A):\n",
    "    left = 0\n",
    "    right  = len(A)-1\n",
    "    ans = 0\n",
    "    \n",
    "    while(left<right):\n",
    "        if (A[left] == A[right]):\n",
    "            left = left+1\n",
    "            right = right-1\n",
    "        elif (left == 0):\n",
    "            ans = ans+1\n",
    "            right = right-1\n",
    "        else:\n",
    "            ans = ans+left\n",
    "            left = 0\n",
    "    \n",
    "    return ans"
   ]
  },
  {
   "cell_type": "markdown",
   "id": "cfaaaaf6",
   "metadata": {},
   "source": [
    "# Check for Anagrams"
   ]
  },
  {
   "cell_type": "code",
   "execution_count": 4,
   "id": "d5a04f6d",
   "metadata": {},
   "outputs": [],
   "source": [
    "def isAnagram(s, t):\n",
    "    freq = [0 for _ in range(26)]\n",
    "\n",
    "    for char in s:\n",
    "        freq[ord(char) - ord('a')] += 1 \n",
    "\n",
    "    for char in t:\n",
    "        freq[ord(char) - ord('a')] -= 1\n",
    "\n",
    "    for val in freq:\n",
    "        if val != 0:\n",
    "            return False\n",
    "    return True"
   ]
  },
  {
   "cell_type": "markdown",
   "id": "d5c53934",
   "metadata": {},
   "source": [
    "# Count and Say"
   ]
  },
  {
   "cell_type": "code",
   "execution_count": 5,
   "id": "b59a16e9",
   "metadata": {},
   "outputs": [],
   "source": [
    "def countAndSay(n):\n",
    "    if n == 1:\n",
    "        return '1'\n",
    "\n",
    "    temp = countAndSay(n-1)\n",
    "    res = ''\n",
    "    prev = temp[0]\n",
    "    count = 1\n",
    "\n",
    "    for char in temp[1:]:\n",
    "        if char == prev:\n",
    "            count += 1\n",
    "        else:\n",
    "            res = res + str(count) + prev\n",
    "            prev = char\n",
    "            count = 1\n",
    "\n",
    "    res = res + str(count) + prev\n",
    "\n",
    "    return res"
   ]
  },
  {
   "cell_type": "markdown",
   "id": "64dba829",
   "metadata": {},
   "source": [
    "# Compare version numbers"
   ]
  },
  {
   "cell_type": "code",
   "execution_count": 6,
   "id": "a81d7f04",
   "metadata": {},
   "outputs": [],
   "source": [
    "class Solution:\n",
    "    def createList(self, version):\n",
    "        version = list(map(lambda x: int(x.lstrip('0') if x.lstrip('0') else '0'), version.split('.')))\n",
    "        n = len(version)\n",
    "        \n",
    "        if n == 1:\n",
    "            version.append(0)\n",
    "            version.append(0)\n",
    "        if n == 2:\n",
    "            version.append(0)\n",
    "        \n",
    "        return version\n",
    "    \n",
    "    def compareVersion(self, version1: str, version2: str) -> int:\n",
    "        v1 = self.createList(version1)\n",
    "        v2 = self.createList(version2)\n",
    "        \n",
    "        for ele1, ele2 in zip(v1, v2):\n",
    "            if ele1 < ele2:\n",
    "                return -1\n",
    "            elif ele1 > ele2:\n",
    "                return 1\n",
    "        \n",
    "        return 0"
   ]
  }
 ],
 "metadata": {
  "kernelspec": {
   "display_name": "Python 3 (ipykernel)",
   "language": "python",
   "name": "python3"
  },
  "language_info": {
   "codemirror_mode": {
    "name": "ipython",
    "version": 3
   },
   "file_extension": ".py",
   "mimetype": "text/x-python",
   "name": "python",
   "nbconvert_exporter": "python",
   "pygments_lexer": "ipython3",
   "version": "3.10.2"
  }
 },
 "nbformat": 4,
 "nbformat_minor": 5
}
