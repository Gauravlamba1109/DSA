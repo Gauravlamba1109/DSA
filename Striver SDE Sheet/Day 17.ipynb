{
 "cells": [
  {
   "cell_type": "markdown",
   "id": "5d051d4b",
   "metadata": {},
   "source": [
    "# Inorder Traversal"
   ]
  },
  {
   "cell_type": "code",
   "execution_count": null,
   "id": "6c7f6019",
   "metadata": {},
   "outputs": [],
   "source": [
    "def inorderTraversal(root):\n",
    "    result = []\n",
    "\n",
    "    def helper(root):\n",
    "        if root != None:\n",
    "            helper(root.left)\n",
    "            result.append(root.val)\n",
    "            helper(root.right)\n",
    "\n",
    "    helper(root)\n",
    "    return result"
   ]
  },
  {
   "cell_type": "markdown",
   "id": "fff9f8f8",
   "metadata": {},
   "source": [
    "# Preorder Traversal"
   ]
  },
  {
   "cell_type": "code",
   "execution_count": null,
   "id": "5ea45711",
   "metadata": {},
   "outputs": [],
   "source": [
    "def preorderTraversal(root):\n",
    "    result = []\n",
    "\n",
    "    def helper(root):\n",
    "        if not root:\n",
    "            return\n",
    "\n",
    "        result.append(root.val)\n",
    "        helper(root.left)\n",
    "        helper(root.right)\n",
    "\n",
    "    helper(root)\n",
    "    return result"
   ]
  },
  {
   "cell_type": "markdown",
   "id": "b035771a",
   "metadata": {},
   "source": [
    "# Postorder Traversal"
   ]
  },
  {
   "cell_type": "code",
   "execution_count": null,
   "id": "ddcbd034",
   "metadata": {},
   "outputs": [],
   "source": [
    "def postorderTraversal(root):\n",
    "    result = []\n",
    "\n",
    "    def helper(root):\n",
    "        if not root:\n",
    "            return\n",
    "\n",
    "        helper(root.left)\n",
    "        helper(root.right)\n",
    "        result.append(root.val)\n",
    "\n",
    "    helper(root)\n",
    "    return result"
   ]
  },
  {
   "cell_type": "markdown",
   "id": "c046ead2",
   "metadata": {},
   "source": [
    "# LeftView Of Binary Tree"
   ]
  },
  {
   "cell_type": "code",
   "execution_count": null,
   "id": "d67e58eb",
   "metadata": {},
   "outputs": [],
   "source": [
    "def LeftView(root):\n",
    "    result = []\n",
    "    check = set()\n",
    "    \n",
    "    def helper(root, level):\n",
    "        if not root:\n",
    "            return\n",
    "        if level not in check:\n",
    "            check.add(level)\n",
    "            result.append(root.data)\n",
    "        \n",
    "        helper(root.left, level+1)\n",
    "        helper(root.right, level+1)\n",
    "    \n",
    "    helper(root, 0)\n",
    "    return result"
   ]
  },
  {
   "cell_type": "markdown",
   "id": "6dcc5a99",
   "metadata": {},
   "source": [
    "# Bottom View of Binary Tree"
   ]
  },
  {
   "cell_type": "code",
   "execution_count": null,
   "id": "e6d60204",
   "metadata": {},
   "outputs": [],
   "source": [
    "def bottomView(root):\n",
    "    mapper = dict()\n",
    "\n",
    "    def helper(root, horizontalDist, level):\n",
    "        if not root:\n",
    "            return\n",
    "\n",
    "        if horizontalDist in mapper:\n",
    "            if level >= mapper[horizontalDist][1]:\n",
    "                mapper[horizontalDist] = [root.data, level]\n",
    "        else:\n",
    "            mapper[horizontalDist] = [root.data, level]\n",
    "\n",
    "        helper(root.left, horizontalDist - 1, level + 1)\n",
    "        helper(root.right, horizontalDist + 1, level + 1)\n",
    "\n",
    "    helper(root, 0, 0)\n",
    "    return [mapper[key][0] for key in sorted(mapper.keys())]"
   ]
  },
  {
   "cell_type": "markdown",
   "id": "e04bff1d",
   "metadata": {},
   "source": [
    "# Top View of Binary Tree "
   ]
  },
  {
   "cell_type": "code",
   "execution_count": null,
   "id": "f8660eba",
   "metadata": {},
   "outputs": [],
   "source": [
    "def topView(root):\n",
    "    mapper = dict()\n",
    "\n",
    "    def helper(root, vertDist, level):\n",
    "        if not root:\n",
    "            return\n",
    "\n",
    "        if vertDist not in mapper:\n",
    "            mapper[vertDist] = [root.data, level]\n",
    "        elif mapper[vertDist][1] > level:\n",
    "            mapper[vertDist] = [root.data, level]\n",
    "\n",
    "        helper(root.left, vertDist - 1, level + 1)\n",
    "        helper(root.right, vertDist + 1, level + 1)\n",
    "\n",
    "    helper(root, 0, 0)\n",
    "    return [mapper[key][0] for key in sorted(mapper.keys())]"
   ]
  }
 ],
 "metadata": {
  "kernelspec": {
   "display_name": "Python 3 (ipykernel)",
   "language": "python",
   "name": "python3"
  },
  "language_info": {
   "codemirror_mode": {
    "name": "ipython",
    "version": 3
   },
   "file_extension": ".py",
   "mimetype": "text/x-python",
   "name": "python",
   "nbconvert_exporter": "python",
   "pygments_lexer": "ipython3",
   "version": "3.8.10"
  }
 },
 "nbformat": 4,
 "nbformat_minor": 5
}
