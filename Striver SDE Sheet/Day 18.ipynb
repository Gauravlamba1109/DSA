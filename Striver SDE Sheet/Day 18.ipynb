{
 "cells": [
  {
   "cell_type": "markdown",
   "id": "16c1e4c2",
   "metadata": {},
   "source": [
    "# [Level order Traversal / Level order traversal in spiral form](https://www.geeksforgeeks.org/level-order-traversal-in-spiral-form/)"
   ]
  },
  {
   "cell_type": "code",
   "execution_count": null,
   "id": "d5cc37bd",
   "metadata": {},
   "outputs": [],
   "source": [
    "def levelOrder(root):\n",
    "    if not root:\n",
    "        return []\n",
    "\n",
    "    levels = dict()\n",
    "\n",
    "    def helper(root, level):\n",
    "        if not root:\n",
    "            return \n",
    "\n",
    "        if level not in levels:\n",
    "            levels[level] = []\n",
    "\n",
    "        levels[level].append(root.val)\n",
    "\n",
    "        helper(root.left, level+1)\n",
    "        helper(root.right, level+1)\n",
    "\n",
    "    helper(root, 0)\n",
    "\n",
    "    result = []\n",
    "    for lv in range(max(levels.keys())+1):\n",
    "        result.append(levels[lv])\n",
    "\n",
    "    return result"
   ]
  },
  {
   "cell_type": "markdown",
   "id": "ae772372",
   "metadata": {},
   "source": [
    "# [Height of a Binary Tree](https://www.geeksforgeeks.org/write-a-c-program-to-find-the-maximum-depth-or-height-of-a-tree/)"
   ]
  },
  {
   "cell_type": "code",
   "execution_count": null,
   "id": "dc4372fc",
   "metadata": {},
   "outputs": [],
   "source": [
    "def maxDepth(root):\n",
    "    if root == None:\n",
    "        return 0\n",
    "    elif root.left == None and root.right == None:\n",
    "        return 1\n",
    "    else:\n",
    "        return 1 + max(maxDepth(root.left), maxDepth(root.right))"
   ]
  },
  {
   "cell_type": "markdown",
   "id": "8390805e",
   "metadata": {},
   "source": [
    "# [Diameter of Binary Tree](https://www.geeksforgeeks.org/diameter-of-a-binary-tree/)"
   ]
  },
  {
   "cell_type": "code",
   "execution_count": null,
   "id": "a04d0f17",
   "metadata": {},
   "outputs": [],
   "source": [
    "class Solution:\n",
    "    def helper(self, root):\n",
    "        if not root:\n",
    "            return 0, 0\n",
    "        \n",
    "        maxLeft, leftHeight = self.helper(root.left)\n",
    "        maxRight, rightHeight = self.helper(root.right)\n",
    "        \n",
    "        return max(maxLeft, maxRight, leftHeight + rightHeight + 1), max(leftHeight, rightHeight) + 1\n",
    "        \n",
    "    def diameterOfBinaryTree(self, root):\n",
    "        result, _ = self.helper(root)\n",
    "        return result"
   ]
  },
  {
   "cell_type": "markdown",
   "id": "0cbde089",
   "metadata": {},
   "source": [
    "# [Check if the Binary tree is height-balanced or not](https://www.geeksforgeeks.org/how-to-determine-if-a-binary-tree-is-balanced/)"
   ]
  },
  {
   "cell_type": "code",
   "execution_count": null,
   "id": "c056b856",
   "metadata": {},
   "outputs": [],
   "source": [
    "def isBalanced(A):\n",
    "    def helper(node):\n",
    "        if node == None:\n",
    "            return 0, 1\n",
    "        if node.left == None and node.right == None:\n",
    "            return 1, 1\n",
    "\n",
    "        depthLeft, isValidLeft = helper(node.left)\n",
    "        depthRight, isValidRight = helper(node.right)\n",
    "\n",
    "        if isValidLeft == 0 or isValidRight == 0:\n",
    "            return max(depthLeft, depthRight)+1, 0\n",
    "\n",
    "        if abs(depthLeft - depthRight) > 1:\n",
    "            return max(depthLeft, depthRight)+1, 0\n",
    "\n",
    "        return max(depthLeft, depthRight)+1, 1\n",
    "\n",
    "    depth, isValid = helper(A)\n",
    "    return isValid"
   ]
  },
  {
   "cell_type": "markdown",
   "id": "3e740b65",
   "metadata": {},
   "source": [
    "# [LCA in Binary Tree](https://www.geeksforgeeks.org/lowest-common-ancestor-binary-tree-set-1/)"
   ]
  },
  {
   "cell_type": "code",
   "execution_count": null,
   "id": "bec026cb",
   "metadata": {},
   "outputs": [],
   "source": [
    "def lowestCommonAncestor(root, p, q):\n",
    "    if not root:\n",
    "        return\n",
    "\n",
    "    if root == p or root == q:\n",
    "        return root\n",
    "\n",
    "    left = lowestCommonAncestor(root.left, p, q)\n",
    "    right = lowestCommonAncestor(root.right, p, q)\n",
    "\n",
    "    if left and right:\n",
    "        return root\n",
    "\n",
    "    if left:\n",
    "        return left\n",
    "    return right"
   ]
  },
  {
   "cell_type": "markdown",
   "id": "21ca1a5d",
   "metadata": {},
   "source": [
    "# [Check if two trees are identical or not](https://www.geeksforgeeks.org/write-c-code-to-determine-if-two-trees-are-identical/)"
   ]
  },
  {
   "cell_type": "code",
   "execution_count": null,
   "id": "5484225a",
   "metadata": {},
   "outputs": [],
   "source": [
    "def isSameTree(p, q):\n",
    "    if not p and not q:\n",
    "        return True\n",
    "    if not p or not q:\n",
    "        return False\n",
    "\n",
    "    if p.val != q.val:\n",
    "        return False\n",
    "\n",
    "    left = isSameTree(p.left, q.left)\n",
    "    right = isSameTree(p.right, q.right)\n",
    "\n",
    "    if left and right:\n",
    "        return True\n",
    "    return False"
   ]
  }
 ],
 "metadata": {
  "kernelspec": {
   "display_name": "Python 3 (ipykernel)",
   "language": "python",
   "name": "python3"
  },
  "language_info": {
   "codemirror_mode": {
    "name": "ipython",
    "version": 3
   },
   "file_extension": ".py",
   "mimetype": "text/x-python",
   "name": "python",
   "nbconvert_exporter": "python",
   "pygments_lexer": "ipython3",
   "version": "3.10.2"
  }
 },
 "nbformat": 4,
 "nbformat_minor": 5
}
