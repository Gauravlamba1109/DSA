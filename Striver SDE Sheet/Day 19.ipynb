{
 "cells": [
  {
   "cell_type": "markdown",
   "id": "ca48e49b",
   "metadata": {},
   "source": [
    "# [Maximum path sum](https://www.geeksforgeeks.org/find-maximum-path-sum-in-a-binary-tree/)"
   ]
  },
  {
   "cell_type": "code",
   "execution_count": null,
   "id": "76951f11",
   "metadata": {},
   "outputs": [],
   "source": [
    "class Solution:\n",
    "    def maxPathSum(self, root: TreeNode) -> int:\n",
    "        self.result = -float('inf')\n",
    "        def helper(root):\n",
    "            if not root:\n",
    "                return 0\n",
    "            \n",
    "            left = helper(root.left)\n",
    "            right = helper(root.right)\n",
    "            \n",
    "            temp = max(max(left, right) + root.val, root.val)\n",
    "            ans = max(temp, left + right + root.val)\n",
    "            \n",
    "            self.result = max(self.result, ans)\n",
    "            return temp\n",
    "            \n",
    "        helper(root)\n",
    "        return self.result"
   ]
  },
  {
   "cell_type": "markdown",
   "id": "8643a1dd",
   "metadata": {},
   "source": [
    "# [Construct Binary Tree from inorder and preorder](https://www.geeksforgeeks.org/construct-tree-from-given-inorder-and-preorder-traversal/)"
   ]
  },
  {
   "cell_type": "code",
   "execution_count": null,
   "id": "0cfcaf67",
   "metadata": {},
   "outputs": [],
   "source": [
    "class Solution:\n",
    "    def buildTree(self, preorder: List[int], inorder: List[int]) -> Optional[TreeNode]:\n",
    "        self.preIndex = 0\n",
    "        \n",
    "        def helper(preorder, inorder, start, end):\n",
    "            if start > end:\n",
    "                return None\n",
    "            \n",
    "            root = TreeNode(preorder[self.preIndex])\n",
    "            self.preIndex += 1\n",
    "            \n",
    "            inIndex = 0\n",
    "            for i in range(start, end+1):\n",
    "                if inorder[i] == root.val:\n",
    "                    inIndex = i\n",
    "                    break\n",
    "            \n",
    "            root.left = helper(preorder, inorder, start, inIndex-1)\n",
    "            root.right = helper(preorder, inorder, inIndex+1, end)\n",
    "            \n",
    "            return root\n",
    "        \n",
    "        return helper(preorder, inorder, 0, len(preorder)-1)"
   ]
  },
  {
   "cell_type": "markdown",
   "id": "0e0beaf3",
   "metadata": {},
   "source": [
    "# [Construct Binary Tree from Inorder and Postorder](https://www.geeksforgeeks.org/construct-a-binary-tree-from-postorder-and-inorder/)"
   ]
  },
  {
   "cell_type": "code",
   "execution_count": null,
   "id": "dc95190b",
   "metadata": {},
   "outputs": [],
   "source": [
    "class Solution:\n",
    "    def buildTree(self, inorder: List[int], postorder: List[int]) -> Optional[TreeNode]:\n",
    "        self.postIdx, mp = len(postorder)-1, {val: idx for idx, val in enumerate(inorder)}\n",
    "        def build(inStart, inEnd):\n",
    "            if inStart > inEnd: return None\n",
    "            root = TreeNode(postorder[self.postIdx])\n",
    "            self.postIdx -= 1\n",
    "            root.right = build(mp[root.val]+1, inEnd)\n",
    "            root.left  = build(inStart, mp[root.val]-1)\n",
    "            return root        \n",
    "        return build(0, len(inorder)-1)"
   ]
  },
  {
   "cell_type": "markdown",
   "id": "aa15410d",
   "metadata": {},
   "source": [
    "# [Symmetric Binary Tree](https://www.geeksforgeeks.org/symmetric-tree-tree-which-is-mirror-image-of-itself/)"
   ]
  },
  {
   "cell_type": "code",
   "execution_count": null,
   "id": "6a031319",
   "metadata": {},
   "outputs": [],
   "source": [
    "class Solution:\n",
    "    def helper(self, left, right):\n",
    "        if not left and not right:\n",
    "            return True\n",
    "        if not left or not right:\n",
    "            return False\n",
    "        if left.val != right.val:\n",
    "            return False\n",
    "        \n",
    "        checkLeft = self.helper(left.left, right.right)\n",
    "        checkRight = self.helper(left.right, right.left)\n",
    "\n",
    "        if not checkLeft or not checkRight:\n",
    "            return False\n",
    "        return True\n",
    "    \n",
    "    def isSymmetric(self, root: Optional[TreeNode]) -> bool:\n",
    "        if not root:\n",
    "            return True\n",
    "        if not root.left and not root.right:\n",
    "            return True\n",
    "        \n",
    "        return self.helper(root.left, root.right)"
   ]
  },
  {
   "cell_type": "markdown",
   "id": "cae86cc8",
   "metadata": {},
   "source": [
    "# [Flatten Binary Tree to LinkedList](https://www.geeksforgeeks.org/flatten-a-binary-tree-into-linked-list/)"
   ]
  },
  {
   "cell_type": "code",
   "execution_count": null,
   "id": "0d486f87",
   "metadata": {},
   "outputs": [],
   "source": [
    "class Solution:\n",
    "    def helper(self, root):\n",
    "        if not root:\n",
    "            return\n",
    "        \n",
    "        self.helper(root.right)\n",
    "        self.helper(root.left)\n",
    "\n",
    "        root.right = self.prev\n",
    "        root.left = None\n",
    "\n",
    "        self.prev = root\n",
    "        \n",
    "    def flatten(self, root: Optional[TreeNode]) -> None:\n",
    "        self.prev = None\n",
    "        self.helper(root)"
   ]
  },
  {
   "cell_type": "markdown",
   "id": "ff3b9526",
   "metadata": {},
   "source": [
    "# [Convert the Binary tree into its Mirror tree](https://www.geeksforgeeks.org/write-an-efficient-c-function-to-convert-a-tree-into-its-mirror-tree/)"
   ]
  },
  {
   "cell_type": "code",
   "execution_count": null,
   "id": "5f0787a0",
   "metadata": {},
   "outputs": [],
   "source": [
    "def mirror(root):\n",
    "    if not root:\n",
    "        return\n",
    "\n",
    "    root.left, root.right = root.right, root.left\n",
    "    mirror(root.left)\n",
    "    mirror(root.right)\n",
    "    return root"
   ]
  }
 ],
 "metadata": {
  "kernelspec": {
   "display_name": "Python 3 (ipykernel)",
   "language": "python",
   "name": "python3"
  },
  "language_info": {
   "codemirror_mode": {
    "name": "ipython",
    "version": 3
   },
   "file_extension": ".py",
   "mimetype": "text/x-python",
   "name": "python",
   "nbconvert_exporter": "python",
   "pygments_lexer": "ipython3",
   "version": "3.10.2"
  }
 },
 "nbformat": 4,
 "nbformat_minor": 5
}
