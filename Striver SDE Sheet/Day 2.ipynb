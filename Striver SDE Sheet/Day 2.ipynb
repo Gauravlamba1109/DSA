{
 "cells": [
  {
   "cell_type": "markdown",
   "id": "7cbaa658",
   "metadata": {},
   "source": [
    "# [Set Matrix Zero](https://takeuforward.org/data-structure/set-matrix-zero/)"
   ]
  },
  {
   "cell_type": "code",
   "execution_count": null,
   "id": "d39193f0",
   "metadata": {},
   "outputs": [],
   "source": [
    "def setZeroes(A):\n",
    "    M = len(A)\n",
    "    N = len(A[0])\n",
    "\n",
    "    col = True\n",
    "    for i in range(M):\n",
    "        if A[i][0] == 0:\n",
    "            col = False\n",
    "        for j in range(1, N):\n",
    "            if A[i][j] == 0:\n",
    "                A[0][j] = 0\n",
    "                A[i][0] = 0\n",
    "\n",
    "    for i in range(M-1, -1, -1):\n",
    "        for j in range(N-1, 0, -1):\n",
    "            if A[i][0] == 0 or A[0][j] == 0:\n",
    "                A[i][j] = 0\n",
    "        if col == False:\n",
    "            A[i][0] = 0\n",
    "\n",
    "    return A"
   ]
  },
  {
   "cell_type": "markdown",
   "id": "c8e87147",
   "metadata": {},
   "source": [
    "# [Pascal Triangle](https://takeuforward.org/data-structure/program-to-generate-pascals-triangle/)"
   ]
  },
  {
   "cell_type": "code",
   "execution_count": 4,
   "id": "77988e33",
   "metadata": {},
   "outputs": [
    {
     "data": {
      "text/plain": [
       "[[1], [1, 1], [1, 2, 1], [1, 3, 3, 1], [1, 4, 6, 4, 1]]"
      ]
     },
     "execution_count": 4,
     "metadata": {},
     "output_type": "execute_result"
    }
   ],
   "source": [
    "def calculate(n):\n",
    "    result = [[] for _ in range(n)]\n",
    "    \n",
    "    for i in range(n):\n",
    "        result[i] = [0] * (i+1)\n",
    "        result[i][0] = 1\n",
    "        result[i][i] = 1\n",
    "        \n",
    "        for j in range(1, i):\n",
    "            result[i][j] = result[i-1][j-1] + result[i-1][j]\n",
    "    \n",
    "    return result"
   ]
  },
  {
   "cell_type": "markdown",
   "id": "44ee964e",
   "metadata": {},
   "source": [
    "# [Next Permutation](https://www.geeksforgeeks.org/find-the-next-lexicographically-greater-word-than-a-given-word/)"
   ]
  },
  {
   "cell_type": "code",
   "execution_count": null,
   "id": "887211ed",
   "metadata": {},
   "outputs": [],
   "source": [
    "def nextPermutation(A):\n",
    "    N = len(A)\n",
    "    \n",
    "    if N < 3:\n",
    "        return A[::-1] \n",
    "\n",
    "    idx1 = -1\n",
    "    for i in range(N-2, -1, -1):\n",
    "        if A[i] < A[i+1]:\n",
    "            idx1 = i \n",
    "            break\n",
    "\n",
    "    idx2 = -1\n",
    "    for i in range(N-1, idx1, -1):\n",
    "        if A[i] > A[idx1]:\n",
    "            idx2 = i \n",
    "            break\n",
    "\n",
    "    A[idx1], A[idx2] = A[idx2], A[idx1]\n",
    "\n",
    "    A = A[:idx1+1] + (A[idx1+1:])[::-1]\n",
    "    return A"
   ]
  },
  {
   "cell_type": "markdown",
   "id": "4dad55df",
   "metadata": {},
   "source": [
    "# [Inversion of Array](https://www.geeksforgeeks.org/counting-inversions/)"
   ]
  },
  {
   "cell_type": "code",
   "execution_count": 34,
   "id": "f288978a",
   "metadata": {
    "scrolled": true
   },
   "outputs": [
    {
     "data": {
      "text/plain": [
       "6"
      ]
     },
     "execution_count": 34,
     "metadata": {},
     "output_type": "execute_result"
    }
   ],
   "source": [
    "class Solution:\n",
    "    def merge(self, left, right):\n",
    "        if left == None:\n",
    "            return right\n",
    "        elif right == None:\n",
    "            return left\n",
    "        \n",
    "        n = len(left)\n",
    "        m = len(right)\n",
    "        \n",
    "        result = []\n",
    "        \n",
    "        l = 0\n",
    "        r = 0\n",
    "        \n",
    "        while l < n and r < m:\n",
    "            if right[r] < left[l]:\n",
    "                self.result = self.result + n - l\n",
    "                result.append(right[r])\n",
    "                r += 1\n",
    "            else:\n",
    "                result.append(left[l])\n",
    "                l += 1\n",
    "        \n",
    "        while l < n:\n",
    "            result.append(left[l])\n",
    "            l += 1\n",
    "        \n",
    "        while r < m:\n",
    "            result.append(right[r])\n",
    "            r += 1\n",
    "        \n",
    "        return result\n",
    "    \n",
    "    def mergeSort(self, arr, low, high):\n",
    "        if low > high:\n",
    "            return []\n",
    "        if low == high:\n",
    "            return [arr[low]]\n",
    "        mid = (high + low) // 2\n",
    "        \n",
    "        left = self.mergeSort(arr, low, mid)\n",
    "        right = self.mergeSort(arr, mid+1, high)\n",
    "        \n",
    "        return self.merge(left, right)\n",
    "        \n",
    "    def inversionCount(self, arr, n):\n",
    "        self.result = 0\n",
    "        self.mergeSort(arr, 0, n-1)\n",
    "        return self.result"
   ]
  },
  {
   "cell_type": "markdown",
   "id": "69d549e4",
   "metadata": {},
   "source": [
    "# [Stock buy and sell](https://www.geeksforgeeks.org/stock-buy-sell/)"
   ]
  },
  {
   "cell_type": "code",
   "execution_count": 35,
   "id": "8b0acd7a",
   "metadata": {},
   "outputs": [],
   "source": [
    "def maxProfit(A):\n",
    "    minEle = float('inf')\n",
    "    result = 0\n",
    "\n",
    "    for ele in A:\n",
    "        minEle = min(minEle, ele)\n",
    "        result = max(result, ele - minEle)\n",
    "\n",
    "    return result"
   ]
  },
  {
   "cell_type": "markdown",
   "id": "396f51d1",
   "metadata": {},
   "source": [
    "# [Rotate Matrix](https://www.geeksforgeeks.org/inplace-rotate-square-matrix-by-90-degrees/)"
   ]
  },
  {
   "cell_type": "code",
   "execution_count": null,
   "id": "bb02c816",
   "metadata": {},
   "outputs": [],
   "source": [
    "def rotate(self, A):\n",
    "    N = len(A)\n",
    "\n",
    "    # Transpose Matrix\n",
    "    for i in range(N):\n",
    "        for j in range(i, N):\n",
    "            A[i][j], A[j][i] = A[j][i], A[i][j]\n",
    "\n",
    "    # Reverse Row\n",
    "    for i in range(N):\n",
    "        A[i] = A[i][::-1]\n",
    "\n",
    "    return A"
   ]
  }
 ],
 "metadata": {
  "kernelspec": {
   "display_name": "Python 3 (ipykernel)",
   "language": "python",
   "name": "python3"
  },
  "language_info": {
   "codemirror_mode": {
    "name": "ipython",
    "version": 3
   },
   "file_extension": ".py",
   "mimetype": "text/x-python",
   "name": "python",
   "nbconvert_exporter": "python",
   "pygments_lexer": "ipython3",
   "version": "3.10.2"
  }
 },
 "nbformat": 4,
 "nbformat_minor": 5
}
