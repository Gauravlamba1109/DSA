{
 "cells": [
  {
   "cell_type": "markdown",
   "id": "c11cef93",
   "metadata": {},
   "source": [
    "# [Populate Next Right pointers of Tree](https://leetcode.com/problems/populating-next-right-pointers-in-each-node/)"
   ]
  },
  {
   "cell_type": "code",
   "execution_count": null,
   "id": "9dc0de6a",
   "metadata": {},
   "outputs": [],
   "source": [
    "def connect(root):\n",
    "    if not root:\n",
    "        return root\n",
    "\n",
    "    queue = [root]\n",
    "    while queue:\n",
    "        n = len(queue)\n",
    "        prev = None\n",
    "        for i in range(n):\n",
    "            node = queue.pop(0)\n",
    "            if prev == None:\n",
    "                prev = node\n",
    "            else:\n",
    "                prev.next = node \n",
    "                prev = node \n",
    "\n",
    "            if node.left:\n",
    "                queue.append(node.left)\n",
    "            if node.right:\n",
    "                queue.append(node.right)\n",
    "\n",
    "    return root"
   ]
  },
  {
   "cell_type": "markdown",
   "id": "58b7563c",
   "metadata": {},
   "source": [
    "# [Search given Key in BST](https://www.geeksforgeeks.org/binary-search-tree-set-1-search-and-insertion/)"
   ]
  },
  {
   "cell_type": "code",
   "execution_count": null,
   "id": "1e5dc08f",
   "metadata": {},
   "outputs": [],
   "source": [
    "def searchBST(root, val):\n",
    "    temp_node = root\n",
    "\n",
    "    while temp_node != None:\n",
    "        if temp_node.val == val:\n",
    "            return temp_node\n",
    "        elif val < temp_node.val:\n",
    "            temp_node = temp_node.left\n",
    "        else:\n",
    "            temp_node = temp_node.right\n",
    "\n",
    "    return None"
   ]
  },
  {
   "cell_type": "markdown",
   "id": "71fe98b4",
   "metadata": {},
   "source": [
    "# [Construct BST from given keys](https://www.geeksforgeeks.org/sorted-array-to-balanced-bst/)"
   ]
  },
  {
   "cell_type": "code",
   "execution_count": null,
   "id": "7930d19a",
   "metadata": {},
   "outputs": [],
   "source": [
    "def sortedArrayToBST(nums):\n",
    "    def helper(nums):\n",
    "        if not nums:\n",
    "            return None\n",
    "\n",
    "        n = len(nums)\n",
    "        mid = n // 2\n",
    "\n",
    "        node = TreeNode(nums[mid])\n",
    "        node.left = helper(nums[:mid])\n",
    "        node.right = helper(nums[mid+1:])\n",
    "\n",
    "        return node\n",
    "\n",
    "    return helper(nums)"
   ]
  },
  {
   "cell_type": "markdown",
   "id": "d8158775",
   "metadata": {},
   "source": [
    "# [Check if a BT is BST or not](https://www.geeksforgeeks.org/a-program-to-check-if-a-binary-tree-is-bst-or-not/)"
   ]
  },
  {
   "cell_type": "code",
   "execution_count": null,
   "id": "dff5fa0a",
   "metadata": {},
   "outputs": [],
   "source": [
    "def isValidBST(root):\n",
    "    def helper(root):\n",
    "        if root.left == None and root.right == None:\n",
    "            return True, root.val, root.val\n",
    "\n",
    "        check_left = True\n",
    "        check_right = True\n",
    "\n",
    "        left_min_node, left_max_node = float('inf'), -float('inf')\n",
    "        right_min_node, right_max_node = float('inf'), -float('inf')\n",
    "\n",
    "        if root.left:\n",
    "            check_left, left_min_node, left_max_node = helper(root.left)\n",
    "\n",
    "        if root.right:\n",
    "            check_right, right_min_node, right_max_node = helper(root.right)\n",
    "            \n",
    "        minVal = min(root.val, left_min_node, right_min_node)\n",
    "        maxVal = max(root.val, left_max_node, right_max_node)\n",
    "\n",
    "        if not check_left or left_max_node >= root.val:\n",
    "            return False,  minVal, maxVal\n",
    "\n",
    "        if not check_right or right_min_node <= root.val:\n",
    "            return False,  minVal, maxVal\n",
    "\n",
    "        return True,  minVal, maxVal\n",
    "\n",
    "    check, _, _ = helper(root)\n",
    "    return check"
   ]
  },
  {
   "cell_type": "markdown",
   "id": "56ec5e97",
   "metadata": {},
   "source": [
    "# [Find LCA of two nodes in BST](https://www.geeksforgeeks.org/lowest-common-ancestor-in-a-binary-search-tree/)"
   ]
  },
  {
   "cell_type": "code",
   "execution_count": null,
   "id": "0816bf09",
   "metadata": {},
   "outputs": [],
   "source": [
    "def lowestCommonAncestor(root, p, q):\n",
    "    if p.val > q.val:\n",
    "        p, q = q, p\n",
    "\n",
    "    def helper(root, p, q):\n",
    "        if p.val <= root.val and root.val <= q.val:\n",
    "            return root\n",
    "        elif p.val <= root.val and q.val <= root.val:\n",
    "            return helper(root.left, p, q)\n",
    "        else:\n",
    "            return helper(root.right, p, q)\n",
    "\n",
    "    return helper(root, p, q)"
   ]
  },
  {
   "cell_type": "markdown",
   "id": "58076b62",
   "metadata": {},
   "source": [
    "# [Find the inorder predecessor/successor of a given Key in BST](https://www.geeksforgeeks.org/inorder-predecessor-successor-given-key-bst/)"
   ]
  },
  {
   "cell_type": "code",
   "execution_count": null,
   "id": "029ba456",
   "metadata": {},
   "outputs": [],
   "source": [
    "def findPreSuc(root, key, res=[-1, -1]):\n",
    "    if not root:\n",
    "        return\n",
    " \n",
    "    if root.key == key:\n",
    "        if root.left is not None:\n",
    "            tmp = root.left\n",
    "            while(tmp.right):\n",
    "                tmp = tmp.right\n",
    "            res[0] = tmp\n",
    "    \n",
    "        if root.right is not None:\n",
    "            tmp = root.right\n",
    "            while(temp.left):\n",
    "                tmp = tmp.left\n",
    "            res[1] = tmp\n",
    " \n",
    "        return\n",
    " \n",
    "    if root.key > key :\n",
    "        res[1] = root\n",
    "        findPreSuc(root.left, key)\n",
    "    else:\n",
    "        res[0] = root\n",
    "        findPreSuc(root.right, key)"
   ]
  }
 ],
 "metadata": {
  "kernelspec": {
   "display_name": "Python 3 (ipykernel)",
   "language": "python",
   "name": "python3"
  },
  "language_info": {
   "codemirror_mode": {
    "name": "ipython",
    "version": 3
   },
   "file_extension": ".py",
   "mimetype": "text/x-python",
   "name": "python",
   "nbconvert_exporter": "python",
   "pygments_lexer": "ipython3",
   "version": "3.10.2"
  }
 },
 "nbformat": 4,
 "nbformat_minor": 5
}
