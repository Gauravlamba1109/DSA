{
 "cells": [
  {
   "cell_type": "markdown",
   "id": "33f3259f",
   "metadata": {},
   "source": [
    "# Floor in a BST"
   ]
  },
  {
   "cell_type": "code",
   "execution_count": null,
   "id": "c050b037",
   "metadata": {},
   "outputs": [],
   "source": [
    "# Recursive\n",
    "def floor(root, key):\n",
    "    if not root:\n",
    "        return -1\n",
    " \n",
    "    if root.val == key:\n",
    "        return root.val\n",
    " \n",
    "    if root.val > key:\n",
    "        return floor(root.left, key)\n",
    " \n",
    "    floorValue = floor(root.right, key)\n",
    "    if floorValue <= key:\n",
    "        return floorValue\n",
    "    return root.val\n",
    "\n",
    "# Iterative\n",
    "def floor(root, key):\n",
    "    global floor\n",
    " \n",
    "    while (root):\n",
    "        if (root.val == key):\n",
    "            floor = root.val\n",
    "            break\n",
    "        if (key > root.val):\n",
    "            floor = root.val\n",
    "            root = root.right\n",
    "        else:\n",
    "            root = root.left"
   ]
  },
  {
   "cell_type": "markdown",
   "id": "12424562",
   "metadata": {},
   "source": [
    "# Ceil in a BST"
   ]
  },
  {
   "cell_type": "code",
   "execution_count": null,
   "id": "790fc6d5",
   "metadata": {},
   "outputs": [],
   "source": [
    "# Recursive\n",
    "def ceil(root, key):\n",
    "    if not root:\n",
    "        return -1\n",
    "     \n",
    "    if root.val == key:\n",
    "        return root.val\n",
    "     \n",
    "    if root.val < key:\n",
    "        return ceil(root.right, key)\n",
    "     \n",
    "    val = ceil(root.left, key)\n",
    "    if val >= key:\n",
    "        return val\n",
    "    return root.val\n",
    "\n",
    "# Iterative\n",
    "def ceil(root, key):\n",
    "    global ceil\n",
    " \n",
    "    while (root):\n",
    "        if (root.val == key):\n",
    "            ceil = root.val\n",
    "            break\n",
    "        if (key > root.val):\n",
    "            root = root.right\n",
    "        else:\n",
    "            ceil = root.val\n",
    "            root = root.left"
   ]
  },
  {
   "cell_type": "markdown",
   "id": "f2fc0305",
   "metadata": {},
   "source": [
    "# Find K-th smallest element in BST"
   ]
  },
  {
   "cell_type": "code",
   "execution_count": null,
   "id": "f1575223",
   "metadata": {},
   "outputs": [],
   "source": [
    "class Solution:\n",
    "    def findInorder(self, node, arr):\n",
    "        if node == None:\n",
    "            return\n",
    "\n",
    "        self.findInorder(node.left, arr)\n",
    "        arr.append(node.val)\n",
    "        self.findInorder(node.right, arr)\n",
    "        \n",
    "    def kthSmallest(self, root: Optional[TreeNode], k: int) -> int:\n",
    "        arr = []\n",
    "        self.findInorder(root, arr)\n",
    "        return arr[k-1]"
   ]
  },
  {
   "cell_type": "markdown",
   "id": "655808a8",
   "metadata": {},
   "source": [
    "# Find K-th largest element in BST"
   ]
  },
  {
   "cell_type": "code",
   "execution_count": null,
   "id": "36725b00",
   "metadata": {},
   "outputs": [],
   "source": [
    "class Solution:\n",
    "    def findInorder(self, node, arr):\n",
    "        if node == None:\n",
    "            return\n",
    "\n",
    "        self.findInorder(node.left, arr)\n",
    "        arr.append(node.data)\n",
    "        self.findInorder(node.right, arr)\n",
    "    \n",
    "    def kthLargest(self,root, k):\n",
    "        arr = []\n",
    "        self.findInorder(root, arr)\n",
    "        return arr[-k]"
   ]
  },
  {
   "cell_type": "markdown",
   "id": "eb0726a3",
   "metadata": {},
   "source": [
    "# Find a pair with a given sum in BST"
   ]
  },
  {
   "cell_type": "code",
   "execution_count": null,
   "id": "d6a80094",
   "metadata": {},
   "outputs": [],
   "source": [
    "class Solution:\n",
    "    def getInorder(self, node, arr):\n",
    "        if node == None:\n",
    "            return\n",
    "        \n",
    "        self.getInorder(node.left, arr)\n",
    "        arr.append(node.val)\n",
    "        self.getInorder(node.right, arr)\n",
    "    \n",
    "    def findTarget(self, root: Optional[TreeNode], k: int) -> bool:\n",
    "        arr = []\n",
    "        self.getInorder(root, arr)\n",
    "\n",
    "        left = 0\n",
    "        right = len(arr) - 1\n",
    "\n",
    "        while left < right:\n",
    "            s = arr[left] + arr[right]\n",
    "\n",
    "            if s == k:\n",
    "                return True\n",
    "            elif s > k:\n",
    "                right -= 1\n",
    "            else:\n",
    "                left += 1\n",
    "        \n",
    "        return False"
   ]
  },
  {
   "cell_type": "markdown",
   "id": "637cf8eb",
   "metadata": {},
   "source": [
    "# BST iterator"
   ]
  },
  {
   "cell_type": "code",
   "execution_count": null,
   "id": "34f7c50f",
   "metadata": {},
   "outputs": [],
   "source": [
    "class BSTIterator:\n",
    "    def __init__(self, root: Optional[TreeNode]):\n",
    "        self.root = root\n",
    "        self.stack = []\n",
    "        self.fillStack(root)\n",
    "    \n",
    "    def fillStack(self, root):\n",
    "        if root == None:\n",
    "            return\n",
    "        self.fillStack(root.left)\n",
    "        self.stack.append(root.val)\n",
    "        self.fillStack(root.right)\n",
    "\n",
    "    def next(self) -> int:\n",
    "        return self.stack.pop(0)\n",
    "    \n",
    "    def hasNext(self) -> bool:\n",
    "        if self.stack:\n",
    "            return True\n",
    "        return False"
   ]
  },
  {
   "cell_type": "markdown",
   "id": "8a2e4e2a",
   "metadata": {},
   "source": [
    "# Size of the largest BST in a Binary Tree "
   ]
  },
  {
   "cell_type": "code",
   "execution_count": null,
   "id": "9a3edcf1",
   "metadata": {},
   "outputs": [],
   "source": [
    "class Solution:\n",
    "    def helper(self, root):\n",
    "        if not root:\n",
    "            return 0, float('inf'), float('-inf'), True\n",
    "        \n",
    "        leftSum, leftMin, leftMax, isLeft = self.helper(root.left)\n",
    "        rightSum, rightMin, rightMax, isRight = self.helper(root.right)\n",
    "        \n",
    "        if isLeft and isRight and leftMax < root.val < rightMin:\n",
    "            self.result = max(self.result, root.val + leftSum + rightSum)\n",
    "            return root.val + leftSum + rightSum, min(root.val, leftMin), max(root.val, rightMax), True\n",
    "        return 0, 0, 0, False\n",
    "        \n",
    "    def maxSumBST(self, root: Optional[TreeNode]) -> int:\n",
    "        self.result = 0\n",
    "        self.helper(root)\n",
    "        return self.result"
   ]
  },
  {
   "cell_type": "markdown",
   "id": "6f6e744d",
   "metadata": {},
   "source": [
    "# Serialize and deserialize Binary Tree"
   ]
  },
  {
   "cell_type": "code",
   "execution_count": null,
   "id": "ea9bfa60",
   "metadata": {},
   "outputs": [],
   "source": [
    "class Codec:\n",
    "    def serialize(self, root):\n",
    "        encode = []\n",
    "        \n",
    "        def traverseTree(curr: TreeNode):\n",
    "            if curr:\n",
    "                encode.append(str(curr.val))\n",
    "                traverseTree(curr.left)\n",
    "                traverseTree(curr.right)\n",
    "            else:\n",
    "                encode.append(\"X\")\n",
    "       \n",
    "        traverseTree(root)\n",
    "        \n",
    "        return \",\".join(encode)\n",
    "        \n",
    "    def deserialize(self, data):\n",
    "        data =  data.split(\",\")\n",
    "        \n",
    "        def makeTree(idx):\n",
    "            node = TreeNode(int(data[idx])) if data[idx] != \"X\" else None\n",
    "            if node:\n",
    "                node.left, idx = makeTree(idx+1)\n",
    "                node.right, idx = makeTree(idx+1)\n",
    "            return node, idx\n",
    "        \n",
    "        return makeTree(0)[0]"
   ]
  }
 ],
 "metadata": {
  "kernelspec": {
   "display_name": "Python 3 (ipykernel)",
   "language": "python",
   "name": "python3"
  },
  "language_info": {
   "codemirror_mode": {
    "name": "ipython",
    "version": 3
   },
   "file_extension": ".py",
   "mimetype": "text/x-python",
   "name": "python",
   "nbconvert_exporter": "python",
   "pygments_lexer": "ipython3",
   "version": "3.8.10"
  }
 },
 "nbformat": 4,
 "nbformat_minor": 5
}
