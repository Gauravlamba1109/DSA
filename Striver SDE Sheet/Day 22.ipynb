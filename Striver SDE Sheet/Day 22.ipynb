{
 "cells": [
  {
   "cell_type": "markdown",
   "id": "0d2db353",
   "metadata": {},
   "source": [
    "# [Binary Tree to Double Linked List](https://www.geeksforgeeks.org/convert-given-binary-tree-doubly-linked-list-set-3/)"
   ]
  },
  {
   "cell_type": "code",
   "execution_count": null,
   "id": "1d1a6cfe",
   "metadata": {},
   "outputs": [],
   "source": [
    "class Solution:\n",
    "    def helper(self, root):\n",
    "        if not root:\n",
    "            return\n",
    "        \n",
    "        self.helper(root.right)\n",
    "        self.helper(root.left)\n",
    "\n",
    "        root.right = self.prev\n",
    "        self.prev.left = root\n",
    "        root.left = None\n",
    "\n",
    "        self.prev = root\n",
    "        \n",
    "    def flatten(self, root):\n",
    "        self.prev = None\n",
    "        self.helper(root)"
   ]
  },
  {
   "cell_type": "markdown",
   "id": "25ccb2c5",
   "metadata": {},
   "source": [
    "# [Find median in a stream of running integers](https://www.geeksforgeeks.org/median-of-stream-of-integers-running-integers/)"
   ]
  },
  {
   "cell_type": "code",
   "execution_count": null,
   "id": "df7dca30",
   "metadata": {},
   "outputs": [],
   "source": [
    "import heapq\n",
    "class MedianFinder:\n",
    "    def __init__(self):\n",
    "        self.min_heap = []\n",
    "        self.max_heap = []\n",
    "\n",
    "    def addNum(self, num: int) -> None:\n",
    "        heapq.heappush(self.max_heap, -num)\n",
    "        heapq.heappush(self.min_heap, -heapq.heappop(self.max_heap))\n",
    "        \n",
    "        if len(self.min_heap) > len(self.max_heap):\n",
    "            heapq.heappush(self.max_heap, -heapq.heappop(self.min_heap))\n",
    "        \n",
    "\n",
    "    def findMedian(self) -> float:\n",
    "        if len(self.min_heap) == len(self.max_heap):\n",
    "            return (self.min_heap[0] - self.max_heap[0]) / 2\n",
    "        return -self.max_heap[0]"
   ]
  },
  {
   "cell_type": "markdown",
   "id": "c1f9bf11",
   "metadata": {},
   "source": [
    "# [K-th largest element in a stream](https://www.geeksforgeeks.org/kth-largest-element-in-a-stream/)"
   ]
  },
  {
   "cell_type": "code",
   "execution_count": null,
   "id": "830a9525",
   "metadata": {},
   "outputs": [],
   "source": [
    "import heapq\n",
    "class KthLargest:\n",
    "    def __init__(self, k: int, nums: List[int]):\n",
    "        self.k = k\n",
    "        self.min_heap = nums\n",
    "        heapq.heapify(self.min_heap)\n",
    "        \n",
    "        while len(self.min_heap) > k:\n",
    "            heapq.heappop(self.min_heap)\n",
    "\n",
    "    def add(self, val: int) -> int:\n",
    "        heapq.heappush(self.min_heap, val)\n",
    "        while len(self.min_heap) > self.k:\n",
    "            heapq.heappop(self.min_heap)\n",
    "        return self.min_heap[0]"
   ]
  },
  {
   "cell_type": "markdown",
   "id": "a680a2e3",
   "metadata": {},
   "source": [
    "# [Distinct numbers in Window](https://www.geeksforgeeks.org/count-distinct-elements-in-every-window-of-size-k/)"
   ]
  },
  {
   "cell_type": "code",
   "execution_count": null,
   "id": "cf3b2787",
   "metadata": {},
   "outputs": [],
   "source": [
    "def dNums(A, B):\n",
    "    mapper = dict()\n",
    "\n",
    "    for i in range(B):\n",
    "        if A[i] not in mapper:\n",
    "            mapper[A[i]] = 0\n",
    "        mapper[A[i]] += 1\n",
    "\n",
    "    v = []\n",
    "    v.append(len(mapper))\n",
    "\n",
    "    for i in range(B, len(A)):\n",
    "        mapper[A[i-B]] -= 1\n",
    "        if mapper[A[i-B]] == 0:\n",
    "            del mapper[A[i-B]]\n",
    "\n",
    "        if A[i] not in mapper:\n",
    "            mapper[A[i]] = 0\n",
    "\n",
    "        mapper[A[i]] += 1\n",
    "\n",
    "        v.append(len(mapper))\n",
    "\n",
    "    return v"
   ]
  },
  {
   "cell_type": "markdown",
   "id": "7a2557c9",
   "metadata": {},
   "source": [
    "# [K-th largest element in an unsorted array](https://www.geeksforgeeks.org/kth-smallestlargest-element-unsorted-array/)"
   ]
  },
  {
   "cell_type": "code",
   "execution_count": null,
   "id": "75e49834",
   "metadata": {},
   "outputs": [],
   "source": [
    "import heapq\n",
    "class Solution(object):\n",
    "    def findKthLargest(self, nums, k):\n",
    "        heap = []\n",
    "        \n",
    "        for ele in nums:\n",
    "            heapq.heappush(heap, ele)\n",
    "            \n",
    "            if len(heap) > k:\n",
    "                heapq.heappop(heap)\n",
    "                \n",
    "        return heapq.heappop(heap)"
   ]
  },
  {
   "cell_type": "markdown",
   "id": "c752eb86",
   "metadata": {},
   "source": [
    "# [Flood-fill Algorithm](https://www.geeksforgeeks.org/flood-fill-algorithm-implement-fill-paint/)"
   ]
  },
  {
   "cell_type": "code",
   "execution_count": null,
   "id": "d5973cd9",
   "metadata": {},
   "outputs": [],
   "source": [
    "def floodFill(image, sr, sc, newColor):\n",
    "    row = len(image)\n",
    "    col = len(image[0])\n",
    "    visited = [[False for _ in range(col)] for _ in range(row)]\n",
    "    startColor = image[sr][sc]\n",
    "    queue = [[sr, sc]]\n",
    "    while queue:\n",
    "        i, j = queue.pop(0)\n",
    "        if visited[i][j]:\n",
    "            continue\n",
    "        visited[i][j] = True\n",
    "        image[i][j] = newColor\n",
    "\n",
    "        for r, c in [(1, 0), (-1, 0), (0, -1), (0, 1)]:\n",
    "            if 0 <= i + r < row and 0 <= c + j < col and image[i+r][c+j] == startColor:\n",
    "                queue.append((i+r, j+c))\n",
    "\n",
    "    return image"
   ]
  }
 ],
 "metadata": {
  "kernelspec": {
   "display_name": "Python 3 (ipykernel)",
   "language": "python",
   "name": "python3"
  },
  "language_info": {
   "codemirror_mode": {
    "name": "ipython",
    "version": 3
   },
   "file_extension": ".py",
   "mimetype": "text/x-python",
   "name": "python",
   "nbconvert_exporter": "python",
   "pygments_lexer": "ipython3",
   "version": "3.10.2"
  }
 },
 "nbformat": 4,
 "nbformat_minor": 5
}
