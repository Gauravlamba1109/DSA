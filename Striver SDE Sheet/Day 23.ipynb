{
 "cells": [
  {
   "cell_type": "markdown",
   "id": "649bef3d",
   "metadata": {},
   "source": [
    "# Clone a graph"
   ]
  },
  {
   "cell_type": "code",
   "execution_count": null,
   "id": "08a89c3f",
   "metadata": {},
   "outputs": [],
   "source": [
    "class Solution:\n",
    "    def createNodes(self, node, vis, mapper):\n",
    "        if node not in mapper:\n",
    "            mapper[node] = Node(node.val)\n",
    "            vis[node] = True\n",
    "            for child in node.neighbors:\n",
    "                self.createNodes(child, vis, mapper)\n",
    "\n",
    "    def createGraph(self, node, mapper):\n",
    "        stack = [node]\n",
    "        vis = dict()\n",
    "        while stack:\n",
    "            node = stack.pop()\n",
    "            if node not in vis:\n",
    "                vis[node] = True\n",
    "                for child in node.neighbors:\n",
    "                    if child == node:\n",
    "                        mapper[node].neighbors.append(mapper[node])\n",
    "                    if child not in vis:\n",
    "                        mapper[node].neighbors.append(mapper[child])\n",
    "                        mapper[child].neighbors.append(mapper[node])\n",
    "                        stack.append(child)\n",
    "                        \n",
    "    def cloneGraph(self, node: 'Node') -> 'Node':\n",
    "        if not node:\n",
    "            return node\n",
    "        vis = dict()\n",
    "        mapper = dict()\n",
    "        self.createNodes(node, vis, mapper)\n",
    "        self.createGraph(node, mapper)\n",
    "        \n",
    "        return mapper[node]"
   ]
  },
  {
   "cell_type": "markdown",
   "id": "b373a814",
   "metadata": {},
   "source": [
    "# DFS"
   ]
  },
  {
   "cell_type": "code",
   "execution_count": null,
   "id": "b5e97705",
   "metadata": {},
   "outputs": [],
   "source": [
    "def dfsOfGraph(V, adj):\n",
    "    visited = [False for _ in range(V)]\n",
    "    result = []\n",
    "\n",
    "    def dfs(e, adj, visited, result, V):\n",
    "        if e < V and visited[e] == False:\n",
    "            visited[e] = True\n",
    "            result.append(e)\n",
    "\n",
    "            for ele in adj[e]:\n",
    "                dfs(ele, adj, visited, result, V)\n",
    "\n",
    "    dfs(0, adj, visited, result, V)\n",
    "\n",
    "    return result"
   ]
  },
  {
   "cell_type": "markdown",
   "id": "85d342df",
   "metadata": {},
   "source": [
    "# BFS"
   ]
  },
  {
   "cell_type": "code",
   "execution_count": null,
   "id": "c82e1e33",
   "metadata": {},
   "outputs": [],
   "source": [
    "def bfsOfGraph(V, adj):\n",
    "    visited = [False for _ in range(V)]\n",
    "    result = []\n",
    "\n",
    "    visited[0] = True\n",
    "    queue = [0]\n",
    "    result.append(0)\n",
    "\n",
    "    while queue:\n",
    "        ele = queue.pop(0)\n",
    "\n",
    "        for node in adj[ele]:\n",
    "            if visited[node] == False:\n",
    "                visited[node] = True\n",
    "                queue.append(node)\n",
    "                result.append(node)\n",
    "\n",
    "    return result"
   ]
  },
  {
   "cell_type": "markdown",
   "id": "b80c6417",
   "metadata": {},
   "source": [
    "# Detect A cycle in Undirected Graph using BFS"
   ]
  },
  {
   "cell_type": "code",
   "execution_count": null,
   "id": "ca2dae68",
   "metadata": {},
   "outputs": [],
   "source": [
    "def checkForCycleBFS(node, graph, vis):\n",
    "    vis[node] = 1\n",
    "    \n",
    "    queue = [(node, -1)]\n",
    "    \n",
    "    while queue:\n",
    "        ver, parent = queue.pop(0)\n",
    "        \n",
    "        for ele, weight in graph[ver]:\n",
    "            if vis[ele] == 0:\n",
    "                queue.append((ele, ver))\n",
    "                vis[ele] = 1\n",
    "            elif ele != parent:\n",
    "                return True\n",
    "    \n",
    "    return False\n",
    "\n",
    "def haveCycleBFS(graph):\n",
    "    vis = [0 for _ in range(len(graph))]\n",
    "    \n",
    "    for node in range(len(graph)):\n",
    "        if vis[node] == 0:\n",
    "            if checkForCycleBFS(node, graph, vis):\n",
    "                return True\n",
    "    \n",
    "    return False"
   ]
  },
  {
   "cell_type": "markdown",
   "id": "5ed584e9",
   "metadata": {},
   "source": [
    "# Detect A cycle in Undirected Graph using DFS"
   ]
  },
  {
   "cell_type": "code",
   "execution_count": null,
   "id": "f5e108b3",
   "metadata": {},
   "outputs": [],
   "source": [
    "def checkForCycleDFS(node, parent, graph, vis):\n",
    "    vis[node] = 1\n",
    "    \n",
    "    for ver, weight in graph[node]:\n",
    "        if vis[ver] == 0:\n",
    "            if checkForCycleDFS(ver, node, graph, vis):\n",
    "                return True\n",
    "        elif ver != parent:\n",
    "            return True\n",
    "    \n",
    "    return False\n",
    "\n",
    "def haveCycleDFS(graph):\n",
    "    vis = [0 for _ in range(len(graph))]\n",
    "    \n",
    "    for node in range(len(graph)):\n",
    "        if vis[node] == 0:\n",
    "            if checkForCycleDFS(node, -1, graph, vis):\n",
    "                return True\n",
    "        \n",
    "    return False"
   ]
  },
  {
   "cell_type": "markdown",
   "id": "66818175",
   "metadata": {},
   "source": [
    "# Detect A cycle in a Directed Graph using DFS"
   ]
  },
  {
   "cell_type": "code",
   "execution_count": null,
   "id": "cd109cbd",
   "metadata": {},
   "outputs": [],
   "source": [
    "def checkCycleDirectedDFS(node, graph, vis, dfs_vis): \n",
    "    vis[node] = 1\n",
    "    dfs_vis[node] = 1\n",
    "    \n",
    "    for node_itr, weight_itr in graph[node]:\n",
    "        if vis[node_itr] == 0:\n",
    "            if checkCycleDirectedDFS(node_itr, graph, vis, dfs_vis):\n",
    "                return True\n",
    "        elif dfs_vis[node_itr] == 1:\n",
    "            return True\n",
    "    dfs_vis[node] = 0\n",
    "    \n",
    "    return False\n",
    "\n",
    "def haveCycleDirectedDFS(graph):\n",
    "    vis = [0 for _ in range(len(graph))]\n",
    "    dfs_vis = [0 for _ in range(len(graph))]\n",
    "    \n",
    "    for node in range(len(graph)):\n",
    "        if vis[node] == 0:\n",
    "            if checkCycleDirectedDFS(node, graph, vis, dfs_vis):\n",
    "                return True\n",
    "    \n",
    "    return False"
   ]
  },
  {
   "cell_type": "markdown",
   "id": "1a5660e7",
   "metadata": {},
   "source": [
    "# Detect A cycle in a Directed Graph using BFS"
   ]
  },
  {
   "cell_type": "code",
   "execution_count": null,
   "id": "0da38b8c",
   "metadata": {},
   "outputs": [],
   "source": [
    "def haveCycleDirectedBFS(graph):\n",
    "    in_degree = findIndegree(graph)\n",
    "    queue = []\n",
    "    \n",
    "    for node_itr in range(len(graph)):\n",
    "        if in_degree[node_itr] == 0:\n",
    "            queue.append(node_itr)\n",
    "        \n",
    "    count = 0\n",
    "    while queue:\n",
    "        node = queue.pop(0)\n",
    "        count += 1\n",
    "        \n",
    "        for node_itr, weight_itr in graph[node]:\n",
    "            in_degree[node_itr] -= 1\n",
    "            if in_degree[node_itr] == 0:\n",
    "                queue.append(node_itr)\n",
    "                \n",
    "    if count == len(graph):\n",
    "        return False\n",
    "    return True"
   ]
  },
  {
   "cell_type": "markdown",
   "id": "71c76297",
   "metadata": {},
   "source": [
    "# Topological Sort "
   ]
  },
  {
   "cell_type": "code",
   "execution_count": null,
   "id": "3e585fc8",
   "metadata": {},
   "outputs": [],
   "source": [
    "# Using DFS\n",
    "def toposortDFS_helper(node, graph, vis, stack):\n",
    "    vis[node] = 1\n",
    "    \n",
    "    for node_itr, weight_itr in graph[node]:\n",
    "            \n",
    "        if vis[node_itr] == 0:\n",
    "            toposortDFS_helper(node_itr, graph, vis, stack)\n",
    "        \n",
    "    stack.append(node)\n",
    "\n",
    "def topologicalSortDFS(graph): \n",
    "    stack = []\n",
    "    vis = [0 for _ in range(len(graph))]\n",
    "    \n",
    "    for node in range(len(graph)):\n",
    "        if vis[node] == 0:\n",
    "            toposortDFS_helper(node, graph, vis, stack)\n",
    "    \n",
    "    return stack[::-1]\n",
    "\n",
    "# Using BFS\n",
    "def findIndegree(graph):\n",
    "    in_degree = [0 for _ in range(len(graph))]\n",
    "    \n",
    "    for node in range(len(graph)):\n",
    "        for node_itr, weight_itr in graph[node]:\n",
    "            in_degree[node_itr] += 1\n",
    "            \n",
    "    return in_degree\n",
    "\n",
    "def topologicalSortBFS(graph):\n",
    "    topo = []\n",
    "    in_degree = findIndegree(graph)\n",
    "    queue = []\n",
    "    \n",
    "    for node_itr in range(len(graph)):\n",
    "        if in_degree[node_itr] == 0:\n",
    "            queue.append(node_itr)\n",
    "            \n",
    "    while queue:\n",
    "        node = queue.pop(0)\n",
    "        topo.append(node)\n",
    "        \n",
    "        for node_itr, weight_itr in graph[node]:\n",
    "            in_degree[node_itr] -= 1\n",
    "            if in_degree[node_itr] == 0:\n",
    "                queue.append(node_itr)\n",
    "        \n",
    "    return topo"
   ]
  },
  {
   "cell_type": "markdown",
   "id": "a9ddec2e",
   "metadata": {},
   "source": [
    "# Number of islands"
   ]
  },
  {
   "cell_type": "code",
   "execution_count": null,
   "id": "1f4e5200",
   "metadata": {},
   "outputs": [],
   "source": [
    "class Solution:\n",
    "    def doDFS(self, i, j, graph, vis, N, M):\n",
    "        if -1 < i < N and -1 < j < M and graph[i][j] == '1' and vis[i][j] == 0:    \n",
    "            vis[i][j] = 1\n",
    "\n",
    "            self.doDFS(i+1, j, graph, vis, N, M)\n",
    "            self.doDFS(i, j+1, graph, vis, N, M)\n",
    "            self.doDFS(i-1, j, graph, vis, N, M)\n",
    "            self.doDFS(i, j-1, graph, vis, N, M)\n",
    "\n",
    "\n",
    "    def dfs(self, graph):\n",
    "        N = len(graph)\n",
    "        M = len(graph[0])\n",
    "        count = 0\n",
    "\n",
    "        vis = [[0 for _ in range(M)] for _ in range(N)]\n",
    "\n",
    "        for i in range(N):\n",
    "            for j in range(M):\n",
    "                if graph[i][j] == '1' and vis[i][j] == 0:\n",
    "                    count += 1\n",
    "                    self.doDFS(i, j, graph, vis, N, M)\n",
    "        \n",
    "        \n",
    "        return count\n",
    "    \n",
    "    def numIslands(self, grid: List[List[str]]) -> int:\n",
    "        result = self.dfs(grid)\n",
    "        return result"
   ]
  },
  {
   "cell_type": "markdown",
   "id": "aa1b217a",
   "metadata": {},
   "source": [
    "# Bipartite Check using BFS"
   ]
  },
  {
   "cell_type": "code",
   "execution_count": null,
   "id": "2bd63c79",
   "metadata": {},
   "outputs": [],
   "source": [
    "def checkBipartiteGraphBFS(node, graph, color):\n",
    "    color[node] = 0\n",
    "    queue = [node]\n",
    "    \n",
    "    while queue:\n",
    "        node_temp = queue.pop(0)\n",
    "        \n",
    "        for node_itr, weight_itr in graph[node_temp]:\n",
    "            if color[node_itr] == -1:\n",
    "                color[node_itr] = 1 - color[node_temp]\n",
    "                queue.append(node_itr)\n",
    "            elif color[node_itr] == color[node_temp]:\n",
    "                return False\n",
    "    \n",
    "    return True\n",
    "\n",
    "def colorGraphBFS(graph):\n",
    "    color = [-1 for _ in range(len(graph))]\n",
    "    \n",
    "    for node in range(len(graph)):\n",
    "        if color[node] == -1:\n",
    "            if not checkBipartiteGraphBFS(node, graph, color):\n",
    "                return False\n",
    "    \n",
    "    return color"
   ]
  },
  {
   "cell_type": "markdown",
   "id": "d4359e58",
   "metadata": {},
   "source": [
    "# Bipartite Check using DFS"
   ]
  },
  {
   "cell_type": "code",
   "execution_count": null,
   "id": "048be4d8",
   "metadata": {},
   "outputs": [],
   "source": [
    "def checkBipartiteGraphDFS(node, parent_color, graph, color):\n",
    "    color[node] = 1 - parent_color\n",
    "    \n",
    "    for node_itr, weight_itr in graph[node]:\n",
    "        if color[node_itr] == -1:\n",
    "            if not checkBipartiteGraphDFS(node_itr, color[node], graph, color):\n",
    "                return False\n",
    "        elif color[node_itr] == color[node]:\n",
    "            return False\n",
    "    \n",
    "    return True\n",
    "\n",
    "def colorGraphDFS(graph):\n",
    "    color = [-1 for _ in range(len(graph))]\n",
    "    \n",
    "    for node in range(len(graph)):\n",
    "        if color[node] == -1:\n",
    "            if not checkBipartiteGraphDFS(node, 1, graph, color):\n",
    "                return False\n",
    "    \n",
    "    return color"
   ]
  }
 ],
 "metadata": {
  "kernelspec": {
   "display_name": "Python 3 (ipykernel)",
   "language": "python",
   "name": "python3"
  },
  "language_info": {
   "codemirror_mode": {
    "name": "ipython",
    "version": 3
   },
   "file_extension": ".py",
   "mimetype": "text/x-python",
   "name": "python",
   "nbconvert_exporter": "python",
   "pygments_lexer": "ipython3",
   "version": "3.8.10"
  }
 },
 "nbformat": 4,
 "nbformat_minor": 5
}
