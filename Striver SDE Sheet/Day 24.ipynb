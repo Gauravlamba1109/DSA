{
 "cells": [
  {
   "cell_type": "markdown",
   "id": "5cc59a89",
   "metadata": {},
   "source": [
    "# Strongly Connected Component(using KosaRaju’s algo) "
   ]
  },
  {
   "cell_type": "code",
   "execution_count": null,
   "id": "acdd3abc",
   "metadata": {},
   "outputs": [],
   "source": [
    "def dfs_helper(node, stack, graph, vis):\n",
    "    vis[node] = True\n",
    "    \n",
    "    for node_itr, _ in graph[node]:\n",
    "        if vis[node_itr] != True:\n",
    "            dfs_helper(node_itr, stack, graph, vis)\n",
    "    \n",
    "    stack.append(node)\n",
    "            \n",
    "def transpose(graph):\n",
    "    n = len(graph)\n",
    "    new_edges = [[] for _ in range(n)]\n",
    "    \n",
    "    for node in range(n):\n",
    "        for node_itr, weight_itr in graph[node]:\n",
    "            new_edges[node_itr].append(node)\n",
    "    \n",
    "    return new_edges\n",
    "\n",
    "def revDFS(node, graph, vis):\n",
    "    vis[node] = True\n",
    "    print(node, end=\" \")\n",
    "    for node_itr in graph[node]:\n",
    "        if vis[node_itr] == False:\n",
    "            revDFS(node_itr, graph, vis)\n",
    "\n",
    "def kosarajuAlgo(graph):\n",
    "    n = len(graph)\n",
    "    stack = []\n",
    "    vis = [False for _ in range(n)]\n",
    "    \n",
    "    for node in range(n):\n",
    "        if vis[node]!= True:\n",
    "            dfs_helper(node, stack, graph, vis)\n",
    "    \n",
    "    transpose_edges = transpose(graph)\n",
    "    vis = [False for _ in range(n)]\n",
    "    \n",
    "    while stack:\n",
    "        node = stack.pop()\n",
    "        if vis[node] == False:\n",
    "            print(\"SCC: \", end=\" \")\n",
    "            revDFS(node, transpose_edges, vis)\n",
    "            print()"
   ]
  },
  {
   "cell_type": "markdown",
   "id": "56df4954",
   "metadata": {},
   "source": [
    "# Dijkstra’s Algorithm"
   ]
  },
  {
   "cell_type": "code",
   "execution_count": null,
   "id": "5eeb980b",
   "metadata": {},
   "outputs": [],
   "source": [
    "import heapq\n",
    "def dijkstraAlgo(graph, source):\n",
    "    min_heap = []\n",
    "    distance = [float('inf') for _ in range(len(graph))]\n",
    "    distance[source] = 0\n",
    "    \n",
    "    heapq.heappush(min_heap, (0, source))\n",
    "    \n",
    "    while min_heap:\n",
    "        weight, node = heapq.heappop(min_heap)\n",
    "        for node_itr, weight_itr in graph[node]:\n",
    "            if weight + weight_itr < distance[node_itr]:\n",
    "                distance[node_itr] = distance[node] + weight_itr\n",
    "                heapq.heappush(min_heap, (distance[node_itr], node_itr))\n",
    "    \n",
    "    return distance"
   ]
  },
  {
   "cell_type": "markdown",
   "id": "66966a7f",
   "metadata": {},
   "source": [
    "# Bellman-Ford Algo"
   ]
  },
  {
   "cell_type": "code",
   "execution_count": null,
   "id": "1bff2351",
   "metadata": {},
   "outputs": [],
   "source": [
    "def getEdges(graph):\n",
    "    edges = []\n",
    "    \n",
    "    for node in range(len(graph)):\n",
    "        for node_itr, weight_itr in graph[node]:\n",
    "            edges.append((node, node_itr, weight_itr))\n",
    "    \n",
    "    return edges\n",
    "\n",
    "def bellmanFordAlgo(graph, source):\n",
    "    edges = getEdges(graph)\n",
    "    \n",
    "    distance = [float('inf') for _ in range(len(graph))]\n",
    "    distance[source] = 0\n",
    "    \n",
    "    for _ in range(len(graph) - 1):\n",
    "        for itr in edges:\n",
    "            if distance[itr[0]] + itr[2] < distance[itr[1]]:\n",
    "                distance[itr[1]] = distance[itr[0]] + itr[2]\n",
    "    \n",
    "    for itr in edges:\n",
    "        if distance[itr[0]] + itr[2] < distance[itr[1]]:\n",
    "            return -1\n",
    "    \n",
    "    return distance"
   ]
  },
  {
   "cell_type": "markdown",
   "id": "dfb2f517",
   "metadata": {},
   "source": [
    "# Floyd Warshall Algorithm"
   ]
  },
  {
   "cell_type": "code",
   "execution_count": null,
   "id": "6bc3524f",
   "metadata": {},
   "outputs": [],
   "source": [
    "def shortest_distance(matrix):\n",
    "    V = len(matrix)\n",
    "    dist = [arr[:] for arr in matrix]\n",
    "\n",
    "    for k in range(V):\n",
    "        for i in range(V):\n",
    "            for j in range(V):\n",
    "                dist[i][j] = min(dist[i][j], dist[i][k] + dist[k][j])\n",
    "\n",
    "    return dist"
   ]
  },
  {
   "cell_type": "markdown",
   "id": "19f88063",
   "metadata": {},
   "source": [
    "# MST using Prim’s Algo "
   ]
  },
  {
   "cell_type": "code",
   "execution_count": null,
   "id": "b8ca560a",
   "metadata": {},
   "outputs": [],
   "source": [
    "import heapq\n",
    "\n",
    "# Without Heaps\n",
    "def primAlgo(graph):\n",
    "    weights = [float('inf') for _ in range(len(graph))]\n",
    "    parents = [-1 for _ in range(len(graph))]\n",
    "    mstSet = [False for _ in range(len(graph))]\n",
    "    weights[0] = 0\n",
    "\n",
    "    for _ in range(len(graph)):\n",
    "        mini = float('inf')\n",
    "        node = 0\n",
    "\n",
    "        for v in range(V):\n",
    "            if mstSet[v] == False and mini > weights[v]:\n",
    "                mini = weights[v]\n",
    "                node = v\n",
    "        mstSet[node] = True\n",
    "\n",
    "        for node_itr, weight_itr in graph[node]:\n",
    "            if mstSet[node_itr] == False and weight_itr < weights[node_itr]:\n",
    "                parents[node_itr] = node\n",
    "                weights[node_itr] = weight_itr\n",
    "\n",
    "# With Heaps\n",
    "def primAlgo(graph):\n",
    "    min_heap = []\n",
    "    n = len(graph)\n",
    "    weights = [float('inf') for _ in range(n)]\n",
    "    parent = [-1  for _ in range(n)]\n",
    "    mstSet = [False for _ in range(n)]\n",
    "\n",
    "    heapq.heappush(min_heap, (0, 0))\n",
    "\n",
    "    weights[0] = 0\n",
    "\n",
    "    while len(min_heap) > 0: \n",
    "        weight, node = heapq.heappop(min_heap)\n",
    "\n",
    "        mstSet[node] = True\n",
    "\n",
    "        for node_itr, weight_itr in graph[node]:\n",
    "            if mstSet[node_itr] == False and weight_itr < weights[node_itr]:\n",
    "                parent[node_itr] = node\n",
    "                weights[node_itr] = weight_itr\n",
    "                heapq.heappush(min_heap, (weights[node_itr], node_itr))\n",
    "\n",
    "    return sum(weights[1:])"
   ]
  },
  {
   "cell_type": "markdown",
   "id": "f9a3424c",
   "metadata": {},
   "source": [
    "# MST using Kruskal’s Algo"
   ]
  },
  {
   "cell_type": "code",
   "execution_count": null,
   "id": "12a3973c",
   "metadata": {},
   "outputs": [],
   "source": [
    "def getSortedEdges(graph):\n",
    "    edges = []\n",
    "    \n",
    "    for node in range(len(graph)):\n",
    "        for node_itr, weight_itr in graph[node]:\n",
    "            edges.append((weight_itr, node, node_itr))\n",
    "            \n",
    "    return sorted(edges, key=lambda x: x[0])\n",
    "\n",
    "def kruskalAlgo(graph):\n",
    "    disjointSets = DisjointSets(len(graph))\n",
    "    edges = getSortedEdges(graph)\n",
    "    \n",
    "    costMst = 0\n",
    "    mst = []\n",
    "    \n",
    "    for edge in edges:\n",
    "        if disjointSets.findParent(edge[1]) != disjointSets.findParent(edge[2]):\n",
    "            costMst += edge[0]\n",
    "            mst.append(edge)\n",
    "            disjointSets.union(edge[1], edge[2])\n",
    "    \n",
    "    return costMst, mst"
   ]
  }
 ],
 "metadata": {
  "kernelspec": {
   "display_name": "Python 3 (ipykernel)",
   "language": "python",
   "name": "python3"
  },
  "language_info": {
   "codemirror_mode": {
    "name": "ipython",
    "version": 3
   },
   "file_extension": ".py",
   "mimetype": "text/x-python",
   "name": "python",
   "nbconvert_exporter": "python",
   "pygments_lexer": "ipython3",
   "version": "3.8.10"
  }
 },
 "nbformat": 4,
 "nbformat_minor": 5
}
