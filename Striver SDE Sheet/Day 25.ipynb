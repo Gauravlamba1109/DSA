{
 "cells": [
  {
   "cell_type": "markdown",
   "id": "336c308b",
   "metadata": {},
   "source": [
    "# [Max Product Subarray](https://www.geeksforgeeks.org/maximum-product-subarray/)"
   ]
  },
  {
   "cell_type": "code",
   "execution_count": null,
   "id": "72ba991a",
   "metadata": {},
   "outputs": [],
   "source": [
    "def maxProduct(nums):\n",
    "    N = len(nums)\n",
    "    max_prod = [num for num in nums]\n",
    "    min_prod = [num for num in nums]\n",
    "\n",
    "    for i in range(1, N):\n",
    "        max_prod[i] = max(max_prod[i], nums[i] * max_prod[i-1], nums[i] * min_prod[i-1])\n",
    "        min_prod[i] = min(min_prod[i], nums[i] * max_prod[i-1], nums[i] * min_prod[i-1])\n",
    "\n",
    "    return max(max_prod)"
   ]
  },
  {
   "cell_type": "markdown",
   "id": "d1fd8e68",
   "metadata": {},
   "source": [
    "# [Longest Increasing Subsequence](https://www.geeksforgeeks.org/longest-increasing-subsequence-dp-3/)"
   ]
  },
  {
   "cell_type": "code",
   "execution_count": null,
   "id": "eecbb7c5",
   "metadata": {},
   "outputs": [],
   "source": [
    "def lengthOfLIS(nums):\n",
    "    n = len(nums)\n",
    "    if n == 0:\n",
    "        return 0\n",
    "    dp = [1 for _ in range(n)]\n",
    "\n",
    "    result = 1\n",
    "    for i in range(n):\n",
    "        for j in range(i):\n",
    "            if nums[j] < nums[i]:\n",
    "                dp[i] = max(dp[i], dp[j]+1)\n",
    "\n",
    "        result = max(result, dp[i])\n",
    "\n",
    "    return result"
   ]
  },
  {
   "cell_type": "markdown",
   "id": "fa3db77c",
   "metadata": {},
   "source": [
    "# [Longest Common Subsequence](https://www.geeksforgeeks.org/longest-common-subsequence-dp-4/)"
   ]
  },
  {
   "cell_type": "code",
   "execution_count": null,
   "id": "b893e9d7",
   "metadata": {},
   "outputs": [],
   "source": [
    "def longestCommonSubsequence(text1, text2):\n",
    "    N = len(text1)\n",
    "    M = len(text2)\n",
    "\n",
    "    dp = [[0 for _ in range(M+1)] for _ in range(N+1)]\n",
    "\n",
    "    for i in range(N+1):\n",
    "        for j in range(M+1):\n",
    "            if i == 0 or j == 0:\n",
    "                dp[i][j] = 0\n",
    "            elif text1[i-1] == text2[j-1]:\n",
    "                dp[i][j] = max(dp[i-1][j-1] + 1, dp[i-1][j], dp[i][j-1])\n",
    "            else:\n",
    "                dp[i][j] = max(dp[i-1][j], dp[i][j-1])\n",
    "\n",
    "    return dp[N][M]"
   ]
  },
  {
   "cell_type": "markdown",
   "id": "4ab9430c",
   "metadata": {},
   "source": [
    "# [0-1 Knapsack](https://www.geeksforgeeks.org/0-1-knapsack-problem-dp-10/)"
   ]
  },
  {
   "cell_type": "code",
   "execution_count": null,
   "id": "f9269e57",
   "metadata": {},
   "outputs": [],
   "source": [
    "class Solution:\n",
    "    def countOneAndZero(self, string):\n",
    "        ones = 0\n",
    "        zeros = 0\n",
    "        for char in string:\n",
    "            if char == '0':\n",
    "                zeros += 1\n",
    "            else:\n",
    "                ones += 1\n",
    "        \n",
    "        return zeros, ones\n",
    "    \n",
    "    def helper(self, pos, z, o, N, strs, m, n, dp, mapper):\n",
    "        if z > m or o > n:\n",
    "            return 0\n",
    "        if pos >= N:\n",
    "            return 0\n",
    "        \n",
    "        zeros, ones = mapper[strs[pos]]\n",
    "        if (pos, z, o) not in dp:\n",
    "            if z + zeros > m or o + ones > n:\n",
    "                dp[(pos, z, o)] = self.helper(pos+1, z, o, N, strs, m, n, dp, mapper)\n",
    "            else:\n",
    "                dp[(pos, z, o)] = max(1+self.helper(pos+1, z+zeros, o+ones, N, strs, m, n, dp, mapper), \n",
    "                                     self.helper(pos+1, z, o, N, strs, m, n, dp, mapper))\n",
    "        \n",
    "    \n",
    "        return dp[(pos, z, o)]\n",
    "    \n",
    "    def findMaxForm(self, strs: List[str], m: int, n: int) -> int:\n",
    "        mapper = dict()\n",
    "        for string in strs:\n",
    "            mapper[string] = self.countOneAndZero(string)\n",
    "        \n",
    "        N = len(strs)\n",
    "        dp = dict()\n",
    "        \n",
    "        return self.helper(0, 0, 0, N, strs, m, n, dp, mapper)"
   ]
  },
  {
   "cell_type": "markdown",
   "id": "a87d0feb",
   "metadata": {},
   "source": [
    "# [Edit Distance Click](https://www.geeksforgeeks.org/edit-distance-dp-5/)"
   ]
  },
  {
   "cell_type": "code",
   "execution_count": null,
   "id": "57d65127",
   "metadata": {},
   "outputs": [],
   "source": [
    "def minDistance(word1, word2):\n",
    "    lenX = len(word1)\n",
    "    lenY = len(word2)\n",
    "    t = [[-1 for _ in range(lenY+1)] for _ in range (lenX+1)]\n",
    "\n",
    "    for i in range(lenX+1):\n",
    "        for j in range(lenY+1):\n",
    "            if i == 0:\n",
    "                t[i][j] = j\n",
    "            elif j == 0:\n",
    "                t[i][j] = i\n",
    "            elif word1[i-1] == word2[j-1]:\n",
    "                t[i][j] = t[i-1][j-1]\n",
    "            else:\n",
    "                t[i][j] = 1 + min(t[i-1][j], t[i][j-1], t[i-1][j-1])\n",
    "\n",
    "    return t[lenX][lenY]"
   ]
  },
  {
   "cell_type": "markdown",
   "id": "43c61bdf",
   "metadata": {},
   "source": [
    "# [Maximum sum increasing subsequence](https://www.geeksforgeeks.org/maximum-sum-increasing-subsequence-dp-14/)"
   ]
  },
  {
   "cell_type": "code",
   "execution_count": null,
   "id": "31908dd9",
   "metadata": {},
   "outputs": [],
   "source": [
    "def maxSumIS(Arr, n):\n",
    "    dp = [ele for ele in Arr]\n",
    "\n",
    "    for i in range(1, n):\n",
    "        for j in range(i):\n",
    "            if Arr[i] > Arr[j] and dp[i] < dp[j] + Arr[i]:\n",
    "                dp[i] = dp[j] + Arr[i]\n",
    "\n",
    "    return max(dp)"
   ]
  },
  {
   "cell_type": "markdown",
   "id": "b71e87f5",
   "metadata": {},
   "source": [
    "# [Matrix Chain Multiplication](https://www.geeksforgeeks.org/matrix-chain-multiplication-dp-8/)"
   ]
  },
  {
   "cell_type": "code",
   "execution_count": null,
   "id": "e035041f",
   "metadata": {},
   "outputs": [],
   "source": [
    "def matrixMultiplication(N, arr):\n",
    "    dp = [[-1 for _ in range(N+1)] for _ in range(N+1)]\n",
    "\n",
    "    def helper(arr, i, j, dp):\n",
    "        if i >= j:\n",
    "            return 0\n",
    "        if dp[i][j] != -1:\n",
    "            return dp[i][j]\n",
    "\n",
    "        temp = float('inf')\n",
    "        for k in range(i, j):\n",
    "            before = helper(arr, i, k, dp)\n",
    "            after = helper(arr, k+1, j, dp)\n",
    "            temp = min(temp, before + after + arr[i-1]*arr[k]*arr[j])\n",
    "\n",
    "        dp[i][j] = temp\n",
    "        return temp\n",
    "\n",
    "    return helper(arr, 1, N-1, dp)"
   ]
  }
 ],
 "metadata": {
  "kernelspec": {
   "display_name": "Python 3 (ipykernel)",
   "language": "python",
   "name": "python3"
  },
  "language_info": {
   "codemirror_mode": {
    "name": "ipython",
    "version": 3
   },
   "file_extension": ".py",
   "mimetype": "text/x-python",
   "name": "python",
   "nbconvert_exporter": "python",
   "pygments_lexer": "ipython3",
   "version": "3.10.2"
  }
 },
 "nbformat": 4,
 "nbformat_minor": 5
}
