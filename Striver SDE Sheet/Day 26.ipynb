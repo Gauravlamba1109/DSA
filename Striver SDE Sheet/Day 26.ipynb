{
 "cells": [
  {
   "cell_type": "markdown",
   "id": "0ec86bb9",
   "metadata": {},
   "source": [
    "# [Maximum sum path in the matrix](https://www.geeksforgeeks.org/maximum-path-sum-matrix/)"
   ]
  },
  {
   "cell_type": "code",
   "execution_count": null,
   "id": "b7b2b954",
   "metadata": {},
   "outputs": [],
   "source": [
    "def maxPathSum(grid):\n",
    "    N = len(grid)\n",
    "    M = len(grid[0])\n",
    "\n",
    "    for i in range(N):\n",
    "        for j in range(M):\n",
    "            if i == 0 and j == 0:\n",
    "                continue\n",
    "            up = grid[i-1][j] if i != 0 else -float('inf')\n",
    "            left = grid[i][j-1] if j != 0 else -float('inf')\n",
    "            grid[i][j] = grid[i][j] + max(up, left)\n",
    "\n",
    "    return grid[N-1][M-1]"
   ]
  },
  {
   "cell_type": "markdown",
   "id": "8be40767",
   "metadata": {},
   "source": [
    "# [Coin change](https://leetcode.com/problems/coin-change/)"
   ]
  },
  {
   "cell_type": "code",
   "execution_count": null,
   "id": "9936c4b5",
   "metadata": {},
   "outputs": [],
   "source": [
    "def coinChange(coins, s):\n",
    "    n = len(coins)\n",
    "    t = [[-1 for _ in range(s+1)] for _ in range(n+1)]\n",
    "\n",
    "    for i in range(n+1):\n",
    "        for j in range(s+1):\n",
    "            if i == 0:\n",
    "                t[i][j] = float('inf')\n",
    "            elif j == 0:\n",
    "                t[i][j] = 0\n",
    "            elif i == 1:\n",
    "                if j%coins[i-1]==0:\n",
    "                    t[i][j] = j // coins[i-1]\n",
    "                else:\n",
    "                    t[i][j] = float('inf')\n",
    "            elif coins[i-1] <= j:\n",
    "                t[i][j] = min(1+t[i][j-coins[i-1]], t[i-1][j])\n",
    "            else:\n",
    "                t[i][j] = t[i-1][j]\n",
    "\n",
    "    return t[n][s] if t[n][s] != float('inf') else -1"
   ]
  },
  {
   "cell_type": "markdown",
   "id": "660f13c5",
   "metadata": {},
   "source": [
    "# [Subset Sum](https://www.geeksforgeeks.org/subset-sum-problem-dp-25/)"
   ]
  },
  {
   "cell_type": "code",
   "execution_count": null,
   "id": "cd061c0b",
   "metadata": {},
   "outputs": [],
   "source": [
    "def canPartition(arr, s):\n",
    "    n = len(arr)\n",
    "    t = [[False for _ in range(s+1)] for _ in range(n+1)]\n",
    "    for i in range(n+1):\n",
    "        for j in range(s+1):\n",
    "            if i == 0:\n",
    "                t[i][j] = False\n",
    "                t[0][0] = True\n",
    "            elif j == 0:\n",
    "                t[i][j] = True\n",
    "            elif arr[i-1] <= j:\n",
    "                t[i][j] = t[i-1][j-arr[i-1]] or t[i-1][j]\n",
    "            else:\n",
    "                t[i][j] = t[i-1][j]\n",
    "\n",
    "    return t[n][s]"
   ]
  },
  {
   "cell_type": "markdown",
   "id": "b881fdfe",
   "metadata": {},
   "source": [
    "# [Rod Cutting](https://www.geeksforgeeks.org/cutting-a-rod-dp-13/)"
   ]
  },
  {
   "cell_type": "code",
   "execution_count": null,
   "id": "0cd2e3f1",
   "metadata": {},
   "outputs": [],
   "source": [
    "def minCost(n, cuts):\n",
    "    dp = dict()\n",
    "\n",
    "    def helper(s, e):\n",
    "        if (s, e) in dp:\n",
    "            return dp[(s, e)]\n",
    "\n",
    "        cost = float('inf')\n",
    "        for cut in cuts:\n",
    "            if s < cut < e:\n",
    "                cost = min(cost, helper(s, cut) + helper(cut, e) + e - s)\n",
    "\n",
    "        dp[(s, e)] = cost if cost != float('inf') else 0\n",
    "        return dp[(s, e)]\n",
    "\n",
    "    return helper(0, n)"
   ]
  },
  {
   "cell_type": "markdown",
   "id": "f9bcabcd",
   "metadata": {},
   "source": [
    "# [Egg Dropping](https://www.geeksforgeeks.org/egg-dropping-puzzle-dp-11/)"
   ]
  },
  {
   "cell_type": "code",
   "execution_count": null,
   "id": "3828afe4",
   "metadata": {},
   "outputs": [],
   "source": [
    "t = [[-1 for _ in range(e)] for _ in range(f)]\n",
    "def egg_droping_memo(e, f):\n",
    "    if e == 0 or f == 0:\n",
    "        return 0\n",
    "    if e == 1 or f == 1:\n",
    "        return f\n",
    "    \n",
    "    if t[f-1][e-1] != -1:\n",
    "        return t[f-1][e-1]\n",
    "    \n",
    "    mn = math.inf\n",
    "    \n",
    "    for k in range(1, f+1):\n",
    "        temp = 1 + max(egg_droping_memo(e-1, k-1), egg_droping_memo(e, f-k))\n",
    "        mn = min(temp, mn)\n",
    "        \n",
    "    t[f-1][e-1] = mn\n",
    "    return mn"
   ]
  },
  {
   "cell_type": "markdown",
   "id": "45cecfad",
   "metadata": {},
   "source": [
    "# [Word Break](https://www.geeksforgeeks.org/word-break-problem-dp-32/)"
   ]
  },
  {
   "cell_type": "code",
   "execution_count": null,
   "id": "f116f027",
   "metadata": {},
   "outputs": [],
   "source": [
    "def wordBreak(A, B):\n",
    "    dp = dict()\n",
    "    for word in B:\n",
    "        dp[word] = 1\n",
    "\n",
    "    def helper(A, B, dp):\n",
    "        if len(A) < 1:\n",
    "            return 1\n",
    "\n",
    "        if A in dp:\n",
    "            return dp[A]\n",
    "\n",
    "        result = 0\n",
    "        for word in B:\n",
    "            if A.startswith(word):\n",
    "                result = max(result, helper(A[len(word):], B, dp))\n",
    "\n",
    "        dp[A] = result\n",
    "        return result\n",
    "\n",
    "    return helper(A, B, dp)"
   ]
  },
  {
   "cell_type": "markdown",
   "id": "f32b71ba",
   "metadata": {},
   "source": [
    "# [Palindrome Partitioning (MCM Variation)](https://www.geeksforgeeks.org/palindrome-partitioning-dp-17/)"
   ]
  },
  {
   "cell_type": "code",
   "execution_count": null,
   "id": "3270f6d8",
   "metadata": {},
   "outputs": [],
   "source": [
    "class Solution:\n",
    "    def is_palindrome(self, string):\n",
    "        if len(string) == 1:\n",
    "            return True\n",
    "        elif string == string[::-1]:\n",
    "            return True\n",
    "        return False\n",
    "        \n",
    "    def palindrome_partition_opt(self, string, i, j, t):\n",
    "        if i >= j:\n",
    "            return 0\n",
    "        if self.is_palindrome(string[i:j+1]):\n",
    "            return 0\n",
    "\n",
    "        temp = float('inf')\n",
    "        for k in range(i, j):\n",
    "            if not self.is_palindrome(string[i:k+1]):\n",
    "                continue\n",
    "                \n",
    "            if t[i][k] != -1:\n",
    "                left = t[i][k]\n",
    "            else:\n",
    "                left = self.palindrome_partition_opt(string, i, k, t)\n",
    "            if t[k+1][j] != -1:\n",
    "                right = t[k+1][j]\n",
    "            else:\n",
    "                right = self.palindrome_partition_opt(string, k+1, j, t)\n",
    "\n",
    "            temp = min(temp, left+right+1)\n",
    "\n",
    "        t[i][j] = temp\n",
    "\n",
    "        return t[i][j]\n",
    "    \n",
    "    def palindromicPartition(self, str):\n",
    "        n = len(str)\n",
    "        dp = [[-1 for _ in range(n+1)] for _ in range(n+1)]\n",
    "        result = self.palindrome_partition_opt(str, 0, n-1, dp)\n",
    "            \n",
    "        return result"
   ]
  },
  {
   "cell_type": "markdown",
   "id": "93f5cd1e",
   "metadata": {},
   "source": [
    "# [Maximum profit in Job scheduling](https://leetcode.com/problems/maximum-profit-in-job-scheduling/)"
   ]
  },
  {
   "cell_type": "code",
   "execution_count": null,
   "id": "f29308ca",
   "metadata": {},
   "outputs": [],
   "source": [
    "def JobScheduling(Jobs,n):\n",
    "    Jobs.sort(key = lambda x: x.profit, reverse=True)\n",
    "\n",
    "    maxDeadline = max(map(lambda x: x.deadline, Jobs))\n",
    "    arr = [-1 for _ in range(maxDeadline+1)]\n",
    "\n",
    "    count = 0\n",
    "    maxProfit = 0\n",
    "\n",
    "    for job in Jobs:\n",
    "        i = job.deadline\n",
    "        while i > 0 and arr[i] != -1:\n",
    "            i -= 1\n",
    "\n",
    "        if i == 0:\n",
    "            continue\n",
    "\n",
    "        arr[i] = job.id\n",
    "        count += 1\n",
    "        maxProfit += job.profit\n",
    "\n",
    "    return count, maxProfit"
   ]
  }
 ],
 "metadata": {
  "kernelspec": {
   "display_name": "Python 3 (ipykernel)",
   "language": "python",
   "name": "python3"
  },
  "language_info": {
   "codemirror_mode": {
    "name": "ipython",
    "version": 3
   },
   "file_extension": ".py",
   "mimetype": "text/x-python",
   "name": "python",
   "nbconvert_exporter": "python",
   "pygments_lexer": "ipython3",
   "version": "3.10.2"
  }
 },
 "nbformat": 4,
 "nbformat_minor": 5
}
