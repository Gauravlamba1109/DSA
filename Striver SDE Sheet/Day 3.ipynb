{
 "cells": [
  {
   "cell_type": "markdown",
   "id": "6155744e",
   "metadata": {},
   "source": [
    "# Search in a 2D Matrix"
   ]
  },
  {
   "cell_type": "code",
   "execution_count": null,
   "id": "e4289015",
   "metadata": {},
   "outputs": [],
   "source": [
    "def searchMatrix(A, B):\n",
    "    N = len(A)\n",
    "    M = len(A[0])\n",
    "\n",
    "    i = 0\n",
    "    j = M-1\n",
    "\n",
    "    while -1 < i < N and -1 < j < M:\n",
    "        if A[i][j] == B:\n",
    "            return 1\n",
    "\n",
    "        if A[i][j] < B:\n",
    "            i += 1\n",
    "        else:\n",
    "            j -= 1\n",
    "\n",
    "    return 0"
   ]
  },
  {
   "cell_type": "markdown",
   "id": "0a91991f",
   "metadata": {},
   "source": [
    "# Pow(x, n)"
   ]
  },
  {
   "cell_type": "code",
   "execution_count": 5,
   "id": "c1047a23",
   "metadata": {},
   "outputs": [],
   "source": [
    "def Pow(x, n):\n",
    "    if n == 1:\n",
    "        return x\n",
    "    \n",
    "    temp = Pow(x, n//2)\n",
    "    if n % 2 == 0:\n",
    "        return temp * temp\n",
    "    else:\n",
    "        return x * temp * temp "
   ]
  },
  {
   "cell_type": "markdown",
   "id": "12106251",
   "metadata": {},
   "source": [
    "# Majority Element (>N/2 times)\n",
    "\n",
    "Moore's Voting Algorithm"
   ]
  },
  {
   "cell_type": "code",
   "execution_count": null,
   "id": "cdba43dc",
   "metadata": {},
   "outputs": [],
   "source": [
    "def majorityElement(A):\n",
    "    count = 0\n",
    "    majEle = 0\n",
    "\n",
    "    for ele in A:\n",
    "        if count == 0:\n",
    "            majEle = ele\n",
    "\n",
    "        if ele == majEle:\n",
    "            count += 1\n",
    "        else:\n",
    "            count -= 1\n",
    "\n",
    "    return majEle"
   ]
  },
  {
   "cell_type": "markdown",
   "id": "ded9c218",
   "metadata": {},
   "source": [
    "# Majority Element (>N/3 times)"
   ]
  },
  {
   "cell_type": "code",
   "execution_count": null,
   "id": "6dc1fffc",
   "metadata": {},
   "outputs": [],
   "source": [
    "def majorityElement(nums: List[int]) -> List[int]:\n",
    "    ele1 = -1\n",
    "    ele2 = -1\n",
    "    count1 = 0\n",
    "    count2 = 0\n",
    "    n = len(nums)\n",
    "\n",
    "    for ele in nums:\n",
    "        if ele == ele1:\n",
    "            count1 += 1\n",
    "        elif ele == ele2:\n",
    "            count2 += 1\n",
    "        elif count1 == 0:\n",
    "            ele1 = ele\n",
    "            count1 = 1\n",
    "        elif count2 == 0:\n",
    "            ele2 = ele\n",
    "            count2 = 1\n",
    "        else:\n",
    "            count1 -= 1\n",
    "            count2 -= 1\n",
    "\n",
    "    c1 = 0    \n",
    "    c2 = 0\n",
    "    for ele in nums:\n",
    "        if ele == ele1:\n",
    "            c1 += 1\n",
    "        if ele == ele2:\n",
    "            c2 += 1\n",
    "\n",
    "    # If arr is [-1, -1, -1, -1.....] this condition will handle it\n",
    "    if ele1 == ele2:\n",
    "        return [ele1]\n",
    "    if c1 > n // 3 and c2 > n//3:\n",
    "        return [ele1, ele2]\n",
    "    elif c1 > n // 3:\n",
    "        return [ele1]\n",
    "    elif c2 > n // 3:\n",
    "        return [ele2]\n",
    "    else:\n",
    "        return []"
   ]
  },
  {
   "cell_type": "markdown",
   "id": "467eb3cd",
   "metadata": {},
   "source": [
    "# Grid Unique Paths"
   ]
  },
  {
   "cell_type": "code",
   "execution_count": null,
   "id": "e2b72781",
   "metadata": {},
   "outputs": [],
   "source": [
    "# DP Solution\n",
    "def uniquePaths(m: int, n: int) -> int:\n",
    "    if n == 1 and m == 1:\n",
    "        return 1\n",
    "    dp = [[0 for _ in range(m)] for _ in range(n)]\n",
    "\n",
    "    for i in range(n):\n",
    "        for j in range(m):\n",
    "            if i == 0 and j == 0:\n",
    "                dp[0][0] = 0\n",
    "            elif i == 0:\n",
    "                dp[0][j] = 1\n",
    "            elif j == 0:\n",
    "                dp[i][j] = 1\n",
    "            else:\n",
    "                dp[i][j] = dp[i-1][j] + dp[i][j-1]\n",
    "\n",
    "    return dp[n-1][m-1]\n",
    "\n",
    "# Maths\n",
    "def uniquePaths(m: int, n: int) -> int:\n",
    "    maximumMoves = m+n-2\n",
    "    \n",
    "    # Calculate combinations\n",
    "    res = 1\n",
    "    for i in range(maximumMoves-n+2, maximumMoves+1):\n",
    "        res *= i\n",
    "\n",
    "    for i in range(1, n):\n",
    "        res //= i\n",
    "\n",
    "    return res"
   ]
  },
  {
   "cell_type": "markdown",
   "id": "4ff8f2ed",
   "metadata": {},
   "source": [
    "# Reverse Pairs"
   ]
  },
  {
   "cell_type": "code",
   "execution_count": null,
   "id": "1bfffa70",
   "metadata": {},
   "outputs": [],
   "source": [
    "class Solution:\n",
    "    def merge(self, left, right):\n",
    "        temp = []\n",
    "        n = len(left)\n",
    "        m = len(right)\n",
    "        \n",
    "        j = 0\n",
    "        for ele in left:\n",
    "            while j < m and ele > 2 * right[j]:\n",
    "                j += 1\n",
    "            self.count += j\n",
    "        \n",
    "        i = 0\n",
    "        j = 0\n",
    "        \n",
    "        while i < n and j < m:\n",
    "            if left[i] > right[j]:\n",
    "                temp.append(right[j])\n",
    "                j += 1\n",
    "            else:\n",
    "                temp.append(left[i])\n",
    "                i += 1\n",
    "        \n",
    "        while i < n:\n",
    "            temp.append(left[i])\n",
    "            i += 1\n",
    "        \n",
    "        while j < m:\n",
    "            temp.append(right[j])\n",
    "            j += 1\n",
    "            \n",
    "        return temp\n",
    "    \n",
    "    def mergeSort(self, nums, low, high):\n",
    "        if low == high:\n",
    "            return [nums[low]]\n",
    "        \n",
    "        mid = low + (high - low) // 2\n",
    "        \n",
    "        left = self.mergeSort(nums, low, mid)\n",
    "        right = self.mergeSort(nums, mid+1, high)\n",
    "        \n",
    "        return self.merge(left, right)\n",
    "    \n",
    "    def reversePairs(self, nums: List[int]) -> int:\n",
    "        self.count = 0\n",
    "        print(self.mergeSort(nums, 0, len(nums)-1))\n",
    "        return self.count"
   ]
  }
 ],
 "metadata": {
  "kernelspec": {
   "display_name": "Python 3 (ipykernel)",
   "language": "python",
   "name": "python3"
  },
  "language_info": {
   "codemirror_mode": {
    "name": "ipython",
    "version": 3
   },
   "file_extension": ".py",
   "mimetype": "text/x-python",
   "name": "python",
   "nbconvert_exporter": "python",
   "pygments_lexer": "ipython3",
   "version": "3.8.10"
  }
 },
 "nbformat": 4,
 "nbformat_minor": 5
}
