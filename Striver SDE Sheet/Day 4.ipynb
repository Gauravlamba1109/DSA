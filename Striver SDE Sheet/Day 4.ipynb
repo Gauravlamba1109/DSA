{
 "cells": [
  {
   "cell_type": "markdown",
   "id": "f65485d2",
   "metadata": {},
   "source": [
    "# [2 Sum Problem](https://www.geeksforgeeks.org/given-an-array-a-and-a-number-x-check-for-pair-in-a-with-sum-as-x/)"
   ]
  },
  {
   "cell_type": "code",
   "execution_count": null,
   "id": "c9cd94ae",
   "metadata": {},
   "outputs": [],
   "source": [
    "def twoSum(A, B):\n",
    "    table = {}\n",
    "\n",
    "    for i, ele in enumerate(A):\n",
    "        if B - ele in table:\n",
    "            return table[B-ele], i+1\n",
    "\n",
    "        # if the array contains multiple same number it will store the idx of first occurence\n",
    "        if ele not in table:\n",
    "            table[ele] = i+1\n",
    "\n",
    "    return []"
   ]
  },
  {
   "cell_type": "markdown",
   "id": "981a012a",
   "metadata": {},
   "source": [
    "# [4 Sum Problem](https://www.geeksforgeeks.org/find-four-elements-that-sum-to-a-given-value-set-2/)"
   ]
  },
  {
   "cell_type": "code",
   "execution_count": null,
   "id": "20d1ec8f",
   "metadata": {},
   "outputs": [],
   "source": [
    "def fourSum(A, B):\n",
    "    n = len(A)\n",
    "    result = dict()\n",
    "    \n",
    "    for i in range(n-3):\n",
    "        for j in range(i+1, n-2):\n",
    "            S = B - A[i] - A[j]\n",
    "            mapper = dict()\n",
    "            \n",
    "            for k in range(j+1, n):\n",
    "                if S-A[k] in mapper:\n",
    "                    res = tuple(sorted([A[i], A[j], A[k], S-A[k]]))\n",
    "                    if res not in result:\n",
    "                        result[res] = True\n",
    "                \n",
    "                mapper[A[k]] = True\n",
    "\n",
    "    return sorted(result.keys())"
   ]
  },
  {
   "cell_type": "markdown",
   "id": "c23764c5",
   "metadata": {},
   "source": [
    "# [Longest Consecutive Sequence](https://www.geeksforgeeks.org/longest-consecutive-subsequence/)"
   ]
  },
  {
   "cell_type": "code",
   "execution_count": null,
   "id": "0cf706fe",
   "metadata": {},
   "outputs": [],
   "source": [
    "def findLongestConseqSubseq(nums):\n",
    "    D = set(nums)\n",
    "\n",
    "    largest_seq = 0\n",
    "    for ele in nums:\n",
    "        if not ele - 1 in D:\n",
    "            current_num = ele\n",
    "            current_seq = 0\n",
    "\n",
    "            while current_num in D:\n",
    "                current_seq += 1\n",
    "                current_num += 1\n",
    "\n",
    "            largest_seq = max(largest_seq, current_seq)\n",
    "\n",
    "    return largest_seq"
   ]
  },
  {
   "cell_type": "markdown",
   "id": "2df92f75",
   "metadata": {},
   "source": [
    "# [Larget Subarray with 0 Sum](https://www.geeksforgeeks.org/find-the-largest-subarray-with-0-sum/)"
   ]
  },
  {
   "cell_type": "code",
   "execution_count": null,
   "id": "862b6038",
   "metadata": {},
   "outputs": [],
   "source": [
    "def lszero(A):\n",
    "    mapper = dict()\n",
    "    s = 0\n",
    "    start = -1\n",
    "    end = -2\n",
    "\n",
    "    for i, ele in enumerate(A):\n",
    "        s += ele\n",
    "        if s == 0 and i > end-start:\n",
    "            start = -1\n",
    "            end = i\n",
    "        elif s in mapper:\n",
    "            if i - mapper[s] > end-start:\n",
    "                start = mapper[s]\n",
    "                end = i\n",
    "        else:\n",
    "            mapper[s] = i\n",
    "\n",
    "    start += 1\n",
    "\n",
    "    return A[start:end+1] if sum(A[start:end+1]) == 0 else []"
   ]
  },
  {
   "cell_type": "markdown",
   "id": "6114a929",
   "metadata": {},
   "source": [
    "# [Count number of Subarrays with given xor](https://www.geeksforgeeks.org/count-number-subarrays-given-xor/)"
   ]
  },
  {
   "cell_type": "code",
   "execution_count": null,
   "id": "ad0d6b8f",
   "metadata": {},
   "outputs": [],
   "source": [
    "def solve(A, B):\n",
    "    count = 0\n",
    "    xor = 0\n",
    "    mapper = dict()\n",
    "\n",
    "    for i, ele in enumerate(A):\n",
    "        xor = xor ^ ele\n",
    "\n",
    "        if xor^B in mapper:\n",
    "            count += mapper[xor^B]\n",
    "        if xor == B:\n",
    "            count += 1\n",
    "\n",
    "        if xor in mapper:\n",
    "            mapper[xor] += 1\n",
    "        else:\n",
    "            mapper[xor] = 1\n",
    "\n",
    "    return count"
   ]
  },
  {
   "cell_type": "markdown",
   "id": "4c118c1d",
   "metadata": {},
   "source": [
    "# [Longest Substring without repeat](https://www.geeksforgeeks.org/length-of-the-longest-substring-without-repeating-characters/)"
   ]
  },
  {
   "cell_type": "code",
   "execution_count": null,
   "id": "a3572c51",
   "metadata": {},
   "outputs": [],
   "source": [
    "def lengthOfLongestSubstring(A):\n",
    "    i = 0\n",
    "    j = 0\n",
    "    n = len(A)\n",
    "\n",
    "    chars_count = {}\n",
    "    longest_substring = -1\n",
    "\n",
    "    while j < n:\n",
    "        if A[j] not in chars_count:\n",
    "            chars_count[A[j]] = 1\n",
    "        else:\n",
    "            while A[j] in chars_count:\n",
    "                del chars_count[A[i]]\n",
    "                i += 1\n",
    "            chars_count[A[j]] = 1\n",
    "\n",
    "        if j - i + 1 > longest_substring:\n",
    "            longest_substring = j - i + 1\n",
    "\n",
    "        j += 1\n",
    "\n",
    "    return longest_substring"
   ]
  }
 ],
 "metadata": {
  "kernelspec": {
   "display_name": "Python 3 (ipykernel)",
   "language": "python",
   "name": "python3"
  },
  "language_info": {
   "codemirror_mode": {
    "name": "ipython",
    "version": 3
   },
   "file_extension": ".py",
   "mimetype": "text/x-python",
   "name": "python",
   "nbconvert_exporter": "python",
   "pygments_lexer": "ipython3",
   "version": "3.10.2"
  }
 },
 "nbformat": 4,
 "nbformat_minor": 5
}
