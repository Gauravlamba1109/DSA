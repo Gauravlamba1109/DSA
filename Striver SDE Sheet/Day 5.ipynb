{
 "cells": [
  {
   "cell_type": "markdown",
   "id": "cf1428bb",
   "metadata": {},
   "source": [
    "# [Reverse a LinkedList](https://www.geeksforgeeks.org/reverse-a-linked-list/)"
   ]
  },
  {
   "cell_type": "code",
   "execution_count": null,
   "id": "bf93708f",
   "metadata": {},
   "outputs": [],
   "source": [
    "def reverse_linked_list(head):\n",
    "    prev_node = None\n",
    "    while head != None:\n",
    "        next_node = head.next\n",
    "        head.next = prev_node\n",
    "        prev_node = head\n",
    "        head = next_node\n",
    "\n",
    "    return prev_node"
   ]
  },
  {
   "cell_type": "markdown",
   "id": "6018bd13",
   "metadata": {},
   "source": [
    "# [Find middle of LinkedList](https://www.geeksforgeeks.org/write-a-c-function-to-print-the-middle-of-the-linked-list/)"
   ]
  },
  {
   "cell_type": "code",
   "execution_count": null,
   "id": "61a6b739",
   "metadata": {},
   "outputs": [],
   "source": [
    "def middle_of_linked_list(head):\n",
    "    temp_node = head\n",
    "    fast_node = head\n",
    "\n",
    "    while fast_node != None and fast_node.next != None:\n",
    "        temp_node = temp_node.next\n",
    "        fast_node = fast_node.next.next\n",
    "\n",
    "    return temp_node"
   ]
  },
  {
   "cell_type": "markdown",
   "id": "7c33cd94",
   "metadata": {},
   "source": [
    "# [Merge two sorted Linked List](https://www.geeksforgeeks.org/merge-two-sorted-linked-lists/)"
   ]
  },
  {
   "cell_type": "code",
   "execution_count": null,
   "id": "386bcac7",
   "metadata": {},
   "outputs": [],
   "source": [
    "def mergeTwoLists(A, B):\n",
    "    newHead = ListNode(0)\n",
    "    temp = newHead\n",
    "\n",
    "    A_head = A \n",
    "    B_head = B \n",
    "\n",
    "    while A_head != None and B_head != None:\n",
    "        if A_head.val < B_head.val:\n",
    "            temp.next = A_head\n",
    "            A_head = A_head.next\n",
    "        else:\n",
    "            temp.next = B_head\n",
    "            B_head = B_head.next\n",
    "        temp = temp.next\n",
    "        temp.next = None\n",
    "\n",
    "    if A_head != None:\n",
    "        temp.next = A_head\n",
    "\n",
    "    if B_head != None:\n",
    "        temp.next = B_head\n",
    "\n",
    "    return newHead.next"
   ]
  },
  {
   "cell_type": "markdown",
   "id": "2892aea2",
   "metadata": {},
   "source": [
    "# [Remove N-th node from back of LinkedList](https://www.geeksforgeeks.org/delete-nth-node-from-the-end-of-the-given-linked-list/)"
   ]
  },
  {
   "cell_type": "code",
   "execution_count": null,
   "id": "9e9fe958",
   "metadata": {},
   "outputs": [],
   "source": [
    "class Solution:\n",
    "    def getLength(self, head):\n",
    "        count = 0\n",
    "        while head != None:\n",
    "            count += 1\n",
    "            head = head.next\n",
    "        \n",
    "        return count\n",
    "\n",
    "    def removeNthFromEnd(self, A, B):\n",
    "        N = self.getLength(A)\n",
    "\n",
    "        if B >= N:\n",
    "            return A.next\n",
    "        \n",
    "        t = N - B\n",
    "\n",
    "        temp = A\n",
    "        for _ in range(t-1): \n",
    "            temp = temp.next\n",
    "        \n",
    "        temp.next = temp.next.next\n",
    "        return A"
   ]
  },
  {
   "cell_type": "markdown",
   "id": "017ffebb",
   "metadata": {},
   "source": [
    "# [Delete a given Node when a node is given. (0(1) solution)](https://www.geeksforgeeks.org/given-only-a-pointer-to-a-node-to-be-deleted-in-a-singly-linked-list-how-do-you-delete-it/)"
   ]
  },
  {
   "cell_type": "code",
   "execution_count": null,
   "id": "2b0da327",
   "metadata": {},
   "outputs": [],
   "source": [
    "def deleteNode(node):\n",
    "    node.val = node.next.val\n",
    "    node.next = node.next.next"
   ]
  },
  {
   "cell_type": "markdown",
   "id": "278273b4",
   "metadata": {},
   "source": [
    "# [Add two numbers as LinkedList](https://www.geeksforgeeks.org/add-two-numbers-represented-by-linked-lists/)"
   ]
  },
  {
   "cell_type": "code",
   "execution_count": null,
   "id": "26dbc94b",
   "metadata": {},
   "outputs": [],
   "source": [
    "def addTwoNumbers(A, B):\n",
    "    res = ListNode(0)\n",
    "    resHead = res\n",
    "\n",
    "    head1 = A \n",
    "    head2 = B\n",
    "    carry = 0\n",
    "\n",
    "    while head1 != None and head2 != None:\n",
    "        tempSum = (head1.val + head2.val + carry) % 10\n",
    "        tempCarry = (head1.val + head2.val + carry) // 10\n",
    "\n",
    "        res.next = ListNode(tempSum)\n",
    "        res = res.next\n",
    "\n",
    "        head1 = head1.next\n",
    "        head2 = head2.next\n",
    "        carry = tempCarry\n",
    "\n",
    "    while head1 != None:\n",
    "        tempSum = (head1.val + carry) % 10\n",
    "        tempCarry = (head1.val + carry) // 10\n",
    "\n",
    "        res.next = ListNode(tempSum)\n",
    "        res = res.next\n",
    "        carry = tempCarry\n",
    "        head1 = head1.next\n",
    "\n",
    "    while head2 != None:\n",
    "        tempSum = (head2.val + carry) % 10\n",
    "        tempCarry = (head2.val + carry) // 10\n",
    "\n",
    "        res.next = ListNode(tempSum)\n",
    "        res = res.next\n",
    "        carry = tempCarry\n",
    "        head2 = head2.next\n",
    "\n",
    "    if carry > 0:\n",
    "        res.next = ListNode(carry)\n",
    "        res = res.next\n",
    "\n",
    "    return resHead.next"
   ]
  }
 ],
 "metadata": {
  "kernelspec": {
   "display_name": "Python 3 (ipykernel)",
   "language": "python",
   "name": "python3"
  },
  "language_info": {
   "codemirror_mode": {
    "name": "ipython",
    "version": 3
   },
   "file_extension": ".py",
   "mimetype": "text/x-python",
   "name": "python",
   "nbconvert_exporter": "python",
   "pygments_lexer": "ipython3",
   "version": "3.10.2"
  }
 },
 "nbformat": 4,
 "nbformat_minor": 5
}
