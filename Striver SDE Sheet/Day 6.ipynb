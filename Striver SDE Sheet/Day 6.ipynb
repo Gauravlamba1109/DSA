{
 "cells": [
  {
   "cell_type": "markdown",
   "id": "2b5cc870",
   "metadata": {},
   "source": [
    "# [Find intersection point of Y LinkedList](https://www.geeksforgeeks.org/write-a-function-to-get-the-intersection-point-of-two-linked-lists/)"
   ]
  },
  {
   "cell_type": "code",
   "execution_count": null,
   "id": "9689ad1d",
   "metadata": {},
   "outputs": [],
   "source": [
    "def getIntersectionNode(headA, headB):\n",
    "    if headA == None or headB == None:\n",
    "        return None\n",
    "\n",
    "    head_a = headA\n",
    "    head_b = headB\n",
    "\n",
    "    while (head_a != head_b):\n",
    "        head_a = head_a.next if head_a != None else headB\n",
    "        head_b = head_b.next if head_b != None else headA\n",
    "\n",
    "    return head_a"
   ]
  },
  {
   "cell_type": "markdown",
   "id": "d03148b5",
   "metadata": {},
   "source": [
    "# [Detect a cycle in Linked List](https://www.geeksforgeeks.org/write-a-function-to-get-the-intersection-point-of-two-linked-lists/)"
   ]
  },
  {
   "cell_type": "code",
   "execution_count": null,
   "id": "138bdd1f",
   "metadata": {},
   "outputs": [],
   "source": [
    "def hasCycle(head):\n",
    "    if head == None or head.next == None:\n",
    "        return False\n",
    "\n",
    "    slow_node = head\n",
    "    fast_node = head.next\n",
    "\n",
    "    while slow_node != fast_node:\n",
    "        if fast_node == None or fast_node.next == None:\n",
    "            return False\n",
    "\n",
    "        slow_node = slow_node.next\n",
    "        fast_node = fast_node.next.next\n",
    "\n",
    "    return True"
   ]
  },
  {
   "cell_type": "markdown",
   "id": "038601fc",
   "metadata": {},
   "source": [
    "# [Reverse a LinkedList in groups of size k](https://www.geeksforgeeks.org/reverse-a-list-in-groups-of-given-size/)"
   ]
  },
  {
   "cell_type": "code",
   "execution_count": null,
   "id": "0dfb578b",
   "metadata": {},
   "outputs": [],
   "source": [
    "class Solution:\n",
    "    def getLength(self, node):\n",
    "        count = 0\n",
    "        while node != None:\n",
    "            count += 1\n",
    "            node = node.next\n",
    "        \n",
    "        return count \n",
    "\n",
    "    def reverseList(self, A, B):\n",
    "        n = self.getLength(A)\n",
    "\n",
    "        dummy = ListNode(0)\n",
    "        prevNode = dummy\n",
    "        dummy.next = A\n",
    "        currNode = A\n",
    "\n",
    "        while n >= B:\n",
    "            currNode = prevNode.next\n",
    "            nextNode = currNode.next\n",
    "\n",
    "            for _ in range(1, B):\n",
    "                currNode.next = nextNode.next\n",
    "                nextNode.next = prevNode.next  # Note that currNode is not used here\n",
    "                prevNode.next = nextNode\n",
    "                nextNode = currNode.next\n",
    "            \n",
    "            prevNode = currNode\n",
    "            n -= B\n",
    "        \n",
    "        return dummy.next"
   ]
  },
  {
   "cell_type": "markdown",
   "id": "01d0aa47",
   "metadata": {},
   "source": [
    "# [Check if a LinkedList is palindrome or not.](https://www.geeksforgeeks.org/function-to-check-if-a-singly-linked-list-is-palindrome/)"
   ]
  },
  {
   "cell_type": "code",
   "execution_count": null,
   "id": "6f65e950",
   "metadata": {},
   "outputs": [],
   "source": [
    "class Solution:\n",
    "    def findMiddle(self, node):\n",
    "        slow = node\n",
    "        fast = node\n",
    "\n",
    "        while fast != None and fast.next != None:\n",
    "            slow = slow.next\n",
    "            fast = fast.next.next\n",
    "\n",
    "        return slow\n",
    "    \n",
    "    def reverse(self, node):\n",
    "        prev = None\n",
    "        while node != None:\n",
    "            nextNode = node.next\n",
    "            node.next = prev\n",
    "            prev = node\n",
    "            node = nextNode\n",
    "        \n",
    "        return prev\n",
    "        \n",
    "    def lPalin(self, A):\n",
    "        if A == None:\n",
    "            return 0\n",
    "        middle = self.findMiddle(A)\n",
    "        node = self.reverse(middle)\n",
    "\n",
    "        while A != None and node != None:\n",
    "            if A.val != node.val:\n",
    "                return 0\n",
    "            A = A.next\n",
    "            node = node.next\n",
    "\n",
    "        return 1"
   ]
  },
  {
   "cell_type": "markdown",
   "id": "6a2ddda6",
   "metadata": {},
   "source": [
    "# [Find the starting point of the Loop of LinkedList](https://www.geeksforgeeks.org/find-first-node-of-loop-in-a-linked-list/)"
   ]
  },
  {
   "cell_type": "code",
   "execution_count": null,
   "id": "15d27221",
   "metadata": {},
   "outputs": [],
   "source": [
    "def detectCycle(A):\n",
    "    if A == None or A.next == None:\n",
    "        return None\n",
    "\n",
    "    slow = A.next\n",
    "    fast = A.next.next\n",
    "    prev = None\n",
    "\n",
    "    while fast and fast.next:\n",
    "        if slow == fast:\n",
    "            break\n",
    "\n",
    "        prev = slow\n",
    "        slow = slow.next\n",
    "        fast = fast.next.next\n",
    "\n",
    "    if slow == fast:\n",
    "        slow = A \n",
    "        while slow != fast:\n",
    "            prev = fast\n",
    "            slow = slow.next\n",
    "            fast = fast.next\n",
    "\n",
    "        return fast\n",
    "\n",
    "    return None"
   ]
  },
  {
   "cell_type": "markdown",
   "id": "6f8c54bf",
   "metadata": {},
   "source": [
    "# [Flattening of a LinkedList](https://www.geeksforgeeks.org/flattening-a-linked-list/)"
   ]
  },
  {
   "cell_type": "code",
   "execution_count": null,
   "id": "00120863",
   "metadata": {},
   "outputs": [],
   "source": [
    "class Solution:\n",
    "    def merge(self, l1, l2):\n",
    "        l1_temp = l1\n",
    "        l2_temp = l2\n",
    "\n",
    "        head_node = Node(0)\n",
    "        temp_node = head_node\n",
    "\n",
    "        while l1_temp != None and l2_temp != None:\n",
    "            if l1_temp.data < l2_temp.data:\n",
    "                temp_node.bottom = l1_temp\n",
    "                temp_node = temp_node.bottom\n",
    "                l1_temp = l1_temp.bottom\n",
    "            else:\n",
    "                temp_node.bottom = l2_temp\n",
    "                temp_node = temp_node.bottom\n",
    "                l2_temp = l2_temp.bottom\n",
    "\n",
    "        if l1_temp != None:\n",
    "            temp_node.bottom = l1_temp\n",
    "        else:\n",
    "            temp_node.bottom = l2_temp\n",
    "\n",
    "        return head_node.bottom\n",
    "\n",
    "    def flatten(self, root):\n",
    "        if root == None or root.next == None:\n",
    "            return root\n",
    "\n",
    "        root.next = self.flatten(root.next)\n",
    "        root = self.merge(root, root.next)\n",
    "\n",
    "        return root"
   ]
  },
  {
   "cell_type": "markdown",
   "id": "b4b7076a",
   "metadata": {},
   "source": [
    "# [Rotate a LinkedList](https://www.geeksforgeeks.org/rotate-a-linked-list/)"
   ]
  },
  {
   "cell_type": "code",
   "execution_count": null,
   "id": "c3f67e41",
   "metadata": {},
   "outputs": [],
   "source": [
    "def rotateRight(self, head, k):\n",
    "    if head == None or head.next == None or k == 0:\n",
    "        return head\n",
    "\n",
    "    temp_head = head\n",
    "    n = 0\n",
    "    while temp_head.next != None:\n",
    "        n += 1\n",
    "        temp_head = temp_head.next\n",
    "    n += 1    \n",
    "\n",
    "    last_node = temp_head\n",
    "\n",
    "    total_rotation = k % n\n",
    "    if total_rotation == 0:\n",
    "        return head\n",
    "\n",
    "    count = n - total_rotation - 1\n",
    "\n",
    "    temp_node = head\n",
    "    for _ in range(count):\n",
    "        temp_node = temp_node.next\n",
    "\n",
    "    new_head = temp_node.next\n",
    "    temp_node.next = None\n",
    "\n",
    "    last_node.next = head\n",
    "\n",
    "    return new_head"
   ]
  }
 ],
 "metadata": {
  "kernelspec": {
   "display_name": "Python 3 (ipykernel)",
   "language": "python",
   "name": "python3"
  },
  "language_info": {
   "codemirror_mode": {
    "name": "ipython",
    "version": 3
   },
   "file_extension": ".py",
   "mimetype": "text/x-python",
   "name": "python",
   "nbconvert_exporter": "python",
   "pygments_lexer": "ipython3",
   "version": "3.10.2"
  }
 },
 "nbformat": 4,
 "nbformat_minor": 5
}
