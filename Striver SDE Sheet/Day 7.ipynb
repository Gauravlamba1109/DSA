{
 "cells": [
  {
   "cell_type": "markdown",
   "id": "caa12a51",
   "metadata": {},
   "source": [
    "# Clone a Linked List with random and next pointer"
   ]
  },
  {
   "cell_type": "code",
   "execution_count": null,
   "id": "f87edb7e",
   "metadata": {},
   "outputs": [],
   "source": [
    "def copyRandomList(head):\n",
    "    if head == None:\n",
    "        return None\n",
    "\n",
    "    temp_head = head\n",
    "\n",
    "    while temp_head != None:\n",
    "        new_node = Node(temp_head.val, temp_head.next)\n",
    "        temp_head.next = new_node\n",
    "        temp_head = new_node.next\n",
    "\n",
    "    temp_head = head\n",
    "    while temp_head != None:\n",
    "        copy_node = temp_head.next\n",
    "        copy_node.random = temp_head.random.next if temp_head.random != None else None\n",
    "        temp_head = copy_node.next\n",
    "\n",
    "    new_head = head.next\n",
    "    head.next = new_head.next\n",
    "    temp_head = new_head\n",
    "    temp_node = new_head.next\n",
    "    while temp_node != None:\n",
    "        temp_head.next = temp_node.next\n",
    "        temp_head = temp_head.next\n",
    "        temp_node.next = temp_head.next\n",
    "        temp_node = temp_node.next\n",
    "\n",
    "    return new_head"
   ]
  },
  {
   "cell_type": "markdown",
   "id": "0f70dbc7",
   "metadata": {},
   "source": [
    "# 3 sum\n",
    "\n",
    "Can also be done with using hashmap that too without sorting but the overall complexity is O(N2) ans sorting is O(NlogN) so confirm is modification of array can be done or not since Hash Map requires some space complexiy I think sorting method is good."
   ]
  },
  {
   "cell_type": "code",
   "execution_count": null,
   "id": "33e0b39d",
   "metadata": {},
   "outputs": [],
   "source": [
    "def threeSumClosest(A, B):\n",
    "    A.sort()\n",
    "    \n",
    "    n = len(A)\n",
    "    result = 0\n",
    "    close = float('inf')\n",
    "    \n",
    "    for i, ele in enumerate(A[:n-2]):\n",
    "        left = i+1\n",
    "        right = n-1\n",
    "\n",
    "        while left < right:\n",
    "            if abs(A[left] + A[right] + ele - B) < close:\n",
    "                close = abs(A[left] + A[right] + ele - B)\n",
    "                result = A[left] + A[right] + ele\n",
    "\n",
    "            if A[left] + A[right] < B-ele:\n",
    "                left += 1\n",
    "            else:\n",
    "                right -= 1\n",
    "\n",
    "    return result"
   ]
  },
  {
   "cell_type": "markdown",
   "id": "308e909c",
   "metadata": {},
   "source": [
    "# Trapping rainwater"
   ]
  },
  {
   "cell_type": "code",
   "execution_count": null,
   "id": "b3967cc1",
   "metadata": {},
   "outputs": [],
   "source": [
    "def trap(A):\n",
    "    maxLeft = [A[0]]\n",
    "    for ele in A[1:]:\n",
    "        maxLeft.append(max(maxLeft[-1], ele))\n",
    "\n",
    "    maxRight = [A[-1]]\n",
    "    for ele in A[-1::-1]:\n",
    "        maxRight.append(max(maxRight[-1], ele))\n",
    "    maxRight = maxRight[::-1]\n",
    "\n",
    "    result = 0\n",
    "    for i in range(len(A)):\n",
    "        result += min(maxLeft[i], maxRight[i]) - A[i]\n",
    "\n",
    "    return result"
   ]
  },
  {
   "cell_type": "markdown",
   "id": "645eafa5",
   "metadata": {},
   "source": [
    "# Remove Duplicate from Sorted array"
   ]
  },
  {
   "cell_type": "code",
   "execution_count": null,
   "id": "fe4987af",
   "metadata": {},
   "outputs": [],
   "source": [
    "def removeDuplicates(A):\n",
    "    n = len(A)\n",
    "    if n == 1:\n",
    "        return 1\n",
    "    i = 0\n",
    "    j = 1\n",
    "\n",
    "    while j < n:\n",
    "        while j < n and A[i] == A[j]:\n",
    "            j += 1\n",
    "\n",
    "        if j < n and A[i] != A[j]:\n",
    "            i += 1\n",
    "            A[i] = A[j]\n",
    "            j += 1\n",
    "\n",
    "    return i+1"
   ]
  },
  {
   "cell_type": "markdown",
   "id": "182e9bcb",
   "metadata": {},
   "source": [
    "# Max consecutive ones"
   ]
  },
  {
   "cell_type": "code",
   "execution_count": 3,
   "id": "3da72921",
   "metadata": {},
   "outputs": [],
   "source": [
    "def solve(arr):\n",
    "    count = 0\n",
    "    maxCount = 0\n",
    "    \n",
    "    for ele in arr:\n",
    "        if ele == 0:\n",
    "            count = 0\n",
    "        else:\n",
    "            count += 1\n",
    "        \n",
    "        maxCount = max(maxCount, count)\n",
    "    \n",
    "    return maxCount"
   ]
  }
 ],
 "metadata": {
  "kernelspec": {
   "display_name": "Python 3 (ipykernel)",
   "language": "python",
   "name": "python3"
  },
  "language_info": {
   "codemirror_mode": {
    "name": "ipython",
    "version": 3
   },
   "file_extension": ".py",
   "mimetype": "text/x-python",
   "name": "python",
   "nbconvert_exporter": "python",
   "pygments_lexer": "ipython3",
   "version": "3.8.10"
  }
 },
 "nbformat": 4,
 "nbformat_minor": 5
}
