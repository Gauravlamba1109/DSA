{
 "cells": [
  {
   "cell_type": "markdown",
   "id": "5620eae6",
   "metadata": {},
   "source": [
    "# [N meeting in one room](https://www.geeksforgeeks.org/find-maximum-meetings-in-one-room/)"
   ]
  },
  {
   "cell_type": "code",
   "execution_count": null,
   "id": "96166b8a",
   "metadata": {},
   "outputs": [],
   "source": [
    "def maximumMeetings(n, start, end):\n",
    "    arr = [i for i in range(len(start))]\n",
    "\n",
    "    arr.sort(key=lambda x: [end[x], start[x], x])\n",
    "\n",
    "    maxEnd = end[arr[0]]\n",
    "    count = 1\n",
    "    for i in arr[1:]:\n",
    "        if start[i] > maxEnd:\n",
    "            count += 1\n",
    "            maxEnd = end[i]\n",
    "\n",
    "    return count"
   ]
  },
  {
   "cell_type": "markdown",
   "id": "a4605077",
   "metadata": {},
   "source": [
    "# [Minimum number of platforms required for a railway](https://www.geeksforgeeks.org/minimum-number-platforms-required-railwaybus-station/)"
   ]
  },
  {
   "cell_type": "code",
   "execution_count": null,
   "id": "9005471b",
   "metadata": {},
   "outputs": [],
   "source": [
    "def minimumPlatform(n,arr,dep):\n",
    "    arr.sort()\n",
    "    dep.sort()\n",
    "\n",
    "    i = 0\n",
    "    j = 0\n",
    "    temp = 0\n",
    "    count = 0\n",
    "\n",
    "    while i < n and j < n:\n",
    "        if arr[i] <= dep[j]:\n",
    "             temp += 1\n",
    "            i += 1\n",
    "        else:\n",
    "            temp -= 1\n",
    "            j += 1\n",
    "\n",
    "        count = max(temp, count)\n",
    "\n",
    "    return count"
   ]
  },
  {
   "cell_type": "markdown",
   "id": "4cd373e9",
   "metadata": {},
   "source": [
    "# [Job sequencing Problem](https://www.geeksforgeeks.org/job-sequencing-problem/)"
   ]
  },
  {
   "cell_type": "code",
   "execution_count": null,
   "id": "1d66a15f",
   "metadata": {},
   "outputs": [],
   "source": [
    "def JobScheduling(Jobs, n):\n",
    "    Jobs.sort(key = lambda x: x.profit, reverse=True)\n",
    "\n",
    "    maxDeadline = max(map(lambda x: x.deadline, Jobs))\n",
    "    arr = [-1 for _ in range(maxDeadline+1)]\n",
    "\n",
    "    count = 0\n",
    "    maxProfit = 0\n",
    "\n",
    "    for job in Jobs:\n",
    "        i = job.deadline\n",
    "        while i > 0 and arr[i] != -1:\n",
    "            i -= 1\n",
    "\n",
    "        if i == 0:\n",
    "            continue\n",
    "\n",
    "        arr[i] = job.id\n",
    "        count += 1\n",
    "        maxProfit += job.profit\n",
    "\n",
    "    return count, maxProfit"
   ]
  },
  {
   "cell_type": "markdown",
   "id": "639e9b58",
   "metadata": {},
   "source": [
    "# [Fractional Knapsack Problem](https://www.geeksforgeeks.org/fractional-knapsack-problem/#:~:text=In%20Fractional%20Knapsack%2C%20we%20can,called%20the%20fractional%20knapsack%20problem.&text=A%20brute%2Dforce%20solution%20would,be%20too%20much%20time%20taking.)"
   ]
  },
  {
   "cell_type": "code",
   "execution_count": 5,
   "id": "8c8066e3",
   "metadata": {},
   "outputs": [],
   "source": [
    "def solution(weights, cost, W, n):\n",
    "    arr = [i for i in range(n)]\n",
    "    arr.sort(key=lambda x: weights[x])\n",
    "    \n",
    "    current = 0\n",
    "    total = 0\n",
    "    \n",
    "    for i in arr:\n",
    "        if current + weights[i] <= W:\n",
    "            current += weights[i]\n",
    "            total += cost[i]\n",
    "        elif current == W:\n",
    "            break\n",
    "        else:\n",
    "            total += (cost[i]/weights[i]) * (W-current)\n",
    "            current = W\n",
    "            break\n",
    "    \n",
    "    return total"
   ]
  },
  {
   "cell_type": "markdown",
   "id": "5f4f2083",
   "metadata": {},
   "source": [
    "# [Greedy algorithm to find minimum number of coins](https://www.geeksforgeeks.org/greedy-algorithm-to-find-minimum-number-of-coins/)"
   ]
  },
  {
   "cell_type": "code",
   "execution_count": 8,
   "id": "0c00d5ef",
   "metadata": {},
   "outputs": [],
   "source": [
    "def minCoins(coins, M, V):\n",
    "    coins.sort(reverse=True)\n",
    "    \n",
    "    current = 0\n",
    "    count = 0\n",
    "    \n",
    "    i = 0\n",
    "    while i < V:\n",
    "        if coins[i] + current <= M:\n",
    "            current += coins[i]\n",
    "            count += 1\n",
    "        elif current == M:\n",
    "            break\n",
    "        else:\n",
    "            i += 1\n",
    "    \n",
    "    return count"
   ]
  },
  {
   "cell_type": "markdown",
   "id": "d1ee71aa",
   "metadata": {},
   "source": [
    "# [Activity Selection (it is same as N meeting in one room)](https://www.geeksforgeeks.org/activity-selection-problem-greedy-algo-1/)"
   ]
  },
  {
   "cell_type": "code",
   "execution_count": null,
   "id": "47022286",
   "metadata": {},
   "outputs": [],
   "source": [
    "def activitySelection(n, start, end):\n",
    "    arr = [i for i in range(n)]\n",
    "    arr.sort(key=lambda x: [end[x], start[x], x])\n",
    "\n",
    "    maxEnd = end[arr[0]]\n",
    "    count = 1\n",
    "    for i in arr[1:]:\n",
    "        if start[i] > maxEnd:\n",
    "            count += 1\n",
    "            maxEnd = end[i]\n",
    "\n",
    "    return count"
   ]
  }
 ],
 "metadata": {
  "kernelspec": {
   "display_name": "Python 3 (ipykernel)",
   "language": "python",
   "name": "python3"
  },
  "language_info": {
   "codemirror_mode": {
    "name": "ipython",
    "version": 3
   },
   "file_extension": ".py",
   "mimetype": "text/x-python",
   "name": "python",
   "nbconvert_exporter": "python",
   "pygments_lexer": "ipython3",
   "version": "3.10.2"
  }
 },
 "nbformat": 4,
 "nbformat_minor": 5
}
