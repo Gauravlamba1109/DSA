{
 "cells": [
  {
   "cell_type": "markdown",
   "id": "8da480e7",
   "metadata": {},
   "source": [
    "# [Sum of all subsets](https://takeuforward.org/data-structure/subset-sum-sum-of-all-subsets/)"
   ]
  },
  {
   "cell_type": "code",
   "execution_count": 5,
   "id": "01d7469f",
   "metadata": {},
   "outputs": [
    {
     "data": {
      "text/plain": [
       "[6, 4, 5, 3, 3, 1, 2, 0]"
      ]
     },
     "execution_count": 5,
     "metadata": {},
     "output_type": "execute_result"
    }
   ],
   "source": [
    "def helper(arr, s, res):\n",
    "    if not arr:\n",
    "        res.append(s)\n",
    "        return \n",
    "    \n",
    "    helper(arr[1:], s+arr[0], res)\n",
    "    helper(arr[1:], s, res)\n",
    "\n",
    "def solve(arr):\n",
    "    res = []\n",
    "    helper(arr, 0, res)\n",
    "    return res"
   ]
  },
  {
   "cell_type": "markdown",
   "id": "63eceef9",
   "metadata": {},
   "source": [
    "# [Print unique subsets](https://takeuforward.org/data-structure/subset-ii-print-all-the-unique-subsets/)"
   ]
  },
  {
   "cell_type": "code",
   "execution_count": 12,
   "id": "eafef193",
   "metadata": {},
   "outputs": [
    {
     "data": {
      "text/plain": [
       "[(2,), (2, 1), (3, 1), (3, 2, 1), (1,), (3, 2), (), (3,)]"
      ]
     },
     "execution_count": 12,
     "metadata": {},
     "output_type": "execute_result"
    }
   ],
   "source": [
    "def helper(arr, t, res):\n",
    "    if not arr and tuple(t) not in res:\n",
    "        res.add(tuple(t))\n",
    "        return\n",
    "    \n",
    "    helper(arr[1:], t+[arr[0]], res)\n",
    "    helper(arr[1:], t, res)\n",
    "\n",
    "def solve(arr):\n",
    "    res = set()\n",
    "    helper(arr, [], res)\n",
    "    return list(res)"
   ]
  },
  {
   "cell_type": "markdown",
   "id": "1470757f",
   "metadata": {},
   "source": [
    "# [Combination sum-1](https://leetcode.com/problems/combination-sum/)"
   ]
  },
  {
   "cell_type": "code",
   "execution_count": null,
   "id": "786cb773",
   "metadata": {},
   "outputs": [],
   "source": [
    "class Solution:\n",
    "    def helper(self, candidates, arr, s, target, res):\n",
    "        if s > target:\n",
    "            return\n",
    "        if not candidates:\n",
    "            if s == target and tuple(arr) not in res:\n",
    "                res.add(tuple(arr))\n",
    "            return\n",
    "        \n",
    "        self.helper(candidates, arr+[candidates[0]], s+candidates[0], target, res)\n",
    "        self.helper(candidates[1:], arr, s, target ,res)\n",
    "\n",
    "    def combinationSum(self, candidates: List[int], target: int) -> List[List[int]]:\n",
    "        res = set()\n",
    "        self.helper(candidates, [], 0, target, res)\n",
    "        return list(map(list, res))"
   ]
  },
  {
   "cell_type": "markdown",
   "id": "0bfa7acb",
   "metadata": {},
   "source": [
    "# [Combination sum-2](https://leetcode.com/problems/combination-sum-ii/)"
   ]
  },
  {
   "cell_type": "code",
   "execution_count": null,
   "id": "8474fba1",
   "metadata": {},
   "outputs": [],
   "source": [
    "class Solution:\n",
    "    def helper(self, candidates, arr, s, target, res):\n",
    "        if s > target:\n",
    "            return\n",
    "        if not candidates:\n",
    "            if s == target and tuple(arr) not in res:\n",
    "                res.add(tuple(arr))\n",
    "            return\n",
    "        \n",
    "        self.helper(candidates[1:], arr+[candidates[0]], s+candidates[0], target, res)\n",
    "        self.helper(candidates[1:], arr, s, target, res)\n",
    "    \n",
    "    def combinationSum2(self, candidates: List[int], target: int) -> List[List[int]]:\n",
    "        res = set()\n",
    "        candidates.sort()\n",
    "        self.helper(candidates, [], 0, target, res)\n",
    "        return (list(map(list, res)))"
   ]
  },
  {
   "cell_type": "markdown",
   "id": "e2aceddb",
   "metadata": {},
   "source": [
    "# [Palindrome Partitioning](https://www.geeksforgeeks.org/palindrome-partitioning-dp-17/)"
   ]
  },
  {
   "cell_type": "code",
   "execution_count": null,
   "id": "e769441d",
   "metadata": {},
   "outputs": [],
   "source": [
    "import math\n",
    "class Solution:\n",
    "    def is_palindrome(self, string):\n",
    "        if len(string) == 1:\n",
    "            return True\n",
    "        elif string == string[::-1]:\n",
    "            return True\n",
    "        return False\n",
    "        \n",
    "    def palindrome_partition_memo(self, string, i, j, t):\n",
    "        if i >= j:\n",
    "            return 0\n",
    "        if self.is_palindrome(string[i:j+1]):\n",
    "            return 0\n",
    "        if t[i][j] != -1:\n",
    "            return t[i][j]\n",
    "        \n",
    "        temp = math.inf\n",
    "        for k in range(i, j):\n",
    "            before = self.palindrome_partition_memo(string, i, k, t)\n",
    "            after  = self.palindrome_partition_memo(string, k+1, j, t)\n",
    "            temp = min(temp, before+after+1)\n",
    "        \n",
    "        t[i][j] = temp\n",
    "        return t[i][j]\n",
    "    \n",
    "    def partition(self, s: str) -> List[List[str]]:\n",
    "        n = len(s)\n",
    "        dp = [[-1 for _ in range(n+1)] for _ in range(n+1)]\n",
    "        result = self.palindrome_partition_memo(s, 0, n-1, dp)\n",
    "            \n",
    "        return result"
   ]
  },
  {
   "cell_type": "markdown",
   "id": "085eafa3",
   "metadata": {},
   "source": [
    "# [K-th permutation Sequence](geeksforgeeks.org/find-the-k-th-permutation-sequence-of-first-n-natural-numbers/)"
   ]
  },
  {
   "cell_type": "code",
   "execution_count": null,
   "id": "22798fe0",
   "metadata": {},
   "outputs": [],
   "source": [
    "def getPermutation(self, A, B):\n",
    "\n",
    "    arr=[i for i in range(1,A+1)]\n",
    "    ans=\"\"\n",
    "    while(arr):\n",
    "        index=B//(math.factorial(len(arr)-1)) \n",
    "\n",
    "        if(B%(math.factorial(len(arr)-1))==0):\n",
    "            index-=1\n",
    "        ans+=str(arr[index])\n",
    "\n",
    "        B=B-(math.factorial(len(arr)-1))*index\n",
    "\n",
    "        arr.remove(arr[index])\n",
    "    return(ans)"
   ]
  }
 ],
 "metadata": {
  "kernelspec": {
   "display_name": "Python 3 (ipykernel)",
   "language": "python",
   "name": "python3"
  },
  "language_info": {
   "codemirror_mode": {
    "name": "ipython",
    "version": 3
   },
   "file_extension": ".py",
   "mimetype": "text/x-python",
   "name": "python",
   "nbconvert_exporter": "python",
   "pygments_lexer": "ipython3",
   "version": "3.10.2"
  }
 },
 "nbformat": 4,
 "nbformat_minor": 5
}
